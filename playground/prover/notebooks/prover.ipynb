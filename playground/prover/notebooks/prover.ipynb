{
 "cells": [
  {
   "cell_type": "markdown",
   "id": "e40b05fb",
   "metadata": {},
   "source": [
    "# ACA-Py & ACC-Py Basic Template\n",
    "\n",
    "## Copy this template into the root folder of your notebook workspace to get started"
   ]
  },
  {
   "cell_type": "markdown",
   "id": "e8a4ea98",
   "metadata": {},
   "source": [
    "### Imports"
   ]
  },
  {
   "cell_type": "code",
   "execution_count": 1,
   "id": "cfcdbac0",
   "metadata": {},
   "outputs": [],
   "source": [
    "from aries_cloudcontroller import AriesAgentController\n",
    "import os\n",
    "from termcolor import colored"
   ]
  },
  {
   "cell_type": "markdown",
   "id": "4667a23a",
   "metadata": {},
   "source": [
    "### Initialise the Agent Controller"
   ]
  },
  {
   "cell_type": "code",
   "execution_count": 2,
   "id": "37db385d",
   "metadata": {},
   "outputs": [
    {
     "name": "stdout",
     "output_type": "stream",
     "text": [
      "Initialising a controller with admin api at http://prover-agent:3021 and an api key of adminApiKey\n"
     ]
    }
   ],
   "source": [
    "api_key = os.getenv(\"ACAPY_ADMIN_API_KEY\")\n",
    "admin_url = os.getenv(\"ADMIN_URL\")\n",
    "\n",
    "print(f\"Initialising a controller with admin api at {admin_url} and an api key of {api_key}\")\n",
    "agent_controller = AriesAgentController(admin_url,api_key)"
   ]
  },
  {
   "cell_type": "markdown",
   "id": "4e3a0f24",
   "metadata": {},
   "source": [
    "### Start a Webhook Server"
   ]
  },
  {
   "cell_type": "code",
   "execution_count": 3,
   "id": "ae78df31",
   "metadata": {},
   "outputs": [
    {
     "name": "stdout",
     "output_type": "stream",
     "text": [
      "Listening for webhooks from agent at http://0.0.0.0:3010\n"
     ]
    }
   ],
   "source": [
    "webhook_port = int(os.getenv(\"WEBHOOK_PORT\"))\n",
    "webhook_host = \"0.0.0.0\"\n",
    "\n",
    "await agent_controller.init_webhook_server(webhook_host, webhook_port)\n",
    "\n",
    "print(f\"Listening for webhooks from agent at http://{webhook_host}:{webhook_port}\")"
   ]
  },
  {
   "cell_type": "markdown",
   "id": "59bfcbf5",
   "metadata": {},
   "source": [
    "## Register Agent Event Listeners\n",
    "\n",
    "You can see some examples within the webhook_listeners recipe. Copy any relevant cells across and customise as needed."
   ]
  },
  {
   "cell_type": "code",
   "execution_count": 4,
   "id": "45a0063d",
   "metadata": {},
   "outputs": [],
   "source": [
    "listeners = []\n",
    "\n",
    "# Receive connection messages\n",
    "def connections_handler(payload):\n",
    "    state = payload['state']\n",
    "    connection_id = payload[\"connection_id\"]\n",
    "    their_role = payload[\"their_role\"]\n",
    "    routing_state = payload[\"routing_state\"]\n",
    "    \n",
    "    print(\"----------------------------------------------------------\")\n",
    "    print(\"Connection Webhook Event Received\")\n",
    "    print(\"Connection ID : \", connection_id)\n",
    "    print(\"State : \", state)\n",
    "    print(\"Routing State : \", routing_state)\n",
    "    print(\"Their Role : \", their_role)\n",
    "    print(\"----------------------------------------------------------\")\n",
    "\n",
    "    if state == \"invitation\":\n",
    "        # Your business logic\n",
    "        print(\"invitation\")\n",
    "    elif state == \"request\":\n",
    "        # Your business logic\n",
    "        print(\"request\")\n",
    "\n",
    "    elif state == \"response\":\n",
    "        # Your business logic\n",
    "        print(\"response\")\n",
    "    elif state == \"active\":\n",
    "        # Your business logic\n",
    "        print(colored(\"Connection ID: {0} is now active.\".format(connection_id), \"green\", attrs=[\"bold\"]))\n",
    "\n",
    "\n",
    "\n",
    "connection_listener = {\n",
    "    \"handler\": connections_handler,\n",
    "    \"topic\": \"connections\"\n",
    "}\n",
    "\n",
    "listeners.append(connection_listener)\n",
    "\n",
    "agent_controller.register_listeners(listeners)"
   ]
  },
  {
   "cell_type": "markdown",
   "id": "51a6e5b1",
   "metadata": {},
   "source": [
    "## Accept Invitation\n",
    "\n",
    "Copy an invitation object from another agent playing the role inviter (see the inviter_template recipe)"
   ]
  },
  {
   "cell_type": "code",
   "execution_count": 12,
   "id": "49f9b228",
   "metadata": {},
   "outputs": [],
   "source": [
    "invitation = {'@type': 'did:sov:BzCbsNYhMrjHiqZDTUASHg;spec/connections/1.0/invitation', '@id': '461920e6-8c56-4665-8171-bf80531b6007', 'label': 'Issuer', 'recipientKeys': ['7e2GBXu7opBR2c7awJD8m9yvyF6yMancFebisdGKT7gd'], 'serviceEndpoint': 'http://issuer-agent:3020'}\n"
   ]
  },
  {
   "cell_type": "code",
   "execution_count": 13,
   "id": "490c94ff",
   "metadata": {},
   "outputs": [
    {
     "name": "stdout",
     "output_type": "stream",
     "text": [
      "----------------------------------------------------------\n",
      "Connection Webhook Event Received\n",
      "Connection ID :  8ba709c5-ba62-4213-b6bd-ff17c84a4af6\n",
      "State :  invitation\n",
      "Routing State :  none\n",
      "Their Role :  inviter\n",
      "----------------------------------------------------------\n",
      "invitation\n",
      "----------------------------------------------------------\n",
      "Connection Webhook Event Received\n",
      "Connection ID :  8ba709c5-ba62-4213-b6bd-ff17c84a4af6\n",
      "State :  request\n",
      "Routing State :  none\n",
      "Their Role :  inviter\n",
      "----------------------------------------------------------\n",
      "request\n",
      "----------------------------------------------------------\n",
      "Connection Webhook Event Received\n",
      "Connection ID :  8ba709c5-ba62-4213-b6bd-ff17c84a4af6\n",
      "State :  response\n",
      "Routing State :  none\n",
      "Their Role :  inviter\n",
      "----------------------------------------------------------\n",
      "response\n",
      "----------------------------------------------------------\n",
      "Connection Webhook Event Received\n",
      "Connection ID :  8ba709c5-ba62-4213-b6bd-ff17c84a4af6\n",
      "State :  active\n",
      "Routing State :  none\n",
      "Their Role :  inviter\n",
      "----------------------------------------------------------\n",
      "\u001b[1m\u001b[32mConnection ID: 8ba709c5-ba62-4213-b6bd-ff17c84a4af6 is now active.\u001b[0m\n"
     ]
    }
   ],
   "source": [
    "auto_accept=\"true\"\n",
    "alias=None\n",
    "\n",
    "invite_response = await agent_controller.connections.receive_invitation(invitation, alias, auto_accept)\n",
    "connection_id = invite_response[\"connection_id\"]"
   ]
  },
  {
   "cell_type": "markdown",
   "id": "3d4e1b6a",
   "metadata": {},
   "source": [
    "## Your Own Business Logic\n",
    "\n",
    "Now you should have an established, active connection you can write any custom logic you want to engage with protocols with the connection"
   ]
  },
  {
   "cell_type": "code",
   "execution_count": 20,
   "id": "5a668f2f",
   "metadata": {},
   "outputs": [],
   "source": [
    "response = await agent_controller.credentials.get_all(count=100)"
   ]
  },
  {
   "cell_type": "code",
   "execution_count": 21,
   "id": "670510d3",
   "metadata": {},
   "outputs": [
    {
     "data": {
      "text/plain": [
       "36"
      ]
     },
     "execution_count": 21,
     "metadata": {},
     "output_type": "execute_result"
    }
   ],
   "source": [
    "len(response[\"results\"])"
   ]
  },
  {
   "cell_type": "markdown",
   "id": "ac41ee8b",
   "metadata": {},
   "source": [
    "## Terminate Controller\n",
    "\n",
    "Whenever you have finished with this notebook, be sure to terminate the controller. This is especially important if your business logic runs across multiple notebooks."
   ]
  },
  {
   "cell_type": "code",
   "execution_count": null,
   "id": "5d4951cf",
   "metadata": {},
   "outputs": [],
   "source": [
    "await agent_controller.terminate()"
   ]
  }
 ],
 "metadata": {
  "kernelspec": {
   "display_name": "Python 3",
   "language": "python",
   "name": "python3"
  },
  "language_info": {
   "codemirror_mode": {
    "name": "ipython",
    "version": 3
   },
   "file_extension": ".py",
   "mimetype": "text/x-python",
   "name": "python",
   "nbconvert_exporter": "python",
   "pygments_lexer": "ipython3",
   "version": "3.7.6"
  }
 },
 "nbformat": 4,
 "nbformat_minor": 5
}
