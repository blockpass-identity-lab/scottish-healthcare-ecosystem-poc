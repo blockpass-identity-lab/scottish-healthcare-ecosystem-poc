{
 "cells": [
  {
   "cell_type": "markdown",
   "id": "3ccb8e69",
   "metadata": {},
   "source": [
    "# Junior Doctor Joins the Scottish Deanery\n",
    "\n",
    "\n",
    "![](https://www.scotlanddeanery.nhs.scot/media/398547/deanerymap_v1_regions-01-002.png?width=662&height=372)\n"
   ]
  },
  {
   "cell_type": "markdown",
   "id": "694c998b",
   "metadata": {},
   "source": [
    "### Imports"
   ]
  },
  {
   "cell_type": "code",
   "execution_count": 1,
   "id": "7b741937",
   "metadata": {},
   "outputs": [],
   "source": [
    "from aries_cloudcontroller import AriesAgentController\n",
    "import os\n",
    "from termcolor import colored"
   ]
  },
  {
   "cell_type": "markdown",
   "id": "fb92b623",
   "metadata": {},
   "source": [
    "### Initialise the Agent Controller"
   ]
  },
  {
   "cell_type": "code",
   "execution_count": 2,
   "id": "ef33b26b",
   "metadata": {},
   "outputs": [
    {
     "name": "stdout",
     "output_type": "stream",
     "text": [
      "Initialising a controller with admin api at http://scottish-deanery-agent:3021 and an api key of DeaneryAPIKey\n"
     ]
    }
   ],
   "source": [
    "api_key = os.getenv(\"ACAPY_ADMIN_API_KEY\")\n",
    "admin_url = os.getenv(\"ADMIN_URL\")\n",
    "\n",
    "print(f\"Initialising a controller with admin api at {admin_url} and an api key of {api_key}\")\n",
    "agent_controller = AriesAgentController(admin_url,api_key)"
   ]
  },
  {
   "cell_type": "markdown",
   "id": "1ac51c50",
   "metadata": {},
   "source": [
    "### Start a Webhook Server"
   ]
  },
  {
   "cell_type": "code",
   "execution_count": 3,
   "id": "2ff0193e",
   "metadata": {},
   "outputs": [
    {
     "name": "stdout",
     "output_type": "stream",
     "text": [
      "Listening for webhooks from agent at http://0.0.0.0:3010\n"
     ]
    }
   ],
   "source": [
    "webhook_port = int(os.getenv(\"WEBHOOK_PORT\"))\n",
    "webhook_host = \"0.0.0.0\"\n",
    "\n",
    "await agent_controller.init_webhook_server(webhook_host, webhook_port)\n",
    "\n",
    "print(f\"Listening for webhooks from agent at http://{webhook_host}:{webhook_port}\")"
   ]
  },
  {
   "cell_type": "markdown",
   "id": "be8f2e3a",
   "metadata": {},
   "source": [
    "## Register Agent Event Listeners\n",
    "\n",
    "You can see some examples within the webhook_listeners recipe. Copy any relevant cells across and fill in additional logic as needed."
   ]
  },
  {
   "cell_type": "code",
   "execution_count": 4,
   "id": "4314752d",
   "metadata": {},
   "outputs": [],
   "source": [
    "listeners = []"
   ]
  },
  {
   "cell_type": "code",
   "execution_count": 5,
   "id": "b984a86f",
   "metadata": {},
   "outputs": [],
   "source": [
    "## YOUR LISTENERS HERE\n",
    "# Receive connection messages\n",
    "def connections_handler(payload):\n",
    "    state = payload['state']\n",
    "    connection_id = payload[\"connection_id\"]\n",
    "    their_role = payload[\"their_role\"]\n",
    "    routing_state = payload[\"routing_state\"]\n",
    "    \n",
    "    print(\"----------------------------------------------------------\")\n",
    "    print(\"Connection Webhook Event Received\")\n",
    "    print(\"Connection ID : \", connection_id)\n",
    "    print(\"State : \", state)\n",
    "    print(\"Routing State : \", routing_state)\n",
    "    print(\"Their Role : \", their_role)\n",
    "    print(\"----------------------------------------------------------\")\n",
    "    if state == \"active\":\n",
    "        # Your business logic\n",
    "        print(colored(\"Connection ID: {0} is now active.\".format(connection_id), \"green\", attrs=[\"bold\"]))\n",
    "\n",
    "connection_listener = {\n",
    "    \"handler\": connections_handler,\n",
    "    \"topic\": \"connections\"\n",
    "}\n",
    "\n",
    "listeners.append(connection_listener)"
   ]
  },
  {
   "cell_type": "code",
   "execution_count": 6,
   "id": "a320a748",
   "metadata": {},
   "outputs": [],
   "source": [
    "def issuer_handler(payload):\n",
    "    connection_id = payload['connection_id']\n",
    "    exchange_id = payload['credential_exchange_id']\n",
    "    state = payload['state']\n",
    "    role = payload['role']\n",
    "    print(\"\\n---------------------------------------------------\\n\")\n",
    "    print(\"Handle Issue Credential Webhook\")\n",
    "    print(f\"Connection ID : {connection_id}\")\n",
    "    print(f\"Credential exchange ID : {exchange_id}\")\n",
    "    print(\"Agent Protocol Role : \", role)\n",
    "    print(\"Protocol State : \", state )\n",
    "    print(\"\\n---------------------------------------------------\\n\")\n",
    "    \n",
    "    \n",
    "    if state == \"offer_sent\":\n",
    "        proposal = payload[\"credential_proposal_dict\"]\n",
    "        attributes = proposal['credential_proposal']['attributes']\n",
    "\n",
    "        print(f\"Offering credential with attributes  : {attributes}\")\n",
    "        ## YOUR LOGIC HERE\n",
    "    elif state == \"request_received\":\n",
    "        print(\"Request for credential received\")\n",
    "        ## YOUR LOGIC HERE\n",
    "    elif state == \"credential_sent\":\n",
    "        print(\"Credential Sent\")\n",
    "        ## YOUR LOGIC HERE\n",
    "    \n",
    "issuer_listener = {\n",
    "    \"topic\": \"issue_credential\",\n",
    "    \"handler\": issuer_handler\n",
    "}\n",
    "\n",
    "listeners.append(issuer_listener)"
   ]
  },
  {
   "cell_type": "code",
   "execution_count": 7,
   "id": "50280160",
   "metadata": {},
   "outputs": [],
   "source": [
    "\n",
    "def verifier_proof_handler(payload):\n",
    "    role = payload[\"role\"]\n",
    "    connection_id = payload[\"connection_id\"]\n",
    "    pres_ex_id = payload[\"presentation_exchange_id\"]\n",
    "    state = payload[\"state\"]\n",
    "    print(\"\\n---------------------------------------------------------------------\\n\")\n",
    "    print(\"Handle present-proof\")\n",
    "    print(\"Connection ID : \", connection_id)\n",
    "    print(\"Presentation Exchange ID : \", pres_ex_id)\n",
    "    print(\"Protocol State : \", state)\n",
    "    print(\"Agent Role : \", role)\n",
    "    print(\"Initiator : \", payload[\"initiator\"])\n",
    "    print(\"\\n---------------------------------------------------------------------\\n\")\n",
    "    \n",
    "\n",
    "    if state == \"request_sent\":\n",
    "        print(\"Presentation Request\\n\")\n",
    "        print(payload[\"presentation_request\"])\n",
    "        print(\"\\nThe presentation request is encoded in base64 and packaged into a DIDComm Message\\n\")\n",
    "        print(payload[\"presentation_request_dict\"])\n",
    "        print(\"\\nNote the type defines the protocol present-proof and the message request-presentation\\n\")\n",
    "        print(payload[\"presentation_request_dict\"][\"@type\"])\n",
    "    elif state == \"presentation_received\":\n",
    "        print(\"Presentation Received\")\n",
    "        print(\"We will not go into detail on this payload as it is comparable to the presentation_sent we looked at in the earlier cell.\")\n",
    "    elif state == \"verified\":\n",
    "        print(\"Presentation has been checked\")\n",
    "        print(\"Is Verified ? \", payload[\"verified\"])\n",
    "        \n",
    "verifier_listener = {\n",
    "    \"topic\": \"present_proof\",\n",
    "    \"handler\": verifier_proof_handler\n",
    "}\n",
    "\n",
    "listeners.append(verifier_listener)"
   ]
  },
  {
   "cell_type": "code",
   "execution_count": 8,
   "id": "d1b98925",
   "metadata": {},
   "outputs": [],
   "source": [
    "agent_controller.register_listeners(listeners)"
   ]
  },
  {
   "cell_type": "markdown",
   "id": "4d961522",
   "metadata": {},
   "source": [
    "## Store Issuing Schema and Cred Def Identifiers\n",
    "\n",
    "If you intend for this agent to issue credentials you should first initialise your agent as an issuer and author the relevant identifiers to the public ledger. The issuer_initialisation recipe notebook can be duplicated and used as a starting point.\n",
    "\n",
    "Once schema and cred def identifiers are created copy across and store in variables as illustrated in the cell below. Be sure to use unique names for each variable."
   ]
  },
  {
   "cell_type": "code",
   "execution_count": null,
   "id": "e8a830fa",
   "metadata": {},
   "outputs": [],
   "source": [
    "rtw_schema_id = 'UBDzYmydH198hgQq6yRyFu:2:UK Right to Work:0.0.1'\n",
    "rtw_cred_def_id = 'UBDzYmydH198hgQq6yRyFu:3:CL:29:doctor-onboarding'\n",
    "dbs_schema_id = 'UBDzYmydH198hgQq6yRyFu:2:DBS Check:0.0.1'\n",
    "dbs_cred_def_id = 'UBDzYmydH198hgQq6yRyFu:3:CL:30:doctor-onboarding'\n",
    "ic_schema_id = 'UBDzYmydH198hgQq6yRyFu:2:Immunity Certificate:0.0.1'\n",
    "ic_cred_def_id = 'UBDzYmydH198hgQq6yRyFu:3:CL:31:doctor-onboarding'\n",
    "cbt_schema_id = 'UBDzYmydH198hgQq6yRyFu:2:Compulsory Basic Training:0.0.1'\n",
    "cbt_cred_def_id = 'UBDzYmydH198hgQq6yRyFu:3:CL:32:doctor-onboarding'\n",
    "\n"
   ]
  },
  {
   "cell_type": "markdown",
   "id": "97e70b64",
   "metadata": {},
   "source": [
    "## Before Joining the Scottish Deanery the Doctor Must Demonstrate they Have a GMC Licence\n",
    "\n",
    "The deanery challenges them with the following proof request"
   ]
  },
  {
   "cell_type": "code",
   "execution_count": 15,
   "id": "0fba8c5a",
   "metadata": {},
   "outputs": [],
   "source": [
    "import time\n",
    "# The GMC is the only entity able to issue GMC licences in the UK Healthcare system\n",
    "gmc_schema_id = 'TDAbSf3Uqebg8N4XvybMbg:2:GMC Licence:0.0.2'\n",
    "\n",
    "gmc_issuer_did = \"TDAbSf3Uqebg8N4XvybMbg\"\n",
    "\n",
    "# cred_def_id = \"<SOME CRED DEF>\"\n",
    "\n",
    "# Define the list of attributes and restrictions under which each attribute was issued that a prover must satisfy with a presentation\n",
    "# NOTE: if identifying a schema or credential definition then the attribute name must be contained within the corresponding schema.\n",
    "req_attrs = [\n",
    "    {\"name\": \"Base64Image\", \n",
    "     \"restrictions\": [{\"schema_id\": gmc_schema_id, \"issuer_did\": gmc_issuer_did}],\n",
    "     \"non_revoked\": {\"to\": int(time.time() - 1)}\n",
    "    },\n",
    "    {\"name\": \"Name\", \n",
    "     \"restrictions\": [{\"schema_id\": gmc_schema_id, \"issuer_did\": gmc_issuer_did}],\n",
    "     \"non_revoked\": {\"to\": int(time.time() - 1)}\n",
    "    },\n",
    "    {\"name\": \"GMC Number\", \n",
    "     \"restrictions\": [{\"schema_id\": gmc_schema_id, \"issuer_did\": gmc_issuer_did}],\n",
    "     \"non_revoked\": {\"to\": int(time.time() - 1)}\n",
    "    },\n",
    "]\n",
    "\n",
    "# We could extend this to request the name attribute aswell if we wanted.\n",
    "\n",
    "\n",
    "gmc_licence_proof_request = {\n",
    "    \"name\": \"Proof of GMC Licence\",\n",
    "    \"version\": \"1.0\",\n",
    "    \"requested_attributes\": {\n",
    "        # They must follow this uuid pattern\n",
    "        # Note that req_attr['name'] gets the attribute name of each object. E.g. domain and name in this case\n",
    "        f\"{req_attr['name']}\":\n",
    "        req_attr for req_attr in req_attrs\n",
    "    },\n",
    "    # Predicates allow us to specify range proofs or set membership on attributes. For example greater than 10.\n",
    "    # We will ignore these for now.\n",
    "    \"requested_predicates\": {\n",
    "#         f\"0_{req_pred['name']}_GE_uuid\":\n",
    "#         req_pred for req_pred in req_preds\n",
    "    },\n",
    "    # You can also request the entire proof request be non-revoked\n",
    "#     \"non_revoked\":  {\"to\": int(time.time())}\n",
    "}"
   ]
  },
  {
   "cell_type": "markdown",
   "id": "de98ad38",
   "metadata": {},
   "source": [
    "## Establish Connection\n",
    "\n",
    "Before you can issue a credential you must first establish a connection across which the credential will be issued to a holder. (see recipes/connection)"
   ]
  },
  {
   "cell_type": "code",
   "execution_count": 10,
   "id": "99632a1d",
   "metadata": {},
   "outputs": [
    {
     "name": "stdout",
     "output_type": "stream",
     "text": [
      "----------------------------------------------------------\n",
      "Connection Webhook Event Received\n",
      "Connection ID :  525b8aa6-0276-4d28-9d6b-7d1b42003d21\n",
      "State :  invitation\n",
      "Routing State :  none\n",
      "Their Role :  invitee\n",
      "----------------------------------------------------------\n"
     ]
    }
   ],
   "source": [
    "# Alias for invited connection\n",
    "alias = \"Junior Doctor\"\n",
    "auto_accept = \"true\"\n",
    "# Use public DID?\n",
    "public = \"false\"\n",
    "# Should this invitation be usable by multiple invitees?\n",
    "multi_use = \"false\"\n",
    "\n",
    "invitation_response = await agent_controller.connections.create_invitation(alias, auto_accept, public, multi_use)\n",
    "# Is equivalent to above. Arguments are optionally\n",
    "# invitation_response = await agent_controller.connections.create_invitation()\n",
    "\n",
    "\n",
    "\n",
    "# You will use this identifier to issue a credential across this connection\n",
    "connection_id = invitation_response[\"connection_id\"]"
   ]
  },
  {
   "cell_type": "markdown",
   "id": "05d73687",
   "metadata": {},
   "source": [
    "## Share Invitation Object with External Agent"
   ]
  },
  {
   "cell_type": "code",
   "execution_count": 11,
   "id": "9a45e84e",
   "metadata": {},
   "outputs": [
    {
     "name": "stdout",
     "output_type": "stream",
     "text": [
      "{'@type': 'did:sov:BzCbsNYhMrjHiqZDTUASHg;spec/connections/1.0/invitation', '@id': 'df28fb0c-b551-45ff-bf1c-1bc912f308ed', 'recipientKeys': ['7tFfaCBc3TK13be9SZSKPTUbyPvhk83SbxGFkCW76LKV'], 'label': 'Scottish Deanery', 'serviceEndpoint': 'https://d90661b25a39.ngrok.io'}\n",
      "----------------------------------------------------------\n",
      "Connection Webhook Event Received\n",
      "Connection ID :  525b8aa6-0276-4d28-9d6b-7d1b42003d21\n",
      "State :  request\n",
      "Routing State :  none\n",
      "Their Role :  invitee\n",
      "----------------------------------------------------------\n",
      "----------------------------------------------------------\n",
      "Connection Webhook Event Received\n",
      "Connection ID :  525b8aa6-0276-4d28-9d6b-7d1b42003d21\n",
      "State :  response\n",
      "Routing State :  none\n",
      "Their Role :  invitee\n",
      "----------------------------------------------------------\n",
      "----------------------------------------------------------\n",
      "Connection Webhook Event Received\n",
      "Connection ID :  525b8aa6-0276-4d28-9d6b-7d1b42003d21\n",
      "State :  active\n",
      "Routing State :  none\n",
      "Their Role :  invitee\n",
      "----------------------------------------------------------\n",
      "\u001b[1m\u001b[32mConnection ID: 525b8aa6-0276-4d28-9d6b-7d1b42003d21 is now active.\u001b[0m\n"
     ]
    }
   ],
   "source": [
    "invitation = invitation_response[\"invitation\"]\n",
    "## Copy this output\n",
    "print(invitation)"
   ]
  },
  {
   "cell_type": "markdown",
   "id": "f92ece46",
   "metadata": {},
   "source": [
    "## Display Invite as QR Code\n",
    "\n",
    "This is useful if you wish to issue a credential to a mobile wallet."
   ]
  },
  {
   "cell_type": "code",
   "execution_count": null,
   "id": "0dc3faa7",
   "metadata": {},
   "outputs": [],
   "source": [
    "import qrcode\n",
    "# Link for connection invitation\n",
    "invitation_url = invitation_response[\"invitation_url\"]\n",
    "# Creating an instance of qrcode\n",
    "qr = qrcode.QRCode(\n",
    "        version=1,\n",
    "        box_size=5,\n",
    "        border=5)\n",
    "qr.add_data(invitation_url)\n",
    "qr.make(fit=True)\n",
    "img = qr.make_image(fill='black', back_color='white')\n",
    "img"
   ]
  },
  {
   "cell_type": "markdown",
   "id": "b855f820",
   "metadata": {},
   "source": [
    "## Request Proof of GMC Licence"
   ]
  },
  {
   "cell_type": "code",
   "execution_count": 16,
   "id": "872a87c5",
   "metadata": {},
   "outputs": [
    {
     "name": "stdout",
     "output_type": "stream",
     "text": [
      "\n",
      "---------------------------------------------------------------------\n",
      "\n",
      "Handle present-proof\n",
      "Connection ID :  525b8aa6-0276-4d28-9d6b-7d1b42003d21\n",
      "Presentation Exchange ID :  fc765e15-f1b5-4c88-88f6-d7b1eb02612e\n",
      "Protocol State :  request_sent\n",
      "Agent Role :  verifier\n",
      "Initiator :  self\n",
      "\n",
      "---------------------------------------------------------------------\n",
      "\n",
      "Presentation Request\n",
      "\n",
      "{'name': 'Proof of GMC Licence', 'version': '1.0', 'requested_attributes': {'Base64Image': {'name': 'Base64Image', 'restrictions': [{'schema_id': 'TDAbSf3Uqebg8N4XvybMbg:2:GMC Licence:0.0.2', 'issuer_did': 'TDAbSf3Uqebg8N4XvybMbg'}], 'non_revoked': {'to': 1624471942}}, 'Name': {'name': 'Name', 'restrictions': [{'schema_id': 'TDAbSf3Uqebg8N4XvybMbg:2:GMC Licence:0.0.2', 'issuer_did': 'TDAbSf3Uqebg8N4XvybMbg'}], 'non_revoked': {'to': 1624471942}}, 'GMC Number': {'name': 'GMC Number', 'restrictions': [{'schema_id': 'TDAbSf3Uqebg8N4XvybMbg:2:GMC Licence:0.0.2', 'issuer_did': 'TDAbSf3Uqebg8N4XvybMbg'}], 'non_revoked': {'to': 1624471942}}}, 'requested_predicates': {}, 'nonce': '1041570385924936518476007'}\n",
      "\n",
      "The presentation request is encoded in base64 and packaged into a DIDComm Message\n",
      "\n",
      "{'@type': 'did:sov:BzCbsNYhMrjHiqZDTUASHg;spec/present-proof/1.0/request-presentation', '@id': '7bf45288-b151-4980-80a8-066b247b9ee7', '~trace': {'target': 'log', 'full_thread': True, 'trace_reports': []}, 'comment': 'Please prove you have a GMC Licence', 'request_presentations~attach': [{'@id': 'libindy-request-presentation-0', 'mime-type': 'application/json', 'data': {'base64': 'eyJuYW1lIjogIlByb29mIG9mIEdNQyBMaWNlbmNlIiwgInZlcnNpb24iOiAiMS4wIiwgInJlcXVlc3RlZF9hdHRyaWJ1dGVzIjogeyJCYXNlNjRJbWFnZSI6IHsibmFtZSI6ICJCYXNlNjRJbWFnZSIsICJyZXN0cmljdGlvbnMiOiBbeyJzY2hlbWFfaWQiOiAiVERBYlNmM1VxZWJnOE40WHZ5Yk1iZzoyOkdNQyBMaWNlbmNlOjAuMC4yIiwgImlzc3Vlcl9kaWQiOiAiVERBYlNmM1VxZWJnOE40WHZ5Yk1iZyJ9XSwgIm5vbl9yZXZva2VkIjogeyJ0byI6IDE2MjQ0NzE5NDJ9fSwgIk5hbWUiOiB7Im5hbWUiOiAiTmFtZSIsICJyZXN0cmljdGlvbnMiOiBbeyJzY2hlbWFfaWQiOiAiVERBYlNmM1VxZWJnOE40WHZ5Yk1iZzoyOkdNQyBMaWNlbmNlOjAuMC4yIiwgImlzc3Vlcl9kaWQiOiAiVERBYlNmM1VxZWJnOE40WHZ5Yk1iZyJ9XSwgIm5vbl9yZXZva2VkIjogeyJ0byI6IDE2MjQ0NzE5NDJ9fSwgIkdNQyBOdW1iZXIiOiB7Im5hbWUiOiAiR01DIE51bWJlciIsICJyZXN0cmljdGlvbnMiOiBbeyJzY2hlbWFfaWQiOiAiVERBYlNmM1VxZWJnOE40WHZ5Yk1iZzoyOkdNQyBMaWNlbmNlOjAuMC4yIiwgImlzc3Vlcl9kaWQiOiAiVERBYlNmM1VxZWJnOE40WHZ5Yk1iZyJ9XSwgIm5vbl9yZXZva2VkIjogeyJ0byI6IDE2MjQ0NzE5NDJ9fX0sICJyZXF1ZXN0ZWRfcHJlZGljYXRlcyI6IHt9LCAibm9uY2UiOiAiMTA0MTU3MDM4NTkyNDkzNjUxODQ3NjAwNyJ9'}}]}\n",
      "\n",
      "Note the type defines the protocol present-proof and the message request-presentation\n",
      "\n",
      "did:sov:BzCbsNYhMrjHiqZDTUASHg;spec/present-proof/1.0/request-presentation\n"
     ]
    }
   ],
   "source": [
    "proof_request = {\n",
    "    \"comment\": \"Please prove you have a GMC Licence\",\n",
    "    \"connection_id\": connection_id,\n",
    "    \"proof_request\": gmc_licence_proof_request,\n",
    "    # Do you want your agent to trace this request (for debugging)\n",
    "    \"trace\": True\n",
    "}\n",
    "\n",
    "proof_request_response = await agent_controller.proofs.send_request(proof_request)"
   ]
  },
  {
   "cell_type": "markdown",
   "id": "61a5699e",
   "metadata": {},
   "source": [
    "## Get Presentation Exchange Record\n",
    "\n",
    "This record keeps track of the current state of the presentation protocol, which must be in the `presentation_received` state before the presentation can be verified.\n",
    "\n",
    "Note: This could also happen in the webhook logic."
   ]
  },
  {
   "cell_type": "code",
   "execution_count": 17,
   "id": "c26b6c2b",
   "metadata": {},
   "outputs": [
    {
     "ename": "IndexError",
     "evalue": "list index out of range",
     "output_type": "error",
     "traceback": [
      "\u001b[0;31m---------------------------------------------------------------------------\u001b[0m",
      "\u001b[0;31mIndexError\u001b[0m                                Traceback (most recent call last)",
      "\u001b[0;32m<ipython-input-17-864690033919>\u001b[0m in \u001b[0;36masync-def-wrapper\u001b[0;34m()\u001b[0m\n\u001b[1;32m      3\u001b[0m \u001b[0mpresentation_exchange_id\u001b[0m \u001b[0;34m=\u001b[0m \u001b[0mrecord\u001b[0m\u001b[0;34m[\u001b[0m\u001b[0;34m\"presentation_exchange_id\"\u001b[0m\u001b[0;34m]\u001b[0m\u001b[0;34m\u001b[0m\u001b[0;34m\u001b[0m\u001b[0m\n",
      "\u001b[0;31mIndexError\u001b[0m: list index out of range"
     ]
    }
   ],
   "source": [
    "response = await agent_controller.proofs.get_records(state=\"presentation_received\")\n",
    "record = response[\"results\"][0]\n",
    "presentation_exchange_id = record[\"presentation_exchange_id\"]"
   ]
  },
  {
   "cell_type": "markdown",
   "id": "3acc026a",
   "metadata": {},
   "source": [
    "## Verify Presentation\n",
    "\n"
   ]
  },
  {
   "cell_type": "code",
   "execution_count": null,
   "id": "c6788dcf",
   "metadata": {},
   "outputs": [],
   "source": [
    "verified_response = await agent_controller.proofs.verify_presentation(presentation_exchange_id)\n",
    "\n",
    "verified = verified_response[\"verified\"]"
   ]
  },
  {
   "cell_type": "markdown",
   "id": "08a7e591",
   "metadata": {},
   "source": [
    "## Check Attributes"
   ]
  },
  {
   "cell_type": "code",
   "execution_count": null,
   "id": "4576290e",
   "metadata": {},
   "outputs": [],
   "source": [
    "import base64\n",
    "if verified == \"true\":\n",
    "    for (name, val) in verified_response['presentation']['requested_proof']['revealed_attrs'].items():\n",
    "        ## This is the actual data that you want. It's a little hidden\n",
    "    #     print(\"Attribute : \", val)\n",
    "\n",
    "\n",
    "        if name == \"Base64Image\":\n",
    "            try:\n",
    "                f = open(\"doctor-image.jpg\", \"wb+\")\n",
    "                base64_img_str = val['raw']\n",
    "                b64_encoded = base64_img_str.encode('utf-8')\n",
    "                decoded_img_data = base64.decodebytes(b64_encoded)\n",
    "                f.write(decoded_img_data)\n",
    "                f.close()\n",
    "    #             base64_img_bytes = attribute[\"value\"].encode('utf-8')\n",
    "    #             decoded_img_data = base64.decodebytes(base64_img_bytes)\n",
    "\n",
    "            except Exception as e:\n",
    "                print(\"Error writing file\", e)\n",
    "        else:\n",
    "            print(f\"Attribute Name {name} Raw Value : {val['raw']}\")"
   ]
  },
  {
   "cell_type": "code",
   "execution_count": null,
   "id": "ef6ee7f9",
   "metadata": {},
   "outputs": [],
   "source": [
    "from IPython.display import Image\n",
    "Image(\"doctor-image.jpg\")"
   ]
  },
  {
   "cell_type": "markdown",
   "id": "3d808941",
   "metadata": {},
   "source": [
    "![](https://dis-blog.thalesgroup.com/wp-content/uploads/2017/01/ID-Verification-banks.png)"
   ]
  },
  {
   "cell_type": "markdown",
   "id": "d74763ec",
   "metadata": {},
   "source": [
    "# Perform Right to Work Check"
   ]
  },
  {
   "cell_type": "markdown",
   "id": "06a40e54",
   "metadata": {},
   "source": [
    "## Provide Digital Evidence of Right to Work Check\n",
    "\n",
    "Before you can issue a credential, you must define the values that will be issued in this credential. The attribute names **MUST** match those in the schem identified by the <schema_id> value.\n",
    "\n",
    "Make sure to change all code enclosed with <>.\n"
   ]
  },
  {
   "cell_type": "code",
   "execution_count": null,
   "id": "7faa17d5",
   "metadata": {},
   "outputs": [],
   "source": [
    "from datetime import date\n",
    "\n",
    "status=\"UK Citizen\"\n",
    "date_completed=date.today().isoformat()\n",
    "exp_date=\"N/A\"\n",
    "credential_attributes = [\n",
    "    {\"name\": \"Residency Status\", \"value\": status},\n",
    "    {\"name\": \"Date Completed\", \"value\": date_completed},\n",
    "    {\"name\": \"Expiration Date\", \"value\": exp_date}\n",
    "]\n",
    "print(credential_attributes)"
   ]
  },
  {
   "cell_type": "markdown",
   "id": "aac30b8f",
   "metadata": {},
   "source": [
    "## Send Credential\n"
   ]
  },
  {
   "cell_type": "code",
   "execution_count": null,
   "id": "2a374dc0",
   "metadata": {
    "tags": []
   },
   "outputs": [],
   "source": [
    "# Do you want the ACA-Py instance to trace it's processes (for testing/timing analysis)\n",
    "trace = False\n",
    "comment = \"\"\n",
    "# Remove credential record after issued?\n",
    "auto_remove = True\n",
    "\n",
    "# Change <schema_id> and <cred_def_id> to correct pair. Cred_def_id must identify a definition to which your agent has corresponding private issuing key.\n",
    "send_cred_response = await agent_controller.issuer.send_credential(connection_id, rtw_schema_id, rtw_cred_def_id, credential_attributes, comment, auto_remove, trace)\n",
    "\n",
    "# Note last three args are optional.\n",
    "# await agent_controller.issuer.send_credential(connection_id, <schema_id>, <cred_def_id, credential_attributes)"
   ]
  },
  {
   "cell_type": "markdown",
   "id": "9b97d5c2",
   "metadata": {},
   "source": [
    "# Perform DBS Check\n",
    "\n",
    "![](https://checkback.co.uk/wp-content/uploads/2020/08/dbschecks.png)"
   ]
  },
  {
   "cell_type": "markdown",
   "id": "1f084915",
   "metadata": {},
   "source": [
    "## Provide Digital Evidence of DBS Check\n",
    "\n",
    "Before you can issue a credential, you must define the values that will be issued in this credential. The attribute names **MUST** match those in the schem identified by the <schema_id> value.\n",
    "\n",
    "Make sure to change all code enclosed with <>.\n"
   ]
  },
  {
   "cell_type": "code",
   "execution_count": null,
   "id": "0a0b605d",
   "metadata": {},
   "outputs": [],
   "source": [
    "from datetime import date, timedelta\n",
    "attributes = [\"Certificate Reference Number\",\"Date Completed\", \"Expiration Date\", \"Type\"]\n",
    "\n",
    "ref_no = \"12343122\"\n",
    "status=\"UK Citizen\"\n",
    "date_completed=date.today().isoformat()\n",
    "exp_date=(date.today() + timedelta(days=730)).isoformat()\n",
    "credential_attributes = [\n",
    "    {\"name\": \"Certificate Reference Number\", \"value\": status},\n",
    "    {\"name\": \"Date Completed\", \"value\": date_completed},\n",
    "    {\"name\": \"Expiration Date\", \"value\": exp_date},\n",
    "    {\"name\": \"Type\", \"value\": \"Basic\"}\n",
    "]\n",
    "print(credential_attributes)"
   ]
  },
  {
   "cell_type": "markdown",
   "id": "dd5a50a9",
   "metadata": {},
   "source": [
    "## Send Credential\n"
   ]
  },
  {
   "cell_type": "code",
   "execution_count": null,
   "id": "29a3cc0b",
   "metadata": {
    "tags": []
   },
   "outputs": [],
   "source": [
    "# Do you want the ACA-Py instance to trace it's processes (for testing/timing analysis)\n",
    "trace = False\n",
    "comment = \"\"\n",
    "# Remove credential record after issued?\n",
    "auto_remove = True\n",
    "\n",
    "# Change <schema_id> and <cred_def_id> to correct pair. Cred_def_id must identify a definition to which your agent has corresponding private issuing key.\n",
    "send_cred_response = await agent_controller.issuer.send_credential(connection_id, dbs_schema_id, dbs_cred_def_id, credential_attributes, comment, auto_remove, trace)\n",
    "\n",
    "# Note last three args are optional.\n",
    "# await agent_controller.issuer.send_credential(connection_id, <schema_id>, <cred_def_id, credential_attributes)"
   ]
  },
  {
   "cell_type": "markdown",
   "id": "36673962",
   "metadata": {},
   "source": [
    "# Complete Immunisations\n",
    "\n",
    "![](https://qcs-qualitycomplianc.netdna-ssl.com/wp-content/uploads/2015/10/Immunisation-of-personel-in-the-workplaceR.jpg)"
   ]
  },
  {
   "cell_type": "markdown",
   "id": "15d056de",
   "metadata": {},
   "source": [
    "## Provide Immunity Certificate\n",
    "\n",
    "Before you can issue a credential, you must define the values that will be issued in this credential. The attribute names **MUST** match those in the schem identified by the <schema_id> value.\n",
    "\n",
    "Make sure to change all code enclosed with <>.\n"
   ]
  },
  {
   "cell_type": "code",
   "execution_count": null,
   "id": "d3f2cc0b",
   "metadata": {},
   "outputs": [],
   "source": [
    "from datetime import date\n",
    "import json\n",
    "\n",
    "\n",
    "immunisations = {\"covid\" : True}\n",
    "\n",
    "immJson = json.dumps(immunisations)\n",
    "date_completed=date.today().isoformat()\n",
    "credential_attributes = [\n",
    "    {\"name\": \"Immunisations\", \"value\": immJson},\n",
    "    {\"name\": \"Date Completed\", \"value\": date_completed},\n",
    "]\n",
    "print(credential_attributes)"
   ]
  },
  {
   "cell_type": "markdown",
   "id": "5e6413fa",
   "metadata": {},
   "source": [
    "## Send Credential\n"
   ]
  },
  {
   "cell_type": "code",
   "execution_count": null,
   "id": "f7a54825",
   "metadata": {
    "tags": []
   },
   "outputs": [],
   "source": [
    "# Do you want the ACA-Py instance to trace it's processes (for testing/timing analysis)\n",
    "trace = False\n",
    "comment = \"\"\n",
    "# Remove credential record after issued?\n",
    "auto_remove = True\n",
    "\n",
    "# Change <schema_id> and <cred_def_id> to correct pair. Cred_def_id must identify a definition to which your agent has corresponding private issuing key.\n",
    "send_cred_response = await agent_controller.issuer.send_credential(connection_id, ic_schema_id, ic_cred_def_id, credential_attributes, comment, auto_remove, trace)\n",
    "\n",
    "# Note last three args are optional.\n",
    "# await agent_controller.issuer.send_credential(connection_id, <schema_id>, <cred_def_id, credential_attributes)"
   ]
  },
  {
   "cell_type": "markdown",
   "id": "89f334f7",
   "metadata": {},
   "source": [
    "# Run Compulsory Basic Training\n",
    "\n",
    "![](data:image/jpeg;base64,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)"
   ]
  },
  {
   "cell_type": "markdown",
   "id": "d9611d76",
   "metadata": {},
   "source": [
    "## Provide Digital Evidence of CBT\n",
    "\n",
    "Before you can issue a credential, you must define the values that will be issued in this credential. The attribute names **MUST** match those in the schem identified by the <schema_id> value.\n",
    "\n",
    "Make sure to change all code enclosed with <>.\n"
   ]
  },
  {
   "cell_type": "code",
   "execution_count": null,
   "id": "96aacb12",
   "metadata": {},
   "outputs": [],
   "source": [
    "\n",
    "date_completed=date.today().isoformat()\n",
    "exp_date=(date.today() + timedelta(days=730)).isoformat()\n",
    "credential_attributes = [\n",
    "    {\"name\": \"Date Completed\", \"value\": date_completed},\n",
    "    {\"name\": \"Expiration Date\", \"value\": exp_date}\n",
    "]\n",
    "print(credential_attributes)"
   ]
  },
  {
   "cell_type": "markdown",
   "id": "325ef2d2",
   "metadata": {},
   "source": [
    "## Send Credential\n"
   ]
  },
  {
   "cell_type": "code",
   "execution_count": null,
   "id": "4aa1405d",
   "metadata": {
    "tags": []
   },
   "outputs": [],
   "source": [
    "# Do you want the ACA-Py instance to trace it's processes (for testing/timing analysis)\n",
    "trace = False\n",
    "comment = \"\"\n",
    "# Remove credential record after issued?\n",
    "auto_remove = True\n",
    "\n",
    "# Change <schema_id> and <cred_def_id> to correct pair. Cred_def_id must identify a definition to which your agent has corresponding private issuing key.\n",
    "send_cred_response = await agent_controller.issuer.send_credential(connection_id, cbt_schema_id, cbt_cred_def_id, credential_attributes, comment, auto_remove, trace)\n",
    "\n",
    "# Note last three args are optional.\n",
    "# await agent_controller.issuer.send_credential(connection_id, <schema_id>, <cred_def_id, credential_attributes)"
   ]
  },
  {
   "cell_type": "markdown",
   "id": "69901f73",
   "metadata": {},
   "source": [
    "## Terminate Controller\n",
    "\n",
    "Whenever you have finished with this notebook, be sure to terminate the controller. This is especially important if your business logic runs across multiple notebooks."
   ]
  },
  {
   "cell_type": "code",
   "execution_count": null,
   "id": "cbcaf1f8",
   "metadata": {},
   "outputs": [],
   "source": [
    "await agent_controller.terminate()"
   ]
  }
 ],
 "metadata": {
  "kernelspec": {
   "display_name": "Python 3",
   "language": "python",
   "name": "python3"
  },
  "language_info": {
   "codemirror_mode": {
    "name": "ipython",
    "version": 3
   },
   "file_extension": ".py",
   "mimetype": "text/x-python",
   "name": "python",
   "nbconvert_exporter": "python",
   "pygments_lexer": "ipython3",
   "version": "3.7.6"
  }
 },
 "nbformat": 4,
 "nbformat_minor": 5
}
