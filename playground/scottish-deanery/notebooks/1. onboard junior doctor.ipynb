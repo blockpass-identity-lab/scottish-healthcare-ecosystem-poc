{
 "cells": [
  {
   "cell_type": "markdown",
   "id": "17c5e0cd",
   "metadata": {},
   "source": [
    "# Junior Doctor Joins the Scottish Deanery\n"
   ]
  },
  {
   "cell_type": "markdown",
   "id": "0a686dd9",
   "metadata": {},
   "source": [
    "### Imports"
   ]
  },
  {
   "cell_type": "code",
   "execution_count": 3,
   "id": "9c2f87d3",
   "metadata": {},
   "outputs": [],
   "source": [
    "from aries_cloudcontroller import AriesAgentController\n",
    "import os\n",
    "from termcolor import colored"
   ]
  },
  {
   "cell_type": "markdown",
   "id": "72f90507",
   "metadata": {},
   "source": [
    "### Initialise the Agent Controller"
   ]
  },
  {
   "cell_type": "code",
   "execution_count": 4,
   "id": "499b48b8",
   "metadata": {},
   "outputs": [
    {
     "name": "stdout",
     "output_type": "stream",
     "text": [
      "Initialising a controller with admin api at http://scottish-deanery-agent:3021 and an api key of DeaneryAPIKey\n"
     ]
    }
   ],
   "source": [
    "api_key = os.getenv(\"ACAPY_ADMIN_API_KEY\")\n",
    "admin_url = os.getenv(\"ADMIN_URL\")\n",
    "\n",
    "print(f\"Initialising a controller with admin api at {admin_url} and an api key of {api_key}\")\n",
    "agent_controller = AriesAgentController(admin_url,api_key)"
   ]
  },
  {
   "cell_type": "markdown",
   "id": "1be5a470",
   "metadata": {},
   "source": [
    "### Start a Webhook Server"
   ]
  },
  {
   "cell_type": "code",
   "execution_count": 5,
   "id": "e31b5f58",
   "metadata": {},
   "outputs": [
    {
     "name": "stdout",
     "output_type": "stream",
     "text": [
      "Listening for webhooks from agent at http://0.0.0.0:3010\n"
     ]
    }
   ],
   "source": [
    "webhook_port = int(os.getenv(\"WEBHOOK_PORT\"))\n",
    "webhook_host = \"0.0.0.0\"\n",
    "\n",
    "await agent_controller.init_webhook_server(webhook_host, webhook_port)\n",
    "\n",
    "print(f\"Listening for webhooks from agent at http://{webhook_host}:{webhook_port}\")"
   ]
  },
  {
   "cell_type": "markdown",
   "id": "a846aec1",
   "metadata": {},
   "source": [
    "## Register Agent Event Listeners\n",
    "\n",
    "You can see some examples within the webhook_listeners recipe. Copy any relevant cells across and fill in additional logic as needed."
   ]
  },
  {
   "cell_type": "code",
   "execution_count": 6,
   "id": "d68a8049",
   "metadata": {},
   "outputs": [],
   "source": [
    "listeners = []"
   ]
  },
  {
   "cell_type": "code",
   "execution_count": 7,
   "id": "54013b1c",
   "metadata": {},
   "outputs": [],
   "source": [
    "## YOUR LISTENERS HERE\n",
    "# Receive connection messages\n",
    "def connections_handler(payload):\n",
    "    state = payload['state']\n",
    "    connection_id = payload[\"connection_id\"]\n",
    "    their_role = payload[\"their_role\"]\n",
    "    routing_state = payload[\"routing_state\"]\n",
    "    \n",
    "    print(\"----------------------------------------------------------\")\n",
    "    print(\"Connection Webhook Event Received\")\n",
    "    print(\"Connection ID : \", connection_id)\n",
    "    print(\"State : \", state)\n",
    "    print(\"Routing State : \", routing_state)\n",
    "    print(\"Their Role : \", their_role)\n",
    "    print(\"----------------------------------------------------------\")\n",
    "    if state == \"active\":\n",
    "        # Your business logic\n",
    "        print(colored(\"Connection ID: {0} is now active.\".format(connection_id), \"green\", attrs=[\"bold\"]))\n",
    "\n",
    "connection_listener = {\n",
    "    \"handler\": connections_handler,\n",
    "    \"topic\": \"connections\"\n",
    "}\n",
    "\n",
    "listeners.append(connection_listener)"
   ]
  },
  {
   "cell_type": "code",
   "execution_count": 8,
   "id": "8dedba79",
   "metadata": {},
   "outputs": [],
   "source": [
    "def issuer_handler(payload):\n",
    "    connection_id = payload['connection_id']\n",
    "    exchange_id = payload['credential_exchange_id']\n",
    "    state = payload['state']\n",
    "    role = payload['role']\n",
    "    print(\"\\n---------------------------------------------------\\n\")\n",
    "    print(\"Handle Issue Credential Webhook\")\n",
    "    print(f\"Connection ID : {connection_id}\")\n",
    "    print(f\"Credential exchange ID : {exchange_id}\")\n",
    "    print(\"Agent Protocol Role : \", role)\n",
    "    print(\"Protocol State : \", state )\n",
    "    print(\"\\n---------------------------------------------------\\n\")\n",
    "    \n",
    "    \n",
    "    if state == \"offer_sent\":\n",
    "        proposal = payload[\"credential_proposal_dict\"]\n",
    "        attributes = proposal['credential_proposal']['attributes']\n",
    "\n",
    "        print(f\"Offering credential with attributes  : {attributes}\")\n",
    "        ## YOUR LOGIC HERE\n",
    "    elif state == \"request_received\":\n",
    "        print(\"Request for credential received\")\n",
    "        ## YOUR LOGIC HERE\n",
    "    elif state == \"credential_sent\":\n",
    "        print(\"Credential Sent\")\n",
    "        ## YOUR LOGIC HERE\n",
    "    \n",
    "issuer_listener = {\n",
    "    \"topic\": \"issue_credential\",\n",
    "    \"handler\": issuer_handler\n",
    "}\n",
    "\n",
    "listeners.append(issuer_listener)"
   ]
  },
  {
   "cell_type": "code",
   "execution_count": 17,
   "id": "5e3275fe",
   "metadata": {},
   "outputs": [],
   "source": [
    "\n",
    "def verifier_proof_handler(payload):\n",
    "    role = payload[\"role\"]\n",
    "    connection_id = payload[\"connection_id\"]\n",
    "    pres_ex_id = payload[\"presentation_exchange_id\"]\n",
    "    state = payload[\"state\"]\n",
    "    print(\"\\n---------------------------------------------------------------------\\n\")\n",
    "    print(\"Handle present-proof\")\n",
    "    print(\"Connection ID : \", connection_id)\n",
    "    print(\"Presentation Exchange ID : \", pres_ex_id)\n",
    "    print(\"Protocol State : \", state)\n",
    "    print(\"Agent Role : \", role)\n",
    "    print(\"Initiator : \", payload[\"initiator\"])\n",
    "    print(\"\\n---------------------------------------------------------------------\\n\")\n",
    "    \n",
    "\n",
    "    if state == \"request_sent\":\n",
    "        print(\"Presentation Request\\n\")\n",
    "        print(payload[\"presentation_request\"])\n",
    "        print(\"\\nThe presentation request is encoded in base64 and packaged into a DIDComm Message\\n\")\n",
    "        print(payload[\"presentation_request_dict\"])\n",
    "        print(\"\\nNote the type defines the protocol present-proof and the message request-presentation\\n\")\n",
    "        print(payload[\"presentation_request_dict\"][\"@type\"])\n",
    "    elif state == \"presentation_received\":\n",
    "        print(\"Presentation Received\")\n",
    "        print(\"We will not go into detail on this payload as it is comparable to the presentation_sent we looked at in the earlier cell.\")\n",
    "        print(\"This is the full payload\\n\")\n",
    "        print(payload)\n",
    "    else:\n",
    "        print(\"Paload \\n\")\n",
    "        print(payload)\n",
    "        \n",
    "verifier_listener = {\n",
    "    \"topic\": \"present_proof\",\n",
    "    \"handler\": verifier_proof_handler\n",
    "}\n",
    "\n",
    "listeners.append(verifier_listener)"
   ]
  },
  {
   "cell_type": "code",
   "execution_count": 9,
   "id": "879f008a",
   "metadata": {},
   "outputs": [],
   "source": [
    "agent_controller.register_listeners(listeners)"
   ]
  },
  {
   "cell_type": "markdown",
   "id": "a0a70c84",
   "metadata": {},
   "source": [
    "## Store Issuing Schema and Cred Def Identifiers\n",
    "\n",
    "If you intend for this agent to issue credentials you should first initialise your agent as an issuer and author the relevant identifiers to the public ledger. The issuer_initialisation recipe notebook can be duplicated and used as a starting point.\n",
    "\n",
    "Once schema and cred def identifiers are created copy across and store in variables as illustrated in the cell below. Be sure to use unique names for each variable."
   ]
  },
  {
   "cell_type": "code",
   "execution_count": 11,
   "id": "d3a05a22",
   "metadata": {},
   "outputs": [],
   "source": [
    "rtw_schema_id = 'MKDB7pQgw1KGJZ1UtJHCkY:2:UK Right to Work:0.0.1'\n",
    "rtw_cred_def_id = 'MKDB7pQgw1KGJZ1UtJHCkY:3:CL:216271:doctor-onboarding'\n",
    "\n",
    "dbs_schema_id = 'MKDB7pQgw1KGJZ1UtJHCkY:2:DBS Check:0.0.1'\n",
    "dbs_cred_def_id = 'MKDB7pQgw1KGJZ1UtJHCkY:3:CL:216272:doctor-onboarding'\n",
    "\n"
   ]
  },
  {
   "cell_type": "markdown",
   "id": "9ffc845f",
   "metadata": {},
   "source": [
    "## Before Joining the Scottish Deanery the Doctor Must Demonstrate they Have a GMC Licence\n",
    "\n",
    "The deanery challenges them with the following proof request"
   ]
  },
  {
   "cell_type": "code",
   "execution_count": 12,
   "id": "a8f43aa2",
   "metadata": {},
   "outputs": [],
   "source": [
    "import time\n",
    "# The GMC is the only entity able to issue GMC licences in the UK Healthcare system\n",
    "gmc_schema_id = 'TDAbSf3Uqebg8N4XvybMbg:2:GMC Licence:0.0.1'\n",
    "\n",
    "gmc_issuer_did = \"TDAbSf3Uqebg8N4XvybMbg\"\n",
    "\n",
    "# cred_def_id = \"<SOME CRED DEF>\"\n",
    "\n",
    "# Define the list of attributes and restrictions under which each attribute was issued that a prover must satisfy with a presentation\n",
    "# NOTE: if identifying a schema or credential definition then the attribute name must be contained within the corresponding schema.\n",
    "req_attrs = [\n",
    "    {\"name\": \"Headshot\", \n",
    "     \"restrictions\": [{\"schema_id\": gmc_schema_id, \"issuer_did\": gmc_issuer_did}],\n",
    "     \"non_revoked\": {\"to\": int(time.time() - 1)}\n",
    "    },\n",
    "    {\"name\": \"Name\", \n",
    "     \"restrictions\": [{\"schema_id\": gmc_schema_id, \"issuer_did\": gmc_issuer_did}],\n",
    "     \"non_revoked\": {\"to\": int(time.time() - 1)}\n",
    "    },\n",
    "    {\"name\": \"GMC Number\", \n",
    "     \"restrictions\": [{\"schema_id\": gmc_schema_id, \"issuer_did\": gmc_issuer_did}],\n",
    "     \"non_revoked\": {\"to\": int(time.time() - 1)}\n",
    "    },\n",
    "]\n",
    "\n",
    "# We could extend this to request the name attribute aswell if we wanted.\n",
    "\n",
    "\n",
    "gmc_licence_proof_request = {\n",
    "    \"name\": \"Proof of GMC Licence\",\n",
    "    \"version\": \"1.0\",\n",
    "    \"requested_attributes\": {\n",
    "        # They must follow this uuid pattern\n",
    "        # Note that req_attr['name'] gets the attribute name of each object. E.g. domain and name in this case\n",
    "        f\"{req_attr['name']}\":\n",
    "        req_attr for req_attr in req_attrs\n",
    "    },\n",
    "    # Predicates allow us to specify range proofs or set membership on attributes. For example greater than 10.\n",
    "    # We will ignore these for now.\n",
    "    \"requested_predicates\": {\n",
    "#         f\"0_{req_pred['name']}_GE_uuid\":\n",
    "#         req_pred for req_pred in req_preds\n",
    "    },\n",
    "    # You can also request the entire proof request be non-revoked\n",
    "#     \"non_revoked\":  {\"to\": int(time.time())}\n",
    "}"
   ]
  },
  {
   "cell_type": "markdown",
   "id": "423a7fa4",
   "metadata": {},
   "source": [
    "## Establish Connection\n",
    "\n",
    "Before you can issue a credential you must first establish a connection across which the credential will be issued to a holder. (see recipes/connection)"
   ]
  },
  {
   "cell_type": "code",
   "execution_count": 13,
   "id": "7097ac5f",
   "metadata": {},
   "outputs": [
    {
     "name": "stdout",
     "output_type": "stream",
     "text": [
      "----------------------------------------------------------\n",
      "Connection Webhook Event Received\n",
      "Connection ID :  466d8ef4-5a5a-46ef-beda-b620130f91ca\n",
      "State :  invitation\n",
      "Routing State :  none\n",
      "Their Role :  invitee\n",
      "----------------------------------------------------------\n"
     ]
    }
   ],
   "source": [
    "# Alias for invited connection\n",
    "alias = \"Junior Doctor\"\n",
    "auto_accept = \"true\"\n",
    "# Use public DID?\n",
    "public = \"false\"\n",
    "# Should this invitation be usable by multiple invitees?\n",
    "multi_use = \"false\"\n",
    "\n",
    "invitation_response = await agent_controller.connections.create_invitation(alias, auto_accept, public, multi_use)\n",
    "# Is equivalent to above. Arguments are optionally\n",
    "# invitation_response = await agent_controller.connections.create_invitation()\n",
    "\n",
    "\n",
    "\n",
    "# You will use this identifier to issue a credential across this connection\n",
    "connection_id = invitation_response[\"connection_id\"]"
   ]
  },
  {
   "cell_type": "markdown",
   "id": "d2cb9b85",
   "metadata": {},
   "source": [
    "## Share Invitation Object with External Agent"
   ]
  },
  {
   "cell_type": "code",
   "execution_count": 14,
   "id": "9ab14074",
   "metadata": {},
   "outputs": [
    {
     "name": "stdout",
     "output_type": "stream",
     "text": [
      "{'@type': 'did:sov:BzCbsNYhMrjHiqZDTUASHg;spec/connections/1.0/invitation', '@id': '5c322c3e-dddd-4711-82d4-d51b8adf7732', 'label': 'Scottish Deanery', 'recipientKeys': ['BnPZDJQPvd1ngtBfZ3HDsPmQ24sdeZ7ZemyDu73hTavf'], 'serviceEndpoint': 'https://136f0239772c.ngrok.io'}\n",
      "----------------------------------------------------------\n",
      "Connection Webhook Event Received\n",
      "Connection ID :  466d8ef4-5a5a-46ef-beda-b620130f91ca\n",
      "State :  request\n",
      "Routing State :  none\n",
      "Their Role :  invitee\n",
      "----------------------------------------------------------\n",
      "----------------------------------------------------------\n",
      "Connection Webhook Event Received\n",
      "Connection ID :  466d8ef4-5a5a-46ef-beda-b620130f91ca\n",
      "State :  response\n",
      "Routing State :  none\n",
      "Their Role :  invitee\n",
      "----------------------------------------------------------\n",
      "----------------------------------------------------------\n",
      "Connection Webhook Event Received\n",
      "Connection ID :  466d8ef4-5a5a-46ef-beda-b620130f91ca\n",
      "State :  active\n",
      "Routing State :  none\n",
      "Their Role :  invitee\n",
      "----------------------------------------------------------\n",
      "\u001b[1m\u001b[32mConnection ID: 466d8ef4-5a5a-46ef-beda-b620130f91ca is now active.\u001b[0m\n"
     ]
    }
   ],
   "source": [
    "invitation = invitation_response[\"invitation\"]\n",
    "## Copy this output\n",
    "print(invitation)"
   ]
  },
  {
   "cell_type": "markdown",
   "id": "22fe7761",
   "metadata": {},
   "source": [
    "## Display Invite as QR Code\n",
    "\n",
    "This is useful if you wish to issue a credential to a mobile wallet."
   ]
  },
  {
   "cell_type": "code",
   "execution_count": null,
   "id": "8c89023b",
   "metadata": {},
   "outputs": [],
   "source": [
    "import qrcode\n",
    "# Link for connection invitation\n",
    "invitation_url = invitation_response[\"invitation_url\"]\n",
    "# Creating an instance of qrcode\n",
    "qr = qrcode.QRCode(\n",
    "        version=1,\n",
    "        box_size=5,\n",
    "        border=5)\n",
    "qr.add_data(invitation_url)\n",
    "qr.make(fit=True)\n",
    "img = qr.make_image(fill='black', back_color='white')\n",
    "img"
   ]
  },
  {
   "cell_type": "markdown",
   "id": "3248ea36",
   "metadata": {},
   "source": [
    "## Request Proof of GMC Licence"
   ]
  },
  {
   "cell_type": "code",
   "execution_count": 16,
   "id": "c3f186a8",
   "metadata": {},
   "outputs": [],
   "source": [
    "proof_request = {\n",
    "    \"comment\": \"Please prove you have a GMC Licence\",\n",
    "    \"connection_id\": connection_id,\n",
    "    \"proof_request\": gmc_licence_proof_request,\n",
    "    # Do you want your agent to trace this request (for debugging)\n",
    "    \"trace\": True\n",
    "}\n",
    "\n",
    "proof_request_response = await agent_controller.proofs.send_request(proof_request)"
   ]
  },
  {
   "cell_type": "markdown",
   "id": "01ce1ef9",
   "metadata": {},
   "source": [
    "## Get Presentation Exchange Record\n",
    "\n",
    "This record keeps track of the current state of the presentation protocol, which must be in the `presentation_received` state before the presentation can be verified.\n",
    "\n",
    "Note: This could also happen in the webhook logic."
   ]
  },
  {
   "cell_type": "code",
   "execution_count": 21,
   "id": "e24bbfe8",
   "metadata": {},
   "outputs": [],
   "source": [
    "response = await agent_controller.proofs.get_records()\n",
    "record = response[\"results\"][0]\n",
    "presentation_exchange_id = record[\"presentation_exchange_id\"]"
   ]
  },
  {
   "cell_type": "code",
   "execution_count": null,
   "id": "6e3398fe",
   "metadata": {},
   "outputs": [],
   "source": [
    "print(record)"
   ]
  },
  {
   "cell_type": "markdown",
   "id": "9e9a4051",
   "metadata": {},
   "source": [
    "## Verify Presentation\n",
    "\n"
   ]
  },
  {
   "cell_type": "code",
   "execution_count": 22,
   "id": "d69e597e",
   "metadata": {},
   "outputs": [
    {
     "name": "stderr",
     "output_type": "stream",
     "text": [
      "ERROR:__name__:Error during POST /present-proof/records/1ed08e32-3c25-45e0-83b0-ab26f71ae6d3/verify-presentation: 500, message='Internal Server Error', url=URL('http://scottish-deanery-agent:3021/present-proof/records/1ed08e32-3c25-45e0-83b0-ab26f71ae6d3/verify-presentation')\n"
     ]
    },
    {
     "ename": "ClientResponseError",
     "evalue": "500, message='Internal Server Error', url=URL('http://scottish-deanery-agent:3021/present-proof/records/1ed08e32-3c25-45e0-83b0-ab26f71ae6d3/verify-presentation')",
     "output_type": "error",
     "traceback": [
      "\u001b[0;31m---------------------------------------------------------------------------\u001b[0m",
      "\u001b[0;31mClientResponseError\u001b[0m                       Traceback (most recent call last)",
      "\u001b[0;32m<ipython-input-22-7853d109cb30>\u001b[0m in \u001b[0;36masync-def-wrapper\u001b[0;34m()\u001b[0m\n\u001b[1;32m      2\u001b[0m \u001b[0;34m\u001b[0m\u001b[0m\n\u001b[1;32m      3\u001b[0m \u001b[0mverified\u001b[0m \u001b[0;34m=\u001b[0m \u001b[0mverified_response\u001b[0m\u001b[0;34m[\u001b[0m\u001b[0;34m\"verified\"\u001b[0m\u001b[0;34m]\u001b[0m\u001b[0;34m\u001b[0m\u001b[0;34m\u001b[0m\u001b[0m\n",
      "\u001b[0;32m/opt/conda/lib/python3.7/site-packages/aries_cloudcontroller/controllers/proof.py\u001b[0m in \u001b[0;36mverify_presentation\u001b[0;34m(self, pres_ex_id)\u001b[0m\n\u001b[1;32m    103\u001b[0m     \u001b[0;32masync\u001b[0m \u001b[0;32mdef\u001b[0m \u001b[0mverify_presentation\u001b[0m\u001b[0;34m(\u001b[0m\u001b[0mself\u001b[0m\u001b[0;34m,\u001b[0m \u001b[0mpres_ex_id\u001b[0m\u001b[0;34m)\u001b[0m\u001b[0;34m:\u001b[0m\u001b[0;34m\u001b[0m\u001b[0;34m\u001b[0m\u001b[0m\n\u001b[1;32m    104\u001b[0m         return await self.admin_POST(\n\u001b[0;32m--> 105\u001b[0;31m             \u001b[0;34mf\"{self.base_url}/records/{pres_ex_id}/verify-presentation\"\u001b[0m\u001b[0;34m\u001b[0m\u001b[0;34m\u001b[0m\u001b[0m\n\u001b[0m\u001b[1;32m    106\u001b[0m         )\n\u001b[1;32m    107\u001b[0m \u001b[0;34m\u001b[0m\u001b[0m\n",
      "\u001b[0;32m/opt/conda/lib/python3.7/site-packages/aries_cloudcontroller/controllers/base.py\u001b[0m in \u001b[0;36madmin_POST\u001b[0;34m(self, path, json_data, text, params, data)\u001b[0m\n\u001b[1;32m     76\u001b[0m             )\n\u001b[1;32m     77\u001b[0m             response = await self.admin_request(\n\u001b[0;32m---> 78\u001b[0;31m                 \u001b[0;34m\"POST\"\u001b[0m\u001b[0;34m,\u001b[0m \u001b[0mpath\u001b[0m\u001b[0;34m,\u001b[0m \u001b[0mjson_data\u001b[0m\u001b[0;34m,\u001b[0m \u001b[0mtext\u001b[0m\u001b[0;34m,\u001b[0m \u001b[0mparams\u001b[0m\u001b[0;34m,\u001b[0m \u001b[0mdata\u001b[0m\u001b[0;34m\u001b[0m\u001b[0;34m\u001b[0m\u001b[0m\n\u001b[0m\u001b[1;32m     79\u001b[0m             )\n\u001b[1;32m     80\u001b[0m             LOGGER.debug(\n",
      "\u001b[0;32m/opt/conda/lib/python3.7/site-packages/aries_cloudcontroller/controllers/base.py\u001b[0m in \u001b[0;36madmin_request\u001b[0;34m(self, method, path, json_data, text, params, data)\u001b[0m\n\u001b[1;32m     41\u001b[0m             \u001b[0mmethod\u001b[0m\u001b[0;34m,\u001b[0m \u001b[0mself\u001b[0m\u001b[0;34m.\u001b[0m\u001b[0madmin_url\u001b[0m \u001b[0;34m+\u001b[0m \u001b[0mpath\u001b[0m\u001b[0;34m,\u001b[0m \u001b[0mjson\u001b[0m\u001b[0;34m=\u001b[0m\u001b[0mjson_data\u001b[0m\u001b[0;34m,\u001b[0m \u001b[0mparams\u001b[0m\u001b[0;34m=\u001b[0m\u001b[0mparams\u001b[0m\u001b[0;34m,\u001b[0m \u001b[0mdata\u001b[0m\u001b[0;34m=\u001b[0m\u001b[0mdata\u001b[0m\u001b[0;34m\u001b[0m\u001b[0;34m\u001b[0m\u001b[0m\n\u001b[1;32m     42\u001b[0m         ) as resp:\n\u001b[0;32m---> 43\u001b[0;31m             \u001b[0mresp\u001b[0m\u001b[0;34m.\u001b[0m\u001b[0mraise_for_status\u001b[0m\u001b[0;34m(\u001b[0m\u001b[0;34m)\u001b[0m\u001b[0;34m\u001b[0m\u001b[0;34m\u001b[0m\u001b[0m\n\u001b[0m\u001b[1;32m     44\u001b[0m             \u001b[0mresp_text\u001b[0m \u001b[0;34m=\u001b[0m \u001b[0;32mawait\u001b[0m \u001b[0mresp\u001b[0m\u001b[0;34m.\u001b[0m\u001b[0mtext\u001b[0m\u001b[0;34m(\u001b[0m\u001b[0;34m)\u001b[0m\u001b[0;34m\u001b[0m\u001b[0;34m\u001b[0m\u001b[0m\n\u001b[1;32m     45\u001b[0m             \u001b[0;32mif\u001b[0m \u001b[0;32mnot\u001b[0m \u001b[0mresp_text\u001b[0m \u001b[0;32mand\u001b[0m \u001b[0;32mnot\u001b[0m \u001b[0mtext\u001b[0m\u001b[0;34m:\u001b[0m\u001b[0;34m\u001b[0m\u001b[0;34m\u001b[0m\u001b[0m\n",
      "\u001b[0;32m/opt/conda/lib/python3.7/site-packages/aiohttp/client_reqrep.py\u001b[0m in \u001b[0;36mraise_for_status\u001b[0;34m(self)\u001b[0m\n\u001b[1;32m   1003\u001b[0m                 \u001b[0mstatus\u001b[0m\u001b[0;34m=\u001b[0m\u001b[0mself\u001b[0m\u001b[0;34m.\u001b[0m\u001b[0mstatus\u001b[0m\u001b[0;34m,\u001b[0m\u001b[0;34m\u001b[0m\u001b[0;34m\u001b[0m\u001b[0m\n\u001b[1;32m   1004\u001b[0m                 \u001b[0mmessage\u001b[0m\u001b[0;34m=\u001b[0m\u001b[0mself\u001b[0m\u001b[0;34m.\u001b[0m\u001b[0mreason\u001b[0m\u001b[0;34m,\u001b[0m\u001b[0;34m\u001b[0m\u001b[0;34m\u001b[0m\u001b[0m\n\u001b[0;32m-> 1005\u001b[0;31m                 \u001b[0mheaders\u001b[0m\u001b[0;34m=\u001b[0m\u001b[0mself\u001b[0m\u001b[0;34m.\u001b[0m\u001b[0mheaders\u001b[0m\u001b[0;34m,\u001b[0m\u001b[0;34m\u001b[0m\u001b[0;34m\u001b[0m\u001b[0m\n\u001b[0m\u001b[1;32m   1006\u001b[0m             )\n\u001b[1;32m   1007\u001b[0m \u001b[0;34m\u001b[0m\u001b[0m\n",
      "\u001b[0;31mClientResponseError\u001b[0m: 500, message='Internal Server Error', url=URL('http://scottish-deanery-agent:3021/present-proof/records/1ed08e32-3c25-45e0-83b0-ab26f71ae6d3/verify-presentation')"
     ]
    }
   ],
   "source": [
    "verified_response = await agent_controller.proofs.verify_presentation(presentation_exchange_id)\n",
    "\n",
    "verified = verified_response[\"verified\"]"
   ]
  },
  {
   "cell_type": "markdown",
   "id": "68cf9ae0",
   "metadata": {},
   "source": [
    "## Populate Credential Attributes\n",
    "\n",
    "Before you can issue a credential, you must define the values that will be issued in this credential. The attribute names **MUST** match those in the schem identified by the <schema_id> value.\n",
    "\n",
    "Make sure to change all code enclosed with <>.\n"
   ]
  },
  {
   "cell_type": "code",
   "execution_count": null,
   "id": "b132ff96",
   "metadata": {},
   "outputs": [],
   "source": [
    "<attr_1>=input(\"Please enter the value for <attr_1>: \")\n",
    "<attr_2>=input(\"Please enter the value for <attr_2>: \")\n",
    "credential_attributes = [\n",
    "    {\"name\": \"<attr_1>\", \"value\": <attr_1>},\n",
    "    {\"name\": \"<attr_2>\", \"value\": <attr_1>},\n",
    "]\n",
    "print(credential_attributes)"
   ]
  },
  {
   "cell_type": "markdown",
   "id": "bef61bcc",
   "metadata": {},
   "source": [
    "## Send Credential\n",
    "\n",
    "This is the easiest way to issue a credential because it automates the rest of the protocol steps. \n",
    "\n",
    "Note: The `connection_id` must be in the active state before a credential can be sent."
   ]
  },
  {
   "cell_type": "code",
   "execution_count": null,
   "id": "f9992a65",
   "metadata": {},
   "outputs": [],
   "source": [
    "# Do you want the ACA-Py instance to trace it's processes (for testing/timing analysis)\n",
    "trace = False\n",
    "comment = \"\"\n",
    "# Remove credential record after issued?\n",
    "auto_remove = True\n",
    "\n",
    "# Change <schema_id> and <cred_def_id> to correct pair. Cred_def_id must identify a definition to which your agent has corresponding private issuing key.\n",
    "send_cred_response = await agent_controller.issuer.send_credential(connection_id, <schema_id>, <cred_def_id>, credential_attributes, comment, auto_remove, trace)\n",
    "\n",
    "# Note last three args are optional.\n",
    "# await agent_controller.issuer.send_credential(connection_id, <schema_id>, <cred_def_id, credential_attributes)"
   ]
  },
  {
   "cell_type": "markdown",
   "id": "045326bd",
   "metadata": {},
   "source": [
    "## Optional: Revoke Credential\n",
    "\n",
    "Only possible if the credential issued used a revocable credential definition. (see support_revocation flag in write_cred_def() function).\n",
    "\n",
    "There are two approachs to revoke an revocable credential"
   ]
  },
  {
   "cell_type": "markdown",
   "id": "9297659c",
   "metadata": {},
   "source": [
    "### Option 1: Use credential Exchange ID\n",
    "\n",
    "Note: In a SSI application as an issuer you are might want to keep track of the identifiers for credential echange records. These can be used to retrieve records stored by the agent and also be used to identify a credential to revoke\n",
    "Note though that applications might not wish to retain these records as they contain sensitive PII"
   ]
  },
  {
   "cell_type": "code",
   "execution_count": 35,
   "id": "ed0aa968",
   "metadata": {},
   "outputs": [],
   "source": [
    "record_id = send_cred_response[\"credential_exchange_id\"]\n",
    "try:\n",
    "    record = await agent_controller.issuer.get_record_by_id(record_id)\n",
    "except:\n",
    "    print(\"Record not found. Did your agent automatically remove it?\")\n",
    "\n",
    "if record:\n",
    "    # For revoke_credential() you only need to provide (cred_ex_id) OR (rev_reg_id AND cred_rev_id).\n",
    "    response = await agent_controller.revocations.revoke_credential(record_id, publish=True)\n",
    "    response"
   ]
  },
  {
   "cell_type": "markdown",
   "id": "d6dc5729",
   "metadata": {},
   "source": [
    "### Option 2: Remove Credential using the Registry and Credential Revocation ID\n",
    "\n",
    "Does not currently work because of bug in code"
   ]
  },
  {
   "cell_type": "code",
   "execution_count": 15,
   "id": "4a0f813c",
   "metadata": {
    "tags": []
   },
   "outputs": [
    {
     "name": "stdout",
     "output_type": "stream",
     "text": [
      "{'result': {'issuer_did': '3JgxmaQ5kPctWA9AeVK4Uy', 'updated_at': '2021-05-10 14:56:03.084788Z', 'state': 'active', 'revoc_reg_id': '3JgxmaQ5kPctWA9AeVK4Uy:4:3JgxmaQ5kPctWA9AeVK4Uy:3:CL:211160:default:CL_ACCUM:ca02d4b5-d9cd-4c01-8782-8b9cd69ba802', 'tag': 'ca02d4b5-d9cd-4c01-8782-8b9cd69ba802', 'created_at': '2021-05-10 14:55:57.158589Z', 'max_cred_num': 1000, 'revoc_reg_entry': {'ver': '1.0', 'value': {'accum': '21 12AF91202A3598FDEE55F77A006495DF1BC7B5854847AAA6E349346182D194904 21 12592B44CE3989F6E65123DAF954705473B6DDC6AD88FDE8A0F996914C92A94EC 6 6B26EF8D9B0F6326AF96E5C8F0EBA0EE998FD16442BE0F5DF2946F72CE82E7FF 4 1C2BCCFC10A5D83CFA4C706865AB3A31400BDAAAB359141064DD2D68BEB55E22 6 8068EEB392199785B0D7059CFDE524BF95AA533B2EDA0FD5363002B6F69ADA0A 4 24AA66458B0519040DEEB0BF17FAD971D3105213DFCAE88157F526D08EB570FD'}}, 'cred_def_id': '3JgxmaQ5kPctWA9AeVK4Uy:3:CL:211160:default', 'revoc_def_type': 'CL_ACCUM', 'revoc_reg_def': {'ver': '1.0', 'id': '3JgxmaQ5kPctWA9AeVK4Uy:4:3JgxmaQ5kPctWA9AeVK4Uy:3:CL:211160:default:CL_ACCUM:ca02d4b5-d9cd-4c01-8782-8b9cd69ba802', 'revocDefType': 'CL_ACCUM', 'tag': 'ca02d4b5-d9cd-4c01-8782-8b9cd69ba802', 'credDefId': '3JgxmaQ5kPctWA9AeVK4Uy:3:CL:211160:default', 'value': {'issuanceType': 'ISSUANCE_BY_DEFAULT', 'maxCredNum': 1000, 'publicKeys': {'accumKey': {'z': '1 20F068BD7CBCB260341F9391C070CABD8E3B16A4968677619B8DA601BC009C3A 1 09171E12A1E803E5F815081C61014EE666C0FD89966CFCD1D2DB79FD8EFF7797 1 1397CDE61C84957DBD151691341C790699914C735DE8713834475C99FE7A5220 1 02A63CA499477D27D776278A3D8EC333D34278BE5E0FECF1208CB80B86E2F042 1 0C3F0CD2A984E5200639447E101BA0A39392FCB8585984C9492F321F259A8305 1 0D67626BECD0F23F46DDED2EAE490637BC2739ACFD936260B56F9C90DF404CB0 1 0AAA013A755A52D2AC9D2C53BF60428A75F05ECD3A19677E8C374ED5EE119B1F 1 11ECE685B4B14DBF0F7990222A7670C374E6921A8480CBAC4C987D81EABF2E85 1 23EDFCC0E3D20B24D2F21F3EDB1A98697CF045B16FB775F55AA306B17815F7AD 1 09B99026A16A65F92168B453A56F0B9DD71F59F3C6D7254669B5AAF40FBB601B 1 09CE7F5338B7E79256864AD22F788F125A58F037A0B3D9BB1FFD1DE982D9216E 1 11FFAD187898663420514CD34ADD388526DB97C429DEE7B170AEC5B8C6B05B69'}}, 'tailsHash': '9zvABRQW42d6KPiC8sT9uCc9TK52MnYgLpd2CNtwJ3Rt', 'tailsLocation': 'http://tails-server:6543/3JgxmaQ5kPctWA9AeVK4Uy:4:3JgxmaQ5kPctWA9AeVK4Uy:3:CL:211160:default:CL_ACCUM:ca02d4b5-d9cd-4c01-8782-8b9cd69ba802'}}, 'pending_pub': [], 'tails_public_uri': 'http://tails-server:6543/3JgxmaQ5kPctWA9AeVK4Uy:4:3JgxmaQ5kPctWA9AeVK4Uy:3:CL:211160:default:CL_ACCUM:ca02d4b5-d9cd-4c01-8782-8b9cd69ba802', 'tails_hash': '9zvABRQW42d6KPiC8sT9uCc9TK52MnYgLpd2CNtwJ3Rt', 'record_id': 'ca02d4b5-d9cd-4c01-8782-8b9cd69ba802', 'tails_local_path': '/home/indy/.indy_client/tails/3JgxmaQ5kPctWA9AeVK4Uy:4:3JgxmaQ5kPctWA9AeVK4Uy:3:CL:211160:default:CL_ACCUM:ca02d4b5-d9cd-4c01-8782-8b9cd69ba802/9zvABRQW42d6KPiC8sT9uCc9TK52MnYgLpd2CNtwJ3Rt'}}\n"
     ]
    }
   ],
   "source": [
    "registry = await agent_controller.revocations.get_active_revocation_registry_by_cred_def(cred_def_id)\n",
    "print(registry)"
   ]
  },
  {
   "cell_type": "code",
   "execution_count": 26,
   "id": "6cab04e6",
   "metadata": {},
   "outputs": [],
   "source": [
    "revoc_reg_id = registry[\"result\"][\"revoc_reg_id\"]"
   ]
  },
  {
   "cell_type": "code",
   "execution_count": 28,
   "id": "bdeb6fd3",
   "metadata": {},
   "outputs": [
    {
     "ename": "ClientResponseError",
     "evalue": "422, message='Unprocessable Entity', url=URL('http://alice-agent:3021/revocation/revoke')",
     "output_type": "error",
     "traceback": [
      "\u001b[0;31m---------------------------------------------------------------------------\u001b[0m",
      "\u001b[0;31mClientResponseError\u001b[0m                       Traceback (most recent call last)",
      "\u001b[0;32m<ipython-input-28-c98cbe9a2002>\u001b[0m in \u001b[0;36masync-def-wrapper\u001b[0;34m()\u001b[0m\n",
      "\u001b[0;32m/opt/conda/lib/python3.7/site-packages/aries_cloudcontroller/controllers/revocation.py\u001b[0m in \u001b[0;36mrevoke_credential\u001b[0;34m(self, cred_ex_id, cred_rev_id, rev_reg_id, publish)\u001b[0m\n\u001b[1;32m     38\u001b[0m             )\n\u001b[1;32m     39\u001b[0m \u001b[0;34m\u001b[0m\u001b[0m\n\u001b[0;32m---> 40\u001b[0;31m         \u001b[0;32mreturn\u001b[0m \u001b[0;32mawait\u001b[0m \u001b[0mself\u001b[0m\u001b[0;34m.\u001b[0m\u001b[0madmin_POST\u001b[0m\u001b[0;34m(\u001b[0m\u001b[0;34mf\"{self.base_url}/revoke\"\u001b[0m\u001b[0;34m,\u001b[0m \u001b[0mjson_data\u001b[0m\u001b[0;34m=\u001b[0m\u001b[0mreq_body\u001b[0m\u001b[0;34m)\u001b[0m\u001b[0;34m\u001b[0m\u001b[0;34m\u001b[0m\u001b[0m\n\u001b[0m\u001b[1;32m     41\u001b[0m \u001b[0;34m\u001b[0m\u001b[0m\n\u001b[1;32m     42\u001b[0m     \u001b[0;32masync\u001b[0m \u001b[0;32mdef\u001b[0m \u001b[0mpublish_pending_revocations\u001b[0m\u001b[0;34m(\u001b[0m\u001b[0mself\u001b[0m\u001b[0;34m,\u001b[0m \u001b[0mpending_revs\u001b[0m\u001b[0;34m)\u001b[0m\u001b[0;34m:\u001b[0m\u001b[0;34m\u001b[0m\u001b[0;34m\u001b[0m\u001b[0m\n",
      "\u001b[0;32m/opt/conda/lib/python3.7/site-packages/aries_cloudcontroller/controllers/base.py\u001b[0m in \u001b[0;36madmin_POST\u001b[0;34m(self, path, json_data, text, params, data)\u001b[0m\n\u001b[1;32m     93\u001b[0m                 \u001b[0;34m(\u001b[0m\u001b[0;34m\" with data: \\n{}\"\u001b[0m\u001b[0;34m.\u001b[0m\u001b[0mformat\u001b[0m\u001b[0;34m(\u001b[0m\u001b[0mrepr_json\u001b[0m\u001b[0;34m(\u001b[0m\u001b[0mjson_data\u001b[0m\u001b[0;34m)\u001b[0m\u001b[0;34m)\u001b[0m \u001b[0;32mif\u001b[0m \u001b[0mjson_data\u001b[0m \u001b[0;32melse\u001b[0m \u001b[0;34m\"\"\u001b[0m\u001b[0;34m)\u001b[0m\u001b[0;34m,\u001b[0m\u001b[0;34m\u001b[0m\u001b[0;34m\u001b[0m\u001b[0m\n\u001b[1;32m     94\u001b[0m             )\n\u001b[0;32m---> 95\u001b[0;31m             \u001b[0mresponse\u001b[0m \u001b[0;34m=\u001b[0m \u001b[0;32mawait\u001b[0m \u001b[0mself\u001b[0m\u001b[0;34m.\u001b[0m\u001b[0madmin_request\u001b[0m\u001b[0;34m(\u001b[0m\u001b[0;34m\"POST\"\u001b[0m\u001b[0;34m,\u001b[0m \u001b[0mpath\u001b[0m\u001b[0;34m,\u001b[0m \u001b[0mjson_data\u001b[0m\u001b[0;34m,\u001b[0m \u001b[0mtext\u001b[0m\u001b[0;34m,\u001b[0m \u001b[0mparams\u001b[0m\u001b[0;34m,\u001b[0m \u001b[0mdata\u001b[0m\u001b[0;34m)\u001b[0m\u001b[0;34m\u001b[0m\u001b[0;34m\u001b[0m\u001b[0m\n\u001b[0m\u001b[1;32m     96\u001b[0m             EVENT_LOGGER.debug(\n\u001b[1;32m     97\u001b[0m                 \u001b[0;34m\"Response from POST %s received: \\n%s\"\u001b[0m\u001b[0;34m,\u001b[0m\u001b[0;34m\u001b[0m\u001b[0;34m\u001b[0m\u001b[0m\n",
      "\u001b[0;32m/opt/conda/lib/python3.7/site-packages/aries_cloudcontroller/controllers/base.py\u001b[0m in \u001b[0;36madmin_request\u001b[0;34m(self, method, path, json_data, text, params, data)\u001b[0m\n\u001b[1;32m     61\u001b[0m             \u001b[0mmethod\u001b[0m\u001b[0;34m,\u001b[0m \u001b[0mself\u001b[0m\u001b[0;34m.\u001b[0m\u001b[0madmin_url\u001b[0m \u001b[0;34m+\u001b[0m \u001b[0mpath\u001b[0m\u001b[0;34m,\u001b[0m \u001b[0mjson\u001b[0m\u001b[0;34m=\u001b[0m\u001b[0mjson_data\u001b[0m\u001b[0;34m,\u001b[0m \u001b[0mparams\u001b[0m\u001b[0;34m=\u001b[0m\u001b[0mparams\u001b[0m\u001b[0;34m,\u001b[0m \u001b[0mdata\u001b[0m\u001b[0;34m=\u001b[0m\u001b[0mdata\u001b[0m\u001b[0;34m\u001b[0m\u001b[0;34m\u001b[0m\u001b[0m\n\u001b[1;32m     62\u001b[0m         ) as resp:\n\u001b[0;32m---> 63\u001b[0;31m             \u001b[0mresp\u001b[0m\u001b[0;34m.\u001b[0m\u001b[0mraise_for_status\u001b[0m\u001b[0;34m(\u001b[0m\u001b[0;34m)\u001b[0m\u001b[0;34m\u001b[0m\u001b[0;34m\u001b[0m\u001b[0m\n\u001b[0m\u001b[1;32m     64\u001b[0m             \u001b[0mresp_text\u001b[0m \u001b[0;34m=\u001b[0m \u001b[0;32mawait\u001b[0m \u001b[0mresp\u001b[0m\u001b[0;34m.\u001b[0m\u001b[0mtext\u001b[0m\u001b[0;34m(\u001b[0m\u001b[0;34m)\u001b[0m\u001b[0;34m\u001b[0m\u001b[0;34m\u001b[0m\u001b[0m\n\u001b[1;32m     65\u001b[0m             \u001b[0;32mif\u001b[0m \u001b[0;32mnot\u001b[0m \u001b[0mresp_text\u001b[0m \u001b[0;32mand\u001b[0m \u001b[0;32mnot\u001b[0m \u001b[0mtext\u001b[0m\u001b[0;34m:\u001b[0m\u001b[0;34m\u001b[0m\u001b[0;34m\u001b[0m\u001b[0m\n",
      "\u001b[0;32m/opt/conda/lib/python3.7/site-packages/aiohttp/client_reqrep.py\u001b[0m in \u001b[0;36mraise_for_status\u001b[0;34m(self)\u001b[0m\n\u001b[1;32m   1003\u001b[0m                 \u001b[0mstatus\u001b[0m\u001b[0;34m=\u001b[0m\u001b[0mself\u001b[0m\u001b[0;34m.\u001b[0m\u001b[0mstatus\u001b[0m\u001b[0;34m,\u001b[0m\u001b[0;34m\u001b[0m\u001b[0;34m\u001b[0m\u001b[0m\n\u001b[1;32m   1004\u001b[0m                 \u001b[0mmessage\u001b[0m\u001b[0;34m=\u001b[0m\u001b[0mself\u001b[0m\u001b[0;34m.\u001b[0m\u001b[0mreason\u001b[0m\u001b[0;34m,\u001b[0m\u001b[0;34m\u001b[0m\u001b[0;34m\u001b[0m\u001b[0m\n\u001b[0;32m-> 1005\u001b[0;31m                 \u001b[0mheaders\u001b[0m\u001b[0;34m=\u001b[0m\u001b[0mself\u001b[0m\u001b[0;34m.\u001b[0m\u001b[0mheaders\u001b[0m\u001b[0;34m,\u001b[0m\u001b[0;34m\u001b[0m\u001b[0;34m\u001b[0m\u001b[0m\n\u001b[0m\u001b[1;32m   1006\u001b[0m             )\n\u001b[1;32m   1007\u001b[0m \u001b[0;34m\u001b[0m\u001b[0m\n",
      "\u001b[0;31mClientResponseError\u001b[0m: 422, message='Unprocessable Entity', url=URL('http://alice-agent:3021/revocation/revoke')"
     ]
    },
    {
     "name": "stdout",
     "output_type": "stream",
     "text": [
      "\u001b[0m\u001b[?7h\u001b[0;34mError during POST /revocation/revoke: 422, message='Unprocessable Entity', url=URL('http://alice-agent:3021/revocation/revoke')\u001b[0m\n",
      "\u001b[0m"
     ]
    }
   ],
   "source": [
    "# Public revocation registry update to ledger\n",
    "publish = True\n",
    "# Believe this is index in rev registry starting from 1\n",
    "cred_rev_id = 1\n",
    "response = await agent_controller.revocations.revoke_credential(cred_rev_id = cred_rev_id, rev_reg_id = revoc_reg_id, publish=True)"
   ]
  },
  {
   "cell_type": "markdown",
   "id": "c9d2bfce",
   "metadata": {},
   "source": [
    "## Terminate Controller\n",
    "\n",
    "Whenever you have finished with this notebook, be sure to terminate the controller. This is especially important if your business logic runs across multiple notebooks."
   ]
  },
  {
   "cell_type": "code",
   "execution_count": null,
   "id": "93d55680",
   "metadata": {},
   "outputs": [],
   "source": [
    "await agent_controller.terminate()"
   ]
  }
 ],
 "metadata": {
  "kernelspec": {
   "display_name": "Python 3",
   "language": "python",
   "name": "python3"
  },
  "language_info": {
   "codemirror_mode": {
    "name": "ipython",
    "version": 3
   },
   "file_extension": ".py",
   "mimetype": "text/x-python",
   "name": "python",
   "nbconvert_exporter": "python",
   "pygments_lexer": "ipython3",
   "version": "3.7.6"
  }
 },
 "nbformat": 4,
 "nbformat_minor": 5
}
