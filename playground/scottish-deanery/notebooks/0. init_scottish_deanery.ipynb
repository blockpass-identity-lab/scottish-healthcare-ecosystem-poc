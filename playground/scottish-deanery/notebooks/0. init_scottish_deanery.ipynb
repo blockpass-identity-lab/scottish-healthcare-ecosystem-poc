{
 "cells": [
  {
   "cell_type": "markdown",
   "id": "f514e430",
   "metadata": {},
   "source": [
    "# The Scottish Deanery Will Provide Digital Evidence Required for Junior Doctors to Easily Rotate Around the Scottish Healthcare System\n",
    "\n",
    "These credentials include:\n",
    "\n",
    "* Right To Work Credential\n",
    "* DBS Check\n",
    "* Compulsory Basic Training\n",
    "* Immunity Certificate\n",
    "\n",
    "\n",
    "![](https://www.scotlanddeanery.nhs.scot/media/398547/deanerymap_v1_regions-01-002.png?width=662&height=372)"
   ]
  },
  {
   "cell_type": "markdown",
   "id": "09e4cc52",
   "metadata": {},
   "source": [
    "## Important things to consider\n",
    "\n",
    "* All junior doctors join a deanery. In Scotland there is only one.\n",
    "* The Deanery will check both the identity documents and GMC Licence of the doctor. \n",
    "* Where necessary they will perform the proper assurance processes before providing the doctor with digital evidence in the form of a credential that these processes have been completed."
   ]
  },
  {
   "cell_type": "markdown",
   "id": "ad46497d",
   "metadata": {},
   "source": [
    "### Imports"
   ]
  },
  {
   "cell_type": "code",
   "execution_count": 1,
   "id": "6dd259c1",
   "metadata": {},
   "outputs": [],
   "source": [
    "from aries_cloudcontroller import AriesAgentController\n",
    "import os\n",
    "from termcolor import colored"
   ]
  },
  {
   "cell_type": "markdown",
   "id": "4c85cd4a",
   "metadata": {},
   "source": [
    "### Initialise the Agent Controller"
   ]
  },
  {
   "cell_type": "code",
   "execution_count": 2,
   "id": "7b1230d0",
   "metadata": {},
   "outputs": [
    {
     "name": "stdout",
     "output_type": "stream",
     "text": [
      "Initialising a controller with admin api at http://scottish-deanery-agent:3021 and an api key of DeaneryAPIKey\n"
     ]
    }
   ],
   "source": [
    "api_key = os.getenv(\"ACAPY_ADMIN_API_KEY\")\n",
    "admin_url = os.getenv(\"ADMIN_URL\")\n",
    "\n",
    "print(f\"Initialising a controller with admin api at {admin_url} and an api key of {api_key}\")\n",
    "agent_controller = AriesAgentController(admin_url,api_key)"
   ]
  },
  {
   "cell_type": "markdown",
   "id": "c6c73cbd",
   "metadata": {},
   "source": [
    "## Write DID to the Public Ledger\n",
    "\n",
    "Note: if defined a ACAPY_WALLET_SEED value for your agent then this function will return a DID, but this DID still needs to be written to the ledger. If you did not define a seed you will need to create a DID first."
   ]
  },
  {
   "cell_type": "code",
   "execution_count": 3,
   "id": "e78a0821",
   "metadata": {},
   "outputs": [],
   "source": [
    "public_did_response = await agent_controller.wallet.get_public_did()"
   ]
  },
  {
   "cell_type": "code",
   "execution_count": 4,
   "id": "109a59f2",
   "metadata": {},
   "outputs": [
    {
     "name": "stdout",
     "output_type": "stream",
     "text": [
      "DID {'did': 'UBDzYmydH198hgQq6yRyFu', 'verkey': 'Fp6YnoYQKg38XAexKo3iebp5NStZgyg3vabgV92dUSE9', 'posture': 'public'}\n"
     ]
    }
   ],
   "source": [
    "if public_did_response[\"result\"]:\n",
    "    did_obj = public_did_response[\"result\"]\n",
    "else:\n",
    "    create_did_response = await agent_controller.wallet.create_did()\n",
    "    did_obj = create_did_response['result']\n",
    "print(\"DID\", did_obj)"
   ]
  },
  {
   "cell_type": "markdown",
   "id": "7ec48595",
   "metadata": {},
   "source": [
    "## No Required for Local VON Network"
   ]
  },
  {
   "cell_type": "code",
   "execution_count": 5,
   "id": "66baedfe",
   "metadata": {},
   "outputs": [],
   "source": [
    "# # write new DID to Sovrin Stagingnet\n",
    "# import requests\n",
    "# import json \n",
    "\n",
    "# url = 'https://selfserve.sovrin.org/nym'\n",
    "\n",
    "# payload = {\"network\":\"stagingnet\",\"did\": did_obj[\"did\"],\"verkey\":did_obj[\"verkey\"],\"paymentaddr\":\"\"}\n",
    "\n",
    "# # Adding empty header as parameters are being sent in payload\n",
    "# headers = {}\n",
    "\n",
    "# r = requests.post(url, data=json.dumps(payload), headers=headers)\n",
    "# print(r.json())"
   ]
  },
  {
   "cell_type": "markdown",
   "id": "a7d26844",
   "metadata": {},
   "source": [
    "## Accept Transaction Author Agreement\n",
    "\n",
    "Although the Sovrin StagingNet is permissionless, before DID's have the authority to write to the ledger they must accept something called a transaction author agreement by signing it using the DID they have on the ledger.\n",
    "\n",
    "As a global public ledger, the Sovrin Ledger and all its participants are subject to privacy and data protection regulations such as the EU General Data Protection Regulation (GDPR). These regulations require that the participants be explicit about responsibilities for Personal Data.\n",
    "\n",
    "To clarify these responsibilities and provide protection for all parties, the Sovrin Governance Framework Working Group developed an agreement between Transaction Authors and the Sovrin Foundation. The TAA can be found at Sovrin.org. It ensures that users are aware of and consent to the fact that all data written to the Sovrin Ledger cannot be removed, even if the original author of the transaction requests its removal.\n",
    "\n",
    "The TAA outlines the policies that users must follow when interacting with the Sovrin Ledger. When a user’s client software is preparing a transaction for submission to the network, it must include a demonstration that the user had the opportunity to review the current TAA and accept it. This is done by including some additional fields in the ledger write transaction: \n",
    "\n",
    "* A hash of the agreement\n",
    "* A date when the agreement was accepted, and\n",
    "* A string indicating the user interaction that was followed to obtain the acceptance.\n",
    "\n",
    "The Indy client API used by Sovrin has been extended to allow users to review current and past agreements and to indicate acceptance through an approved user interaction pattern. - source: https://sovrin.org/preparing-for-the-sovrin-transaction-author-agreement/\n",
    "\n",
    "For more details on TAA please read more at the following links:\n",
    "* [Preparing for the Sovrin Transaction Author Agreement](https://sovrin.org/preparing-for-the-sovrin-transaction-author-agreement/)\n",
    "* [How the recent approval of the Sovrin Governance Framework v2 affects Transaction Authors\n",
    "](https://sovrin.org/how-the-recent-approval-of-the-sovrin-governance-framework-v2-affects-transaction-authors/)\n",
    "* [TAA v2](https://github.com/sovrin-foundation/sovrin/blob/master/TAA/TAA.md)\n",
    "* [TAA Acceptance Mechanism List (AML)](https://github.com/sovrin-foundation/sovrin/blob/master/TAA/AML.md)"
   ]
  },
  {
   "cell_type": "code",
   "execution_count": 6,
   "id": "66a13a83",
   "metadata": {},
   "outputs": [],
   "source": [
    "# taa_response = await agent_controller.ledger.get_taa()\n",
    "# TAA = taa_response['result']['taa_record']\n",
    "# TAA['mechanism'] = \"service_agreement\"\n",
    "# await agent_controller.ledger.accept_taa(TAA)"
   ]
  },
  {
   "cell_type": "markdown",
   "id": "a4b9c7d6",
   "metadata": {},
   "source": [
    "## Assign Agent Public DID if Not Set\n",
    "\n",
    "Will only be ran if ACAPY_WALLET_SEED not initially set."
   ]
  },
  {
   "cell_type": "code",
   "execution_count": 7,
   "id": "ee95faa1",
   "metadata": {},
   "outputs": [
    {
     "name": "stdout",
     "output_type": "stream",
     "text": [
      "Successfully intialised agent with Public DID :  UBDzYmydH198hgQq6yRyFu\n"
     ]
    }
   ],
   "source": [
    "if did_obj[\"posture\"] != \"public\":\n",
    "    response = await agent_controller.wallet.assign_public_did(did_obj[\"did\"])\n",
    "print(\"Successfully intialised agent with Public DID : \", did_obj[\"did\"])"
   ]
  },
  {
   "cell_type": "markdown",
   "id": "bc2d8c4a",
   "metadata": {},
   "source": [
    "## Writing Schema\n",
    "\n",
    "Write as many schema to the ledger as you like. Be sure to store each schema_id, you will need these when it comes to authoring credential defintition transactions and issuing credentials against this schema.\n",
    "\n",
    "Uncomment and copy the below cell as many times as you need. Be sure to update any arugments surrounded by <> with your own details."
   ]
  },
  {
   "cell_type": "code",
   "execution_count": 8,
   "id": "95803790",
   "metadata": {},
   "outputs": [],
   "source": [
    "# Define you schema name - must be unique on the ledger\n",
    "schema_name = \"UK Right to Work\"\n",
    "# Can version the schema if you wish to update it\n",
    "schema_version = \"0.0.1\"\n",
    "# Define any list of attributes you wish to include in your schema\n",
    "attributes = [\"Residency Status\", \"Date Completed\", \"Expiration Date\"]\n",
    "\n",
    "response = await agent_controller.schema.write_schema(schema_name, attributes, schema_version)\n",
    "rtw_schema_id = response[\"schema_id\"]"
   ]
  },
  {
   "cell_type": "code",
   "execution_count": 9,
   "id": "11aa2cf1",
   "metadata": {},
   "outputs": [],
   "source": [
    "# Define you schema name - must be unique on the ledger\n",
    "schema_name = \"DBS Check\"\n",
    "# Can version the schema if you wish to update it\n",
    "schema_version = \"0.0.1\"\n",
    "# Define any list of attributes you wish to include in your schema\n",
    "\n",
    "# The idea with the Certificate Reference Number is it could be looked up on the gov database to verify this information\n",
    "# Rather than reproducing all the certification information which the GMC is not authorised to do\n",
    "# This credential is evidence that a DBS check has taken place\n",
    "attributes = [\"Certificate Reference Number\",\"Date Completed\", \"Expiration Date\", \"Type\"]\n",
    "\n",
    "response = await agent_controller.schema.write_schema(schema_name, attributes, schema_version)\n",
    "dbs_schema_id = response[\"schema_id\"]"
   ]
  },
  {
   "cell_type": "code",
   "execution_count": 10,
   "id": "437e1b01",
   "metadata": {},
   "outputs": [],
   "source": [
    "# Define you schema name - must be unique on the ledger\n",
    "schema_name = \"Immunity Certificate\"\n",
    "# Can version the schema if you wish to update it\n",
    "schema_version = \"0.0.1\"\n",
    "# Define any list of attributes you wish to include in your schema\n",
    "\n",
    "# The idea with the Certificate Reference Number is it could be looked up on the gov database to verify this information\n",
    "# Rather than reproducing all the certification information which the GMC is not authorised to do\n",
    "# This credential is evidence that a DBS check has taken place\n",
    "attributes = [\"Date Completed\", \"Immunisations\"]\n",
    "\n",
    "response = await agent_controller.schema.write_schema(schema_name, attributes, schema_version)\n",
    "ic_schema_id = response[\"schema_id\"]"
   ]
  },
  {
   "cell_type": "code",
   "execution_count": 11,
   "id": "4b2d954a",
   "metadata": {},
   "outputs": [],
   "source": [
    "# Define you schema name - must be unique on the ledger\n",
    "schema_name = \"Compulsory Basic Training\"\n",
    "# Can version the schema if you wish to update it\n",
    "schema_version = \"0.0.1\"\n",
    "# Define any list of attributes you wish to include in your schema\n",
    "\n",
    "attributes = [\"Date Completed\", \"Expiration Date\"]\n",
    "\n",
    "response = await agent_controller.schema.write_schema(schema_name, attributes, schema_version)\n",
    "cbt_schema_id = response[\"schema_id\"]"
   ]
  },
  {
   "cell_type": "markdown",
   "id": "01cfc9a8",
   "metadata": {},
   "source": [
    "## Writing Credential Definitions\n",
    "\n",
    "For all schema you intend to issue credentials against your agent must author a credential definition transaction to the public ledger. This specifies the public cryptographic material your agent will use to sign all credentials issued against a specific schema. \n",
    "\n",
    "Again uncomment and copy this cell as often as you need. Remebering to update the arguments in <> to specify your schema identifiers. Store each credential definition identifier in a unique variable."
   ]
  },
  {
   "cell_type": "code",
   "execution_count": 12,
   "id": "c0e06089",
   "metadata": {},
   "outputs": [],
   "source": [
    "# Tag and group specific credential definitions\n",
    "tag = \"doctor-onboarding\"\n",
    "\n",
    "# Make Cred Def support revocation. Credentials issued using this definition will be able to be revoked.\n",
    "support_revocation = False\n",
    "\n",
    "cred_def_response = await agent_controller.definitions.write_cred_def(rtw_schema_id, tag, support_revocation)\n",
    "rtw_cred_def_id = cred_def_response[\"credential_definition_id\"]"
   ]
  },
  {
   "cell_type": "code",
   "execution_count": 13,
   "id": "7cb327b3",
   "metadata": {},
   "outputs": [],
   "source": [
    "# Tag and group specific credential definitions\n",
    "tag = \"doctor-onboarding\"\n",
    "\n",
    "# Make Cred Def support revocation. Credentials issued using this definition will be able to be revoked.\n",
    "support_revocation = False\n",
    "\n",
    "cred_def_response = await agent_controller.definitions.write_cred_def(dbs_schema_id, tag, support_revocation)\n",
    "dbs_cred_def_id = cred_def_response[\"credential_definition_id\"]"
   ]
  },
  {
   "cell_type": "code",
   "execution_count": 14,
   "id": "2ace06a9",
   "metadata": {},
   "outputs": [],
   "source": [
    "# Tag and group specific credential definitions\n",
    "tag = \"doctor-onboarding\"\n",
    "\n",
    "# Make Cred Def support revocation. Credentials issued using this definition will be able to be revoked.\n",
    "support_revocation = False\n",
    "\n",
    "cred_def_response = await agent_controller.definitions.write_cred_def(ic_schema_id, tag, support_revocation)\n",
    "ic_cred_def_id = cred_def_response[\"credential_definition_id\"]"
   ]
  },
  {
   "cell_type": "code",
   "execution_count": 15,
   "id": "57dad4e1",
   "metadata": {},
   "outputs": [],
   "source": [
    "# Tag and group specific credential definitions\n",
    "tag = \"doctor-onboarding\"\n",
    "\n",
    "# Make Cred Def support revocation. Credentials issued using this definition will be able to be revoked.\n",
    "support_revocation = False\n",
    "\n",
    "cred_def_response = await agent_controller.definitions.write_cred_def(cbt_schema_id, tag, support_revocation)\n",
    "cbt_cred_def_id = cred_def_response[\"credential_definition_id\"]"
   ]
  },
  {
   "cell_type": "markdown",
   "id": "75b0299f",
   "metadata": {},
   "source": [
    "## Persist Identifiers for use throughout other business logic notebooks associated with this agent\n",
    "\n",
    "The schema_id and cred_def_id value pairs are required whenever issuing credentials, and also can be used to constrain acceptable proof requests. In a real application these values might be stored in environment variables or most likely in a database. For notebooks we have found it easier to store as string values in a cell and then load these values into the jupyter store so that they can be fetched across multiple notebooks.\n",
    "\n",
    "As such you are recommended to print out each of the schema and cred def identifiers used by your agent and copy them across to your **main** business logic notebook where you should store them in a variable and save them to the jupyter store. Remember, you should only be running this notebook once so having this logic in here will not be useful.\n"
   ]
  },
  {
   "cell_type": "code",
   "execution_count": 16,
   "id": "51674146",
   "metadata": {},
   "outputs": [
    {
     "name": "stdout",
     "output_type": "stream",
     "text": [
      "rtw_schema_id = 'UBDzYmydH198hgQq6yRyFu:2:UK Right to Work:0.0.1'\n",
      "rtw_cred_def_id = 'UBDzYmydH198hgQq6yRyFu:3:CL:29:doctor-onboarding'\n",
      "dbs_schema_id = 'UBDzYmydH198hgQq6yRyFu:2:DBS Check:0.0.1'\n",
      "dbs_cred_def_id = 'UBDzYmydH198hgQq6yRyFu:3:CL:30:doctor-onboarding'\n",
      "ic_schema_id = 'UBDzYmydH198hgQq6yRyFu:2:Immunity Certificate:0.0.1'\n",
      "ic_cred_def_id = 'UBDzYmydH198hgQq6yRyFu:3:CL:31:doctor-onboarding'\n",
      "cbt_schema_id = 'UBDzYmydH198hgQq6yRyFu:2:Compulsory Basic Training:0.0.1'\n",
      "cbt_cred_def_id = 'UBDzYmydH198hgQq6yRyFu:3:CL:32:doctor-onboarding'\n"
     ]
    }
   ],
   "source": [
    "print(f\"rtw_schema_id = '{rtw_schema_id}'\")\n",
    "print(f\"rtw_cred_def_id = '{rtw_cred_def_id}'\")\n",
    "print(f\"dbs_schema_id = '{dbs_schema_id}'\")\n",
    "print(f\"dbs_cred_def_id = '{dbs_cred_def_id}'\")\n",
    "print(f\"ic_schema_id = '{ic_schema_id}'\")\n",
    "print(f\"ic_cred_def_id = '{ic_cred_def_id}'\")\n",
    "print(f\"cbt_schema_id = '{cbt_schema_id}'\")\n",
    "print(f\"cbt_cred_def_id = '{cbt_cred_def_id}'\")"
   ]
  },
  {
   "cell_type": "markdown",
   "id": "6db07a62",
   "metadata": {},
   "source": [
    "## Terminate Controller\n"
   ]
  },
  {
   "cell_type": "code",
   "execution_count": 20,
   "id": "55575af3",
   "metadata": {},
   "outputs": [],
   "source": [
    "await agent_controller.terminate()"
   ]
  },
  {
   "cell_type": "code",
   "execution_count": null,
   "id": "327be7cb",
   "metadata": {},
   "outputs": [],
   "source": []
  }
 ],
 "metadata": {
  "kernelspec": {
   "display_name": "Python 3",
   "language": "python",
   "name": "python3"
  },
  "language_info": {
   "codemirror_mode": {
    "name": "ipython",
    "version": 3
   },
   "file_extension": ".py",
   "mimetype": "text/x-python",
   "name": "python",
   "nbconvert_exporter": "python",
   "pygments_lexer": "ipython3",
   "version": "3.7.6"
  }
 },
 "nbformat": 4,
 "nbformat_minor": 5
}
