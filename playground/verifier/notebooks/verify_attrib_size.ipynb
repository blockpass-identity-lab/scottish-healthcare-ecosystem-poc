{
 "cells": [
  {
   "cell_type": "markdown",
   "id": "46bce60b",
   "metadata": {},
   "source": [
    "# Performance Test\n",
    "## Variable Attribute Size\n"
   ]
  },
  {
   "cell_type": "markdown",
   "id": "40cf49b2",
   "metadata": {},
   "source": [
    "### Imports"
   ]
  },
  {
   "cell_type": "code",
   "execution_count": 1,
   "id": "df74c615",
   "metadata": {},
   "outputs": [],
   "source": [
    "from aries_cloudcontroller import AriesAgentController\n",
    "\n",
    "from libs.performance_service import PerformanceService\n",
    "import os\n",
    "import time\n",
    "from termcolor import colored"
   ]
  },
  {
   "cell_type": "markdown",
   "id": "1f57483b",
   "metadata": {},
   "source": [
    "### Initialise the Agent Controller"
   ]
  },
  {
   "cell_type": "code",
   "execution_count": 2,
   "id": "0194a147",
   "metadata": {},
   "outputs": [
    {
     "name": "stdout",
     "output_type": "stream",
     "text": [
      "Initialising a controller with admin api at http://verifier-agent:3021 and an api key of adminApiKey\n"
     ]
    }
   ],
   "source": [
    "api_key = os.getenv(\"ACAPY_ADMIN_API_KEY\")\n",
    "admin_url = os.getenv(\"ADMIN_URL\")\n",
    "\n",
    "print(f\"Initialising a controller with admin api at {admin_url} and an api key of {api_key}\")\n",
    "agent_controller = AriesAgentController(admin_url,api_key)\n",
    "\n",
    "agent_controller.register_listeners([], defaults=True)"
   ]
  },
  {
   "cell_type": "markdown",
   "id": "16d41ba5",
   "metadata": {},
   "source": [
    "### Start a Webhook Server"
   ]
  },
  {
   "cell_type": "code",
   "execution_count": 3,
   "id": "da6be760",
   "metadata": {},
   "outputs": [
    {
     "name": "stdout",
     "output_type": "stream",
     "text": [
      "Listening for webhooks from agent at http://0.0.0.0:3010\n"
     ]
    }
   ],
   "source": [
    "webhook_port = int(os.getenv(\"WEBHOOK_PORT\"))\n",
    "webhook_host = \"0.0.0.0\"\n",
    "\n",
    "await agent_controller.init_webhook_server(webhook_host, webhook_port)\n",
    "\n",
    "print(f\"Listening for webhooks from agent at http://{webhook_host}:{webhook_port}\")"
   ]
  },
  {
   "cell_type": "markdown",
   "id": "111f5e4c",
   "metadata": {},
   "source": [
    "## Store Schema and Cred Def Identifiers\n",
    "\n",
    "These are used to specify the proof requests for the experiment"
   ]
  },
  {
   "cell_type": "code",
   "execution_count": 9,
   "id": "2bbd3455",
   "metadata": {},
   "outputs": [],
   "source": [
    "size1_schema_id='H7zAaLJRZrdbPqbVMMfL5t:2:size1:0.0.1'\n",
    "size1_cred_def_id='H7zAaLJRZrdbPqbVMMfL5t:3:CL:8:default'\n",
    "size1_rev_cred_def_id='H7zAaLJRZrdbPqbVMMfL5t:3:CL:8:revocable'\n",
    "\n",
    "size2_schema_id='H7zAaLJRZrdbPqbVMMfL5t:2:size2:0.0.1'\n",
    "size2_cred_def_id='H7zAaLJRZrdbPqbVMMfL5t:3:CL:9:default'\n",
    "size2_rev_cred_def_id='H7zAaLJRZrdbPqbVMMfL5t:3:CL:9:revocable'\n",
    "\n",
    "size3_schema_id='H7zAaLJRZrdbPqbVMMfL5t:2:size3:0.0.1'\n",
    "size3_cred_def_id='H7zAaLJRZrdbPqbVMMfL5t:3:CL:10:default'\n",
    "size3_rev_cred_def_id='H7zAaLJRZrdbPqbVMMfL5t:3:CL:10:revocable'\n",
    "\n",
    "size4_schema_id='H7zAaLJRZrdbPqbVMMfL5t:2:size4:0.0.1'\n",
    "size4_cred_def_id='H7zAaLJRZrdbPqbVMMfL5t:3:CL:11:default'\n",
    "size4_rev_cred_def_id='H7zAaLJRZrdbPqbVMMfL5t:3:CL:11:revocable'\n",
    "\n",
    "size5_schema_id='H7zAaLJRZrdbPqbVMMfL5t:2:size5:0.0.1'\n",
    "size5_cred_def_id='H7zAaLJRZrdbPqbVMMfL5t:3:CL:12:default'\n",
    "size5_rev_cred_def_id='H7zAaLJRZrdbPqbVMMfL5t:3:CL:12:revocable'\n",
    "\n",
    "size6_schema_id='H7zAaLJRZrdbPqbVMMfL5t:2:size6:0.0.1'\n",
    "size6_cred_def_id='H7zAaLJRZrdbPqbVMMfL5t:3:CL:13:default'\n",
    "size6_rev_cred_def_id='H7zAaLJRZrdbPqbVMMfL5t:3:CL:13:revocable'\n",
    "\n",
    "size7_schema_id='H7zAaLJRZrdbPqbVMMfL5t:2:size7:0.0.1'\n",
    "size7_cred_def_id='H7zAaLJRZrdbPqbVMMfL5t:3:CL:14:default'\n",
    "size7_rev_cred_def_id='H7zAaLJRZrdbPqbVMMfL5t:3:CL:14:revocable'\n",
    "\n",
    "\n",
    "\n",
    "\n",
    "\n",
    "\n"
   ]
  },
  {
   "cell_type": "markdown",
   "id": "8e59c8fe",
   "metadata": {},
   "source": [
    "## Init Performance Service"
   ]
  },
  {
   "cell_type": "code",
   "execution_count": 6,
   "id": "3581fe7b",
   "metadata": {},
   "outputs": [],
   "source": [
    "performance_service = PerformanceService(agent_controller, iterations=100)"
   ]
  },
  {
   "cell_type": "markdown",
   "id": "18cae8be",
   "metadata": {},
   "source": [
    "## Establish Connection\n",
    "\n",
    "Before you can issue a credential you must first establish a connection across which the credential will be issued to a holder. (see recipes/connection)"
   ]
  },
  {
   "cell_type": "code",
   "execution_count": 7,
   "id": "6b392881",
   "metadata": {},
   "outputs": [
    {
     "name": "stdout",
     "output_type": "stream",
     "text": [
      "{'@type': 'did:sov:BzCbsNYhMrjHiqZDTUASHg;spec/connections/1.0/invitation', '@id': 'd9fcb03f-265a-4a1a-860c-edb780c79920', 'serviceEndpoint': 'http://verifier-agent:3020', 'recipientKeys': ['HPnYM57JSBQUwaKrJSpDgKSzCK2fdNPhuMksfHkdRrCP'], 'label': 'Verifier'}\n",
      "3aaf07e2-d41b-4dff-903d-6acc4b21c3af\n",
      "\u001b[1m\u001b[32mConnection ID: 3aaf07e2-d41b-4dff-903d-6acc4b21c3af is now active.\u001b[0m\n"
     ]
    }
   ],
   "source": [
    "# Alias for invited connection\n",
    "alias = \"Friend\"\n",
    "auto_accept = \"true\"\n",
    "# Use public DID?\n",
    "public = \"false\"\n",
    "# Should this invitation be usable by multiple invitees?\n",
    "multi_use = \"false\"\n",
    "\n",
    "invitation_response = await agent_controller.connections.create_invitation(alias, auto_accept, public, multi_use)\n",
    "# Is equivalent to above. Arguments are optionally\n",
    "# invitation_response = await agent_controller.connections.create_invitation()\n",
    "\n",
    "\n",
    "\n",
    "# You will use this identifier to issue a credential across this connection\n",
    "connection_id = invitation_response[\"connection_id\"]\n",
    "\n",
    "invitation = invitation_response[\"invitation\"]\n",
    "## Copy this output\n",
    "print(invitation)\n",
    "print(connection_id)"
   ]
  },
  {
   "cell_type": "code",
   "execution_count": 10,
   "id": "931be2f5",
   "metadata": {},
   "outputs": [],
   "source": [
    "connection_id = \"3aaf07e2-d41b-4dff-903d-6acc4b21c3af\""
   ]
  },
  {
   "cell_type": "markdown",
   "id": "fafd3ba5",
   "metadata": {},
   "source": [
    "## Define Presentation Request Object Template\n"
   ]
  },
  {
   "cell_type": "code",
   "execution_count": 11,
   "id": "f859d203",
   "metadata": {},
   "outputs": [],
   "source": [
    "proof_request = {\n",
    "    \"name\": \"Name of Proof Request\",\n",
    "    \"version\": \"1.0\",\n",
    "\n",
    "    # Predicates allow us to specify range proofs or set membership on attributes. For example greater than 10.\n",
    "    # We will ignore these for now.\n",
    "    \"requested_predicates\": {\n",
    "#         f\"0_{req_pred['name']}_GE_uuid\":\n",
    "#         req_pred for req_pred in req_preds\n",
    "    },\n",
    "    # You can also request the entire proof request be non-revoked\n",
    "    \"non_revoked\":  {\"to\": int(time.time())}\n",
    "}"
   ]
  },
  {
   "cell_type": "markdown",
   "id": "d52c8b18",
   "metadata": {},
   "source": [
    "# Variable Attribute Size Experiment\n"
   ]
  },
  {
   "cell_type": "code",
   "execution_count": 12,
   "id": "d7e0d7dd",
   "metadata": {},
   "outputs": [],
   "source": [
    "experiment = performance_service.new_experiment(\"Variable Attribute Size - Non Revocable\")\n"
   ]
  },
  {
   "cell_type": "code",
   "execution_count": 13,
   "id": "becefa43",
   "metadata": {},
   "outputs": [],
   "source": [
    "revocable_experiment = performance_service.new_experiment(\"Variable Attribute Size - Revocable\")"
   ]
  },
  {
   "cell_type": "markdown",
   "id": "5105fb7f",
   "metadata": {},
   "source": [
    "## Performance Test - 128B"
   ]
  },
  {
   "cell_type": "code",
   "execution_count": 14,
   "id": "8e7e6a82",
   "metadata": {},
   "outputs": [],
   "source": [
    "req_attrs = [\n",
    "    {\"name\": \"image\", \"restrictions\": [{\"schema_id\": size1_schema_id, \"cred_def_id\": size1_cred_def_id}]},\n",
    "]\n",
    "\n",
    "proof_request[\"requested_attributes\"] = {\n",
    "        # They generally follow this uuid pattern. Unique identifier for attribute within context of this proof request\n",
    "        # Note that req_attr['name'] gets the attribute name of each object. E.g. domain and name in this case\n",
    "        f\"0_{req_attr['name']}_uuid\":\n",
    "        req_attr for req_attr in req_attrs\n",
    "}"
   ]
  },
  {
   "cell_type": "code",
   "execution_count": 15,
   "id": "7e45c600",
   "metadata": {},
   "outputs": [],
   "source": [
    "name = \"128B\""
   ]
  },
  {
   "cell_type": "code",
   "execution_count": 16,
   "id": "73f5acfc",
   "metadata": {},
   "outputs": [
    {
     "name": "stdout",
     "output_type": "stream",
     "text": [
      "Average :  0.18213907891986308\n"
     ]
    }
   ],
   "source": [
    "test = {\"name\": name, \"proof_request\": proof_request}\n",
    "\n",
    "await performance_service.run_verification(experiment, test, connection_id)"
   ]
  },
  {
   "cell_type": "code",
   "execution_count": 17,
   "id": "3f85a2f8",
   "metadata": {},
   "outputs": [],
   "source": [
    "req_attrs = [\n",
    "    {\"name\": \"image\", \"restrictions\": [{\"schema_id\": size1_schema_id, \"cred_def_id\": size1_rev_cred_def_id}]},\n",
    "]\n",
    "\n",
    "proof_request[\"requested_attributes\"] = {\n",
    "        # They generally follow this uuid pattern. Unique identifier for attribute within context of this proof request\n",
    "        # Note that req_attr['name'] gets the attribute name of each object. E.g. domain and name in this case\n",
    "        f\"0_{req_attr['name']}_uuid\":\n",
    "        req_attr for req_attr in req_attrs\n",
    "}"
   ]
  },
  {
   "cell_type": "code",
   "execution_count": 18,
   "id": "34a3427a",
   "metadata": {},
   "outputs": [
    {
     "name": "stdout",
     "output_type": "stream",
     "text": [
      "Average :  0.7476289640098912\n"
     ]
    }
   ],
   "source": [
    "test = {\"name\": name, \"proof_request\": proof_request}\n",
    "\n",
    "await performance_service.run_verification(revocable_experiment, test, connection_id)"
   ]
  },
  {
   "cell_type": "markdown",
   "id": "15fe3045",
   "metadata": {},
   "source": [
    "## Performance Test - 512B"
   ]
  },
  {
   "cell_type": "code",
   "execution_count": 19,
   "id": "98a73525",
   "metadata": {},
   "outputs": [],
   "source": [
    "req_attrs = [\n",
    "    {\"name\": \"image\", \"restrictions\": [{\"schema_id\": size2_schema_id, \"cred_def_id\": size2_cred_def_id}]},\n",
    "]\n",
    "\n",
    "proof_request[\"requested_attributes\"] = {\n",
    "        # They generally follow this uuid pattern. Unique identifier for attribute within context of this proof request\n",
    "        # Note that req_attr['name'] gets the attribute name of each object. E.g. domain and name in this case\n",
    "        f\"0_{req_attr['name']}_uuid\":\n",
    "        req_attr for req_attr in req_attrs\n",
    "}"
   ]
  },
  {
   "cell_type": "code",
   "execution_count": 20,
   "id": "f6d1f0c5",
   "metadata": {},
   "outputs": [],
   "source": [
    "name = \"512B\""
   ]
  },
  {
   "cell_type": "code",
   "execution_count": 21,
   "id": "2b768a54",
   "metadata": {},
   "outputs": [
    {
     "name": "stdout",
     "output_type": "stream",
     "text": [
      "Average :  0.263251428159856\n"
     ]
    }
   ],
   "source": [
    "test = {\"name\": name, \"proof_request\": proof_request}\n",
    "\n",
    "await performance_service.run_verification(experiment, test, connection_id)"
   ]
  },
  {
   "cell_type": "code",
   "execution_count": 22,
   "id": "ccbfe264",
   "metadata": {},
   "outputs": [],
   "source": [
    "req_attrs = [\n",
    "    {\"name\": \"image\", \"restrictions\": [{\"schema_id\": size2_schema_id, \"cred_def_id\": size2_rev_cred_def_id}]},\n",
    "]\n",
    "\n",
    "proof_request[\"requested_attributes\"] = {\n",
    "        # They generally follow this uuid pattern. Unique identifier for attribute within context of this proof request\n",
    "        # Note that req_attr['name'] gets the attribute name of each object. E.g. domain and name in this case\n",
    "        f\"0_{req_attr['name']}_uuid\":\n",
    "        req_attr for req_attr in req_attrs\n",
    "}"
   ]
  },
  {
   "cell_type": "code",
   "execution_count": 23,
   "id": "71c30dd0",
   "metadata": {},
   "outputs": [
    {
     "name": "stdout",
     "output_type": "stream",
     "text": [
      "Average :  0.7647026902101425\n"
     ]
    }
   ],
   "source": [
    "test = {\"name\": name, \"proof_request\": proof_request}\n",
    "\n",
    "await performance_service.run_verification(revocable_experiment, test, connection_id)"
   ]
  },
  {
   "cell_type": "markdown",
   "id": "e31641d5",
   "metadata": {},
   "source": [
    "## Performance Test - 1kB"
   ]
  },
  {
   "cell_type": "code",
   "execution_count": 24,
   "id": "5497c7b5",
   "metadata": {},
   "outputs": [],
   "source": [
    "req_attrs = [\n",
    "    {\"name\": \"image\", \"restrictions\": [{\"schema_id\": size3_schema_id, \"cred_def_id\": size3_cred_def_id}]},\n",
    "]\n",
    "\n",
    "proof_request[\"requested_attributes\"] = {\n",
    "        # They generally follow this uuid pattern. Unique identifier for attribute within context of this proof request\n",
    "        # Note that req_attr['name'] gets the attribute name of each object. E.g. domain and name in this case\n",
    "        f\"0_{req_attr['name']}_uuid\":\n",
    "        req_attr for req_attr in req_attrs\n",
    "}"
   ]
  },
  {
   "cell_type": "code",
   "execution_count": 25,
   "id": "52b5d7ab",
   "metadata": {},
   "outputs": [],
   "source": [
    "name = \"1kB\""
   ]
  },
  {
   "cell_type": "code",
   "execution_count": 26,
   "id": "1b8b6990",
   "metadata": {},
   "outputs": [
    {
     "name": "stdout",
     "output_type": "stream",
     "text": [
      "Average :  0.2488824177801871\n"
     ]
    }
   ],
   "source": [
    "test = {\"name\": name, \"proof_request\": proof_request}\n",
    "\n",
    "await performance_service.run_verification(experiment, test, connection_id)"
   ]
  },
  {
   "cell_type": "code",
   "execution_count": 27,
   "id": "9d3bc205",
   "metadata": {},
   "outputs": [],
   "source": [
    "req_attrs = [\n",
    "    {\"name\": \"image\", \"restrictions\": [{\"schema_id\": size3_schema_id, \"cred_def_id\": size3_rev_cred_def_id}]},\n",
    "]\n",
    "\n",
    "proof_request[\"requested_attributes\"] = {\n",
    "        # They generally follow this uuid pattern. Unique identifier for attribute within context of this proof request\n",
    "        # Note that req_attr['name'] gets the attribute name of each object. E.g. domain and name in this case\n",
    "        f\"0_{req_attr['name']}_uuid\":\n",
    "        req_attr for req_attr in req_attrs\n",
    "}"
   ]
  },
  {
   "cell_type": "code",
   "execution_count": 28,
   "id": "c2d0a212",
   "metadata": {},
   "outputs": [
    {
     "name": "stdout",
     "output_type": "stream",
     "text": [
      "Average :  0.934346344890073\n"
     ]
    }
   ],
   "source": [
    "test = {\"name\": name, \"proof_request\": proof_request}\n",
    "\n",
    "await performance_service.run_verification(revocable_experiment, test, connection_id)"
   ]
  },
  {
   "cell_type": "markdown",
   "id": "3f183acc",
   "metadata": {},
   "source": [
    "## Performance Test - 16kB"
   ]
  },
  {
   "cell_type": "code",
   "execution_count": 29,
   "id": "3bd3f111",
   "metadata": {},
   "outputs": [],
   "source": [
    "req_attrs = [\n",
    "    {\"name\": \"image\", \"restrictions\": [{\"schema_id\": size4_schema_id, \"cred_def_id\": size4_cred_def_id}]},\n",
    "]\n",
    "\n",
    "proof_request[\"requested_attributes\"] = {\n",
    "        # They generally follow this uuid pattern. Unique identifier for attribute within context of this proof request\n",
    "        # Note that req_attr['name'] gets the attribute name of each object. E.g. domain and name in this case\n",
    "        f\"0_{req_attr['name']}_uuid\":\n",
    "        req_attr for req_attr in req_attrs\n",
    "}"
   ]
  },
  {
   "cell_type": "code",
   "execution_count": 30,
   "id": "fc0e966b",
   "metadata": {},
   "outputs": [],
   "source": [
    "name = \"16kB\""
   ]
  },
  {
   "cell_type": "code",
   "execution_count": 31,
   "id": "38f63f8f",
   "metadata": {},
   "outputs": [
    {
     "name": "stdout",
     "output_type": "stream",
     "text": [
      "Average :  0.38822526473002655\n"
     ]
    }
   ],
   "source": [
    "test = {\"name\": name, \"proof_request\": proof_request}\n",
    "\n",
    "await performance_service.run_verification(experiment, test, connection_id)"
   ]
  },
  {
   "cell_type": "code",
   "execution_count": 32,
   "id": "20a339b5",
   "metadata": {},
   "outputs": [],
   "source": [
    "req_attrs = [\n",
    "    {\"name\": \"image\", \"restrictions\": [{\"schema_id\": size4_schema_id, \"cred_def_id\": size4_rev_cred_def_id}]},\n",
    "]\n",
    "\n",
    "proof_request[\"requested_attributes\"] = {\n",
    "        # They generally follow this uuid pattern. Unique identifier for attribute within context of this proof request\n",
    "        # Note that req_attr['name'] gets the attribute name of each object. E.g. domain and name in this case\n",
    "        f\"0_{req_attr['name']}_uuid\":\n",
    "        req_attr for req_attr in req_attrs\n",
    "}"
   ]
  },
  {
   "cell_type": "code",
   "execution_count": 33,
   "id": "8622af7e",
   "metadata": {},
   "outputs": [
    {
     "name": "stdout",
     "output_type": "stream",
     "text": [
      "Average :  0.9180266940201546\n"
     ]
    }
   ],
   "source": [
    "test = {\"name\": name, \"proof_request\": proof_request}\n",
    "\n",
    "await performance_service.run_verification(revocable_experiment, test, connection_id)"
   ]
  },
  {
   "cell_type": "markdown",
   "id": "edcbe526",
   "metadata": {},
   "source": [
    "## Performance Test - 64kB"
   ]
  },
  {
   "cell_type": "code",
   "execution_count": 34,
   "id": "e5715d7b",
   "metadata": {},
   "outputs": [],
   "source": [
    "req_attrs = [\n",
    "    {\"name\": \"image\", \"restrictions\": [{\"schema_id\": size5_schema_id, \"cred_def_id\": size5_cred_def_id}]},\n",
    "]\n",
    "\n",
    "proof_request[\"requested_attributes\"] = {\n",
    "        # They generally follow this uuid pattern. Unique identifier for attribute within context of this proof request\n",
    "        # Note that req_attr['name'] gets the attribute name of each object. E.g. domain and name in this case\n",
    "        f\"0_{req_attr['name']}_uuid\":\n",
    "        req_attr for req_attr in req_attrs\n",
    "}"
   ]
  },
  {
   "cell_type": "code",
   "execution_count": 35,
   "id": "7ff2e5be",
   "metadata": {},
   "outputs": [],
   "source": [
    "name = \"64kB\""
   ]
  },
  {
   "cell_type": "code",
   "execution_count": 36,
   "id": "d873eaec",
   "metadata": {},
   "outputs": [
    {
     "name": "stdout",
     "output_type": "stream",
     "text": [
      "Average :  0.41636161646012626\n"
     ]
    }
   ],
   "source": [
    "test = {\"name\": name, \"proof_request\": proof_request}\n",
    "\n",
    "await performance_service.run_verification(experiment, test, connection_id)"
   ]
  },
  {
   "cell_type": "code",
   "execution_count": 37,
   "id": "7b76de28",
   "metadata": {},
   "outputs": [],
   "source": [
    "req_attrs = [\n",
    "    {\"name\": \"image\", \"restrictions\": [{\"schema_id\": size5_schema_id, \"cred_def_id\": size5_rev_cred_def_id}]},\n",
    "]\n",
    "\n",
    "proof_request[\"requested_attributes\"] = {\n",
    "        # They generally follow this uuid pattern. Unique identifier for attribute within context of this proof request\n",
    "        # Note that req_attr['name'] gets the attribute name of each object. E.g. domain and name in this case\n",
    "        f\"0_{req_attr['name']}_uuid\":\n",
    "        req_attr for req_attr in req_attrs\n",
    "}"
   ]
  },
  {
   "cell_type": "code",
   "execution_count": 38,
   "id": "2b0b95a5",
   "metadata": {},
   "outputs": [
    {
     "name": "stdout",
     "output_type": "stream",
     "text": [
      "Average :  1.085139711640004\n"
     ]
    }
   ],
   "source": [
    "test = {\"name\": name, \"proof_request\": proof_request}\n",
    "\n",
    "await performance_service.run_verification(revocable_experiment, test, connection_id)"
   ]
  },
  {
   "cell_type": "markdown",
   "id": "b478fa00",
   "metadata": {},
   "source": [
    "## Performance Test - 128kB"
   ]
  },
  {
   "cell_type": "code",
   "execution_count": 39,
   "id": "b0586264",
   "metadata": {},
   "outputs": [],
   "source": [
    "req_attrs = [\n",
    "    {\"name\": \"image\", \"restrictions\": [{\"schema_id\": size6_schema_id, \"cred_def_id\": size6_cred_def_id}]},\n",
    "]\n",
    "\n",
    "proof_request[\"requested_attributes\"] = {\n",
    "        # They generally follow this uuid pattern. Unique identifier for attribute within context of this proof request\n",
    "        # Note that req_attr['name'] gets the attribute name of each object. E.g. domain and name in this case\n",
    "        f\"0_{req_attr['name']}_uuid\":\n",
    "        req_attr for req_attr in req_attrs\n",
    "}"
   ]
  },
  {
   "cell_type": "code",
   "execution_count": 40,
   "id": "eb41dc41",
   "metadata": {},
   "outputs": [],
   "source": [
    "name = \"128kB\""
   ]
  },
  {
   "cell_type": "code",
   "execution_count": 41,
   "id": "7ade16ab",
   "metadata": {},
   "outputs": [
    {
     "name": "stdout",
     "output_type": "stream",
     "text": [
      "Average :  0.6876436644001296\n"
     ]
    }
   ],
   "source": [
    "test = {\"name\": name, \"proof_request\": proof_request}\n",
    "\n",
    "await performance_service.run_verification(experiment, test, connection_id)"
   ]
  },
  {
   "cell_type": "code",
   "execution_count": 42,
   "id": "87b96078",
   "metadata": {},
   "outputs": [],
   "source": [
    "req_attrs = [\n",
    "    {\"name\": \"image\", \"restrictions\": [{\"schema_id\": size6_schema_id, \"cred_def_id\": size6_rev_cred_def_id}]},\n",
    "]\n",
    "\n",
    "proof_request[\"requested_attributes\"] = {\n",
    "        # They generally follow this uuid pattern. Unique identifier for attribute within context of this proof request\n",
    "        # Note that req_attr['name'] gets the attribute name of each object. E.g. domain and name in this case\n",
    "        f\"0_{req_attr['name']}_uuid\":\n",
    "        req_attr for req_attr in req_attrs\n",
    "}"
   ]
  },
  {
   "cell_type": "code",
   "execution_count": 43,
   "id": "2672c1ba",
   "metadata": {},
   "outputs": [
    {
     "name": "stdout",
     "output_type": "stream",
     "text": [
      "Average :  1.5400375134999558\n"
     ]
    }
   ],
   "source": [
    "test = {\"name\": name, \"proof_request\": proof_request}\n",
    "\n",
    "await performance_service.run_verification(revocable_experiment, test, connection_id)"
   ]
  },
  {
   "cell_type": "markdown",
   "id": "b5d4c767",
   "metadata": {},
   "source": [
    "## Performance Test - 256kB"
   ]
  },
  {
   "cell_type": "code",
   "execution_count": 44,
   "id": "4b3effa2",
   "metadata": {},
   "outputs": [],
   "source": [
    "req_attrs = [\n",
    "    {\"name\": \"image\", \"restrictions\": [{\"schema_id\": size7_schema_id, \"cred_def_id\": size7_cred_def_id}]},\n",
    "]\n",
    "\n",
    "proof_request[\"requested_attributes\"] = {\n",
    "        # They generally follow this uuid pattern. Unique identifier for attribute within context of this proof request\n",
    "        # Note that req_attr['name'] gets the attribute name of each object. E.g. domain and name in this case\n",
    "        f\"0_{req_attr['name']}_uuid\":\n",
    "        req_attr for req_attr in req_attrs\n",
    "}"
   ]
  },
  {
   "cell_type": "code",
   "execution_count": 45,
   "id": "71c2e305",
   "metadata": {},
   "outputs": [],
   "source": [
    "name = \"256kB\""
   ]
  },
  {
   "cell_type": "code",
   "execution_count": 46,
   "id": "08c2a10c",
   "metadata": {},
   "outputs": [
    {
     "name": "stdout",
     "output_type": "stream",
     "text": [
      "Average :  1.2469643629899292\n"
     ]
    }
   ],
   "source": [
    "test = {\"name\": name, \"proof_request\": proof_request}\n",
    "\n",
    "await performance_service.run_verification(experiment, test, connection_id)"
   ]
  },
  {
   "cell_type": "code",
   "execution_count": 47,
   "id": "078f8a47",
   "metadata": {},
   "outputs": [],
   "source": [
    "req_attrs = [\n",
    "    {\"name\": \"image\", \"restrictions\": [{\"schema_id\": size7_schema_id, \"cred_def_id\": size7_rev_cred_def_id}]},\n",
    "]\n",
    "\n",
    "proof_request[\"requested_attributes\"] = {\n",
    "        # They generally follow this uuid pattern. Unique identifier for attribute within context of this proof request\n",
    "        # Note that req_attr['name'] gets the attribute name of each object. E.g. domain and name in this case\n",
    "        f\"0_{req_attr['name']}_uuid\":\n",
    "        req_attr for req_attr in req_attrs\n",
    "}"
   ]
  },
  {
   "cell_type": "code",
   "execution_count": 48,
   "id": "6e5017e8",
   "metadata": {},
   "outputs": [
    {
     "name": "stdout",
     "output_type": "stream",
     "text": [
      "Average :  1.8625293433197658\n"
     ]
    }
   ],
   "source": [
    "test = {\"name\": name, \"proof_request\": proof_request}\n",
    "\n",
    "await performance_service.run_verification(revocable_experiment, test, connection_id)"
   ]
  },
  {
   "cell_type": "markdown",
   "id": "f416a083",
   "metadata": {},
   "source": [
    "## Plot Results"
   ]
  },
  {
   "cell_type": "markdown",
   "id": "abbea014",
   "metadata": {},
   "source": [
    "### Non Revocable"
   ]
  },
  {
   "cell_type": "code",
   "execution_count": 50,
   "id": "079bc16c",
   "metadata": {},
   "outputs": [],
   "source": [
    "data = []\n",
    "labels = []\n",
    "non_revocable_averages = []\n",
    "for result in experiment[\"results\"]:\n",
    "    millitimings = [i * 1000 for i in result[\"timings\"]]\n",
    "    data.append(millitimings)\n",
    "    non_revocable_averages.append(result[\"average\"] * 1000)\n",
    "    labels.append(result[\"name\"])\n",
    "\n"
   ]
  },
  {
   "cell_type": "code",
   "execution_count": 51,
   "id": "f799fa2f",
   "metadata": {},
   "outputs": [
    {
     "data": {
      "image/png": "[encoded data removed]",
      "text/plain": [
       "<Figure size 720x720 with 1 Axes>"
      ]
     },
     "metadata": {
      "needs_background": "light"
     },
     "output_type": "display_data"
    }
   ],
   "source": [
    "# Import libraries\n",
    "import matplotlib.pyplot as plt\n",
    "import numpy as np\n",
    " \n",
    "\n",
    " \n",
    "fig = plt.figure(figsize =(10, 10))\n",
    " \n",
    "# Creating axes instance\n",
    "ax = fig.add_axes([0.1,0.1,0.75,0.75]) \n",
    " \n",
    "# Creating plot`\n",
    "bp = ax.boxplot(data, patch_artist = True,\n",
    "                notch ='True')\n",
    "\n",
    "# x-axis labels\n",
    "ax.set_xticklabels(labels)\n",
    "\n",
    "plt.ylabel(\"Milliseconds\")\n",
    "plt.xlabel(\"Credential Size (Bytes)\")\n",
    "\n",
    "plt.savefig(\"results/verification/attribute_size/box_plot_non_revocable.png\")"
   ]
  },
  {
   "cell_type": "markdown",
   "id": "05a00a01",
   "metadata": {},
   "source": [
    "### Revocable"
   ]
  },
  {
   "cell_type": "code",
   "execution_count": 52,
   "id": "486ae1bb",
   "metadata": {},
   "outputs": [],
   "source": [
    "data = []\n",
    "labels = []\n",
    "revocable_averages = []\n",
    "for result in revocable_experiment[\"results\"]:\n",
    "    \n",
    "    millitimings = [i * 1000 for i in result[\"timings\"]]\n",
    "    data.append(millitimings)\n",
    "    revocable_averages.append(result[\"average\"] * 1000)\n",
    "    labels.append(result[\"name\"])\n",
    "    \n"
   ]
  },
  {
   "cell_type": "code",
   "execution_count": 53,
   "id": "a070118c",
   "metadata": {},
   "outputs": [
    {
     "data": {
      "image/png": "[encoded data removed]",
      "text/plain": [
       "<Figure size 720x720 with 1 Axes>"
      ]
     },
     "metadata": {
      "needs_background": "light"
     },
     "output_type": "display_data"
    }
   ],
   "source": [
    "# Import libraries\n",
    "import matplotlib.pyplot as plt\n",
    "import numpy as np\n",
    " \n",
    "\n",
    " \n",
    "fig = plt.figure(figsize =(10, 10))\n",
    " \n",
    "# Creating axes instance\n",
    "ax = fig.add_axes([0.1,0.1,0.75,0.75]) \n",
    " \n",
    "# Creating plot`\n",
    "bp = ax.boxplot(data, patch_artist = True,\n",
    "                notch ='True')\n",
    "\n",
    "# x-axis labels\n",
    "ax.set_xticklabels(labels)\n",
    "\n",
    "plt.ylabel(\"Milliseconds\")\n",
    "plt.xlabel(\"Credential Size (Bytes)\")\n",
    "\n",
    "plt.savefig(\"results/verification/attribute_size/box_plot_revocable.png\")"
   ]
  },
  {
   "cell_type": "markdown",
   "id": "1cbacf50",
   "metadata": {},
   "source": [
    "## Averages"
   ]
  },
  {
   "cell_type": "code",
   "execution_count": 55,
   "id": "608a33f3",
   "metadata": {},
   "outputs": [
    {
     "data": {
      "image/png": "[encoded data removed]",
      "text/plain": [
       "<Figure size 720x720 with 1 Axes>"
      ]
     },
     "metadata": {
      "needs_background": "light"
     },
     "output_type": "display_data"
    }
   ],
   "source": [
    "fig = plt.figure(figsize =(10, 10))\n",
    " \n",
    "# Creating axes instance\n",
    "ax = fig.add_axes([0.1,0.1,0.75,0.75]) \n",
    "\n",
    "# avg_ploy = plt.plot(labels, revocable_averages, non_revoked_averages)\n",
    "\n",
    "plt_points = [128,512,1024,16*1024,64*1024,128*1024,256*1024]\n",
    "\n",
    "plt.plot(plt_points, revocable_averages,'r-',label='Revocable Credential Presentation Averages')\n",
    "plt.plot(plt_points, non_revocable_averages,label='Non Revocable Credential Presentation Averages')\n",
    "\n",
    "plt.ylabel(\"Milliseconds\")\n",
    "plt.xlabel(\"Credential_size (Bytes)\")\n",
    "\n",
    "\n",
    "plt.legend()\n",
    "plt.savefig(\"results/verification/attribute_size/averages.png\")"
   ]
  },
  {
   "cell_type": "markdown",
   "id": "894045f9",
   "metadata": {},
   "source": [
    "## Save Experiments to File"
   ]
  },
  {
   "cell_type": "code",
   "execution_count": 57,
   "id": "46bb2aea",
   "metadata": {},
   "outputs": [],
   "source": [
    "performance_service.save_experiments()"
   ]
  },
  {
   "cell_type": "markdown",
   "id": "45173471",
   "metadata": {},
   "source": [
    "## Terminate Controller"
   ]
  },
  {
   "cell_type": "code",
   "execution_count": 56,
   "id": "1dbd6c61",
   "metadata": {},
   "outputs": [
    {
     "name": "stderr",
     "output_type": "stream",
     "text": [
      "WARNING:aries_cloudcontroller.aries_webhook_server:Terminating webhooks listener failed! RuntimeError('Site <aiohttp.web_runner.TCPSite object at 0x7f0cdee54c50> is not registered in runner <aiohttp.web_runner.AppRunner object at 0x7f0cef6d0830>') occurred.\n",
      "WARNING:aries_cloudcontroller.aries_controller_base:Terminate webhooks listener exception!\n",
      " RuntimeError('Site <aiohttp.web_runner.TCPSite object at 0x7f0cdee54c50> is not registered in runner <aiohttp.web_runner.AppRunner object at 0x7f0cef6d0830>') occurred.\n"
     ]
    }
   ],
   "source": [
    "await agent_controller.terminate()"
   ]
  },
  {
   "cell_type": "code",
   "execution_count": null,
   "id": "0211c865",
   "metadata": {},
   "outputs": [],
   "source": []
  }
 ],
 "metadata": {
  "kernelspec": {
   "display_name": "Python 3",
   "language": "python",
   "name": "python3"
  },
  "language_info": {
   "codemirror_mode": {
    "name": "ipython",
    "version": 3
   },
   "file_extension": ".py",
   "mimetype": "text/x-python",
   "name": "python",
   "nbconvert_exporter": "python",
   "pygments_lexer": "ipython3",
   "version": "3.7.6"
  }
 },
 "nbformat": 4,
 "nbformat_minor": 5
}
