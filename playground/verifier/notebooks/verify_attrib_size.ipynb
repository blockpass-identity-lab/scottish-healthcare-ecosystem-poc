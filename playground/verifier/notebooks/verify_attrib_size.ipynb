{
 "cells": [
  {
   "cell_type": "markdown",
   "id": "d1b73b54",
   "metadata": {},
   "source": [
    "# Performance Test\n",
    "## Variable Attribute Size\n"
   ]
  },
  {
   "cell_type": "markdown",
   "id": "7fff12a7",
   "metadata": {},
   "source": [
    "### Imports"
   ]
  },
  {
   "cell_type": "code",
   "execution_count": 1,
   "id": "58808a1a",
   "metadata": {},
   "outputs": [],
   "source": [
    "from aries_cloudcontroller import AriesAgentController\n",
    "\n",
    "from libs.performance_service import PerformanceService\n",
    "import os\n",
    "import time\n",
    "from termcolor import colored"
   ]
  },
  {
   "cell_type": "markdown",
   "id": "ed1d12e8",
   "metadata": {},
   "source": [
    "### Initialise the Agent Controller"
   ]
  },
  {
   "cell_type": "code",
   "execution_count": 2,
   "id": "5765cd43",
   "metadata": {},
   "outputs": [
    {
     "name": "stdout",
     "output_type": "stream",
     "text": [
      "Initialising a controller with admin api at http://issuer-agent:3021 and an api key of adminApiKey\n"
     ]
    }
   ],
   "source": [
    "api_key = os.getenv(\"ACAPY_ADMIN_API_KEY\")\n",
    "admin_url = os.getenv(\"ADMIN_URL\")\n",
    "\n",
    "print(f\"Initialising a controller with admin api at {admin_url} and an api key of {api_key}\")\n",
    "agent_controller = AriesAgentController(admin_url,api_key)\n",
    "\n",
    "agent_controller.register_listeners([], defaults=True)"
   ]
  },
  {
   "cell_type": "markdown",
   "id": "1d52df71",
   "metadata": {},
   "source": [
    "### Start a Webhook Server"
   ]
  },
  {
   "cell_type": "code",
   "execution_count": 3,
   "id": "001e7847",
   "metadata": {},
   "outputs": [
    {
     "name": "stdout",
     "output_type": "stream",
     "text": [
      "Listening for webhooks from agent at http://0.0.0.0:3010\n"
     ]
    }
   ],
   "source": [
    "webhook_port = int(os.getenv(\"WEBHOOK_PORT\"))\n",
    "webhook_host = \"0.0.0.0\"\n",
    "\n",
    "await agent_controller.init_webhook_server(webhook_host, webhook_port)\n",
    "\n",
    "print(f\"Listening for webhooks from agent at http://{webhook_host}:{webhook_port}\")"
   ]
  },
  {
   "cell_type": "markdown",
   "id": "82030431",
   "metadata": {},
   "source": [
    "## Store Issuing Schema and Cred Def Identifiers\n",
    "\n",
    "If you intend for this agent to issue credentials you should first initialise your agent as an issuer and author the relevant identifiers to the public ledger. The issuer_initialisation recipe notebook can be duplicated and used as a starting point.\n",
    "\n",
    "Once schema and cred def identifiers are created copy across and store in variables as illustrated in the cell below. Be sure to use unique names for each variable."
   ]
  },
  {
   "cell_type": "code",
   "execution_count": 4,
   "id": "0dc81744",
   "metadata": {},
   "outputs": [],
   "source": [
    "size1_schema_id='H7zAaLJRZrdbPqbVMMfL5t:2:size1:0.0.1'\n",
    "size1_cred_def_id='H7zAaLJRZrdbPqbVMMfL5t:3:CL:8:default'\n",
    "size1_rev_cred_def_id='H7zAaLJRZrdbPqbVMMfL5t:3:CL:8:revocable'\n",
    "\n",
    "size2_schema_id='H7zAaLJRZrdbPqbVMMfL5t:2:size2:0.0.1'\n",
    "size2_cred_def_id='H7zAaLJRZrdbPqbVMMfL5t:3:CL:9:default'\n",
    "size2_rev_cred_def_id='H7zAaLJRZrdbPqbVMMfL5t:3:CL:9:revocable'\n",
    "\n",
    "size3_schema_id='H7zAaLJRZrdbPqbVMMfL5t:2:size3:0.0.1'\n",
    "size3_cred_def_id='H7zAaLJRZrdbPqbVMMfL5t:3:CL:10:default'\n",
    "size3_rev_cred_def_id='H7zAaLJRZrdbPqbVMMfL5t:3:CL:10:revocable'\n",
    "\n",
    "size4_schema_id='H7zAaLJRZrdbPqbVMMfL5t:2:size4:0.0.1'\n",
    "size4_cred_def_id='H7zAaLJRZrdbPqbVMMfL5t:3:CL:11:default'\n",
    "size4_rev_cred_def_id='H7zAaLJRZrdbPqbVMMfL5t:3:CL:11:revocable'\n",
    "\n",
    "size5_schema_id='H7zAaLJRZrdbPqbVMMfL5t:2:size5:0.0.1'\n",
    "size5_cred_def_id='H7zAaLJRZrdbPqbVMMfL5t:3:CL:12:default'\n",
    "size5_rev_cred_def_id='H7zAaLJRZrdbPqbVMMfL5t:3:CL:12:revocable'\n",
    "\n",
    "size6_schema_id='H7zAaLJRZrdbPqbVMMfL5t:2:size6:0.0.1'\n",
    "size6_cred_def_id='H7zAaLJRZrdbPqbVMMfL5t:3:CL:13:default'\n",
    "size6_rev_cred_def_id='H7zAaLJRZrdbPqbVMMfL5t:3:CL:13:revocable'\n",
    "\n",
    "size7_schema_id='H7zAaLJRZrdbPqbVMMfL5t:2:size7:0.0.1'\n",
    "size7_cred_def_id='H7zAaLJRZrdbPqbVMMfL5t:3:CL:14:default'\n",
    "size7_rev_cred_def_id='H7zAaLJRZrdbPqbVMMfL5t:3:CL:14:revocable'\n",
    "\n",
    "\n",
    "\n",
    "\n"
   ]
  },
  {
   "cell_type": "markdown",
   "id": "c8cd512f",
   "metadata": {},
   "source": [
    "## Establish Connection\n",
    "\n",
    "Before you can issue a credential you must first establish a connection across which the credential will be issued to a holder. (see recipes/connection)"
   ]
  },
  {
   "cell_type": "code",
   "execution_count": 5,
   "id": "24c2ea8a",
   "metadata": {},
   "outputs": [
    {
     "name": "stdout",
     "output_type": "stream",
     "text": [
      "{'@type': 'did:sov:BzCbsNYhMrjHiqZDTUASHg;spec/connections/1.0/invitation', '@id': 'e9079bd4-af0f-4453-b6c3-a0cc8ddb849b', 'label': 'Issuer', 'serviceEndpoint': 'http://issuer-agent:3020', 'recipientKeys': ['9RC5kbj1hmRD9GpBXtX5uEAGpbo9sGNcDmAkg2nn1Eiv']}\n",
      "319e18fa-9348-4787-b995-e327cf4e5cda\n"
     ]
    }
   ],
   "source": [
    "# Alias for invited connection\n",
    "alias = \"Friend\"\n",
    "auto_accept = \"true\"\n",
    "# Use public DID?\n",
    "public = \"false\"\n",
    "# Should this invitation be usable by multiple invitees?\n",
    "multi_use = \"false\"\n",
    "\n",
    "invitation_response = await agent_controller.connections.create_invitation(alias, auto_accept, public, multi_use)\n",
    "# Is equivalent to above. Arguments are optionally\n",
    "# invitation_response = await agent_controller.connections.create_invitation()\n",
    "\n",
    "\n",
    "\n",
    "# You will use this identifier to issue a credential across this connection\n",
    "connection_id = invitation_response[\"connection_id\"]\n",
    "\n",
    "invitation = invitation_response[\"invitation\"]\n",
    "## Copy this output\n",
    "print(invitation)\n",
    "print(connection_id)"
   ]
  },
  {
   "cell_type": "code",
   "execution_count": null,
   "id": "6ef23fbb",
   "metadata": {},
   "outputs": [],
   "source": [
    "connection_id = \"319e18fa-9348-4787-b995-e327cf4e5cda\""
   ]
  },
  {
   "cell_type": "markdown",
   "id": "572aaf3a",
   "metadata": {},
   "source": [
    "## Issue Credentials"
   ]
  },
  {
   "cell_type": "code",
   "execution_count": null,
   "id": "f27d4bd6",
   "metadata": {},
   "outputs": [],
   "source": [
    "credential_attributes = [\n",
    "    {\"name\": \"image\", \"value\": 128*\"0\"},\n",
    "]\n",
    "response = await agent_controller.issuer.send_credential(connection_id, size1_schema_id, size1_cred_def_id, credential_attributes)"
   ]
  },
  {
   "cell_type": "code",
   "execution_count": null,
   "id": "64a4d766",
   "metadata": {},
   "outputs": [],
   "source": [
    "credential_attributes = [\n",
    "    {\"name\": \"image\", \"value\": 512*\"0\"},\n",
    "]\n",
    "response = await agent_controller.issuer.send_credential(connection_id, size2_schema_id, size2_cred_def_id, credential_attributes)"
   ]
  },
  {
   "cell_type": "code",
   "execution_count": null,
   "id": "e6e3e941",
   "metadata": {},
   "outputs": [],
   "source": [
    "credential_attributes = [\n",
    "    {\"name\": \"image\", \"value\": 1024*\"0\"},\n",
    "]\n",
    "response = await agent_controller.issuer.send_credential(connection_id, size3_schema_id, size3_cred_def_id, credential_attributes)"
   ]
  },
  {
   "cell_type": "code",
   "execution_count": null,
   "id": "403230a9",
   "metadata": {},
   "outputs": [],
   "source": [
    "credential_attributes = [\n",
    "    {\"name\": \"image\", \"value\": 16*1024*\"0\"},\n",
    "]\n",
    "response = await agent_controller.issuer.send_credential(connection_id, size4_schema_id, size4_cred_def_id, credential_attributes)"
   ]
  },
  {
   "cell_type": "code",
   "execution_count": null,
   "id": "f24fc176",
   "metadata": {},
   "outputs": [],
   "source": [
    "credential_attributes = [\n",
    "    {\"name\": \"image\", \"value\": 64*1024*\"0\"},\n",
    "]\n",
    "response = await agent_controller.issuer.send_credential(connection_id, size5_schema_id, size5_cred_def_id, credential_attributes)"
   ]
  },
  {
   "cell_type": "code",
   "execution_count": null,
   "id": "d1b84a46",
   "metadata": {},
   "outputs": [],
   "source": [
    "credential_attributes = [\n",
    "    {\"name\": \"image\", \"value\": 128*1024*\"0\"},\n",
    "]\n",
    "response = await agent_controller.issuer.send_credential(connection_id, size6_schema_id, size6_cred_def_id, credential_attributes)"
   ]
  },
  {
   "cell_type": "code",
   "execution_count": null,
   "id": "534be319",
   "metadata": {},
   "outputs": [],
   "source": [
    "credential_attributes = [\n",
    "    {\"name\": \"image\", \"value\": 256*1024*\"0\"},\n",
    "]\n",
    "response = await agent_controller.issuer.send_credential(connection_id, size7_schema_id, size7_cred_def_id, credential_attributes)"
   ]
  },
  {
   "cell_type": "code",
   "execution_count": null,
   "id": "5e6fde4b",
   "metadata": {},
   "outputs": [],
   "source": [
    "credential_attributes = [\n",
    "    {\"name\": \"image\", \"value\": 128*\"0\"},\n",
    "]\n",
    "response = await agent_controller.issuer.send_credential(connection_id, size1_schema_id, size1_rev_cred_def_id, credential_attributes)"
   ]
  },
  {
   "cell_type": "code",
   "execution_count": null,
   "id": "f40eee6e",
   "metadata": {},
   "outputs": [],
   "source": [
    "credential_attributes = [\n",
    "    {\"name\": \"image\", \"value\": 512*\"0\"},\n",
    "]\n",
    "response = await agent_controller.issuer.send_credential(connection_id, size2_schema_id, size2_rev_cred_def_id, credential_attributes)"
   ]
  },
  {
   "cell_type": "code",
   "execution_count": null,
   "id": "d98e77fb",
   "metadata": {},
   "outputs": [],
   "source": [
    "credential_attributes = [\n",
    "    {\"name\": \"image\", \"value\": 1024*\"0\"},\n",
    "]\n",
    "response = await agent_controller.issuer.send_credential(connection_id, size3_schema_id, size3_rev_cred_def_id, credential_attributes)"
   ]
  },
  {
   "cell_type": "code",
   "execution_count": null,
   "id": "46cd0ebf",
   "metadata": {},
   "outputs": [],
   "source": [
    "credential_attributes = [\n",
    "    {\"name\": \"image\", \"value\": 16*1024*\"0\"},\n",
    "]\n",
    "response = await agent_controller.issuer.send_credential(connection_id, size4_schema_id, size4_rev_cred_def_id, credential_attributes)"
   ]
  },
  {
   "cell_type": "code",
   "execution_count": null,
   "id": "16feb4af",
   "metadata": {},
   "outputs": [],
   "source": [
    "credential_attributes = [\n",
    "    {\"name\": \"image\", \"value\": 64*1024*\"0\"},\n",
    "]\n",
    "response = await agent_controller.issuer.send_credential(connection_id, size5_schema_id, size5_rev_cred_def_id, credential_attributes)"
   ]
  },
  {
   "cell_type": "code",
   "execution_count": null,
   "id": "d2ff0acf",
   "metadata": {},
   "outputs": [],
   "source": [
    "credential_attributes = [\n",
    "    {\"name\": \"image\", \"value\": 128*1024*\"0\"},\n",
    "]\n",
    "response = await agent_controller.issuer.send_credential(connection_id, size6_schema_id, size6_rev_cred_def_id, credential_attributes)"
   ]
  },
  {
   "cell_type": "code",
   "execution_count": null,
   "id": "4744b07a",
   "metadata": {},
   "outputs": [],
   "source": [
    "credential_attributes = [\n",
    "    {\"name\": \"image\", \"value\": 256*1024*\"0\"},\n",
    "]\n",
    "response = await agent_controller.issuer.send_credential(connection_id, size7_schema_id, size7_rev_cred_def_id, credential_attributes)"
   ]
  },
  {
   "cell_type": "markdown",
   "id": "b3c66e5b",
   "metadata": {},
   "source": [
    "## Init Performance Service"
   ]
  },
  {
   "cell_type": "code",
   "execution_count": null,
   "id": "cd324ed7",
   "metadata": {},
   "outputs": [],
   "source": [
    "performance_service = PerformanceService(agent_controller, iterations=20)"
   ]
  },
  {
   "cell_type": "markdown",
   "id": "40d0ad75",
   "metadata": {},
   "source": [
    "## Define Presentation Request Object\n",
    "\n",
    "The below cell defines a generic presentation request object, that can be sent across specific connections requesting that they produce a presentation containing the identified attributes and meeting the restrictions.\n",
    "\n",
    "It is often useful to define your request objects first, then reuse these objects across many connections you wish to request a proof from. \n",
    "\n",
    "Duplicate and customise the below cell as many times as you need. It may be useful to save these request objects either to the jupyter store using %store or through\n",
    "\n",
    "TODO: Detail the full set of restrictions available to a verifier."
   ]
  },
  {
   "cell_type": "code",
   "execution_count": null,
   "id": "945ce1e3",
   "metadata": {},
   "outputs": [],
   "source": [
    "# # We add a constraint that the attribute must originate from this schema\n",
    "# schema_id = \"<SOME SCHEMA ID>\"\n",
    "\n",
    "# trusted_issuer_did = \"<SOME ISSUER DID ON INDY NETWORK>\"\n",
    "\n",
    "# cred_def_id = \"<SOME CRED DEF>\"\n",
    "\n",
    "# # Define the list of attributes and restrictions under which each attribute was issued that a prover must satisfy with a presentation\n",
    "# # NOTE: if identifying a schema or credential definition then the attribute name must be contained within the corresponding schema.\n",
    "# req_attrs = [\n",
    "#     {\"name\": \"<attr_name_1>\", \"restrictions\": [{\"schema_id\": schema_id}]},\n",
    "#     {\"name\": \"<attr_name_2>\", \"restrictions\": [{\"cred_def_id\": cred_def_id}]},\n",
    "#     #NOTE: you do not need to specify any restrictions. This means the prover can present a self-attested attribute to satisfy this request. \n",
    "#     # Although the business logic (this notebook) can still determine this is unacceptable.\n",
    "#     {\"name\": \"<attr_name_3>\", \"restrictions\":[]}\n",
    "#     # You can also specify individual attributes be non-revoked\n",
    "#     {\"name\": \"<attr_name_4>\", \"restrictions\": [], \"non_revoked\": {\"to\": int(time.time() - 1)}}\n",
    "# ]\n",
    "\n",
    "# # We could extend this to request the name attribute aswell if we wanted.\n",
    "\n",
    "\n",
    "# proof_request = {\n",
    "#     \"name\": \"Name of Proof Request\",\n",
    "#     \"version\": \"1.0\",\n",
    "\n",
    "#     # Predicates allow us to specify range proofs or set membership on attributes. For example greater than 10.\n",
    "#     # We will ignore these for now.\n",
    "#     \"requested_predicates\": {\n",
    "# #         f\"0_{req_pred['name']}_GE_uuid\":\n",
    "# #         req_pred for req_pred in req_preds\n",
    "#     },\n",
    "#     # You can also request the entire proof request be non-revoked\n",
    "#     \"non_revoked\":  {\"to\": int(time.time())}\n",
    "# }"
   ]
  },
  {
   "cell_type": "code",
   "execution_count": null,
   "id": "e1f10ef0",
   "metadata": {},
   "outputs": [],
   "source": [
    "proof_request = {\n",
    "    \"name\": \"Name of Proof Request\",\n",
    "    \"version\": \"1.0\",\n",
    "\n",
    "    # Predicates allow us to specify range proofs or set membership on attributes. For example greater than 10.\n",
    "    # We will ignore these for now.\n",
    "    \"requested_predicates\": {\n",
    "#         f\"0_{req_pred['name']}_GE_uuid\":\n",
    "#         req_pred for req_pred in req_preds\n",
    "    },\n",
    "    # You can also request the entire proof request be non-revoked\n",
    "    \"non_revoked\":  {\"to\": int(time.time())}\n",
    "}"
   ]
  },
  {
   "cell_type": "markdown",
   "id": "c0ec457f",
   "metadata": {},
   "source": [
    "# Variable Attribute Size Experiment\n"
   ]
  },
  {
   "cell_type": "code",
   "execution_count": null,
   "id": "c2f9e7b7",
   "metadata": {},
   "outputs": [],
   "source": [
    "experiment = performance_service.new_experiment(\"Variable Attribute Size - Non Revocable\")\n"
   ]
  },
  {
   "cell_type": "code",
   "execution_count": null,
   "id": "d40d6661",
   "metadata": {},
   "outputs": [],
   "source": [
    "revocable_experiment = performance_service.new_experiment(\"Variable Attribute Size - Revocable\")"
   ]
  },
  {
   "cell_type": "markdown",
   "id": "a27f987c",
   "metadata": {},
   "source": [
    "## Performance Test - 128B"
   ]
  },
  {
   "cell_type": "code",
   "execution_count": null,
   "id": "949dbf38",
   "metadata": {},
   "outputs": [],
   "source": [
    "req_attrs = [\n",
    "    {\"name\": \"image\", \"restrictions\": [{\"schema_id\": size1_schema_id, \"cred_def_id\": size1_cred_def_id}]},\n",
    "]\n",
    "\n",
    "proof_request[\"requested_attributes\"] = {\n",
    "        # They generally follow this uuid pattern. Unique identifier for attribute within context of this proof request\n",
    "        # Note that req_attr['name'] gets the attribute name of each object. E.g. domain and name in this case\n",
    "        f\"0_{req_attr['name']}_uuid\":\n",
    "        req_attr for req_attr in req_attrs\n",
    "}"
   ]
  },
  {
   "cell_type": "code",
   "execution_count": null,
   "id": "820cffb3",
   "metadata": {},
   "outputs": [],
   "source": [
    "name = \"128B\""
   ]
  },
  {
   "cell_type": "code",
   "execution_count": null,
   "id": "12a75af1",
   "metadata": {},
   "outputs": [],
   "source": [
    "test = {\"name\": name, \"proof_request\": proof_request}\n",
    "\n",
    "await performance_service.run_verification(experiment, test, connection_id)"
   ]
  },
  {
   "cell_type": "code",
   "execution_count": null,
   "id": "80070da8",
   "metadata": {},
   "outputs": [],
   "source": [
    "req_attrs = [\n",
    "    {\"name\": \"image\", \"restrictions\": [{\"schema_id\": size1_schema_id, \"cred_def_id\": size1_rev_cred_def_id}]},\n",
    "]\n",
    "\n",
    "proof_request[\"requested_attributes\"] = {\n",
    "        # They generally follow this uuid pattern. Unique identifier for attribute within context of this proof request\n",
    "        # Note that req_attr['name'] gets the attribute name of each object. E.g. domain and name in this case\n",
    "        f\"0_{req_attr['name']}_uuid\":\n",
    "        req_attr for req_attr in req_attrs\n",
    "}"
   ]
  },
  {
   "cell_type": "code",
   "execution_count": null,
   "id": "daae023f",
   "metadata": {},
   "outputs": [],
   "source": [
    "test = {\"name\": name, \"proof_request\": proof_request}\n",
    "\n",
    "await performance_service.run_verification(revocable_experiment, test, connection_id)"
   ]
  },
  {
   "cell_type": "markdown",
   "id": "7793a380",
   "metadata": {},
   "source": [
    "## Performance Test - 512B"
   ]
  },
  {
   "cell_type": "code",
   "execution_count": null,
   "id": "13ffa459",
   "metadata": {},
   "outputs": [],
   "source": [
    "req_attrs = [\n",
    "    {\"name\": \"image\", \"restrictions\": [{\"schema_id\": size2_schema_id, \"cred_def_id\": size2_cred_def_id}]},\n",
    "]\n",
    "\n",
    "proof_request[\"requested_attributes\"] = {\n",
    "        # They generally follow this uuid pattern. Unique identifier for attribute within context of this proof request\n",
    "        # Note that req_attr['name'] gets the attribute name of each object. E.g. domain and name in this case\n",
    "        f\"0_{req_attr['name']}_uuid\":\n",
    "        req_attr for req_attr in req_attrs\n",
    "}"
   ]
  },
  {
   "cell_type": "code",
   "execution_count": null,
   "id": "86ae5b75",
   "metadata": {},
   "outputs": [],
   "source": [
    "name = \"512B\""
   ]
  },
  {
   "cell_type": "code",
   "execution_count": null,
   "id": "50a5ad7a",
   "metadata": {},
   "outputs": [],
   "source": [
    "test = {\"name\": name, \"proof_request\": proof_request}\n",
    "\n",
    "await performance_service.run_verification(experiment, test, connection_id)"
   ]
  },
  {
   "cell_type": "code",
   "execution_count": null,
   "id": "d7a42fb4",
   "metadata": {},
   "outputs": [],
   "source": [
    "req_attrs = [\n",
    "    {\"name\": \"image\", \"restrictions\": [{\"schema_id\": size2_schema_id, \"cred_def_id\": size2_rev_cred_def_id}]},\n",
    "]\n",
    "\n",
    "proof_request[\"requested_attributes\"] = {\n",
    "        # They generally follow this uuid pattern. Unique identifier for attribute within context of this proof request\n",
    "        # Note that req_attr['name'] gets the attribute name of each object. E.g. domain and name in this case\n",
    "        f\"0_{req_attr['name']}_uuid\":\n",
    "        req_attr for req_attr in req_attrs\n",
    "}"
   ]
  },
  {
   "cell_type": "code",
   "execution_count": null,
   "id": "ea9cc8f6",
   "metadata": {},
   "outputs": [],
   "source": [
    "test = {\"name\": name, \"proof_request\": proof_request}\n",
    "\n",
    "await performance_service.run_verification(revocable_experiment, test, connection_id)"
   ]
  },
  {
   "cell_type": "markdown",
   "id": "c9f0f67c",
   "metadata": {},
   "source": [
    "## Performance Test - 1kB"
   ]
  },
  {
   "cell_type": "code",
   "execution_count": null,
   "id": "2469348d",
   "metadata": {},
   "outputs": [],
   "source": [
    "req_attrs = [\n",
    "    {\"name\": \"image\", \"restrictions\": [{\"schema_id\": size3_schema_id, \"cred_def_id\": size3_cred_def_id}]},\n",
    "]\n",
    "\n",
    "proof_request[\"requested_attributes\"] = {\n",
    "        # They generally follow this uuid pattern. Unique identifier for attribute within context of this proof request\n",
    "        # Note that req_attr['name'] gets the attribute name of each object. E.g. domain and name in this case\n",
    "        f\"0_{req_attr['name']}_uuid\":\n",
    "        req_attr for req_attr in req_attrs\n",
    "}"
   ]
  },
  {
   "cell_type": "code",
   "execution_count": null,
   "id": "5e252b12",
   "metadata": {},
   "outputs": [],
   "source": [
    "name = \"1kB\""
   ]
  },
  {
   "cell_type": "code",
   "execution_count": null,
   "id": "14400595",
   "metadata": {},
   "outputs": [],
   "source": [
    "test = {\"name\": name, \"proof_request\": proof_request}\n",
    "\n",
    "await performance_service.run_verification(experiment, test, connection_id)"
   ]
  },
  {
   "cell_type": "code",
   "execution_count": null,
   "id": "baacfd2c",
   "metadata": {},
   "outputs": [],
   "source": [
    "req_attrs = [\n",
    "    {\"name\": \"image\", \"restrictions\": [{\"schema_id\": size3_schema_id, \"cred_def_id\": size3_rev_cred_def_id}]},\n",
    "]\n",
    "\n",
    "proof_request[\"requested_attributes\"] = {\n",
    "        # They generally follow this uuid pattern. Unique identifier for attribute within context of this proof request\n",
    "        # Note that req_attr['name'] gets the attribute name of each object. E.g. domain and name in this case\n",
    "        f\"0_{req_attr['name']}_uuid\":\n",
    "        req_attr for req_attr in req_attrs\n",
    "}"
   ]
  },
  {
   "cell_type": "code",
   "execution_count": null,
   "id": "ba224e27",
   "metadata": {},
   "outputs": [],
   "source": [
    "test = {\"name\": name, \"proof_request\": proof_request}\n",
    "\n",
    "await performance_service.run_verification(revocable_experiment, test, connection_id)"
   ]
  },
  {
   "cell_type": "markdown",
   "id": "3738cb47",
   "metadata": {},
   "source": [
    "## Performance Test - 16kB"
   ]
  },
  {
   "cell_type": "code",
   "execution_count": null,
   "id": "40494d3d",
   "metadata": {},
   "outputs": [],
   "source": [
    "req_attrs = [\n",
    "    {\"name\": \"image\", \"restrictions\": [{\"schema_id\": size4_schema_id, \"cred_def_id\": size4_cred_def_id}]},\n",
    "]\n",
    "\n",
    "proof_request[\"requested_attributes\"] = {\n",
    "        # They generally follow this uuid pattern. Unique identifier for attribute within context of this proof request\n",
    "        # Note that req_attr['name'] gets the attribute name of each object. E.g. domain and name in this case\n",
    "        f\"0_{req_attr['name']}_uuid\":\n",
    "        req_attr for req_attr in req_attrs\n",
    "}"
   ]
  },
  {
   "cell_type": "code",
   "execution_count": null,
   "id": "bc2ad17b",
   "metadata": {},
   "outputs": [],
   "source": [
    "name = \"16kB\""
   ]
  },
  {
   "cell_type": "code",
   "execution_count": null,
   "id": "9b850b79",
   "metadata": {},
   "outputs": [],
   "source": [
    "test = {\"name\": name, \"proof_request\": proof_request}\n",
    "\n",
    "await performance_service.run_verification(experiment, test, connection_id)"
   ]
  },
  {
   "cell_type": "code",
   "execution_count": null,
   "id": "d8079b79",
   "metadata": {},
   "outputs": [],
   "source": [
    "req_attrs = [\n",
    "    {\"name\": \"image\", \"restrictions\": [{\"schema_id\": size4_schema_id, \"cred_def_id\": size4_rev_cred_def_id}]},\n",
    "]\n",
    "\n",
    "proof_request[\"requested_attributes\"] = {\n",
    "        # They generally follow this uuid pattern. Unique identifier for attribute within context of this proof request\n",
    "        # Note that req_attr['name'] gets the attribute name of each object. E.g. domain and name in this case\n",
    "        f\"0_{req_attr['name']}_uuid\":\n",
    "        req_attr for req_attr in req_attrs\n",
    "}"
   ]
  },
  {
   "cell_type": "code",
   "execution_count": null,
   "id": "6d620f2a",
   "metadata": {},
   "outputs": [],
   "source": [
    "test = {\"name\": name, \"proof_request\": proof_request}\n",
    "\n",
    "await performance_service.run_verification(revocable_experiment, test, connection_id)"
   ]
  },
  {
   "cell_type": "markdown",
   "id": "07799bfe",
   "metadata": {},
   "source": [
    "## Performance Test - 64kB"
   ]
  },
  {
   "cell_type": "code",
   "execution_count": null,
   "id": "2b196934",
   "metadata": {},
   "outputs": [],
   "source": [
    "req_attrs = [\n",
    "    {\"name\": \"image\", \"restrictions\": [{\"schema_id\": size5_schema_id, \"cred_def_id\": size5_cred_def_id}]},\n",
    "]\n",
    "\n",
    "proof_request[\"requested_attributes\"] = {\n",
    "        # They generally follow this uuid pattern. Unique identifier for attribute within context of this proof request\n",
    "        # Note that req_attr['name'] gets the attribute name of each object. E.g. domain and name in this case\n",
    "        f\"0_{req_attr['name']}_uuid\":\n",
    "        req_attr for req_attr in req_attrs\n",
    "}"
   ]
  },
  {
   "cell_type": "code",
   "execution_count": null,
   "id": "3d29fc28",
   "metadata": {},
   "outputs": [],
   "source": [
    "name = \"64kB\""
   ]
  },
  {
   "cell_type": "code",
   "execution_count": null,
   "id": "6f7dc715",
   "metadata": {},
   "outputs": [],
   "source": [
    "test = {\"name\": name, \"proof_request\": proof_request}\n",
    "\n",
    "await performance_service.run_verification(experiment, test, connection_id)"
   ]
  },
  {
   "cell_type": "code",
   "execution_count": null,
   "id": "ca146a79",
   "metadata": {},
   "outputs": [],
   "source": [
    "req_attrs = [\n",
    "    {\"name\": \"image\", \"restrictions\": [{\"schema_id\": size5_schema_id, \"cred_def_id\": size5_rev_cred_def_id}]},\n",
    "]\n",
    "\n",
    "proof_request[\"requested_attributes\"] = {\n",
    "        # They generally follow this uuid pattern. Unique identifier for attribute within context of this proof request\n",
    "        # Note that req_attr['name'] gets the attribute name of each object. E.g. domain and name in this case\n",
    "        f\"0_{req_attr['name']}_uuid\":\n",
    "        req_attr for req_attr in req_attrs\n",
    "}"
   ]
  },
  {
   "cell_type": "code",
   "execution_count": null,
   "id": "dafaa52e",
   "metadata": {},
   "outputs": [],
   "source": [
    "test = {\"name\": name, \"proof_request\": proof_request}\n",
    "\n",
    "await performance_service.run_verification(revocable_experiment, test, connection_id)"
   ]
  },
  {
   "cell_type": "markdown",
   "id": "34e83cf7",
   "metadata": {},
   "source": [
    "## Performance Test - 128kB"
   ]
  },
  {
   "cell_type": "code",
   "execution_count": null,
   "id": "45109191",
   "metadata": {},
   "outputs": [],
   "source": [
    "req_attrs = [\n",
    "    {\"name\": \"image\", \"restrictions\": [{\"schema_id\": size6_schema_id, \"cred_def_id\": size6_cred_def_id}]},\n",
    "]\n",
    "\n",
    "proof_request[\"requested_attributes\"] = {\n",
    "        # They generally follow this uuid pattern. Unique identifier for attribute within context of this proof request\n",
    "        # Note that req_attr['name'] gets the attribute name of each object. E.g. domain and name in this case\n",
    "        f\"0_{req_attr['name']}_uuid\":\n",
    "        req_attr for req_attr in req_attrs\n",
    "}"
   ]
  },
  {
   "cell_type": "code",
   "execution_count": null,
   "id": "cba90fe1",
   "metadata": {},
   "outputs": [],
   "source": [
    "name = \"128kB\""
   ]
  },
  {
   "cell_type": "code",
   "execution_count": null,
   "id": "c99237d5",
   "metadata": {},
   "outputs": [],
   "source": [
    "test = {\"name\": name, \"proof_request\": proof_request}\n",
    "\n",
    "await performance_service.run_verification(experiment, test, connection_id)"
   ]
  },
  {
   "cell_type": "code",
   "execution_count": null,
   "id": "1c3990f1",
   "metadata": {},
   "outputs": [],
   "source": [
    "req_attrs = [\n",
    "    {\"name\": \"image\", \"restrictions\": [{\"schema_id\": size6_schema_id, \"cred_def_id\": size6_rev_cred_def_id}]},\n",
    "]\n",
    "\n",
    "proof_request[\"requested_attributes\"] = {\n",
    "        # They generally follow this uuid pattern. Unique identifier for attribute within context of this proof request\n",
    "        # Note that req_attr['name'] gets the attribute name of each object. E.g. domain and name in this case\n",
    "        f\"0_{req_attr['name']}_uuid\":\n",
    "        req_attr for req_attr in req_attrs\n",
    "}"
   ]
  },
  {
   "cell_type": "code",
   "execution_count": null,
   "id": "4d337aed",
   "metadata": {},
   "outputs": [],
   "source": [
    "test = {\"name\": name, \"proof_request\": proof_request}\n",
    "\n",
    "await performance_service.run_verification(revocable_experiment, test, connection_id)"
   ]
  },
  {
   "cell_type": "markdown",
   "id": "e419f6f8",
   "metadata": {},
   "source": [
    "## Performance Test - 256kB"
   ]
  },
  {
   "cell_type": "code",
   "execution_count": null,
   "id": "ec6d21a3",
   "metadata": {},
   "outputs": [],
   "source": [
    "req_attrs = [\n",
    "    {\"name\": \"image\", \"restrictions\": [{\"schema_id\": size7_schema_id, \"cred_def_id\": size7_cred_def_id}]},\n",
    "]\n",
    "\n",
    "proof_request[\"requested_attributes\"] = {\n",
    "        # They generally follow this uuid pattern. Unique identifier for attribute within context of this proof request\n",
    "        # Note that req_attr['name'] gets the attribute name of each object. E.g. domain and name in this case\n",
    "        f\"0_{req_attr['name']}_uuid\":\n",
    "        req_attr for req_attr in req_attrs\n",
    "}"
   ]
  },
  {
   "cell_type": "code",
   "execution_count": null,
   "id": "d215dadb",
   "metadata": {},
   "outputs": [],
   "source": [
    "name = \"256kB\""
   ]
  },
  {
   "cell_type": "code",
   "execution_count": null,
   "id": "0c3c0b2d",
   "metadata": {},
   "outputs": [],
   "source": [
    "test = {\"name\": name, \"proof_request\": proof_request}\n",
    "\n",
    "await performance_service.run_verification(experiment, test, connection_id)"
   ]
  },
  {
   "cell_type": "code",
   "execution_count": null,
   "id": "e9cd47f3",
   "metadata": {},
   "outputs": [],
   "source": [
    "req_attrs = [\n",
    "    {\"name\": \"image\", \"restrictions\": [{\"schema_id\": size7_schema_id, \"cred_def_id\": size7_rev_cred_def_id}]},\n",
    "]\n",
    "\n",
    "proof_request[\"requested_attributes\"] = {\n",
    "        # They generally follow this uuid pattern. Unique identifier for attribute within context of this proof request\n",
    "        # Note that req_attr['name'] gets the attribute name of each object. E.g. domain and name in this case\n",
    "        f\"0_{req_attr['name']}_uuid\":\n",
    "        req_attr for req_attr in req_attrs\n",
    "}"
   ]
  },
  {
   "cell_type": "code",
   "execution_count": null,
   "id": "9e48a9cb",
   "metadata": {},
   "outputs": [],
   "source": [
    "test = {\"name\": name, \"proof_request\": proof_request}\n",
    "\n",
    "await performance_service.run_verification(revocable_experiment, test, connection_id)"
   ]
  },
  {
   "cell_type": "markdown",
   "id": "8fc84705",
   "metadata": {},
   "source": [
    "## Plot Results"
   ]
  },
  {
   "cell_type": "markdown",
   "id": "5f0aec22",
   "metadata": {},
   "source": [
    "### Non Revocable"
   ]
  },
  {
   "cell_type": "code",
   "execution_count": null,
   "id": "c6f41931",
   "metadata": {},
   "outputs": [],
   "source": [
    "data = []\n",
    "labels = []\n",
    "non_revocable_averages = []\n",
    "for result in experiment[\"results\"]:\n",
    "    millitimings = [i * 1000 for i in result[\"timings\"]]\n",
    "    data.append(millitimings)\n",
    "    non_revocable_averages.append(result[\"average\"] * 1000)\n",
    "    labels.append(result[\"name\"])\n",
    "\n"
   ]
  },
  {
   "cell_type": "code",
   "execution_count": null,
   "id": "f7836456",
   "metadata": {},
   "outputs": [],
   "source": [
    "# Import libraries\n",
    "import matplotlib.pyplot as plt\n",
    "import numpy as np\n",
    " \n",
    "\n",
    " \n",
    "fig = plt.figure(figsize =(10, 10))\n",
    " \n",
    "# Creating axes instance\n",
    "ax = fig.add_axes([0.1,0.1,0.75,0.75]) \n",
    " \n",
    "# Creating plot`\n",
    "bp = ax.boxplot(data, patch_artist = True,\n",
    "                notch ='True')\n",
    "\n",
    "# x-axis labels\n",
    "ax.set_xticklabels(labels)\n",
    "\n",
    "plt.ylabel(\"Milliseconds\")\n",
    "plt.xlabel(\"Credential Size (Bytes)\")\n",
    "\n",
    "plt.savefig(\"results/verification/attribute_size/box_plot_non_revocable.png\")"
   ]
  },
  {
   "cell_type": "markdown",
   "id": "68243ae4",
   "metadata": {},
   "source": [
    "### Revocable"
   ]
  },
  {
   "cell_type": "code",
   "execution_count": null,
   "id": "dd8093d2",
   "metadata": {},
   "outputs": [],
   "source": [
    "data = []\n",
    "labels = []\n",
    "revocable_averages = []\n",
    "for result in revocable_experiment[\"results\"]:\n",
    "    \n",
    "    millitimings = [i * 1000 for i in result[\"timings\"]]\n",
    "    data.append(millitimings)\n",
    "    revocable_averages.append(result[\"average\"] * 1000)\n",
    "    labels.append(result[\"name\"])\n",
    "    \n"
   ]
  },
  {
   "cell_type": "code",
   "execution_count": null,
   "id": "45ca7cab",
   "metadata": {},
   "outputs": [],
   "source": [
    "# Import libraries\n",
    "import matplotlib.pyplot as plt\n",
    "import numpy as np\n",
    " \n",
    "\n",
    " \n",
    "fig = plt.figure(figsize =(10, 10))\n",
    " \n",
    "# Creating axes instance\n",
    "ax = fig.add_axes([0.1,0.1,0.75,0.75]) \n",
    " \n",
    "# Creating plot`\n",
    "bp = ax.boxplot(data, patch_artist = True,\n",
    "                notch ='True')\n",
    "\n",
    "# x-axis labels\n",
    "ax.set_xticklabels(labels)\n",
    "\n",
    "plt.ylabel(\"Milliseconds\")\n",
    "plt.xlabel(\"Credential Size (Bytes)\")\n",
    "\n",
    "plt.savefig(\"results/verification/attribute_size/box_plot_revocable.png\")"
   ]
  },
  {
   "cell_type": "markdown",
   "id": "8fc6aee6",
   "metadata": {},
   "source": [
    "## Averages"
   ]
  },
  {
   "cell_type": "code",
   "execution_count": null,
   "id": "c2693891",
   "metadata": {},
   "outputs": [],
   "source": [
    "fig = plt.figure(figsize =(10, 10))\n",
    " \n",
    "# Creating axes instance\n",
    "ax = fig.add_axes([0.1,0.1,0.75,0.75]) \n",
    "\n",
    "# avg_ploy = plt.plot(labels, revocable_averages, non_revoked_averages)\n",
    "\n",
    "plt_points = [128,512,1024,16*1024,64*1024,128*1024,256*1024]\n",
    "\n",
    "plt.plot(labels, revocable_averages,'r-',label='Revocable Credential Presentation Averages')\n",
    "plt.plot(labels, non_revocable_averages,label='Non Revocable Credential Presentation Averages')\n",
    "\n",
    "plt.ylabel(\"Milliseconds\")\n",
    "plt.xlabel(\"Credential_size (Bytes)\")\n",
    "\n",
    "\n",
    "plt.legend()\n",
    "plt.savefig(\"results/verification/attribute_size/averages.png\")"
   ]
  },
  {
   "cell_type": "markdown",
   "id": "15decea2",
   "metadata": {},
   "source": [
    "## Terminate Controller"
   ]
  },
  {
   "cell_type": "code",
   "execution_count": null,
   "id": "cc9c5cca",
   "metadata": {},
   "outputs": [],
   "source": [
    "await agent_controller.terminate()"
   ]
  },
  {
   "cell_type": "code",
   "execution_count": null,
   "id": "f0f505cc",
   "metadata": {},
   "outputs": [],
   "source": []
  }
 ],
 "metadata": {
  "kernelspec": {
   "display_name": "Python 3",
   "language": "python",
   "name": "python3"
  },
  "language_info": {
   "codemirror_mode": {
    "name": "ipython",
    "version": 3
   },
   "file_extension": ".py",
   "mimetype": "text/x-python",
   "name": "python",
   "nbconvert_exporter": "python",
   "pygments_lexer": "ipython3",
   "version": "3.7.6"
  }
 },
 "nbformat": 4,
 "nbformat_minor": 5
}
