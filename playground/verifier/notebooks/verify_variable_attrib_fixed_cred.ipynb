{
 "cells": [
  {
   "cell_type": "markdown",
   "id": "7eae5984",
   "metadata": {},
   "source": [
    "# Performance Test\n",
    "\n",
    "## Variable Attribute Disclosed, Fixed Credential"
   ]
  },
  {
   "cell_type": "markdown",
   "id": "3e854052",
   "metadata": {},
   "source": [
    "### Imports"
   ]
  },
  {
   "cell_type": "code",
   "execution_count": 1,
   "id": "8b4d1579",
   "metadata": {},
   "outputs": [],
   "source": [
    "from aries_cloudcontroller import AriesAgentController\n",
    "\n",
    "from libs.performance_service import PerformanceService\n",
    "import os\n",
    "import time\n",
    "from termcolor import colored"
   ]
  },
  {
   "cell_type": "markdown",
   "id": "3eaf3a62",
   "metadata": {},
   "source": [
    "### Initialise the Agent Controller"
   ]
  },
  {
   "cell_type": "code",
   "execution_count": 2,
   "id": "c1f6c437",
   "metadata": {},
   "outputs": [
    {
     "name": "stdout",
     "output_type": "stream",
     "text": [
      "Initialising a controller with admin api at http://verifier-agent:3021 and an api key of adminApiKey\n"
     ]
    }
   ],
   "source": [
    "api_key = os.getenv(\"ACAPY_ADMIN_API_KEY\")\n",
    "admin_url = os.getenv(\"ADMIN_URL\")\n",
    "\n",
    "print(f\"Initialising a controller with admin api at {admin_url} and an api key of {api_key}\")\n",
    "agent_controller = AriesAgentController(admin_url,api_key)"
   ]
  },
  {
   "cell_type": "markdown",
   "id": "1a87e21e",
   "metadata": {},
   "source": [
    "### Start a Webhook Server"
   ]
  },
  {
   "cell_type": "code",
   "execution_count": 3,
   "id": "e8ec0ef0",
   "metadata": {},
   "outputs": [
    {
     "name": "stdout",
     "output_type": "stream",
     "text": [
      "Listening for webhooks from agent at http://0.0.0.0:3010\n"
     ]
    }
   ],
   "source": [
    "webhook_port = int(os.getenv(\"WEBHOOK_PORT\"))\n",
    "webhook_host = \"0.0.0.0\"\n",
    "\n",
    "await agent_controller.init_webhook_server(webhook_host, webhook_port)\n",
    "\n",
    "print(f\"Listening for webhooks from agent at http://{webhook_host}:{webhook_port}\")"
   ]
  },
  {
   "cell_type": "markdown",
   "id": "174ed749",
   "metadata": {},
   "source": [
    "## Store Issuing Schema and Cred Def Identifiers\n",
    "\n",
    "If you intend for this agent to issue credentials you should first initialise your agent as an issuer and author the relevant identifiers to the public ledger. The issuer_initialisation recipe notebook can be duplicated and used as a starting point.\n",
    "\n",
    "Once schema and cred def identifiers are created copy across and store in variables as illustrated in the cell below. Be sure to use unique names for each variable."
   ]
  },
  {
   "cell_type": "code",
   "execution_count": 4,
   "id": "b7f59401",
   "metadata": {},
   "outputs": [],
   "source": [
    "one_schema_id='H7zAaLJRZrdbPqbVMMfL5t:2:one-attrib:0.0.2'\n",
    "one_cred_def_id='H7zAaLJRZrdbPqbVMMfL5t:3:CL:15:default'\n",
    "one_rev_cred_def_id='H7zAaLJRZrdbPqbVMMfL5t:3:CL:15:revocable'\n",
    "\n",
    "five_schema_id='H7zAaLJRZrdbPqbVMMfL5t:2:five-attrib:0.0.1'\n",
    "five_cred_def_id='H7zAaLJRZrdbPqbVMMfL5t:3:CL:16:default'\n",
    "five_rev_cred_def_id='H7zAaLJRZrdbPqbVMMfL5t:3:CL:16:revocable'\n",
    "\n",
    "ten_schema_id='H7zAaLJRZrdbPqbVMMfL5t:2:ten-attrib:0.0.1'\n",
    "ten_cred_def_id='H7zAaLJRZrdbPqbVMMfL5t:3:CL:17:default'\n",
    "ten_rev_cred_def_id='H7zAaLJRZrdbPqbVMMfL5t:3:CL:17:revocable'\n",
    "\n",
    "twenty_schema_id='H7zAaLJRZrdbPqbVMMfL5t:2:twenty-attrib:0.0.1'\n",
    "twenty_cred_def_id='H7zAaLJRZrdbPqbVMMfL5t:3:CL:18:default'\n",
    "twenty_rev_cred_def_id='H7zAaLJRZrdbPqbVMMfL5t:3:CL:18:revocable'\n",
    "\n",
    "fifty_schema_id='H7zAaLJRZrdbPqbVMMfL5t:2:fifty-attrib:0.0.1'\n",
    "fifty_cred_def_id='H7zAaLJRZrdbPqbVMMfL5t:3:CL:19:default'\n",
    "fifty_rev_cred_def_id='H7zAaLJRZrdbPqbVMMfL5t:3:CL:19:revocable'\n",
    "\n",
    "hundred_schema_id='H7zAaLJRZrdbPqbVMMfL5t:2:hundred-attrib:0.0.1'\n",
    "hundred_cred_def_id='H7zAaLJRZrdbPqbVMMfL5t:3:CL:20:default'\n",
    "hundred_rev_cred_def_id='H7zAaLJRZrdbPqbVMMfL5t:3:CL:20:revocable'\n"
   ]
  },
  {
   "cell_type": "markdown",
   "id": "a7f7f380",
   "metadata": {},
   "source": [
    "## Init Performance Service"
   ]
  },
  {
   "cell_type": "code",
   "execution_count": 5,
   "id": "411bbca9",
   "metadata": {},
   "outputs": [],
   "source": [
    "performance_service = PerformanceService(agent_controller, iterations=100)"
   ]
  },
  {
   "cell_type": "markdown",
   "id": "2281d473",
   "metadata": {},
   "source": [
    "## Establish Connection\n",
    "\n",
    "Before you can issue a credential you must first establish a connection across which the credential will be issued to a holder. (see recipes/connection)"
   ]
  },
  {
   "cell_type": "code",
   "execution_count": null,
   "id": "9603425e",
   "metadata": {},
   "outputs": [],
   "source": [
    "# Alias for invited connection\n",
    "alias = \"Friend\"\n",
    "auto_accept = \"true\"\n",
    "# Use public DID?\n",
    "public = \"false\"\n",
    "# Should this invitation be usable by multiple invitees?\n",
    "multi_use = \"false\"\n",
    "\n",
    "invitation_response = await agent_controller.connections.create_invitation(alias, auto_accept, public, multi_use)\n",
    "# Is equivalent to above. Arguments are optionally\n",
    "# invitation_response = await agent_controller.connections.create_invitation()\n",
    "\n",
    "\n",
    "\n",
    "# You will use this identifier to issue a credential across this connection\n",
    "connection_id = invitation_response[\"connection_id\"]\n",
    "\n",
    "invitation = invitation_response[\"invitation\"]\n",
    "## Copy this output\n",
    "print(invitation)\n",
    "print(connection_id)"
   ]
  },
  {
   "cell_type": "code",
   "execution_count": 6,
   "id": "9d37037f",
   "metadata": {},
   "outputs": [],
   "source": [
    "connection_id = \"3aaf07e2-d41b-4dff-903d-6acc4b21c3af\""
   ]
  },
  {
   "cell_type": "markdown",
   "id": "20dca195",
   "metadata": {},
   "source": [
    "## Define Presentation Request Object\n"
   ]
  },
  {
   "cell_type": "code",
   "execution_count": 7,
   "id": "02c7d5b6",
   "metadata": {},
   "outputs": [],
   "source": [
    "proof_request = {\n",
    "    \"name\": \"Name of Proof Request\",\n",
    "    \"version\": \"1.0\",\n",
    "\n",
    "    # Predicates allow us to specify range proofs or set membership on attributes. For example greater than 10.\n",
    "    # We will ignore these for now.\n",
    "    \"requested_predicates\": {\n",
    "#         f\"0_{req_pred['name']}_GE_uuid\":\n",
    "#         req_pred for req_pred in req_preds\n",
    "    },\n",
    "    # You can also request the entire proof request be non-revoked\n",
    "    \"non_revoked\":  {\"to\": int(time.time())}\n",
    "}"
   ]
  },
  {
   "cell_type": "markdown",
   "id": "5dd64eef",
   "metadata": {},
   "source": [
    "# Fixed Credential Variable Attributes Disclosed"
   ]
  },
  {
   "cell_type": "code",
   "execution_count": 8,
   "id": "2bb948a7",
   "metadata": {},
   "outputs": [],
   "source": [
    "experiment = performance_service.new_experiment(\"Fixed Credential Variable Attributes Disclosed\")"
   ]
  },
  {
   "cell_type": "code",
   "execution_count": 9,
   "id": "9532839d",
   "metadata": {},
   "outputs": [],
   "source": [
    "revocable_experiment = performance_service.new_experiment(\"Fixed Credential Variable Attributes Disclosed - Revocable\")"
   ]
  },
  {
   "cell_type": "markdown",
   "id": "7b62aa71",
   "metadata": {},
   "source": [
    "## One Attribute"
   ]
  },
  {
   "cell_type": "code",
   "execution_count": 10,
   "id": "8707a3bb",
   "metadata": {},
   "outputs": [],
   "source": [
    "req_attrs = [\n",
    "    {\"name\": \"1\", \"restrictions\": [{\"schema_id\": twenty_schema_id, \"cred_def_id\": twenty_cred_def_id}]},\n",
    "]\n",
    "\n",
    "proof_request[\"requested_attributes\"] = {\n",
    "        # They generally follow this uuid pattern. Unique identifier for attribute within context of this proof request\n",
    "        # Note that req_attr['name'] gets the attribute name of each object. E.g. domain and name in this case\n",
    "        f\"0_{req_attr['name']}_uuid\":\n",
    "        req_attr for req_attr in req_attrs\n",
    "}"
   ]
  },
  {
   "cell_type": "code",
   "execution_count": 11,
   "id": "5388971d",
   "metadata": {},
   "outputs": [],
   "source": [
    "name = \"1\""
   ]
  },
  {
   "cell_type": "code",
   "execution_count": 12,
   "id": "ad46e5bd",
   "metadata": {},
   "outputs": [
    {
     "name": "stdout",
     "output_type": "stream",
     "text": [
      "Average :  0.7871727362801175\n"
     ]
    }
   ],
   "source": [
    "test = {\"name\": name, \"proof_request\": proof_request}\n",
    "\n",
    "await performance_service.run_verification(experiment, test, connection_id)"
   ]
  },
  {
   "cell_type": "code",
   "execution_count": 13,
   "id": "8ed81856",
   "metadata": {},
   "outputs": [],
   "source": [
    "req_attrs = [\n",
    "    {\"name\": \"1\", \"restrictions\": [{\"schema_id\": twenty_schema_id, \"cred_def_id\": twenty_rev_cred_def_id}]},\n",
    "]\n",
    "\n",
    "proof_request[\"requested_attributes\"] = {\n",
    "        # They generally follow this uuid pattern. Unique identifier for attribute within context of this proof request\n",
    "        # Note that req_attr['name'] gets the attribute name of each object. E.g. domain and name in this case\n",
    "        f\"0_{req_attr['name']}_uuid\":\n",
    "        req_attr for req_attr in req_attrs\n",
    "}"
   ]
  },
  {
   "cell_type": "code",
   "execution_count": 14,
   "id": "c4c4baae",
   "metadata": {},
   "outputs": [
    {
     "name": "stdout",
     "output_type": "stream",
     "text": [
      "Average :  2.3920921443698173\n"
     ]
    }
   ],
   "source": [
    "test = {\"name\": name, \"proof_request\": proof_request}\n",
    "\n",
    "await performance_service.run_verification(revocable_experiment, test, connection_id)"
   ]
  },
  {
   "cell_type": "markdown",
   "id": "70d17b3b",
   "metadata": {},
   "source": [
    "## Two Attribute"
   ]
  },
  {
   "cell_type": "code",
   "execution_count": 15,
   "id": "062e9aa5",
   "metadata": {},
   "outputs": [],
   "source": [
    "req_attrs = [\n",
    "    {\"name\": \"1\", \"restrictions\": [{\"schema_id\": twenty_schema_id, \"cred_def_id\": twenty_cred_def_id}]},\n",
    "    {\"name\": \"2\", \"restrictions\": [{\"schema_id\": twenty_schema_id, \"cred_def_id\": twenty_cred_def_id}]},\n",
    "]\n",
    "\n",
    "proof_request[\"requested_attributes\"] = {\n",
    "        # They generally follow this uuid pattern. Unique identifier for attribute within context of this proof request\n",
    "        # Note that req_attr['name'] gets the attribute name of each object. E.g. domain and name in this case\n",
    "        f\"0_{req_attr['name']}_uuid\":\n",
    "        req_attr for req_attr in req_attrs\n",
    "}"
   ]
  },
  {
   "cell_type": "code",
   "execution_count": 16,
   "id": "e7bcd265",
   "metadata": {},
   "outputs": [],
   "source": [
    "name = \"2\""
   ]
  },
  {
   "cell_type": "code",
   "execution_count": 17,
   "id": "d933052a",
   "metadata": {},
   "outputs": [
    {
     "name": "stdout",
     "output_type": "stream",
     "text": [
      "Average :  0.9971387444399443\n"
     ]
    }
   ],
   "source": [
    "test = {\"name\": name, \"proof_request\": proof_request}\n",
    "\n",
    "await performance_service.run_verification(experiment, test, connection_id)"
   ]
  },
  {
   "cell_type": "code",
   "execution_count": 18,
   "id": "20833764",
   "metadata": {},
   "outputs": [],
   "source": [
    "req_attrs = [\n",
    "    {\"name\": \"1\", \"restrictions\": [{\"schema_id\": twenty_schema_id, \"cred_def_id\": twenty_rev_cred_def_id}]},\n",
    "    {\"name\": \"2\", \"restrictions\": [{\"schema_id\": twenty_schema_id, \"cred_def_id\": twenty_rev_cred_def_id}]},\n",
    "]\n",
    "\n",
    "proof_request[\"requested_attributes\"] = {\n",
    "        # They generally follow this uuid pattern. Unique identifier for attribute within context of this proof request\n",
    "        # Note that req_attr['name'] gets the attribute name of each object. E.g. domain and name in this case\n",
    "        f\"0_{req_attr['name']}_uuid\":\n",
    "        req_attr for req_attr in req_attrs\n",
    "}"
   ]
  },
  {
   "cell_type": "code",
   "execution_count": 19,
   "id": "eb367016",
   "metadata": {},
   "outputs": [
    {
     "name": "stdout",
     "output_type": "stream",
     "text": [
      "Average :  2.360116968230177\n"
     ]
    }
   ],
   "source": [
    "test = {\"name\": name, \"proof_request\": proof_request}\n",
    "\n",
    "await performance_service.run_verification(revocable_experiment, test, connection_id)"
   ]
  },
  {
   "cell_type": "markdown",
   "id": "8cc62ab7",
   "metadata": {},
   "source": [
    "## Five Attribute"
   ]
  },
  {
   "cell_type": "code",
   "execution_count": 20,
   "id": "ee66b4f6",
   "metadata": {},
   "outputs": [],
   "source": [
    "req_attrs = [\n",
    "    {\"name\": \"1\", \"restrictions\": [{\"schema_id\": twenty_schema_id, \"cred_def_id\": twenty_cred_def_id}]},\n",
    "    {\"name\": \"2\", \"restrictions\": [{\"schema_id\": twenty_schema_id, \"cred_def_id\": twenty_cred_def_id}]},\n",
    "    {\"name\": \"3\", \"restrictions\": [{\"schema_id\": twenty_schema_id, \"cred_def_id\": twenty_cred_def_id}]},\n",
    "    {\"name\": \"4\", \"restrictions\": [{\"schema_id\": twenty_schema_id, \"cred_def_id\": twenty_cred_def_id}]},\n",
    "    {\"name\": \"5\", \"restrictions\": [{\"schema_id\": twenty_schema_id, \"cred_def_id\": twenty_cred_def_id}]},\n",
    "]\n",
    "\n",
    "proof_request[\"requested_attributes\"] = {\n",
    "        # They generally follow this uuid pattern. Unique identifier for attribute within context of this proof request\n",
    "        # Note that req_attr['name'] gets the attribute name of each object. E.g. domain and name in this case\n",
    "        f\"0_{req_attr['name']}_uuid\":\n",
    "        req_attr for req_attr in req_attrs\n",
    "}"
   ]
  },
  {
   "cell_type": "code",
   "execution_count": 21,
   "id": "b4eaf12b",
   "metadata": {},
   "outputs": [],
   "source": [
    "name = \"5\""
   ]
  },
  {
   "cell_type": "code",
   "execution_count": 22,
   "id": "cacf5d05",
   "metadata": {},
   "outputs": [
    {
     "name": "stdout",
     "output_type": "stream",
     "text": [
      "Average :  1.1925786461499228\n"
     ]
    }
   ],
   "source": [
    "test = {\"name\": name, \"proof_request\": proof_request}\n",
    "\n",
    "await performance_service.run_verification(experiment, test, connection_id)"
   ]
  },
  {
   "cell_type": "code",
   "execution_count": 23,
   "id": "5c2dbffb",
   "metadata": {},
   "outputs": [],
   "source": [
    "req_attrs = [\n",
    "    {\"name\": \"1\", \"restrictions\": [{\"schema_id\": twenty_schema_id, \"cred_def_id\": twenty_rev_cred_def_id}]},\n",
    "    {\"name\": \"2\", \"restrictions\": [{\"schema_id\": twenty_schema_id, \"cred_def_id\": twenty_rev_cred_def_id}]},\n",
    "    {\"name\": \"3\", \"restrictions\": [{\"schema_id\": twenty_schema_id, \"cred_def_id\": twenty_rev_cred_def_id}]},\n",
    "    {\"name\": \"4\", \"restrictions\": [{\"schema_id\": twenty_schema_id, \"cred_def_id\": twenty_rev_cred_def_id}]},\n",
    "    {\"name\": \"5\", \"restrictions\": [{\"schema_id\": twenty_schema_id, \"cred_def_id\": twenty_rev_cred_def_id}]},\n",
    "]\n",
    "\n",
    "proof_request[\"requested_attributes\"] = {\n",
    "        # They generally follow this uuid pattern. Unique identifier for attribute within context of this proof request\n",
    "        # Note that req_attr['name'] gets the attribute name of each object. E.g. domain and name in this case\n",
    "        f\"0_{req_attr['name']}_uuid\":\n",
    "        req_attr for req_attr in req_attrs\n",
    "}"
   ]
  },
  {
   "cell_type": "code",
   "execution_count": 24,
   "id": "d6a80617",
   "metadata": {},
   "outputs": [
    {
     "name": "stdout",
     "output_type": "stream",
     "text": [
      "Average :  2.5418957518700336\n"
     ]
    }
   ],
   "source": [
    "test = {\"name\": name, \"proof_request\": proof_request}\n",
    "\n",
    "await performance_service.run_verification(revocable_experiment, test, connection_id)"
   ]
  },
  {
   "cell_type": "markdown",
   "id": "039d7450",
   "metadata": {},
   "source": [
    "## Ten Attribute"
   ]
  },
  {
   "cell_type": "code",
   "execution_count": 25,
   "id": "5849fe37",
   "metadata": {},
   "outputs": [],
   "source": [
    "req_attrs = [\n",
    "    {\"name\": \"1\", \"restrictions\": [{\"schema_id\": twenty_schema_id, \"cred_def_id\": twenty_cred_def_id}]},\n",
    "    {\"name\": \"2\", \"restrictions\": [{\"schema_id\": twenty_schema_id, \"cred_def_id\": twenty_cred_def_id}]},\n",
    "    {\"name\": \"3\", \"restrictions\": [{\"schema_id\": twenty_schema_id, \"cred_def_id\": twenty_cred_def_id}]},\n",
    "    {\"name\": \"4\", \"restrictions\": [{\"schema_id\": twenty_schema_id, \"cred_def_id\": twenty_cred_def_id}]},\n",
    "    {\"name\": \"5\", \"restrictions\": [{\"schema_id\": twenty_schema_id, \"cred_def_id\": twenty_cred_def_id}]},\n",
    "    {\"name\": \"6\", \"restrictions\": [{\"schema_id\": twenty_schema_id, \"cred_def_id\": twenty_cred_def_id}]},\n",
    "    {\"name\": \"7\", \"restrictions\": [{\"schema_id\": twenty_schema_id, \"cred_def_id\": twenty_cred_def_id}]},\n",
    "    {\"name\": \"8\", \"restrictions\": [{\"schema_id\": twenty_schema_id, \"cred_def_id\": twenty_cred_def_id}]},\n",
    "    {\"name\": \"9\", \"restrictions\": [{\"schema_id\": twenty_schema_id, \"cred_def_id\": twenty_cred_def_id}]},\n",
    "    {\"name\": \"10\", \"restrictions\": [{\"schema_id\": twenty_schema_id, \"cred_def_id\": twenty_cred_def_id}]},\n",
    "]\n",
    "\n",
    "proof_request[\"requested_attributes\"] = {\n",
    "        # They generally follow this uuid pattern. Unique identifier for attribute within context of this proof request\n",
    "        # Note that req_attr['name'] gets the attribute name of each object. E.g. domain and name in this case\n",
    "        f\"0_{req_attr['name']}_uuid\":\n",
    "        req_attr for req_attr in req_attrs\n",
    "}"
   ]
  },
  {
   "cell_type": "code",
   "execution_count": 26,
   "id": "70db478a",
   "metadata": {},
   "outputs": [],
   "source": [
    "name = \"10\""
   ]
  },
  {
   "cell_type": "code",
   "execution_count": 27,
   "id": "0bd714df",
   "metadata": {},
   "outputs": [
    {
     "name": "stdout",
     "output_type": "stream",
     "text": [
      "Average :  1.5043526757697692\n"
     ]
    }
   ],
   "source": [
    "test = {\"name\": name, \"proof_request\": proof_request}\n",
    "\n",
    "await performance_service.run_verification(experiment, test, connection_id)"
   ]
  },
  {
   "cell_type": "code",
   "execution_count": 28,
   "id": "003d5e27",
   "metadata": {},
   "outputs": [],
   "source": [
    "req_attrs = [\n",
    "    {\"name\": \"1\", \"restrictions\": [{\"schema_id\": twenty_schema_id, \"cred_def_id\": twenty_rev_cred_def_id}]},\n",
    "    {\"name\": \"2\", \"restrictions\": [{\"schema_id\": twenty_schema_id, \"cred_def_id\": twenty_rev_cred_def_id}]},\n",
    "    {\"name\": \"3\", \"restrictions\": [{\"schema_id\": twenty_schema_id, \"cred_def_id\": twenty_rev_cred_def_id}]},\n",
    "    {\"name\": \"4\", \"restrictions\": [{\"schema_id\": twenty_schema_id, \"cred_def_id\": twenty_rev_cred_def_id}]},\n",
    "    {\"name\": \"5\", \"restrictions\": [{\"schema_id\": twenty_schema_id, \"cred_def_id\": twenty_rev_cred_def_id}]},\n",
    "    {\"name\": \"6\", \"restrictions\": [{\"schema_id\": twenty_schema_id, \"cred_def_id\": twenty_rev_cred_def_id}]},\n",
    "    {\"name\": \"7\", \"restrictions\": [{\"schema_id\": twenty_schema_id, \"cred_def_id\": twenty_rev_cred_def_id}]},\n",
    "    {\"name\": \"8\", \"restrictions\": [{\"schema_id\": twenty_schema_id, \"cred_def_id\": twenty_rev_cred_def_id}]},\n",
    "    {\"name\": \"9\", \"restrictions\": [{\"schema_id\": twenty_schema_id, \"cred_def_id\": twenty_rev_cred_def_id}]},\n",
    "    {\"name\": \"10\", \"restrictions\": [{\"schema_id\": twenty_schema_id, \"cred_def_id\": twenty_rev_cred_def_id}]},\n",
    "]\n",
    "\n",
    "proof_request[\"requested_attributes\"] = {\n",
    "        # They generally follow this uuid pattern. Unique identifier for attribute within context of this proof request\n",
    "        # Note that req_attr['name'] gets the attribute name of each object. E.g. domain and name in this case\n",
    "        f\"0_{req_attr['name']}_uuid\":\n",
    "        req_attr for req_attr in req_attrs\n",
    "}"
   ]
  },
  {
   "cell_type": "code",
   "execution_count": 29,
   "id": "a2c28701",
   "metadata": {},
   "outputs": [
    {
     "name": "stdout",
     "output_type": "stream",
     "text": [
      "Average :  2.9880735643801017\n"
     ]
    }
   ],
   "source": [
    "test = {\"name\": name, \"proof_request\": proof_request}\n",
    "\n",
    "await performance_service.run_verification(revocable_experiment, test, connection_id)"
   ]
  },
  {
   "cell_type": "markdown",
   "id": "269a4848",
   "metadata": {},
   "source": [
    "## Twenty Attribute"
   ]
  },
  {
   "cell_type": "code",
   "execution_count": 30,
   "id": "fadd5c89",
   "metadata": {},
   "outputs": [],
   "source": [
    "req_attrs = [\n",
    "    {\"name\": \"1\", \"restrictions\": [{\"schema_id\": twenty_schema_id, \"cred_def_id\": twenty_cred_def_id}]},\n",
    "    {\"name\": \"2\", \"restrictions\": [{\"schema_id\": twenty_schema_id, \"cred_def_id\": twenty_cred_def_id}]},\n",
    "    {\"name\": \"3\", \"restrictions\": [{\"schema_id\": twenty_schema_id, \"cred_def_id\": twenty_cred_def_id}]},\n",
    "    {\"name\": \"4\", \"restrictions\": [{\"schema_id\": twenty_schema_id, \"cred_def_id\": twenty_cred_def_id}]},\n",
    "    {\"name\": \"5\", \"restrictions\": [{\"schema_id\": twenty_schema_id, \"cred_def_id\": twenty_cred_def_id}]},\n",
    "    {\"name\": \"6\", \"restrictions\": [{\"schema_id\": twenty_schema_id, \"cred_def_id\": twenty_cred_def_id}]},\n",
    "    {\"name\": \"7\", \"restrictions\": [{\"schema_id\": twenty_schema_id, \"cred_def_id\": twenty_cred_def_id}]},\n",
    "    {\"name\": \"8\", \"restrictions\": [{\"schema_id\": twenty_schema_id, \"cred_def_id\": twenty_cred_def_id}]},\n",
    "    {\"name\": \"9\", \"restrictions\": [{\"schema_id\": twenty_schema_id, \"cred_def_id\": twenty_cred_def_id}]},\n",
    "    {\"name\": \"10\", \"restrictions\": [{\"schema_id\": twenty_schema_id, \"cred_def_id\": twenty_cred_def_id}]},\n",
    "    {\"name\": \"11\", \"restrictions\": [{\"schema_id\": twenty_schema_id, \"cred_def_id\": twenty_cred_def_id}]},\n",
    "    {\"name\": \"12\", \"restrictions\": [{\"schema_id\": twenty_schema_id, \"cred_def_id\": twenty_cred_def_id}]},\n",
    "    {\"name\": \"13\", \"restrictions\": [{\"schema_id\": twenty_schema_id, \"cred_def_id\": twenty_cred_def_id}]},\n",
    "    {\"name\": \"14\", \"restrictions\": [{\"schema_id\": twenty_schema_id, \"cred_def_id\": twenty_cred_def_id}]},\n",
    "    {\"name\": \"15\", \"restrictions\": [{\"schema_id\": twenty_schema_id, \"cred_def_id\": twenty_cred_def_id}]},\n",
    "    {\"name\": \"16\", \"restrictions\": [{\"schema_id\": twenty_schema_id, \"cred_def_id\": twenty_cred_def_id}]},\n",
    "    {\"name\": \"17\", \"restrictions\": [{\"schema_id\": twenty_schema_id, \"cred_def_id\": twenty_cred_def_id}]},\n",
    "    {\"name\": \"18\", \"restrictions\": [{\"schema_id\": twenty_schema_id, \"cred_def_id\": twenty_cred_def_id}]},\n",
    "    {\"name\": \"19\", \"restrictions\": [{\"schema_id\": twenty_schema_id, \"cred_def_id\": twenty_cred_def_id}]},\n",
    "    {\"name\": \"20\", \"restrictions\": [{\"schema_id\": twenty_schema_id, \"cred_def_id\": twenty_cred_def_id}]},\n",
    "]\n",
    "\n",
    "proof_request[\"requested_attributes\"] = {\n",
    "        # They generally follow this uuid pattern. Unique identifier for attribute within context of this proof request\n",
    "        # Note that req_attr['name'] gets the attribute name of each object. E.g. domain and name in this case\n",
    "        f\"0_{req_attr['name']}_uuid\":\n",
    "        req_attr for req_attr in req_attrs\n",
    "}"
   ]
  },
  {
   "cell_type": "code",
   "execution_count": 31,
   "id": "61ef7f6d",
   "metadata": {},
   "outputs": [],
   "source": [
    "name = \"20\""
   ]
  },
  {
   "cell_type": "code",
   "execution_count": 32,
   "id": "abb3e06a",
   "metadata": {},
   "outputs": [
    {
     "name": "stdout",
     "output_type": "stream",
     "text": [
      "Average :  2.4622074139899635\n"
     ]
    }
   ],
   "source": [
    "test = {\"name\": name, \"proof_request\": proof_request}\n",
    "\n",
    "await performance_service.run_verification(experiment, test, connection_id)"
   ]
  },
  {
   "cell_type": "code",
   "execution_count": 33,
   "id": "5745cdb8",
   "metadata": {},
   "outputs": [],
   "source": [
    "req_attrs = [\n",
    "    {\"name\": \"1\", \"restrictions\": [{\"schema_id\": twenty_schema_id, \"cred_def_id\": twenty_rev_cred_def_id}]},\n",
    "    {\"name\": \"2\", \"restrictions\": [{\"schema_id\": twenty_schema_id, \"cred_def_id\": twenty_rev_cred_def_id}]},\n",
    "    {\"name\": \"3\", \"restrictions\": [{\"schema_id\": twenty_schema_id, \"cred_def_id\": twenty_rev_cred_def_id}]},\n",
    "    {\"name\": \"4\", \"restrictions\": [{\"schema_id\": twenty_schema_id, \"cred_def_id\": twenty_rev_cred_def_id}]},\n",
    "    {\"name\": \"5\", \"restrictions\": [{\"schema_id\": twenty_schema_id, \"cred_def_id\": twenty_rev_cred_def_id}]},\n",
    "    {\"name\": \"6\", \"restrictions\": [{\"schema_id\": twenty_schema_id, \"cred_def_id\": twenty_rev_cred_def_id}]},\n",
    "    {\"name\": \"7\", \"restrictions\": [{\"schema_id\": twenty_schema_id, \"cred_def_id\": twenty_rev_cred_def_id}]},\n",
    "    {\"name\": \"8\", \"restrictions\": [{\"schema_id\": twenty_schema_id, \"cred_def_id\": twenty_rev_cred_def_id}]},\n",
    "    {\"name\": \"9\", \"restrictions\": [{\"schema_id\": twenty_schema_id, \"cred_def_id\": twenty_rev_cred_def_id}]},\n",
    "    {\"name\": \"10\", \"restrictions\": [{\"schema_id\": twenty_schema_id, \"cred_def_id\": twenty_rev_cred_def_id}]},\n",
    "    {\"name\": \"11\", \"restrictions\": [{\"schema_id\": twenty_schema_id, \"cred_def_id\": twenty_rev_cred_def_id}]},\n",
    "    {\"name\": \"12\", \"restrictions\": [{\"schema_id\": twenty_schema_id, \"cred_def_id\": twenty_rev_cred_def_id}]},\n",
    "    {\"name\": \"13\", \"restrictions\": [{\"schema_id\": twenty_schema_id, \"cred_def_id\": twenty_rev_cred_def_id}]},\n",
    "    {\"name\": \"14\", \"restrictions\": [{\"schema_id\": twenty_schema_id, \"cred_def_id\": twenty_rev_cred_def_id}]},\n",
    "    {\"name\": \"15\", \"restrictions\": [{\"schema_id\": twenty_schema_id, \"cred_def_id\": twenty_rev_cred_def_id}]},\n",
    "    {\"name\": \"16\", \"restrictions\": [{\"schema_id\": twenty_schema_id, \"cred_def_id\": twenty_rev_cred_def_id}]},\n",
    "    {\"name\": \"17\", \"restrictions\": [{\"schema_id\": twenty_schema_id, \"cred_def_id\": twenty_rev_cred_def_id}]},\n",
    "    {\"name\": \"18\", \"restrictions\": [{\"schema_id\": twenty_schema_id, \"cred_def_id\": twenty_rev_cred_def_id}]},\n",
    "    {\"name\": \"19\", \"restrictions\": [{\"schema_id\": twenty_schema_id, \"cred_def_id\": twenty_rev_cred_def_id}]},\n",
    "    {\"name\": \"20\", \"restrictions\": [{\"schema_id\": twenty_schema_id, \"cred_def_id\": twenty_rev_cred_def_id}]},\n",
    "]\n",
    "\n",
    "proof_request[\"requested_attributes\"] = {\n",
    "        # They generally follow this uuid pattern. Unique identifier for attribute within context of this proof request\n",
    "        # Note that req_attr['name'] gets the attribute name of each object. E.g. domain and name in this case\n",
    "        f\"0_{req_attr['name']}_uuid\":\n",
    "        req_attr for req_attr in req_attrs\n",
    "}"
   ]
  },
  {
   "cell_type": "code",
   "execution_count": 34,
   "id": "22332d67",
   "metadata": {},
   "outputs": [
    {
     "name": "stdout",
     "output_type": "stream",
     "text": [
      "Average :  2.636129469530024\n"
     ]
    }
   ],
   "source": [
    "test = {\"name\": name, \"proof_request\": proof_request}\n",
    "\n",
    "await performance_service.run_verification(revocable_experiment, test, connection_id)"
   ]
  },
  {
   "cell_type": "code",
   "execution_count": null,
   "id": "c1f488f6",
   "metadata": {},
   "outputs": [],
   "source": []
  },
  {
   "cell_type": "markdown",
   "id": "411828df",
   "metadata": {},
   "source": [
    "## Plot Results"
   ]
  },
  {
   "cell_type": "markdown",
   "id": "56b9e963",
   "metadata": {},
   "source": [
    "### Non Revocable"
   ]
  },
  {
   "cell_type": "code",
   "execution_count": 35,
   "id": "7517d8d0",
   "metadata": {},
   "outputs": [],
   "source": [
    "data = []\n",
    "labels = []\n",
    "non_revocable_averages = []\n",
    "for result in experiment[\"results\"]:\n",
    "    \n",
    "\n",
    "    millitimings = [i * 1000 for i in result[\"timings\"]]\n",
    "    data.append(millitimings)\n",
    "    non_revocable_averages.append(result[\"average\"] * 1000)\n",
    "    labels.append(result[\"name\"])\n",
    "    \n",
    "\n"
   ]
  },
  {
   "cell_type": "code",
   "execution_count": 36,
   "id": "3990d2bc",
   "metadata": {},
   "outputs": [
    {
     "data": {
      "image/png": "[encoded data removed]",
      "text/plain": [
       "<Figure size 720x720 with 1 Axes>"
      ]
     },
     "metadata": {
      "needs_background": "light"
     },
     "output_type": "display_data"
    }
   ],
   "source": [
    "# Import libraries\n",
    "import matplotlib.pyplot as plt\n",
    "import numpy as np\n",
    " \n",
    "\n",
    " \n",
    "fig = plt.figure(figsize =(10, 10))\n",
    " \n",
    "# Creating axes instance\n",
    "ax = fig.add_axes([0.1,0.1,0.75,0.75]) \n",
    " \n",
    "# Creating plot`\n",
    "bp = ax.boxplot(data, patch_artist = True,\n",
    "                notch ='True')\n",
    "\n",
    "# x-axis labels\n",
    "ax.set_xticklabels(labels)\n",
    "\n",
    "plt.ylabel(\"Milliseconds\")\n",
    "plt.xlabel(\"Attributes Disclosed\")\n",
    "\n",
    "plt.savefig(\"results/verification/fixed_cred_variable_disclosure/box_plot_non_revocable.png\")"
   ]
  },
  {
   "cell_type": "markdown",
   "id": "5f8b4bac",
   "metadata": {},
   "source": [
    "### Revocable"
   ]
  },
  {
   "cell_type": "code",
   "execution_count": 37,
   "id": "bb630d6a",
   "metadata": {},
   "outputs": [],
   "source": [
    "data = []\n",
    "labels = []\n",
    "revocable_averages = []\n",
    "for result in revocable_experiment[\"results\"]:\n",
    "    \n",
    "    millitimings = [i * 1000 for i in result[\"timings\"]]\n",
    "    data.append(millitimings)\n",
    "    revocable_averages.append(result[\"average\"] * 1000)\n",
    "    labels.append(result[\"name\"])\n",
    "    \n"
   ]
  },
  {
   "cell_type": "code",
   "execution_count": 38,
   "id": "8f0a8b21",
   "metadata": {},
   "outputs": [
    {
     "data": {
      "image/png": "[encoded data removed]",
      "text/plain": [
       "<Figure size 720x720 with 1 Axes>"
      ]
     },
     "metadata": {
      "needs_background": "light"
     },
     "output_type": "display_data"
    }
   ],
   "source": [
    "# Import libraries\n",
    "import matplotlib.pyplot as plt\n",
    "import numpy as np\n",
    " \n",
    "\n",
    " \n",
    "fig = plt.figure(figsize =(10, 10))\n",
    " \n",
    "# Creating axes instance\n",
    "ax = fig.add_axes([0.1,0.1,0.75,0.75]) \n",
    " \n",
    "# Creating plot`\n",
    "bp = ax.boxplot(data, patch_artist = True,\n",
    "                notch ='True')\n",
    "\n",
    "# x-axis labels\n",
    "ax.set_xticklabels(labels)\n",
    "\n",
    "plt.ylabel(\"Milliseconds\")\n",
    "plt.xlabel(\"Attributes Disclosed\")\n",
    "\n",
    "plt.savefig(\"results/verification/fixed_cred_variable_disclosure/box_plot_revocable.png\")"
   ]
  },
  {
   "cell_type": "markdown",
   "id": "e6f4c6c2",
   "metadata": {},
   "source": [
    "## Averages"
   ]
  },
  {
   "cell_type": "code",
   "execution_count": 39,
   "id": "311ea7ce",
   "metadata": {},
   "outputs": [
    {
     "data": {
      "image/png": "[encoded data removed]",
      "text/plain": [
       "<Figure size 720x720 with 1 Axes>"
      ]
     },
     "metadata": {
      "needs_background": "light"
     },
     "output_type": "display_data"
    }
   ],
   "source": [
    "fig = plt.figure(figsize =(10, 10))\n",
    " \n",
    "# Creating axes instance\n",
    "ax = fig.add_axes([0.1,0.1,0.75,0.75]) \n",
    "\n",
    "new_labels = [int(i) for i in labels]\n",
    "# avg_ploy = plt.plot(labels, revocable_averages, non_revoked_averages)\n",
    "\n",
    "\n",
    "\n",
    "plt.plot(new_labels, revocable_averages,'r-',label='Revocable Credential Presentation Averages')\n",
    "plt.plot(new_labels, non_revocable_averages,label='Non Revocable Credential Presentation Averages')\n",
    "\n",
    "plt.xticks(range(1,21))\n",
    "\n",
    "plt.ylabel(\"Milliseconds\")\n",
    "plt.xlabel(\"Attributes Disclosed\")\n",
    "\n",
    "plt.legend()\n",
    "plt.savefig(\"results/verification/fixed_cred_variable_disclosure/averages.png\")"
   ]
  },
  {
   "cell_type": "code",
   "execution_count": null,
   "id": "f0aa7d84",
   "metadata": {},
   "outputs": [],
   "source": [
    "## Save Experiments"
   ]
  },
  {
   "cell_type": "code",
   "execution_count": null,
   "id": "75504fd3",
   "metadata": {},
   "outputs": [],
   "source": []
  },
  {
   "cell_type": "markdown",
   "id": "389b7d96",
   "metadata": {},
   "source": [
    "## Terminate Controller\n",
    "\n",
    "Whenever you have finished with this notebook, be sure to terminate the controller. This is especially important if your business logic runs across multiple notebooks."
   ]
  },
  {
   "cell_type": "code",
   "execution_count": null,
   "id": "a92d1763",
   "metadata": {},
   "outputs": [],
   "source": [
    "await agent_controller.terminate()"
   ]
  },
  {
   "cell_type": "code",
   "execution_count": null,
   "id": "a10b4624",
   "metadata": {},
   "outputs": [],
   "source": []
  }
 ],
 "metadata": {
  "kernelspec": {
   "display_name": "Python 3",
   "language": "python",
   "name": "python3"
  },
  "language_info": {
   "codemirror_mode": {
    "name": "ipython",
    "version": 3
   },
   "file_extension": ".py",
   "mimetype": "text/x-python",
   "name": "python",
   "nbconvert_exporter": "python",
   "pygments_lexer": "ipython3",
   "version": "3.7.6"
  }
 },
 "nbformat": 4,
 "nbformat_minor": 5
}
