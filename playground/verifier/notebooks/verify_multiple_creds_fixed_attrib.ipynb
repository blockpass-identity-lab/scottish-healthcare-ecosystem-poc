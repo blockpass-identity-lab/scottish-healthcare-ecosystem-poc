{
 "cells": [
  {
   "cell_type": "markdown",
   "id": "e1d97e85",
   "metadata": {},
   "source": [
    "# Performance Test\n",
    "## Disclosure of Fixed Number of Attributes from Variable Num Credentials"
   ]
  },
  {
   "cell_type": "markdown",
   "id": "b22f0551",
   "metadata": {},
   "source": [
    "### Imports"
   ]
  },
  {
   "cell_type": "code",
   "execution_count": 1,
   "id": "67884149",
   "metadata": {},
   "outputs": [],
   "source": [
    "from aries_cloudcontroller import AriesAgentController\n",
    "\n",
    "from libs.performance_service import PerformanceService\n",
    "import os\n",
    "import time\n",
    "from termcolor import colored"
   ]
  },
  {
   "cell_type": "markdown",
   "id": "534dd50d",
   "metadata": {},
   "source": [
    "### Initialise the Agent Controller"
   ]
  },
  {
   "cell_type": "code",
   "execution_count": 2,
   "id": "ea343ff4",
   "metadata": {},
   "outputs": [
    {
     "name": "stdout",
     "output_type": "stream",
     "text": [
      "Initialising a controller with admin api at http://verifier-agent:3021 and an api key of adminApiKey\n"
     ]
    }
   ],
   "source": [
    "api_key = os.getenv(\"ACAPY_ADMIN_API_KEY\")\n",
    "admin_url = os.getenv(\"ADMIN_URL\")\n",
    "\n",
    "print(f\"Initialising a controller with admin api at {admin_url} and an api key of {api_key}\")\n",
    "agent_controller = AriesAgentController(admin_url,api_key)"
   ]
  },
  {
   "cell_type": "markdown",
   "id": "75c999c7",
   "metadata": {},
   "source": [
    "### Start a Webhook Server"
   ]
  },
  {
   "cell_type": "code",
   "execution_count": 3,
   "id": "50fbd2af",
   "metadata": {},
   "outputs": [
    {
     "name": "stdout",
     "output_type": "stream",
     "text": [
      "Listening for webhooks from agent at http://0.0.0.0:3010\n"
     ]
    }
   ],
   "source": [
    "webhook_port = int(os.getenv(\"WEBHOOK_PORT\"))\n",
    "webhook_host = \"0.0.0.0\"\n",
    "\n",
    "await agent_controller.init_webhook_server(webhook_host, webhook_port)\n",
    "\n",
    "print(f\"Listening for webhooks from agent at http://{webhook_host}:{webhook_port}\")"
   ]
  },
  {
   "cell_type": "markdown",
   "id": "331ca8c7",
   "metadata": {},
   "source": [
    "## Store Issuing Schema and Cred Def Identifiers\n",
    "\n",
    "If you intend for this agent to issue credentials you should first initialise your agent as an issuer and author the relevant identifiers to the public ledger. The issuer_initialisation recipe notebook can be duplicated and used as a starting point.\n",
    "\n",
    "Once schema and cred def identifiers are created copy across and store in variables as illustrated in the cell below. Be sure to use unique names for each variable."
   ]
  },
  {
   "cell_type": "code",
   "execution_count": 4,
   "id": "bb886dd5",
   "metadata": {},
   "outputs": [],
   "source": [
    "five1_schema_id='H7zAaLJRZrdbPqbVMMfL5t:2:five-one:0.0.1'\n",
    "five1_cred_def_id='H7zAaLJRZrdbPqbVMMfL5t:3:CL:21:default'\n",
    "five1_rev_cred_def_id='H7zAaLJRZrdbPqbVMMfL5t:3:CL:21:revocable'\n",
    "\n",
    "five2_schema_id='H7zAaLJRZrdbPqbVMMfL5t:2:five-two:0.0.1'\n",
    "five2_cred_def_id='H7zAaLJRZrdbPqbVMMfL5t:3:CL:22:default'\n",
    "five2_rev_cred_def_id='H7zAaLJRZrdbPqbVMMfL5t:3:CL:22:revocable'\n",
    "\n",
    "five3_schema_id='H7zAaLJRZrdbPqbVMMfL5t:2:five-three:0.0.1'\n",
    "five3_cred_def_id='H7zAaLJRZrdbPqbVMMfL5t:3:CL:23:default'\n",
    "five3_rev_cred_def_id='H7zAaLJRZrdbPqbVMMfL5t:3:CL:23:revocable'\n",
    "\n",
    "five4_schema_id='H7zAaLJRZrdbPqbVMMfL5t:2:five-four:0.0.1'\n",
    "five4_cred_def_id='H7zAaLJRZrdbPqbVMMfL5t:3:CL:24:default'\n",
    "five4_rev_cred_def_id='H7zAaLJRZrdbPqbVMMfL5t:3:CL:24:revocable'\n",
    "\n",
    "five5_schema_id='H7zAaLJRZrdbPqbVMMfL5t:2:five-five:0.0.1'\n",
    "five5_cred_def_id='H7zAaLJRZrdbPqbVMMfL5t:3:CL:25:default'\n",
    "five5_rev_cred_def_id='H7zAaLJRZrdbPqbVMMfL5t:3:CL:25:revocable'\n",
    "\n",
    "\n"
   ]
  },
  {
   "cell_type": "markdown",
   "id": "3d3eae3b",
   "metadata": {},
   "source": [
    "## Init Performance Service"
   ]
  },
  {
   "cell_type": "code",
   "execution_count": 5,
   "id": "fb6412e1",
   "metadata": {},
   "outputs": [],
   "source": [
    "performance_service = PerformanceService(agent_controller, iterations=100)"
   ]
  },
  {
   "cell_type": "markdown",
   "id": "12a84b3d",
   "metadata": {},
   "source": [
    "## Establish Connection\n",
    "\n",
    "Before you can issue a credential you must first establish a connection across which the credential will be issued to a holder. (see recipes/connection)"
   ]
  },
  {
   "cell_type": "code",
   "execution_count": null,
   "id": "de5ec541",
   "metadata": {},
   "outputs": [],
   "source": [
    "# Alias for invited connection\n",
    "alias = \"Friend\"\n",
    "auto_accept = \"true\"\n",
    "# Use public DID?\n",
    "public = \"false\"\n",
    "# Should this invitation be usable by multiple invitees?\n",
    "multi_use = \"false\"\n",
    "\n",
    "invitation_response = await agent_controller.connections.create_invitation(alias, auto_accept, public, multi_use)\n",
    "# Is equivalent to above. Arguments are optionally\n",
    "# invitation_response = await agent_controller.connections.create_invitation()\n",
    "\n",
    "\n",
    "\n",
    "# You will use this identifier to issue a credential across this connection\n",
    "connection_id = invitation_response[\"connection_id\"]\n",
    "\n",
    "invitation = invitation_response[\"invitation\"]\n",
    "## Copy this output\n",
    "print(invitation)\n",
    "print(connection_id)"
   ]
  },
  {
   "cell_type": "code",
   "execution_count": 6,
   "id": "4e8712d2",
   "metadata": {},
   "outputs": [],
   "source": [
    "connection_id = \"3aaf07e2-d41b-4dff-903d-6acc4b21c3af\""
   ]
  },
  {
   "cell_type": "markdown",
   "id": "30f43ba5",
   "metadata": {},
   "source": [
    "## Define Presentation Request Object\n"
   ]
  },
  {
   "cell_type": "code",
   "execution_count": 7,
   "id": "f9e5dddb",
   "metadata": {},
   "outputs": [],
   "source": [
    "proof_request = {\n",
    "    \"name\": \"Name of Proof Request\",\n",
    "    \"version\": \"1.0\",\n",
    "\n",
    "    # Predicates allow us to specify range proofs or set membership on attributes. For example greater than 10.\n",
    "    # We will ignore these for now.\n",
    "    \"requested_predicates\": {\n",
    "#         f\"0_{req_pred['name']}_GE_uuid\":\n",
    "#         req_pred for req_pred in req_preds\n",
    "    },\n",
    "    # You can also request the entire proof request be non-revoked\n",
    "    \"non_revoked\":  {\"to\": int(time.time())}\n",
    "}"
   ]
  },
  {
   "cell_type": "markdown",
   "id": "366b910f",
   "metadata": {},
   "source": [
    "# Fixed Attributes Disclosed Variable Credentials in Presentation"
   ]
  },
  {
   "cell_type": "code",
   "execution_count": 8,
   "id": "8e33cfd9",
   "metadata": {},
   "outputs": [],
   "source": [
    "experiment = performance_service.new_experiment(\"Fixed Attributes Variable Credentials in Presentation\")"
   ]
  },
  {
   "cell_type": "code",
   "execution_count": 9,
   "id": "668e4a05",
   "metadata": {},
   "outputs": [],
   "source": [
    "revocable_experiment = performance_service.new_experiment(\"Fixed Attributes Variable Credentials in Presentation - Revocable\")"
   ]
  },
  {
   "cell_type": "markdown",
   "id": "a49f42d3",
   "metadata": {},
   "source": [
    "## Five Attributes One Cred"
   ]
  },
  {
   "cell_type": "code",
   "execution_count": 10,
   "id": "518b318e",
   "metadata": {},
   "outputs": [],
   "source": [
    "req_attrs = [\n",
    "    {\"name\": \"1\", \"restrictions\": [{\"schema_id\": five1_schema_id, \"cred_def_id\": five1_cred_def_id}]},\n",
    "    {\"name\": \"2\", \"restrictions\": [{\"schema_id\": five1_schema_id, \"cred_def_id\": five1_cred_def_id}]},\n",
    "    {\"name\": \"3\", \"restrictions\": [{\"schema_id\": five1_schema_id, \"cred_def_id\": five1_cred_def_id}]},\n",
    "    {\"name\": \"4\", \"restrictions\": [{\"schema_id\": five1_schema_id, \"cred_def_id\": five1_cred_def_id}]},\n",
    "    {\"name\": \"5\", \"restrictions\": [{\"schema_id\": five1_schema_id, \"cred_def_id\": five1_cred_def_id}]},\n",
    "]\n",
    "\n",
    "proof_request[\"requested_attributes\"] = {\n",
    "        # They generally follow this uuid pattern. Unique identifier for attribute within context of this proof request\n",
    "        # Note that req_attr['name'] gets the attribute name of each object. E.g. domain and name in this case\n",
    "        f\"0_{req_attr['name']}_uuid\":\n",
    "        req_attr for req_attr in req_attrs\n",
    "}"
   ]
  },
  {
   "cell_type": "code",
   "execution_count": 11,
   "id": "2fc6a8f0",
   "metadata": {},
   "outputs": [],
   "source": [
    "name = \"1\""
   ]
  },
  {
   "cell_type": "code",
   "execution_count": 12,
   "id": "92e7e111",
   "metadata": {},
   "outputs": [
    {
     "name": "stdout",
     "output_type": "stream",
     "text": [
      "Average :  0.3872079749700424\n"
     ]
    }
   ],
   "source": [
    "test = {\"name\": name, \"proof_request\": proof_request}\n",
    "\n",
    "await performance_service.run_verification(experiment, test, connection_id)"
   ]
  },
  {
   "cell_type": "code",
   "execution_count": 13,
   "id": "cc6a25c0",
   "metadata": {},
   "outputs": [],
   "source": [
    "req_attrs = [\n",
    "    {\"name\": \"1\", \"restrictions\": [{\"schema_id\": five1_schema_id, \"cred_def_id\": five1_rev_cred_def_id}]},\n",
    "    {\"name\": \"2\", \"restrictions\": [{\"schema_id\": five1_schema_id, \"cred_def_id\": five1_rev_cred_def_id}]},\n",
    "    {\"name\": \"3\", \"restrictions\": [{\"schema_id\": five1_schema_id, \"cred_def_id\": five1_rev_cred_def_id}]},\n",
    "    {\"name\": \"4\", \"restrictions\": [{\"schema_id\": five1_schema_id, \"cred_def_id\": five1_rev_cred_def_id}]},\n",
    "    {\"name\": \"5\", \"restrictions\": [{\"schema_id\": five1_schema_id, \"cred_def_id\": five1_rev_cred_def_id}]},\n",
    "]\n",
    "\n",
    "proof_request[\"requested_attributes\"] = {\n",
    "        # They generally follow this uuid pattern. Unique identifier for attribute within context of this proof request\n",
    "        # Note that req_attr['name'] gets the attribute name of each object. E.g. domain and name in this case\n",
    "        f\"0_{req_attr['name']}_uuid\":\n",
    "        req_attr for req_attr in req_attrs\n",
    "}"
   ]
  },
  {
   "cell_type": "code",
   "execution_count": 14,
   "id": "5c780958",
   "metadata": {},
   "outputs": [
    {
     "name": "stdout",
     "output_type": "stream",
     "text": [
      "Average :  1.2421532671599562\n"
     ]
    }
   ],
   "source": [
    "test = {\"name\": name, \"proof_request\": proof_request}\n",
    "\n",
    "await performance_service.run_verification(revocable_experiment, test, connection_id)"
   ]
  },
  {
   "cell_type": "markdown",
   "id": "96c142e7",
   "metadata": {},
   "source": [
    "## Five Attributes Two Cred"
   ]
  },
  {
   "cell_type": "code",
   "execution_count": 15,
   "id": "01ffe39d",
   "metadata": {},
   "outputs": [],
   "source": [
    "req_attrs = [\n",
    "    {\"name\": \"1\", \"restrictions\": [{\"schema_id\": five1_schema_id, \"cred_def_id\": five1_cred_def_id}]},\n",
    "    {\"name\": \"2\", \"restrictions\": [{\"schema_id\": five1_schema_id, \"cred_def_id\": five1_cred_def_id}]},\n",
    "    {\"name\": \"3\", \"restrictions\": [{\"schema_id\": five1_schema_id, \"cred_def_id\": five1_cred_def_id}]},\n",
    "    {\"name\": \"4\", \"restrictions\": [{\"schema_id\": five1_schema_id, \"cred_def_id\": five1_cred_def_id}]},\n",
    "    {\"name\": \"5\", \"restrictions\": [{\"schema_id\": five2_schema_id, \"cred_def_id\": five2_cred_def_id}]},\n",
    "]\n",
    "\n",
    "proof_request[\"requested_attributes\"] = {\n",
    "        # They generally follow this uuid pattern. Unique identifier for attribute within context of this proof request\n",
    "        # Note that req_attr['name'] gets the attribute name of each object. E.g. domain and name in this case\n",
    "        f\"0_{req_attr['name']}_uuid\":\n",
    "        req_attr for req_attr in req_attrs\n",
    "}"
   ]
  },
  {
   "cell_type": "code",
   "execution_count": 16,
   "id": "21ed2120",
   "metadata": {},
   "outputs": [],
   "source": [
    "name = \"2\""
   ]
  },
  {
   "cell_type": "code",
   "execution_count": 17,
   "id": "8eb140fa",
   "metadata": {},
   "outputs": [
    {
     "name": "stdout",
     "output_type": "stream",
     "text": [
      "Average :  0.5053336611699342\n"
     ]
    }
   ],
   "source": [
    "test = {\"name\": name, \"proof_request\": proof_request}\n",
    "\n",
    "await performance_service.run_verification(experiment, test, connection_id)"
   ]
  },
  {
   "cell_type": "code",
   "execution_count": 18,
   "id": "ccd0b676",
   "metadata": {},
   "outputs": [],
   "source": [
    "req_attrs = [\n",
    "    {\"name\": \"1\", \"restrictions\": [{\"schema_id\": five1_schema_id, \"cred_def_id\": five1_rev_cred_def_id}]},\n",
    "    {\"name\": \"2\", \"restrictions\": [{\"schema_id\": five1_schema_id, \"cred_def_id\": five1_rev_cred_def_id}]},\n",
    "    {\"name\": \"3\", \"restrictions\": [{\"schema_id\": five1_schema_id, \"cred_def_id\": five1_rev_cred_def_id}]},\n",
    "    {\"name\": \"4\", \"restrictions\": [{\"schema_id\": five1_schema_id, \"cred_def_id\": five1_rev_cred_def_id}]},\n",
    "    {\"name\": \"5\", \"restrictions\": [{\"schema_id\": five2_schema_id, \"cred_def_id\": five2_rev_cred_def_id}]},\n",
    "]\n",
    "\n",
    "proof_request[\"requested_attributes\"] = {\n",
    "        # They generally follow this uuid pattern. Unique identifier for attribute within context of this proof request\n",
    "        # Note that req_attr['name'] gets the attribute name of each object. E.g. domain and name in this case\n",
    "        f\"0_{req_attr['name']}_uuid\":\n",
    "        req_attr for req_attr in req_attrs\n",
    "}"
   ]
  },
  {
   "cell_type": "code",
   "execution_count": 19,
   "id": "8d4a02ae",
   "metadata": {},
   "outputs": [
    {
     "name": "stdout",
     "output_type": "stream",
     "text": [
      "Average :  2.23844429206998\n"
     ]
    }
   ],
   "source": [
    "test = {\"name\": name, \"proof_request\": proof_request}\n",
    "\n",
    "await performance_service.run_verification(revocable_experiment, test, connection_id)"
   ]
  },
  {
   "cell_type": "markdown",
   "id": "109dde40",
   "metadata": {},
   "source": [
    "## Five Attributes Three Cred"
   ]
  },
  {
   "cell_type": "code",
   "execution_count": 20,
   "id": "327b607c",
   "metadata": {},
   "outputs": [],
   "source": [
    "req_attrs = [\n",
    "    {\"name\": \"1\", \"restrictions\": [{\"schema_id\": five1_schema_id, \"cred_def_id\": five1_cred_def_id}]},\n",
    "    {\"name\": \"2\", \"restrictions\": [{\"schema_id\": five1_schema_id, \"cred_def_id\": five1_cred_def_id}]},\n",
    "    {\"name\": \"3\", \"restrictions\": [{\"schema_id\": five1_schema_id, \"cred_def_id\": five1_cred_def_id}]},\n",
    "    {\"name\": \"4\", \"restrictions\": [{\"schema_id\": five3_schema_id, \"cred_def_id\": five3_cred_def_id}]},\n",
    "    {\"name\": \"5\", \"restrictions\": [{\"schema_id\": five2_schema_id, \"cred_def_id\": five2_cred_def_id}]},\n",
    "]\n",
    "\n",
    "proof_request[\"requested_attributes\"] = {\n",
    "        # They generally follow this uuid pattern. Unique identifier for attribute within context of this proof request\n",
    "        # Note that req_attr['name'] gets the attribute name of each object. E.g. domain and name in this case\n",
    "        f\"0_{req_attr['name']}_uuid\":\n",
    "        req_attr for req_attr in req_attrs\n",
    "}"
   ]
  },
  {
   "cell_type": "code",
   "execution_count": 21,
   "id": "b94cc52d",
   "metadata": {},
   "outputs": [],
   "source": [
    "name = \"3\""
   ]
  },
  {
   "cell_type": "code",
   "execution_count": 22,
   "id": "42645e25",
   "metadata": {},
   "outputs": [
    {
     "name": "stdout",
     "output_type": "stream",
     "text": [
      "Average :  0.72070491460021\n"
     ]
    }
   ],
   "source": [
    "test = {\"name\": name, \"proof_request\": proof_request}\n",
    "\n",
    "await performance_service.run_verification(experiment, test, connection_id)"
   ]
  },
  {
   "cell_type": "code",
   "execution_count": 23,
   "id": "53adbb6a",
   "metadata": {},
   "outputs": [],
   "source": [
    "req_attrs = [\n",
    "    {\"name\": \"1\", \"restrictions\": [{\"schema_id\": five1_schema_id, \"cred_def_id\": five1_rev_cred_def_id}]},\n",
    "    {\"name\": \"2\", \"restrictions\": [{\"schema_id\": five1_schema_id, \"cred_def_id\": five1_rev_cred_def_id}]},\n",
    "    {\"name\": \"3\", \"restrictions\": [{\"schema_id\": five1_schema_id, \"cred_def_id\": five1_rev_cred_def_id}]},\n",
    "    {\"name\": \"4\", \"restrictions\": [{\"schema_id\": five3_schema_id, \"cred_def_id\": five3_rev_cred_def_id}]},\n",
    "    {\"name\": \"5\", \"restrictions\": [{\"schema_id\": five2_schema_id, \"cred_def_id\": five2_rev_cred_def_id}]},\n",
    "]\n",
    "\n",
    "proof_request[\"requested_attributes\"] = {\n",
    "        # They generally follow this uuid pattern. Unique identifier for attribute within context of this proof request\n",
    "        # Note that req_attr['name'] gets the attribute name of each object. E.g. domain and name in this case\n",
    "        f\"0_{req_attr['name']}_uuid\":\n",
    "        req_attr for req_attr in req_attrs\n",
    "}"
   ]
  },
  {
   "cell_type": "code",
   "execution_count": 24,
   "id": "a96dae69",
   "metadata": {},
   "outputs": [
    {
     "name": "stdout",
     "output_type": "stream",
     "text": [
      "Average :  2.9264750552998886\n"
     ]
    }
   ],
   "source": [
    "test = {\"name\": name, \"proof_request\": proof_request}\n",
    "\n",
    "await performance_service.run_verification(revocable_experiment, test, connection_id)"
   ]
  },
  {
   "cell_type": "markdown",
   "id": "a6043f22",
   "metadata": {},
   "source": [
    "## Five Attributes Four Cred"
   ]
  },
  {
   "cell_type": "code",
   "execution_count": 25,
   "id": "ff817fcf",
   "metadata": {},
   "outputs": [],
   "source": [
    "req_attrs = [\n",
    "    {\"name\": \"1\", \"restrictions\": [{\"schema_id\": five1_schema_id, \"cred_def_id\": five1_cred_def_id}]},\n",
    "    {\"name\": \"2\", \"restrictions\": [{\"schema_id\": five1_schema_id, \"cred_def_id\": five1_cred_def_id}]},\n",
    "    {\"name\": \"3\", \"restrictions\": [{\"schema_id\": five4_schema_id, \"cred_def_id\": five4_cred_def_id}]},\n",
    "    {\"name\": \"4\", \"restrictions\": [{\"schema_id\": five3_schema_id, \"cred_def_id\": five3_cred_def_id}]},\n",
    "    {\"name\": \"5\", \"restrictions\": [{\"schema_id\": five2_schema_id, \"cred_def_id\": five2_cred_def_id}]},\n",
    "]\n",
    "\n",
    "proof_request[\"requested_attributes\"] = {\n",
    "        # They generally follow this uuid pattern. Unique identifier for attribute within context of this proof request\n",
    "        # Note that req_attr['name'] gets the attribute name of each object. E.g. domain and name in this case\n",
    "        f\"0_{req_attr['name']}_uuid\":\n",
    "        req_attr for req_attr in req_attrs\n",
    "}"
   ]
  },
  {
   "cell_type": "code",
   "execution_count": 26,
   "id": "f6c7b00e",
   "metadata": {},
   "outputs": [],
   "source": [
    "name = \"4\""
   ]
  },
  {
   "cell_type": "code",
   "execution_count": 27,
   "id": "e5dd6193",
   "metadata": {},
   "outputs": [
    {
     "name": "stdout",
     "output_type": "stream",
     "text": [
      "Average :  0.8269366388402705\n"
     ]
    }
   ],
   "source": [
    "test = {\"name\": name, \"proof_request\": proof_request}\n",
    "\n",
    "await performance_service.run_verification(experiment, test, connection_id)"
   ]
  },
  {
   "cell_type": "code",
   "execution_count": 28,
   "id": "0e5dcf91",
   "metadata": {},
   "outputs": [],
   "source": [
    "req_attrs = [\n",
    "    {\"name\": \"1\", \"restrictions\": [{\"schema_id\": five1_schema_id, \"cred_def_id\": five1_rev_cred_def_id}]},\n",
    "    {\"name\": \"2\", \"restrictions\": [{\"schema_id\": five1_schema_id, \"cred_def_id\": five1_rev_cred_def_id}]},\n",
    "    {\"name\": \"3\", \"restrictions\": [{\"schema_id\": five4_schema_id, \"cred_def_id\": five4_rev_cred_def_id}]},\n",
    "    {\"name\": \"4\", \"restrictions\": [{\"schema_id\": five3_schema_id, \"cred_def_id\": five3_rev_cred_def_id}]},\n",
    "    {\"name\": \"5\", \"restrictions\": [{\"schema_id\": five2_schema_id, \"cred_def_id\": five2_rev_cred_def_id}]},\n",
    "]\n",
    "\n",
    "proof_request[\"requested_attributes\"] = {\n",
    "        # They generally follow this uuid pattern. Unique identifier for attribute within context of this proof request\n",
    "        # Note that req_attr['name'] gets the attribute name of each object. E.g. domain and name in this case\n",
    "        f\"0_{req_attr['name']}_uuid\":\n",
    "        req_attr for req_attr in req_attrs\n",
    "}"
   ]
  },
  {
   "cell_type": "code",
   "execution_count": 29,
   "id": "31f33b5a",
   "metadata": {},
   "outputs": [
    {
     "name": "stdout",
     "output_type": "stream",
     "text": [
      "Average :  3.898376299889824\n"
     ]
    }
   ],
   "source": [
    "test = {\"name\": name, \"proof_request\": proof_request}\n",
    "\n",
    "await performance_service.run_verification(revocable_experiment, test, connection_id)"
   ]
  },
  {
   "cell_type": "markdown",
   "id": "be44a7b8",
   "metadata": {},
   "source": [
    "## Five Attributes Five Cred"
   ]
  },
  {
   "cell_type": "code",
   "execution_count": 30,
   "id": "700f898c",
   "metadata": {},
   "outputs": [],
   "source": [
    "req_attrs = [\n",
    "    {\"name\": \"1\", \"restrictions\": [{\"schema_id\": five1_schema_id, \"cred_def_id\": five1_cred_def_id}]},\n",
    "    {\"name\": \"2\", \"restrictions\": [{\"schema_id\": five5_schema_id, \"cred_def_id\": five5_cred_def_id}]},\n",
    "    {\"name\": \"3\", \"restrictions\": [{\"schema_id\": five4_schema_id, \"cred_def_id\": five4_cred_def_id}]},\n",
    "    {\"name\": \"4\", \"restrictions\": [{\"schema_id\": five3_schema_id, \"cred_def_id\": five3_cred_def_id}]},\n",
    "    {\"name\": \"5\", \"restrictions\": [{\"schema_id\": five2_schema_id, \"cred_def_id\": five2_cred_def_id}]},\n",
    "]\n",
    "\n",
    "proof_request[\"requested_attributes\"] = {\n",
    "        # They generally follow this uuid pattern. Unique identifier for attribute within context of this proof request\n",
    "        # Note that req_attr['name'] gets the attribute name of each object. E.g. domain and name in this case\n",
    "        f\"0_{req_attr['name']}_uuid\":\n",
    "        req_attr for req_attr in req_attrs\n",
    "}"
   ]
  },
  {
   "cell_type": "code",
   "execution_count": 31,
   "id": "dbb132c0",
   "metadata": {},
   "outputs": [],
   "source": [
    "name = \"5\""
   ]
  },
  {
   "cell_type": "code",
   "execution_count": 32,
   "id": "69c19e97",
   "metadata": {},
   "outputs": [
    {
     "name": "stdout",
     "output_type": "stream",
     "text": [
      "Average :  0.6805043853700409\n"
     ]
    }
   ],
   "source": [
    "test = {\"name\": name, \"proof_request\": proof_request}\n",
    "\n",
    "await performance_service.run_verification(experiment, test, connection_id)"
   ]
  },
  {
   "cell_type": "code",
   "execution_count": 33,
   "id": "86d6851e",
   "metadata": {},
   "outputs": [],
   "source": [
    "req_attrs = [\n",
    "    {\"name\": \"1\", \"restrictions\": [{\"schema_id\": five1_schema_id, \"cred_def_id\": five1_rev_cred_def_id}]},\n",
    "    {\"name\": \"2\", \"restrictions\": [{\"schema_id\": five5_schema_id, \"cred_def_id\": five5_rev_cred_def_id}]},\n",
    "    {\"name\": \"3\", \"restrictions\": [{\"schema_id\": five4_schema_id, \"cred_def_id\": five4_rev_cred_def_id}]},\n",
    "    {\"name\": \"4\", \"restrictions\": [{\"schema_id\": five3_schema_id, \"cred_def_id\": five3_rev_cred_def_id}]},\n",
    "    {\"name\": \"5\", \"restrictions\": [{\"schema_id\": five2_schema_id, \"cred_def_id\": five2_rev_cred_def_id}]},\n",
    "]\n",
    "\n",
    "proof_request[\"requested_attributes\"] = {\n",
    "        # They generally follow this uuid pattern. Unique identifier for attribute within context of this proof request\n",
    "        # Note that req_attr['name'] gets the attribute name of each object. E.g. domain and name in this case\n",
    "        f\"0_{req_attr['name']}_uuid\":\n",
    "        req_attr for req_attr in req_attrs\n",
    "}"
   ]
  },
  {
   "cell_type": "code",
   "execution_count": 34,
   "id": "128b9428",
   "metadata": {},
   "outputs": [
    {
     "name": "stdout",
     "output_type": "stream",
     "text": [
      "Average :  3.288517092999791\n"
     ]
    }
   ],
   "source": [
    "test = {\"name\": name, \"proof_request\": proof_request}\n",
    "\n",
    "await performance_service.run_verification(revocable_experiment, test, connection_id)"
   ]
  },
  {
   "cell_type": "markdown",
   "id": "ef1e7ccc",
   "metadata": {},
   "source": [
    "## Plot Results"
   ]
  },
  {
   "cell_type": "markdown",
   "id": "b4028b49",
   "metadata": {},
   "source": [
    "### Non Revocable"
   ]
  },
  {
   "cell_type": "code",
   "execution_count": 35,
   "id": "9672b985",
   "metadata": {},
   "outputs": [],
   "source": [
    "data = []\n",
    "labels = []\n",
    "non_revocable_averages = []\n",
    "for result in experiment[\"results\"]:\n",
    "    \n",
    "\n",
    "    millitimings = [i * 1000 for i in result[\"timings\"]]\n",
    "    data.append(millitimings)\n",
    "    non_revocable_averages.append(result[\"average\"] * 1000)\n",
    "    labels.append(int(result[\"name\"]))\n",
    "\n"
   ]
  },
  {
   "cell_type": "code",
   "execution_count": 36,
   "id": "55a3044b",
   "metadata": {},
   "outputs": [
    {
     "data": {
      "image/png": "[encoded data removed]",
      "text/plain": [
       "<Figure size 720x720 with 1 Axes>"
      ]
     },
     "metadata": {
      "needs_background": "light"
     },
     "output_type": "display_data"
    }
   ],
   "source": [
    "# Import libraries\n",
    "import matplotlib.pyplot as plt\n",
    "import numpy as np\n",
    " \n",
    "\n",
    " \n",
    "fig = plt.figure(figsize =(10, 10))\n",
    " \n",
    "# Creating axes instance\n",
    "ax = fig.add_axes([0.1,0.1,0.75,0.75]) \n",
    " \n",
    "# Creating plot`\n",
    "bp = ax.boxplot(data, patch_artist = True,\n",
    "                notch ='True')\n",
    "\n",
    "# x-axis labels\n",
    "ax.set_xticklabels(labels)\n",
    "\n",
    "plt.ylabel(\"Milliseconds\")\n",
    "plt.xlabel(\"Credentials in Presentation\")\n",
    "\n",
    "plt.savefig(\"results/verification/fixed_attributes_disclosed_variable_creds/box_plot_non_revocable.png\")"
   ]
  },
  {
   "cell_type": "markdown",
   "id": "89d2d682",
   "metadata": {},
   "source": [
    "### Revocable"
   ]
  },
  {
   "cell_type": "code",
   "execution_count": 37,
   "id": "a0d9f804",
   "metadata": {},
   "outputs": [],
   "source": [
    "data = []\n",
    "labels = []\n",
    "revocable_averages = []\n",
    "for result in revocable_experiment[\"results\"]:\n",
    "    \n",
    "    millitimings = [i * 1000 for i in result[\"timings\"]]\n",
    "    data.append(millitimings)\n",
    "    revocable_averages.append(result[\"average\"] * 1000)\n",
    "    labels.append(int(result[\"name\"]))\n",
    "    \n"
   ]
  },
  {
   "cell_type": "code",
   "execution_count": 38,
   "id": "a27e80c9",
   "metadata": {},
   "outputs": [
    {
     "data": {
      "image/png": "[encoded data removed]",
      "text/plain": [
       "<Figure size 720x720 with 1 Axes>"
      ]
     },
     "metadata": {
      "needs_background": "light"
     },
     "output_type": "display_data"
    }
   ],
   "source": [
    "# Import libraries\n",
    "import matplotlib.pyplot as plt\n",
    "import numpy as np\n",
    " \n",
    "\n",
    " \n",
    "fig = plt.figure(figsize =(10, 10))\n",
    " \n",
    "# Creating axes instance\n",
    "ax = fig.add_axes([0.1,0.1,0.75,0.75]) \n",
    " \n",
    "# Creating plot`\n",
    "bp = ax.boxplot(data, patch_artist = True,\n",
    "                notch ='True')\n",
    "\n",
    "# x-axis labels\n",
    "ax.set_xticklabels(labels)\n",
    "\n",
    "plt.ylabel(\"Milliseconds\")\n",
    "plt.xlabel(\"Credentials in Presentation\")\n",
    "\n",
    "plt.savefig(\"results/verification/fixed_attributes_disclosed_variable_creds/box_plot_revocable.png\")"
   ]
  },
  {
   "cell_type": "markdown",
   "id": "238d9385",
   "metadata": {},
   "source": [
    "## Averages"
   ]
  },
  {
   "cell_type": "code",
   "execution_count": 39,
   "id": "cc84844b",
   "metadata": {},
   "outputs": [
    {
     "data": {
      "image/png": "[encoded data removed]",
      "text/plain": [
       "<Figure size 720x720 with 1 Axes>"
      ]
     },
     "metadata": {
      "needs_background": "light"
     },
     "output_type": "display_data"
    }
   ],
   "source": [
    "fig = plt.figure(figsize =(10, 10))\n",
    " \n",
    "# Creating axes instance\n",
    "ax = fig.add_axes([0.1,0.1,0.75,0.75]) \n",
    "\n",
    "new_labels = [int(i) for i in labels]\n",
    "# avg_ploy = plt.plot(labels, revocable_averages, non_revoked_averages)\n",
    "\n",
    "plt.plot(labels, revocable_averages,'r-',label='Revocable Credential Presentation Averages')\n",
    "plt.plot(labels, non_revocable_averages,label='Non Revocable Credential Presentation Averages')\n",
    "\n",
    "plt.xticks([1,2,3,4,5])\n",
    "\n",
    "plt.ylabel(\"Milliseconds\")\n",
    "plt.xlabel(\"Credentials in Presentation\")\n",
    "\n",
    "plt.legend()\n",
    "plt.savefig(\"results/verification/fixed_attributes_disclosed_variable_creds/averages.png\")"
   ]
  },
  {
   "cell_type": "markdown",
   "id": "6535aa6d",
   "metadata": {},
   "source": [
    "## Save Experiments to File"
   ]
  },
  {
   "cell_type": "code",
   "execution_count": 44,
   "id": "65a3a3b8",
   "metadata": {},
   "outputs": [],
   "source": [
    "performance_service.experiments[1][\"name\"] = 'Fixed Attributes Variable Credentials in Presentation - Revocable'"
   ]
  },
  {
   "cell_type": "code",
   "execution_count": 45,
   "id": "c17d3247",
   "metadata": {},
   "outputs": [],
   "source": [
    "performance_service.save_experiments()"
   ]
  },
  {
   "cell_type": "markdown",
   "id": "a629b6fc",
   "metadata": {},
   "source": [
    "## Terminate Controller\n",
    "\n",
    "Whenever you have finished with this notebook, be sure to terminate the controller. This is especially important if your business logic runs across multiple notebooks."
   ]
  },
  {
   "cell_type": "code",
   "execution_count": 40,
   "id": "a6a94b19",
   "metadata": {},
   "outputs": [],
   "source": [
    "await agent_controller.terminate()"
   ]
  },
  {
   "cell_type": "code",
   "execution_count": null,
   "id": "29bc0ba1",
   "metadata": {},
   "outputs": [],
   "source": []
  }
 ],
 "metadata": {
  "kernelspec": {
   "display_name": "Python 3",
   "language": "python",
   "name": "python3"
  },
  "language_info": {
   "codemirror_mode": {
    "name": "ipython",
    "version": 3
   },
   "file_extension": ".py",
   "mimetype": "text/x-python",
   "name": "python",
   "nbconvert_exporter": "python",
   "pygments_lexer": "ipython3",
   "version": "3.7.6"
  }
 },
 "nbformat": 4,
 "nbformat_minor": 5
}
