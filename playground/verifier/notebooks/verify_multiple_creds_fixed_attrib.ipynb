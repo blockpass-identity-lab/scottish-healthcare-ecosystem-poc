{
 "cells": [
  {
   "cell_type": "markdown",
   "id": "bce9037d",
   "metadata": {},
   "source": [
    "# Performance Test\n",
    "## Disclosure of Fixed Number of Attributes from Variable Num Credentials"
   ]
  },
  {
   "cell_type": "markdown",
   "id": "7b903fe9",
   "metadata": {},
   "source": [
    "### Imports"
   ]
  },
  {
   "cell_type": "code",
   "execution_count": null,
   "id": "d92ae7de",
   "metadata": {},
   "outputs": [],
   "source": [
    "from aries_cloudcontroller import AriesAgentController\n",
    "\n",
    "from libs.performance_service import PerformanceService\n",
    "import os\n",
    "import time\n",
    "from termcolor import colored"
   ]
  },
  {
   "cell_type": "markdown",
   "id": "90900525",
   "metadata": {},
   "source": [
    "### Initialise the Agent Controller"
   ]
  },
  {
   "cell_type": "code",
   "execution_count": null,
   "id": "b6b774ee",
   "metadata": {},
   "outputs": [],
   "source": [
    "api_key = os.getenv(\"ACAPY_ADMIN_API_KEY\")\n",
    "admin_url = os.getenv(\"ADMIN_URL\")\n",
    "\n",
    "print(f\"Initialising a controller with admin api at {admin_url} and an api key of {api_key}\")\n",
    "agent_controller = AriesAgentController(admin_url,api_key)"
   ]
  },
  {
   "cell_type": "markdown",
   "id": "da5dea6c",
   "metadata": {},
   "source": [
    "### Start a Webhook Server"
   ]
  },
  {
   "cell_type": "code",
   "execution_count": null,
   "id": "e3c953fb",
   "metadata": {},
   "outputs": [],
   "source": [
    "webhook_port = int(os.getenv(\"WEBHOOK_PORT\"))\n",
    "webhook_host = \"0.0.0.0\"\n",
    "\n",
    "await agent_controller.init_webhook_server(webhook_host, webhook_port)\n",
    "\n",
    "print(f\"Listening for webhooks from agent at http://{webhook_host}:{webhook_port}\")"
   ]
  },
  {
   "cell_type": "markdown",
   "id": "fb84ade3",
   "metadata": {},
   "source": [
    "## Store Issuing Schema and Cred Def Identifiers\n",
    "\n",
    "If you intend for this agent to issue credentials you should first initialise your agent as an issuer and author the relevant identifiers to the public ledger. The issuer_initialisation recipe notebook can be duplicated and used as a starting point.\n",
    "\n",
    "Once schema and cred def identifiers are created copy across and store in variables as illustrated in the cell below. Be sure to use unique names for each variable."
   ]
  },
  {
   "cell_type": "code",
   "execution_count": null,
   "id": "f698a5dd",
   "metadata": {},
   "outputs": [],
   "source": [
    "five1_schema_id='H7zAaLJRZrdbPqbVMMfL5t:2:five-one:0.0.1'\n",
    "five1_cred_def_id='H7zAaLJRZrdbPqbVMMfL5t:3:CL:21:default'\n",
    "five1_rev_cred_def_id='H7zAaLJRZrdbPqbVMMfL5t:3:CL:21:revocable'\n",
    "\n",
    "five2_schema_id='H7zAaLJRZrdbPqbVMMfL5t:2:five-two:0.0.1'\n",
    "five2_cred_def_id='H7zAaLJRZrdbPqbVMMfL5t:3:CL:22:default'\n",
    "five2_rev_cred_def_id='H7zAaLJRZrdbPqbVMMfL5t:3:CL:22:revocable'\n",
    "\n",
    "five3_schema_id='H7zAaLJRZrdbPqbVMMfL5t:2:five-three:0.0.1'\n",
    "five3_cred_def_id='H7zAaLJRZrdbPqbVMMfL5t:3:CL:23:default'\n",
    "five3_rev_cred_def_id='H7zAaLJRZrdbPqbVMMfL5t:3:CL:23:revocable'\n",
    "\n",
    "five4_schema_id='H7zAaLJRZrdbPqbVMMfL5t:2:five-four:0.0.1'\n",
    "five4_cred_def_id='H7zAaLJRZrdbPqbVMMfL5t:3:CL:24:default'\n",
    "five4_rev_cred_def_id='H7zAaLJRZrdbPqbVMMfL5t:3:CL:24:revocable'\n",
    "\n",
    "five5_schema_id='H7zAaLJRZrdbPqbVMMfL5t:2:five-five:0.0.1'\n",
    "five5_cred_def_id='H7zAaLJRZrdbPqbVMMfL5t:3:CL:25:default'\n",
    "five5_rev_cred_def_id='H7zAaLJRZrdbPqbVMMfL5t:3:CL:25:revocable'\n",
    "\n",
    "\n"
   ]
  },
  {
   "cell_type": "markdown",
   "id": "c184ac4b",
   "metadata": {},
   "source": [
    "## Init Performance Service"
   ]
  },
  {
   "cell_type": "code",
   "execution_count": null,
   "id": "af052124",
   "metadata": {},
   "outputs": [],
   "source": [
    "performance_service = PerformanceService(agent_controller, iterations=20)"
   ]
  },
  {
   "cell_type": "markdown",
   "id": "6f9e10ee",
   "metadata": {},
   "source": [
    "## Establish Connection\n",
    "\n",
    "Before you can issue a credential you must first establish a connection across which the credential will be issued to a holder. (see recipes/connection)"
   ]
  },
  {
   "cell_type": "code",
   "execution_count": null,
   "id": "fba8bfe8",
   "metadata": {},
   "outputs": [],
   "source": [
    "# Alias for invited connection\n",
    "alias = \"Friend\"\n",
    "auto_accept = \"true\"\n",
    "# Use public DID?\n",
    "public = \"false\"\n",
    "# Should this invitation be usable by multiple invitees?\n",
    "multi_use = \"false\"\n",
    "\n",
    "invitation_response = await agent_controller.connections.create_invitation(alias, auto_accept, public, multi_use)\n",
    "# Is equivalent to above. Arguments are optionally\n",
    "# invitation_response = await agent_controller.connections.create_invitation()\n",
    "\n",
    "\n",
    "\n",
    "# You will use this identifier to issue a credential across this connection\n",
    "connection_id = invitation_response[\"connection_id\"]\n",
    "\n",
    "invitation = invitation_response[\"invitation\"]\n",
    "## Copy this output\n",
    "print(invitation)\n",
    "print(connection_id)"
   ]
  },
  {
   "cell_type": "code",
   "execution_count": null,
   "id": "90185f25",
   "metadata": {},
   "outputs": [],
   "source": [
    "connection_id = \"bf7d4d2b-1398-4079-a4fa-7cfecf815892\""
   ]
  },
  {
   "cell_type": "code",
   "execution_count": null,
   "id": "6af98bf1",
   "metadata": {},
   "outputs": [],
   "source": [
    "## Issue Credentials"
   ]
  },
  {
   "cell_type": "code",
   "execution_count": null,
   "id": "437d9d44",
   "metadata": {},
   "outputs": [],
   "source": [
    "credential_attributes = []\n",
    "\n",
    "for x in range(1,6):\n",
    "    attribute = {\"name\": str(x), \"value\": 32*\"0\"}\n",
    "    credential_attributes.append(attribute)"
   ]
  },
  {
   "cell_type": "code",
   "execution_count": null,
   "id": "efac27e1",
   "metadata": {},
   "outputs": [],
   "source": [
    "\n",
    "await self.agent_controller.issuer.send_credential(connection_id, five1_schema_id, five1_cred_def_id, credential_attributes)\n",
    "await self.agent_controller.issuer.send_credential(connection_id, five1_schema_id, five1_rev_cred_def_id, credential_attributes)"
   ]
  },
  {
   "cell_type": "code",
   "execution_count": null,
   "id": "938f80ac",
   "metadata": {},
   "outputs": [],
   "source": [
    "await self.agent_controller.issuer.send_credential(connection_id, five2_schema_id, five2_cred_def_id, credential_attributes)\n",
    "await self.agent_controller.issuer.send_credential(connection_id, five2_schema_id, five2_rev_cred_def_id, credential_attributes)"
   ]
  },
  {
   "cell_type": "code",
   "execution_count": null,
   "id": "b39287b9",
   "metadata": {},
   "outputs": [],
   "source": [
    "await self.agent_controller.issuer.send_credential(connection_id, five3_schema_id, five3_cred_def_id, credential_attributes)\n",
    "await self.agent_controller.issuer.send_credential(connection_id, five3_schema_id, five3_rev_cred_def_id, credential_attributes)"
   ]
  },
  {
   "cell_type": "code",
   "execution_count": null,
   "id": "a0ccda27",
   "metadata": {},
   "outputs": [],
   "source": [
    "await self.agent_controller.issuer.send_credential(connection_id, five4_schema_id, five4_cred_def_id, credential_attributes)\n",
    "await self.agent_controller.issuer.send_credential(connection_id, five4_schema_id, five4_rev_cred_def_id, credential_attributes)"
   ]
  },
  {
   "cell_type": "code",
   "execution_count": null,
   "id": "0bb5a57d",
   "metadata": {},
   "outputs": [],
   "source": [
    "await self.agent_controller.issuer.send_credential(connection_id, five5_schema_id, five5_cred_def_id, credential_attributes)\n",
    "await self.agent_controller.issuer.send_credential(connection_id, five5_schema_id, five5_rev_cred_def_id, credential_attributes)"
   ]
  },
  {
   "cell_type": "markdown",
   "id": "7c9a780d",
   "metadata": {},
   "source": [
    "## Define Presentation Request Object\n",
    "\n",
    "The below cell defines a generic presentation request object, that can be sent across specific connections requesting that they produce a presentation containing the identified attributes and meeting the restrictions.\n",
    "\n",
    "It is often useful to define your request objects first, then reuse these objects across many connections you wish to request a proof from. \n",
    "\n",
    "Duplicate and customise the below cell as many times as you need. It may be useful to save these request objects either to the jupyter store using %store or through\n",
    "\n",
    "TODO: Detail the full set of restrictions available to a verifier."
   ]
  },
  {
   "cell_type": "code",
   "execution_count": null,
   "id": "f374987b",
   "metadata": {},
   "outputs": [],
   "source": [
    "# # We add a constraint that the attribute must originate from this schema\n",
    "# schema_id = \"<SOME SCHEMA ID>\"\n",
    "\n",
    "# trusted_issuer_did = \"<SOME ISSUER DID ON INDY NETWORK>\"\n",
    "\n",
    "# cred_def_id = \"<SOME CRED DEF>\"\n",
    "\n",
    "# # Define the list of attributes and restrictions under which each attribute was issued that a prover must satisfy with a presentation\n",
    "# # NOTE: if identifying a schema or credential definition then the attribute name must be contained within the corresponding schema.\n",
    "# req_attrs = [\n",
    "#     {\"name\": \"<attr_name_1>\", \"restrictions\": [{\"schema_id\": schema_id}]},\n",
    "#     {\"name\": \"<attr_name_2>\", \"restrictions\": [{\"cred_def_id\": cred_def_id}]},\n",
    "#     #NOTE: you do not need to specify any restrictions. This means the prover can present a self-attested attribute to satisfy this request. \n",
    "#     # Although the business logic (this notebook) can still determine this is unacceptable.\n",
    "#     {\"name\": \"<attr_name_3>\", \"restrictions\":[]}\n",
    "#     # You can also specify individual attributes be non-revoked\n",
    "#     {\"name\": \"<attr_name_4>\", \"restrictions\": [], \"non_revoked\": {\"to\": int(time.time() - 1)}}\n",
    "# ]\n",
    "\n",
    "# # We could extend this to request the name attribute aswell if we wanted.\n",
    "\n",
    "\n",
    "# proof_request = {\n",
    "#     \"name\": \"Name of Proof Request\",\n",
    "#     \"version\": \"1.0\",\n",
    "\n",
    "#     # Predicates allow us to specify range proofs or set membership on attributes. For example greater than 10.\n",
    "#     # We will ignore these for now.\n",
    "#     \"requested_predicates\": {\n",
    "# #         f\"0_{req_pred['name']}_GE_uuid\":\n",
    "# #         req_pred for req_pred in req_preds\n",
    "#     },\n",
    "#     # You can also request the entire proof request be non-revoked\n",
    "#     \"non_revoked\":  {\"to\": int(time.time())}\n",
    "# }"
   ]
  },
  {
   "cell_type": "code",
   "execution_count": null,
   "id": "dd0427b6",
   "metadata": {},
   "outputs": [],
   "source": [
    "proof_request = {\n",
    "    \"name\": \"Name of Proof Request\",\n",
    "    \"version\": \"1.0\",\n",
    "\n",
    "    # Predicates allow us to specify range proofs or set membership on attributes. For example greater than 10.\n",
    "    # We will ignore these for now.\n",
    "    \"requested_predicates\": {\n",
    "#         f\"0_{req_pred['name']}_GE_uuid\":\n",
    "#         req_pred for req_pred in req_preds\n",
    "    },\n",
    "    # You can also request the entire proof request be non-revoked\n",
    "    \"non_revoked\":  {\"to\": int(time.time())}\n",
    "}"
   ]
  },
  {
   "cell_type": "markdown",
   "id": "5d3a0f35",
   "metadata": {},
   "source": [
    "# Fixed Attributes Disclosed Variable Credentials in Presentation"
   ]
  },
  {
   "cell_type": "code",
   "execution_count": 159,
   "id": "857f1b78",
   "metadata": {},
   "outputs": [],
   "source": [
    "experiment = performance_service.new_experiment(\"Fixed Attributes Variable Credentials in Presentation\")"
   ]
  },
  {
   "cell_type": "code",
   "execution_count": 160,
   "id": "e77f18de",
   "metadata": {},
   "outputs": [],
   "source": [
    "revocable_experiment = performance_service.new_experiment(\"Fixed Attributes Variable Credentials in Presentation\")"
   ]
  },
  {
   "cell_type": "markdown",
   "id": "e3beca79",
   "metadata": {},
   "source": [
    "## Five Attributes One Cred"
   ]
  },
  {
   "cell_type": "code",
   "execution_count": 161,
   "id": "07791a34",
   "metadata": {},
   "outputs": [],
   "source": [
    "req_attrs = [\n",
    "    {\"name\": \"1\", \"restrictions\": [{\"schema_id\": five1_schema_id, \"cred_def_id\": five1_cred_def_id}]},\n",
    "    {\"name\": \"2\", \"restrictions\": [{\"schema_id\": five1_schema_id, \"cred_def_id\": five1_cred_def_id}]},\n",
    "    {\"name\": \"3\", \"restrictions\": [{\"schema_id\": five1_schema_id, \"cred_def_id\": five1_cred_def_id}]},\n",
    "    {\"name\": \"4\", \"restrictions\": [{\"schema_id\": five1_schema_id, \"cred_def_id\": five1_cred_def_id}]},\n",
    "    {\"name\": \"5\", \"restrictions\": [{\"schema_id\": five1_schema_id, \"cred_def_id\": five1_cred_def_id}]},\n",
    "]\n",
    "\n",
    "proof_request[\"requested_attributes\"] = {\n",
    "        # They generally follow this uuid pattern. Unique identifier for attribute within context of this proof request\n",
    "        # Note that req_attr['name'] gets the attribute name of each object. E.g. domain and name in this case\n",
    "        f\"0_{req_attr['name']}_uuid\":\n",
    "        req_attr for req_attr in req_attrs\n",
    "}"
   ]
  },
  {
   "cell_type": "code",
   "execution_count": 162,
   "id": "e75b0667",
   "metadata": {},
   "outputs": [],
   "source": [
    "name = \"1\""
   ]
  },
  {
   "cell_type": "code",
   "execution_count": 163,
   "id": "a3c8b560",
   "metadata": {},
   "outputs": [
    {
     "name": "stdout",
     "output_type": "stream",
     "text": [
      "Average :  1.8861745626498305\n"
     ]
    }
   ],
   "source": [
    "test = {\"name\": name, \"proof_request\": proof_request}\n",
    "\n",
    "await performance_service.run_verification(experiment, test, connection_id)"
   ]
  },
  {
   "cell_type": "code",
   "execution_count": 164,
   "id": "828492b5",
   "metadata": {},
   "outputs": [],
   "source": [
    "req_attrs = [\n",
    "    {\"name\": \"1\", \"restrictions\": [{\"schema_id\": five1_schema_id, \"cred_def_id\": five1_rev_cred_def_id}]},\n",
    "    {\"name\": \"2\", \"restrictions\": [{\"schema_id\": five1_schema_id, \"cred_def_id\": five1_rev_cred_def_id}]},\n",
    "    {\"name\": \"3\", \"restrictions\": [{\"schema_id\": five1_schema_id, \"cred_def_id\": five1_rev_cred_def_id}]},\n",
    "    {\"name\": \"4\", \"restrictions\": [{\"schema_id\": five1_schema_id, \"cred_def_id\": five1_rev_cred_def_id}]},\n",
    "    {\"name\": \"5\", \"restrictions\": [{\"schema_id\": five1_schema_id, \"cred_def_id\": five1_rev_cred_def_id}]},\n",
    "]\n",
    "\n",
    "proof_request[\"requested_attributes\"] = {\n",
    "        # They generally follow this uuid pattern. Unique identifier for attribute within context of this proof request\n",
    "        # Note that req_attr['name'] gets the attribute name of each object. E.g. domain and name in this case\n",
    "        f\"0_{req_attr['name']}_uuid\":\n",
    "        req_attr for req_attr in req_attrs\n",
    "}"
   ]
  },
  {
   "cell_type": "code",
   "execution_count": 165,
   "id": "c34d337e",
   "metadata": {},
   "outputs": [
    {
     "name": "stdout",
     "output_type": "stream",
     "text": [
      "Average :  2.888445556750412\n"
     ]
    }
   ],
   "source": [
    "test = {\"name\": name, \"proof_request\": proof_request}\n",
    "\n",
    "await performance_service.run_verification(revocable_experiment, test, connection_id)"
   ]
  },
  {
   "cell_type": "markdown",
   "id": "3ca44112",
   "metadata": {},
   "source": [
    "## Five Attributes Two Cred"
   ]
  },
  {
   "cell_type": "code",
   "execution_count": 166,
   "id": "f8389c68",
   "metadata": {},
   "outputs": [],
   "source": [
    "req_attrs = [\n",
    "    {\"name\": \"1\", \"restrictions\": [{\"schema_id\": five1_schema_id, \"cred_def_id\": five1_cred_def_id}]},\n",
    "    {\"name\": \"2\", \"restrictions\": [{\"schema_id\": five1_schema_id, \"cred_def_id\": five1_cred_def_id}]},\n",
    "    {\"name\": \"3\", \"restrictions\": [{\"schema_id\": five1_schema_id, \"cred_def_id\": five1_cred_def_id}]},\n",
    "    {\"name\": \"4\", \"restrictions\": [{\"schema_id\": five1_schema_id, \"cred_def_id\": five1_cred_def_id}]},\n",
    "    {\"name\": \"5\", \"restrictions\": [{\"schema_id\": five2_schema_id, \"cred_def_id\": five2_cred_def_id}]},\n",
    "]\n",
    "\n",
    "proof_request[\"requested_attributes\"] = {\n",
    "        # They generally follow this uuid pattern. Unique identifier for attribute within context of this proof request\n",
    "        # Note that req_attr['name'] gets the attribute name of each object. E.g. domain and name in this case\n",
    "        f\"0_{req_attr['name']}_uuid\":\n",
    "        req_attr for req_attr in req_attrs\n",
    "}"
   ]
  },
  {
   "cell_type": "code",
   "execution_count": 167,
   "id": "f93fec4c",
   "metadata": {},
   "outputs": [],
   "source": [
    "name = \"2\""
   ]
  },
  {
   "cell_type": "code",
   "execution_count": 168,
   "id": "f12f25c2",
   "metadata": {},
   "outputs": [
    {
     "name": "stdout",
     "output_type": "stream",
     "text": [
      "Average :  2.3859419959000663\n"
     ]
    }
   ],
   "source": [
    "test = {\"name\": name, \"proof_request\": proof_request}\n",
    "\n",
    "await performance_service.run_verification(experiment, test, connection_id)"
   ]
  },
  {
   "cell_type": "code",
   "execution_count": 169,
   "id": "34984a80",
   "metadata": {},
   "outputs": [],
   "source": [
    "req_attrs = [\n",
    "    {\"name\": \"1\", \"restrictions\": [{\"schema_id\": five1_schema_id, \"cred_def_id\": five1_rev_cred_def_id}]},\n",
    "    {\"name\": \"2\", \"restrictions\": [{\"schema_id\": five1_schema_id, \"cred_def_id\": five1_rev_cred_def_id}]},\n",
    "    {\"name\": \"3\", \"restrictions\": [{\"schema_id\": five1_schema_id, \"cred_def_id\": five1_rev_cred_def_id}]},\n",
    "    {\"name\": \"4\", \"restrictions\": [{\"schema_id\": five1_schema_id, \"cred_def_id\": five1_rev_cred_def_id}]},\n",
    "    {\"name\": \"5\", \"restrictions\": [{\"schema_id\": five2_schema_id, \"cred_def_id\": five2_rev_cred_def_id}]},\n",
    "]\n",
    "\n",
    "proof_request[\"requested_attributes\"] = {\n",
    "        # They generally follow this uuid pattern. Unique identifier for attribute within context of this proof request\n",
    "        # Note that req_attr['name'] gets the attribute name of each object. E.g. domain and name in this case\n",
    "        f\"0_{req_attr['name']}_uuid\":\n",
    "        req_attr for req_attr in req_attrs\n",
    "}"
   ]
  },
  {
   "cell_type": "code",
   "execution_count": 170,
   "id": "c7308857",
   "metadata": {},
   "outputs": [
    {
     "name": "stdout",
     "output_type": "stream",
     "text": [
      "Average :  3.760751254099887\n"
     ]
    }
   ],
   "source": [
    "test = {\"name\": name, \"proof_request\": proof_request}\n",
    "\n",
    "await performance_service.run_verification(revocable_experiment, test, connection_id)"
   ]
  },
  {
   "cell_type": "markdown",
   "id": "ee16d305",
   "metadata": {},
   "source": [
    "## Five Attributes Three Cred"
   ]
  },
  {
   "cell_type": "code",
   "execution_count": 171,
   "id": "6ad12a8c",
   "metadata": {},
   "outputs": [],
   "source": [
    "req_attrs = [\n",
    "    {\"name\": \"1\", \"restrictions\": [{\"schema_id\": five1_schema_id, \"cred_def_id\": five1_cred_def_id}]},\n",
    "    {\"name\": \"2\", \"restrictions\": [{\"schema_id\": five1_schema_id, \"cred_def_id\": five1_cred_def_id}]},\n",
    "    {\"name\": \"3\", \"restrictions\": [{\"schema_id\": five1_schema_id, \"cred_def_id\": five1_cred_def_id}]},\n",
    "    {\"name\": \"4\", \"restrictions\": [{\"schema_id\": five3_schema_id, \"cred_def_id\": five3_cred_def_id}]},\n",
    "    {\"name\": \"5\", \"restrictions\": [{\"schema_id\": five2_schema_id, \"cred_def_id\": five2_cred_def_id}]},\n",
    "]\n",
    "\n",
    "proof_request[\"requested_attributes\"] = {\n",
    "        # They generally follow this uuid pattern. Unique identifier for attribute within context of this proof request\n",
    "        # Note that req_attr['name'] gets the attribute name of each object. E.g. domain and name in this case\n",
    "        f\"0_{req_attr['name']}_uuid\":\n",
    "        req_attr for req_attr in req_attrs\n",
    "}"
   ]
  },
  {
   "cell_type": "code",
   "execution_count": 172,
   "id": "3b272100",
   "metadata": {},
   "outputs": [],
   "source": [
    "name = \"3\""
   ]
  },
  {
   "cell_type": "code",
   "execution_count": 173,
   "id": "980e69d7",
   "metadata": {},
   "outputs": [
    {
     "name": "stdout",
     "output_type": "stream",
     "text": [
      "Average :  2.2802539874501235\n"
     ]
    }
   ],
   "source": [
    "test = {\"name\": name, \"proof_request\": proof_request}\n",
    "\n",
    "await performance_service.run_verification(experiment, test, connection_id)"
   ]
  },
  {
   "cell_type": "code",
   "execution_count": 174,
   "id": "f51a1cb7",
   "metadata": {},
   "outputs": [],
   "source": [
    "req_attrs = [\n",
    "    {\"name\": \"1\", \"restrictions\": [{\"schema_id\": five1_schema_id, \"cred_def_id\": five1_rev_cred_def_id}]},\n",
    "    {\"name\": \"2\", \"restrictions\": [{\"schema_id\": five1_schema_id, \"cred_def_id\": five1_rev_cred_def_id}]},\n",
    "    {\"name\": \"3\", \"restrictions\": [{\"schema_id\": five1_schema_id, \"cred_def_id\": five1_rev_cred_def_id}]},\n",
    "    {\"name\": \"4\", \"restrictions\": [{\"schema_id\": five3_schema_id, \"cred_def_id\": five3_rev_cred_def_id}]},\n",
    "    {\"name\": \"5\", \"restrictions\": [{\"schema_id\": five2_schema_id, \"cred_def_id\": five2_rev_cred_def_id}]},\n",
    "]\n",
    "\n",
    "proof_request[\"requested_attributes\"] = {\n",
    "        # They generally follow this uuid pattern. Unique identifier for attribute within context of this proof request\n",
    "        # Note that req_attr['name'] gets the attribute name of each object. E.g. domain and name in this case\n",
    "        f\"0_{req_attr['name']}_uuid\":\n",
    "        req_attr for req_attr in req_attrs\n",
    "}"
   ]
  },
  {
   "cell_type": "code",
   "execution_count": 175,
   "id": "c232c104",
   "metadata": {},
   "outputs": [
    {
     "name": "stdout",
     "output_type": "stream",
     "text": [
      "Average :  4.044143925350181\n"
     ]
    }
   ],
   "source": [
    "test = {\"name\": name, \"proof_request\": proof_request}\n",
    "\n",
    "await performance_service.run_verification(revocable_experiment, test, connection_id)"
   ]
  },
  {
   "cell_type": "markdown",
   "id": "cf90216c",
   "metadata": {},
   "source": [
    "## Five Attributes Four Cred"
   ]
  },
  {
   "cell_type": "code",
   "execution_count": 176,
   "id": "ec7f11d1",
   "metadata": {},
   "outputs": [],
   "source": [
    "req_attrs = [\n",
    "    {\"name\": \"1\", \"restrictions\": [{\"schema_id\": five1_schema_id, \"cred_def_id\": five1_cred_def_id}]},\n",
    "    {\"name\": \"2\", \"restrictions\": [{\"schema_id\": five1_schema_id, \"cred_def_id\": five1_cred_def_id}]},\n",
    "    {\"name\": \"3\", \"restrictions\": [{\"schema_id\": five4_schema_id, \"cred_def_id\": five4_cred_def_id}]},\n",
    "    {\"name\": \"4\", \"restrictions\": [{\"schema_id\": five3_schema_id, \"cred_def_id\": five3_cred_def_id}]},\n",
    "    {\"name\": \"5\", \"restrictions\": [{\"schema_id\": five2_schema_id, \"cred_def_id\": five2_cred_def_id}]},\n",
    "]\n",
    "\n",
    "proof_request[\"requested_attributes\"] = {\n",
    "        # They generally follow this uuid pattern. Unique identifier for attribute within context of this proof request\n",
    "        # Note that req_attr['name'] gets the attribute name of each object. E.g. domain and name in this case\n",
    "        f\"0_{req_attr['name']}_uuid\":\n",
    "        req_attr for req_attr in req_attrs\n",
    "}"
   ]
  },
  {
   "cell_type": "code",
   "execution_count": 177,
   "id": "046d1726",
   "metadata": {},
   "outputs": [],
   "source": [
    "name = \"4\""
   ]
  },
  {
   "cell_type": "code",
   "execution_count": 178,
   "id": "34af48cc",
   "metadata": {},
   "outputs": [
    {
     "name": "stdout",
     "output_type": "stream",
     "text": [
      "Average :  2.808775784350291\n"
     ]
    }
   ],
   "source": [
    "test = {\"name\": name, \"proof_request\": proof_request}\n",
    "\n",
    "await performance_service.run_verification(experiment, test, connection_id)"
   ]
  },
  {
   "cell_type": "code",
   "execution_count": 179,
   "id": "0e68a5d7",
   "metadata": {},
   "outputs": [],
   "source": [
    "req_attrs = [\n",
    "    {\"name\": \"1\", \"restrictions\": [{\"schema_id\": five1_schema_id, \"cred_def_id\": five1_rev_cred_def_id}]},\n",
    "    {\"name\": \"2\", \"restrictions\": [{\"schema_id\": five1_schema_id, \"cred_def_id\": five1_rev_cred_def_id}]},\n",
    "    {\"name\": \"3\", \"restrictions\": [{\"schema_id\": five4_schema_id, \"cred_def_id\": five4_rev_cred_def_id}]},\n",
    "    {\"name\": \"4\", \"restrictions\": [{\"schema_id\": five3_schema_id, \"cred_def_id\": five3_rev_cred_def_id}]},\n",
    "    {\"name\": \"5\", \"restrictions\": [{\"schema_id\": five2_schema_id, \"cred_def_id\": five2_rev_cred_def_id}]},\n",
    "]\n",
    "\n",
    "proof_request[\"requested_attributes\"] = {\n",
    "        # They generally follow this uuid pattern. Unique identifier for attribute within context of this proof request\n",
    "        # Note that req_attr['name'] gets the attribute name of each object. E.g. domain and name in this case\n",
    "        f\"0_{req_attr['name']}_uuid\":\n",
    "        req_attr for req_attr in req_attrs\n",
    "}"
   ]
  },
  {
   "cell_type": "code",
   "execution_count": 180,
   "id": "b67f82f5",
   "metadata": {},
   "outputs": [
    {
     "name": "stdout",
     "output_type": "stream",
     "text": [
      "Average :  5.397983192500033\n"
     ]
    }
   ],
   "source": [
    "test = {\"name\": name, \"proof_request\": proof_request}\n",
    "\n",
    "await performance_service.run_verification(revocable_experiment, test, connection_id)"
   ]
  },
  {
   "cell_type": "markdown",
   "id": "af3daa79",
   "metadata": {},
   "source": [
    "## Five Attributes Five Cred"
   ]
  },
  {
   "cell_type": "code",
   "execution_count": 181,
   "id": "37e612b5",
   "metadata": {},
   "outputs": [],
   "source": [
    "req_attrs = [\n",
    "    {\"name\": \"1\", \"restrictions\": [{\"schema_id\": five1_schema_id, \"cred_def_id\": five1_cred_def_id}]},\n",
    "    {\"name\": \"2\", \"restrictions\": [{\"schema_id\": five5_schema_id, \"cred_def_id\": five5_cred_def_id}]},\n",
    "    {\"name\": \"3\", \"restrictions\": [{\"schema_id\": five4_schema_id, \"cred_def_id\": five4_cred_def_id}]},\n",
    "    {\"name\": \"4\", \"restrictions\": [{\"schema_id\": five3_schema_id, \"cred_def_id\": five3_cred_def_id}]},\n",
    "    {\"name\": \"5\", \"restrictions\": [{\"schema_id\": five2_schema_id, \"cred_def_id\": five2_cred_def_id}]},\n",
    "]\n",
    "\n",
    "proof_request[\"requested_attributes\"] = {\n",
    "        # They generally follow this uuid pattern. Unique identifier for attribute within context of this proof request\n",
    "        # Note that req_attr['name'] gets the attribute name of each object. E.g. domain and name in this case\n",
    "        f\"0_{req_attr['name']}_uuid\":\n",
    "        req_attr for req_attr in req_attrs\n",
    "}"
   ]
  },
  {
   "cell_type": "code",
   "execution_count": 182,
   "id": "7454b8de",
   "metadata": {},
   "outputs": [],
   "source": [
    "name = \"5\""
   ]
  },
  {
   "cell_type": "code",
   "execution_count": 183,
   "id": "06dece15",
   "metadata": {},
   "outputs": [
    {
     "name": "stdout",
     "output_type": "stream",
     "text": [
      "Average :  4.092076107749927\n"
     ]
    }
   ],
   "source": [
    "test = {\"name\": name, \"proof_request\": proof_request}\n",
    "\n",
    "await performance_service.run_verification(experiment, test, connection_id)"
   ]
  },
  {
   "cell_type": "code",
   "execution_count": 184,
   "id": "2bb609f1",
   "metadata": {},
   "outputs": [],
   "source": [
    "req_attrs = [\n",
    "    {\"name\": \"1\", \"restrictions\": [{\"schema_id\": five1_schema_id, \"cred_def_id\": five1_rev_cred_def_id}]},\n",
    "    {\"name\": \"2\", \"restrictions\": [{\"schema_id\": five5_schema_id, \"cred_def_id\": five5_rev_cred_def_id}]},\n",
    "    {\"name\": \"3\", \"restrictions\": [{\"schema_id\": five4_schema_id, \"cred_def_id\": five4_rev_cred_def_id}]},\n",
    "    {\"name\": \"4\", \"restrictions\": [{\"schema_id\": five3_schema_id, \"cred_def_id\": five3_rev_cred_def_id}]},\n",
    "    {\"name\": \"5\", \"restrictions\": [{\"schema_id\": five2_schema_id, \"cred_def_id\": five2_rev_cred_def_id}]},\n",
    "]\n",
    "\n",
    "proof_request[\"requested_attributes\"] = {\n",
    "        # They generally follow this uuid pattern. Unique identifier for attribute within context of this proof request\n",
    "        # Note that req_attr['name'] gets the attribute name of each object. E.g. domain and name in this case\n",
    "        f\"0_{req_attr['name']}_uuid\":\n",
    "        req_attr for req_attr in req_attrs\n",
    "}"
   ]
  },
  {
   "cell_type": "code",
   "execution_count": 185,
   "id": "16be2f3b",
   "metadata": {},
   "outputs": [
    {
     "name": "stdout",
     "output_type": "stream",
     "text": [
      "Average :  6.604865062400313\n"
     ]
    }
   ],
   "source": [
    "test = {\"name\": name, \"proof_request\": proof_request}\n",
    "\n",
    "await performance_service.run_verification(revocable_experiment, test, connection_id)"
   ]
  },
  {
   "cell_type": "markdown",
   "id": "943efbdf",
   "metadata": {},
   "source": [
    "## Plot Results"
   ]
  },
  {
   "cell_type": "markdown",
   "id": "aa704c30",
   "metadata": {},
   "source": [
    "### Non Revocable"
   ]
  },
  {
   "cell_type": "code",
   "execution_count": 193,
   "id": "a74f2511",
   "metadata": {},
   "outputs": [],
   "source": [
    "data = []\n",
    "labels = []\n",
    "non_revocable_averages = []\n",
    "for result in experiment[\"results\"]:\n",
    "    \n",
    "\n",
    "    millitimings = [i * 1000 for i in result[\"timings\"]]\n",
    "    data.append(millitimings)\n",
    "    non_revocable_averages.append(result[\"average\"] * 1000)\n",
    "    labels.append(int(result[\"name\"]))\n",
    "\n"
   ]
  },
  {
   "cell_type": "code",
   "execution_count": 194,
   "id": "01b92b5f",
   "metadata": {},
   "outputs": [
    {
     "data": {
      "image/png": "[encoded data removed]",
      "text/plain": [
       "<Figure size 720x720 with 1 Axes>"
      ]
     },
     "metadata": {
      "needs_background": "light"
     },
     "output_type": "display_data"
    }
   ],
   "source": [
    "# Import libraries\n",
    "import matplotlib.pyplot as plt\n",
    "import numpy as np\n",
    " \n",
    "\n",
    " \n",
    "fig = plt.figure(figsize =(10, 10))\n",
    " \n",
    "# Creating axes instance\n",
    "ax = fig.add_axes([0.1,0.1,0.75,0.75]) \n",
    " \n",
    "# Creating plot`\n",
    "bp = ax.boxplot(data, patch_artist = True,\n",
    "                notch ='True')\n",
    "\n",
    "# x-axis labels\n",
    "ax.set_xticklabels(labels)\n",
    "\n",
    "plt.ylabel(\"Milliseconds\")\n",
    "plt.xlabel(\"Credentials in Presentation\")\n",
    "\n",
    "plt.savefig(\"results/verification/fixed_attributes_disclosed_variable_creds/box_plot_non_revocable.png\")"
   ]
  },
  {
   "cell_type": "markdown",
   "id": "4c5b406f",
   "metadata": {},
   "source": [
    "### Revocable"
   ]
  },
  {
   "cell_type": "code",
   "execution_count": 195,
   "id": "7182956b",
   "metadata": {},
   "outputs": [],
   "source": [
    "data = []\n",
    "labels = []\n",
    "revocable_averages = []\n",
    "for result in revocable_experiment[\"results\"]:\n",
    "    \n",
    "    millitimings = [i * 1000 for i in result[\"timings\"]]\n",
    "    data.append(millitimings)\n",
    "    revocable_averages.append(result[\"average\"] * 1000)\n",
    "    labels.append(int(result[\"name\"]))\n",
    "    \n"
   ]
  },
  {
   "cell_type": "code",
   "execution_count": 196,
   "id": "c2d197e4",
   "metadata": {},
   "outputs": [
    {
     "data": {
      "image/png": "[encoded data removed]",
      "text/plain": [
       "<Figure size 720x720 with 1 Axes>"
      ]
     },
     "metadata": {
      "needs_background": "light"
     },
     "output_type": "display_data"
    }
   ],
   "source": [
    "# Import libraries\n",
    "import matplotlib.pyplot as plt\n",
    "import numpy as np\n",
    " \n",
    "\n",
    " \n",
    "fig = plt.figure(figsize =(10, 10))\n",
    " \n",
    "# Creating axes instance\n",
    "ax = fig.add_axes([0.1,0.1,0.75,0.75]) \n",
    " \n",
    "# Creating plot`\n",
    "bp = ax.boxplot(data, patch_artist = True,\n",
    "                notch ='True')\n",
    "\n",
    "# x-axis labels\n",
    "ax.set_xticklabels(labels)\n",
    "\n",
    "plt.ylabel(\"Milliseconds\")\n",
    "plt.xlabel(\"Credentials in Presentation\")\n",
    "\n",
    "plt.savefig(\"results/verification/fixed_attributes_disclosed_variable_creds/box_plot_revocable.png\")"
   ]
  },
  {
   "cell_type": "markdown",
   "id": "a9193105",
   "metadata": {},
   "source": [
    "## Averages"
   ]
  },
  {
   "cell_type": "code",
   "execution_count": 197,
   "id": "acc274cc",
   "metadata": {},
   "outputs": [
    {
     "data": {
      "image/png": "[encoded data removed]",
      "text/plain": [
       "<Figure size 720x720 with 1 Axes>"
      ]
     },
     "metadata": {
      "needs_background": "light"
     },
     "output_type": "display_data"
    }
   ],
   "source": [
    "fig = plt.figure(figsize =(10, 10))\n",
    " \n",
    "# Creating axes instance\n",
    "ax = fig.add_axes([0.1,0.1,0.75,0.75]) \n",
    "\n",
    "new_labels = [int(i) for i in labels]\n",
    "# avg_ploy = plt.plot(labels, revocable_averages, non_revoked_averages)\n",
    "\n",
    "plt.plot(labels, revocable_averages,'r-',label='Revocable Credential Presentation Averages')\n",
    "plt.plot(labels, non_revocable_averages,label='Non Revocable Credential Presentation Averages')\n",
    "\n",
    "plt.ylabel(\"Milliseconds\")\n",
    "plt.xlabel(\"Credentials in Presentation\")\n",
    "\n",
    "plt.legend()\n",
    "plt.savefig(\"results/verification/fixed_attributes_disclosed_variable_creds/averages.png\")"
   ]
  },
  {
   "cell_type": "markdown",
   "id": "e482bc34",
   "metadata": {},
   "source": [
    "## Terminate Controller\n",
    "\n",
    "Whenever you have finished with this notebook, be sure to terminate the controller. This is especially important if your business logic runs across multiple notebooks."
   ]
  },
  {
   "cell_type": "code",
   "execution_count": null,
   "id": "75928622",
   "metadata": {},
   "outputs": [],
   "source": [
    "await agent_controller.terminate()"
   ]
  },
  {
   "cell_type": "code",
   "execution_count": null,
   "id": "9e1010e9",
   "metadata": {},
   "outputs": [],
   "source": []
  }
 ],
 "metadata": {
  "kernelspec": {
   "display_name": "Python 3",
   "language": "python",
   "name": "python3"
  },
  "language_info": {
   "codemirror_mode": {
    "name": "ipython",
    "version": 3
   },
   "file_extension": ".py",
   "mimetype": "text/x-python",
   "name": "python",
   "nbconvert_exporter": "python",
   "pygments_lexer": "ipython3",
   "version": "3.7.6"
  }
 },
 "nbformat": 4,
 "nbformat_minor": 5
}
