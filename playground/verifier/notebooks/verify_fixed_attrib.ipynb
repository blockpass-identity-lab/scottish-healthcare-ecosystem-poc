{
 "cells": [
  {
   "cell_type": "markdown",
   "id": "c5e4f52c",
   "metadata": {},
   "source": [
    "# ACA-Py & ACC-Py Verifier Template\n",
    "\n",
    "## Copy this template into the root folder of your notebook workspace to get started"
   ]
  },
  {
   "cell_type": "markdown",
   "id": "ff969abc",
   "metadata": {},
   "source": [
    "### Imports"
   ]
  },
  {
   "cell_type": "code",
   "execution_count": null,
   "id": "df5da339",
   "metadata": {},
   "outputs": [],
   "source": [
    "from aries_cloudcontroller import AriesAgentController\n",
    "\n",
    "from libs.performance_service import PerformanceService\n",
    "import os\n",
    "import time\n",
    "from termcolor import colored"
   ]
  },
  {
   "cell_type": "markdown",
   "id": "f30bbc12",
   "metadata": {},
   "source": [
    "### Initialise the Agent Controller"
   ]
  },
  {
   "cell_type": "code",
   "execution_count": null,
   "id": "74b78395",
   "metadata": {},
   "outputs": [],
   "source": [
    "api_key = os.getenv(\"ACAPY_ADMIN_API_KEY\")\n",
    "admin_url = os.getenv(\"ADMIN_URL\")\n",
    "\n",
    "print(f\"Initialising a controller with admin api at {admin_url} and an api key of {api_key}\")\n",
    "agent_controller = AriesAgentController(admin_url,api_key)"
   ]
  },
  {
   "cell_type": "markdown",
   "id": "fee28a17",
   "metadata": {},
   "source": [
    "### Start a Webhook Server"
   ]
  },
  {
   "cell_type": "code",
   "execution_count": null,
   "id": "5d2dfa11",
   "metadata": {},
   "outputs": [],
   "source": [
    "webhook_port = int(os.getenv(\"WEBHOOK_PORT\"))\n",
    "webhook_host = \"0.0.0.0\"\n",
    "\n",
    "await agent_controller.init_webhook_server(webhook_host, webhook_port)\n",
    "\n",
    "print(f\"Listening for webhooks from agent at http://{webhook_host}:{webhook_port}\")"
   ]
  },
  {
   "cell_type": "markdown",
   "id": "270518cb",
   "metadata": {},
   "source": [
    "## Store Issuing Schema and Cred Def Identifiers\n",
    "\n",
    "If you intend for this agent to issue credentials you should first initialise your agent as an issuer and author the relevant identifiers to the public ledger. The issuer_initialisation recipe notebook can be duplicated and used as a starting point.\n",
    "\n",
    "Once schema and cred def identifiers are created copy across and store in variables as illustrated in the cell below. Be sure to use unique names for each variable."
   ]
  },
  {
   "cell_type": "code",
   "execution_count": null,
   "id": "4ed2981e",
   "metadata": {},
   "outputs": [],
   "source": [
    "one_schema_id='H7zAaLJRZrdbPqbVMMfL5t:2:one-attrib:0.0.2'\n",
    "one_cred_def_id='H7zAaLJRZrdbPqbVMMfL5t:3:CL:15:default'\n",
    "one_rev_cred_def_id='H7zAaLJRZrdbPqbVMMfL5t:3:CL:15:revocable'\n",
    "\n",
    "five_schema_id='H7zAaLJRZrdbPqbVMMfL5t:2:five-attrib:0.0.1'\n",
    "five_cred_def_id='H7zAaLJRZrdbPqbVMMfL5t:3:CL:16:default'\n",
    "five_rev_cred_def_id='H7zAaLJRZrdbPqbVMMfL5t:3:CL:16:revocable'\n",
    "\n",
    "ten_schema_id='H7zAaLJRZrdbPqbVMMfL5t:2:ten-attrib:0.0.1'\n",
    "ten_cred_def_id='H7zAaLJRZrdbPqbVMMfL5t:3:CL:17:default'\n",
    "ten_rev_cred_def_id='H7zAaLJRZrdbPqbVMMfL5t:3:CL:17:revocable'\n",
    "\n",
    "twenty_schema_id='H7zAaLJRZrdbPqbVMMfL5t:2:twenty-attrib:0.0.1'\n",
    "twenty_cred_def_id='H7zAaLJRZrdbPqbVMMfL5t:3:CL:18:default'\n",
    "twenty_rev_cred_def_id='H7zAaLJRZrdbPqbVMMfL5t:3:CL:18:revocable'\n",
    "\n",
    "fifty_schema_id='H7zAaLJRZrdbPqbVMMfL5t:2:fifty-attrib:0.0.1'\n",
    "fifty_cred_def_id='H7zAaLJRZrdbPqbVMMfL5t:3:CL:19:default'\n",
    "fifty_rev_cred_def_id='H7zAaLJRZrdbPqbVMMfL5t:3:CL:19:revocable'\n",
    "\n",
    "hundred_schema_id='H7zAaLJRZrdbPqbVMMfL5t:2:hundred-attrib:0.0.1'\n",
    "hundred_cred_def_id='H7zAaLJRZrdbPqbVMMfL5t:3:CL:20:default'\n",
    "hundred_rev_cred_def_id='H7zAaLJRZrdbPqbVMMfL5t:3:CL:20:revocable'\n",
    "\n"
   ]
  },
  {
   "cell_type": "markdown",
   "id": "2b5205a1",
   "metadata": {},
   "source": [
    "## Init Performance Service"
   ]
  },
  {
   "cell_type": "code",
   "execution_count": null,
   "id": "ecde0190",
   "metadata": {},
   "outputs": [],
   "source": [
    "performance_service = PerformanceService(agent_controller, iterations=20)"
   ]
  },
  {
   "cell_type": "markdown",
   "id": "4482c9b8",
   "metadata": {},
   "source": [
    "## Establish Connection\n",
    "\n",
    "Before you can issue a credential you must first establish a connection across which the credential will be issued to a holder. (see recipes/connection)"
   ]
  },
  {
   "cell_type": "code",
   "execution_count": null,
   "id": "ac73e3f5",
   "metadata": {},
   "outputs": [],
   "source": [
    "# Alias for invited connection\n",
    "alias = \"Friend\"\n",
    "auto_accept = \"true\"\n",
    "# Use public DID?\n",
    "public = \"false\"\n",
    "# Should this invitation be usable by multiple invitees?\n",
    "multi_use = \"false\"\n",
    "\n",
    "invitation_response = await agent_controller.connections.create_invitation(alias, auto_accept, public, multi_use)\n",
    "# Is equivalent to above. Arguments are optionally\n",
    "# invitation_response = await agent_controller.connections.create_invitation()\n",
    "\n",
    "\n",
    "\n",
    "# You will use this identifier to issue a credential across this connection\n",
    "connection_id = invitation_response[\"connection_id\"]\n",
    "\n",
    "invitation = invitation_response[\"invitation\"]\n",
    "## Copy this output\n",
    "print(invitation)\n",
    "print(connection_id)"
   ]
  },
  {
   "cell_type": "code",
   "execution_count": null,
   "id": "47054ba0",
   "metadata": {},
   "outputs": [],
   "source": [
    "connection_id = \"2782d60f-65d0-4e14-8e28-55fa38735468\""
   ]
  },
  {
   "cell_type": "markdown",
   "id": "9f07e889",
   "metadata": {},
   "source": [
    "## Issue Credentials"
   ]
  },
  {
   "cell_type": "code",
   "execution_count": null,
   "id": "012a8b55",
   "metadata": {},
   "outputs": [],
   "source": [
    "credential_attributes = [\n",
    "    {\"name\": \"1\", \"value\":32*\"0\"}\n",
    "]\n",
    "await self.agent_controller.issuer.send_credential(connection_id, one_schema_id, one_cred_def_id, credential_attributes)"
   ]
  },
  {
   "cell_type": "code",
   "execution_count": null,
   "id": "97f2619f",
   "metadata": {},
   "outputs": [],
   "source": [
    "credential_attributes = []\n",
    "\n",
    "for x in range(1,6):\n",
    "    attribute = {\"name\": str(x), \"value\": 32*\"0\"}\n",
    "    credential_attributes.append(attribute)\n",
    "await self.agent_controller.issuer.send_credential(connection_id, five_schema_id, five_cred_def_id, credential_attributes)"
   ]
  },
  {
   "cell_type": "code",
   "execution_count": null,
   "id": "3d530546",
   "metadata": {},
   "outputs": [],
   "source": [
    "credential_attributes = []\n",
    "\n",
    "for x in range(1,11):\n",
    "    attribute = {\"name\": str(x), \"value\": 32*\"0\"}\n",
    "    credential_attributes.append(attribute)\n",
    "await self.agent_controller.issuer.send_credential(connection_id, ten_schema_id, ten_cred_def_id, credential_attributes)"
   ]
  },
  {
   "cell_type": "code",
   "execution_count": null,
   "id": "dcd3fc49",
   "metadata": {},
   "outputs": [],
   "source": [
    "credential_attributes = []\n",
    "\n",
    "for x in range(1,21):\n",
    "    attribute = {\"name\": str(x), \"value\": 32*\"0\"}\n",
    "    credential_attributes.append(attribute)\n",
    "await self.agent_controller.issuer.send_credential(connection_id, twenty_schema_id, twenty_cred_def_id, credential_attributes)"
   ]
  },
  {
   "cell_type": "code",
   "execution_count": null,
   "id": "1f9813dc",
   "metadata": {},
   "outputs": [],
   "source": [
    "credential_attributes = []\n",
    "\n",
    "for x in range(1,51):\n",
    "    attribute = {\"name\": str(x), \"value\": 32*\"0\"}\n",
    "    credential_attributes.append(attribute)\n",
    "await self.agent_controller.issuer.send_credential(connection_id, fifty_schema_id, fifty_cred_def_id, credential_attributes)"
   ]
  },
  {
   "cell_type": "code",
   "execution_count": null,
   "id": "b46549ab",
   "metadata": {},
   "outputs": [],
   "source": [
    "credential_attributes = []\n",
    "\n",
    "for x in range(1,101):\n",
    "    attribute = {\"name\": str(x), \"value\": 32*\"0\"}\n",
    "    credential_attributes.append(attribute)\n",
    "await self.agent_controller.issuer.send_credential(connection_id, hundred_schema_id, hundred_cred_def_id, credential_attributes)"
   ]
  },
  {
   "cell_type": "code",
   "execution_count": null,
   "id": "3656b429",
   "metadata": {},
   "outputs": [],
   "source": [
    "credential_attributes = [\n",
    "    {\"name\": \"1\", \"value\":32*\"0\"}\n",
    "]\n",
    "await self.agent_controller.issuer.send_credential(connection_id, one_schema_id, one_rev_cred_def_id, credential_attributes)"
   ]
  },
  {
   "cell_type": "code",
   "execution_count": null,
   "id": "792b7e9e",
   "metadata": {},
   "outputs": [],
   "source": [
    "credential_attributes = []\n",
    "\n",
    "for x in range(1,6):\n",
    "    attribute = {\"name\": str(x), \"value\": 32*\"0\"}\n",
    "    credential_attributes.append(attribute)\n",
    "await self.agent_controller.issuer.send_credential(connection_id, five_schema_id, five_rev_cred_def_id, credential_attributes)"
   ]
  },
  {
   "cell_type": "code",
   "execution_count": null,
   "id": "761d4c00",
   "metadata": {},
   "outputs": [],
   "source": [
    "credential_attributes = []\n",
    "\n",
    "for x in range(1,11):\n",
    "    attribute = {\"name\": str(x), \"value\": 32*\"0\"}\n",
    "    credential_attributes.append(attribute)\n",
    "await self.agent_controller.issuer.send_credential(connection_id, ten_schema_id, ten_rev_cred_def_id, credential_attributes)"
   ]
  },
  {
   "cell_type": "code",
   "execution_count": null,
   "id": "ca93b14b",
   "metadata": {},
   "outputs": [],
   "source": [
    "credential_attributes = []\n",
    "\n",
    "for x in range(1,21):\n",
    "    attribute = {\"name\": str(x), \"value\": 32*\"0\"}\n",
    "    credential_attributes.append(attribute)\n",
    "await self.agent_controller.issuer.send_credential(connection_id, twenty_schema_id, twenty_rev_cred_def_id, credential_attributes)"
   ]
  },
  {
   "cell_type": "code",
   "execution_count": null,
   "id": "79af4255",
   "metadata": {},
   "outputs": [],
   "source": [
    "credential_attributes = []\n",
    "\n",
    "for x in range(1,51):\n",
    "    attribute = {\"name\": str(x), \"value\": 32*\"0\"}\n",
    "    credential_attributes.append(attribute)\n",
    "await self.agent_controller.issuer.send_credential(connection_id, fifty_schema_id, fifty_rev_cred_def_id, credential_attributes)"
   ]
  },
  {
   "cell_type": "code",
   "execution_count": null,
   "id": "bb21426d",
   "metadata": {},
   "outputs": [],
   "source": [
    "credential_attributes = []\n",
    "\n",
    "for x in range(1,101):\n",
    "    attribute = {\"name\": str(x), \"value\": 32*\"0\"}\n",
    "    credential_attributes.append(attribute)\n",
    "await self.agent_controller.issuer.send_credential(connection_id, hundred_schema_id, hundred_rev_cred_def_id, credential_attributes)"
   ]
  },
  {
   "cell_type": "markdown",
   "id": "1057caf4",
   "metadata": {},
   "source": [
    "## Define Presentation Request Object\n",
    "\n",
    "The below cell defines a generic presentation request object, that can be sent across specific connections requesting that they produce a presentation containing the identified attributes and meeting the restrictions.\n",
    "\n",
    "It is often useful to define your request objects first, then reuse these objects across many connections you wish to request a proof from. \n",
    "\n",
    "Duplicate and customise the below cell as many times as you need. It may be useful to save these request objects either to the jupyter store using %store or through\n",
    "\n",
    "TODO: Detail the full set of restrictions available to a verifier."
   ]
  },
  {
   "cell_type": "code",
   "execution_count": null,
   "id": "bd4096ee",
   "metadata": {},
   "outputs": [],
   "source": [
    "# # We add a constraint that the attribute must originate from this schema\n",
    "# schema_id = \"<SOME SCHEMA ID>\"\n",
    "\n",
    "# trusted_issuer_did = \"<SOME ISSUER DID ON INDY NETWORK>\"\n",
    "\n",
    "# cred_def_id = \"<SOME CRED DEF>\"\n",
    "\n",
    "# # Define the list of attributes and restrictions under which each attribute was issued that a prover must satisfy with a presentation\n",
    "# # NOTE: if identifying a schema or credential definition then the attribute name must be contained within the corresponding schema.\n",
    "# req_attrs = [\n",
    "#     {\"name\": \"<attr_name_1>\", \"restrictions\": [{\"schema_id\": schema_id}]},\n",
    "#     {\"name\": \"<attr_name_2>\", \"restrictions\": [{\"cred_def_id\": cred_def_id}]},\n",
    "#     #NOTE: you do not need to specify any restrictions. This means the prover can present a self-attested attribute to satisfy this request. \n",
    "#     # Although the business logic (this notebook) can still determine this is unacceptable.\n",
    "#     {\"name\": \"<attr_name_3>\", \"restrictions\":[]}\n",
    "#     # You can also specify individual attributes be non-revoked\n",
    "#     {\"name\": \"<attr_name_4>\", \"restrictions\": [], \"non_revoked\": {\"to\": int(time.time() - 1)}}\n",
    "# ]\n",
    "\n",
    "# # We could extend this to request the name attribute aswell if we wanted.\n",
    "\n",
    "\n",
    "# proof_request = {\n",
    "#     \"name\": \"Name of Proof Request\",\n",
    "#     \"version\": \"1.0\",\n",
    "\n",
    "#     # Predicates allow us to specify range proofs or set membership on attributes. For example greater than 10.\n",
    "#     # We will ignore these for now.\n",
    "#     \"requested_predicates\": {\n",
    "# #         f\"0_{req_pred['name']}_GE_uuid\":\n",
    "# #         req_pred for req_pred in req_preds\n",
    "#     },\n",
    "#     # You can also request the entire proof request be non-revoked\n",
    "#     \"non_revoked\":  {\"to\": int(time.time())}\n",
    "# }"
   ]
  },
  {
   "cell_type": "code",
   "execution_count": null,
   "id": "cadc2aa1",
   "metadata": {},
   "outputs": [],
   "source": [
    "proof_request = {\n",
    "    \"name\": \"Name of Proof Request\",\n",
    "    \"version\": \"1.0\",\n",
    "\n",
    "    # Predicates allow us to specify range proofs or set membership on attributes. For example greater than 10.\n",
    "    # We will ignore these for now.\n",
    "    \"requested_predicates\": {\n",
    "#         f\"0_{req_pred['name']}_GE_uuid\":\n",
    "#         req_pred for req_pred in req_preds\n",
    "    },\n",
    "    # You can also request the entire proof request be non-revoked\n",
    "    \"non_revoked\":  {\"to\": int(time.time())}\n",
    "}"
   ]
  },
  {
   "cell_type": "markdown",
   "id": "fd48db21",
   "metadata": {},
   "source": [
    "# Single Disclosed Attribute from Variable Size Credential Experiment\n"
   ]
  },
  {
   "cell_type": "code",
   "execution_count": null,
   "id": "d0308d0a",
   "metadata": {},
   "outputs": [],
   "source": [
    "experiment = performance_service.new_experiment(\"Single Attribute from Variable Credentials - Non Revocable\")\n"
   ]
  },
  {
   "cell_type": "code",
   "execution_count": null,
   "id": "c9a6d36a",
   "metadata": {},
   "outputs": [],
   "source": [
    "revocable_experiment = performance_service.new_experiment(\"Single Attribute from Variable Credential - Revocable\")"
   ]
  },
  {
   "cell_type": "markdown",
   "id": "d6f06601",
   "metadata": {},
   "source": [
    "## Performance Test - One Attribute Credential"
   ]
  },
  {
   "cell_type": "code",
   "execution_count": null,
   "id": "70e2d360",
   "metadata": {},
   "outputs": [],
   "source": [
    "req_attrs = [\n",
    "    {\"name\": \"1\", \"restrictions\": [{\"schema_id\": one_schema_id, \"cred_def_id\": one_cred_def_id}]},\n",
    "]\n",
    "\n",
    "proof_request[\"requested_attributes\"] = {\n",
    "        # They generally follow this uuid pattern. Unique identifier for attribute within context of this proof request\n",
    "        # Note that req_attr['name'] gets the attribute name of each object. E.g. domain and name in this case\n",
    "        f\"0_{req_attr['name']}_uuid\":\n",
    "        req_attr for req_attr in req_attrs\n",
    "}"
   ]
  },
  {
   "cell_type": "code",
   "execution_count": null,
   "id": "53b42246",
   "metadata": {},
   "outputs": [],
   "source": [
    "name = \"1\""
   ]
  },
  {
   "cell_type": "code",
   "execution_count": null,
   "id": "6c6ad346",
   "metadata": {},
   "outputs": [],
   "source": [
    "test = {\"name\": name, \"proof_request\": proof_request}\n",
    "\n",
    "await performance_service.run_verification(experiment, test, connection_id)"
   ]
  },
  {
   "cell_type": "code",
   "execution_count": null,
   "id": "f0ed2d83",
   "metadata": {},
   "outputs": [],
   "source": [
    "req_attrs = [\n",
    "    {\"name\": \"1\", \"restrictions\": [{\"schema_id\": one_schema_id, \"cred_def_id\": one_rev_cred_def_id}]},\n",
    "]\n",
    "\n",
    "proof_request[\"requested_attributes\"] = {\n",
    "        # They generally follow this uuid pattern. Unique identifier for attribute within context of this proof request\n",
    "        # Note that req_attr['name'] gets the attribute name of each object. E.g. domain and name in this case\n",
    "        f\"0_{req_attr['name']}_uuid\":\n",
    "        req_attr for req_attr in req_attrs\n",
    "}"
   ]
  },
  {
   "cell_type": "code",
   "execution_count": null,
   "id": "5bfc8812",
   "metadata": {},
   "outputs": [],
   "source": [
    "test = {\"name\": name, \"proof_request\": proof_request}\n",
    "\n",
    "await performance_service.run_verification(revocable_experiment, test, connection_id)"
   ]
  },
  {
   "cell_type": "markdown",
   "id": "7b7dbdb8",
   "metadata": {},
   "source": [
    "## Performance Test - Five Attribute Credential"
   ]
  },
  {
   "cell_type": "code",
   "execution_count": null,
   "id": "a0a98547",
   "metadata": {},
   "outputs": [],
   "source": [
    "req_attrs = [\n",
    "    {\"name\": \"1\", \"restrictions\": [{\"schema_id\": five_schema_id, \"cred_def_id\": five_cred_def_id}]},\n",
    "]\n",
    "\n",
    "proof_request[\"requested_attributes\"] = {\n",
    "        # They generally follow this uuid pattern. Unique identifier for attribute within context of this proof request\n",
    "        # Note that req_attr['name'] gets the attribute name of each object. E.g. domain and name in this case\n",
    "        f\"0_{req_attr['name']}_uuid\":\n",
    "        req_attr for req_attr in req_attrs\n",
    "}"
   ]
  },
  {
   "cell_type": "code",
   "execution_count": null,
   "id": "06a281c1",
   "metadata": {},
   "outputs": [],
   "source": [
    "name = \"5\""
   ]
  },
  {
   "cell_type": "code",
   "execution_count": null,
   "id": "5bb5809d",
   "metadata": {},
   "outputs": [],
   "source": [
    "test = {\"name\": name, \"proof_request\": proof_request}\n",
    "\n",
    "await performance_service.run_verification(experiment, test, connection_id)"
   ]
  },
  {
   "cell_type": "code",
   "execution_count": null,
   "id": "5c7af3c2",
   "metadata": {},
   "outputs": [],
   "source": [
    "req_attrs = [\n",
    "    {\"name\": \"1\", \"restrictions\": [{\"schema_id\": five_schema_id, \"cred_def_id\": five_rev_cred_def_id}]},\n",
    "]\n",
    "\n",
    "proof_request[\"requested_attributes\"] = {\n",
    "        # They generally follow this uuid pattern. Unique identifier for attribute within context of this proof request\n",
    "        # Note that req_attr['name'] gets the attribute name of each object. E.g. domain and name in this case\n",
    "        f\"0_{req_attr['name']}_uuid\":\n",
    "        req_attr for req_attr in req_attrs\n",
    "}"
   ]
  },
  {
   "cell_type": "code",
   "execution_count": null,
   "id": "17d7a71a",
   "metadata": {},
   "outputs": [],
   "source": [
    "test = {\"name\": name, \"proof_request\": proof_request}\n",
    "\n",
    "await performance_service.run_verification(revocable_experiment, test, connection_id)"
   ]
  },
  {
   "cell_type": "markdown",
   "id": "c45281b9",
   "metadata": {},
   "source": [
    "## Performance Test - Fice Attribute Credential"
   ]
  },
  {
   "cell_type": "code",
   "execution_count": null,
   "id": "c36dd02e",
   "metadata": {},
   "outputs": [],
   "source": [
    "req_attrs = [\n",
    "    {\"name\": \"1\", \"restrictions\": [{\"schema_id\": ten_schema_id, \"cred_def_id\": ten_cred_def_id}]},\n",
    "]\n",
    "\n",
    "proof_request[\"requested_attributes\"] = {\n",
    "        # They generally follow this uuid pattern. Unique identifier for attribute within context of this proof request\n",
    "        # Note that req_attr['name'] gets the attribute name of each object. E.g. domain and name in this case\n",
    "        f\"0_{req_attr['name']}_uuid\":\n",
    "        req_attr for req_attr in req_attrs\n",
    "}"
   ]
  },
  {
   "cell_type": "code",
   "execution_count": null,
   "id": "d49b5575",
   "metadata": {},
   "outputs": [],
   "source": [
    "name = \"10\""
   ]
  },
  {
   "cell_type": "code",
   "execution_count": null,
   "id": "edfd96cb",
   "metadata": {},
   "outputs": [],
   "source": [
    "test = {\"name\": name, \"proof_request\": proof_request}\n",
    "\n",
    "await performance_service.run_verification(experiment, test, connection_id)"
   ]
  },
  {
   "cell_type": "code",
   "execution_count": null,
   "id": "df7fd5e8",
   "metadata": {},
   "outputs": [],
   "source": [
    "req_attrs = [\n",
    "    {\"name\": \"1\", \"restrictions\": [{\"schema_id\": ten_schema_id, \"cred_def_id\": ten_rev_cred_def_id}]},\n",
    "]\n",
    "\n",
    "proof_request[\"requested_attributes\"] = {\n",
    "        # They generally follow this uuid pattern. Unique identifier for attribute within context of this proof request\n",
    "        # Note that req_attr['name'] gets the attribute name of each object. E.g. domain and name in this case\n",
    "        f\"0_{req_attr['name']}_uuid\":\n",
    "        req_attr for req_attr in req_attrs\n",
    "}"
   ]
  },
  {
   "cell_type": "code",
   "execution_count": null,
   "id": "55d44621",
   "metadata": {},
   "outputs": [],
   "source": [
    "test = {\"name\": name, \"proof_request\": proof_request}\n",
    "\n",
    "await performance_service.run_verification(revocable_experiment, test, connection_id)"
   ]
  },
  {
   "cell_type": "markdown",
   "id": "5f3bbe1d",
   "metadata": {},
   "source": [
    "## Performance Test - Twenty Attribute Credential"
   ]
  },
  {
   "cell_type": "code",
   "execution_count": null,
   "id": "222ef333",
   "metadata": {},
   "outputs": [],
   "source": [
    "req_attrs = [\n",
    "    {\"name\": \"1\", \"restrictions\": [{\"schema_id\": twenty_schema_id, \"cred_def_id\": twenty_cred_def_id}]},\n",
    "]\n",
    "\n",
    "proof_request[\"requested_attributes\"] = {\n",
    "        # They generally follow this uuid pattern. Unique identifier for attribute within context of this proof request\n",
    "        # Note that req_attr['name'] gets the attribute name of each object. E.g. domain and name in this case\n",
    "        f\"0_{req_attr['name']}_uuid\":\n",
    "        req_attr for req_attr in req_attrs\n",
    "}"
   ]
  },
  {
   "cell_type": "code",
   "execution_count": null,
   "id": "dbc6a3dd",
   "metadata": {},
   "outputs": [],
   "source": [
    "name = \"20\""
   ]
  },
  {
   "cell_type": "code",
   "execution_count": null,
   "id": "3f248d0e",
   "metadata": {},
   "outputs": [],
   "source": [
    "test = {\"name\": name, \"proof_request\": proof_request}\n",
    "\n",
    "await performance_service.run_verification(experiment, test, connection_id)"
   ]
  },
  {
   "cell_type": "code",
   "execution_count": null,
   "id": "236d46d1",
   "metadata": {},
   "outputs": [],
   "source": [
    "req_attrs = [\n",
    "    {\"name\": \"1\", \"restrictions\": [{\"schema_id\": twenty_schema_id, \"cred_def_id\": twenty_rev_cred_def_id}]},\n",
    "]\n",
    "\n",
    "proof_request[\"requested_attributes\"] = {\n",
    "        # They generally follow this uuid pattern. Unique identifier for attribute within context of this proof request\n",
    "        # Note that req_attr['name'] gets the attribute name of each object. E.g. domain and name in this case\n",
    "        f\"0_{req_attr['name']}_uuid\":\n",
    "        req_attr for req_attr in req_attrs\n",
    "}"
   ]
  },
  {
   "cell_type": "code",
   "execution_count": null,
   "id": "4279aa6f",
   "metadata": {},
   "outputs": [],
   "source": [
    "test = {\"name\": name, \"proof_request\": proof_request}\n",
    "\n",
    "await performance_service.run_verification(revocable_experiment, test, connection_id)"
   ]
  },
  {
   "cell_type": "markdown",
   "id": "57aaeed0",
   "metadata": {},
   "source": [
    "## Performance Test - Fifty Attribute Credential"
   ]
  },
  {
   "cell_type": "code",
   "execution_count": null,
   "id": "ad6bedb0",
   "metadata": {},
   "outputs": [],
   "source": [
    "req_attrs = [\n",
    "    {\"name\": \"1\", \"restrictions\": [{\"schema_id\": fifty_schema_id, \"cred_def_id\": fifty_cred_def_id}]},\n",
    "]\n",
    "\n",
    "proof_request[\"requested_attributes\"] = {\n",
    "        # They generally follow this uuid pattern. Unique identifier for attribute within context of this proof request\n",
    "        # Note that req_attr['name'] gets the attribute name of each object. E.g. domain and name in this case\n",
    "        f\"0_{req_attr['name']}_uuid\":\n",
    "        req_attr for req_attr in req_attrs\n",
    "}"
   ]
  },
  {
   "cell_type": "code",
   "execution_count": null,
   "id": "bdc2719f",
   "metadata": {},
   "outputs": [],
   "source": [
    "name = \"50\""
   ]
  },
  {
   "cell_type": "code",
   "execution_count": null,
   "id": "a799f51b",
   "metadata": {},
   "outputs": [],
   "source": [
    "test = {\"name\": name, \"proof_request\": proof_request}\n",
    "\n",
    "await performance_service.run_verification(experiment, test, connection_id)"
   ]
  },
  {
   "cell_type": "code",
   "execution_count": null,
   "id": "4f396385",
   "metadata": {},
   "outputs": [],
   "source": [
    "req_attrs = [\n",
    "    {\"name\": \"1\", \"restrictions\": [{\"schema_id\": fifty_schema_id, \"cred_def_id\": fifty_rev_cred_def_id}]},\n",
    "]\n",
    "\n",
    "proof_request[\"requested_attributes\"] = {\n",
    "        # They generally follow this uuid pattern. Unique identifier for attribute within context of this proof request\n",
    "        # Note that req_attr['name'] gets the attribute name of each object. E.g. domain and name in this case\n",
    "        f\"0_{req_attr['name']}_uuid\":\n",
    "        req_attr for req_attr in req_attrs\n",
    "}"
   ]
  },
  {
   "cell_type": "code",
   "execution_count": null,
   "id": "d2bb949f",
   "metadata": {},
   "outputs": [],
   "source": [
    "test = {\"name\": name, \"proof_request\": proof_request}\n",
    "\n",
    "await performance_service.run_verification(revocable_experiment, test, connection_id)"
   ]
  },
  {
   "cell_type": "markdown",
   "id": "f4728a66",
   "metadata": {},
   "source": [
    "## Performance Test - Hundred Attribute Credential"
   ]
  },
  {
   "cell_type": "code",
   "execution_count": null,
   "id": "883b6ae6",
   "metadata": {},
   "outputs": [],
   "source": [
    "req_attrs = [\n",
    "    {\"name\": \"1\", \"restrictions\": [{\"schema_id\": hundred_schema_id, \"cred_def_id\": hundred_cred_def_id}]},\n",
    "]\n",
    "\n",
    "proof_request[\"requested_attributes\"] = {\n",
    "        # They generally follow this uuid pattern. Unique identifier for attribute within context of this proof request\n",
    "        # Note that req_attr['name'] gets the attribute name of each object. E.g. domain and name in this case\n",
    "        f\"0_{req_attr['name']}_uuid\":\n",
    "        req_attr for req_attr in req_attrs\n",
    "}"
   ]
  },
  {
   "cell_type": "code",
   "execution_count": null,
   "id": "8e529824",
   "metadata": {},
   "outputs": [],
   "source": [
    "name = \"100\""
   ]
  },
  {
   "cell_type": "code",
   "execution_count": null,
   "id": "6d0d349b",
   "metadata": {},
   "outputs": [],
   "source": [
    "test = {\"name\": name, \"proof_request\": proof_request}\n",
    "\n",
    "await performance_service.run_verification(experiment, test, connection_id)"
   ]
  },
  {
   "cell_type": "code",
   "execution_count": null,
   "id": "e668db16",
   "metadata": {},
   "outputs": [],
   "source": [
    "req_attrs = [\n",
    "    {\"name\": \"1\", \"restrictions\": [{\"schema_id\": hundred_schema_id, \"cred_def_id\": hundred_rev_cred_def_id}]},\n",
    "]\n",
    "\n",
    "proof_request[\"requested_attributes\"] = {\n",
    "        # They generally follow this uuid pattern. Unique identifier for attribute within context of this proof request\n",
    "        # Note that req_attr['name'] gets the attribute name of each object. E.g. domain and name in this case\n",
    "        f\"0_{req_attr['name']}_uuid\":\n",
    "        req_attr for req_attr in req_attrs\n",
    "}"
   ]
  },
  {
   "cell_type": "code",
   "execution_count": null,
   "id": "6d9efc73",
   "metadata": {},
   "outputs": [],
   "source": [
    "test = {\"name\": name, \"proof_request\": proof_request}\n",
    "\n",
    "await performance_service.run_verification(revocable_experiment, test, connection_id)"
   ]
  },
  {
   "cell_type": "markdown",
   "id": "2789bc50",
   "metadata": {},
   "source": [
    "## Plot Results"
   ]
  },
  {
   "cell_type": "markdown",
   "id": "ae2c3346",
   "metadata": {},
   "source": [
    "### Non Revocable"
   ]
  },
  {
   "cell_type": "code",
   "execution_count": null,
   "id": "3bfa1514",
   "metadata": {},
   "outputs": [],
   "source": [
    "data = []\n",
    "labels = []\n",
    "non_revocable_averages = []\n",
    "for result in experiment[\"results\"]:\n",
    "    \n",
    "    if result[\"name\"] != \"1\":\n",
    "        millitimings = [i * 1000 for i in result[\"timings\"]]\n",
    "        data.append(millitimings)\n",
    "        non_revocable_averages.append(result[\"average\"] * 1000)\n",
    "        labels.append(result[\"name\"])\n",
    "\n"
   ]
  },
  {
   "cell_type": "code",
   "execution_count": null,
   "id": "6444fbe0",
   "metadata": {},
   "outputs": [],
   "source": [
    "# Import libraries\n",
    "import matplotlib.pyplot as plt\n",
    "import numpy as np\n",
    " \n",
    "\n",
    " \n",
    "fig = plt.figure(figsize =(10, 10))\n",
    " \n",
    "# Creating axes instance\n",
    "ax = fig.add_axes([0.1,0.1,0.75,0.75]) \n",
    " \n",
    "# Creating plot`\n",
    "bp = ax.boxplot(data, patch_artist = True,\n",
    "                notch ='True')\n",
    "\n",
    "# x-axis labels\n",
    "ax.set_xticklabels(labels)\n",
    "\n",
    "plt.ylabel(\"Milliseconds\")\n",
    "plt.xlabel(\"Credential Size (Bytes)\")\n",
    "\n",
    "plt.savefig(\"results/verification/fixed_disclosure_variable_attrib_number/box_plot_non_revocable.png\")"
   ]
  },
  {
   "cell_type": "markdown",
   "id": "2ecaa86d",
   "metadata": {},
   "source": [
    "### Revocable"
   ]
  },
  {
   "cell_type": "code",
   "execution_count": null,
   "id": "8959091d",
   "metadata": {},
   "outputs": [],
   "source": [
    "data = []\n",
    "labels = []\n",
    "revocable_averages = []\n",
    "for result in revocable_experiment[\"results\"]:\n",
    "    \n",
    "    millitimings = [i * 1000 for i in result[\"timings\"]]\n",
    "    data.append(millitimings)\n",
    "    revocable_averages.append(result[\"average\"] * 1000)\n",
    "    labels.append(result[\"name\"])\n",
    "    \n"
   ]
  },
  {
   "cell_type": "code",
   "execution_count": null,
   "id": "133d71a3",
   "metadata": {},
   "outputs": [],
   "source": [
    "# Import libraries\n",
    "import matplotlib.pyplot as plt\n",
    "import numpy as np\n",
    " \n",
    "\n",
    " \n",
    "fig = plt.figure(figsize =(10, 10))\n",
    " \n",
    "# Creating axes instance\n",
    "ax = fig.add_axes([0.1,0.1,0.75,0.75]) \n",
    " \n",
    "# Creating plot`\n",
    "bp = ax.boxplot(data, patch_artist = True,\n",
    "                notch ='True')\n",
    "\n",
    "# x-axis labels\n",
    "ax.set_xticklabels(labels)\n",
    "\n",
    "plt.ylabel(\"Milliseconds\")\n",
    "plt.xlabel(\"Credential Size (Bytes)\")\n",
    "\n",
    "plt.savefig(\"results/verification/fixed_disclosure_variable_attrib_number/box_plot_revocable.png\")"
   ]
  },
  {
   "cell_type": "markdown",
   "id": "13de0d1c",
   "metadata": {},
   "source": [
    "## Averages"
   ]
  },
  {
   "cell_type": "code",
   "execution_count": null,
   "id": "0f61a7ba",
   "metadata": {},
   "outputs": [],
   "source": [
    "fig = plt.figure(figsize =(10, 10))\n",
    " \n",
    "# Creating axes instance\n",
    "ax = fig.add_axes([0.1,0.1,0.75,0.75]) \n",
    "\n",
    "# avg_ploy = plt.plot(labels, revocable_averages, non_revoked_averages)\n",
    "\n",
    "plt.plot(labels, revocable_averages,'r-',label='Revocable Credential Presentation Averages')\n",
    "plt.plot(labels, non_revocable_averages,label='Non Revocable Credential Presentation Averages')\n",
    "\n",
    "plt.ylabel(\"Milliseconds\")\n",
    "plt.xlabel(\"Credential_size (Bytes)\")\n",
    "\n",
    "\n",
    "plt.legend()\n",
    "plt.savefig(\"results/verification/fixed_disclosure_variable_attrib_number/averages.png\")"
   ]
  },
  {
   "cell_type": "markdown",
   "id": "ad1f7137",
   "metadata": {},
   "source": [
    "## Terminate Controller\n",
    "\n",
    "Whenever you have finished with this notebook, be sure to terminate the controller. This is especially important if your business logic runs across multiple notebooks."
   ]
  },
  {
   "cell_type": "code",
   "execution_count": null,
   "id": "8d9f94fd",
   "metadata": {},
   "outputs": [],
   "source": [
    "await agent_controller.terminate()"
   ]
  },
  {
   "cell_type": "code",
   "execution_count": null,
   "id": "00c835cb",
   "metadata": {},
   "outputs": [],
   "source": []
  }
 ],
 "metadata": {
  "kernelspec": {
   "display_name": "Python 3",
   "language": "python",
   "name": "python3"
  },
  "language_info": {
   "codemirror_mode": {
    "name": "ipython",
    "version": 3
   },
   "file_extension": ".py",
   "mimetype": "text/x-python",
   "name": "python",
   "nbconvert_exporter": "python",
   "pygments_lexer": "ipython3",
   "version": "3.7.6"
  }
 },
 "nbformat": 4,
 "nbformat_minor": 5
}
