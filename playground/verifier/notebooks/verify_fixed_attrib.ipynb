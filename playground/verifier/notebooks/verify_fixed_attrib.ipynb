{
 "cells": [
  {
   "cell_type": "markdown",
   "id": "6ff4eb46",
   "metadata": {},
   "source": [
    "# Performance Test\n",
    "\n",
    "## Verify Fixed Disclosure from Variable Attribute Schema"
   ]
  },
  {
   "cell_type": "markdown",
   "id": "a86383bd",
   "metadata": {},
   "source": [
    "### Imports"
   ]
  },
  {
   "cell_type": "code",
   "execution_count": 1,
   "id": "b9b77124",
   "metadata": {},
   "outputs": [],
   "source": [
    "from aries_cloudcontroller import AriesAgentController\n",
    "\n",
    "from libs.performance_service import PerformanceService\n",
    "import os\n",
    "import time\n",
    "from termcolor import colored"
   ]
  },
  {
   "cell_type": "markdown",
   "id": "56f80d4b",
   "metadata": {},
   "source": [
    "### Initialise the Agent Controller"
   ]
  },
  {
   "cell_type": "code",
   "execution_count": 2,
   "id": "810ad9d3",
   "metadata": {},
   "outputs": [
    {
     "name": "stdout",
     "output_type": "stream",
     "text": [
      "Initialising a controller with admin api at http://verifier-agent:3021 and an api key of adminApiKey\n"
     ]
    }
   ],
   "source": [
    "api_key = os.getenv(\"ACAPY_ADMIN_API_KEY\")\n",
    "admin_url = os.getenv(\"ADMIN_URL\")\n",
    "\n",
    "print(f\"Initialising a controller with admin api at {admin_url} and an api key of {api_key}\")\n",
    "agent_controller = AriesAgentController(admin_url,api_key)"
   ]
  },
  {
   "cell_type": "markdown",
   "id": "e1fbd596",
   "metadata": {},
   "source": [
    "### Start a Webhook Server"
   ]
  },
  {
   "cell_type": "code",
   "execution_count": 3,
   "id": "65c14e24",
   "metadata": {},
   "outputs": [
    {
     "name": "stdout",
     "output_type": "stream",
     "text": [
      "Listening for webhooks from agent at http://0.0.0.0:3010\n"
     ]
    }
   ],
   "source": [
    "webhook_port = int(os.getenv(\"WEBHOOK_PORT\"))\n",
    "webhook_host = \"0.0.0.0\"\n",
    "\n",
    "await agent_controller.init_webhook_server(webhook_host, webhook_port)\n",
    "\n",
    "print(f\"Listening for webhooks from agent at http://{webhook_host}:{webhook_port}\")"
   ]
  },
  {
   "cell_type": "markdown",
   "id": "aea617c4",
   "metadata": {},
   "source": [
    "## Store Issuing Schema and Cred Def Identifiers\n",
    "\n",
    "If you intend for this agent to issue credentials you should first initialise your agent as an issuer and author the relevant identifiers to the public ledger. The issuer_initialisation recipe notebook can be duplicated and used as a starting point.\n",
    "\n",
    "Once schema and cred def identifiers are created copy across and store in variables as illustrated in the cell below. Be sure to use unique names for each variable."
   ]
  },
  {
   "cell_type": "code",
   "execution_count": 4,
   "id": "edd43b24",
   "metadata": {},
   "outputs": [],
   "source": [
    "one_schema_id='H7zAaLJRZrdbPqbVMMfL5t:2:one-attrib:0.0.2'\n",
    "one_cred_def_id='H7zAaLJRZrdbPqbVMMfL5t:3:CL:15:default'\n",
    "one_rev_cred_def_id='H7zAaLJRZrdbPqbVMMfL5t:3:CL:15:revocable'\n",
    "\n",
    "five_schema_id='H7zAaLJRZrdbPqbVMMfL5t:2:five-attrib:0.0.1'\n",
    "five_cred_def_id='H7zAaLJRZrdbPqbVMMfL5t:3:CL:16:default'\n",
    "five_rev_cred_def_id='H7zAaLJRZrdbPqbVMMfL5t:3:CL:16:revocable'\n",
    "\n",
    "ten_schema_id='H7zAaLJRZrdbPqbVMMfL5t:2:ten-attrib:0.0.1'\n",
    "ten_cred_def_id='H7zAaLJRZrdbPqbVMMfL5t:3:CL:17:default'\n",
    "ten_rev_cred_def_id='H7zAaLJRZrdbPqbVMMfL5t:3:CL:17:revocable'\n",
    "\n",
    "twenty_schema_id='H7zAaLJRZrdbPqbVMMfL5t:2:twenty-attrib:0.0.1'\n",
    "twenty_cred_def_id='H7zAaLJRZrdbPqbVMMfL5t:3:CL:18:default'\n",
    "twenty_rev_cred_def_id='H7zAaLJRZrdbPqbVMMfL5t:3:CL:18:revocable'\n",
    "\n",
    "fifty_schema_id='H7zAaLJRZrdbPqbVMMfL5t:2:fifty-attrib:0.0.1'\n",
    "fifty_cred_def_id='H7zAaLJRZrdbPqbVMMfL5t:3:CL:19:default'\n",
    "fifty_rev_cred_def_id='H7zAaLJRZrdbPqbVMMfL5t:3:CL:19:revocable'\n",
    "\n",
    "hundred_schema_id='H7zAaLJRZrdbPqbVMMfL5t:2:hundred-attrib:0.0.1'\n",
    "hundred_cred_def_id='H7zAaLJRZrdbPqbVMMfL5t:3:CL:20:default'\n",
    "hundred_rev_cred_def_id='H7zAaLJRZrdbPqbVMMfL5t:3:CL:20:revocable'\n",
    "\n"
   ]
  },
  {
   "cell_type": "markdown",
   "id": "2399ef01",
   "metadata": {},
   "source": [
    "## Init Performance Service"
   ]
  },
  {
   "cell_type": "code",
   "execution_count": 5,
   "id": "567db3c9",
   "metadata": {},
   "outputs": [],
   "source": [
    "performance_service = PerformanceService(agent_controller, iterations=100)"
   ]
  },
  {
   "cell_type": "markdown",
   "id": "0f1959e0",
   "metadata": {},
   "source": [
    "## Establish Connection\n",
    "\n",
    "Before you can issue a credential you must first establish a connection across which the credential will be issued to a holder. (see recipes/connection)"
   ]
  },
  {
   "cell_type": "code",
   "execution_count": 6,
   "id": "f9367876",
   "metadata": {},
   "outputs": [
    {
     "name": "stdout",
     "output_type": "stream",
     "text": [
      "{'@type': 'did:sov:BzCbsNYhMrjHiqZDTUASHg;spec/connections/1.0/invitation', '@id': 'eb11d20d-eb3f-4147-9b27-df23e2b87376', 'serviceEndpoint': 'http://verifier-agent:3020', 'recipientKeys': ['6LrnLy49Ni63FHx5xBRwD9r5EhQwjuYqHHcV17VGUian'], 'label': 'Verifier'}\n",
      "aa31be98-f92b-41b3-a464-79f041275849\n"
     ]
    }
   ],
   "source": [
    "# Alias for invited connection\n",
    "alias = \"Friend\"\n",
    "auto_accept = \"true\"\n",
    "# Use public DID?\n",
    "public = \"false\"\n",
    "# Should this invitation be usable by multiple invitees?\n",
    "multi_use = \"false\"\n",
    "\n",
    "invitation_response = await agent_controller.connections.create_invitation(alias, auto_accept, public, multi_use)\n",
    "# Is equivalent to above. Arguments are optionally\n",
    "# invitation_response = await agent_controller.connections.create_invitation()\n",
    "\n",
    "\n",
    "\n",
    "# You will use this identifier to issue a credential across this connection\n",
    "connection_id = invitation_response[\"connection_id\"]\n",
    "\n",
    "invitation = invitation_response[\"invitation\"]\n",
    "## Copy this output\n",
    "print(invitation)\n",
    "print(connection_id)"
   ]
  },
  {
   "cell_type": "code",
   "execution_count": 7,
   "id": "06b5a279",
   "metadata": {},
   "outputs": [],
   "source": [
    "connection_id = \"3aaf07e2-d41b-4dff-903d-6acc4b21c3af\""
   ]
  },
  {
   "cell_type": "markdown",
   "id": "b694c9db",
   "metadata": {},
   "source": [
    "## Define Presentation Request Object\n"
   ]
  },
  {
   "cell_type": "code",
   "execution_count": 8,
   "id": "c6a1c39e",
   "metadata": {},
   "outputs": [],
   "source": [
    "proof_request = {\n",
    "    \"name\": \"Name of Proof Request\",\n",
    "    \"version\": \"1.0\",\n",
    "\n",
    "    # Predicates allow us to specify range proofs or set membership on attributes. For example greater than 10.\n",
    "    # We will ignore these for now.\n",
    "    \"requested_predicates\": {\n",
    "#         f\"0_{req_pred['name']}_GE_uuid\":\n",
    "#         req_pred for req_pred in req_preds\n",
    "    },\n",
    "    # You can also request the entire proof request be non-revoked\n",
    "    \"non_revoked\":  {\"to\": int(time.time())}\n",
    "}"
   ]
  },
  {
   "cell_type": "markdown",
   "id": "c63c07b0",
   "metadata": {},
   "source": [
    "# Single Disclosed Attribute from Variable Size Credential Experiment\n"
   ]
  },
  {
   "cell_type": "code",
   "execution_count": 9,
   "id": "ebf4f680",
   "metadata": {},
   "outputs": [],
   "source": [
    "experiment = performance_service.new_experiment(\"Single Attribute from Variable Credentials - Non Revocable\")\n"
   ]
  },
  {
   "cell_type": "code",
   "execution_count": 10,
   "id": "4b701ced",
   "metadata": {},
   "outputs": [],
   "source": [
    "revocable_experiment = performance_service.new_experiment(\"Single Attribute from Variable Credential - Revocable\")"
   ]
  },
  {
   "cell_type": "markdown",
   "id": "91f3e279",
   "metadata": {},
   "source": [
    "## Performance Test - One Attribute Credential"
   ]
  },
  {
   "cell_type": "code",
   "execution_count": 11,
   "id": "8e54991a",
   "metadata": {},
   "outputs": [],
   "source": [
    "req_attrs = [\n",
    "    {\"name\": \"1\", \"restrictions\": [{\"schema_id\": one_schema_id, \"cred_def_id\": one_cred_def_id}]},\n",
    "]\n",
    "\n",
    "proof_request[\"requested_attributes\"] = {\n",
    "        # They generally follow this uuid pattern. Unique identifier for attribute within context of this proof request\n",
    "        # Note that req_attr['name'] gets the attribute name of each object. E.g. domain and name in this case\n",
    "        f\"0_{req_attr['name']}_uuid\":\n",
    "        req_attr for req_attr in req_attrs\n",
    "}"
   ]
  },
  {
   "cell_type": "code",
   "execution_count": 12,
   "id": "9dab722a",
   "metadata": {},
   "outputs": [],
   "source": [
    "name = \"1\""
   ]
  },
  {
   "cell_type": "code",
   "execution_count": 13,
   "id": "8b1dbcf5",
   "metadata": {},
   "outputs": [
    {
     "name": "stdout",
     "output_type": "stream",
     "text": [
      "Average :  0.31204176397015543\n"
     ]
    }
   ],
   "source": [
    "test = {\"name\": name, \"proof_request\": proof_request}\n",
    "\n",
    "await performance_service.run_verification(experiment, test, connection_id)"
   ]
  },
  {
   "cell_type": "code",
   "execution_count": 14,
   "id": "2096020b",
   "metadata": {},
   "outputs": [],
   "source": [
    "req_attrs = [\n",
    "    {\"name\": \"1\", \"restrictions\": [{\"schema_id\": one_schema_id, \"cred_def_id\": one_rev_cred_def_id}]},\n",
    "]\n",
    "\n",
    "proof_request[\"requested_attributes\"] = {\n",
    "        # They generally follow this uuid pattern. Unique identifier for attribute within context of this proof request\n",
    "        # Note that req_attr['name'] gets the attribute name of each object. E.g. domain and name in this case\n",
    "        f\"0_{req_attr['name']}_uuid\":\n",
    "        req_attr for req_attr in req_attrs\n",
    "}"
   ]
  },
  {
   "cell_type": "code",
   "execution_count": 15,
   "id": "a514be88",
   "metadata": {},
   "outputs": [
    {
     "name": "stdout",
     "output_type": "stream",
     "text": [
      "Average :  1.0849647952197847\n"
     ]
    }
   ],
   "source": [
    "test = {\"name\": name, \"proof_request\": proof_request}\n",
    "\n",
    "await performance_service.run_verification(revocable_experiment, test, connection_id)"
   ]
  },
  {
   "cell_type": "markdown",
   "id": "880cb0ae",
   "metadata": {},
   "source": [
    "## Performance Test - Five Attribute Credential"
   ]
  },
  {
   "cell_type": "code",
   "execution_count": 16,
   "id": "e8b5db5b",
   "metadata": {},
   "outputs": [],
   "source": [
    "req_attrs = [\n",
    "    {\"name\": \"1\", \"restrictions\": [{\"schema_id\": five_schema_id, \"cred_def_id\": five_cred_def_id}]},\n",
    "]\n",
    "\n",
    "proof_request[\"requested_attributes\"] = {\n",
    "        # They generally follow this uuid pattern. Unique identifier for attribute within context of this proof request\n",
    "        # Note that req_attr['name'] gets the attribute name of each object. E.g. domain and name in this case\n",
    "        f\"0_{req_attr['name']}_uuid\":\n",
    "        req_attr for req_attr in req_attrs\n",
    "}"
   ]
  },
  {
   "cell_type": "code",
   "execution_count": 17,
   "id": "d9ab8e58",
   "metadata": {},
   "outputs": [],
   "source": [
    "name = \"5\""
   ]
  },
  {
   "cell_type": "code",
   "execution_count": 18,
   "id": "43dd585d",
   "metadata": {},
   "outputs": [
    {
     "name": "stdout",
     "output_type": "stream",
     "text": [
      "Average :  0.38819501604019024\n"
     ]
    }
   ],
   "source": [
    "test = {\"name\": name, \"proof_request\": proof_request}\n",
    "\n",
    "await performance_service.run_verification(experiment, test, connection_id)"
   ]
  },
  {
   "cell_type": "code",
   "execution_count": 19,
   "id": "b1da6a51",
   "metadata": {},
   "outputs": [],
   "source": [
    "req_attrs = [\n",
    "    {\"name\": \"1\", \"restrictions\": [{\"schema_id\": five_schema_id, \"cred_def_id\": five_rev_cred_def_id}]},\n",
    "]\n",
    "\n",
    "proof_request[\"requested_attributes\"] = {\n",
    "        # They generally follow this uuid pattern. Unique identifier for attribute within context of this proof request\n",
    "        # Note that req_attr['name'] gets the attribute name of each object. E.g. domain and name in this case\n",
    "        f\"0_{req_attr['name']}_uuid\":\n",
    "        req_attr for req_attr in req_attrs\n",
    "}"
   ]
  },
  {
   "cell_type": "code",
   "execution_count": 20,
   "id": "327d3e17",
   "metadata": {},
   "outputs": [
    {
     "name": "stdout",
     "output_type": "stream",
     "text": [
      "Average :  1.0826870859800692\n"
     ]
    }
   ],
   "source": [
    "test = {\"name\": name, \"proof_request\": proof_request}\n",
    "\n",
    "await performance_service.run_verification(revocable_experiment, test, connection_id)"
   ]
  },
  {
   "cell_type": "markdown",
   "id": "7d126aa5",
   "metadata": {},
   "source": [
    "## Performance Test - Ten Attribute Credential"
   ]
  },
  {
   "cell_type": "code",
   "execution_count": 21,
   "id": "93c427f4",
   "metadata": {},
   "outputs": [],
   "source": [
    "req_attrs = [\n",
    "    {\"name\": \"1\", \"restrictions\": [{\"schema_id\": ten_schema_id, \"cred_def_id\": ten_cred_def_id}]},\n",
    "]\n",
    "\n",
    "proof_request[\"requested_attributes\"] = {\n",
    "        # They generally follow this uuid pattern. Unique identifier for attribute within context of this proof request\n",
    "        # Note that req_attr['name'] gets the attribute name of each object. E.g. domain and name in this case\n",
    "        f\"0_{req_attr['name']}_uuid\":\n",
    "        req_attr for req_attr in req_attrs\n",
    "}"
   ]
  },
  {
   "cell_type": "code",
   "execution_count": 22,
   "id": "521cdca2",
   "metadata": {},
   "outputs": [],
   "source": [
    "name = \"10\""
   ]
  },
  {
   "cell_type": "code",
   "execution_count": 23,
   "id": "05811022",
   "metadata": {},
   "outputs": [
    {
     "name": "stdout",
     "output_type": "stream",
     "text": [
      "Average :  0.3906349734297328\n"
     ]
    }
   ],
   "source": [
    "test = {\"name\": name, \"proof_request\": proof_request}\n",
    "\n",
    "await performance_service.run_verification(experiment, test, connection_id)"
   ]
  },
  {
   "cell_type": "code",
   "execution_count": 24,
   "id": "0a5ac3cb",
   "metadata": {},
   "outputs": [],
   "source": [
    "req_attrs = [\n",
    "    {\"name\": \"1\", \"restrictions\": [{\"schema_id\": ten_schema_id, \"cred_def_id\": ten_rev_cred_def_id}]},\n",
    "]\n",
    "\n",
    "proof_request[\"requested_attributes\"] = {\n",
    "        # They generally follow this uuid pattern. Unique identifier for attribute within context of this proof request\n",
    "        # Note that req_attr['name'] gets the attribute name of each object. E.g. domain and name in this case\n",
    "        f\"0_{req_attr['name']}_uuid\":\n",
    "        req_attr for req_attr in req_attrs\n",
    "}"
   ]
  },
  {
   "cell_type": "code",
   "execution_count": 25,
   "id": "29c8298d",
   "metadata": {},
   "outputs": [
    {
     "name": "stdout",
     "output_type": "stream",
     "text": [
      "Average :  1.1447029979201033\n"
     ]
    }
   ],
   "source": [
    "test = {\"name\": name, \"proof_request\": proof_request}\n",
    "\n",
    "await performance_service.run_verification(revocable_experiment, test, connection_id)"
   ]
  },
  {
   "cell_type": "markdown",
   "id": "cc3b676c",
   "metadata": {},
   "source": [
    "## Performance Test - Twenty Attribute Credential"
   ]
  },
  {
   "cell_type": "code",
   "execution_count": 26,
   "id": "f68ee8fe",
   "metadata": {},
   "outputs": [],
   "source": [
    "req_attrs = [\n",
    "    {\"name\": \"1\", \"restrictions\": [{\"schema_id\": twenty_schema_id, \"cred_def_id\": twenty_cred_def_id}]},\n",
    "]\n",
    "\n",
    "proof_request[\"requested_attributes\"] = {\n",
    "        # They generally follow this uuid pattern. Unique identifier for attribute within context of this proof request\n",
    "        # Note that req_attr['name'] gets the attribute name of each object. E.g. domain and name in this case\n",
    "        f\"0_{req_attr['name']}_uuid\":\n",
    "        req_attr for req_attr in req_attrs\n",
    "}"
   ]
  },
  {
   "cell_type": "code",
   "execution_count": 27,
   "id": "471d4fcd",
   "metadata": {},
   "outputs": [],
   "source": [
    "name = \"20\""
   ]
  },
  {
   "cell_type": "code",
   "execution_count": 28,
   "id": "a96d9ce1",
   "metadata": {},
   "outputs": [
    {
     "name": "stdout",
     "output_type": "stream",
     "text": [
      "Average :  0.6059880108198559\n"
     ]
    }
   ],
   "source": [
    "test = {\"name\": name, \"proof_request\": proof_request}\n",
    "\n",
    "await performance_service.run_verification(experiment, test, connection_id)"
   ]
  },
  {
   "cell_type": "code",
   "execution_count": 29,
   "id": "293f94e9",
   "metadata": {},
   "outputs": [],
   "source": [
    "req_attrs = [\n",
    "    {\"name\": \"1\", \"restrictions\": [{\"schema_id\": twenty_schema_id, \"cred_def_id\": twenty_rev_cred_def_id}]},\n",
    "]\n",
    "\n",
    "proof_request[\"requested_attributes\"] = {\n",
    "        # They generally follow this uuid pattern. Unique identifier for attribute within context of this proof request\n",
    "        # Note that req_attr['name'] gets the attribute name of each object. E.g. domain and name in this case\n",
    "        f\"0_{req_attr['name']}_uuid\":\n",
    "        req_attr for req_attr in req_attrs\n",
    "}"
   ]
  },
  {
   "cell_type": "code",
   "execution_count": 30,
   "id": "05bdc02d",
   "metadata": {},
   "outputs": [
    {
     "name": "stdout",
     "output_type": "stream",
     "text": [
      "Average :  1.177648461190147\n"
     ]
    }
   ],
   "source": [
    "test = {\"name\": name, \"proof_request\": proof_request}\n",
    "\n",
    "await performance_service.run_verification(revocable_experiment, test, connection_id)"
   ]
  },
  {
   "cell_type": "markdown",
   "id": "9b96ae64",
   "metadata": {},
   "source": [
    "## Performance Test - Fifty Attribute Credential"
   ]
  },
  {
   "cell_type": "code",
   "execution_count": 31,
   "id": "be868bcf",
   "metadata": {},
   "outputs": [],
   "source": [
    "req_attrs = [\n",
    "    {\"name\": \"1\", \"restrictions\": [{\"schema_id\": fifty_schema_id, \"cred_def_id\": fifty_cred_def_id}]},\n",
    "]\n",
    "\n",
    "proof_request[\"requested_attributes\"] = {\n",
    "        # They generally follow this uuid pattern. Unique identifier for attribute within context of this proof request\n",
    "        # Note that req_attr['name'] gets the attribute name of each object. E.g. domain and name in this case\n",
    "        f\"0_{req_attr['name']}_uuid\":\n",
    "        req_attr for req_attr in req_attrs\n",
    "}"
   ]
  },
  {
   "cell_type": "code",
   "execution_count": 32,
   "id": "d05aa926",
   "metadata": {},
   "outputs": [],
   "source": [
    "name = \"50\""
   ]
  },
  {
   "cell_type": "code",
   "execution_count": 33,
   "id": "59027a03",
   "metadata": {},
   "outputs": [
    {
     "name": "stdout",
     "output_type": "stream",
     "text": [
      "Average :  0.6991257308398781\n"
     ]
    }
   ],
   "source": [
    "test = {\"name\": name, \"proof_request\": proof_request}\n",
    "\n",
    "await performance_service.run_verification(experiment, test, connection_id)"
   ]
  },
  {
   "cell_type": "code",
   "execution_count": 34,
   "id": "9768f429",
   "metadata": {},
   "outputs": [],
   "source": [
    "req_attrs = [\n",
    "    {\"name\": \"1\", \"restrictions\": [{\"schema_id\": fifty_schema_id, \"cred_def_id\": fifty_rev_cred_def_id}]},\n",
    "]\n",
    "\n",
    "proof_request[\"requested_attributes\"] = {\n",
    "        # They generally follow this uuid pattern. Unique identifier for attribute within context of this proof request\n",
    "        # Note that req_attr['name'] gets the attribute name of each object. E.g. domain and name in this case\n",
    "        f\"0_{req_attr['name']}_uuid\":\n",
    "        req_attr for req_attr in req_attrs\n",
    "}"
   ]
  },
  {
   "cell_type": "code",
   "execution_count": 35,
   "id": "969f99d5",
   "metadata": {},
   "outputs": [
    {
     "name": "stdout",
     "output_type": "stream",
     "text": [
      "Average :  1.3821254891599528\n"
     ]
    }
   ],
   "source": [
    "test = {\"name\": name, \"proof_request\": proof_request}\n",
    "\n",
    "await performance_service.run_verification(revocable_experiment, test, connection_id)"
   ]
  },
  {
   "cell_type": "markdown",
   "id": "b7731cc0",
   "metadata": {},
   "source": [
    "## Performance Test - Hundred Attribute Credential"
   ]
  },
  {
   "cell_type": "code",
   "execution_count": 36,
   "id": "57789179",
   "metadata": {},
   "outputs": [],
   "source": [
    "req_attrs = [\n",
    "    {\"name\": \"1\", \"restrictions\": [{\"schema_id\": hundred_schema_id, \"cred_def_id\": hundred_cred_def_id}]},\n",
    "]\n",
    "\n",
    "proof_request[\"requested_attributes\"] = {\n",
    "        # They generally follow this uuid pattern. Unique identifier for attribute within context of this proof request\n",
    "        # Note that req_attr['name'] gets the attribute name of each object. E.g. domain and name in this case\n",
    "        f\"0_{req_attr['name']}_uuid\":\n",
    "        req_attr for req_attr in req_attrs\n",
    "}"
   ]
  },
  {
   "cell_type": "code",
   "execution_count": 37,
   "id": "858c2501",
   "metadata": {},
   "outputs": [],
   "source": [
    "name = \"100\""
   ]
  },
  {
   "cell_type": "code",
   "execution_count": 38,
   "id": "51bb3c51",
   "metadata": {},
   "outputs": [
    {
     "name": "stdout",
     "output_type": "stream",
     "text": [
      "Average :  0.9033805357198799\n"
     ]
    }
   ],
   "source": [
    "test = {\"name\": name, \"proof_request\": proof_request}\n",
    "\n",
    "await performance_service.run_verification(experiment, test, connection_id)"
   ]
  },
  {
   "cell_type": "code",
   "execution_count": 39,
   "id": "a87b3e7d",
   "metadata": {},
   "outputs": [],
   "source": [
    "req_attrs = [\n",
    "    {\"name\": \"1\", \"restrictions\": [{\"schema_id\": hundred_schema_id, \"cred_def_id\": hundred_rev_cred_def_id}]},\n",
    "]\n",
    "\n",
    "proof_request[\"requested_attributes\"] = {\n",
    "        # They generally follow this uuid pattern. Unique identifier for attribute within context of this proof request\n",
    "        # Note that req_attr['name'] gets the attribute name of each object. E.g. domain and name in this case\n",
    "        f\"0_{req_attr['name']}_uuid\":\n",
    "        req_attr for req_attr in req_attrs\n",
    "}"
   ]
  },
  {
   "cell_type": "code",
   "execution_count": 40,
   "id": "3f192a55",
   "metadata": {},
   "outputs": [
    {
     "name": "stdout",
     "output_type": "stream",
     "text": [
      "Average :  1.675720763590216\n"
     ]
    }
   ],
   "source": [
    "test = {\"name\": name, \"proof_request\": proof_request}\n",
    "\n",
    "await performance_service.run_verification(revocable_experiment, test, connection_id)"
   ]
  },
  {
   "cell_type": "markdown",
   "id": "2d2a81cb",
   "metadata": {},
   "source": [
    "## Plot Results"
   ]
  },
  {
   "cell_type": "markdown",
   "id": "e09d5fda",
   "metadata": {},
   "source": [
    "### Non Revocable"
   ]
  },
  {
   "cell_type": "code",
   "execution_count": 49,
   "id": "94ce4447",
   "metadata": {},
   "outputs": [],
   "source": [
    "data = []\n",
    "labels = []\n",
    "non_revocable_averages = []\n",
    "for result in experiment[\"results\"]:\n",
    "    \n",
    "    millitimings = [i * 1000 for i in result[\"timings\"]]\n",
    "    data.append(millitimings)\n",
    "    non_revocable_averages.append(result[\"average\"] * 1000)\n",
    "    labels.append(result[\"name\"])\n",
    "\n"
   ]
  },
  {
   "cell_type": "code",
   "execution_count": 50,
   "id": "29995b49",
   "metadata": {},
   "outputs": [
    {
     "data": {
      "image/png": "[encoded data removed]",
      "text/plain": [
       "<Figure size 720x720 with 1 Axes>"
      ]
     },
     "metadata": {
      "needs_background": "light"
     },
     "output_type": "display_data"
    }
   ],
   "source": [
    "# Import libraries\n",
    "import matplotlib.pyplot as plt\n",
    "import numpy as np\n",
    " \n",
    "\n",
    " \n",
    "fig = plt.figure(figsize =(10, 10))\n",
    " \n",
    "# Creating axes instance\n",
    "ax = fig.add_axes([0.1,0.1,0.75,0.75]) \n",
    " \n",
    "# Creating plot`\n",
    "bp = ax.boxplot(data, patch_artist = True,\n",
    "                notch ='True')\n",
    "\n",
    "# x-axis labels\n",
    "ax.set_xticklabels(labels)\n",
    "\n",
    "plt.ylabel(\"Milliseconds\")\n",
    "plt.xlabel(\"Number of Attributes\")\n",
    "\n",
    "plt.savefig(\"results/verification/fixed_disclosure_variable_attrib_number/box_plot_non_revocable.png\")"
   ]
  },
  {
   "cell_type": "markdown",
   "id": "c6ad6c79",
   "metadata": {},
   "source": [
    "### Revocable"
   ]
  },
  {
   "cell_type": "code",
   "execution_count": 51,
   "id": "93c8680d",
   "metadata": {},
   "outputs": [],
   "source": [
    "data = []\n",
    "labels = []\n",
    "revocable_averages = []\n",
    "for result in revocable_experiment[\"results\"]:\n",
    "    \n",
    "    millitimings = [i * 1000 for i in result[\"timings\"]]\n",
    "    data.append(millitimings)\n",
    "    revocable_averages.append(result[\"average\"] * 1000)\n",
    "    labels.append(result[\"name\"])\n",
    "    \n"
   ]
  },
  {
   "cell_type": "code",
   "execution_count": 52,
   "id": "8c94e045",
   "metadata": {},
   "outputs": [
    {
     "data": {
      "image/png": "[encoded data removed]",
      "text/plain": [
       "<Figure size 720x720 with 1 Axes>"
      ]
     },
     "metadata": {
      "needs_background": "light"
     },
     "output_type": "display_data"
    }
   ],
   "source": [
    "# Import libraries\n",
    "import matplotlib.pyplot as plt\n",
    "import numpy as np\n",
    " \n",
    "\n",
    " \n",
    "fig = plt.figure(figsize =(10, 10))\n",
    " \n",
    "# Creating axes instance\n",
    "ax = fig.add_axes([0.1,0.1,0.75,0.75]) \n",
    " \n",
    "# Creating plot`\n",
    "bp = ax.boxplot(data, patch_artist = True,\n",
    "                notch ='True')\n",
    "\n",
    "# x-axis labels\n",
    "ax.set_xticklabels(labels)\n",
    "\n",
    "plt.ylabel(\"Milliseconds\")\n",
    "plt.xlabel(\"Number of Attributes\")\n",
    "\n",
    "plt.savefig(\"results/verification/fixed_disclosure_variable_attrib_number/box_plot_revocable.png\")"
   ]
  },
  {
   "cell_type": "markdown",
   "id": "ef206d6c",
   "metadata": {},
   "source": [
    "## Averages"
   ]
  },
  {
   "cell_type": "code",
   "execution_count": 54,
   "id": "173554e3",
   "metadata": {},
   "outputs": [
    {
     "data": {
      "image/png": "[encoded data removed]",
      "text/plain": [
       "<Figure size 720x720 with 1 Axes>"
      ]
     },
     "metadata": {
      "needs_background": "light"
     },
     "output_type": "display_data"
    }
   ],
   "source": [
    "fig = plt.figure(figsize =(10, 10))\n",
    " \n",
    "# Creating axes instance\n",
    "ax = fig.add_axes([0.1,0.1,0.75,0.75]) \n",
    "\n",
    "# avg_ploy = plt.plot(labels, revocable_averages, non_revoked_averages)\n",
    "\n",
    "plt_points = [1,5,10,20,50,100]\n",
    "\n",
    "plt.plot(plt_points, revocable_averages,'r-',label='Revocable Credential Presentation Averages')\n",
    "plt.plot(plt_points, non_revocable_averages,label='Non Revocable Credential Presentation Averages')\n",
    "\n",
    "plt.ylabel(\"Milliseconds\")\n",
    "plt.xlabel(\"Number of Attributes\")\n",
    "\n",
    "\n",
    "plt.legend()\n",
    "plt.savefig(\"results/verification/fixed_disclosure_variable_attrib_number/averages.png\")"
   ]
  },
  {
   "cell_type": "markdown",
   "id": "9681bc5a",
   "metadata": {},
   "source": [
    "## Save Experiments to File"
   ]
  },
  {
   "cell_type": "code",
   "execution_count": 56,
   "id": "6a9168d0",
   "metadata": {},
   "outputs": [],
   "source": [
    "performance_service.save_experiments()"
   ]
  },
  {
   "cell_type": "markdown",
   "id": "8d6c76e5",
   "metadata": {},
   "source": [
    "## Terminate Controller\n",
    "\n",
    "Whenever you have finished with this notebook, be sure to terminate the controller. This is especially important if your business logic runs across multiple notebooks."
   ]
  },
  {
   "cell_type": "code",
   "execution_count": 55,
   "id": "568e8483",
   "metadata": {},
   "outputs": [],
   "source": [
    "await agent_controller.terminate()"
   ]
  },
  {
   "cell_type": "code",
   "execution_count": null,
   "id": "0f85ddcf",
   "metadata": {},
   "outputs": [],
   "source": []
  }
 ],
 "metadata": {
  "kernelspec": {
   "display_name": "Python 3",
   "language": "python",
   "name": "python3"
  },
  "language_info": {
   "codemirror_mode": {
    "name": "ipython",
    "version": 3
   },
   "file_extension": ".py",
   "mimetype": "text/x-python",
   "name": "python",
   "nbconvert_exporter": "python",
   "pygments_lexer": "ipython3",
   "version": "3.7.6"
  }
 },
 "nbformat": 4,
 "nbformat_minor": 5
}
