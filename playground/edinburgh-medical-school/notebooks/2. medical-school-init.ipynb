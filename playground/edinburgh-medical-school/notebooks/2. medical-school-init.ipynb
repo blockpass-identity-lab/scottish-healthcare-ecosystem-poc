{
 "cells": [
  {
   "cell_type": "markdown",
   "id": "4d2ace54",
   "metadata": {},
   "source": [
    "# Initialising The Medical School as an Issuing Authority\n",
    "\n",
    "The Medical School needs to write a schema for the Primary Medical Qualification (PMQ) credential they intend to issue to all medics that pass their exams. In a realistic scenario, this schema may be defined by a different authority, for example the medical schools boad (or the GMC), who oversee education standards and those trusted to implement it. In that case the Edinburgh Medical School would only need to write a credential definition (a public key) enabling them to issue credentails against this schema.\n",
    "\n",
    "\n"
   ]
  },
  {
   "cell_type": "markdown",
   "id": "cd81be02",
   "metadata": {},
   "source": [
    "## This Would Need Be Configured and Running on the Medical School Servers\n",
    "\n",
    "![Secure Server](https://static.thenounproject.com/png/65152-200.png)"
   ]
  },
  {
   "cell_type": "markdown",
   "id": "ec0e416f",
   "metadata": {},
   "source": [
    "### Imports"
   ]
  },
  {
   "cell_type": "code",
   "execution_count": 1,
   "id": "d209b74b",
   "metadata": {},
   "outputs": [],
   "source": [
    "from aries_cloudcontroller import AriesAgentController\n",
    "import os\n",
    "from termcolor import colored"
   ]
  },
  {
   "cell_type": "markdown",
   "id": "ff7c6a81",
   "metadata": {},
   "source": [
    "### Initialise the Agent Controller"
   ]
  },
  {
   "cell_type": "code",
   "execution_count": 2,
   "id": "efb0f7ae",
   "metadata": {},
   "outputs": [
    {
     "name": "stdout",
     "output_type": "stream",
     "text": [
      "Initialising a controller with admin api at http://edinburgh-medical-school-agent:3021 and an api key of adminApiKey\n"
     ]
    }
   ],
   "source": [
    "api_key = os.getenv(\"ACAPY_ADMIN_API_KEY\")\n",
    "admin_url = os.getenv(\"ADMIN_URL\")\n",
    "\n",
    "print(f\"Initialising a controller with admin api at {admin_url} and an api key of {api_key}\")\n",
    "agent_controller = AriesAgentController(admin_url,api_key)"
   ]
  },
  {
   "cell_type": "markdown",
   "id": "614d477a",
   "metadata": {},
   "source": [
    "## Write DID to the Public Ledger\n",
    "\n",
    "Note: if defined a ACAPY_WALLET_SEED value for your agent then this function will return a DID, but this DID still needs to be written to the ledger. If you did not define a seed you will need to create a DID first."
   ]
  },
  {
   "cell_type": "code",
   "execution_count": 3,
   "id": "e4884155",
   "metadata": {},
   "outputs": [
    {
     "name": "stdout",
     "output_type": "stream",
     "text": [
      "{'result': {'did': '3jnXQcj9VLFjcUbtDVZZzV', 'verkey': '2VYWDcUQrLk2EMVBYxdVEHZtzhdACy9JqRBvHtck7U98', 'posture': 'posted', 'key_type': 'ed25519', 'method': 'sov'}}\n"
     ]
    }
   ],
   "source": [
    "public_did_response = await agent_controller.wallet.get_public_did()\n",
    "print(public_did_response)"
   ]
  },
  {
   "cell_type": "code",
   "execution_count": 4,
   "id": "645b5ec2",
   "metadata": {},
   "outputs": [
    {
     "name": "stdout",
     "output_type": "stream",
     "text": [
      "Already have a public did\n",
      "DID {'did': '3jnXQcj9VLFjcUbtDVZZzV', 'verkey': '2VYWDcUQrLk2EMVBYxdVEHZtzhdACy9JqRBvHtck7U98', 'posture': 'posted', 'key_type': 'ed25519', 'method': 'sov'}\n"
     ]
    }
   ],
   "source": [
    "if public_did_response[\"result\"]:\n",
    "    did_obj = public_did_response[\"result\"]\n",
    "    print(\"Already have a public did\")\n",
    "else:\n",
    "    create_did_response = await agent_controller.wallet.create_did()\n",
    "    did_obj = create_did_response['result']\n",
    "print(\"DID\", did_obj)"
   ]
  },
  {
   "cell_type": "markdown",
   "id": "276b0bc8",
   "metadata": {},
   "source": [
    "## Not Needed When using a Local VON Network"
   ]
  },
  {
   "cell_type": "code",
   "execution_count": 5,
   "id": "a989bc9f",
   "metadata": {},
   "outputs": [],
   "source": [
    "# write new DID to Sovrin Stagingnet\n",
    "# import requests\n",
    "# import json \n",
    "\n",
    "# url = 'https://selfserve.sovrin.org/nym'\n",
    "\n",
    "# payload = {\"network\":\"stagingnet\",\"did\": did_obj[\"did\"],\"verkey\":did_obj[\"verkey\"],\"paymentaddr\":\"\"}\n",
    "\n",
    "# # Adding empty header as parameters are being sent in payload\n",
    "# headers = {}\n",
    "\n",
    "# r = requests.post(url, data=json.dumps(payload), headers=headers)\n",
    "# print(r.json())"
   ]
  },
  {
   "cell_type": "markdown",
   "id": "838cb677",
   "metadata": {},
   "source": [
    "## Accept Transaction Author Agreement\n",
    "\n",
    "## Also Not Needed when using Local VON Network\n",
    "\n",
    "Although the Sovrin StagingNet is permissionless, before DID's have the authority to write to the ledger they must accept something called a transaction author agreement by signing it using the DID they have on the ledger.\n",
    "\n",
    "As a global public ledger, the Sovrin Ledger and all its participants are subject to privacy and data protection regulations such as the EU General Data Protection Regulation (GDPR). These regulations require that the participants be explicit about responsibilities for Personal Data.\n",
    "\n",
    "To clarify these responsibilities and provide protection for all parties, the Sovrin Governance Framework Working Group developed an agreement between Transaction Authors and the Sovrin Foundation. The TAA can be found at Sovrin.org. It ensures that users are aware of and consent to the fact that all data written to the Sovrin Ledger cannot be removed, even if the original author of the transaction requests its removal.\n",
    "\n",
    "The TAA outlines the policies that users must follow when interacting with the Sovrin Ledger. When a user’s client software is preparing a transaction for submission to the network, it must include a demonstration that the user had the opportunity to review the current TAA and accept it. This is done by including some additional fields in the ledger write transaction: \n",
    "\n",
    "* A hash of the agreement\n",
    "* A date when the agreement was accepted, and\n",
    "* A string indicating the user interaction that was followed to obtain the acceptance.\n",
    "\n",
    "The Indy client API used by Sovrin has been extended to allow users to review current and past agreements and to indicate acceptance through an approved user interaction pattern. - source: https://sovrin.org/preparing-for-the-sovrin-transaction-author-agreement/\n",
    "\n",
    "For more details on TAA please read more at the following links:\n",
    "* [Preparing for the Sovrin Transaction Author Agreement](https://sovrin.org/preparing-for-the-sovrin-transaction-author-agreement/)\n",
    "* [How the recent approval of the Sovrin Governance Framework v2 affects Transaction Authors\n",
    "](https://sovrin.org/how-the-recent-approval-of-the-sovrin-governance-framework-v2-affects-transaction-authors/)\n",
    "* [TAA v2](https://github.com/sovrin-foundation/sovrin/blob/master/TAA/TAA.md)\n",
    "* [TAA Acceptance Mechanism List (AML)](https://github.com/sovrin-foundation/sovrin/blob/master/TAA/AML.md)"
   ]
  },
  {
   "cell_type": "code",
   "execution_count": 6,
   "id": "0ccdca46",
   "metadata": {},
   "outputs": [],
   "source": [
    "# taa_response = await agent_controller.ledger.get_taa()\n",
    "# TAA = taa_response['result']['taa_record']\n",
    "# TAA['mechanism'] = \"service_agreement\"\n",
    "# await agent_controller.ledger.accept_taa(TAA)"
   ]
  },
  {
   "cell_type": "markdown",
   "id": "cce86a62",
   "metadata": {},
   "source": [
    "## Assign Agent Public DID if Not Set\n",
    "\n",
    "Will only be ran if ACAPY_WALLET_SEED not initially set."
   ]
  },
  {
   "cell_type": "code",
   "execution_count": 7,
   "id": "c058b628",
   "metadata": {},
   "outputs": [
    {
     "name": "stdout",
     "output_type": "stream",
     "text": [
      "Successfully intialised agent with Public DID :  3jnXQcj9VLFjcUbtDVZZzV\n"
     ]
    }
   ],
   "source": [
    "if did_obj[\"posture\"] != \"public\":\n",
    "    response = await agent_controller.wallet.assign_public_did(did_obj[\"did\"])\n",
    "print(\"Successfully intialised agent with Public DID : \", did_obj[\"did\"])"
   ]
  },
  {
   "cell_type": "markdown",
   "id": "1d65aeda",
   "metadata": {},
   "source": [
    "## Writing Schema\n",
    "\n",
    "Write as many schema to the ledger as you like. Be sure to store each schema_id, you will need these when it comes to authoring credential defintition transactions and issuing credentials against this schema.\n",
    "\n",
    "Uncomment and copy the below cell as many times as you need. Be sure to update any arugments surrounded by <> with your own details."
   ]
  },
  {
   "cell_type": "code",
   "execution_count": 8,
   "id": "25fc08b5",
   "metadata": {},
   "outputs": [],
   "source": [
    "# Define you schema name - must be unique on the ledger\n",
    "schema_name = \"Primary Medical Qualification\"\n",
    "# Can version the schema if you wish to update it\n",
    "schema_version = \"0.0.2\"\n",
    "# Define any list of attributes you wish to include in your schema\n",
    "attributes = [\"Name\", \"University\", \"Date Issued\"]\n",
    "\n",
    "response = await agent_controller.schema.write_schema(schema_name, attributes, schema_version)\n",
    "pmq_schema = response[\"schema_id\"]"
   ]
  },
  {
   "cell_type": "markdown",
   "id": "b839c240",
   "metadata": {},
   "source": [
    "## Using External Schema\n",
    "\n",
    "If a Primary Medical Qualification schema was defined and managed by another entity, then the Edinburgh Medical School would only have to identify the schema through it's identifier rather than authoring the schema themselves. E.g. Education Scotland\n",
    "\n",
    "![](https://education.gov.scot/images/logos/CorporateZone-logo.png)"
   ]
  },
  {
   "cell_type": "code",
   "execution_count": 9,
   "id": "1a4221cc",
   "metadata": {},
   "outputs": [],
   "source": [
    "# <EXTERNAL SCHEMA ID> = \"<SOME SCHEMA ID>\""
   ]
  },
  {
   "cell_type": "markdown",
   "id": "5f5cc7de",
   "metadata": {},
   "source": [
    "## Writing Credential Definitions\n",
    "\n",
    "For all schema you intend to issue credentials against your agent must author a credential definition transaction to the public ledger. This specifies the public cryptographic material your agent will use to sign all credentials issued against a specific schema. \n",
    "\n",
    "Again uncomment and copy this cell as often as you need. Remebering to update the arguments in <> to specify your schema identifiers. Store each credential definition identifier in a unique variable."
   ]
  },
  {
   "cell_type": "code",
   "execution_count": 10,
   "id": "594d3f56",
   "metadata": {},
   "outputs": [],
   "source": [
    "# Tag and group specific credential definitions\n",
    "tag = \"default\"\n",
    "\n",
    "# Make Cred Def support revocation. Credentials issued using this definition will be able to be revoked.\n",
    "support_revocation = False\n",
    "\n",
    "cred_def_response = await agent_controller.definitions.write_cred_def(pmq_schema, tag, support_revocation)\n",
    "pmq_cred_def_id = cred_def_response[\"credential_definition_id\"]"
   ]
  },
  {
   "cell_type": "markdown",
   "id": "46669509",
   "metadata": {},
   "source": [
    "## Persist Identifiers for use throughout other business logic notebooks associated with this agent\n",
    "\n",
    "The schema_id and cred_def_id value pairs are required whenever issuing credentials, and also can be used to constrain acceptable proof requests. In a real application these values might be stored in environment variables or most likely in a database. For notebooks we have found it easier to store as string values in a cell and then load these values into the jupyter store so that they can be fetched across multiple notebooks.\n",
    "\n",
    "As such you are recommended to print out each of the schema and cred def identifiers used by your agent and copy them across to your **main** business logic notebook where you should store them in a variable and save them to the jupyter store. Remember, you should only be running this notebook once so having this logic in here will not be useful.\n"
   ]
  },
  {
   "cell_type": "code",
   "execution_count": 12,
   "id": "d16530db",
   "metadata": {},
   "outputs": [
    {
     "name": "stdout",
     "output_type": "stream",
     "text": [
      "pmq_schema_id = '3jnXQcj9VLFjcUbtDVZZzV:2:Primary Medical Qualification:0.0.2'\n",
      "pmq_cred_def_id ='3jnXQcj9VLFjcUbtDVZZzV:3:CL:26:default'\n"
     ]
    }
   ],
   "source": [
    "print(f\"pmq_schema_id = '{pmq_schema}'\")\n",
    "print(f\"pmq_cred_def_id ='{pmq_cred_def_id}'\")"
   ]
  },
  {
   "cell_type": "markdown",
   "id": "0af6112e",
   "metadata": {},
   "source": [
    "## Terminate Controller\n"
   ]
  },
  {
   "cell_type": "code",
   "execution_count": 13,
   "id": "e90f3057",
   "metadata": {},
   "outputs": [],
   "source": [
    "await agent_controller.terminate()"
   ]
  },
  {
   "cell_type": "code",
   "execution_count": null,
   "id": "bd0d29d5",
   "metadata": {},
   "outputs": [],
   "source": []
  }
 ],
 "metadata": {
  "kernelspec": {
   "display_name": "Python 3",
   "language": "python",
   "name": "python3"
  },
  "language_info": {
   "codemirror_mode": {
    "name": "ipython",
    "version": 3
   },
   "file_extension": ".py",
   "mimetype": "text/x-python",
   "name": "python",
   "nbconvert_exporter": "python",
   "pygments_lexer": "ipython3",
   "version": "3.8.5"
  }
 },
 "nbformat": 4,
 "nbformat_minor": 5
}
