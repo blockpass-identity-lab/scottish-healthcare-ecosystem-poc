{
 "cells": [
  {
   "cell_type": "markdown",
   "id": "980ef10e",
   "metadata": {},
   "source": [
    "# Issue Primary Medical Qualifications\n",
    "\n",
    "The Edinburgh Medical School is trusted to establish secure DIDComm connections with each of the medics studing at the school, likely created at the start of their education.\n",
    "\n",
    "Once the medic completes their education and passes their exams they are issued a digital Primary Medical Qualification across this established connection.\n",
    "\n",
    "The school just needs to keep track of connection_identifiers, the students they identify and when they successfully complete their education. Likely they already do this in some fashion so this would require minor changes to their systems.\n",
    "\n",
    "Students would need to install and manage an SSI application which they can use to establish these connections and later receive, store and present the Primary Medical Qualification."
   ]
  },
  {
   "cell_type": "markdown",
   "id": "f095155e",
   "metadata": {},
   "source": [
    "### Imports"
   ]
  },
  {
   "cell_type": "code",
   "execution_count": 1,
   "id": "29d1d5b2",
   "metadata": {},
   "outputs": [],
   "source": [
    "from aries_cloudcontroller import AriesAgentController\n",
    "import os\n",
    "from termcolor import colored"
   ]
  },
  {
   "cell_type": "markdown",
   "id": "56230d7c",
   "metadata": {},
   "source": [
    "### Initialise the Agent Controller"
   ]
  },
  {
   "cell_type": "code",
   "execution_count": 2,
   "id": "a2a8d9e8",
   "metadata": {},
   "outputs": [
    {
     "name": "stdout",
     "output_type": "stream",
     "text": [
      "Initialising a controller with admin api at http://edinburgh-medical-school-agent:3021 and an api key of adminApiKey\n"
     ]
    }
   ],
   "source": [
    "api_key = os.getenv(\"ACAPY_ADMIN_API_KEY\")\n",
    "admin_url = os.getenv(\"ADMIN_URL\")\n",
    "\n",
    "print(f\"Initialising a controller with admin api at {admin_url} and an api key of {api_key}\")\n",
    "agent_controller = AriesAgentController(admin_url,api_key)"
   ]
  },
  {
   "cell_type": "markdown",
   "id": "32d5c2c3",
   "metadata": {},
   "source": [
    "### Start a Webhook Server"
   ]
  },
  {
   "cell_type": "code",
   "execution_count": 3,
   "id": "148c96b3",
   "metadata": {},
   "outputs": [
    {
     "name": "stdout",
     "output_type": "stream",
     "text": [
      "Listening for webhooks from agent at http://0.0.0.0:3010\n"
     ]
    }
   ],
   "source": [
    "webhook_port = int(os.getenv(\"WEBHOOK_PORT\"))\n",
    "webhook_host = \"0.0.0.0\"\n",
    "\n",
    "await agent_controller.init_webhook_server(webhook_host, webhook_port)\n",
    "\n",
    "print(f\"Listening for webhooks from agent at http://{webhook_host}:{webhook_port}\")"
   ]
  },
  {
   "cell_type": "markdown",
   "id": "f326af9f",
   "metadata": {},
   "source": [
    "## Register Agent Event Listeners\n",
    "\n",
    "You can see some examples within the webhook_listeners recipe. Copy any relevant cells across and fill in additional logic as needed."
   ]
  },
  {
   "cell_type": "code",
   "execution_count": 4,
   "id": "62c79bb7",
   "metadata": {},
   "outputs": [],
   "source": [
    "listeners = []"
   ]
  },
  {
   "cell_type": "code",
   "execution_count": 5,
   "id": "df3b6f06",
   "metadata": {},
   "outputs": [],
   "source": [
    "## YOUR LISTENERS HERE\n",
    "# Receive connection messages\n",
    "def connections_handler(payload):\n",
    "    state = payload['state']\n",
    "    connection_id = payload[\"connection_id\"]\n",
    "    their_role = payload[\"their_role\"]\n",
    "    routing_state = payload[\"routing_state\"]\n",
    "    \n",
    "    print(\"----------------------------------------------------------\")\n",
    "    print(\"Connection Webhook Event Received\")\n",
    "    print(\"Connection ID : \", connection_id)\n",
    "    print(\"State : \", state)\n",
    "    print(\"Routing State : \", routing_state)\n",
    "    print(\"Their Role : \", their_role)\n",
    "    print(\"----------------------------------------------------------\")\n",
    "    if state == \"active\":\n",
    "        # Your business logic\n",
    "        print(colored(\"Connection ID: {0} is now active.\".format(connection_id), \"green\", attrs=[\"bold\"]))\n",
    "\n",
    "connection_listener = {\n",
    "    \"handler\": connections_handler,\n",
    "    \"topic\": \"connections\"\n",
    "}\n",
    "\n",
    "listeners.append(connection_listener)"
   ]
  },
  {
   "cell_type": "code",
   "execution_count": 6,
   "id": "5172bf40",
   "metadata": {},
   "outputs": [],
   "source": [
    "def issuer_handler(payload):\n",
    "    connection_id = payload['connection_id']\n",
    "    exchange_id = payload['credential_exchange_id']\n",
    "    state = payload['state']\n",
    "    role = payload['role']\n",
    "    print(\"\\n---------------------------------------------------\\n\")\n",
    "    print(\"Handle Issue Credential Webhook\")\n",
    "    print(f\"Connection ID : {connection_id}\")\n",
    "    print(f\"Credential exchange ID : {exchange_id}\")\n",
    "    print(\"Agent Protocol Role : \", role)\n",
    "    print(\"Protocol State : \", state )\n",
    "    print(\"\\n---------------------------------------------------\\n\")\n",
    "    \n",
    "    \n",
    "    if state == \"offer_sent\":\n",
    "        proposal = payload[\"credential_proposal_dict\"]\n",
    "        attributes = proposal['credential_proposal']['attributes']\n",
    "\n",
    "        print(f\"Offering credential with attributes  : {attributes}\")\n",
    "        ## YOUR LOGIC HERE\n",
    "    elif state == \"request_received\":\n",
    "        print(\"Request for credential received\")\n",
    "        ## YOUR LOGIC HERE\n",
    "    elif state == \"credential_sent\":\n",
    "        print(\"Credential Sent\")\n",
    "        ## YOUR LOGIC HERE\n",
    "    \n",
    "issuer_listener = {\n",
    "    \"topic\": \"issue_credential\",\n",
    "    \"handler\": issuer_handler\n",
    "}\n",
    "\n",
    "listeners.append(issuer_listener)"
   ]
  },
  {
   "cell_type": "code",
   "execution_count": 7,
   "id": "4513089a",
   "metadata": {},
   "outputs": [],
   "source": [
    "agent_controller.register_listeners(listeners)"
   ]
  },
  {
   "cell_type": "markdown",
   "id": "3319b63b",
   "metadata": {},
   "source": [
    "## Store Issuing Schema and Cred Def Identifiers\n",
    "\n",
    "If you intend for this agent to issue credentials you should first initialise your agent as an issuer and author the relevant identifiers to the public ledger. The issuer_initialisation recipe notebook can be duplicated and used as a starting point.\n",
    "\n",
    "Once schema and cred def identifiers are created copy across and store in variables as illustrated in the cell below. Be sure to use unique names for each variable."
   ]
  },
  {
   "cell_type": "code",
   "execution_count": 8,
   "id": "bc20ec51",
   "metadata": {},
   "outputs": [
    {
     "name": "stdout",
     "output_type": "stream",
     "text": [
      "Stored 'pmq_schema_id' (str)\n",
      "Stored 'pmq_cred_def_id' (str)\n"
     ]
    }
   ],
   "source": [
    "pmq_schema_id = '3jnXQcj9VLFjcUbtDVZZzV:2:Primary Medical Qualification:0.0.2'\n",
    "pmq_cred_def_id ='3jnXQcj9VLFjcUbtDVZZzV:3:CL:26:default'\n",
    "\n",
    "\n",
    "%store pmq_schema_id\n",
    "%store pmq_cred_def_id"
   ]
  },
  {
   "cell_type": "markdown",
   "id": "0a16e4ad",
   "metadata": {},
   "source": [
    "## Create a Connection Invite for the Medic's Agent\n",
    "\n",
    "This connection, once established, will act as the persistent digital identitifer by which the medical school can identify, authentication and interact with a digital agent acting on behalf of the medical student. This could have many uses, including system login, secure communications, exam attendance and results and placement assignments.\n",
    "\n",
    "In these notebooks we will focus on the basic set of credentials that a healthcare professional has to manage throughout their career already."
   ]
  },
  {
   "cell_type": "code",
   "execution_count": 9,
   "id": "f7031221",
   "metadata": {},
   "outputs": [
    {
     "name": "stdout",
     "output_type": "stream",
     "text": [
      "----------------------------------------------------------\n",
      "Connection Webhook Event Received\n",
      "Connection ID :  44bc9271-61c2-4d4a-9509-e89c92a2882f\n",
      "State :  invitation\n",
      "Routing State :  none\n",
      "Their Role :  invitee\n",
      "----------------------------------------------------------\n"
     ]
    }
   ],
   "source": [
    "# Alias for invited connection\n",
    "alias = \"Medic\"\n",
    "auto_accept = \"true\"\n",
    "# Use public DID?\n",
    "public = \"false\"\n",
    "# Should this invitation be usable by multiple invitees?\n",
    "multi_use = \"false\"\n",
    "\n",
    "invitation_response = await agent_controller.connections.create_invitation(alias, auto_accept, public, multi_use)\n",
    "# Is equivalent to above. Arguments are optionally\n",
    "# invitation_response = await agent_controller.connections.create_invitation()\n",
    "\n",
    "\n",
    "\n",
    "# You will use this identifier to issue a credential across this connection\n",
    "connection_id = invitation_response[\"connection_id\"]"
   ]
  },
  {
   "cell_type": "markdown",
   "id": "ff85367d",
   "metadata": {},
   "source": [
    "## Share Invitation Object with Medic\n",
    "\n",
    "This could take place as part of being accepted onto a medical degree, perhaps integrated into UCAS. Or alternatively the connection could be established once a medic arrives at Edinburgh Medical School as part of their onboarding process."
   ]
  },
  {
   "cell_type": "code",
   "execution_count": 10,
   "id": "2e1d6a02",
   "metadata": {},
   "outputs": [
    {
     "name": "stdout",
     "output_type": "stream",
     "text": [
      "{'@type': 'did:sov:BzCbsNYhMrjHiqZDTUASHg;spec/connections/1.0/invitation', '@id': '776cd529-bab7-4450-8fdf-4da42ef8ac10', 'recipientKeys': ['6HYLGBRME7PnSpxwVP8Y32DCmNQHjFYpYupTisJEidrh'], 'label': 'Edinburgh Medical School', 'serviceEndpoint': 'https://ced6556c67a4.ngrok.io'}\n",
      "----------------------------------------------------------\n",
      "Connection Webhook Event Received\n",
      "Connection ID :  44bc9271-61c2-4d4a-9509-e89c92a2882f\n",
      "State :  request\n",
      "Routing State :  none\n",
      "Their Role :  invitee\n",
      "----------------------------------------------------------\n",
      "----------------------------------------------------------\n",
      "Connection Webhook Event Received\n",
      "Connection ID :  44bc9271-61c2-4d4a-9509-e89c92a2882f\n",
      "State :  response\n",
      "Routing State :  none\n",
      "Their Role :  invitee\n",
      "----------------------------------------------------------\n",
      "----------------------------------------------------------\n",
      "Connection Webhook Event Received\n",
      "Connection ID :  44bc9271-61c2-4d4a-9509-e89c92a2882f\n",
      "State :  active\n",
      "Routing State :  none\n",
      "Their Role :  invitee\n",
      "----------------------------------------------------------\n",
      "\u001b[1m\u001b[32mConnection ID: 44bc9271-61c2-4d4a-9509-e89c92a2882f is now active.\u001b[0m\n"
     ]
    }
   ],
   "source": [
    "invitation = invitation_response[\"invitation\"]\n",
    "## Copy this output\n",
    "print(invitation)"
   ]
  },
  {
   "cell_type": "markdown",
   "id": "69fb4059",
   "metadata": {},
   "source": [
    "## Optional: Display Invite as QR Code\n",
    "\n",
    "It is likely a Medic will manage their connections and credentials through a mobile application. For simplicity we are using a notebook to represent the medic."
   ]
  },
  {
   "cell_type": "code",
   "execution_count": null,
   "id": "2006c281",
   "metadata": {},
   "outputs": [],
   "source": [
    "import qrcode\n",
    "# Link for connection invitation\n",
    "invitation_url = invitation_response[\"invitation_url\"]\n",
    "# Creating an instance of qrcode\n",
    "qr = qrcode.QRCode(\n",
    "        version=1,\n",
    "        box_size=5,\n",
    "        border=5)\n",
    "qr.add_data(invitation_url)\n",
    "qr.make(fit=True)\n",
    "img = qr.make_image(fill='black', back_color='white')\n",
    "img"
   ]
  },
  {
   "cell_type": "markdown",
   "id": "05ca031e",
   "metadata": {},
   "source": [
    "## Populate Credential Attributes\n",
    "\n",
    "Before you can issue a credential, you must define the values that will be issued in this credential. The attribute names **MUST** match those in the schem identified by the <schema_id> value.\n",
    "\n",
    "Make sure to change all code enclosed with <>.\n"
   ]
  },
  {
   "cell_type": "code",
   "execution_count": 11,
   "id": "905fdc55",
   "metadata": {},
   "outputs": [
    {
     "name": "stdin",
     "output_type": "stream",
     "text": [
      "Please enter the name of the student:  Will Abramson\n"
     ]
    },
    {
     "name": "stdout",
     "output_type": "stream",
     "text": [
      "[{'name': 'Name', 'value': 'Will Abramson'}, {'name': 'University', 'value': 'Edinburgh Medical School'}, {'name': 'Date Issued', 'value': '2021-05-28'}]\n"
     ]
    }
   ],
   "source": [
    "from datetime import date\n",
    "\n",
    "name=input(\"Please enter the name of the student: \")\n",
    "university=\"Edinburgh Medical School\"\n",
    "issue_date= date.today().isoformat()\n",
    "\n",
    "credential_attributes = [\n",
    "    {\"name\": \"Name\", \"value\": name},\n",
    "    {\"name\": \"University\", \"value\": university},\n",
    "    {\"name\": \"Date Issued\", \"value\": issue_date},\n",
    "]\n",
    "print(credential_attributes)"
   ]
  },
  {
   "cell_type": "markdown",
   "id": "5585bc42",
   "metadata": {},
   "source": [
    "## Send Credential to Medical Student\n"
   ]
  },
  {
   "cell_type": "code",
   "execution_count": 12,
   "id": "10e4fca4",
   "metadata": {},
   "outputs": [
    {
     "name": "stdout",
     "output_type": "stream",
     "text": [
      "\n",
      "---------------------------------------------------\n",
      "\n",
      "Handle Issue Credential Webhook\n",
      "Connection ID : 44bc9271-61c2-4d4a-9509-e89c92a2882f\n",
      "Credential exchange ID : 966d89ac-2602-4909-9412-7318d4505d2a\n",
      "Agent Protocol Role :  issuer\n",
      "Protocol State :  offer_sent\n",
      "\n",
      "---------------------------------------------------\n",
      "\n",
      "Offering credential with attributes  : [{'name': 'Name', 'value': 'Will Abramson'}, {'name': 'University', 'value': 'Edinburgh Medical School'}, {'name': 'Date Issued', 'value': '2021-05-28'}]\n",
      "\n",
      "---------------------------------------------------\n",
      "\n",
      "Handle Issue Credential Webhook\n",
      "Connection ID : 44bc9271-61c2-4d4a-9509-e89c92a2882f\n",
      "Credential exchange ID : 966d89ac-2602-4909-9412-7318d4505d2a\n",
      "Agent Protocol Role :  issuer\n",
      "Protocol State :  request_received\n",
      "\n",
      "---------------------------------------------------\n",
      "\n",
      "Request for credential received\n",
      "\n",
      "---------------------------------------------------\n",
      "\n",
      "Handle Issue Credential Webhook\n",
      "Connection ID : 44bc9271-61c2-4d4a-9509-e89c92a2882f\n",
      "Credential exchange ID : 966d89ac-2602-4909-9412-7318d4505d2a\n",
      "Agent Protocol Role :  issuer\n",
      "Protocol State :  credential_issued\n",
      "\n",
      "---------------------------------------------------\n",
      "\n",
      "\n",
      "---------------------------------------------------\n",
      "\n",
      "Handle Issue Credential Webhook\n",
      "Connection ID : 44bc9271-61c2-4d4a-9509-e89c92a2882f\n",
      "Credential exchange ID : 966d89ac-2602-4909-9412-7318d4505d2a\n",
      "Agent Protocol Role :  issuer\n",
      "Protocol State :  credential_acked\n",
      "\n",
      "---------------------------------------------------\n",
      "\n"
     ]
    }
   ],
   "source": [
    "# Do you want the ACA-Py instance to trace it's processes (for testing/timing analysis)\n",
    "trace = True\n",
    "comment = \"Here is your Primary Medical Qualification. Let me know if there are any issues\"\n",
    "# Remove credential record after issued?\n",
    "auto_remove = False\n",
    "\n",
    "# Change <schema_id> and <cred_def_id> to correct pair. Cred_def_id must identify a definition to which your agent has corresponding private issuing key.\n",
    "send_cred_response = await agent_controller.issuer.send_credential(connection_id, pmq_schema_id, pmq_cred_def_id, credential_attributes, comment, auto_remove, trace)\n",
    "\n",
    "# Note last three args are optional.\n",
    "# await agent_controller.issuer.send_credential(connection_id, <schema_id>, <cred_def_id, credential_attributes)"
   ]
  },
  {
   "cell_type": "code",
   "execution_count": null,
   "id": "964c804d",
   "metadata": {},
   "outputs": [],
   "source": [
    "print(send_cred_response)"
   ]
  },
  {
   "cell_type": "markdown",
   "id": "462396ec",
   "metadata": {},
   "source": [
    "## Medical School Would also Introduce Medic to General Medical Council\n",
    "\n",
    "Note: In real life this happens in the final year of there education"
   ]
  },
  {
   "cell_type": "markdown",
   "id": "2e351cca",
   "metadata": {},
   "source": [
    "## Terminate Controller\n",
    "\n",
    "Whenever you have finished with this notebook, be sure to terminate the controller. This is especially important if your business logic runs across multiple notebooks."
   ]
  },
  {
   "cell_type": "code",
   "execution_count": 13,
   "id": "3054a710",
   "metadata": {},
   "outputs": [],
   "source": [
    "await agent_controller.terminate()"
   ]
  },
  {
   "cell_type": "code",
   "execution_count": null,
   "id": "aefca0a0",
   "metadata": {},
   "outputs": [],
   "source": []
  }
 ],
 "metadata": {
  "kernelspec": {
   "display_name": "Python 3",
   "language": "python",
   "name": "python3"
  },
  "language_info": {
   "codemirror_mode": {
    "name": "ipython",
    "version": 3
   },
   "file_extension": ".py",
   "mimetype": "text/x-python",
   "name": "python",
   "nbconvert_exporter": "python",
   "pygments_lexer": "ipython3",
   "version": "3.7.6"
  }
 },
 "nbformat": 4,
 "nbformat_minor": 5
}
