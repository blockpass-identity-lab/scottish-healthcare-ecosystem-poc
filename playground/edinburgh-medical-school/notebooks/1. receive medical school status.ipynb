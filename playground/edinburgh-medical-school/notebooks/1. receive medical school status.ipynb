{
 "cells": [
  {
   "cell_type": "markdown",
   "id": "b00bcf5a",
   "metadata": {},
   "source": [
    "# Edinburgh Medical School Demonstrates Competence as Medical Educator\n",
    "\n",
    "\n",
    "![](https://www.studymedicineeurope.com/wp-content/uploads/2020/07/NP-_-General-Medicin-Council-7-2020-NS.jpg)"
   ]
  },
  {
   "cell_type": "markdown",
   "id": "7ff43cf9",
   "metadata": {},
   "source": [
    "### Imports"
   ]
  },
  {
   "cell_type": "code",
   "execution_count": 1,
   "id": "db12cf19",
   "metadata": {},
   "outputs": [],
   "source": [
    "from aries_cloudcontroller import AriesAgentController\n",
    "import os\n",
    "from termcolor import colored"
   ]
  },
  {
   "cell_type": "markdown",
   "id": "8d72221f",
   "metadata": {},
   "source": [
    "### Initialise the Agent Controller"
   ]
  },
  {
   "cell_type": "code",
   "execution_count": 2,
   "id": "2c2b25a5",
   "metadata": {},
   "outputs": [
    {
     "name": "stdout",
     "output_type": "stream",
     "text": [
      "Initialising a controller with admin api at http://edinburgh-medical-school-agent:3021 and an api key of adminApiKey\n"
     ]
    }
   ],
   "source": [
    "api_key = os.getenv(\"ACAPY_ADMIN_API_KEY\")\n",
    "admin_url = os.getenv(\"ADMIN_URL\")\n",
    "\n",
    "print(f\"Initialising a controller with admin api at {admin_url} and an api key of {api_key}\")\n",
    "agent_controller = AriesAgentController(admin_url,api_key)"
   ]
  },
  {
   "cell_type": "markdown",
   "id": "71187528",
   "metadata": {},
   "source": [
    "### Start a Webhook Server"
   ]
  },
  {
   "cell_type": "code",
   "execution_count": 3,
   "id": "ada570c1",
   "metadata": {},
   "outputs": [
    {
     "name": "stdout",
     "output_type": "stream",
     "text": [
      "Listening for webhooks from agent at http://0.0.0.0:3010\n"
     ]
    }
   ],
   "source": [
    "webhook_port = int(os.getenv(\"WEBHOOK_PORT\"))\n",
    "webhook_host = \"0.0.0.0\"\n",
    "\n",
    "await agent_controller.init_webhook_server(webhook_host, webhook_port)\n",
    "\n",
    "print(f\"Listening for webhooks from agent at http://{webhook_host}:{webhook_port}\")"
   ]
  },
  {
   "cell_type": "markdown",
   "id": "a045d179",
   "metadata": {},
   "source": [
    "## Register Agent Event Listeners\n",
    "\n",
    "You can see some examples within the webhook_listeners recipe. Copy any relevant cells across and customise as needed."
   ]
  },
  {
   "cell_type": "code",
   "execution_count": 4,
   "id": "ebda81fa",
   "metadata": {},
   "outputs": [],
   "source": [
    "listeners = []"
   ]
  },
  {
   "cell_type": "code",
   "execution_count": 5,
   "id": "88c78945",
   "metadata": {},
   "outputs": [],
   "source": [
    "## YOUR LISTENERS HERE\n",
    "def holder_handler(payload):\n",
    "    connection_id = payload['connection_id']\n",
    "    exchange_id = payload['credential_exchange_id']\n",
    "    state = payload['state']\n",
    "    role = payload['role']\n",
    "    print(\"\\n---------------------------------------------------\\n\")\n",
    "    print(\"Handle Issue Credential Webhook\")\n",
    "    print(f\"Connection ID : {connection_id}\")\n",
    "    print(f\"Credential exchange ID : {exchange_id}\")\n",
    "    print(\"Agent Protocol Role : \", role)\n",
    "    print(\"Protocol State : \", state )\n",
    "    print(\"\\n---------------------------------------------------\\n\")\n",
    "    print(\"Handle Credential Webhook Payload\")\n",
    "    \n",
    "    if state == \"offer_received\":\n",
    "        print(\"Credential Offer Recieved\")\n",
    "        proposal = payload[\"credential_proposal_dict\"]\n",
    "        print(\"The proposal dictionary is likely how you would understand and display a credential offer in your application\")\n",
    "        print(\"\\n\", proposal)\n",
    "        print(\"\\n This includes the set of attributes you are being offered\")\n",
    "        attributes = proposal['credential_proposal']['attributes']\n",
    "        print(attributes)\n",
    "        ## YOUR LOGIC HERE\n",
    "    elif state == \"request_sent\":\n",
    "        print(\"\\nA credential request object contains the commitment to the agents master secret using the nonce from the offer\")\n",
    "        ## YOUR LOGIC HERE\n",
    "    elif state == \"credential_received\":\n",
    "        print(\"Received Credential\")\n",
    "        ## YOUR LOGIC HERE\n",
    "    elif state == \"credential_acked\":\n",
    "        ## YOUR LOGIC HERE\n",
    "        credential = payload[\"credential\"]\n",
    "        print(\"Credential Stored\\n\")\n",
    "        print(credential)\n",
    "        \n",
    "        print(\"\\nThe referent acts as the identifier for retrieving the raw credential from the wallet\")\n",
    "        # Note: You would probably save this in your application database\n",
    "        credential_referent = credential[\"referent\"]\n",
    "        print(\"Referent\", credential_referent)\n",
    "    \n",
    "\n",
    "\n",
    "    \n",
    "holder_listener = {\n",
    "    \"topic\": \"issue_credential\",\n",
    "    \"handler\": holder_handler\n",
    "}\n",
    "\n",
    "listeners.append(holder_listener)"
   ]
  },
  {
   "cell_type": "code",
   "execution_count": 6,
   "id": "bb5113df",
   "metadata": {},
   "outputs": [],
   "source": [
    "# Receive connection messages\n",
    "def connections_handler(payload):\n",
    "    state = payload['state']\n",
    "    connection_id = payload[\"connection_id\"]\n",
    "    their_role = payload[\"their_role\"]\n",
    "    routing_state = payload[\"routing_state\"]\n",
    "    \n",
    "    print(\"----------------------------------------------------------\")\n",
    "    print(\"Connection Webhook Event Received\")\n",
    "    print(\"Connection ID : \", connection_id)\n",
    "    print(\"State : \", state)\n",
    "    print(\"Routing State : \", routing_state)\n",
    "    print(\"Their Role : \", their_role)\n",
    "    print(\"----------------------------------------------------------\")\n",
    "\n",
    "    if state == \"invitation\":\n",
    "        # Your business logic\n",
    "        print(\"invitation\")\n",
    "    elif state == \"request\":\n",
    "        # Your business logic\n",
    "        print(\"request\")\n",
    "\n",
    "    elif state == \"response\":\n",
    "        # Your business logic\n",
    "        print(\"response\")\n",
    "    elif state == \"active\":\n",
    "        # Your business logic\n",
    "        print(colored(\"Connection ID: {0} is now active.\".format(connection_id), \"green\", attrs=[\"bold\"]))\n",
    "        \n",
    "\n",
    "connection_listener = {\n",
    "    \"handler\": connections_handler,\n",
    "    \"topic\": \"connections\"\n",
    "}\n",
    "\n",
    "listeners.append(connection_listener)"
   ]
  },
  {
   "cell_type": "code",
   "execution_count": 7,
   "id": "204b7799",
   "metadata": {},
   "outputs": [],
   "source": [
    "agent_controller.register_listeners(listeners)"
   ]
  },
  {
   "cell_type": "markdown",
   "id": "97e2f719",
   "metadata": {},
   "source": [
    "## GMC DID\n",
    "\n",
    "Trusted DID throughout the Scottish Healthcare System"
   ]
  },
  {
   "cell_type": "code",
   "execution_count": 8,
   "id": "bd40d111",
   "metadata": {},
   "outputs": [],
   "source": [
    "gmc_did = \"TDAbSf3Uqebg8N4XvybMbg\""
   ]
  },
  {
   "cell_type": "markdown",
   "id": "e986293e",
   "metadata": {},
   "source": [
    "## Establish a Connection\n",
    "\n",
    "Connection made with the GMC. This could be used in the future for secure communication between school and the GMC."
   ]
  },
  {
   "cell_type": "code",
   "execution_count": 9,
   "id": "ed11e2fb",
   "metadata": {},
   "outputs": [],
   "source": [
    "invitation = {'@type': 'did:sov:BzCbsNYhMrjHiqZDTUASHg;spec/connections/1.0/invitation', '@id': '89986e1b-c209-40cd-9751-f03b5c929e40', 'serviceEndpoint': 'http://592e-86-18-68-143.ngrok.io', 'recipientKeys': ['HD4kV4DJvM1YTTXXrJsXrueMr9eu4rqiixdxj5tSQWHg'], 'label': 'General Medical Council'}\n"
   ]
  },
  {
   "cell_type": "code",
   "execution_count": 10,
   "id": "4de25e92",
   "metadata": {},
   "outputs": [
    {
     "name": "stdout",
     "output_type": "stream",
     "text": [
      "----------------------------------------------------------\n",
      "Connection Webhook Event Received\n",
      "Connection ID :  3057a765-c23a-486d-abe1-4011a2a90115\n",
      "State :  invitation\n",
      "Routing State :  none\n",
      "Their Role :  inviter\n",
      "----------------------------------------------------------\n",
      "invitation\n",
      "----------------------------------------------------------\n",
      "Connection Webhook Event Received\n",
      "Connection ID :  3057a765-c23a-486d-abe1-4011a2a90115\n",
      "State :  request\n",
      "Routing State :  none\n",
      "Their Role :  inviter\n",
      "----------------------------------------------------------\n",
      "request\n",
      "----------------------------------------------------------\n",
      "Connection Webhook Event Received\n",
      "Connection ID :  3057a765-c23a-486d-abe1-4011a2a90115\n",
      "State :  response\n",
      "Routing State :  none\n",
      "Their Role :  inviter\n",
      "----------------------------------------------------------\n",
      "response\n",
      "----------------------------------------------------------\n",
      "Connection Webhook Event Received\n",
      "Connection ID :  3057a765-c23a-486d-abe1-4011a2a90115\n",
      "State :  active\n",
      "Routing State :  none\n",
      "Their Role :  inviter\n",
      "----------------------------------------------------------\n",
      "\u001b[1m\u001b[32mConnection ID: 3057a765-c23a-486d-abe1-4011a2a90115 is now active.\u001b[0m\n"
     ]
    }
   ],
   "source": [
    "auto_accept=False\n",
    "alias=\"General Medical School\"\n",
    "\n",
    "invite_response = await agent_controller.connections.receive_invitation(invitation, alias, auto_accept)\n",
    "connection_id = invite_response[\"connection_id\"]"
   ]
  },
  {
   "cell_type": "markdown",
   "id": "bd4a3bf4",
   "metadata": {},
   "source": [
    "## Request Credential From Offer\n",
    "\n",
    "Note: Your agent will automatically respond if ACAPY_AUTO_RESPOND_CREDENTIAL_OFFER=true flag is set in .env file of agent. Default is false.\n",
    "\n",
    "To respond to an offer you must identify the offer using the credential_exchange_id generated for it. This is available from within the issue-credential holder handler. You could add custom logic in this loop `elif state == \"request\":` to handle this.\n",
    "\n",
    "However, we will fetch the credential exchange records and **assume** this agent only has one record. Customise accordingly.\n"
   ]
  },
  {
   "cell_type": "code",
   "execution_count": 12,
   "id": "5079604a",
   "metadata": {},
   "outputs": [],
   "source": [
    "records_response = await agent_controller.issuer.get_records(connection_id=connection_id)\n",
    "record = records_response[\"results\"][0]\n",
    "record_id = record[\"credential_exchange_id\"]"
   ]
  },
  {
   "cell_type": "code",
   "execution_count": 13,
   "id": "509ab249",
   "metadata": {},
   "outputs": [
    {
     "name": "stdout",
     "output_type": "stream",
     "text": [
      "\n",
      "---------------------------------------------------\n",
      "\n",
      "Handle Issue Credential Webhook\n",
      "Connection ID : 3057a765-c23a-486d-abe1-4011a2a90115\n",
      "Credential exchange ID : 144bdc53-27fe-44a7-a2b5-10ce2dc89eab\n",
      "Agent Protocol Role :  holder\n",
      "Protocol State :  request_sent\n",
      "\n",
      "---------------------------------------------------\n",
      "\n",
      "Handle Credential Webhook Payload\n",
      "\n",
      "A credential request object contains the commitment to the agents master secret using the nonce from the offer\n"
     ]
    },
    {
     "data": {
      "text/plain": [
       "{'schema_id': 'TDAbSf3Uqebg8N4XvybMbg:2:Trusted School:0.0.6',\n",
       " 'credential_definition_id': 'TDAbSf3Uqebg8N4XvybMbg:3:CL:14:institution',\n",
       " 'credential_offer': {'schema_id': 'TDAbSf3Uqebg8N4XvybMbg:2:Trusted School:0.0.6',\n",
       "  'cred_def_id': 'TDAbSf3Uqebg8N4XvybMbg:3:CL:14:institution',\n",
       "  'nonce': '341661426509846543280917',\n",
       "  'key_correctness_proof': {'c': '84451606620903757328477013100628420576456330186172291013226639590829996068532',\n",
       "   'xz_cap': '276866702337311364558109688932240360499001446232213584798407224537325558755583455293126793647185636715555547067579464601890179985912885585514986623171216777400102849890939670819559945238379003185155750844450334550354715012199440868831538334612796131010694136395610709131478603270840299312735323397402774195657996700096968604435043328384150576955285814962189959114728412652821640427649931178326750681120435007197178346969274205612322816805637672408097675988854349688404833775990522913745949587065377323724977184535152836625507195525722162131105195853001869650553992709379309772066850954683083865714916628826223590481459463670887535414367959769999407785868444524922970673053147318225974685918258',\n",
       "   'xr_cap': [['name',\n",
       "     '2204161042235372049240453912552815466851935029637052016331836518056523277278254858140771225037385065828723514110513961509903268798780538934596327806140812060298270778689010310576191831402392626457728278165331698709228051592842487522795436211975859877178173898567581329783784128428458264423502471935448176130681968556618424259147881781464428815282705646243799271516334735554554302797806494876207957999845200628712736329969518169526958146895382235178595593564401606642833907590618832194845605920593600303625863538580964961970585839941453874499319548069676584587999971974125097850237510037081045891751552531264152793319705890657505182040322312335684459236923701849478160683116234219567361896676548'],\n",
       "    ['dateissued',\n",
       "     '852306638828388432789637194779361859589683626636125626757067222944786865941670157256415465042671155446045854853437123304634706310709562376805088279793872518502639411394106245631720160228330205898869985168740726888212933884463504927412112026843537129427718319423201653302162933783183151033652326062478302597403295668630275643452533858588707336021110688822920684889354117784441890549108784120611501412128960535567582848469781000450239986863946856905937016800003844745165031368092013137995629051791016074146144001878712522629860244621280979840749271947967559345100011963749541379185186650200693576799360011871203179277115236345454184290067407296601152310174976809647693560227012145840095585374683'],\n",
       "    ['master_secret',\n",
       "     '2492110772076743573857123491464710886453083760949976046214796335555547484224646015572947486504757964549260557427152743771254626222031514099722701473060049831947636964235792101451752624791392819920685371171291558195954559882504929771046880389102612543523197113609232596458440235242592937350324578358542110906307790640364321960017715321756818195594755250787301852739051573722666587335958742883140534112041038537943417946621550847165234190469482349840104719674040210306653835404485977113435586056732620005570331154477719544198486065062445852243463279527347707217317577803804281974097576746516278446170129785959210668536938858982378343924107966357074938632643643745518521473101909512686694832388782'],\n",
       "    ['re-validationdue',\n",
       "     '38094075615724105121084502891661302284939831165665832600186260958565594377791665937198103467899812645186809599917554308450684794723730599490796801107932802116651684815133447984936974414716250958378320693798839646566013017170097218097155075354128428122338829260028465816317388474476640262925283822446396289596882009033914373258654034514820038403717875296880535860428431625851693488347458844964264242323307373420165149382636760527975059744747092076519929387694787719130805576467393066119900233734831909671413996844624369981530667898003046014881818848720525777521928994737694878267581660372664767489405193672083314065779588656973089398292719736919141498618390123039280637931042794517888022255929']]}},\n",
       " 'updated_at': '2021-10-11 11:35:53.664830Z',\n",
       " 'auto_remove': False,\n",
       " 'trace': True,\n",
       " 'auto_offer': False,\n",
       " 'thread_id': 'eafd8656-ad9f-4cb3-842d-398033d17209',\n",
       " 'connection_id': '3057a765-c23a-486d-abe1-4011a2a90115',\n",
       " 'credential_proposal_dict': {'@type': 'did:sov:BzCbsNYhMrjHiqZDTUASHg;spec/issue-credential/1.0/propose-credential',\n",
       "  '@id': '9ed6cb7f-2857-496b-8180-44266762a429',\n",
       "  'credential_proposal': {'@type': 'did:sov:BzCbsNYhMrjHiqZDTUASHg;spec/issue-credential/1.0/credential-preview',\n",
       "   'attributes': [{'name': 'Name', 'value': 'Edinburgh Medical School'},\n",
       "    {'name': 'Date Issued', 'value': '2021-10-11'},\n",
       "    {'name': 'Re-Validation Due', 'value': '2026-10-10'}]},\n",
       "  'schema_id': 'TDAbSf3Uqebg8N4XvybMbg:2:Trusted School:0.0.6',\n",
       "  'comment': '',\n",
       "  'cred_def_id': 'TDAbSf3Uqebg8N4XvybMbg:3:CL:14:institution'},\n",
       " 'credential_request': {'prover_did': 'B7cHYyPSw4FhgmLKT81R2n',\n",
       "  'cred_def_id': 'TDAbSf3Uqebg8N4XvybMbg:3:CL:14:institution',\n",
       "  'blinded_ms': {'u': '72163067643002002193185663378065178160516771829493025462700111171824527919329987775334522802120182769180971120014968948926750133207661490967594122031216669582705588016761150451353165947018131443760049551098012361718203137551389719578750736107945300137110260197270609281242140492328082516095247946328305259409855044010551668913184244870780373060691590924176449614062750602433057857996858951429329383352788726051540082501803711900385488028858724218568612756698257127643730805846743379546016353610769872708703528910962697197957178112938314320444476508767126764070709172099234092336099591904697736247201372831404099200084',\n",
       "   'ur': '1 110029A4A5FB72CC630E1922C84B749F22536766D9DFA9C5DB2BF9FF71D824BD 1 0094F3E45BA26C3CF73A0D44837D69D594FAC2DC712AB1ED85D9B5558CAC76A5 2 095E45DDF417D05FB10933FFC63D474548B7FFFF7888802F07FFFFFF7D07A8A8',\n",
       "   'hidden_attributes': ['master_secret'],\n",
       "   'committed_attributes': {}},\n",
       "  'blinded_ms_correctness_proof': {'c': '106534792119280962762615088838546981660002122238570508231711730079553171574268',\n",
       "   'v_dash_cap': '1028187710229439808551512081240487995309341450756642435943908215223842338159304191859121464777018692946799225284167245094456250957113751220496128091265802694862903135826422240014950321341655621224619332554817199251321786859396571859862401672789561528481832242885315203636926723838409391688301008940114644829241431060498349998917369363174834616450077602787079615555758112347578891622637413262021590537400688202365022344755892696966592194934062848528556630222174667084334003404746506423121315807588989155499539077662145561681208343710790540810909871459238301040011939398259829069654308926240490365966052071580384191879956962140507311217070141286997823435941462085268882412069917059743820958572439107567591294026864143713',\n",
       "   'm_caps': {'master_secret': '5182329496488498710473313753817472768149997076651800461750149438225972540081576510526577466839392920512482778349962222662593177366072852770222381135495235496501896710035579372888'},\n",
       "   'r_caps': {}},\n",
       "  'nonce': '1176160123700396042103824'},\n",
       " 'auto_issue': False,\n",
       " 'role': 'holder',\n",
       " 'credential_exchange_id': '144bdc53-27fe-44a7-a2b5-10ce2dc89eab',\n",
       " 'initiator': 'external',\n",
       " 'created_at': '2021-10-11 11:35:47.063787Z',\n",
       " 'state': 'request_sent',\n",
       " 'credential_request_metadata': {'master_secret_blinding_data': {'v_prime': '9651191782288703965869445091800722373923516639341625603457617212902237045866148371860829977792907061292187625692681310414549504576245168930185504704392894765247723169862621971869646007273416112836434248245069767942836663796087814206671374684271403780775809943704549503990459592364214078353513428590388669014197988971162139602409503794220966628390751406052431666759735109407690225142876106217555132583312003800580060092380097590875676442940222755436783507729904664709952765221892361207407691976339582756237576706577283328948333446652577708211765144055471935828114962903192735360207199845013754709796811104702271829966828445919453200164461332',\n",
       "   'vr_prime': '0031F88F7C010468AA565522CAA245C7903B1DBE5A2311394B170F12DD9C3055'},\n",
       "  'nonce': '1176160123700396042103824',\n",
       "  'master_secret_name': 'EMS_WALET'}}"
      ]
     },
     "execution_count": 13,
     "metadata": {},
     "output_type": "execute_result"
    },
    {
     "name": "stdout",
     "output_type": "stream",
     "text": [
      "\n",
      "---------------------------------------------------\n",
      "\n",
      "Handle Issue Credential Webhook\n",
      "Connection ID : 3057a765-c23a-486d-abe1-4011a2a90115\n",
      "Credential exchange ID : 144bdc53-27fe-44a7-a2b5-10ce2dc89eab\n",
      "Agent Protocol Role :  holder\n",
      "Protocol State :  credential_received\n",
      "\n",
      "---------------------------------------------------\n",
      "\n",
      "Handle Credential Webhook Payload\n",
      "Received Credential\n"
     ]
    }
   ],
   "source": [
    "await agent_controller.issuer.send_request_for_record(record_id)"
   ]
  },
  {
   "cell_type": "markdown",
   "id": "e3a729db",
   "metadata": {},
   "source": [
    "## Store Received Credential\n",
    "\n",
    "This will be done automatically if the ACAPY_AUTO_STORE_CREDENTIAL=true flag is set in the .env file for this agent. Default is false.\n",
    "\n",
    "Again you could handle this in your holder handler function in the `elif state == \"credential_received\":` loop."
   ]
  },
  {
   "cell_type": "code",
   "execution_count": 14,
   "id": "376a9ef9",
   "metadata": {},
   "outputs": [
    {
     "name": "stdout",
     "output_type": "stream",
     "text": [
      "\n",
      "---------------------------------------------------\n",
      "\n",
      "Handle Issue Credential Webhook\n",
      "Connection ID : 3057a765-c23a-486d-abe1-4011a2a90115\n",
      "Credential exchange ID : 144bdc53-27fe-44a7-a2b5-10ce2dc89eab\n",
      "Agent Protocol Role :  holder\n",
      "Protocol State :  credential_acked\n",
      "\n",
      "---------------------------------------------------\n",
      "\n",
      "Handle Credential Webhook Payload\n",
      "Credential Stored\n",
      "\n",
      "{'referent': 'Medical School', 'attrs': {'Date Issued': '2021-10-11', 'Name': 'Edinburgh Medical School', 'Re-Validation Due': '2026-10-10'}, 'schema_id': 'TDAbSf3Uqebg8N4XvybMbg:2:Trusted School:0.0.6', 'cred_def_id': 'TDAbSf3Uqebg8N4XvybMbg:3:CL:14:institution', 'rev_reg_id': 'TDAbSf3Uqebg8N4XvybMbg:4:TDAbSf3Uqebg8N4XvybMbg:3:CL:14:institution:CL_ACCUM:fc5dffbb-900a-4de6-bd8d-0ba83955fa67', 'cred_rev_id': '1'}\n",
      "\n",
      "The referent acts as the identifier for retrieving the raw credential from the wallet\n",
      "Referent Medical School\n"
     ]
    }
   ],
   "source": [
    "# Optionally specify an identifier to uniquely identify this credential within your agents wallet.\n",
    "# You would likely want to save this somewhere.\n",
    "# If not set a random one will be generated for you\n",
    "credential_id = \"Medical School\"\n",
    "\n",
    "store_cred_response = await agent_controller.issuer.store_credential(record_id, credential_id)"
   ]
  },
  {
   "cell_type": "markdown",
   "id": "8096b1b3",
   "metadata": {},
   "source": [
    "## Terminate Controller\n",
    "\n",
    "Whenever you have finished with this notebook, be sure to terminate the controller. This is especially important if your business logic runs across multiple notebooks."
   ]
  },
  {
   "cell_type": "code",
   "execution_count": 15,
   "id": "20ffdbf9",
   "metadata": {},
   "outputs": [],
   "source": [
    "await agent_controller.terminate()"
   ]
  },
  {
   "cell_type": "code",
   "execution_count": null,
   "id": "3ffac86b",
   "metadata": {},
   "outputs": [],
   "source": []
  }
 ],
 "metadata": {
  "kernelspec": {
   "display_name": "Python 3",
   "language": "python",
   "name": "python3"
  },
  "language_info": {
   "codemirror_mode": {
    "name": "ipython",
    "version": 3
   },
   "file_extension": ".py",
   "mimetype": "text/x-python",
   "name": "python",
   "nbconvert_exporter": "python",
   "pygments_lexer": "ipython3",
   "version": "3.8.5"
  }
 },
 "nbformat": 4,
 "nbformat_minor": 5
}
