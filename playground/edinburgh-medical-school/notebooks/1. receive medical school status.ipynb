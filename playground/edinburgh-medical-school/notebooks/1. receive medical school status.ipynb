{
 "cells": [
  {
   "cell_type": "markdown",
   "id": "8148f6d7",
   "metadata": {},
   "source": [
    "# Edinburgh Medical School Demonstrates Competence as Medical Educator\n",
    "\n",
    "\n",
    "![](https://www.studymedicineeurope.com/wp-content/uploads/2020/07/NP-_-General-Medicin-Council-7-2020-NS.jpg)"
   ]
  },
  {
   "cell_type": "markdown",
   "id": "2bab6153",
   "metadata": {},
   "source": [
    "### Imports"
   ]
  },
  {
   "cell_type": "code",
   "execution_count": 1,
   "id": "1d17fa8f",
   "metadata": {},
   "outputs": [],
   "source": [
    "from aries_cloudcontroller import AriesAgentController\n",
    "import os\n",
    "from termcolor import colored"
   ]
  },
  {
   "cell_type": "markdown",
   "id": "a12e616f",
   "metadata": {},
   "source": [
    "### Initialise the Agent Controller"
   ]
  },
  {
   "cell_type": "code",
   "execution_count": 2,
   "id": "d49994b5",
   "metadata": {},
   "outputs": [
    {
     "name": "stdout",
     "output_type": "stream",
     "text": [
      "Initialising a controller with admin api at http://edinburgh-medical-school-agent:3021 and an api key of adminApiKey\n"
     ]
    }
   ],
   "source": [
    "api_key = os.getenv(\"ACAPY_ADMIN_API_KEY\")\n",
    "admin_url = os.getenv(\"ADMIN_URL\")\n",
    "\n",
    "print(f\"Initialising a controller with admin api at {admin_url} and an api key of {api_key}\")\n",
    "agent_controller = AriesAgentController(admin_url,api_key)"
   ]
  },
  {
   "cell_type": "markdown",
   "id": "53a4382b",
   "metadata": {},
   "source": [
    "### Start a Webhook Server"
   ]
  },
  {
   "cell_type": "code",
   "execution_count": 3,
   "id": "2fde56fd",
   "metadata": {},
   "outputs": [
    {
     "name": "stdout",
     "output_type": "stream",
     "text": [
      "Listening for webhooks from agent at http://0.0.0.0:3010\n"
     ]
    }
   ],
   "source": [
    "webhook_port = int(os.getenv(\"WEBHOOK_PORT\"))\n",
    "webhook_host = \"0.0.0.0\"\n",
    "\n",
    "await agent_controller.init_webhook_server(webhook_host, webhook_port)\n",
    "\n",
    "print(f\"Listening for webhooks from agent at http://{webhook_host}:{webhook_port}\")"
   ]
  },
  {
   "cell_type": "markdown",
   "id": "bb40fa80",
   "metadata": {},
   "source": [
    "## Register Agent Event Listeners\n",
    "\n",
    "You can see some examples within the webhook_listeners recipe. Copy any relevant cells across and customise as needed."
   ]
  },
  {
   "cell_type": "code",
   "execution_count": 4,
   "id": "59862515",
   "metadata": {},
   "outputs": [],
   "source": [
    "listeners = []"
   ]
  },
  {
   "cell_type": "code",
   "execution_count": 5,
   "id": "c4cae1aa",
   "metadata": {},
   "outputs": [],
   "source": [
    "## YOUR LISTENERS HERE\n",
    "def holder_handler(payload):\n",
    "    connection_id = payload['connection_id']\n",
    "    exchange_id = payload['credential_exchange_id']\n",
    "    state = payload['state']\n",
    "    role = payload['role']\n",
    "    print(\"\\n---------------------------------------------------\\n\")\n",
    "    print(\"Handle Issue Credential Webhook\")\n",
    "    print(f\"Connection ID : {connection_id}\")\n",
    "    print(f\"Credential exchange ID : {exchange_id}\")\n",
    "    print(\"Agent Protocol Role : \", role)\n",
    "    print(\"Protocol State : \", state )\n",
    "    print(\"\\n---------------------------------------------------\\n\")\n",
    "    print(\"Handle Credential Webhook Payload\")\n",
    "    \n",
    "    if state == \"offer_received\":\n",
    "        print(\"Credential Offer Recieved\")\n",
    "        proposal = payload[\"credential_proposal_dict\"]\n",
    "        print(\"The proposal dictionary is likely how you would understand and display a credential offer in your application\")\n",
    "        print(\"\\n\", proposal)\n",
    "        print(\"\\n This includes the set of attributes you are being offered\")\n",
    "        attributes = proposal['credential_proposal']['attributes']\n",
    "        print(attributes)\n",
    "        ## YOUR LOGIC HERE\n",
    "    elif state == \"request_sent\":\n",
    "        print(\"\\nA credential request object contains the commitment to the agents master secret using the nonce from the offer\")\n",
    "        ## YOUR LOGIC HERE\n",
    "    elif state == \"credential_received\":\n",
    "        print(\"Received Credential\")\n",
    "        ## YOUR LOGIC HERE\n",
    "    elif state == \"credential_acked\":\n",
    "        ## YOUR LOGIC HERE\n",
    "        credential = payload[\"credential\"]\n",
    "        print(\"Credential Stored\\n\")\n",
    "        print(credential)\n",
    "        \n",
    "        print(\"\\nThe referent acts as the identifier for retrieving the raw credential from the wallet\")\n",
    "        # Note: You would probably save this in your application database\n",
    "        credential_referent = credential[\"referent\"]\n",
    "        print(\"Referent\", credential_referent)\n",
    "    \n",
    "\n",
    "\n",
    "    \n",
    "holder_listener = {\n",
    "    \"topic\": \"issue_credential\",\n",
    "    \"handler\": holder_handler\n",
    "}\n",
    "\n",
    "listeners.append(holder_listener)"
   ]
  },
  {
   "cell_type": "code",
   "execution_count": 6,
   "id": "3320af53",
   "metadata": {},
   "outputs": [],
   "source": [
    "# Receive connection messages\n",
    "def connections_handler(payload):\n",
    "    state = payload['state']\n",
    "    connection_id = payload[\"connection_id\"]\n",
    "    their_role = payload[\"their_role\"]\n",
    "    routing_state = payload[\"routing_state\"]\n",
    "    \n",
    "    print(\"----------------------------------------------------------\")\n",
    "    print(\"Connection Webhook Event Received\")\n",
    "    print(\"Connection ID : \", connection_id)\n",
    "    print(\"State : \", state)\n",
    "    print(\"Routing State : \", routing_state)\n",
    "    print(\"Their Role : \", their_role)\n",
    "    print(\"----------------------------------------------------------\")\n",
    "\n",
    "    if state == \"invitation\":\n",
    "        # Your business logic\n",
    "        print(\"invitation\")\n",
    "    elif state == \"request\":\n",
    "        # Your business logic\n",
    "        print(\"request\")\n",
    "\n",
    "    elif state == \"response\":\n",
    "        # Your business logic\n",
    "        print(\"response\")\n",
    "    elif state == \"active\":\n",
    "        # Your business logic\n",
    "        print(colored(\"Connection ID: {0} is now active.\".format(connection_id), \"green\", attrs=[\"bold\"]))\n",
    "        \n",
    "\n",
    "connection_listener = {\n",
    "    \"handler\": connections_handler,\n",
    "    \"topic\": \"connections\"\n",
    "}\n",
    "\n",
    "listeners.append(connection_listener)"
   ]
  },
  {
   "cell_type": "code",
   "execution_count": 7,
   "id": "b6162849",
   "metadata": {},
   "outputs": [],
   "source": [
    "agent_controller.register_listeners(listeners)"
   ]
  },
  {
   "cell_type": "markdown",
   "id": "aaae2e5a",
   "metadata": {},
   "source": [
    "## GMC DID\n",
    "\n",
    "Trusted DID throughout the Scottish Healthcare System"
   ]
  },
  {
   "cell_type": "code",
   "execution_count": 8,
   "id": "b0fcc54d",
   "metadata": {},
   "outputs": [],
   "source": [
    "gmc_did = \"TDAbSf3Uqebg8N4XvybMbg\""
   ]
  },
  {
   "cell_type": "markdown",
   "id": "6a0f81fb",
   "metadata": {},
   "source": [
    "## Establish a Connection\n",
    "\n",
    "Connection made with the GMC. This could be used in the future for secure communication between school and the GMC."
   ]
  },
  {
   "cell_type": "code",
   "execution_count": 9,
   "id": "691c7bbc",
   "metadata": {},
   "outputs": [],
   "source": [
    "invitation = {'@type': 'did:sov:BzCbsNYhMrjHiqZDTUASHg;spec/connections/1.0/invitation', '@id': '193c2118-b8f3-4809-b2d9-e570e69a1347', 'recipientKeys': ['GzZxZieKMMF6jC3NCaVzPG7HtuLMWNNLatLpQN34ScwM'], 'serviceEndpoint': 'http://general-medical-council-agent:3020', 'label': 'General Medical Council'}\n"
   ]
  },
  {
   "cell_type": "code",
   "execution_count": 10,
   "id": "3c7c0b5b",
   "metadata": {},
   "outputs": [
    {
     "name": "stdout",
     "output_type": "stream",
     "text": [
      "----------------------------------------------------------\n",
      "Connection Webhook Event Received\n",
      "Connection ID :  101e39b1-45cf-4c61-b149-dfd2a08b9c58\n",
      "State :  invitation\n",
      "Routing State :  none\n",
      "Their Role :  inviter\n",
      "----------------------------------------------------------\n",
      "invitation\n",
      "----------------------------------------------------------\n",
      "Connection Webhook Event Received\n",
      "Connection ID :  101e39b1-45cf-4c61-b149-dfd2a08b9c58\n",
      "State :  request\n",
      "Routing State :  none\n",
      "Their Role :  inviter\n",
      "----------------------------------------------------------\n",
      "request\n",
      "----------------------------------------------------------\n",
      "Connection Webhook Event Received\n",
      "Connection ID :  101e39b1-45cf-4c61-b149-dfd2a08b9c58\n",
      "State :  response\n",
      "Routing State :  none\n",
      "Their Role :  inviter\n",
      "----------------------------------------------------------\n",
      "response\n",
      "----------------------------------------------------------\n",
      "Connection Webhook Event Received\n",
      "Connection ID :  101e39b1-45cf-4c61-b149-dfd2a08b9c58\n",
      "State :  active\n",
      "Routing State :  none\n",
      "Their Role :  inviter\n",
      "----------------------------------------------------------\n",
      "\u001b[1m\u001b[32mConnection ID: 101e39b1-45cf-4c61-b149-dfd2a08b9c58 is now active.\u001b[0m\n",
      "\n",
      "---------------------------------------------------\n",
      "\n",
      "Handle Issue Credential Webhook\n",
      "Connection ID : 101e39b1-45cf-4c61-b149-dfd2a08b9c58\n",
      "Credential exchange ID : 72b39d4c-49bc-42d1-988f-27260aff46a4\n",
      "Agent Protocol Role :  holder\n",
      "Protocol State :  offer_received\n",
      "\n",
      "---------------------------------------------------\n",
      "\n",
      "Handle Credential Webhook Payload\n",
      "Credential Offer Recieved\n",
      "The proposal dictionary is likely how you would understand and display a credential offer in your application\n",
      "\n",
      " {'@type': 'did:sov:BzCbsNYhMrjHiqZDTUASHg;spec/issue-credential/1.0/propose-credential', '@id': 'f09c6945-451d-4068-888f-360bb946eba0', 'cred_def_id': 'TDAbSf3Uqebg8N4XvybMbg:3:CL:14:institution', 'credential_proposal': {'@type': 'did:sov:BzCbsNYhMrjHiqZDTUASHg;spec/issue-credential/1.0/credential-preview', 'attributes': [{'name': 'Name', 'value': 'Edinburgh Medical School'}, {'name': 'Date Issued', 'value': '2021-09-02'}, {'name': 'Re-Validation Due', 'value': '2026-09-01'}]}, 'comment': '', 'schema_id': 'TDAbSf3Uqebg8N4XvybMbg:2:Trusted School:0.0.6'}\n",
      "\n",
      " This includes the set of attributes you are being offered\n",
      "[{'name': 'Name', 'value': 'Edinburgh Medical School'}, {'name': 'Date Issued', 'value': '2021-09-02'}, {'name': 'Re-Validation Due', 'value': '2026-09-01'}]\n"
     ]
    }
   ],
   "source": [
    "auto_accept=False\n",
    "alias=\"General Medical School\"\n",
    "\n",
    "invite_response = await agent_controller.connections.receive_invitation(invitation, alias, auto_accept)\n",
    "connection_id = invite_response[\"connection_id\"]"
   ]
  },
  {
   "cell_type": "code",
   "execution_count": null,
   "id": "13ae63e4",
   "metadata": {},
   "outputs": [],
   "source": [
    "invite_response = await agent_controller.connections.accept_connection(connection_id)\n",
    "connection_id = invite_response[\"connection_id\"]"
   ]
  },
  {
   "cell_type": "markdown",
   "id": "e39d290f",
   "metadata": {},
   "source": [
    "## Request Credential From Offer\n",
    "\n",
    "Note: Your agent will automatically respond if ACAPY_AUTO_RESPOND_CREDENTIAL_OFFER=true flag is set in .env file of agent. Default is false.\n",
    "\n",
    "To respond to an offer you must identify the offer using the credential_exchange_id generated for it. This is available from within the issue-credential holder handler. You could add custom logic in this loop `elif state == \"request\":` to handle this.\n",
    "\n",
    "However, we will fetch the credential exchange records and **assume** this agent only has one record. Customise accordingly.\n"
   ]
  },
  {
   "cell_type": "code",
   "execution_count": 11,
   "id": "8d6eee9e",
   "metadata": {},
   "outputs": [],
   "source": [
    "records_response = await agent_controller.issuer.get_records(connection_id=connection_id)\n",
    "record = records_response[\"results\"][0]\n",
    "record_id = record[\"credential_exchange_id\"]"
   ]
  },
  {
   "cell_type": "code",
   "execution_count": 12,
   "id": "289b1158",
   "metadata": {},
   "outputs": [
    {
     "name": "stdout",
     "output_type": "stream",
     "text": [
      "\n",
      "---------------------------------------------------\n",
      "\n",
      "Handle Issue Credential Webhook\n",
      "Connection ID : 101e39b1-45cf-4c61-b149-dfd2a08b9c58\n",
      "Credential exchange ID : 72b39d4c-49bc-42d1-988f-27260aff46a4\n",
      "Agent Protocol Role :  holder\n",
      "Protocol State :  request_sent\n",
      "\n",
      "---------------------------------------------------\n",
      "\n",
      "Handle Credential Webhook Payload\n",
      "\n",
      "A credential request object contains the commitment to the agents master secret using the nonce from the offer\n"
     ]
    },
    {
     "data": {
      "text/plain": [
       "{'credential_definition_id': 'TDAbSf3Uqebg8N4XvybMbg:3:CL:14:institution',\n",
       " 'role': 'holder',\n",
       " 'auto_offer': False,\n",
       " 'auto_remove': False,\n",
       " 'created_at': '2021-09-02 10:29:53.896988Z',\n",
       " 'auto_issue': False,\n",
       " 'trace': True,\n",
       " 'initiator': 'external',\n",
       " 'credential_request_metadata': {'master_secret_blinding_data': {'v_prime': '4991267454100260148575744900519863182280432681824417301361151630729203561794010025278436831336709982963082669293570671159860490611735039338170632627083924299255207297943824825197139048333758325214809783410663117085932851694187494076175018020644081762263528115943925502187003044029280823870058554581112705970036762305911757429385665982675736227726723279746330839132144998018121680215489799230227681357028762646969084503332633686177695554542400977864718230427758085006356784298528443889418918656123625762791840468905863001097678718953554963813676013611924777895747269159291001601107739359713993836473317565794941188655997369456005212403406176',\n",
       "   'vr_prime': '222DCAD743FACE97F7DAA3C20FE1339B7E932D0F3FEF39E4C5BE779F40741CC4'},\n",
       "  'nonce': '618219044968584696852319',\n",
       "  'master_secret_name': 'EMS_WALET'},\n",
       " 'credential_exchange_id': '72b39d4c-49bc-42d1-988f-27260aff46a4',\n",
       " 'connection_id': '101e39b1-45cf-4c61-b149-dfd2a08b9c58',\n",
       " 'thread_id': 'd4b91f16-81e2-4d48-bb35-c7c5ae00e0ff',\n",
       " 'state': 'request_sent',\n",
       " 'credential_proposal_dict': {'@type': 'did:sov:BzCbsNYhMrjHiqZDTUASHg;spec/issue-credential/1.0/propose-credential',\n",
       "  '@id': 'f09c6945-451d-4068-888f-360bb946eba0',\n",
       "  'cred_def_id': 'TDAbSf3Uqebg8N4XvybMbg:3:CL:14:institution',\n",
       "  'credential_proposal': {'@type': 'did:sov:BzCbsNYhMrjHiqZDTUASHg;spec/issue-credential/1.0/credential-preview',\n",
       "   'attributes': [{'name': 'Name', 'value': 'Edinburgh Medical School'},\n",
       "    {'name': 'Date Issued', 'value': '2021-09-02'},\n",
       "    {'name': 'Re-Validation Due', 'value': '2026-09-01'}]},\n",
       "  'comment': '',\n",
       "  'schema_id': 'TDAbSf3Uqebg8N4XvybMbg:2:Trusted School:0.0.6'},\n",
       " 'credential_request': {'prover_did': 'KTMff2oQaERfyLTLnaUKZm',\n",
       "  'cred_def_id': 'TDAbSf3Uqebg8N4XvybMbg:3:CL:14:institution',\n",
       "  'blinded_ms': {'u': '18140488780805126650880861955994202614368371116618420429749677573381864306914791117906643360041539885900448450438538522250536928845141422061521644612982781610872335401589838353963355540219303752308365838793759250865082900114948219704485163359002380291870528213645832494832423224902925986545198301252757014669243945478958095943933717354632929349965330808425145207829075008428774954110925571946347761565582164935985828391941841059466967477838730660143579267093084754380440177766902987331361847217599477537399122162092294204027672576123421827866455889689435451544131345219091778188060424311983221833349149179023086421996',\n",
       "   'ur': '1 16A0A6552FC239AD571694693A997F6523AFE85DBD3F39C338A3AB454FE5D6CD 1 1015B6966099B3E0061C4CD47B486B86884531CDF85194DE389D77F95E634034 2 095E45DDF417D05FB10933FFC63D474548B7FFFF7888802F07FFFFFF7D07A8A8',\n",
       "   'hidden_attributes': ['master_secret'],\n",
       "   'committed_attributes': {}},\n",
       "  'blinded_ms_correctness_proof': {'c': '58960106913798026161215710837370123022549222324814259595770604060986226592026',\n",
       "   'v_dash_cap': '294285662729111820587135728810797083023094079770344793648696417414102667147254237310744869150021889707867581183506662475522086035738526051670459673461232068418265600578175298401398203831076361681440044445261160000256779766216873021437648809549502609660934806974691938762848705551454216355683284451960311650402856743547249703021653359656871170345523608791314759037319560347687350711833813916931599036040946070497376481152190432687509952944187075372126263963329410180906593422948058427478352443054256381365041418151481162945161383390264806173141118796958219574727325698282223974007080458496389611607405242465487295893376504284122803470118619833440914297745750105595633805140371837841261544173226110273396219788268687349',\n",
       "   'm_caps': {'master_secret': '5788085945525055465237042892163714675525886622685480480870996121407346534081039737418841815441232068725149545095029694299118994558800614229775529728232379022028607986236290623148'},\n",
       "   'r_caps': {}},\n",
       "  'nonce': '618219044968584696852319'},\n",
       " 'credential_offer': {'schema_id': 'TDAbSf3Uqebg8N4XvybMbg:2:Trusted School:0.0.6',\n",
       "  'cred_def_id': 'TDAbSf3Uqebg8N4XvybMbg:3:CL:14:institution',\n",
       "  'nonce': '182870644806015191740712',\n",
       "  'key_correctness_proof': {'c': '78081157235823942077167320157945496091791067710609922806749344969117694855448',\n",
       "   'xz_cap': '1507254704335826458808363222824033678924160068004707862006718973209373755685069833241732411854855409431553920590226261127963610921569894433619138268581503638477708074644714210211425275526348356168633051175488416716866278512196310552287343668973607233577788477129306690094775222981666041181200434365325850030872140598542627493964271490494289624353852260406865562696925988480080568196639619293258572335173373584943678886624520682970999209238908959387341279442885321482503847320338008668922353751878866417166717537584690282469909308121921931768609638424370456266138765611509788251676030116457034933603974729833099478899114161124318259445453761677685223029605006971927971636567523079661609280510941',\n",
       "   'xr_cap': [['re-validationdue',\n",
       "     '1280610041295975228397148472772635775735921915513109235781289632711832488535578037451674780798988168528370108388902488814424531406681782165645210221775673873254764756763653642087125953479823797491180112270363306555306719177695796903322689956337164255630610788492921763244176409697331963075306786869551767785609209588086317135187640725248562504286691401811771960847667674426746927215050607624839480381358805676795996387457402901926721269650962986469798033023071550896670291056052576652356547603761731598640356014226026904185793094423620248920929969601356164671781299102578077176987662640326693361776412375455119725307786416342353892752002441309918329600674667902750934765189649323934721719602461'],\n",
       "    ['master_secret',\n",
       "     '622664056794889252990142933978521638546697100450488905369272160370138868843179271680421289805741474332868028000920242264853177383728268037153312033243483344145527502060115285268304490461060021064396099708787209782938041667583034042899823798343291375228749038837369662241621508062749885146029156799817044793117162994446006458412400542054824939233712220864289291498455552166063684618652402318761244175372109041802704940027602673884348736187135165590482026389284443661307572968891042205674738983092993634661632700232176155112428543396714323405481039093875228492242787926226163850543820998071982494473351822664334611971138258931620251926287737924655509105783423130196925080125262220194047659759189'],\n",
       "    ['dateissued',\n",
       "     '1757369111049725055949488099302440945756073429819949099794494863111825507240848414263645329575240708141262023448994666957373807739929635522630708133612350248646812690652168735056848465536500295600416123370606268768005371369228880101195588055321983921464432197932200287904319788817145627152210051040947574586317067949019371180878272011646166776807790457893852231359862211158139090203541018855288440828468275372938697605349290933744165781957788778546051169583452707422627695940704771198133774494186767167893489677814159339510636701627491850176253504887872571397838299040992167806687046550160000537841708687244265657212777293757839571811623176616403485999072608517168959317817207709765991021294612'],\n",
       "    ['name',\n",
       "     '114853242143596534112730650447668601337341435537963063455913718043663291472146766805226280440231587447181525374171603361353174503327750303768032579086133804069147044921679193139326889714027298987854954717994852958892807999233399938362450263609892052508035405484944153062045438436088911223980939391577367537163526192420911210742356055440039407062668905696305045206937444936223026598057604736448678757872486716286283921937240358435074707958836616859972835703064676900501545935358906539404023883113397819165836713360529580394130259248799057321287711556380252290258218896436875044497241476550252471741897869585268027099980627501613246698208168268782855437403793169281061418584176971723421054039523']]}},\n",
       " 'updated_at': '2021-09-02 10:30:10.865548Z',\n",
       " 'schema_id': 'TDAbSf3Uqebg8N4XvybMbg:2:Trusted School:0.0.6'}"
      ]
     },
     "execution_count": 12,
     "metadata": {},
     "output_type": "execute_result"
    },
    {
     "name": "stdout",
     "output_type": "stream",
     "text": [
      "\n",
      "---------------------------------------------------\n",
      "\n",
      "Handle Issue Credential Webhook\n",
      "Connection ID : 101e39b1-45cf-4c61-b149-dfd2a08b9c58\n",
      "Credential exchange ID : 72b39d4c-49bc-42d1-988f-27260aff46a4\n",
      "Agent Protocol Role :  holder\n",
      "Protocol State :  credential_received\n",
      "\n",
      "---------------------------------------------------\n",
      "\n",
      "Handle Credential Webhook Payload\n",
      "Received Credential\n"
     ]
    }
   ],
   "source": [
    "await agent_controller.issuer.send_request_for_record(record_id)"
   ]
  },
  {
   "cell_type": "markdown",
   "id": "591f2745",
   "metadata": {},
   "source": [
    "## Store Received Credential\n",
    "\n",
    "This will be done automatically if the ACAPY_AUTO_STORE_CREDENTIAL=true flag is set in the .env file for this agent. Default is false.\n",
    "\n",
    "Again you could handle this in your holder handler function in the `elif state == \"credential_received\":` loop."
   ]
  },
  {
   "cell_type": "code",
   "execution_count": 13,
   "id": "8790545a",
   "metadata": {},
   "outputs": [
    {
     "name": "stdout",
     "output_type": "stream",
     "text": [
      "\n",
      "---------------------------------------------------\n",
      "\n",
      "Handle Issue Credential Webhook\n",
      "Connection ID : 101e39b1-45cf-4c61-b149-dfd2a08b9c58\n",
      "Credential exchange ID : 72b39d4c-49bc-42d1-988f-27260aff46a4\n",
      "Agent Protocol Role :  holder\n",
      "Protocol State :  credential_acked\n",
      "\n",
      "---------------------------------------------------\n",
      "\n",
      "Handle Credential Webhook Payload\n",
      "Credential Stored\n",
      "\n",
      "{'referent': 'Medical School', 'attrs': {'Date Issued': '2021-09-02', 'Name': 'Edinburgh Medical School', 'Re-Validation Due': '2026-09-01'}, 'schema_id': 'TDAbSf3Uqebg8N4XvybMbg:2:Trusted School:0.0.6', 'cred_def_id': 'TDAbSf3Uqebg8N4XvybMbg:3:CL:14:institution', 'rev_reg_id': 'TDAbSf3Uqebg8N4XvybMbg:4:TDAbSf3Uqebg8N4XvybMbg:3:CL:14:institution:CL_ACCUM:7604c775-f123-49db-9675-c164d46e29fe', 'cred_rev_id': '1'}\n",
      "\n",
      "The referent acts as the identifier for retrieving the raw credential from the wallet\n",
      "Referent Medical School\n"
     ]
    }
   ],
   "source": [
    "# Optionally specify an identifier to uniquely identify this credential within your agents wallet.\n",
    "# You would likely want to save this somewhere.\n",
    "# If not set a random one will be generated for you\n",
    "credential_id = \"Medical School\"\n",
    "\n",
    "store_cred_response = await agent_controller.issuer.store_credential(record_id, credential_id)"
   ]
  },
  {
   "cell_type": "markdown",
   "id": "7f8d2294",
   "metadata": {},
   "source": [
    "## Terminate Controller\n",
    "\n",
    "Whenever you have finished with this notebook, be sure to terminate the controller. This is especially important if your business logic runs across multiple notebooks."
   ]
  },
  {
   "cell_type": "code",
   "execution_count": 14,
   "id": "43dc0e6d",
   "metadata": {},
   "outputs": [],
   "source": [
    "await agent_controller.terminate()"
   ]
  },
  {
   "cell_type": "code",
   "execution_count": null,
   "id": "e595c449",
   "metadata": {},
   "outputs": [],
   "source": []
  }
 ],
 "metadata": {
  "kernelspec": {
   "display_name": "Python 3",
   "language": "python",
   "name": "python3"
  },
  "language_info": {
   "codemirror_mode": {
    "name": "ipython",
    "version": 3
   },
   "file_extension": ".py",
   "mimetype": "text/x-python",
   "name": "python",
   "nbconvert_exporter": "python",
   "pygments_lexer": "ipython3",
   "version": "3.8.5"
  }
 },
 "nbformat": 4,
 "nbformat_minor": 5
}
