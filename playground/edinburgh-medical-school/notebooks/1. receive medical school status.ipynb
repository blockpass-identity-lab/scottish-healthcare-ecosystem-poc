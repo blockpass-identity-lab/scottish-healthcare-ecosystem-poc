{
 "cells": [
  {
   "cell_type": "markdown",
   "id": "a94ce073",
   "metadata": {},
   "source": [
    "# Edinburgh Medical School Demonstrates Competence as Medical Educator\n",
    "\n",
    "\n",
    "![](https://www.studymedicineeurope.com/wp-content/uploads/2020/07/NP-_-General-Medicin-Council-7-2020-NS.jpg)"
   ]
  },
  {
   "cell_type": "markdown",
   "id": "4aea0fde",
   "metadata": {},
   "source": [
    "### Imports"
   ]
  },
  {
   "cell_type": "code",
   "execution_count": 1,
   "id": "ee2f720c",
   "metadata": {},
   "outputs": [],
   "source": [
    "from aries_cloudcontroller import AriesAgentController\n",
    "import os\n",
    "from termcolor import colored"
   ]
  },
  {
   "cell_type": "markdown",
   "id": "a5370047",
   "metadata": {},
   "source": [
    "### Initialise the Agent Controller"
   ]
  },
  {
   "cell_type": "code",
   "execution_count": 2,
   "id": "0a6eef23",
   "metadata": {},
   "outputs": [
    {
     "name": "stdout",
     "output_type": "stream",
     "text": [
      "Initialising a controller with admin api at http://edinburgh-medical-school-agent:3021 and an api key of adminApiKey\n"
     ]
    }
   ],
   "source": [
    "api_key = os.getenv(\"ACAPY_ADMIN_API_KEY\")\n",
    "admin_url = os.getenv(\"ADMIN_URL\")\n",
    "\n",
    "print(f\"Initialising a controller with admin api at {admin_url} and an api key of {api_key}\")\n",
    "agent_controller = AriesAgentController(admin_url,api_key)"
   ]
  },
  {
   "cell_type": "markdown",
   "id": "5da70dda",
   "metadata": {},
   "source": [
    "### Start a Webhook Server"
   ]
  },
  {
   "cell_type": "code",
   "execution_count": 3,
   "id": "78fb8a42",
   "metadata": {},
   "outputs": [
    {
     "name": "stdout",
     "output_type": "stream",
     "text": [
      "Listening for webhooks from agent at http://0.0.0.0:3010\n"
     ]
    }
   ],
   "source": [
    "webhook_port = int(os.getenv(\"WEBHOOK_PORT\"))\n",
    "webhook_host = \"0.0.0.0\"\n",
    "\n",
    "await agent_controller.init_webhook_server(webhook_host, webhook_port)\n",
    "\n",
    "print(f\"Listening for webhooks from agent at http://{webhook_host}:{webhook_port}\")"
   ]
  },
  {
   "cell_type": "markdown",
   "id": "93ac3a7a",
   "metadata": {},
   "source": [
    "## Register Agent Event Listeners\n",
    "\n",
    "You can see some examples within the webhook_listeners recipe. Copy any relevant cells across and customise as needed."
   ]
  },
  {
   "cell_type": "code",
   "execution_count": 4,
   "id": "fcd8adc0",
   "metadata": {},
   "outputs": [],
   "source": [
    "listeners = []"
   ]
  },
  {
   "cell_type": "code",
   "execution_count": 5,
   "id": "e3128816",
   "metadata": {},
   "outputs": [],
   "source": [
    "## YOUR LISTENERS HERE\n",
    "def holder_handler(payload):\n",
    "    connection_id = payload['connection_id']\n",
    "    exchange_id = payload['credential_exchange_id']\n",
    "    state = payload['state']\n",
    "    role = payload['role']\n",
    "    print(\"\\n---------------------------------------------------\\n\")\n",
    "    print(\"Handle Issue Credential Webhook\")\n",
    "    print(f\"Connection ID : {connection_id}\")\n",
    "    print(f\"Credential exchange ID : {exchange_id}\")\n",
    "    print(\"Agent Protocol Role : \", role)\n",
    "    print(\"Protocol State : \", state )\n",
    "    print(\"\\n---------------------------------------------------\\n\")\n",
    "    print(\"Handle Credential Webhook Payload\")\n",
    "    \n",
    "    if state == \"offer_received\":\n",
    "        print(\"Credential Offer Recieved\")\n",
    "        proposal = payload[\"credential_proposal_dict\"]\n",
    "        print(\"The proposal dictionary is likely how you would understand and display a credential offer in your application\")\n",
    "        print(\"\\n\", proposal)\n",
    "        print(\"\\n This includes the set of attributes you are being offered\")\n",
    "        attributes = proposal['credential_proposal']['attributes']\n",
    "        print(attributes)\n",
    "        ## YOUR LOGIC HERE\n",
    "    elif state == \"request_sent\":\n",
    "        print(\"\\nA credential request object contains the commitment to the agents master secret using the nonce from the offer\")\n",
    "        ## YOUR LOGIC HERE\n",
    "    elif state == \"credential_received\":\n",
    "        print(\"Received Credential\")\n",
    "        ## YOUR LOGIC HERE\n",
    "    elif state == \"credential_acked\":\n",
    "        ## YOUR LOGIC HERE\n",
    "        credential = payload[\"credential\"]\n",
    "        print(\"Credential Stored\\n\")\n",
    "        print(credential)\n",
    "        \n",
    "        print(\"\\nThe referent acts as the identifier for retrieving the raw credential from the wallet\")\n",
    "        # Note: You would probably save this in your application database\n",
    "        credential_referent = credential[\"referent\"]\n",
    "        print(\"Referent\", credential_referent)\n",
    "    \n",
    "\n",
    "\n",
    "    \n",
    "holder_listener = {\n",
    "    \"topic\": \"issue_credential\",\n",
    "    \"handler\": holder_handler\n",
    "}\n",
    "\n",
    "listeners.append(holder_listener)"
   ]
  },
  {
   "cell_type": "code",
   "execution_count": 6,
   "id": "26c34594",
   "metadata": {},
   "outputs": [],
   "source": [
    "# Receive connection messages\n",
    "def connections_handler(payload):\n",
    "    state = payload['state']\n",
    "    connection_id = payload[\"connection_id\"]\n",
    "    their_role = payload[\"their_role\"]\n",
    "    routing_state = payload[\"routing_state\"]\n",
    "    \n",
    "    print(\"----------------------------------------------------------\")\n",
    "    print(\"Connection Webhook Event Received\")\n",
    "    print(\"Connection ID : \", connection_id)\n",
    "    print(\"State : \", state)\n",
    "    print(\"Routing State : \", routing_state)\n",
    "    print(\"Their Role : \", their_role)\n",
    "    print(\"----------------------------------------------------------\")\n",
    "\n",
    "    if state == \"invitation\":\n",
    "        # Your business logic\n",
    "        print(\"invitation\")\n",
    "    elif state == \"request\":\n",
    "        # Your business logic\n",
    "        print(\"request\")\n",
    "\n",
    "    elif state == \"response\":\n",
    "        # Your business logic\n",
    "        print(\"response\")\n",
    "    elif state == \"active\":\n",
    "        # Your business logic\n",
    "        print(colored(\"Connection ID: {0} is now active.\".format(connection_id), \"green\", attrs=[\"bold\"]))\n",
    "        \n",
    "\n",
    "connection_listener = {\n",
    "    \"handler\": connections_handler,\n",
    "    \"topic\": \"connections\"\n",
    "}\n",
    "\n",
    "listeners.append(connection_listener)"
   ]
  },
  {
   "cell_type": "code",
   "execution_count": 7,
   "id": "aba25e90",
   "metadata": {},
   "outputs": [],
   "source": [
    "agent_controller.register_listeners(listeners)"
   ]
  },
  {
   "cell_type": "markdown",
   "id": "8c9a682e",
   "metadata": {},
   "source": [
    "## GMC DID\n",
    "\n",
    "Trusted DID throughout the Scottish Healthcare System"
   ]
  },
  {
   "cell_type": "code",
   "execution_count": 8,
   "id": "33368c37",
   "metadata": {},
   "outputs": [],
   "source": [
    "gmc_did = \"TDAbSf3Uqebg8N4XvybMbg\""
   ]
  },
  {
   "cell_type": "markdown",
   "id": "bbdcad2f",
   "metadata": {},
   "source": [
    "## Establish a Connection\n",
    "\n",
    "Connection made with the GMC. This could be used in the future for secure communication between school and the GMC."
   ]
  },
  {
   "cell_type": "code",
   "execution_count": 9,
   "id": "e6d2a95d",
   "metadata": {},
   "outputs": [],
   "source": [
    "invitation = {'@type': 'did:sov:BzCbsNYhMrjHiqZDTUASHg;spec/connections/1.0/invitation', '@id': 'efaf5f5d-af14-4a05-8368-9d99c354a846', 'recipientKeys': ['53cgX1XzkHFWLMM2PtG6zdfduQwYi635szbSATKJtSht'], 'label': 'General Medical Council', 'serviceEndpoint': 'http://f7f8334d4fa8.ngrok.io'}"
   ]
  },
  {
   "cell_type": "code",
   "execution_count": 10,
   "id": "7019c121",
   "metadata": {},
   "outputs": [
    {
     "name": "stdout",
     "output_type": "stream",
     "text": [
      "----------------------------------------------------------\n",
      "Connection Webhook Event Received\n",
      "Connection ID :  526f5d6b-5ffe-4c75-83bd-c3f4243310cc\n",
      "State :  invitation\n",
      "Routing State :  none\n",
      "Their Role :  inviter\n",
      "----------------------------------------------------------\n",
      "invitation\n",
      "----------------------------------------------------------\n",
      "Connection Webhook Event Received\n",
      "Connection ID :  526f5d6b-5ffe-4c75-83bd-c3f4243310cc\n",
      "State :  request\n",
      "Routing State :  none\n",
      "Their Role :  inviter\n",
      "----------------------------------------------------------\n",
      "request\n",
      "----------------------------------------------------------\n",
      "Connection Webhook Event Received\n",
      "Connection ID :  526f5d6b-5ffe-4c75-83bd-c3f4243310cc\n",
      "State :  response\n",
      "Routing State :  none\n",
      "Their Role :  inviter\n",
      "----------------------------------------------------------\n",
      "response\n",
      "----------------------------------------------------------\n",
      "Connection Webhook Event Received\n",
      "Connection ID :  526f5d6b-5ffe-4c75-83bd-c3f4243310cc\n",
      "State :  active\n",
      "Routing State :  none\n",
      "Their Role :  inviter\n",
      "----------------------------------------------------------\n",
      "\u001b[1m\u001b[32mConnection ID: 526f5d6b-5ffe-4c75-83bd-c3f4243310cc is now active.\u001b[0m\n",
      "\n",
      "---------------------------------------------------\n",
      "\n",
      "Handle Issue Credential Webhook\n",
      "Connection ID : 526f5d6b-5ffe-4c75-83bd-c3f4243310cc\n",
      "Credential exchange ID : 0c730ddb-2e3d-4812-b25f-39ecf96faa7a\n",
      "Agent Protocol Role :  holder\n",
      "Protocol State :  offer_received\n",
      "\n",
      "---------------------------------------------------\n",
      "\n",
      "Handle Credential Webhook Payload\n",
      "Credential Offer Recieved\n",
      "The proposal dictionary is likely how you would understand and display a credential offer in your application\n",
      "\n",
      " {'@type': 'did:sov:BzCbsNYhMrjHiqZDTUASHg;spec/issue-credential/1.0/propose-credential', '@id': '4b667946-14bd-4ad2-aa58-2858a0c7ddbe', 'credential_proposal': {'@type': 'did:sov:BzCbsNYhMrjHiqZDTUASHg;spec/issue-credential/1.0/credential-preview', 'attributes': [{'name': 'Name', 'value': 'Edinburgh Medical School'}, {'name': 'Date Issued', 'value': '2021-06-18'}, {'name': 'Re-Validation Due', 'value': '2026-06-17'}]}, 'schema_id': 'TDAbSf3Uqebg8N4XvybMbg:2:Trusted School:0.0.6', 'cred_def_id': 'TDAbSf3Uqebg8N4XvybMbg:3:CL:14:institution', 'comment': 'create automated credential exchange'}\n",
      "\n",
      " This includes the set of attributes you are being offered\n",
      "[{'name': 'Name', 'value': 'Edinburgh Medical School'}, {'name': 'Date Issued', 'value': '2021-06-18'}, {'name': 'Re-Validation Due', 'value': '2026-06-17'}]\n"
     ]
    }
   ],
   "source": [
    "auto_accept=False\n",
    "alias=\"General Medical School\"\n",
    "\n",
    "invite_response = await agent_controller.connections.receive_invitation(invitation, alias, auto_accept)\n",
    "connection_id = invite_response[\"connection_id\"]"
   ]
  },
  {
   "cell_type": "markdown",
   "id": "57ee6e88",
   "metadata": {},
   "source": [
    "## Request Credential From Offer\n",
    "\n",
    "Note: Your agent will automatically respond if ACAPY_AUTO_RESPOND_CREDENTIAL_OFFER=true flag is set in .env file of agent. Default is false.\n",
    "\n",
    "To respond to an offer you must identify the offer using the credential_exchange_id generated for it. This is available from within the issue-credential holder handler. You could add custom logic in this loop `elif state == \"request\":` to handle this.\n",
    "\n",
    "However, we will fetch the credential exchange records and **assume** this agent only has one record. Customise accordingly.\n"
   ]
  },
  {
   "cell_type": "code",
   "execution_count": 11,
   "id": "b070a921",
   "metadata": {},
   "outputs": [],
   "source": [
    "records_response = await agent_controller.issuer.get_records(connection_id=connection_id)\n",
    "record = records_response[\"results\"][0]\n",
    "record_id = record[\"credential_exchange_id\"]"
   ]
  },
  {
   "cell_type": "code",
   "execution_count": 12,
   "id": "42385bac",
   "metadata": {},
   "outputs": [
    {
     "name": "stdout",
     "output_type": "stream",
     "text": [
      "\n",
      "---------------------------------------------------\n",
      "\n",
      "Handle Issue Credential Webhook\n",
      "Connection ID : 526f5d6b-5ffe-4c75-83bd-c3f4243310cc\n",
      "Credential exchange ID : 0c730ddb-2e3d-4812-b25f-39ecf96faa7a\n",
      "Agent Protocol Role :  holder\n",
      "Protocol State :  request_sent\n",
      "\n",
      "---------------------------------------------------\n",
      "\n",
      "Handle Credential Webhook Payload\n",
      "\n",
      "A credential request object contains the commitment to the agents master secret using the nonce from the offer\n"
     ]
    },
    {
     "data": {
      "text/plain": [
       "{'updated_at': '2021-06-18 13:44:54.028152Z',\n",
       " 'credential_offer': {'schema_id': 'TDAbSf3Uqebg8N4XvybMbg:2:Trusted School:0.0.6',\n",
       "  'cred_def_id': 'TDAbSf3Uqebg8N4XvybMbg:3:CL:14:institution',\n",
       "  'key_correctness_proof': {'c': '1630368757949279778651037113403593849911510848898087770360630809390120005503',\n",
       "   'xz_cap': '22379314957354151638758641336123133409065681686427552242193141076578336432638389192572364805626047132273429890308473544189816043331010085219497734870498059177872300804024476766043329401418620578422110172162583173689338938623033555726719702158391201751142608192259970696406689205165987526402840997329061027455807450414672176542986352792676117542661027627531822145690416956296962999768666388616700401266025645959894633888249858220665705694680872429136626983372545085935485432522610055645949929560441541947511432662288268105136166008770127604164981317716156628937628822553576604648128749549341892228242805533732739452618765548813747820961789843764463491540223230665002257084687707090247618075393',\n",
       "   'xr_cap': [['master_secret',\n",
       "     '40420471863374337434930668315808619911711438001827573683411854971136377624550985551633501265500666706032577107513362723646463719451633253064342491298135723065021569882706737852422419084060701465882414165689454121304348433646042974292064747108760571514742913368625693121588663630381980562362008837397229192656434113927706145564336885139083316680478329978341351205217909150172102972187001236569157946114856292394638875660059047363558796349812318035758691515154227935301759359014145028063706713333844220616608366389064792762480380485960449280549035274067032394332698262310187263959166973849111988454559591944738369429765371209978358925300309957358873248120398752501699050895359808676275998684544'],\n",
       "    ['name',\n",
       "     '25927802832706451647491993088928645796761596187743221266396981839154692750482087827775130925006380921637727000362448745576179671243621074748379830286310989618114602602669594560654111967196490288752481579734559223482339244081777159646455018533386744644517583191969962620662455302613110242516612920447345753949452553533018907536398712640047627033549220807565310879454928422399475478693398320050869076604618351933379147391666782119867382277016421232362804231697987667488237932185478288522557755954676735353456792288929682477626059009074943364948663996038841595659803127929395381201325260226528934406058209104418102806188529997284275559021052297854563135553848934604331025311912547150570666272915'],\n",
       "    ['re-validationdue',\n",
       "     '29678290274598279488289589117569519205351545818935866284280974230751765858408569611912625991619020814734524247471247083229322986326953630854651793260692684431036045092029793071896549585721911801491876886059769802103185068756781354081567323465300329418892866967526566181596143590600661721970868277160530831622895214274985712445993447562601722692469146187845404357127550718006791907003730031852016168011679796375005372426702010777925139357867781773224362430196109548654112316071772742288400165461960133318746669306714132243043754378167251022765619470610014036940420769919146084229623795893285015571630009107058373917872384128106983513221735281977809676439575374864605969367351468252017020968764'],\n",
       "    ['dateissued',\n",
       "     '7547887653297013234512635914362658044872031635710871336124530498207192619834399184216791623143363599891801523619358058051093880073589871175429408820491141601542428341118405735575397024425509736297338012136322937589653859376519555104571351188879534986581662370454555173036562148839763951168963152289404258541882723802181939370205256826967061975545402912353477842286374754271306702229769769445692140421707450439286889595733235074961834603487474697608381409302662936569576165229720359595023510403758909645893069651366053644133853582760808696422584715532699638552088153087540675196673522590068242772150941950497550832615214933754872250725121312800250593178239997118536200310524333961592641082927']]},\n",
       "  'nonce': '447333433594491582140654'},\n",
       " 'credential_definition_id': 'TDAbSf3Uqebg8N4XvybMbg:3:CL:14:institution',\n",
       " 'schema_id': 'TDAbSf3Uqebg8N4XvybMbg:2:Trusted School:0.0.6',\n",
       " 'connection_id': '526f5d6b-5ffe-4c75-83bd-c3f4243310cc',\n",
       " 'credential_request': {'prover_did': '3EZuXhzLrczpsBEeFqraY1',\n",
       "  'cred_def_id': 'TDAbSf3Uqebg8N4XvybMbg:3:CL:14:institution',\n",
       "  'blinded_ms': {'u': '25640156493423085099594189067720370727586210941447855130603194959220376096078664419874774940893633022927197834174923078691897632761834561551238543516561374960550384131929791121148725258308063020425746056349316204997456250846542590114876604869660251448649932934681169326588683799024346882735615568218340816721464976898467105475099777825010590235723155951277878916464253337560350267646424652092401759836990750542972830452046671904388641977130867016682735047939497722405540585285844481839476694943314780987588038759909957137533328570562454976549616185728316215795565752364302366687409943100078045122653566546685297050914',\n",
       "   'ur': '1 0A7FC56C6A7700D02505D7B1484065086C70564DB946DE27C0CD8DE1CE95201D 1 239323F1C5AF2128393362D5007E683FA2AD6F9F9246BE1B0BEAD1362079666B 2 095E45DDF417D05FB10933FFC63D474548B7FFFF7888802F07FFFFFF7D07A8A8',\n",
       "   'hidden_attributes': ['master_secret'],\n",
       "   'committed_attributes': {}},\n",
       "  'blinded_ms_correctness_proof': {'c': '26369438422071820123604647813381637309178871104821131441034074380364766164518',\n",
       "   'v_dash_cap': '465153145598256271744939168133596203439947971489304366779705284116739437864669220464475281884612906191313300099442702218763305614177920598211793020167298315354027680463596890005841238476920659083794941532318788734768303603011586670449334708833844157689336527124902544598261135058305336282210132968597016439336219912186068513607694940757208489603462452005982815983486837735565057404792186731678536008656696873273712425775203310458695145361969099635503399017616210726332466232904582284084813145413993297585656754769683141250618754306465933699073454710624695519714091741352307251838449887963926748782928956590662278054064407387582933860895553187316912278390596776249714415831753505406636723187095229506309519551378660370',\n",
       "   'm_caps': {'master_secret': '23099099803865571571573995594682695090259387046345794975585937100925034877573171711421637601720419414711381251988232407901442870580806530478165807388726239283503557969459735865602'},\n",
       "   'r_caps': {}},\n",
       "  'nonce': '163079256267826133312800'},\n",
       " 'trace': True,\n",
       " 'credential_exchange_id': '0c730ddb-2e3d-4812-b25f-39ecf96faa7a',\n",
       " 'initiator': 'external',\n",
       " 'state': 'request_sent',\n",
       " 'auto_remove': False,\n",
       " 'credential_request_metadata': {'master_secret_blinding_data': {'v_prime': '17639857859426862199147773443541861799688506119773774046679891329045837722283476158730191633500478286158213561353988469982649043538194756869583483588582178434475204662088449180857110163799367246217403697732652962609516652147688843160280341944629087423508522811709105954053032495698350563524454768824340152484755041977828193754117473692482547491646822628502152182910509195636345007566808717417827592131248479977828366986292065303646452873436987389053049214142863086794578872480454715485824948675478177772309585096494121956720003892713362104650692408708876363703346326073301873233617257528898183332862571310622564692388068353569386060982533840',\n",
       "   'vr_prime': '12E67217D7A9C87ABDDF21198473FDBBA216A470518F12E3B4CBB983E0DD457B'},\n",
       "  'nonce': '163079256267826133312800',\n",
       "  'master_secret_name': 'EMS_WALET'},\n",
       " 'credential_proposal_dict': {'@type': 'did:sov:BzCbsNYhMrjHiqZDTUASHg;spec/issue-credential/1.0/propose-credential',\n",
       "  '@id': '4b667946-14bd-4ad2-aa58-2858a0c7ddbe',\n",
       "  'credential_proposal': {'@type': 'did:sov:BzCbsNYhMrjHiqZDTUASHg;spec/issue-credential/1.0/credential-preview',\n",
       "   'attributes': [{'name': 'Name', 'value': 'Edinburgh Medical School'},\n",
       "    {'name': 'Date Issued', 'value': '2021-06-18'},\n",
       "    {'name': 'Re-Validation Due', 'value': '2026-06-17'}]},\n",
       "  'schema_id': 'TDAbSf3Uqebg8N4XvybMbg:2:Trusted School:0.0.6',\n",
       "  'cred_def_id': 'TDAbSf3Uqebg8N4XvybMbg:3:CL:14:institution',\n",
       "  'comment': 'create automated credential exchange'},\n",
       " 'created_at': '2021-06-18 13:44:44.367743Z',\n",
       " 'role': 'holder',\n",
       " 'auto_issue': False,\n",
       " 'auto_offer': False,\n",
       " 'thread_id': '99e4a3f3-03dc-41a2-88f5-2a9983e257b0'}"
      ]
     },
     "execution_count": 12,
     "metadata": {},
     "output_type": "execute_result"
    },
    {
     "name": "stdout",
     "output_type": "stream",
     "text": [
      "\n",
      "---------------------------------------------------\n",
      "\n",
      "Handle Issue Credential Webhook\n",
      "Connection ID : 526f5d6b-5ffe-4c75-83bd-c3f4243310cc\n",
      "Credential exchange ID : 0c730ddb-2e3d-4812-b25f-39ecf96faa7a\n",
      "Agent Protocol Role :  holder\n",
      "Protocol State :  credential_received\n",
      "\n",
      "---------------------------------------------------\n",
      "\n",
      "Handle Credential Webhook Payload\n",
      "Received Credential\n"
     ]
    }
   ],
   "source": [
    "await agent_controller.issuer.send_request_for_record(record_id)"
   ]
  },
  {
   "cell_type": "markdown",
   "id": "b7d085e0",
   "metadata": {},
   "source": [
    "## Store Received Credential\n",
    "\n",
    "This will be done automatically if the ACAPY_AUTO_STORE_CREDENTIAL=true flag is set in the .env file for this agent. Default is false.\n",
    "\n",
    "Again you could handle this in your holder handler function in the `elif state == \"credential_received\":` loop."
   ]
  },
  {
   "cell_type": "code",
   "execution_count": 13,
   "id": "94c7e8b3",
   "metadata": {},
   "outputs": [
    {
     "name": "stdout",
     "output_type": "stream",
     "text": [
      "\n",
      "---------------------------------------------------\n",
      "\n",
      "Handle Issue Credential Webhook\n",
      "Connection ID : 526f5d6b-5ffe-4c75-83bd-c3f4243310cc\n",
      "Credential exchange ID : 0c730ddb-2e3d-4812-b25f-39ecf96faa7a\n",
      "Agent Protocol Role :  holder\n",
      "Protocol State :  credential_acked\n",
      "\n",
      "---------------------------------------------------\n",
      "\n",
      "Handle Credential Webhook Payload\n",
      "Credential Stored\n",
      "\n",
      "{'referent': 'Medical School', 'attrs': {'Re-Validation Due': '2026-06-17', 'Date Issued': '2021-06-18', 'Name': 'Edinburgh Medical School'}, 'schema_id': 'TDAbSf3Uqebg8N4XvybMbg:2:Trusted School:0.0.6', 'cred_def_id': 'TDAbSf3Uqebg8N4XvybMbg:3:CL:14:institution', 'rev_reg_id': 'TDAbSf3Uqebg8N4XvybMbg:4:TDAbSf3Uqebg8N4XvybMbg:3:CL:14:institution:CL_ACCUM:f470e863-e376-4fac-945c-923798d59987', 'cred_rev_id': '1'}\n",
      "\n",
      "The referent acts as the identifier for retrieving the raw credential from the wallet\n",
      "Referent Medical School\n"
     ]
    }
   ],
   "source": [
    "# Optionally specify an identifier to uniquely identify this credential within your agents wallet.\n",
    "# You would likely want to save this somewhere.\n",
    "# If not set a random one will be generated for you\n",
    "credential_id = \"Medical School\"\n",
    "\n",
    "store_cred_response = await agent_controller.issuer.store_credential(record_id, credential_id)"
   ]
  },
  {
   "cell_type": "markdown",
   "id": "62429b34",
   "metadata": {},
   "source": [
    "## Terminate Controller\n",
    "\n",
    "Whenever you have finished with this notebook, be sure to terminate the controller. This is especially important if your business logic runs across multiple notebooks."
   ]
  },
  {
   "cell_type": "code",
   "execution_count": 14,
   "id": "c5f93dfe",
   "metadata": {},
   "outputs": [],
   "source": [
    "await agent_controller.terminate()"
   ]
  },
  {
   "cell_type": "code",
   "execution_count": null,
   "id": "9511ecf7",
   "metadata": {},
   "outputs": [],
   "source": []
  }
 ],
 "metadata": {
  "kernelspec": {
   "display_name": "Python 3",
   "language": "python",
   "name": "python3"
  },
  "language_info": {
   "codemirror_mode": {
    "name": "ipython",
    "version": 3
   },
   "file_extension": ".py",
   "mimetype": "text/x-python",
   "name": "python",
   "nbconvert_exporter": "python",
   "pygments_lexer": "ipython3",
   "version": "3.7.6"
  }
 },
 "nbformat": 4,
 "nbformat_minor": 5
}
