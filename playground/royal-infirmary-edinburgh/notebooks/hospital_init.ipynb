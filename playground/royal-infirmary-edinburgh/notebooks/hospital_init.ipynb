{
 "cells": [
  {
   "cell_type": "markdown",
   "id": "8352889e",
   "metadata": {},
   "source": [
    "# Initialising The Royal Infirmary of Edinburgh as an Issuing Authority\n",
    "\n",
    "![](https://www.edinburgh-scotland.net/assets/Managed/PhotoGalleries/23-edinburgh-signs/Royal-Infirmary-old-sign.jpg)\n"
   ]
  },
  {
   "cell_type": "markdown",
   "id": "b68cf682",
   "metadata": {},
   "source": [
    "### Imports"
   ]
  },
  {
   "cell_type": "code",
   "execution_count": 1,
   "id": "fdc1d45d",
   "metadata": {},
   "outputs": [],
   "source": [
    "from aries_cloudcontroller import AriesAgentController\n",
    "import os\n",
    "from termcolor import colored"
   ]
  },
  {
   "cell_type": "markdown",
   "id": "86314323",
   "metadata": {},
   "source": [
    "### Initialise the Agent Controller"
   ]
  },
  {
   "cell_type": "code",
   "execution_count": 2,
   "id": "f14046fb",
   "metadata": {},
   "outputs": [
    {
     "name": "stdout",
     "output_type": "stream",
     "text": [
      "Initialising a controller with admin api at http://rie-agent:3021 and an api key of adminApiKey\n"
     ]
    }
   ],
   "source": [
    "api_key = os.getenv(\"ACAPY_ADMIN_API_KEY\")\n",
    "admin_url = os.getenv(\"ADMIN_URL\")\n",
    "\n",
    "print(f\"Initialising a controller with admin api at {admin_url} and an api key of {api_key}\")\n",
    "agent_controller = AriesAgentController(admin_url,api_key)"
   ]
  },
  {
   "cell_type": "markdown",
   "id": "0f3f796b",
   "metadata": {},
   "source": [
    "## Write DID to the Public Ledger\n",
    "\n",
    "Note: if defined a ACAPY_WALLET_SEED value for your agent then this function will return a DID, but this DID still needs to be written to the ledger. If you did not define a seed you will need to create a DID first."
   ]
  },
  {
   "cell_type": "code",
   "execution_count": 3,
   "id": "a1567243",
   "metadata": {},
   "outputs": [],
   "source": [
    "public_did_response = await agent_controller.wallet.get_public_did()"
   ]
  },
  {
   "cell_type": "code",
   "execution_count": 4,
   "id": "5b79415c",
   "metadata": {},
   "outputs": [
    {
     "name": "stdout",
     "output_type": "stream",
     "text": [
      "DID {'did': '2hfHjfWSfz2fSztbzoeqee', 'verkey': 'vmqpfKgQow6GKzWzvir29cRZsEeCtNtoNsBCZwHx3Zw', 'posture': 'public'}\n"
     ]
    }
   ],
   "source": [
    "if public_did_response[\"result\"]:\n",
    "    did_obj = public_did_response[\"result\"]\n",
    "else:\n",
    "    create_did_response = await agent_controller.wallet.create_did()\n",
    "    did_obj = create_did_response['result']\n",
    "print(\"DID\", did_obj)"
   ]
  },
  {
   "cell_type": "markdown",
   "id": "e73e26da",
   "metadata": {},
   "source": [
    "## Not Required on Local VON Network"
   ]
  },
  {
   "cell_type": "code",
   "execution_count": 5,
   "id": "67d66feb",
   "metadata": {},
   "outputs": [
    {
     "name": "stdout",
     "output_type": "stream",
     "text": [
      "{'statusCode': 200, 'headers': {'Access-Control-Allow-Origin': '*'}, 'body': '{\"statusCode\": 200, \"2hfHjfWSfz2fSztbzoeqee\": {\"status\": \"Success\", \"statusCode\": 200, \"reason\": \"Successfully wrote NYM identified by 2hfHjfWSfz2fSztbzoeqee to the ledger with role ENDORSER\"}}'}\n"
     ]
    }
   ],
   "source": [
    "# # write new DID to Sovrin Stagingnet\n",
    "# import requests\n",
    "# import json \n",
    "\n",
    "# url = 'https://selfserve.sovrin.org/nym'\n",
    "\n",
    "# payload = {\"network\":\"stagingnet\",\"did\": did_obj[\"did\"],\"verkey\":did_obj[\"verkey\"],\"paymentaddr\":\"\"}\n",
    "\n",
    "# # Adding empty header as parameters are being sent in payload\n",
    "# headers = {}\n",
    "\n",
    "# r = requests.post(url, data=json.dumps(payload), headers=headers)\n",
    "# print(r.json())"
   ]
  },
  {
   "cell_type": "markdown",
   "id": "6f100522",
   "metadata": {},
   "source": [
    "## Accept Transaction Author Agreement\n",
    "\n",
    "Although the Sovrin StagingNet is permissionless, before DID's have the authority to write to the ledger they must accept something called a transaction author agreement by signing it using the DID they have on the ledger.\n",
    "\n",
    "As a global public ledger, the Sovrin Ledger and all its participants are subject to privacy and data protection regulations such as the EU General Data Protection Regulation (GDPR). These regulations require that the participants be explicit about responsibilities for Personal Data.\n",
    "\n",
    "To clarify these responsibilities and provide protection for all parties, the Sovrin Governance Framework Working Group developed an agreement between Transaction Authors and the Sovrin Foundation. The TAA can be found at Sovrin.org. It ensures that users are aware of and consent to the fact that all data written to the Sovrin Ledger cannot be removed, even if the original author of the transaction requests its removal.\n",
    "\n",
    "The TAA outlines the policies that users must follow when interacting with the Sovrin Ledger. When a user’s client software is preparing a transaction for submission to the network, it must include a demonstration that the user had the opportunity to review the current TAA and accept it. This is done by including some additional fields in the ledger write transaction: \n",
    "\n",
    "* A hash of the agreement\n",
    "* A date when the agreement was accepted, and\n",
    "* A string indicating the user interaction that was followed to obtain the acceptance.\n",
    "\n",
    "The Indy client API used by Sovrin has been extended to allow users to review current and past agreements and to indicate acceptance through an approved user interaction pattern. - source: https://sovrin.org/preparing-for-the-sovrin-transaction-author-agreement/\n",
    "\n",
    "For more details on TAA please read more at the following links:\n",
    "* [Preparing for the Sovrin Transaction Author Agreement](https://sovrin.org/preparing-for-the-sovrin-transaction-author-agreement/)\n",
    "* [How the recent approval of the Sovrin Governance Framework v2 affects Transaction Authors\n",
    "](https://sovrin.org/how-the-recent-approval-of-the-sovrin-governance-framework-v2-affects-transaction-authors/)\n",
    "* [TAA v2](https://github.com/sovrin-foundation/sovrin/blob/master/TAA/TAA.md)\n",
    "* [TAA Acceptance Mechanism List (AML)](https://github.com/sovrin-foundation/sovrin/blob/master/TAA/AML.md)"
   ]
  },
  {
   "cell_type": "code",
   "execution_count": 6,
   "id": "77358292",
   "metadata": {},
   "outputs": [
    {
     "ename": "TypeError",
     "evalue": "'NoneType' object does not support item assignment",
     "output_type": "error",
     "traceback": [
      "\u001b[0;31m---------------------------------------------------------------------------\u001b[0m",
      "\u001b[0;31mTypeError\u001b[0m                                 Traceback (most recent call last)",
      "\u001b[0;32m<ipython-input-6-fa4ff86c09dc>\u001b[0m in \u001b[0;36masync-def-wrapper\u001b[0;34m()\u001b[0m\n\u001b[1;32m      4\u001b[0m \u001b[0;32mawait\u001b[0m \u001b[0magent_controller\u001b[0m\u001b[0;34m.\u001b[0m\u001b[0mledger\u001b[0m\u001b[0;34m.\u001b[0m\u001b[0maccept_taa\u001b[0m\u001b[0;34m(\u001b[0m\u001b[0mTAA\u001b[0m\u001b[0;34m)\u001b[0m\u001b[0;34m\u001b[0m\u001b[0;34m\u001b[0m\u001b[0m\n",
      "\u001b[0;31mTypeError\u001b[0m: 'NoneType' object does not support item assignment"
     ]
    }
   ],
   "source": [
    "# taa_response = await agent_controller.ledger.get_taa()\n",
    "# TAA = taa_response['result']['taa_record']\n",
    "# TAA['mechanism'] = \"service_agreement\"\n",
    "# await agent_controller.ledger.accept_taa(TAA)"
   ]
  },
  {
   "cell_type": "markdown",
   "id": "5e8869df",
   "metadata": {},
   "source": [
    "## Assign Agent Public DID if Not Set\n",
    "\n",
    "Will only be ran if ACAPY_WALLET_SEED not initially set."
   ]
  },
  {
   "cell_type": "code",
   "execution_count": 8,
   "id": "1e56b15e",
   "metadata": {},
   "outputs": [
    {
     "name": "stdout",
     "output_type": "stream",
     "text": [
      "Successfully intialised agent with Public DID :  2hfHjfWSfz2fSztbzoeqee\n"
     ]
    }
   ],
   "source": [
    "if did_obj[\"posture\"] != \"public\":\n",
    "    response = await agent_controller.wallet.assign_public_did(did_obj[\"did\"])\n",
    "print(\"Successfully intialised agent with Public DID : \", did_obj[\"did\"])"
   ]
  },
  {
   "cell_type": "markdown",
   "id": "29e9be09",
   "metadata": {},
   "source": [
    "## Writing Role Assignment Schema\n",
    "\n",
    "Write as many schema to the ledger as you like. Be sure to store each schema_id, you will need these when it comes to authoring credential defintition transactions and issuing credentials against this schema.\n",
    "\n",
    "Uncomment and copy the below cell as many times as you need. Be sure to update any arugments surrounded by <> with your own details."
   ]
  },
  {
   "cell_type": "code",
   "execution_count": 12,
   "id": "b289946d",
   "metadata": {},
   "outputs": [],
   "source": [
    "# Define you schema name - must be unique on the ledger\n",
    "schema_name = \"Role Assignment\"\n",
    "# Can version the schema if you wish to update it\n",
    "schema_version = \"0.0.2\"\n",
    "# Define any list of attributes you wish to include in your schema\n",
    "attributes = [\"Role\", \"Supervisor\", \"Start Date\", \"End Date\", \"Assignment Number\"]\n",
    "\n",
    "response = await agent_controller.schema.write_schema(schema_name, attributes, schema_version)\n",
    "ra_schema_id = response[\"schema_id\"]"
   ]
  },
  {
   "cell_type": "markdown",
   "id": "eac237c2",
   "metadata": {},
   "source": [
    "## Writing Systems Access Credential Schema\n",
    "\n",
    "This could be presented with an OIDC server used by the hospital, or perhaps NHS Lothian would handle this.\n",
    "\n"
   ]
  },
  {
   "cell_type": "code",
   "execution_count": 16,
   "id": "a3f44532",
   "metadata": {},
   "outputs": [],
   "source": [
    "# Define you schema name - must be unique on the ledger\n",
    "schema_name = \"Systems Access\"\n",
    "# Can version the schema if you wish to update it\n",
    "schema_version = \"0.0.3\"\n",
    "# Define any list of attributes you wish to include in your schema\n",
    "attributes = [\"Email\", \"Employee ID\", \"Start Date\", \"End Date\"]\n",
    "\n",
    "response = await agent_controller.schema.write_schema(schema_name, attributes, schema_version)\n",
    "sa_schema_id = response[\"schema_id\"]"
   ]
  },
  {
   "cell_type": "markdown",
   "id": "62931d42",
   "metadata": {},
   "source": [
    "## Write Cred Defs"
   ]
  },
  {
   "cell_type": "code",
   "execution_count": 13,
   "id": "13e0897c",
   "metadata": {},
   "outputs": [],
   "source": [
    "# Tag and group specific credential definitions\n",
    "tag = \"default\"\n",
    "\n",
    "# Make Cred Def support revocation. Credentials issued using this definition will be able to be revoked.\n",
    "support_revocation = False\n",
    "\n",
    "cred_def_response = await agent_controller.definitions.write_cred_def(ra_schema_id, tag, support_revocation)\n",
    "ra_cred_def_id = cred_def_response[\"credential_definition_id\"]"
   ]
  },
  {
   "cell_type": "code",
   "execution_count": 18,
   "id": "207255ff",
   "metadata": {},
   "outputs": [],
   "source": [
    "# Tag and group specific credential definitions\n",
    "tag = \"default\"\n",
    "\n",
    "# Make Cred Def support revocation. Credentials issued using this definition will be able to be revoked.\n",
    "support_revocation = False\n",
    "\n",
    "cred_def_response = await agent_controller.definitions.write_cred_def(sa_schema_id, tag, support_revocation)\n",
    "sa_cred_def_id = cred_def_response[\"credential_definition_id\"]"
   ]
  },
  {
   "cell_type": "markdown",
   "id": "edd821f6",
   "metadata": {},
   "source": [
    "## Persist Identifiers for use throughout other business logic notebooks associated with this agent\n",
    "\n",
    "The schema_id and cred_def_id value pairs are required whenever issuing credentials, and also can be used to constrain acceptable proof requests. In a real application these values might be stored in environment variables or most likely in a database. For notebooks we have found it easier to store as string values in a cell and then load these values into the jupyter store so that they can be fetched across multiple notebooks.\n",
    "\n",
    "As such you are recommended to print out each of the schema and cred def identifiers used by your agent and copy them across to your **main** business logic notebook where you should store them in a variable and save them to the jupyter store. Remember, you should only be running this notebook once so having this logic in here will not be useful.\n"
   ]
  },
  {
   "cell_type": "code",
   "execution_count": 14,
   "id": "6d4cee63",
   "metadata": {},
   "outputs": [
    {
     "name": "stdout",
     "output_type": "stream",
     "text": [
      "schema_id=2hfHjfWSfz2fSztbzoeqee:2:Role Assignment:0.0.2\n",
      "cred_def_id=2hfHjfWSfz2fSztbzoeqee:3:CL:39:default\n"
     ]
    }
   ],
   "source": [
    "print(f\"ra_schema_id='{ra_schema_id}'\")\n",
    "print(f\"ra_cred_def_id='{ra_cred_def_id}'\")"
   ]
  },
  {
   "cell_type": "code",
   "execution_count": 20,
   "id": "86bdf868",
   "metadata": {},
   "outputs": [
    {
     "name": "stdout",
     "output_type": "stream",
     "text": [
      "sa_schema_id=2hfHjfWSfz2fSztbzoeqee:2:Systems Access:0.0.3\n",
      "sa_cred_def_id=2hfHjfWSfz2fSztbzoeqee:3:CL:42:default\n"
     ]
    }
   ],
   "source": [
    "print(f\"sa_schema_id='{sa_schema_id}'\")\n",
    "print(f\"sa_cred_def_id='{sa_cred_def_id}'\")"
   ]
  },
  {
   "cell_type": "markdown",
   "id": "4a4824c3",
   "metadata": {},
   "source": [
    "## Terminate Controller\n"
   ]
  },
  {
   "cell_type": "code",
   "execution_count": 21,
   "id": "a6b5240e",
   "metadata": {},
   "outputs": [],
   "source": [
    "await agent_controller.terminate()"
   ]
  },
  {
   "cell_type": "code",
   "execution_count": null,
   "id": "30ad00eb",
   "metadata": {},
   "outputs": [],
   "source": []
  }
 ],
 "metadata": {
  "kernelspec": {
   "display_name": "Python 3",
   "language": "python",
   "name": "python3"
  },
  "language_info": {
   "codemirror_mode": {
    "name": "ipython",
    "version": 3
   },
   "file_extension": ".py",
   "mimetype": "text/x-python",
   "name": "python",
   "nbconvert_exporter": "python",
   "pygments_lexer": "ipython3",
   "version": "3.7.6"
  }
 },
 "nbformat": 4,
 "nbformat_minor": 5
}
