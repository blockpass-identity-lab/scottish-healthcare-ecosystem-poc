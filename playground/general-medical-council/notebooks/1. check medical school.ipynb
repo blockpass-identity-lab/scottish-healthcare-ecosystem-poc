{
 "cells": [
  {
   "cell_type": "markdown",
   "id": "53ab991c",
   "metadata": {},
   "source": [
    "# GMC Regulates Edinburgh Medical School\n",
    "\n",
    "## Note this might actually be the Medical Schools Board\n",
    "\n",
    "![](https://www.medschools.ac.uk/media/2079/msc-logo.jpg)\n"
   ]
  },
  {
   "cell_type": "markdown",
   "id": "1654b42a",
   "metadata": {},
   "source": [
    "### Imports"
   ]
  },
  {
   "cell_type": "code",
   "execution_count": 1,
   "id": "b31f017b",
   "metadata": {},
   "outputs": [],
   "source": [
    "from aries_cloudcontroller import AriesAgentController\n",
    "import os\n",
    "from termcolor import colored"
   ]
  },
  {
   "cell_type": "markdown",
   "id": "11d9fe93",
   "metadata": {},
   "source": [
    "### Initialise the Agent Controller"
   ]
  },
  {
   "cell_type": "code",
   "execution_count": 2,
   "id": "8e9ea879",
   "metadata": {},
   "outputs": [
    {
     "name": "stdout",
     "output_type": "stream",
     "text": [
      "Initialising a controller with admin api at http://general-medical-council-agent:3021 and an api key of adminApiKey\n"
     ]
    }
   ],
   "source": [
    "api_key = os.getenv(\"ACAPY_ADMIN_API_KEY\")\n",
    "admin_url = os.getenv(\"ADMIN_URL\")\n",
    "\n",
    "print(f\"Initialising a controller with admin api at {admin_url} and an api key of {api_key}\")\n",
    "agent_controller = AriesAgentController(admin_url,api_key)"
   ]
  },
  {
   "cell_type": "markdown",
   "id": "fd5b5195",
   "metadata": {},
   "source": [
    "### Start a Webhook Server"
   ]
  },
  {
   "cell_type": "code",
   "execution_count": 3,
   "id": "0eaec6e0",
   "metadata": {},
   "outputs": [
    {
     "name": "stdout",
     "output_type": "stream",
     "text": [
      "Listening for webhooks from agent at http://0.0.0.0:3010\n"
     ]
    }
   ],
   "source": [
    "webhook_port = int(os.getenv(\"WEBHOOK_PORT\"))\n",
    "webhook_host = \"0.0.0.0\"\n",
    "\n",
    "await agent_controller.init_webhook_server(webhook_host, webhook_port)\n",
    "\n",
    "print(f\"Listening for webhooks from agent at http://{webhook_host}:{webhook_port}\")"
   ]
  },
  {
   "cell_type": "markdown",
   "id": "61c3cd08",
   "metadata": {},
   "source": [
    "## Register Agent Event Listeners\n",
    "\n",
    "You can see some examples within the webhook_listeners recipe. Copy any relevant cells across and fill in additional logic as needed."
   ]
  },
  {
   "cell_type": "code",
   "execution_count": 4,
   "id": "c58c1ec7",
   "metadata": {},
   "outputs": [],
   "source": [
    "listeners = []"
   ]
  },
  {
   "cell_type": "code",
   "execution_count": 5,
   "id": "3e043d2b",
   "metadata": {},
   "outputs": [],
   "source": [
    "## YOUR LISTENERS HERE\n",
    "# Receive connection messages\n",
    "def connections_handler(payload):\n",
    "    state = payload['state']\n",
    "    connection_id = payload[\"connection_id\"]\n",
    "    their_role = payload[\"their_role\"]\n",
    "    routing_state = payload[\"routing_state\"]\n",
    "    \n",
    "    print(\"----------------------------------------------------------\")\n",
    "    print(\"Connection Webhook Event Received\")\n",
    "    print(\"Connection ID : \", connection_id)\n",
    "    print(\"State : \", state)\n",
    "    print(\"Routing State : \", routing_state)\n",
    "    print(\"Their Role : \", their_role)\n",
    "    print(\"----------------------------------------------------------\")\n",
    "    if state == \"active\":\n",
    "        # Your business logic\n",
    "        print(colored(\"Connection ID: {0} is now active.\".format(connection_id), \"green\", attrs=[\"bold\"]))\n",
    "\n",
    "connection_listener = {\n",
    "    \"handler\": connections_handler,\n",
    "    \"topic\": \"connections\"\n",
    "}\n",
    "\n",
    "listeners.append(connection_listener)"
   ]
  },
  {
   "cell_type": "code",
   "execution_count": 6,
   "id": "66eed608",
   "metadata": {},
   "outputs": [],
   "source": [
    "def issuer_handler(payload):\n",
    "    connection_id = payload['connection_id']\n",
    "    exchange_id = payload['credential_exchange_id']\n",
    "    state = payload['state']\n",
    "    role = payload['role']\n",
    "    print(\"\\n---------------------------------------------------\\n\")\n",
    "    print(\"Handle Issue Credential Webhook\")\n",
    "    print(f\"Connection ID : {connection_id}\")\n",
    "    print(f\"Credential exchange ID : {exchange_id}\")\n",
    "    print(\"Agent Protocol Role : \", role)\n",
    "    print(\"Protocol State : \", state )\n",
    "    print(\"\\n---------------------------------------------------\\n\")\n",
    "    \n",
    "    \n",
    "    if state == \"offer_sent\":\n",
    "        proposal = payload[\"credential_proposal_dict\"]\n",
    "        attributes = proposal['credential_proposal']['attributes']\n",
    "\n",
    "        print(f\"Offering credential with attributes  : {attributes}\")\n",
    "        ## YOUR LOGIC HERE\n",
    "    elif state == \"request_received\":\n",
    "        print(\"Request for credential received\")\n",
    "        ## YOUR LOGIC HERE\n",
    "    elif state == \"credential_sent\":\n",
    "        print(\"Credential Sent\")\n",
    "        ## YOUR LOGIC HERE\n",
    "    \n",
    "issuer_listener = {\n",
    "    \"topic\": \"issue_credential\",\n",
    "    \"handler\": issuer_handler\n",
    "}\n",
    "\n",
    "listeners.append(issuer_listener)"
   ]
  },
  {
   "cell_type": "code",
   "execution_count": 7,
   "id": "85e4263b",
   "metadata": {},
   "outputs": [],
   "source": [
    "agent_controller.register_listeners(listeners)"
   ]
  },
  {
   "cell_type": "markdown",
   "id": "8093ddbc",
   "metadata": {},
   "source": [
    "## Store Issuing Schema and Cred Def Identifiers\n",
    "\n",
    "If you intend for this agent to issue credentials you should first initialise your agent as an issuer and author the relevant identifiers to the public ledger. The issuer_initialisation recipe notebook can be duplicated and used as a starting point.\n",
    "\n",
    "Once schema and cred def identifiers are created copy across and store in variables as illustrated in the cell below. Be sure to use unique names for each variable."
   ]
  },
  {
   "cell_type": "code",
   "execution_count": 8,
   "id": "2cf9986a",
   "metadata": {},
   "outputs": [
    {
     "name": "stdout",
     "output_type": "stream",
     "text": [
      "Stored 'tms_schema_id' (str)\n",
      "Stored 'tms_cred_def_id' (str)\n"
     ]
    }
   ],
   "source": [
    "tms_schema_id = 'TDAbSf3Uqebg8N4XvybMbg:2:Trusted School:0.0.6'\n",
    "tms_cred_def_id = 'TDAbSf3Uqebg8N4XvybMbg:3:CL:14:institution'\n",
    "\n",
    "\n",
    "\n",
    "%store tms_schema_id\n",
    "%store tms_cred_def_id"
   ]
  },
  {
   "cell_type": "markdown",
   "id": "71a1d29d",
   "metadata": {},
   "source": [
    "## Establish Connection\n",
    "\n",
    "Before you can issue a credential you must first establish a connection across which the credential will be issued to a holder. (see recipes/connection)"
   ]
  },
  {
   "cell_type": "code",
   "execution_count": 9,
   "id": "af1845cd",
   "metadata": {},
   "outputs": [
    {
     "name": "stdout",
     "output_type": "stream",
     "text": [
      "----------------------------------------------------------\n",
      "Connection Webhook Event Received\n",
      "Connection ID :  7e36d96d-932a-4585-8e29-10f123db6e8b\n",
      "State :  invitation\n",
      "Routing State :  none\n",
      "Their Role :  invitee\n",
      "----------------------------------------------------------\n"
     ]
    }
   ],
   "source": [
    "# Alias for invited connection\n",
    "alias = \"Medical School\"\n",
    "auto_accept = \"true\"\n",
    "# Use public DID?\n",
    "public = \"false\"\n",
    "# Should this invitation be usable by multiple invitees?\n",
    "multi_use = \"false\"\n",
    "\n",
    "invitation_response = await agent_controller.connections.create_invitation(alias, auto_accept, public, multi_use)\n",
    "# Is equivalent to above. Arguments are optionally\n",
    "# invitation_response = await agent_controller.connections.create_invitation()\n",
    "\n",
    "\n",
    "\n",
    "# You will use this identifier to issue a credential across this connection\n",
    "connection_id = invitation_response[\"connection_id\"]"
   ]
  },
  {
   "cell_type": "markdown",
   "id": "1da1d2b6",
   "metadata": {},
   "source": [
    "## Share Invitation Object with External Agent"
   ]
  },
  {
   "cell_type": "code",
   "execution_count": 10,
   "id": "1090d666",
   "metadata": {},
   "outputs": [
    {
     "name": "stdout",
     "output_type": "stream",
     "text": [
      "{'@type': 'did:sov:BzCbsNYhMrjHiqZDTUASHg;spec/connections/1.0/invitation', '@id': '89986e1b-c209-40cd-9751-f03b5c929e40', 'serviceEndpoint': 'http://592e-86-18-68-143.ngrok.io', 'recipientKeys': ['HD4kV4DJvM1YTTXXrJsXrueMr9eu4rqiixdxj5tSQWHg'], 'label': 'General Medical Council'}\n",
      "----------------------------------------------------------\n",
      "Connection Webhook Event Received\n",
      "Connection ID :  7e36d96d-932a-4585-8e29-10f123db6e8b\n",
      "State :  request\n",
      "Routing State :  none\n",
      "Their Role :  invitee\n",
      "----------------------------------------------------------\n",
      "----------------------------------------------------------\n",
      "Connection Webhook Event Received\n",
      "Connection ID :  7e36d96d-932a-4585-8e29-10f123db6e8b\n",
      "State :  response\n",
      "Routing State :  none\n",
      "Their Role :  invitee\n",
      "----------------------------------------------------------\n",
      "----------------------------------------------------------\n",
      "Connection Webhook Event Received\n",
      "Connection ID :  7e36d96d-932a-4585-8e29-10f123db6e8b\n",
      "State :  active\n",
      "Routing State :  none\n",
      "Their Role :  invitee\n",
      "----------------------------------------------------------\n",
      "\u001b[1m\u001b[32mConnection ID: 7e36d96d-932a-4585-8e29-10f123db6e8b is now active.\u001b[0m\n"
     ]
    }
   ],
   "source": [
    "invitation = invitation_response[\"invitation\"]\n",
    "## Copy this output\n",
    "print(invitation)"
   ]
  },
  {
   "cell_type": "markdown",
   "id": "36c1a9a1",
   "metadata": {},
   "source": [
    "## Populate Credential Attributes\n",
    "\n",
    "Before you can issue a credential, you must define the values that will be issued in this credential. The attribute names **MUST** match those in the schem identified by the <schema_id> value.\n",
    "\n",
    "Make sure to change all code enclosed with <>.\n"
   ]
  },
  {
   "cell_type": "code",
   "execution_count": 11,
   "id": "94d98e10",
   "metadata": {},
   "outputs": [
    {
     "name": "stdout",
     "output_type": "stream",
     "text": [
      "[{'name': 'Name', 'value': 'Edinburgh Medical School'}, {'name': 'Date Issued', 'value': '2021-10-11'}, {'name': 'Re-Validation Due', 'value': '2026-10-10'}]\n"
     ]
    }
   ],
   "source": [
    "from datetime import date, timedelta\n",
    "\n",
    "name=\"Edinburgh Medical School\" # input(\"Please enter the value for <attr_1>: \")\n",
    "date_issued=date.today().isoformat()\n",
    "revalidation_due = (date.today() + timedelta(days=1825)).isoformat()\n",
    "credential_attributes = [\n",
    "    {\"name\": \"Name\", \"value\": name},\n",
    "    {\"name\": \"Date Issued\", \"value\": date_issued},\n",
    "    {\"name\": \"Re-Validation Due\", \"value\": revalidation_due}\n",
    "]\n",
    "print(credential_attributes)"
   ]
  },
  {
   "cell_type": "markdown",
   "id": "0fd1df6a",
   "metadata": {},
   "source": [
    "## Send Credential\n",
    "\n",
    "This is the easiest way to issue a credential because it automates the rest of the protocol steps. \n",
    "\n",
    "Note: The `connection_id` must be in the active state before a credential can be sent."
   ]
  },
  {
   "cell_type": "code",
   "execution_count": 12,
   "id": "fc1ee1d2",
   "metadata": {},
   "outputs": [
    {
     "name": "stdout",
     "output_type": "stream",
     "text": [
      "\n",
      "---------------------------------------------------\n",
      "\n",
      "Handle Issue Credential Webhook\n",
      "Connection ID : 7e36d96d-932a-4585-8e29-10f123db6e8b\n",
      "Credential exchange ID : 6fbcd7e7-c8e8-4cb6-84ed-62d515ab718e\n",
      "Agent Protocol Role :  issuer\n",
      "Protocol State :  offer_sent\n",
      "\n",
      "---------------------------------------------------\n",
      "\n",
      "Offering credential with attributes  : [{'name': 'Name', 'value': 'Edinburgh Medical School'}, {'name': 'Date Issued', 'value': '2021-10-11'}, {'name': 'Re-Validation Due', 'value': '2026-10-10'}]\n",
      "\n",
      "---------------------------------------------------\n",
      "\n",
      "Handle Issue Credential Webhook\n",
      "Connection ID : 7e36d96d-932a-4585-8e29-10f123db6e8b\n",
      "Credential exchange ID : 6fbcd7e7-c8e8-4cb6-84ed-62d515ab718e\n",
      "Agent Protocol Role :  issuer\n",
      "Protocol State :  request_received\n",
      "\n",
      "---------------------------------------------------\n",
      "\n",
      "Request for credential received\n",
      "\n",
      "---------------------------------------------------\n",
      "\n",
      "Handle Issue Credential Webhook\n",
      "Connection ID : 7e36d96d-932a-4585-8e29-10f123db6e8b\n",
      "Credential exchange ID : 6fbcd7e7-c8e8-4cb6-84ed-62d515ab718e\n",
      "Agent Protocol Role :  issuer\n",
      "Protocol State :  credential_issued\n",
      "\n",
      "---------------------------------------------------\n",
      "\n",
      "\n",
      "---------------------------------------------------\n",
      "\n",
      "Handle Issue Credential Webhook\n",
      "Connection ID : 7e36d96d-932a-4585-8e29-10f123db6e8b\n",
      "Credential exchange ID : 6fbcd7e7-c8e8-4cb6-84ed-62d515ab718e\n",
      "Agent Protocol Role :  issuer\n",
      "Protocol State :  credential_acked\n",
      "\n",
      "---------------------------------------------------\n",
      "\n"
     ]
    }
   ],
   "source": [
    "# Do you want the ACA-Py instance to trace it's processes (for testing/timing analysis)\n",
    "trace = True\n",
    "comment = \"\"\n",
    "# Remove credential record after issued?\n",
    "auto_remove = False\n",
    "\n",
    "# Change <schema_id> and <cred_def_id> to correct pair. Cred_def_id must identify a definition to which your agent has corresponding private issuing key.\n",
    "send_cred_response = await agent_controller.issuer.send_credential(connection_id, tms_schema_id, tms_cred_def_id, credential_attributes, comment, auto_remove, trace)\n",
    "\n",
    "# Note last three args are optional.\n",
    "# await agent_controller.issuer.send_credential(connection_id, <schema_id>, <cred_def_id, credential_attributes)"
   ]
  },
  {
   "cell_type": "markdown",
   "id": "72b48a3e",
   "metadata": {},
   "source": [
    "## Optional: Revoke Credential\n",
    "\n",
    "Only possible if the credential issued used a revocable credential definition. (see support_revocation flag in write_cred_def() function).\n",
    "\n",
    "There are two approachs to revoke an revocable credential"
   ]
  },
  {
   "cell_type": "markdown",
   "id": "48524e9f",
   "metadata": {},
   "source": [
    "### Option 1: Use credential Exchange ID\n",
    "\n",
    "Note: In a SSI application as an issuer you are might want to keep track of the identifiers for credential echange records. These can be used to retrieve records stored by the agent and also be used to identify a credential to revoke\n",
    "Note though that applications might not wish to retain these records as they contain sensitive PII"
   ]
  },
  {
   "cell_type": "code",
   "execution_count": null,
   "id": "256b74da",
   "metadata": {},
   "outputs": [],
   "source": [
    "record_id = send_cred_response[\"credential_exchange_id\"]\n",
    "try:\n",
    "    record = await agent_controller.issuer.get_record_by_id(record_id)\n",
    "except:\n",
    "    print(\"Record not found. Did your agent automatically remove it?\")\n",
    "\n",
    "if record:\n",
    "    # For revoke_credential() you only need to provide (cred_ex_id) OR (rev_reg_id AND cred_rev_id).\n",
    "    response = await agent_controller.revocations.revoke_credential(record_id, publish=True)\n",
    "    response"
   ]
  },
  {
   "cell_type": "markdown",
   "id": "d1d77a7e",
   "metadata": {},
   "source": [
    "### Option 2: Remove Credential using the Registry and Credential Revocation ID\n",
    "\n",
    "Does not currently work because of bug in code"
   ]
  },
  {
   "cell_type": "code",
   "execution_count": null,
   "id": "ff479bec",
   "metadata": {
    "tags": []
   },
   "outputs": [],
   "source": [
    "registry = await agent_controller.revocations.get_active_revocation_registry_by_cred_def(cred_def_id)\n",
    "print(registry)"
   ]
  },
  {
   "cell_type": "code",
   "execution_count": null,
   "id": "77b6f379",
   "metadata": {},
   "outputs": [],
   "source": [
    "revoc_reg_id = registry[\"result\"][\"revoc_reg_id\"]"
   ]
  },
  {
   "cell_type": "code",
   "execution_count": null,
   "id": "cd8ee878",
   "metadata": {},
   "outputs": [],
   "source": [
    "# Public revocation registry update to ledger\n",
    "publish = True\n",
    "# Believe this is index in rev registry starting from 1\n",
    "cred_rev_id = 1\n",
    "response = await agent_controller.revocations.revoke_credential(cred_rev_id = cred_rev_id, rev_reg_id = revoc_reg_id, publish=True)"
   ]
  },
  {
   "cell_type": "markdown",
   "id": "64f15f8c",
   "metadata": {},
   "source": [
    "## Terminate Controller\n",
    "\n",
    "Whenever you have finished with this notebook, be sure to terminate the controller. This is especially important if your business logic runs across multiple notebooks."
   ]
  },
  {
   "cell_type": "code",
   "execution_count": 13,
   "id": "6c792398",
   "metadata": {},
   "outputs": [],
   "source": [
    "await agent_controller.terminate()"
   ]
  },
  {
   "cell_type": "code",
   "execution_count": null,
   "id": "f4574525",
   "metadata": {},
   "outputs": [],
   "source": []
  }
 ],
 "metadata": {
  "kernelspec": {
   "display_name": "Python 3",
   "language": "python",
   "name": "python3"
  },
  "language_info": {
   "codemirror_mode": {
    "name": "ipython",
    "version": 3
   },
   "file_extension": ".py",
   "mimetype": "text/x-python",
   "name": "python",
   "nbconvert_exporter": "python",
   "pygments_lexer": "ipython3",
   "version": "3.8.5"
  }
 },
 "nbformat": 4,
 "nbformat_minor": 5
}
