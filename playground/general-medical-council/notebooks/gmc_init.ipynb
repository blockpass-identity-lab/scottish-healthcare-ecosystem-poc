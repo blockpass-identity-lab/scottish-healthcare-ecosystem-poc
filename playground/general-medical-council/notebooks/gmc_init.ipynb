{
 "cells": [
  {
   "cell_type": "markdown",
   "id": "fe7c9354",
   "metadata": {},
   "source": [
    "# Initialising Your Agent as an Issuing Authority\n",
    "\n",
    "This template walks you through the basic steps you need to take to configure your agent as an issuing authority on the Sovrin StagingNet. If using a different network you will need to update this template. The steps include:\n",
    "\n",
    "* Writing your DID to the Sovrin StagingNet\n",
    "* Accepting the Transaction Author Agreement\n",
    "* Authoring schema to the ledger\n",
    "* Authoring credential definitions for the schema this agent intends to issue\n",
    "* Persisting Identifiers for use throughout the playground.\n",
    "\n",
    "It is recommended that this initialisation notebook be run **once**. If you are following the default docker-compose services then your agents wallet storage will be persisted in a postgres database as long as you run `./manage stop` rather than `./manage down`. \n",
    "\n"
   ]
  },
  {
   "cell_type": "markdown",
   "id": "1c4a44d0",
   "metadata": {},
   "source": [
    "### Imports"
   ]
  },
  {
   "cell_type": "code",
   "execution_count": 1,
   "id": "3d6379ab",
   "metadata": {},
   "outputs": [],
   "source": [
    "from aries_cloudcontroller import AriesAgentController\n",
    "import os\n",
    "from termcolor import colored"
   ]
  },
  {
   "cell_type": "markdown",
   "id": "d7723aaf",
   "metadata": {},
   "source": [
    "### Initialise the Agent Controller"
   ]
  },
  {
   "cell_type": "code",
   "execution_count": 2,
   "id": "c0c006aa",
   "metadata": {},
   "outputs": [
    {
     "name": "stdout",
     "output_type": "stream",
     "text": [
      "Initialising a controller with admin api at http://general-medical-council-agent:3021 and an api key of adminApiKey\n"
     ]
    }
   ],
   "source": [
    "api_key = os.getenv(\"ACAPY_ADMIN_API_KEY\")\n",
    "admin_url = os.getenv(\"ADMIN_URL\")\n",
    "\n",
    "print(f\"Initialising a controller with admin api at {admin_url} and an api key of {api_key}\")\n",
    "agent_controller = AriesAgentController(admin_url,api_key)"
   ]
  },
  {
   "cell_type": "markdown",
   "id": "9cd11ea5",
   "metadata": {},
   "source": [
    "## Write DID to the Public Ledger\n",
    "\n",
    "Note: if defined a ACAPY_WALLET_SEED value for your agent then this function will return a DID, but this DID still needs to be written to the ledger. If you did not define a seed you will need to create a DID first."
   ]
  },
  {
   "cell_type": "code",
   "execution_count": 3,
   "id": "f9576513",
   "metadata": {},
   "outputs": [],
   "source": [
    "public_did_response = await agent_controller.wallet.get_public_did()"
   ]
  },
  {
   "cell_type": "code",
   "execution_count": 4,
   "id": "9da66f39",
   "metadata": {},
   "outputs": [
    {
     "name": "stdout",
     "output_type": "stream",
     "text": [
      "{'result': {'did': 'TDAbSf3Uqebg8N4XvybMbg', 'verkey': 'FHYRgHt1Z7pZBEY5yMaTHoeLMTvbQ9R6qdxhJu69xEw2', 'posture': 'public'}}\n"
     ]
    }
   ],
   "source": [
    "print(public_did_response)"
   ]
  },
  {
   "cell_type": "code",
   "execution_count": 5,
   "id": "9d513e03",
   "metadata": {},
   "outputs": [
    {
     "name": "stdout",
     "output_type": "stream",
     "text": [
      "DID {'did': 'TDAbSf3Uqebg8N4XvybMbg', 'verkey': 'FHYRgHt1Z7pZBEY5yMaTHoeLMTvbQ9R6qdxhJu69xEw2', 'posture': 'public'}\n"
     ]
    }
   ],
   "source": [
    "if public_did_response[\"result\"]:\n",
    "    did_obj = public_did_response[\"result\"]\n",
    "else:\n",
    "    create_did_response = await agent_controller.wallet.create_did()\n",
    "    did_obj = create_did_response['result']\n",
    "print(\"DID\", did_obj)"
   ]
  },
  {
   "cell_type": "markdown",
   "id": "cf453c78",
   "metadata": {},
   "source": [
    "## Not Needed for Local VON Network"
   ]
  },
  {
   "cell_type": "code",
   "execution_count": 6,
   "id": "fcb39cec",
   "metadata": {},
   "outputs": [],
   "source": [
    "# # write new DID to Sovrin Stagingnet\n",
    "# import requests\n",
    "# import json \n",
    "\n",
    "# url = 'https://selfserve.sovrin.org/nym'\n",
    "\n",
    "# payload = {\"network\":\"stagingnet\",\"did\": did_obj[\"did\"],\"verkey\":did_obj[\"verkey\"],\"paymentaddr\":\"\"}\n",
    "\n",
    "# # Adding empty header as parameters are being sent in payload\n",
    "# headers = {}\n",
    "\n",
    "# r = requests.post(url, data=json.dumps(payload), headers=headers)\n",
    "# print(r.json())"
   ]
  },
  {
   "cell_type": "markdown",
   "id": "f982182c",
   "metadata": {},
   "source": [
    "## Not Needed for Local VON Network\n",
    "\n",
    "## Accept Transaction Author Agreement\n",
    "\n",
    "Although the Sovrin StagingNet is permissionless, before DID's have the authority to write to the ledger they must accept something called a transaction author agreement by signing it using the DID they have on the ledger.\n",
    "\n",
    "As a global public ledger, the Sovrin Ledger and all its participants are subject to privacy and data protection regulations such as the EU General Data Protection Regulation (GDPR). These regulations require that the participants be explicit about responsibilities for Personal Data.\n",
    "\n",
    "To clarify these responsibilities and provide protection for all parties, the Sovrin Governance Framework Working Group developed an agreement between Transaction Authors and the Sovrin Foundation. The TAA can be found at Sovrin.org. It ensures that users are aware of and consent to the fact that all data written to the Sovrin Ledger cannot be removed, even if the original author of the transaction requests its removal.\n",
    "\n",
    "The TAA outlines the policies that users must follow when interacting with the Sovrin Ledger. When a user’s client software is preparing a transaction for submission to the network, it must include a demonstration that the user had the opportunity to review the current TAA and accept it. This is done by including some additional fields in the ledger write transaction: \n",
    "\n",
    "* A hash of the agreement\n",
    "* A date when the agreement was accepted, and\n",
    "* A string indicating the user interaction that was followed to obtain the acceptance.\n",
    "\n",
    "The Indy client API used by Sovrin has been extended to allow users to review current and past agreements and to indicate acceptance through an approved user interaction pattern. - source: https://sovrin.org/preparing-for-the-sovrin-transaction-author-agreement/\n",
    "\n",
    "For more details on TAA please read more at the following links:\n",
    "* [Preparing for the Sovrin Transaction Author Agreement](https://sovrin.org/preparing-for-the-sovrin-transaction-author-agreement/)\n",
    "* [How the recent approval of the Sovrin Governance Framework v2 affects Transaction Authors\n",
    "](https://sovrin.org/how-the-recent-approval-of-the-sovrin-governance-framework-v2-affects-transaction-authors/)\n",
    "* [TAA v2](https://github.com/sovrin-foundation/sovrin/blob/master/TAA/TAA.md)\n",
    "* [TAA Acceptance Mechanism List (AML)](https://github.com/sovrin-foundation/sovrin/blob/master/TAA/AML.md)"
   ]
  },
  {
   "cell_type": "code",
   "execution_count": 7,
   "id": "82c124f0",
   "metadata": {},
   "outputs": [],
   "source": [
    "# taa_response = await agent_controller.ledger.get_taa()\n",
    "# TAA = taa_response['result']['taa_record']\n",
    "# TAA['mechanism'] = \"service_agreement\"\n",
    "# await agent_controller.ledger.accept_taa(TAA)"
   ]
  },
  {
   "cell_type": "markdown",
   "id": "e9e14f2c",
   "metadata": {},
   "source": [
    "## Assign Agent Public DID if Not Set\n",
    "\n",
    "Will only be ran if ACAPY_WALLET_SEED not initially set."
   ]
  },
  {
   "cell_type": "code",
   "execution_count": 6,
   "id": "c80f951e",
   "metadata": {},
   "outputs": [
    {
     "name": "stdout",
     "output_type": "stream",
     "text": [
      "Successfully intialised agent with Public DID :  TDAbSf3Uqebg8N4XvybMbg\n"
     ]
    }
   ],
   "source": [
    "if did_obj[\"posture\"] != \"public\":\n",
    "    response = await agent_controller.wallet.assign_public_did(did_obj[\"did\"])\n",
    "print(\"Successfully intialised agent with Public DID : \", did_obj[\"did\"])"
   ]
  },
  {
   "cell_type": "markdown",
   "id": "ec69f6cd",
   "metadata": {},
   "source": [
    "## Writing GMC Licence Schema\n",
    "\n",
    "Note that the headshot attribute will contain a base64 string representing an image of the doctor."
   ]
  },
  {
   "cell_type": "code",
   "execution_count": 7,
   "id": "97d1279d",
   "metadata": {},
   "outputs": [],
   "source": [
    "# Define you schema name - must be unique on the ledger\n",
    "schema_name = \"GMC Licence\"\n",
    "# Can version the schema if you wish to update it\n",
    "schema_version = \"0.0.1\"\n",
    "# Define any list of attributes you wish to include in your schema\n",
    "attributes = [\"GMC Number\", \"Responsible Officer GMC Number\", \"Licenced From\", \"Re-Validation Due\", \"Name\", \"Headshot\", \"DOB\"]\n",
    "\n",
    "response = await agent_controller.schema.write_schema(schema_name, attributes, schema_version)\n",
    "gmc_schema_id = response[\"schema_id\"]"
   ]
  },
  {
   "cell_type": "markdown",
   "id": "d3c5fe9a",
   "metadata": {},
   "source": [
    "## Writing The GMC Licence Definition\n",
    "\n",
    "The GMC Licence is the foundational credential in a healthcare professionals career. All practicing doctors in the UK must have a licence and it is subject to review every 5 years.\n",
    "\n",
    "For this reason we have chosen to make the GMC Licence a revocable credential, such that the GMC can publish anonymous on chain updates revoking a doctors licence to practice at any time.\n",
    "\n",
    "Clearly there would need to be some regulations and governance around this, but likely these already exist as part of the General Medical Council's processes.\n",
    "\n",
    "Using anonymous revocation is important because it removes the requirement for a doctor to reveal a unique identifier every time they present their licence. Note if a unique identifier is required, any likely it would be a lot of the time, the interaction can request disclosure of the GMC number that identifies the doctor."
   ]
  },
  {
   "cell_type": "code",
   "execution_count": 8,
   "id": "11799860",
   "metadata": {},
   "outputs": [],
   "source": [
    "# Tag and group specific credential definitions\n",
    "tag = \"default\"\n",
    "\n",
    "# Make Cred Def support revocation. Credentials issued using this definition will be able to be revoked.\n",
    "support_revocation = True\n",
    "\n",
    "cred_def_response = await agent_controller.definitions.write_cred_def(gmc_schema_id, tag, support_revocation)\n",
    "gmc_cred_def_id = cred_def_response[\"credential_definition_id\"]"
   ]
  },
  {
   "cell_type": "markdown",
   "id": "b21d3ac9",
   "metadata": {},
   "source": [
    "## Writing Schema For Other Required Information Used in Doctor Onboarding\n",
    "\n",
    "The GMC in this scenario has been identified as a key root of trust for the healthcare system. As such they are going to issue additional credentials that the healthcare professional can use when onboarding at hospitals. These are:\n",
    "\n",
    "* Right to Work in the UK - The GMC must perform these checks before they can issue a licence\n",
    "* DBS Check - Ensures the professional has no criminal record. \n",
    "\n",
    "**Note: This check seems to be on a per role basis, so possible the GMC is not the best authority. Another option could be the Scottish Deanery who employs and assigns placements to Junior Doctors throughout the UK**\n",
    "\n",
    "Whether the GMC is the suitable entity to take on this role is an open question. However, they are already trusted by all hospitals and have regular contact with healthcare professionals throughout their career.\n",
    "\n",
    "Furthermore, they complete these checks anyway so would seem to be in an ideal position to provide cryptographic evidence attesting to their successful completion.\n",
    "\n",
    "These schema might be defined by another entity. Ideally Gov.UK. This is likely to take a long time."
   ]
  },
  {
   "cell_type": "code",
   "execution_count": 9,
   "id": "23f12ac0",
   "metadata": {},
   "outputs": [],
   "source": [
    "# Define you schema name - must be unique on the ledger\n",
    "schema_name = \"UK Right to Work\"\n",
    "# Can version the schema if you wish to update it\n",
    "schema_version = \"0.0.1\"\n",
    "# Define any list of attributes you wish to include in your schema\n",
    "attributes = [\"Eligible\", \"Date Completed\", \"Expiration Date\", \"Address\"]\n",
    "\n",
    "response = await agent_controller.schema.write_schema(schema_name, attributes, schema_version)\n",
    "rtw_schema_id = response[\"schema_id\"]"
   ]
  },
  {
   "cell_type": "code",
   "execution_count": 10,
   "id": "72e545eb",
   "metadata": {},
   "outputs": [],
   "source": [
    "# Define you schema name - must be unique on the ledger\n",
    "schema_name = \"DBS Check\"\n",
    "# Can version the schema if you wish to update it\n",
    "schema_version = \"0.0.1\"\n",
    "# Define any list of attributes you wish to include in your schema\n",
    "\n",
    "# The idea with the Certificate Reference Number is it could be looked up on the gov database to verify this information\n",
    "# Rather than reproducing all the certification information which the GMC is not authorised to do\n",
    "# This credential is evidence that a DBS check has taken place\n",
    "attributes = [\"Certificate Reference Number\",\"Date Completed\", \"Expiration Date\", \"Type\"]\n",
    "\n",
    "response = await agent_controller.schema.write_schema(schema_name, attributes, schema_version)\n",
    "dbs_schema_id = response[\"schema_id\"]"
   ]
  },
  {
   "cell_type": "markdown",
   "id": "e4d9c8b3",
   "metadata": {},
   "source": [
    "## Write Credential Definitions\n",
    "\n",
    "Note: These are not revocable credentials but they could be if needed"
   ]
  },
  {
   "cell_type": "code",
   "execution_count": 11,
   "id": "fccdb54a",
   "metadata": {},
   "outputs": [],
   "source": [
    "# Tag and group specific credential definitions\n",
    "tag = \"doctor-onboarding\"\n",
    "\n",
    "# Make Cred Def support revocation. Credentials issued using this definition will be able to be revoked.\n",
    "support_revocation = False\n",
    "\n",
    "cred_def_response = await agent_controller.definitions.write_cred_def(rtw_schema_id, tag, support_revocation)\n",
    "rtw_cred_def_id = cred_def_response[\"credential_definition_id\"]"
   ]
  },
  {
   "cell_type": "code",
   "execution_count": 12,
   "id": "b0f089d5",
   "metadata": {},
   "outputs": [],
   "source": [
    "# Tag and group specific credential definitions\n",
    "tag = \"doctor-onboarding\"\n",
    "\n",
    "# Make Cred Def support revocation. Credentials issued using this definition will be able to be revoked.\n",
    "support_revocation = False\n",
    "\n",
    "cred_def_response = await agent_controller.definitions.write_cred_def(dbs_schema_id, tag, support_revocation)\n",
    "dbs_cred_def_id = cred_def_response[\"credential_definition_id\"]"
   ]
  },
  {
   "cell_type": "markdown",
   "id": "7789907c",
   "metadata": {},
   "source": [
    "## Persist Identifiers for use throughout other business logic notebooks associated with this agent\n",
    "\n",
    "The schema_id and cred_def_id value pairs are required whenever issuing credentials, and also can be used to constrain acceptable proof requests. In a real application these values might be stored in environment variables or most likely in a database. For notebooks we have found it easier to store as string values in a cell and then load these values into the jupyter store so that they can be fetched across multiple notebooks.\n",
    "\n",
    "As such you are recommended to print out each of the schema and cred def identifiers used by your agent and copy them across to your **main** business logic notebook where you should store them in a variable and save them to the jupyter store. Remember, you should only be running this notebook once so having this logic in here will not be useful.\n"
   ]
  },
  {
   "cell_type": "code",
   "execution_count": 13,
   "id": "533d447f",
   "metadata": {},
   "outputs": [
    {
     "name": "stdout",
     "output_type": "stream",
     "text": [
      "gmc_schema_id = 'TDAbSf3Uqebg8N4XvybMbg:2:GMC Licence:0.0.1'\n",
      "gmc_cred_def_id = 'TDAbSf3Uqebg8N4XvybMbg:3:CL:12:default'\n"
     ]
    }
   ],
   "source": [
    "print(f\"gmc_schema_id = '{gmc_schema_id}'\")\n",
    "print(f\"gmc_cred_def_id = '{gmc_cred_def_id}'\")"
   ]
  },
  {
   "cell_type": "code",
   "execution_count": 14,
   "id": "2e3d26d7",
   "metadata": {},
   "outputs": [
    {
     "name": "stdout",
     "output_type": "stream",
     "text": [
      "rtw_schema_id = 'TDAbSf3Uqebg8N4XvybMbg:2:UK Right to Work:0.0.1'\n",
      "rtw_cred_def_id = 'TDAbSf3Uqebg8N4XvybMbg:3:CL:18:doctor-onboarding'\n"
     ]
    }
   ],
   "source": [
    "print(f\"rtw_schema_id = '{rtw_schema_id}'\")\n",
    "print(f\"rtw_cred_def_id = '{rtw_cred_def_id}'\")"
   ]
  },
  {
   "cell_type": "code",
   "execution_count": 15,
   "id": "9547eea2",
   "metadata": {},
   "outputs": [
    {
     "name": "stdout",
     "output_type": "stream",
     "text": [
      "dbs_schema_id = 'TDAbSf3Uqebg8N4XvybMbg:2:DBS Check:0.0.1'\n",
      "dbs_cred_def_id = 'TDAbSf3Uqebg8N4XvybMbg:3:CL:19:doctor-onboarding'\n"
     ]
    }
   ],
   "source": [
    "print(f\"dbs_schema_id = '{dbs_schema_id}'\")\n",
    "print(f\"dbs_cred_def_id = '{dbs_cred_def_id}'\")"
   ]
  },
  {
   "cell_type": "markdown",
   "id": "70909925",
   "metadata": {},
   "source": [
    "## Terminate Controller\n"
   ]
  },
  {
   "cell_type": "code",
   "execution_count": 16,
   "id": "5142e172",
   "metadata": {},
   "outputs": [],
   "source": [
    "await agent_controller.terminate()"
   ]
  },
  {
   "cell_type": "code",
   "execution_count": null,
   "id": "9c84d316",
   "metadata": {},
   "outputs": [],
   "source": []
  }
 ],
 "metadata": {
  "kernelspec": {
   "display_name": "Python 3",
   "language": "python",
   "name": "python3"
  },
  "language_info": {
   "codemirror_mode": {
    "name": "ipython",
    "version": 3
   },
   "file_extension": ".py",
   "mimetype": "text/x-python",
   "name": "python",
   "nbconvert_exporter": "python",
   "pygments_lexer": "ipython3",
   "version": "3.7.6"
  }
 },
 "nbformat": 4,
 "nbformat_minor": 5
}
