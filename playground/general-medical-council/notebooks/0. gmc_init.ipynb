{
 "cells": [
  {
   "cell_type": "markdown",
   "id": "960e4689",
   "metadata": {},
   "source": [
    "\n",
    "\n",
    "![GMC](https://ghdisplay-live.storage.googleapis.com/upload/img_cache/file-16238-c06851b8f6cf498bb25b1381ef28afa6.jpg)\n",
    "\n",
    "# Initialising The GMC Agent as an Issuing Authority\n",
    "\n",
    "## This would all be done on a secure system managed by GMC IT Admin\n",
    "\n",
    "![Secure Server](https://static.thenounproject.com/png/65152-200.png)"
   ]
  },
  {
   "cell_type": "markdown",
   "id": "60e23fe4",
   "metadata": {},
   "source": [
    "### Imports"
   ]
  },
  {
   "cell_type": "code",
   "execution_count": 3,
   "id": "65eedc2c",
   "metadata": {},
   "outputs": [],
   "source": [
    "from aries_cloudcontroller import AriesAgentController\n",
    "import os\n",
    "from termcolor import colored"
   ]
  },
  {
   "cell_type": "markdown",
   "id": "8005b3cd",
   "metadata": {},
   "source": [
    "### Initialise the Agent Controller"
   ]
  },
  {
   "cell_type": "code",
   "execution_count": 4,
   "id": "864d9084",
   "metadata": {},
   "outputs": [
    {
     "name": "stdout",
     "output_type": "stream",
     "text": [
      "Initialising a controller with admin api at http://general-medical-council-agent:3021 and an api key of adminApiKey\n"
     ]
    }
   ],
   "source": [
    "api_key = os.getenv(\"ACAPY_ADMIN_API_KEY\")\n",
    "admin_url = os.getenv(\"ADMIN_URL\")\n",
    "\n",
    "print(f\"Initialising a controller with admin api at {admin_url} and an api key of {api_key}\")\n",
    "agent_controller = AriesAgentController(admin_url,api_key)"
   ]
  },
  {
   "cell_type": "markdown",
   "id": "d92502ad",
   "metadata": {},
   "source": [
    "## GMC Public DID\n",
    "\n",
    "![DID Document](https://www.w3.org/TR/did-core/diagrams/figure-a.1-did-and-did-document-graph.png)\n",
    "\n",
    "The GMC uses a seed that can be set using ACAPY_WALLET_SEED environment variable. This seed is used to create a public key pair and corresponding DID. For issuers this DID must be public, meaning it has been written to indy network used by the ecosystem and has signed any necessary agreements. E.g. the Sovrin Transaction Author Agreement.\n",
    "\n",
    "We are currently using a local von-network, seen http://localhost:9000, and have used this interface to previously author the GMC DID to the ledger.\n",
    "\n",
    "In production, this system might use the Sovrin StagingNetwork. Where write access is limited to those DID's already on the ledger with the assigned role of Transaction Endorser. All transactions MUST be signed by a TE. This helps to limit which actors can get identifiers on the ledger and the subsequent transactions they can write.\n",
    "\n",
    "We are assigning the GMC as a Transaction Endorser and hence root of trust for the Scottish Healthcare Ecosystem. They can then take on the role of onboarding other actors endorsing their transactions onto the ledger. For example they might sign transactions for:\n",
    "\n",
    "* New medical school DID joining the network\n",
    "* Medical school credential definition\n",
    "* A specialist college joining the network\n",
    "* Training programs they have regulated\n",
    "\n",
    "Other actors are likely to trust credentials and actors who can trace the root of trust back to the GMC."
   ]
  },
  {
   "cell_type": "code",
   "execution_count": 6,
   "id": "988590ea",
   "metadata": {},
   "outputs": [],
   "source": [
    "public_did_response = await agent_controller.wallet.get_public_did()"
   ]
  },
  {
   "cell_type": "code",
   "execution_count": 7,
   "id": "8dd83068",
   "metadata": {},
   "outputs": [
    {
     "name": "stdout",
     "output_type": "stream",
     "text": [
      "DID {'did': 'TDAbSf3Uqebg8N4XvybMbg', 'verkey': 'FHYRgHt1Z7pZBEY5yMaTHoeLMTvbQ9R6qdxhJu69xEw2', 'posture': 'public'}\n"
     ]
    }
   ],
   "source": [
    "if public_did_response[\"result\"]:\n",
    "    did_obj = public_did_response[\"result\"]\n",
    "else:\n",
    "    create_did_response = await agent_controller.wallet.create_did()\n",
    "    did_obj = create_did_response['result']\n",
    "print(\"DID\", did_obj)"
   ]
  },
  {
   "cell_type": "markdown",
   "id": "6ebcdf73",
   "metadata": {},
   "source": [
    "## Not Needed for Local VON Network"
   ]
  },
  {
   "cell_type": "code",
   "execution_count": 6,
   "id": "7188502d",
   "metadata": {},
   "outputs": [],
   "source": [
    "# # write new DID to Sovrin Stagingnet\n",
    "# import requests\n",
    "# import json \n",
    "\n",
    "# url = 'https://selfserve.sovrin.org/nym'\n",
    "\n",
    "# payload = {\"network\":\"stagingnet\",\"did\": did_obj[\"did\"],\"verkey\":did_obj[\"verkey\"],\"paymentaddr\":\"\"}\n",
    "\n",
    "# # Adding empty header as parameters are being sent in payload\n",
    "# headers = {}\n",
    "\n",
    "# r = requests.post(url, data=json.dumps(payload), headers=headers)\n",
    "# print(r.json())"
   ]
  },
  {
   "cell_type": "markdown",
   "id": "6cd6d9e8",
   "metadata": {},
   "source": [
    "## Not Needed for Local VON Network\n",
    "\n",
    "## Accept Transaction Author Agreement\n",
    "\n",
    "Although the Sovrin StagingNet is permissionless, before DID's have the authority to write to the ledger they must accept something called a transaction author agreement by signing it using the DID they have on the ledger.\n",
    "\n",
    "As a global public ledger, the Sovrin Ledger and all its participants are subject to privacy and data protection regulations such as the EU General Data Protection Regulation (GDPR). These regulations require that the participants be explicit about responsibilities for Personal Data.\n",
    "\n",
    "To clarify these responsibilities and provide protection for all parties, the Sovrin Governance Framework Working Group developed an agreement between Transaction Authors and the Sovrin Foundation. The TAA can be found at Sovrin.org. It ensures that users are aware of and consent to the fact that all data written to the Sovrin Ledger cannot be removed, even if the original author of the transaction requests its removal.\n",
    "\n",
    "The TAA outlines the policies that users must follow when interacting with the Sovrin Ledger. When a user’s client software is preparing a transaction for submission to the network, it must include a demonstration that the user had the opportunity to review the current TAA and accept it. This is done by including some additional fields in the ledger write transaction: \n",
    "\n",
    "* A hash of the agreement\n",
    "* A date when the agreement was accepted, and\n",
    "* A string indicating the user interaction that was followed to obtain the acceptance.\n",
    "\n",
    "The Indy client API used by Sovrin has been extended to allow users to review current and past agreements and to indicate acceptance through an approved user interaction pattern. - source: https://sovrin.org/preparing-for-the-sovrin-transaction-author-agreement/\n",
    "\n",
    "For more details on TAA please read more at the following links:\n",
    "* [Preparing for the Sovrin Transaction Author Agreement](https://sovrin.org/preparing-for-the-sovrin-transaction-author-agreement/)\n",
    "* [How the recent approval of the Sovrin Governance Framework v2 affects Transaction Authors\n",
    "](https://sovrin.org/how-the-recent-approval-of-the-sovrin-governance-framework-v2-affects-transaction-authors/)\n",
    "* [TAA v2](https://github.com/sovrin-foundation/sovrin/blob/master/TAA/TAA.md)\n",
    "* [TAA Acceptance Mechanism List (AML)](https://github.com/sovrin-foundation/sovrin/blob/master/TAA/AML.md)"
   ]
  },
  {
   "cell_type": "code",
   "execution_count": 7,
   "id": "7d8723ee",
   "metadata": {},
   "outputs": [],
   "source": [
    "# taa_response = await agent_controller.ledger.get_taa()\n",
    "# TAA = taa_response['result']['taa_record']\n",
    "# TAA['mechanism'] = \"service_agreement\"\n",
    "# await agent_controller.ledger.accept_taa(TAA)"
   ]
  },
  {
   "cell_type": "markdown",
   "id": "46b9d1b5",
   "metadata": {},
   "source": [
    "## Assign Agent Public DID if Not Set\n",
    "\n",
    "Will only be ran if ACAPY_WALLET_SEED not initially set."
   ]
  },
  {
   "cell_type": "code",
   "execution_count": 8,
   "id": "d4531d7d",
   "metadata": {},
   "outputs": [
    {
     "name": "stdout",
     "output_type": "stream",
     "text": [
      "Successfully intialised agent with Public DID :  TDAbSf3Uqebg8N4XvybMbg\n"
     ]
    }
   ],
   "source": [
    "if did_obj[\"posture\"] != \"public\":\n",
    "    response = await agent_controller.wallet.assign_public_did(did_obj[\"did\"])\n",
    "print(\"Successfully intialised agent with Public DID : \", did_obj[\"did\"])"
   ]
  },
  {
   "cell_type": "markdown",
   "id": "e43e9245",
   "metadata": {},
   "source": [
    "## Write Trusted Medical School Schema\n",
    "\n",
    "The GMC regulates all medical schools, ensuring they provide adequate education to medics. The GMC might want to provide medical schools with a credential, thus empowering them to digitally prove they are a trusted medical school/"
   ]
  },
  {
   "cell_type": "code",
   "execution_count": 9,
   "id": "a0ce811e",
   "metadata": {},
   "outputs": [],
   "source": [
    "# Define you schema name - must be unique on the ledger\n",
    "schema_name = \"Trusted Medical School\"\n",
    "# Can version the schema if you wish to update it\n",
    "schema_version = \"0.0.1\"\n",
    "# Define any list of attributes you wish to include in your schema\n",
    "attributes = [\"Name\", \"Date Issued\", \"Re-Validation Due\"]\n",
    "\n",
    "response = await agent_controller.schema.write_schema(schema_name, attributes, schema_version)\n",
    "tms_schema_id = response[\"schema_id\"]"
   ]
  },
  {
   "cell_type": "markdown",
   "id": "cc7fccfd",
   "metadata": {},
   "source": [
    "## Write Credential Definition"
   ]
  },
  {
   "cell_type": "code",
   "execution_count": 12,
   "id": "a98a8331",
   "metadata": {},
   "outputs": [],
   "source": [
    "# Tag and group specific credential definitions\n",
    "tag = \"institution\"\n",
    "\n",
    "# Make Cred Def support revocation. Credentials issued using this definition will be able to be revoked.\n",
    "support_revocation = True\n",
    "\n",
    "cred_def_response = await agent_controller.definitions.write_cred_def(tms_schema_id, tag, support_revocation)\n",
    "tms_cred_def_id = cred_def_response[\"credential_definition_id\"]"
   ]
  },
  {
   "cell_type": "markdown",
   "id": "89489e99",
   "metadata": {},
   "source": [
    "## Writing GMC Licence Schema\n",
    "\n",
    "Note that the Base64DoctorImage attribute will contain a base64 image string representing an image of the doctor.\n",
    "\n",
    "![](https://www.spine-pldd.com/public/catalogo/large/20181217_6711.jpg)"
   ]
  },
  {
   "cell_type": "code",
   "execution_count": 11,
   "id": "b33553a1",
   "metadata": {},
   "outputs": [],
   "source": [
    "# Define you schema name - must be unique on the ledger\n",
    "schema_name = \"GMC Licence\"\n",
    "# Can version the schema if you wish to update it\n",
    "schema_version = \"0.0.1\"\n",
    "# Define any list of attributes you wish to include in your schema\n",
    "attributes = [\"GMC Number\", \"Responsible Officer GMC Number\", \"Licenced From\", \"Re-Validation Due\", \"Name\", \"Base64DoctorImage\", \"DOB\"]\n",
    "\n",
    "response = await agent_controller.schema.write_schema(schema_name, attributes, schema_version)\n",
    "gmc_schema_id = response[\"schema_id\"]"
   ]
  },
  {
   "cell_type": "markdown",
   "id": "fd540b1d",
   "metadata": {},
   "source": [
    "## Writing The GMC Licence Definition\n",
    "\n",
    "The GMC Licence is the foundational credential in a healthcare professionals career. All practicing doctors in the UK must have a licence and it is subject to review every 5 years.\n",
    "\n",
    "For this reason we have chosen to make the GMC Licence a revocable credential, such that the GMC can publish anonymous on chain updates revoking a doctors licence to practice at any time.\n",
    "\n",
    "Clearly there would need to be some regulations and governance around this, but likely these already exist as part of the General Medical Council's processes.\n",
    "\n",
    "Using anonymous revocation is important because it removes the requirement for a doctor to reveal a unique identifier every time they present their licence. Note if a unique identifier is required, any likely it would be a lot of the time, the interaction can request disclosure of the GMC number that identifies the doctor."
   ]
  },
  {
   "cell_type": "code",
   "execution_count": 12,
   "id": "3ade8182",
   "metadata": {},
   "outputs": [],
   "source": [
    "# Tag and group specific credential definitions\n",
    "tag = \"gmc\"\n",
    "\n",
    "# Make Cred Def support revocation. Credentials issued using this definition will be able to be revoked.\n",
    "support_revocation = True\n",
    "\n",
    "cred_def_response = await agent_controller.definitions.write_cred_def(gmc_schema_id, tag, support_revocation)\n",
    "gmc_cred_def_id = cred_def_response[\"credential_definition_id\"]"
   ]
  },
  {
   "cell_type": "markdown",
   "id": "b68d4911",
   "metadata": {},
   "source": [
    "## Persist Identifiers for use throughout other business logic notebooks associated with this agent\n",
    "\n",
    "![Database](https://encrypted-tbn0.gstatic.com/images?q=tbn:ANd9GcQvT8nx1MZBTT86OMo7ADKPW8freW47j1POHETHyCUTv-lsXGQkGCjOTZaKAvKM2L8JS3o&usqp=CAU)\n",
    "\n",
    "Typically these would be persisted in a database within the secure server of the actor.\n",
    "\n",
    "The schema_id and cred_def_id value pairs are required whenever issuing credentials, and also can be used to constrain acceptable proof requests. In a real application these values might be stored in environment variables or most likely in a database. For notebooks we have found it easier to store as string values in a cell and then load these values into the jupyter store so that they can be fetched across multiple notebooks.\n",
    "\n",
    "As such you are recommended to print out each of the schema and cred def identifiers used by your agent and copy them across to your **main** business logic notebook where you should store them in a variable and save them to the jupyter store. Remember, you should only be running this notebook once so having this logic in here will not be useful.\n",
    "\n",
    "\n"
   ]
  },
  {
   "cell_type": "code",
   "execution_count": 13,
   "id": "4c51f8db",
   "metadata": {},
   "outputs": [
    {
     "name": "stdout",
     "output_type": "stream",
     "text": [
      "tms_schema_id = 'TDAbSf3Uqebg8N4XvybMbg:2:Trusted Medical School:0.0.1'\n",
      "tms_cred_def_id = 'TDAbSf3Uqebg8N4XvybMbg:3:CL:13:institution'\n"
     ]
    }
   ],
   "source": [
    "print(f\"tms_schema_id = '{tms_schema_id}'\")\n",
    "print(f\"tms_cred_def_id = '{tms_cred_def_id}'\")"
   ]
  },
  {
   "cell_type": "code",
   "execution_count": 14,
   "id": "e199f98a",
   "metadata": {},
   "outputs": [
    {
     "name": "stdout",
     "output_type": "stream",
     "text": [
      "gmc_schema_id = 'TDAbSf3Uqebg8N4XvybMbg:2:GMC Licence:0.0.1'\n",
      "gmc_cred_def_id = 'TDAbSf3Uqebg8N4XvybMbg:3:CL:18:gmc'\n"
     ]
    }
   ],
   "source": [
    "dbs_schema_id = 'MKDB7pQgw1KGJZ1UtJHCkY:2:DBS Check:0.0.1'\n",
    "dbs_cred_def_id = 'MKDB7pQgw1KGJZ1UtJHCkY:3:CL:216272:doctor-onboarding'"
   ]
  },
  {
   "cell_type": "markdown",
   "id": "0984e0db",
   "metadata": {},
   "source": [
    "## Terminate Controller\n"
   ]
  },
  {
   "cell_type": "code",
   "execution_count": 13,
   "id": "3f112914",
   "metadata": {},
   "outputs": [],
   "source": [
    "await agent_controller.terminate()"
   ]
  },
  {
   "cell_type": "code",
   "execution_count": null,
   "id": "4d213e95",
   "metadata": {},
   "outputs": [],
   "source": []
  }
 ],
 "metadata": {
  "kernelspec": {
   "display_name": "Python 3",
   "language": "python",
   "name": "python3"
  },
  "language_info": {
   "codemirror_mode": {
    "name": "ipython",
    "version": 3
   },
   "file_extension": ".py",
   "mimetype": "text/x-python",
   "name": "python",
   "nbconvert_exporter": "python",
   "pygments_lexer": "ipython3",
   "version": "3.7.6"
  }
 },
 "nbformat": 4,
 "nbformat_minor": 5
}
