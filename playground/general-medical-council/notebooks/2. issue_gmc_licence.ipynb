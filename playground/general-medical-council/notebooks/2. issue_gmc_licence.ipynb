{
 "cells": [
  {
   "cell_type": "markdown",
   "id": "b653d6c7",
   "metadata": {},
   "source": [
    "# GMC Issues Licence\n",
    "\n",
    "![](https://i.ytimg.com/vi/fZ3EPvp12bU/maxresdefault.jpg)\n",
    "\n",
    "Before issuing a licence the GMC makes a connection with the medic through a face to face meeting arranged by the medical school they are attending. It is here that personally identifiable information, including a headshot of the medic can be collected.\n",
    "\n",
    "Before the GMC Licence is issued the GMC verifies the medic has recieved a Primary Medical Qualification from a medical school they trust.\n",
    "\n",
    "\n"
   ]
  },
  {
   "cell_type": "markdown",
   "id": "274c7cdc",
   "metadata": {},
   "source": [
    "## This Would Need Be Configured and Running on the GMC Servers\n",
    "\n",
    "![Secure Server](https://static.thenounproject.com/png/65152-200.png)"
   ]
  },
  {
   "cell_type": "markdown",
   "id": "371c8260",
   "metadata": {},
   "source": [
    "### Imports"
   ]
  },
  {
   "cell_type": "code",
   "execution_count": null,
   "id": "84c22b5f",
   "metadata": {},
   "outputs": [],
   "source": [
    "from aries_cloudcontroller import AriesAgentController\n",
    "import os\n",
    "from termcolor import colored"
   ]
  },
  {
   "cell_type": "markdown",
   "id": "47426580",
   "metadata": {},
   "source": [
    "### Initialise the Agent Controller"
   ]
  },
  {
   "cell_type": "code",
   "execution_count": null,
   "id": "8aaa568d",
   "metadata": {},
   "outputs": [],
   "source": [
    "api_key = os.getenv(\"ACAPY_ADMIN_API_KEY\")\n",
    "admin_url = os.getenv(\"ADMIN_URL\")\n",
    "\n",
    "print(f\"Initialising a controller with admin api at {admin_url} and an api key of {api_key}\")\n",
    "agent_controller = AriesAgentController(admin_url,api_key)"
   ]
  },
  {
   "cell_type": "markdown",
   "id": "04ea830f",
   "metadata": {},
   "source": [
    "### Start a Webhook Server"
   ]
  },
  {
   "cell_type": "code",
   "execution_count": null,
   "id": "e2e2cc3f",
   "metadata": {},
   "outputs": [],
   "source": [
    "webhook_port = int(os.getenv(\"WEBHOOK_PORT\"))\n",
    "webhook_host = \"0.0.0.0\"\n",
    "\n",
    "await agent_controller.init_webhook_server(webhook_host, webhook_port)\n",
    "\n",
    "print(f\"Listening for webhooks from agent at http://{webhook_host}:{webhook_port}\")"
   ]
  },
  {
   "cell_type": "markdown",
   "id": "293c1b7e",
   "metadata": {},
   "source": [
    "## Set Global Identifiers\n",
    "\n",
    "These specify which schema and issuers to trust and would likely be defined by some governance framework. Note: The GMC already does this, it knows and regulates which medical schools it trusts to educate medics to the required standards.\n",
    "\n",
    "![](https://www.studymedicineeurope.com/wp-content/uploads/2020/07/NP-_-General-Medicin-Council-7-2020-NS.jpg)"
   ]
  },
  {
   "cell_type": "code",
   "execution_count": null,
   "id": "0fc0a9bb",
   "metadata": {},
   "outputs": [],
   "source": [
    "pmq_schema_id = '3jnXQcj9VLFjcUbtDVZZzV:2:Primary Medical Qualification:0.0.2'\n"
   ]
  },
  {
   "cell_type": "code",
   "execution_count": null,
   "id": "48291f69",
   "metadata": {},
   "outputs": [],
   "source": [
    "trusted_medical_school_dids = [\"3jnXQcj9VLFjcUbtDVZZzV\"] \n"
   ]
  },
  {
   "cell_type": "markdown",
   "id": "0262b88a",
   "metadata": {},
   "source": [
    "## Retrieve Issuing Schema and Cred Def Identifiers\n",
    "\n",
    "If you intend for this agent to issue credentials you should first initialise your agent as an issuer and author the relevant identifiers to the public ledger. The issuer_initialisation recipe notebook can be duplicated and used as a starting point.\n",
    "\n",
    "Once schema and cred def identifiers are created copy across and store in variables as illustrated in the cell below. Be sure to use unique names for each variable."
   ]
  },
  {
   "cell_type": "code",
   "execution_count": null,
   "id": "9e896675",
   "metadata": {},
   "outputs": [],
   "source": [
    "gmc_schema_id = 'TDAbSf3Uqebg8N4XvybMbg:2:GMC Licence:0.0.2'\n",
    "gmc_cred_def_id = 'TDAbSf3Uqebg8N4XvybMbg:3:CL:22:gmc'\n",
    "\n",
    "\n",
    "\n",
    "%store gmc_schema_id\n",
    "%store gmc_cred_def_id\n"
   ]
  },
  {
   "cell_type": "markdown",
   "id": "3454605c",
   "metadata": {},
   "source": [
    "## Register Agent Event Listeners\n",
    "\n",
    "You can see some examples within the webhook_listeners recipe. Copy any relevant cells across and fill in additional logic as needed."
   ]
  },
  {
   "cell_type": "code",
   "execution_count": null,
   "id": "cc8225fe",
   "metadata": {},
   "outputs": [],
   "source": [
    "listeners = []"
   ]
  },
  {
   "cell_type": "code",
   "execution_count": null,
   "id": "ddba9526",
   "metadata": {},
   "outputs": [],
   "source": [
    "## YOUR LISTENERS HERE\n",
    "# Receive connection messages\n",
    "def connections_handler(payload):\n",
    "    state = payload['state']\n",
    "    connection_id = payload[\"connection_id\"]\n",
    "    their_role = payload[\"their_role\"]\n",
    "    routing_state = payload[\"routing_state\"]\n",
    "    \n",
    "    print(\"----------------------------------------------------------\")\n",
    "    print(\"Connection Webhook Event Received\")\n",
    "    print(\"Connection ID : \", connection_id)\n",
    "    print(\"State : \", state)\n",
    "    print(\"Routing State : \", routing_state)\n",
    "    print(\"Their Role : \", their_role)\n",
    "    print(\"----------------------------------------------------------\")\n",
    "    if state == \"active\":\n",
    "        # Your business logic\n",
    "        print(colored(\"Connection ID: {0} is now active.\".format(connection_id), \"green\", attrs=[\"bold\"]))\n",
    "\n",
    "connection_listener = {\n",
    "    \"handler\": connections_handler,\n",
    "    \"topic\": \"connections\"\n",
    "}\n",
    "\n",
    "listeners.append(connection_listener)"
   ]
  },
  {
   "cell_type": "code",
   "execution_count": null,
   "id": "65c9c12d",
   "metadata": {},
   "outputs": [],
   "source": [
    "def issuer_handler(payload):\n",
    "    \n",
    "    connection_id = payload['connection_id']\n",
    "    exchange_id = payload['credential_exchange_id']\n",
    "    state = payload['state']\n",
    "    role = payload['role']\n",
    "    print(\"\\n---------------------------------------------------\\n\")\n",
    "    print(\"Handle Issue Credential Webhook\")\n",
    "    print(f\"Connection ID : {connection_id}\")\n",
    "    print(f\"Credential exchange ID : {exchange_id}\")\n",
    "    print(\"Agent Protocol Role : \", role)\n",
    "    print(\"Protocol State : \", state )\n",
    "    print(\"\\n---------------------------------------------------\\n\")\n",
    "    \n",
    "\n",
    "    \n",
    "    if state == \"offer_sent\":\n",
    "        proposal = payload[\"credential_proposal_dict\"]\n",
    "        attributes = proposal['credential_proposal']['attributes']\n",
    "\n",
    "        print(f\"Offering credential with attributes  : {attributes}\")\n",
    "        ## YOUR LOGIC HERE\n",
    "    elif state == \"request_received\":\n",
    "        print(\"Request for credential received\")\n",
    "        ## YOUR LOGIC HERE\n",
    "    elif state == \"credential_sent\":\n",
    "        print(\"Credential Sent\")\n",
    "        ## YOUR LOGIC HERE\n",
    "    \n",
    "issuer_listener = {\n",
    "    \"topic\": \"issue_credential\",\n",
    "    \"handler\": issuer_handler\n",
    "}\n",
    "\n",
    "listeners.append(issuer_listener)"
   ]
  },
  {
   "cell_type": "code",
   "execution_count": null,
   "id": "eeeafba4",
   "metadata": {},
   "outputs": [],
   "source": [
    "\n",
    "def verifier_proof_handler(payload):\n",
    "    role = payload[\"role\"]\n",
    "    connection_id = payload[\"connection_id\"]\n",
    "    pres_ex_id = payload[\"presentation_exchange_id\"]\n",
    "    state = payload[\"state\"]\n",
    "    print(\"\\n---------------------------------------------------------------------\\n\")\n",
    "    print(\"Handle present-proof\")\n",
    "    print(\"Connection ID : \", connection_id)\n",
    "    print(\"Presentation Exchange ID : \", pres_ex_id)\n",
    "    print(\"Protocol State : \", state)\n",
    "    print(\"Agent Role : \", role)\n",
    "    print(\"Initiator : \", payload[\"initiator\"])\n",
    "    print(\"\\n---------------------------------------------------------------------\\n\")\n",
    "    \n",
    "\n",
    "    if state == \"request_sent\":\n",
    "        print(\"Presentation Request\\n\")\n",
    "        print(payload[\"presentation_request\"])\n",
    "        print(\"\\nThe presentation request is encoded in base64 and packaged into a DIDComm Message\\n\")\n",
    "        print(payload[\"presentation_request_dict\"])\n",
    "        print(\"\\nNote the type defines the protocol present-proof and the message request-presentation\\n\")\n",
    "        print(payload[\"presentation_request_dict\"][\"@type\"])\n",
    "    elif state == \"presentation_received\":\n",
    "        print(\"Presentation Received\")\n",
    "        print(\"We will not go into detail on this payload as it is comparable to the presentation_sent we looked at in the earlier cell.\")\n",
    "        print(\"This is the full payload\\n\")\n",
    "    else:\n",
    "        print(state)\n",
    "        \n",
    "verifier_listener = {\n",
    "    \"topic\": \"present_proof\",\n",
    "    \"handler\": verifier_proof_handler\n",
    "}\n",
    "\n",
    "listeners.append(verifier_listener)\n"
   ]
  },
  {
   "cell_type": "code",
   "execution_count": null,
   "id": "4625e922",
   "metadata": {},
   "outputs": [],
   "source": [
    "def revocation_handler(payload):\n",
    "\n",
    "    print(\"Revocation Event Handled\")\n",
    "    print(payload)\n",
    "    \n",
    "\n",
    "revocation_listener = {\n",
    "    \"topic\": \"revocation_registry\",\n",
    "    \"handler\": revocation_handler\n",
    "}\n",
    "\n",
    "listeners.append(revocation_listener)\n"
   ]
  },
  {
   "cell_type": "code",
   "execution_count": null,
   "id": "d2fb3802",
   "metadata": {},
   "outputs": [],
   "source": [
    "agent_controller.register_listeners(listeners)"
   ]
  },
  {
   "cell_type": "markdown",
   "id": "a4d8a4ff",
   "metadata": {},
   "source": [
    "# Meet Medic Face to Face through Medical School Introduction"
   ]
  },
  {
   "cell_type": "markdown",
   "id": "6d477c4a",
   "metadata": {},
   "source": [
    "![](https://cdn.lynda.com/course/693079/693079-637563419540730258-16x9.jpg)"
   ]
  },
  {
   "cell_type": "markdown",
   "id": "f45bd3fc",
   "metadata": {},
   "source": [
    "## GMC and Medical Student Establish Connection\n",
    "\n",
    "A GMC Administrative Staff would be introduced to each Medical student in a physical meeting organised by the medical school. As part of this meeting **which already happens**, the GMC Admin staff could establish a DIDComm connection between the ACA-Py agent representing the GMC (which they would have to be authorised to use) and the medic's agent.\n",
    "\n",
    "Both parties can therefore have a high degree of confidence that the digital connection they just established represents the entity they think it does. E.g. a medical student, or the GMC."
   ]
  },
  {
   "cell_type": "code",
   "execution_count": null,
   "id": "cc7461b0",
   "metadata": {},
   "outputs": [],
   "source": [
    "# Alias for invited connection\n",
    "alias = \"Medic\"\n",
    "auto_accept = \"true\"\n",
    "# Use public DID?\n",
    "public = \"false\"\n",
    "# Should this invitation be usable by multiple invitees?\n",
    "multi_use = \"false\"\n",
    "\n",
    "invitation_response = await agent_controller.connections.create_invitation(alias, auto_accept, public, multi_use)\n",
    "# Is equivalent to above. Arguments are optionally\n",
    "# invitation_response = await agent_controller.connections.create_invitation()\n",
    "\n",
    "\n",
    "\n",
    "# You will use this identifier to issue a credential across this connection\n",
    "connection_id = invitation_response[\"connection_id\"]"
   ]
  },
  {
   "cell_type": "markdown",
   "id": "2b4a7eea",
   "metadata": {},
   "source": [
    "## Share Invitation Object with Medic\n",
    "\n",
    "Again this would likely happen as part of a face to face interaction."
   ]
  },
  {
   "cell_type": "code",
   "execution_count": null,
   "id": "d8ce2218",
   "metadata": {},
   "outputs": [],
   "source": [
    "invitation = invitation_response[\"invitation\"]\n",
    "## Copy this output\n",
    "print(invitation)"
   ]
  },
  {
   "cell_type": "markdown",
   "id": "bc57e97a",
   "metadata": {},
   "source": [
    "## Optional: Display Invite as QR Code\n",
    "\n",
    "Most likely the medic would be using a mobile to connect with the GMC"
   ]
  },
  {
   "cell_type": "code",
   "execution_count": null,
   "id": "ad263320",
   "metadata": {},
   "outputs": [],
   "source": [
    "import qrcode\n",
    "# Link for connection invitation\n",
    "invitation_url = invitation_response[\"invitation_url\"]\n",
    "# Creating an instance of qrcode\n",
    "qr = qrcode.QRCode(\n",
    "        version=1,\n",
    "        box_size=5,\n",
    "        border=5)\n",
    "qr.add_data(invitation_url)\n",
    "qr.make(fit=True)\n",
    "img = qr.make_image(fill='black', back_color='white')\n",
    "img"
   ]
  },
  {
   "cell_type": "markdown",
   "id": "d02e1f9a",
   "metadata": {},
   "source": [
    "## Collect Key Information about Medic\n",
    "\n",
    "* Name (verified from valid identity document & the medical school)\n",
    "* Photo\n",
    "* Medical School \n",
    "\n",
    "etc\n",
    "\n",
    "Note this could be stored in the GMC system against the connection identifier just created by establishing a DIDComm connection with the medic. \n",
    "\n",
    "![](https://www.wikihow.com/images/thumb/a/ab/Get-a-Certified-Copy-of-Your-Passport-Step-1.jpg/v4-460px-Get-a-Certified-Copy-of-Your-Passport-Step-1.jpg.webp)"
   ]
  },
  {
   "cell_type": "code",
   "execution_count": null,
   "id": "a007b6d7",
   "metadata": {},
   "outputs": [],
   "source": [
    "from IPython.display import Image\n",
    "Image(\"headshot.jpg\")\n"
   ]
  },
  {
   "cell_type": "markdown",
   "id": "d8de90c6",
   "metadata": {},
   "source": [
    "## Request Proof Medic Has Completed Their Medical Education\n",
    "\n",
    "Before a healthcare professional can be licenced in the UK they must demonstrate they are in posession of a Primary Medical Qualification"
   ]
  },
  {
   "cell_type": "code",
   "execution_count": null,
   "id": "d9d96784",
   "metadata": {},
   "outputs": [],
   "source": [
    "import time\n",
    "\n",
    "# Define the list of attributes and restrictions under which each attribute was issued that a prover must satisfy with a presentation\n",
    "# NOTE: if identifying a schema or credential definition then the attribute name must be contained within the corresponding schema.\n",
    "req_attrs = [\n",
    "    {\"name\": \"Name\", \"restrictions\": [{\"schema_id\": pmq_schema_id}]},\n",
    "    {\"name\": \"University\", \"restrictions\": [{\"schema_id\": pmq_schema_id}]},\n",
    "    {\"name\": \"Date Issued\", \"restrictions\": [{\"schema_id\": pmq_schema_id}]},\n",
    "]\n",
    "\n",
    "# We could extend this to request the name attribute aswell if we wanted.\n",
    "\n",
    "\n",
    "pmq_proof_request = {\n",
    "    \"name\": \"Proof of Primary Medical Qualification\",\n",
    "    \"version\": \"1.0\",\n",
    "    \"requested_attributes\": {\n",
    "        # They must follow this uuid pattern\n",
    "        # Note that req_attr['name'] gets the attribute name of each object. E.g. domain and name in this case\n",
    "        f\"0_{req_attr['name']}_uuid\":\n",
    "        req_attr for req_attr in req_attrs\n",
    "    },\n",
    "\n",
    "    \"requested_predicates\": {\n",
    "#         f\"0_{req_pred['name']}_GE_uuid\":\n",
    "#         req_pred for req_pred in req_preds\n",
    "    },\n",
    "    # You can also request the entire proof request be non-revoked\n",
    "    \"non_revoked\":  {\"to\": int(time.time())}\n",
    "}"
   ]
  },
  {
   "cell_type": "markdown",
   "id": "f52e6172",
   "metadata": {},
   "source": [
    "## Send Proof Request\n",
    "\n",
    "This identifies a connection and a proof request object (you will need to update the variable name enclosed with <>) "
   ]
  },
  {
   "cell_type": "code",
   "execution_count": null,
   "id": "cf96c9a7",
   "metadata": {},
   "outputs": [],
   "source": [
    "proof_request = {\n",
    "    \"comment\": \"Please prove that you have recieved a valid PMQ\",\n",
    "    \"connection_id\": connection_id,\n",
    "    \"proof_request\": pmq_proof_request,\n",
    "    # Do you want your agent to trace this request (for debugging)\n",
    "    \"trace\": True\n",
    "}\n",
    "\n",
    "proof_request_response = await agent_controller.proofs.send_request(proof_request)"
   ]
  },
  {
   "cell_type": "markdown",
   "id": "d0c8a1b4",
   "metadata": {},
   "source": [
    "## Get PMQ Presentation Exchange Record\n",
    "\n",
    "This record keeps track of the current state of the presentation protocol, which must be in the `presentation_received` state before the presentation can be verified.\n",
    "\n",
    "Note: This could also happen in the webhook logic."
   ]
  },
  {
   "cell_type": "code",
   "execution_count": null,
   "id": "6c259057",
   "metadata": {},
   "outputs": [],
   "source": [
    "presentation_exchange_id = proof_request_response[\"presentation_exchange_id\"]\n",
    "\n",
    "pres_record = await agent_controller.proofs.get_record_by_id(presentation_exchange_id)"
   ]
  },
  {
   "cell_type": "markdown",
   "id": "aff2cd9d",
   "metadata": {},
   "source": [
    "## Verify PMQ Presentation\n",
    "\n",
    "Only if it is in the right state. \n",
    "\n",
    "Note: Verifying a presentation moves the state to `verified` regardless of whether the presentation request has been satisfied. To check this you must refer to the `verified` property on the response."
   ]
  },
  {
   "cell_type": "code",
   "execution_count": null,
   "id": "89346c95",
   "metadata": {},
   "outputs": [],
   "source": [
    "verified_response = await agent_controller.proofs.verify_presentation(presentation_exchange_id)\n",
    "\n",
    "verified = verified_response[\"verified\"]\n",
    "print(\"Valid PMQ Presented : \" + verified)"
   ]
  },
  {
   "cell_type": "markdown",
   "id": "6047fda4",
   "metadata": {},
   "source": [
    "## Fetching Issuing DID for Disclosed PMQ\n",
    "\n",
    "The GMC will want to check that this credential was issued by a medical school they trust. Likely they would compare this against a list of verified medical schools.\n",
    "\n",
    "Note: Other identifiers might also be useful for similar purposes."
   ]
  },
  {
   "cell_type": "code",
   "execution_count": null,
   "id": "def61219",
   "metadata": {},
   "outputs": [],
   "source": [
    "identifiers_list = verified_response['presentation'][\"identifiers\"]\n",
    "print(identifiers_list)\n",
    "trusted = False\n",
    "for identifiers in identifiers_list:\n",
    "    cred_def_id = identifiers[\"cred_def_id\"]\n",
    "    issuing_did = cred_def_id.split(\":\")[0]\n",
    "    print(issuing_did)\n",
    "    if issuing_did in trusted_medical_school_dids:\n",
    "        trusted = True\n",
    "        print(colored(\"Issuer {0} is trusted to issued PMQ Credentials\".format(issuing_did), \"green\", attrs=[\"bold\"]))\n",
    "        break\n",
    "    \n",
    "if not trusted:\n",
    "    print(colored(\"Issuer Not Trusted\", \"red\", attrs=[\"bold\"]))"
   ]
  },
  {
   "cell_type": "markdown",
   "id": "8ff30b2d",
   "metadata": {},
   "source": [
    "## Parsing Disclosed Attribute Values from Presentation\n",
    "\n",
    "A presentation object contains three classes of attributes. \n",
    "* Revealed Attributes: Attributes that were signed by an issuer and have been revealed in the presentation process\n",
    "* Self Attested Attributes: Attributes that the prover has self attested to in the presentation object.\n",
    "* Predicate proofs: Attribute values that have been proven to meet some statement. (TODO: Show how you can parse this information)"
   ]
  },
  {
   "cell_type": "markdown",
   "id": "2d6866b1",
   "metadata": {},
   "source": [
    "### Parse Revealed Attributes\n",
    "\n",
    "These will be verified against attributes already stored against connection from physical meeting."
   ]
  },
  {
   "cell_type": "code",
   "execution_count": null,
   "id": "1f956e48",
   "metadata": {},
   "outputs": [],
   "source": [
    "for (name, val) in verified_response['presentation']['requested_proof']['revealed_attrs'].items():\n",
    "    ## This is the actual data that you want. It's a little hidden\n",
    "    print(\"\\nAttribute : \", val)\n",
    "    \n",
    "    attr_name = verified_response[\"presentation_request\"][\"requested_attributes\"][name][\"name\"]\n",
    "    print(f\"\\nRaw Value - {attr_name} : {val['raw']}\")"
   ]
  },
  {
   "cell_type": "markdown",
   "id": "66f25e55",
   "metadata": {},
   "source": [
    "## Issue GMC Licence\n",
    "\n",
    "The GMC admin staff would issue a GMC credential to medical students only if:\n",
    "\n",
    "* They can demonstrate they have a valid PMQ from a trusted medical school\n",
    "* They have demonstrated they are eligible to work in the UK\n",
    "* They successfully complete a standard DBS check\n",
    "\n",
    "This credential and the attributes encoded within in it are going to be used as roots of trust throughout healthcare institutions. It is imperative that they are issued accurately to correctly identified medics devices.\n",
    "\n",
    "Fortunately, the medic is also highly motivated to receive an accurate set of high assurance attributes that they will be able to use throughout their future healthcare interactions.\n",
    "\n",
    "The GMC Admin staff is going to establish the digital connection and collect these details in person. This includes:\n",
    "\n",
    "* Checking an identification document for the individual (e.g. Passport)\n",
    "* Checking the name on the PMQ matches this information\n",
    "* Taking a photo of the medic to be encoded into the credential"
   ]
  },
  {
   "cell_type": "markdown",
   "id": "99dd8774",
   "metadata": {},
   "source": [
    "## Encode Image of Medical Professional\n",
    "\n",
    "A passport style headshot photograph taken by a GMC Admin team when initially introduced to the medic by their Medical School"
   ]
  },
  {
   "cell_type": "code",
   "execution_count": null,
   "id": "bd9840f4",
   "metadata": {},
   "outputs": [],
   "source": [
    "import base64\n",
    "encoding = 'utf-8'\n",
    "with open(\"headshot.jpg\", \"rb\") as image:\n",
    "    my_string = base64.b64encode(image.read())\n",
    "    headshotBase64 = my_string.decode('utf-8')"
   ]
  },
  {
   "cell_type": "code",
   "execution_count": null,
   "id": "39b4fba0",
   "metadata": {},
   "outputs": [],
   "source": [
    "from datetime import date, timedelta\n",
    "import json\n",
    "\n",
    "attributes = [\"GMC Number\", \"Responsible Officer GMC Number\", \"Licenced From\", \"Re-Validation Due\", \"Name\", \"Base64Image\", \"DOB\"]\n",
    "\n",
    "gmc_number=\"1231231\" # input(\"Please enter the doctors GMC Number: \")\n",
    "resp_officer=\"3827123\"  # input(\"Please enter the GMC Number for the doctors responsible officer: \")\n",
    "licenced_from=date.today().isoformat()\n",
    "revalidation_due = (date.today() + timedelta(days=1825)).isoformat()\n",
    "name=\"Will A\"  # input(\"Please enter the doctors name\")\n",
    "headshot_holder=headshotBase64\n",
    "dob=\"25/01/20\" # input(\"Enter doctors date of birth\")\n",
    "credential_attributes = [\n",
    "    {\"name\": \"GMC Number\", \"value\": gmc_number},\n",
    "    {\"name\": \"Responsible Officer GMC Number\", \"value\": resp_officer},\n",
    "    {\"name\": \"Licenced From\", \"value\": licenced_from},\n",
    "    {\"name\": \"Re-Validation Due\", \"value\": revalidation_due},\n",
    "    {\"name\": \"Name\", \"value\": name},\n",
    "    {\"name\": \"Base64Image\", \"value\": headshot_holder},\n",
    "    {\"name\": \"DOB\", \"value\": dob}\n",
    "]"
   ]
  },
  {
   "cell_type": "markdown",
   "id": "24e61e60",
   "metadata": {},
   "source": [
    "## Issue GMC Licence Credential\n",
    "\n",
    "GMC Licence is only issued once the GMC has verified the Primary Medical Qualification.\n"
   ]
  },
  {
   "cell_type": "code",
   "execution_count": null,
   "id": "da97e4b9",
   "metadata": {},
   "outputs": [],
   "source": [
    "# Do you want the ACA-Py instance to trace it's processes (for testing/timing analysis)\n",
    "trace = True\n",
    "comment = \"\"\n",
    "# Remove credential record after issued?\n",
    "auto_remove = False\n",
    "\n",
    "# Change <schema_id> and <cred_def_id> to correct pair. Cred_def_id must identify a definition to which your agent has corresponding private issuing key.\n",
    "if True:\n",
    "    print(\"Medic has completed their primary medical qualication\")\n",
    "    send_cred_response = await agent_controller.issuer.send_credential(connection_id, gmc_schema_id, gmc_cred_def_id, credential_attributes, comment, auto_remove, trace)\n",
    "    gmc_licence_cred_ex_id = send_cred_response[\"credential_exchange_id\"]\n",
    "# Note last three args are optional.\n",
    "# await agent_controller.issuer.send_credential(connection_id, <schema_id>, <cred_def_id, credential_attributes)"
   ]
  },
  {
   "cell_type": "markdown",
   "id": "c779d68f",
   "metadata": {},
   "source": [
    "## Optional: Revoke GMC Licence Credential\n",
    "\n",
    "Only possible if the credential issued used a revocable credential definition. (see support_revocation flag in write_cred_def() function).\n",
    "\n",
    "There are two approachs to revoke an revocable credential"
   ]
  },
  {
   "cell_type": "markdown",
   "id": "64024d08",
   "metadata": {},
   "source": [
    "### Option 1: Use credential Exchange ID\n",
    "\n",
    "Note: In a SSI application as an issuer you are might want to keep track of the identifiers for credential echange records. These can be used to retrieve records stored by the agent and also be used to identify a credential to revoke\n",
    "Note though that applications might not wish to retain these records as they contain sensitive PII"
   ]
  },
  {
   "cell_type": "code",
   "execution_count": null,
   "id": "ab8104a5",
   "metadata": {},
   "outputs": [],
   "source": [
    "response = await agent_controller.issuer.get_records()\n",
    "record = response[\"results\"][0]\n",
    "print(record)"
   ]
  },
  {
   "cell_type": "code",
   "execution_count": null,
   "id": "8661dd2f",
   "metadata": {},
   "outputs": [],
   "source": [
    "# record_id = record[\"credential_exchange_id\"]\n",
    "try:\n",
    "    is_record = await agent_controller.issuer.get_record_by_id(gmc_record_id)\n",
    "except:\n",
    "    print(\"Record not found. Did your agent automatically remove it?\")\n",
    "\n",
    "if True:\n",
    "    # For revoke_credential() you only need to provide (cred_ex_id) OR (rev_reg_id AND cred_rev_id).\n",
    "    response = await agent_controller.revocations.revoke_credential(gmc_record_id, publish=True)\n",
    "    response"
   ]
  },
  {
   "cell_type": "markdown",
   "id": "c6072d99",
   "metadata": {},
   "source": [
    "### Option 2: Remove Credential using the Registry and Credential Revocation ID\n",
    "\n",
    "Does not currently work because of bug in code"
   ]
  },
  {
   "cell_type": "code",
   "execution_count": null,
   "id": "62cc148b",
   "metadata": {
    "tags": []
   },
   "outputs": [],
   "source": [
    "registry = await agent_controller.revocations.get_active_revocation_registry_by_cred_def(gmc_cred_def_id)\n",
    "print(registry[\"result\"][\"revoc_reg_entry\"])"
   ]
  },
  {
   "cell_type": "code",
   "execution_count": null,
   "id": "00e4d40f",
   "metadata": {},
   "outputs": [],
   "source": [
    "revoc_reg_id = registry[\"result\"][\"revoc_reg_id\"]"
   ]
  },
  {
   "cell_type": "markdown",
   "id": "21190ce1",
   "metadata": {},
   "source": [
    "### Or ..."
   ]
  },
  {
   "cell_type": "code",
   "execution_count": null,
   "id": "5392c454",
   "metadata": {},
   "outputs": [],
   "source": [
    "gmc_record = await agent_controller.issuer.get_record(gmc_licence_cred_ex_id)\n",
    "rev_reg_id = gmc_record[\"credential\"][\"rev_reg_id\"]"
   ]
  },
  {
   "cell_type": "code",
   "execution_count": null,
   "id": "cd103985",
   "metadata": {},
   "outputs": [],
   "source": [
    "# Public revocation registry update to ledger\n",
    "publish = True\n",
    "# Believe this is index in rev registry starting from 1\n",
    "cred_rev_id = \"1\"\n",
    "response = await agent_controller.revocations.revoke_credential(cred_rev_id = cred_rev_id, rev_reg_id = revoc_reg_id, publish=True)"
   ]
  },
  {
   "cell_type": "markdown",
   "id": "e70610c7",
   "metadata": {},
   "source": [
    "## Terminate Controller\n",
    "\n",
    "Whenever you have finished with this notebook, be sure to terminate the controller. This is especially important if your business logic runs across multiple notebooks."
   ]
  },
  {
   "cell_type": "code",
   "execution_count": null,
   "id": "ee92ab43",
   "metadata": {},
   "outputs": [],
   "source": [
    "await agent_controller.terminate()"
   ]
  },
  {
   "cell_type": "code",
   "execution_count": null,
   "id": "a57048c7",
   "metadata": {},
   "outputs": [],
   "source": []
  }
 ],
 "metadata": {
  "kernelspec": {
   "display_name": "Python 3",
   "language": "python",
   "name": "python3"
  },
  "language_info": {
   "codemirror_mode": {
    "name": "ipython",
    "version": 3
   },
   "file_extension": ".py",
   "mimetype": "text/x-python",
   "name": "python",
   "nbconvert_exporter": "python",
   "pygments_lexer": "ipython3",
   "version": "3.8.5"
  }
 },
 "nbformat": 4,
 "nbformat_minor": 5
}
