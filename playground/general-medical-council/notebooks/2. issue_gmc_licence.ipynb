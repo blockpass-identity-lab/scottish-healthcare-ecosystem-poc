{
 "cells": [
  {
   "cell_type": "markdown",
   "id": "6cb96170",
   "metadata": {},
   "source": [
    "# GMC Issues Licence\n",
    "\n",
    "![](https://i.ytimg.com/vi/fZ3EPvp12bU/maxresdefault.jpg)\n",
    "\n",
    "Before issuing a licence the GMC makes a connection with the medic through a face to face meeting arranged by the medical school they are attending. It is here that personally identifiable information, including a headshot of the medic can be collected.\n",
    "\n",
    "Before the GMC Licence is issued the GMC verifies the medic has recieved a Primary Medical Qualification from a medical school they trust.\n",
    "\n",
    "\n"
   ]
  },
  {
   "cell_type": "markdown",
   "id": "fae13cca",
   "metadata": {},
   "source": [
    "## This Would Need Be Configured and Running on the GMC Servers\n",
    "\n",
    "![Secure Server](https://static.thenounproject.com/png/65152-200.png)"
   ]
  },
  {
   "cell_type": "markdown",
   "id": "f719d752",
   "metadata": {},
   "source": [
    "### Imports"
   ]
  },
  {
   "cell_type": "code",
   "execution_count": 1,
   "id": "d1139178",
   "metadata": {},
   "outputs": [],
   "source": [
    "from aries_cloudcontroller import AriesAgentController\n",
    "import os\n",
    "from termcolor import colored"
   ]
  },
  {
   "cell_type": "markdown",
   "id": "b3946535",
   "metadata": {},
   "source": [
    "### Initialise the Agent Controller"
   ]
  },
  {
   "cell_type": "code",
   "execution_count": 2,
   "id": "1c994631",
   "metadata": {},
   "outputs": [
    {
     "name": "stdout",
     "output_type": "stream",
     "text": [
      "Initialising a controller with admin api at http://general-medical-council-agent:3021 and an api key of adminApiKey\n"
     ]
    }
   ],
   "source": [
    "api_key = os.getenv(\"ACAPY_ADMIN_API_KEY\")\n",
    "admin_url = os.getenv(\"ADMIN_URL\")\n",
    "\n",
    "print(f\"Initialising a controller with admin api at {admin_url} and an api key of {api_key}\")\n",
    "agent_controller = AriesAgentController(admin_url,api_key)"
   ]
  },
  {
   "cell_type": "markdown",
   "id": "a8092bdd",
   "metadata": {},
   "source": [
    "### Start a Webhook Server"
   ]
  },
  {
   "cell_type": "code",
   "execution_count": 3,
   "id": "86bd3c5d",
   "metadata": {},
   "outputs": [
    {
     "name": "stdout",
     "output_type": "stream",
     "text": [
      "Listening for webhooks from agent at http://0.0.0.0:3010\n"
     ]
    }
   ],
   "source": [
    "webhook_port = int(os.getenv(\"WEBHOOK_PORT\"))\n",
    "webhook_host = \"0.0.0.0\"\n",
    "\n",
    "await agent_controller.init_webhook_server(webhook_host, webhook_port)\n",
    "\n",
    "print(f\"Listening for webhooks from agent at http://{webhook_host}:{webhook_port}\")"
   ]
  },
  {
   "cell_type": "markdown",
   "id": "f8503888",
   "metadata": {},
   "source": [
    "## Set Global Identifiers\n",
    "\n",
    "These specify which schema and issuers to trust and would likely be defined by some governance framework. Note: The GMC already does this, it knows and regulates which medical schools it trusts to educate medics to the required standards.\n",
    "\n",
    "![](https://www.studymedicineeurope.com/wp-content/uploads/2020/07/NP-_-General-Medicin-Council-7-2020-NS.jpg)"
   ]
  },
  {
   "cell_type": "code",
   "execution_count": 4,
   "id": "8afeae24",
   "metadata": {},
   "outputs": [],
   "source": [
    "pmq_schema_id = '3jnXQcj9VLFjcUbtDVZZzV:2:Primary Medical Qualification:0.0.2'\n"
   ]
  },
  {
   "cell_type": "code",
   "execution_count": 5,
   "id": "42db9e63",
   "metadata": {},
   "outputs": [],
   "source": [
    "trusted_medical_school_dids = [\"3jnXQcj9VLFjcUbtDVZZzV\"] \n"
   ]
  },
  {
   "cell_type": "markdown",
   "id": "90d21ace",
   "metadata": {},
   "source": [
    "## Retrieve Issuing Schema and Cred Def Identifiers\n",
    "\n",
    "If you intend for this agent to issue credentials you should first initialise your agent as an issuer and author the relevant identifiers to the public ledger. The issuer_initialisation recipe notebook can be duplicated and used as a starting point.\n",
    "\n",
    "Once schema and cred def identifiers are created copy across and store in variables as illustrated in the cell below. Be sure to use unique names for each variable."
   ]
  },
  {
   "cell_type": "code",
   "execution_count": 7,
   "id": "a9a86602",
   "metadata": {},
   "outputs": [
    {
     "name": "stdout",
     "output_type": "stream",
     "text": [
      "Stored 'gmc_schema_id' (str)\n",
      "Stored 'gmc_cred_def_id' (str)\n"
     ]
    }
   ],
   "source": [
    "gmc_schema_id = 'TDAbSf3Uqebg8N4XvybMbg:2:GMC Licence:0.0.2'\n",
    "gmc_cred_def_id = 'TDAbSf3Uqebg8N4XvybMbg:3:CL:22:gmc'\n",
    "\n",
    "\n",
    "\n",
    "%store gmc_schema_id\n",
    "%store gmc_cred_def_id\n"
   ]
  },
  {
   "cell_type": "markdown",
   "id": "a3415754",
   "metadata": {},
   "source": [
    "## Register Agent Event Listeners\n",
    "\n",
    "You can see some examples within the webhook_listeners recipe. Copy any relevant cells across and fill in additional logic as needed."
   ]
  },
  {
   "cell_type": "code",
   "execution_count": 8,
   "id": "a4c73cf2",
   "metadata": {},
   "outputs": [],
   "source": [
    "listeners = []"
   ]
  },
  {
   "cell_type": "code",
   "execution_count": 9,
   "id": "3d76e2d8",
   "metadata": {},
   "outputs": [],
   "source": [
    "## YOUR LISTENERS HERE\n",
    "# Receive connection messages\n",
    "def connections_handler(payload):\n",
    "    state = payload['state']\n",
    "    connection_id = payload[\"connection_id\"]\n",
    "    their_role = payload[\"their_role\"]\n",
    "    routing_state = payload[\"routing_state\"]\n",
    "    \n",
    "    print(\"----------------------------------------------------------\")\n",
    "    print(\"Connection Webhook Event Received\")\n",
    "    print(\"Connection ID : \", connection_id)\n",
    "    print(\"State : \", state)\n",
    "    print(\"Routing State : \", routing_state)\n",
    "    print(\"Their Role : \", their_role)\n",
    "    print(\"----------------------------------------------------------\")\n",
    "    if state == \"active\":\n",
    "        # Your business logic\n",
    "        print(colored(\"Connection ID: {0} is now active.\".format(connection_id), \"green\", attrs=[\"bold\"]))\n",
    "\n",
    "connection_listener = {\n",
    "    \"handler\": connections_handler,\n",
    "    \"topic\": \"connections\"\n",
    "}\n",
    "\n",
    "listeners.append(connection_listener)"
   ]
  },
  {
   "cell_type": "code",
   "execution_count": 10,
   "id": "d15b4da4",
   "metadata": {},
   "outputs": [],
   "source": [
    "def issuer_handler(payload):\n",
    "    \n",
    "    connection_id = payload['connection_id']\n",
    "    exchange_id = payload['credential_exchange_id']\n",
    "    state = payload['state']\n",
    "    role = payload['role']\n",
    "    print(\"\\n---------------------------------------------------\\n\")\n",
    "    print(\"Handle Issue Credential Webhook\")\n",
    "    print(f\"Connection ID : {connection_id}\")\n",
    "    print(f\"Credential exchange ID : {exchange_id}\")\n",
    "    print(\"Agent Protocol Role : \", role)\n",
    "    print(\"Protocol State : \", state )\n",
    "    print(\"\\n---------------------------------------------------\\n\")\n",
    "    \n",
    "\n",
    "    \n",
    "    if state == \"offer_sent\":\n",
    "        proposal = payload[\"credential_proposal_dict\"]\n",
    "        attributes = proposal['credential_proposal']['attributes']\n",
    "\n",
    "        print(f\"Offering credential with attributes  : {attributes}\")\n",
    "        ## YOUR LOGIC HERE\n",
    "    elif state == \"request_received\":\n",
    "        print(\"Request for credential received\")\n",
    "        ## YOUR LOGIC HERE\n",
    "    elif state == \"credential_sent\":\n",
    "        print(\"Credential Sent\")\n",
    "        ## YOUR LOGIC HERE\n",
    "    \n",
    "issuer_listener = {\n",
    "    \"topic\": \"issue_credential\",\n",
    "    \"handler\": issuer_handler\n",
    "}\n",
    "\n",
    "listeners.append(issuer_listener)"
   ]
  },
  {
   "cell_type": "code",
   "execution_count": 11,
   "id": "b9b325b4",
   "metadata": {},
   "outputs": [],
   "source": [
    "\n",
    "def verifier_proof_handler(payload):\n",
    "    role = payload[\"role\"]\n",
    "    connection_id = payload[\"connection_id\"]\n",
    "    pres_ex_id = payload[\"presentation_exchange_id\"]\n",
    "    state = payload[\"state\"]\n",
    "    print(\"\\n---------------------------------------------------------------------\\n\")\n",
    "    print(\"Handle present-proof\")\n",
    "    print(\"Connection ID : \", connection_id)\n",
    "    print(\"Presentation Exchange ID : \", pres_ex_id)\n",
    "    print(\"Protocol State : \", state)\n",
    "    print(\"Agent Role : \", role)\n",
    "    print(\"Initiator : \", payload[\"initiator\"])\n",
    "    print(\"\\n---------------------------------------------------------------------\\n\")\n",
    "    \n",
    "\n",
    "    if state == \"request_sent\":\n",
    "        print(\"Presentation Request\\n\")\n",
    "        print(payload[\"presentation_request\"])\n",
    "        print(\"\\nThe presentation request is encoded in base64 and packaged into a DIDComm Message\\n\")\n",
    "        print(payload[\"presentation_request_dict\"])\n",
    "        print(\"\\nNote the type defines the protocol present-proof and the message request-presentation\\n\")\n",
    "        print(payload[\"presentation_request_dict\"][\"@type\"])\n",
    "    elif state == \"presentation_received\":\n",
    "        print(\"Presentation Received\")\n",
    "        print(\"We will not go into detail on this payload as it is comparable to the presentation_sent we looked at in the earlier cell.\")\n",
    "        print(\"This is the full payload\\n\")\n",
    "    else:\n",
    "        print(state)\n",
    "        \n",
    "verifier_listener = {\n",
    "    \"topic\": \"present_proof\",\n",
    "    \"handler\": verifier_proof_handler\n",
    "}\n",
    "\n",
    "listeners.append(verifier_listener)\n"
   ]
  },
  {
   "cell_type": "code",
   "execution_count": 12,
   "id": "3a05dd0f",
   "metadata": {},
   "outputs": [],
   "source": [
    "def revocation_handler(payload):\n",
    "\n",
    "    print(\"Revocation Event Handled\")\n",
    "    print(payload)\n",
    "    \n",
    "\n",
    "revocation_listener = {\n",
    "    \"topic\": \"revocation_registry\",\n",
    "    \"handler\": revocation_handler\n",
    "}\n",
    "\n",
    "listeners.append(revocation_listener)\n"
   ]
  },
  {
   "cell_type": "code",
   "execution_count": 13,
   "id": "10f19a4d",
   "metadata": {},
   "outputs": [],
   "source": [
    "agent_controller.register_listeners(listeners)"
   ]
  },
  {
   "cell_type": "markdown",
   "id": "b82f155c",
   "metadata": {},
   "source": [
    "# Meet Medic Face to Face through Medical School Introduction"
   ]
  },
  {
   "cell_type": "markdown",
   "id": "9bedc99b",
   "metadata": {},
   "source": [
    "![](https://cdn.lynda.com/course/693079/693079-637563419540730258-16x9.jpg)"
   ]
  },
  {
   "cell_type": "markdown",
   "id": "2ab23713",
   "metadata": {},
   "source": [
    "## GMC and Medical Student Establish Connection\n",
    "\n",
    "A GMC Administrative Staff would be introduced to each Medical student in a physical meeting organised by the medical school. As part of this meeting **which already happens**, the GMC Admin staff could establish a DIDComm connection between the ACA-Py agent representing the GMC (which they would have to be authorised to use) and the medic's agent.\n",
    "\n",
    "Both parties can therefore have a high degree of confidence that the digital connection they just established represents the entity they think it does. E.g. a medical student, or the GMC."
   ]
  },
  {
   "cell_type": "code",
   "execution_count": 14,
   "id": "b18fb3ba",
   "metadata": {},
   "outputs": [
    {
     "name": "stdout",
     "output_type": "stream",
     "text": [
      "----------------------------------------------------------\n",
      "Connection Webhook Event Received\n",
      "Connection ID :  1ef8fa6a-73bb-4cf2-b3c8-7418042365b9\n",
      "State :  invitation\n",
      "Routing State :  none\n",
      "Their Role :  invitee\n",
      "----------------------------------------------------------\n"
     ]
    }
   ],
   "source": [
    "# Alias for invited connection\n",
    "alias = \"Medic\"\n",
    "auto_accept = \"true\"\n",
    "# Use public DID?\n",
    "public = \"false\"\n",
    "# Should this invitation be usable by multiple invitees?\n",
    "multi_use = \"false\"\n",
    "\n",
    "invitation_response = await agent_controller.connections.create_invitation(alias, auto_accept, public, multi_use)\n",
    "# Is equivalent to above. Arguments are optionally\n",
    "# invitation_response = await agent_controller.connections.create_invitation()\n",
    "\n",
    "\n",
    "\n",
    "# You will use this identifier to issue a credential across this connection\n",
    "connection_id = invitation_response[\"connection_id\"]"
   ]
  },
  {
   "cell_type": "markdown",
   "id": "4b1ba703",
   "metadata": {},
   "source": [
    "## Share Invitation Object with Medic\n",
    "\n",
    "Again this would likely happen as part of a face to face interaction."
   ]
  },
  {
   "cell_type": "code",
   "execution_count": 15,
   "id": "8228b4fa",
   "metadata": {},
   "outputs": [
    {
     "name": "stdout",
     "output_type": "stream",
     "text": [
      "{'@type': 'did:sov:BzCbsNYhMrjHiqZDTUASHg;spec/connections/1.0/invitation', '@id': '8f8ecd88-0cd4-4a9a-85f7-3987a1f0d24c', 'recipientKeys': ['EzdcJkKmiReSXVcP5BVFoXsJKdUdvKzCpe94FzXMyNCp'], 'serviceEndpoint': 'http://f3a3-82-33-73-116.ngrok.io', 'label': 'General Medical Council'}\n",
      "----------------------------------------------------------\n",
      "Connection Webhook Event Received\n",
      "Connection ID :  1ef8fa6a-73bb-4cf2-b3c8-7418042365b9\n",
      "State :  request\n",
      "Routing State :  none\n",
      "Their Role :  invitee\n",
      "----------------------------------------------------------\n",
      "----------------------------------------------------------\n",
      "Connection Webhook Event Received\n",
      "Connection ID :  1ef8fa6a-73bb-4cf2-b3c8-7418042365b9\n",
      "State :  response\n",
      "Routing State :  none\n",
      "Their Role :  invitee\n",
      "----------------------------------------------------------\n",
      "----------------------------------------------------------\n",
      "Connection Webhook Event Received\n",
      "Connection ID :  1ef8fa6a-73bb-4cf2-b3c8-7418042365b9\n",
      "State :  active\n",
      "Routing State :  none\n",
      "Their Role :  invitee\n",
      "----------------------------------------------------------\n",
      "\u001b[1m\u001b[32mConnection ID: 1ef8fa6a-73bb-4cf2-b3c8-7418042365b9 is now active.\u001b[0m\n"
     ]
    }
   ],
   "source": [
    "invitation = invitation_response[\"invitation\"]\n",
    "## Copy this output\n",
    "print(invitation)"
   ]
  },
  {
   "cell_type": "markdown",
   "id": "8a56bc4e",
   "metadata": {},
   "source": [
    "## Optional: Display Invite as QR Code\n",
    "\n",
    "Most likely the medic would be using a mobile to connect with the GMC"
   ]
  },
  {
   "cell_type": "code",
   "execution_count": null,
   "id": "e12be409",
   "metadata": {},
   "outputs": [],
   "source": [
    "import qrcode\n",
    "# Link for connection invitation\n",
    "invitation_url = invitation_response[\"invitation_url\"]\n",
    "# Creating an instance of qrcode\n",
    "qr = qrcode.QRCode(\n",
    "        version=1,\n",
    "        box_size=5,\n",
    "        border=5)\n",
    "qr.add_data(invitation_url)\n",
    "qr.make(fit=True)\n",
    "img = qr.make_image(fill='black', back_color='white')\n",
    "img"
   ]
  },
  {
   "cell_type": "markdown",
   "id": "ca788c82",
   "metadata": {},
   "source": [
    "## Collect Key Information about Medic\n",
    "\n",
    "* Name (verified from valid identity document & the medical school)\n",
    "* Photo\n",
    "* Medical School \n",
    "\n",
    "etc\n",
    "\n",
    "Note this could be stored in the GMC system against the connection identifier just created by establishing a DIDComm connection with the medic. \n",
    "\n",
    "![](https://www.wikihow.com/images/thumb/a/ab/Get-a-Certified-Copy-of-Your-Passport-Step-1.jpg/v4-460px-Get-a-Certified-Copy-of-Your-Passport-Step-1.jpg.webp)"
   ]
  },
  {
   "cell_type": "code",
   "execution_count": 16,
   "id": "cbbf1302",
   "metadata": {},
   "outputs": [
    {
     "data": {
      "image/jpeg": "[encoded data removed]",
      "text/plain": [
       "<IPython.core.display.Image object>"
      ]
     },
     "execution_count": 16,
     "metadata": {},
     "output_type": "execute_result"
    }
   ],
   "source": [
    "from IPython.display import Image\n",
    "Image(\"headshot.jpg\")\n"
   ]
  },
  {
   "cell_type": "markdown",
   "id": "36377315",
   "metadata": {},
   "source": [
    "## Request Proof Medic Has Completed Their Medical Education\n",
    "\n",
    "Before a healthcare professional can be licenced in the UK they must demonstrate they are in posession of a Primary Medical Qualification"
   ]
  },
  {
   "cell_type": "code",
   "execution_count": 17,
   "id": "3d2f131d",
   "metadata": {},
   "outputs": [],
   "source": [
    "import time\n",
    "\n",
    "# Define the list of attributes and restrictions under which each attribute was issued that a prover must satisfy with a presentation\n",
    "# NOTE: if identifying a schema or credential definition then the attribute name must be contained within the corresponding schema.\n",
    "req_attrs = [\n",
    "    {\"name\": \"Name\", \"restrictions\": [{\"schema_id\": pmq_schema_id}]},\n",
    "    {\"name\": \"University\", \"restrictions\": [{\"schema_id\": pmq_schema_id}]},\n",
    "    {\"name\": \"Date Issued\", \"restrictions\": [{\"schema_id\": pmq_schema_id}]},\n",
    "]\n",
    "\n",
    "# We could extend this to request the name attribute aswell if we wanted.\n",
    "\n",
    "\n",
    "pmq_proof_request = {\n",
    "    \"name\": \"Proof of Primary Medical Qualification\",\n",
    "    \"version\": \"1.0\",\n",
    "    \"requested_attributes\": {\n",
    "        # They must follow this uuid pattern\n",
    "        # Note that req_attr['name'] gets the attribute name of each object. E.g. domain and name in this case\n",
    "        f\"0_{req_attr['name']}_uuid\":\n",
    "        req_attr for req_attr in req_attrs\n",
    "    },\n",
    "\n",
    "    \"requested_predicates\": {\n",
    "#         f\"0_{req_pred['name']}_GE_uuid\":\n",
    "#         req_pred for req_pred in req_preds\n",
    "    },\n",
    "    # You can also request the entire proof request be non-revoked\n",
    "    \"non_revoked\":  {\"to\": int(time.time())}\n",
    "}"
   ]
  },
  {
   "cell_type": "markdown",
   "id": "20e83eb8",
   "metadata": {},
   "source": [
    "## Send Proof Request\n",
    "\n",
    "This identifies a connection and a proof request object (you will need to update the variable name enclosed with <>) "
   ]
  },
  {
   "cell_type": "code",
   "execution_count": 18,
   "id": "bdfacda5",
   "metadata": {},
   "outputs": [
    {
     "name": "stdout",
     "output_type": "stream",
     "text": [
      "\n",
      "---------------------------------------------------------------------\n",
      "\n",
      "Handle present-proof\n",
      "Connection ID :  1ef8fa6a-73bb-4cf2-b3c8-7418042365b9\n",
      "Presentation Exchange ID :  2622e7e5-da5e-4b43-b859-b1a82a28772d\n",
      "Protocol State :  request_sent\n",
      "Agent Role :  verifier\n",
      "Initiator :  self\n",
      "\n",
      "---------------------------------------------------------------------\n",
      "\n",
      "Presentation Request\n",
      "\n",
      "{'nonce': '1190454733646398233440922', 'name': 'Proof of Primary Medical Qualification', 'version': '1.0', 'requested_attributes': {'0_Name_uuid': {'name': 'Name', 'restrictions': [{'schema_id': '3jnXQcj9VLFjcUbtDVZZzV:2:Primary Medical Qualification:0.0.2'}]}, '0_University_uuid': {'name': 'University', 'restrictions': [{'schema_id': '3jnXQcj9VLFjcUbtDVZZzV:2:Primary Medical Qualification:0.0.2'}]}, '0_Date Issued_uuid': {'name': 'Date Issued', 'restrictions': [{'schema_id': '3jnXQcj9VLFjcUbtDVZZzV:2:Primary Medical Qualification:0.0.2'}]}}, 'requested_predicates': {}, 'non_revoked': {'to': 1630332517}}\n",
      "\n",
      "The presentation request is encoded in base64 and packaged into a DIDComm Message\n",
      "\n",
      "{'@type': 'did:sov:BzCbsNYhMrjHiqZDTUASHg;spec/present-proof/1.0/request-presentation', '@id': '4365fe6b-5b53-46d0-b20b-957f0a56b7ed', '~trace': {'target': 'log', 'full_thread': True, 'trace_reports': []}, 'comment': 'Please prove that you have recieved a valid PMQ', 'request_presentations~attach': [{'@id': 'libindy-request-presentation-0', 'mime-type': 'application/json', 'data': {'base64': 'eyJuYW1lIjogIlByb29mIG9mIFByaW1hcnkgTWVkaWNhbCBRdWFsaWZpY2F0aW9uIiwgInZlcnNpb24iOiAiMS4wIiwgInJlcXVlc3RlZF9hdHRyaWJ1dGVzIjogeyIwX05hbWVfdXVpZCI6IHsibmFtZSI6ICJOYW1lIiwgInJlc3RyaWN0aW9ucyI6IFt7InNjaGVtYV9pZCI6ICIzam5YUWNqOVZMRmpjVWJ0RFZaWnpWOjI6UHJpbWFyeSBNZWRpY2FsIFF1YWxpZmljYXRpb246MC4wLjIifV19LCAiMF9Vbml2ZXJzaXR5X3V1aWQiOiB7Im5hbWUiOiAiVW5pdmVyc2l0eSIsICJyZXN0cmljdGlvbnMiOiBbeyJzY2hlbWFfaWQiOiAiM2puWFFjajlWTEZqY1VidERWWlp6VjoyOlByaW1hcnkgTWVkaWNhbCBRdWFsaWZpY2F0aW9uOjAuMC4yIn1dfSwgIjBfRGF0ZSBJc3N1ZWRfdXVpZCI6IHsibmFtZSI6ICJEYXRlIElzc3VlZCIsICJyZXN0cmljdGlvbnMiOiBbeyJzY2hlbWFfaWQiOiAiM2puWFFjajlWTEZqY1VidERWWlp6VjoyOlByaW1hcnkgTWVkaWNhbCBRdWFsaWZpY2F0aW9uOjAuMC4yIn1dfX0sICJyZXF1ZXN0ZWRfcHJlZGljYXRlcyI6IHt9LCAibm9uX3Jldm9rZWQiOiB7InRvIjogMTYzMDMzMjUxN30sICJub25jZSI6ICIxMTkwNDU0NzMzNjQ2Mzk4MjMzNDQwOTIyIn0='}}]}\n",
      "\n",
      "Note the type defines the protocol present-proof and the message request-presentation\n",
      "\n",
      "did:sov:BzCbsNYhMrjHiqZDTUASHg;spec/present-proof/1.0/request-presentation\n",
      "\n",
      "---------------------------------------------------------------------\n",
      "\n",
      "Handle present-proof\n",
      "Connection ID :  1ef8fa6a-73bb-4cf2-b3c8-7418042365b9\n",
      "Presentation Exchange ID :  2622e7e5-da5e-4b43-b859-b1a82a28772d\n",
      "Protocol State :  presentation_received\n",
      "Agent Role :  verifier\n",
      "Initiator :  self\n",
      "\n",
      "---------------------------------------------------------------------\n",
      "\n",
      "Presentation Received\n",
      "We will not go into detail on this payload as it is comparable to the presentation_sent we looked at in the earlier cell.\n",
      "This is the full payload\n",
      "\n"
     ]
    }
   ],
   "source": [
    "proof_request = {\n",
    "    \"comment\": \"Please prove that you have recieved a valid PMQ\",\n",
    "    \"connection_id\": connection_id,\n",
    "    \"proof_request\": pmq_proof_request,\n",
    "    # Do you want your agent to trace this request (for debugging)\n",
    "    \"trace\": True\n",
    "}\n",
    "\n",
    "proof_request_response = await agent_controller.proofs.send_request(proof_request)"
   ]
  },
  {
   "cell_type": "markdown",
   "id": "30ab0c97",
   "metadata": {},
   "source": [
    "## Get PMQ Presentation Exchange Record\n",
    "\n",
    "This record keeps track of the current state of the presentation protocol, which must be in the `presentation_received` state before the presentation can be verified.\n",
    "\n",
    "Note: This could also happen in the webhook logic."
   ]
  },
  {
   "cell_type": "code",
   "execution_count": 19,
   "id": "bf4a1088",
   "metadata": {},
   "outputs": [],
   "source": [
    "presentation_exchange_id = proof_request_response[\"presentation_exchange_id\"]\n",
    "\n",
    "pres_record = await agent_controller.proofs.get_record_by_id(presentation_exchange_id)"
   ]
  },
  {
   "cell_type": "markdown",
   "id": "d57cdce9",
   "metadata": {},
   "source": [
    "## Verify PMQ Presentation\n",
    "\n",
    "Only if it is in the right state. \n",
    "\n",
    "Note: Verifying a presentation moves the state to `verified` regardless of whether the presentation request has been satisfied. To check this you must refer to the `verified` property on the response."
   ]
  },
  {
   "cell_type": "code",
   "execution_count": 20,
   "id": "2c516a4c",
   "metadata": {},
   "outputs": [
    {
     "name": "stdout",
     "output_type": "stream",
     "text": [
      "\n",
      "---------------------------------------------------------------------\n",
      "\n",
      "Handle present-proof\n",
      "Connection ID :  1ef8fa6a-73bb-4cf2-b3c8-7418042365b9\n",
      "Presentation Exchange ID :  2622e7e5-da5e-4b43-b859-b1a82a28772d\n",
      "Protocol State :  verified\n",
      "Agent Role :  verifier\n",
      "Initiator :  self\n",
      "\n",
      "---------------------------------------------------------------------\n",
      "\n",
      "verified\n",
      "Valid PMQ Presented : true\n"
     ]
    }
   ],
   "source": [
    "verified_response = await agent_controller.proofs.verify_presentation(presentation_exchange_id)\n",
    "\n",
    "verified = verified_response[\"verified\"]\n",
    "print(\"Valid PMQ Presented : \" + verified)"
   ]
  },
  {
   "cell_type": "markdown",
   "id": "2d7c366f",
   "metadata": {},
   "source": [
    "## Fetching Issuing DID for Disclosed PMQ\n",
    "\n",
    "The GMC will want to check that this credential was issued by a medical school they trust. Likely they would compare this against a list of verified medical schools.\n",
    "\n",
    "Note: Other identifiers might also be useful for similar purposes."
   ]
  },
  {
   "cell_type": "code",
   "execution_count": 21,
   "id": "723b6070",
   "metadata": {},
   "outputs": [
    {
     "name": "stdout",
     "output_type": "stream",
     "text": [
      "[{'schema_id': '3jnXQcj9VLFjcUbtDVZZzV:2:Primary Medical Qualification:0.0.2', 'cred_def_id': '3jnXQcj9VLFjcUbtDVZZzV:3:CL:14:default'}]\n",
      "3jnXQcj9VLFjcUbtDVZZzV\n",
      "\u001b[1m\u001b[32mIssuer 3jnXQcj9VLFjcUbtDVZZzV is trusted to issued PMQ Credentials\u001b[0m\n"
     ]
    }
   ],
   "source": [
    "identifiers_list = verified_response['presentation'][\"identifiers\"]\n",
    "print(identifiers_list)\n",
    "trusted = False\n",
    "for identifiers in identifiers_list:\n",
    "    cred_def_id = identifiers[\"cred_def_id\"]\n",
    "    issuing_did = cred_def_id.split(\":\")[0]\n",
    "    print(issuing_did)\n",
    "    if issuing_did in trusted_medical_school_dids:\n",
    "        trusted = True\n",
    "        print(colored(\"Issuer {0} is trusted to issued PMQ Credentials\".format(issuing_did), \"green\", attrs=[\"bold\"]))\n",
    "        break\n",
    "    \n",
    "if not trusted:\n",
    "    print(colored(\"Issuer Not Trusted\", \"red\", attrs=[\"bold\"]))"
   ]
  },
  {
   "cell_type": "markdown",
   "id": "bd2263ce",
   "metadata": {},
   "source": [
    "## Parsing Disclosed Attribute Values from Presentation\n",
    "\n",
    "A presentation object contains three classes of attributes. \n",
    "* Revealed Attributes: Attributes that were signed by an issuer and have been revealed in the presentation process\n",
    "* Self Attested Attributes: Attributes that the prover has self attested to in the presentation object.\n",
    "* Predicate proofs: Attribute values that have been proven to meet some statement. (TODO: Show how you can parse this information)"
   ]
  },
  {
   "cell_type": "markdown",
   "id": "bc6d978b",
   "metadata": {},
   "source": [
    "### Parse Revealed Attributes\n",
    "\n",
    "These will be verified against attributes already stored against connection from physical meeting."
   ]
  },
  {
   "cell_type": "code",
   "execution_count": 22,
   "id": "90b5af74",
   "metadata": {},
   "outputs": [
    {
     "name": "stdout",
     "output_type": "stream",
     "text": [
      "\n",
      "Attribute :  {'sub_proof_index': 0, 'encoded': '57963125648994666300875361621729313351158154740138173103415020334594043694317', 'raw': 'Edinburgh Medical School'}\n",
      "\n",
      "Raw Value - University : Edinburgh Medical School\n",
      "\n",
      "Attribute :  {'sub_proof_index': 0, 'encoded': '49272594129721906234329760951764944925631279077622505421027966796577006025440', 'raw': 'Will'}\n",
      "\n",
      "Raw Value - Name : Will\n",
      "\n",
      "Attribute :  {'sub_proof_index': 0, 'encoded': '30619688953657365627019941655883455207298210903833998052457827755245155989270', 'raw': '2021-08-30'}\n",
      "\n",
      "Raw Value - Date Issued : 2021-08-30\n"
     ]
    }
   ],
   "source": [
    "for (name, val) in verified_response['presentation']['requested_proof']['revealed_attrs'].items():\n",
    "    ## This is the actual data that you want. It's a little hidden\n",
    "    print(\"\\nAttribute : \", val)\n",
    "    \n",
    "    attr_name = verified_response[\"presentation_request\"][\"requested_attributes\"][name][\"name\"]\n",
    "    print(f\"\\nRaw Value - {attr_name} : {val['raw']}\")"
   ]
  },
  {
   "cell_type": "markdown",
   "id": "9e196251",
   "metadata": {},
   "source": [
    "## Issue GMC Licence\n",
    "\n",
    "The GMC admin staff would issue a GMC credential to medical students only if:\n",
    "\n",
    "* They can demonstrate they have a valid PMQ from a trusted medical school\n",
    "* They have demonstrated they are eligible to work in the UK\n",
    "* They successfully complete a standard DBS check\n",
    "\n",
    "This credential and the attributes encoded within in it are going to be used as roots of trust throughout healthcare institutions. It is imperative that they are issued accurately to correctly identified medics devices.\n",
    "\n",
    "Fortunately, the medic is also highly motivated to receive an accurate set of high assurance attributes that they will be able to use throughout their future healthcare interactions.\n",
    "\n",
    "The GMC Admin staff is going to establish the digital connection and collect these details in person. This includes:\n",
    "\n",
    "* Checking an identification document for the individual (e.g. Passport)\n",
    "* Checking the name on the PMQ matches this information\n",
    "* Taking a photo of the medic to be encoded into the credential"
   ]
  },
  {
   "cell_type": "markdown",
   "id": "b4e85eec",
   "metadata": {},
   "source": [
    "## Encode Image of Medical Professional\n",
    "\n",
    "A passport style headshot photograph taken by a GMC Admin team when initially introduced to the medic by their Medical School"
   ]
  },
  {
   "cell_type": "code",
   "execution_count": 23,
   "id": "656b1b8c",
   "metadata": {},
   "outputs": [],
   "source": [
    "import base64\n",
    "encoding = 'utf-8'\n",
    "with open(\"headshot.jpg\", \"rb\") as image:\n",
    "    my_string = base64.b64encode(image.read())\n",
    "    headshotBase64 = my_string.decode('utf-8')"
   ]
  },
  {
   "cell_type": "code",
   "execution_count": 24,
   "id": "e1eb15bf",
   "metadata": {},
   "outputs": [],
   "source": [
    "from datetime import date, timedelta\n",
    "import json\n",
    "\n",
    "attributes = [\"GMC Number\", \"Responsible Officer GMC Number\", \"Licenced From\", \"Re-Validation Due\", \"Name\", \"Base64Image\", \"DOB\"]\n",
    "\n",
    "gmc_number=\"1231231\" # input(\"Please enter the doctors GMC Number: \")\n",
    "resp_officer=\"3827123\"  # input(\"Please enter the GMC Number for the doctors responsible officer: \")\n",
    "licenced_from=date.today().isoformat()\n",
    "revalidation_due = (date.today() + timedelta(days=1825)).isoformat()\n",
    "name=\"Will A\"  # input(\"Please enter the doctors name\")\n",
    "headshot_holder=headshotBase64\n",
    "dob=\"25/01/20\" # input(\"Enter doctors date of birth\")\n",
    "credential_attributes = [\n",
    "    {\"name\": \"GMC Number\", \"value\": gmc_number},\n",
    "    {\"name\": \"Responsible Officer GMC Number\", \"value\": resp_officer},\n",
    "    {\"name\": \"Licenced From\", \"value\": licenced_from},\n",
    "    {\"name\": \"Re-Validation Due\", \"value\": revalidation_due},\n",
    "    {\"name\": \"Name\", \"value\": name},\n",
    "    {\"name\": \"Base64Image\", \"value\": headshot_holder},\n",
    "    {\"name\": \"DOB\", \"value\": dob}\n",
    "]"
   ]
  },
  {
   "cell_type": "markdown",
   "id": "29f33eeb",
   "metadata": {},
   "source": [
    "## Issue GMC Licence Credential\n",
    "\n",
    "GMC Licence is only issued once the GMC has verified the Primary Medical Qualification.\n"
   ]
  },
  {
   "cell_type": "code",
   "execution_count": 25,
   "id": "9c872b30",
   "metadata": {},
   "outputs": [
    {
     "name": "stdout",
     "output_type": "stream",
     "text": [
      "Medic has completed their primary medical qualication\n",
      "\n",
      "---------------------------------------------------\n",
      "\n",
      "Handle Issue Credential Webhook\n",
      "Connection ID : 1ef8fa6a-73bb-4cf2-b3c8-7418042365b9\n",
      "Credential exchange ID : cecf7ab8-8ea1-43f3-a045-e9c65a821fde\n",
      "Agent Protocol Role :  issuer\n",
      "Protocol State :  offer_sent\n",
      "\n",
      "---------------------------------------------------\n",
      "\n",
      "Offering credential with attributes  : [{'name': 'GMC Number', 'value': '1231231'}, {'name': 'Responsible Officer GMC Number', 'value': '3827123'}, {'name': 'Licenced From', 'value': '2021-08-30'}, {'name': 'Re-Validation Due', 'value': '2026-08-29'}, {'name': 'Name', 'value': 'Will A'}, {'name': 'Base64Image', 'value': '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'}, {'name': 'DOB', 'value': '25/01/20'}]\n",
      "\n",
      "---------------------------------------------------\n",
      "\n",
      "Handle Issue Credential Webhook\n",
      "Connection ID : 1ef8fa6a-73bb-4cf2-b3c8-7418042365b9\n",
      "Credential exchange ID : cecf7ab8-8ea1-43f3-a045-e9c65a821fde\n",
      "Agent Protocol Role :  issuer\n",
      "Protocol State :  request_received\n",
      "\n",
      "---------------------------------------------------\n",
      "\n",
      "Request for credential received\n",
      "\n",
      "---------------------------------------------------\n",
      "\n",
      "Handle Issue Credential Webhook\n",
      "Connection ID : 1ef8fa6a-73bb-4cf2-b3c8-7418042365b9\n",
      "Credential exchange ID : cecf7ab8-8ea1-43f3-a045-e9c65a821fde\n",
      "Agent Protocol Role :  issuer\n",
      "Protocol State :  credential_issued\n",
      "\n",
      "---------------------------------------------------\n",
      "\n",
      "\n",
      "---------------------------------------------------\n",
      "\n",
      "Handle Issue Credential Webhook\n",
      "Connection ID : 1ef8fa6a-73bb-4cf2-b3c8-7418042365b9\n",
      "Credential exchange ID : cecf7ab8-8ea1-43f3-a045-e9c65a821fde\n",
      "Agent Protocol Role :  issuer\n",
      "Protocol State :  credential_acked\n",
      "\n",
      "---------------------------------------------------\n",
      "\n"
     ]
    }
   ],
   "source": [
    "# Do you want the ACA-Py instance to trace it's processes (for testing/timing analysis)\n",
    "trace = True\n",
    "comment = \"\"\n",
    "# Remove credential record after issued?\n",
    "auto_remove = False\n",
    "\n",
    "# Change <schema_id> and <cred_def_id> to correct pair. Cred_def_id must identify a definition to which your agent has corresponding private issuing key.\n",
    "if True:\n",
    "    print(\"Medic has completed their primary medical qualication\")\n",
    "    send_cred_response = await agent_controller.issuer.send_credential(connection_id, gmc_schema_id, gmc_cred_def_id, credential_attributes, comment, auto_remove, trace)\n",
    "    gmc_licence_cred_ex_id = send_cred_response[\"credential_exchange_id\"]\n",
    "# Note last three args are optional.\n",
    "# await agent_controller.issuer.send_credential(connection_id, <schema_id>, <cred_def_id, credential_attributes)"
   ]
  },
  {
   "cell_type": "markdown",
   "id": "a0196b52",
   "metadata": {},
   "source": [
    "## Optional: Revoke GMC Licence Credential\n",
    "\n",
    "Only possible if the credential issued used a revocable credential definition. (see support_revocation flag in write_cred_def() function).\n",
    "\n",
    "There are two approachs to revoke an revocable credential"
   ]
  },
  {
   "cell_type": "markdown",
   "id": "efb55a54",
   "metadata": {},
   "source": [
    "### Option 1: Use credential Exchange ID\n",
    "\n",
    "Note: In a SSI application as an issuer you are might want to keep track of the identifiers for credential echange records. These can be used to retrieve records stored by the agent and also be used to identify a credential to revoke\n",
    "Note though that applications might not wish to retain these records as they contain sensitive PII"
   ]
  },
  {
   "cell_type": "code",
   "execution_count": null,
   "id": "ed4e6a47",
   "metadata": {},
   "outputs": [],
   "source": [
    "response = await agent_controller.issuer.get_records()\n",
    "record = response[\"results\"][0]\n",
    "print(record)"
   ]
  },
  {
   "cell_type": "code",
   "execution_count": null,
   "id": "1c963359",
   "metadata": {},
   "outputs": [],
   "source": [
    "# record_id = record[\"credential_exchange_id\"]\n",
    "try:\n",
    "    is_record = await agent_controller.issuer.get_record_by_id(gmc_record_id)\n",
    "except:\n",
    "    print(\"Record not found. Did your agent automatically remove it?\")\n",
    "\n",
    "if True:\n",
    "    # For revoke_credential() you only need to provide (cred_ex_id) OR (rev_reg_id AND cred_rev_id).\n",
    "    response = await agent_controller.revocations.revoke_credential(gmc_record_id, publish=True)\n",
    "    response"
   ]
  },
  {
   "cell_type": "markdown",
   "id": "599a294d",
   "metadata": {},
   "source": [
    "### Option 2: Remove Credential using the Registry and Credential Revocation ID\n",
    "\n",
    "Does not currently work because of bug in code"
   ]
  },
  {
   "cell_type": "code",
   "execution_count": null,
   "id": "898a5260",
   "metadata": {
    "tags": []
   },
   "outputs": [],
   "source": [
    "registry = await agent_controller.revocations.get_active_revocation_registry_by_cred_def(gmc_cred_def_id)\n",
    "print(registry[\"result\"][\"revoc_reg_entry\"])"
   ]
  },
  {
   "cell_type": "code",
   "execution_count": null,
   "id": "532f747a",
   "metadata": {},
   "outputs": [],
   "source": [
    "revoc_reg_id = registry[\"result\"][\"revoc_reg_id\"]"
   ]
  },
  {
   "cell_type": "markdown",
   "id": "0887c2e1",
   "metadata": {},
   "source": [
    "### Or ..."
   ]
  },
  {
   "cell_type": "code",
   "execution_count": null,
   "id": "07287356",
   "metadata": {},
   "outputs": [],
   "source": [
    "gmc_record = await agent_controller.issuer.get_record(gmc_licence_cred_ex_id)\n",
    "rev_reg_id = gmc_record[\"credential\"][\"rev_reg_id\"]"
   ]
  },
  {
   "cell_type": "code",
   "execution_count": null,
   "id": "d7dd2743",
   "metadata": {},
   "outputs": [],
   "source": [
    "# Public revocation registry update to ledger\n",
    "publish = True\n",
    "# Believe this is index in rev registry starting from 1\n",
    "cred_rev_id = \"1\"\n",
    "response = await agent_controller.revocations.revoke_credential(cred_rev_id = cred_rev_id, rev_reg_id = revoc_reg_id, publish=True)"
   ]
  },
  {
   "cell_type": "markdown",
   "id": "8170d54d",
   "metadata": {},
   "source": [
    "## Terminate Controller\n",
    "\n",
    "Whenever you have finished with this notebook, be sure to terminate the controller. This is especially important if your business logic runs across multiple notebooks."
   ]
  },
  {
   "cell_type": "code",
   "execution_count": null,
   "id": "e349f953",
   "metadata": {},
   "outputs": [],
   "source": [
    "await agent_controller.terminate()"
   ]
  },
  {
   "cell_type": "code",
   "execution_count": null,
   "id": "75885f9e",
   "metadata": {},
   "outputs": [],
   "source": []
  }
 ],
 "metadata": {
  "kernelspec": {
   "display_name": "Python 3",
   "language": "python",
   "name": "python3"
  },
  "language_info": {
   "codemirror_mode": {
    "name": "ipython",
    "version": 3
   },
   "file_extension": ".py",
   "mimetype": "text/x-python",
   "name": "python",
   "nbconvert_exporter": "python",
   "pygments_lexer": "ipython3",
   "version": "3.8.5"
  }
 },
 "nbformat": 4,
 "nbformat_minor": 5
}
