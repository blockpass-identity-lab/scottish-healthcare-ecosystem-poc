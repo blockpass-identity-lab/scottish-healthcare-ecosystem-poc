{
 "cells": [
  {
   "cell_type": "markdown",
   "id": "f3886a94",
   "metadata": {},
   "source": [
    "# Bob \n",
    "\n",
    "## Example based on the inviter_template"
   ]
  },
  {
   "cell_type": "markdown",
   "id": "688fb83a",
   "metadata": {},
   "source": [
    "### Imports"
   ]
  },
  {
   "cell_type": "code",
   "execution_count": 11,
   "id": "88518993",
   "metadata": {},
   "outputs": [],
   "source": [
    "from aries_cloudcontroller import AriesAgentController\n",
    "import os\n",
    "from termcolor import colored"
   ]
  },
  {
   "cell_type": "markdown",
   "id": "5b3ff482",
   "metadata": {},
   "source": [
    "### Initialise the Agent Controller"
   ]
  },
  {
   "cell_type": "code",
   "execution_count": 12,
   "id": "840c77b9",
   "metadata": {},
   "outputs": [
    {
     "name": "stdout",
     "output_type": "stream",
     "text": [
      "Initialising a controller with admin api at http://bob-agent:3021 and an api key of adminApiKey\n"
     ]
    }
   ],
   "source": [
    "api_key = os.getenv(\"ACAPY_ADMIN_API_KEY\")\n",
    "admin_url = os.getenv(\"ADMIN_URL\")\n",
    "\n",
    "print(f\"Initialising a controller with admin api at {admin_url} and an api key of {api_key}\")\n",
    "agent_controller = AriesAgentController(admin_url,api_key)"
   ]
  },
  {
   "cell_type": "markdown",
   "id": "7f81bfe5",
   "metadata": {},
   "source": [
    "### Start a Webhook Server"
   ]
  },
  {
   "cell_type": "code",
   "execution_count": 13,
   "id": "181c5db1",
   "metadata": {},
   "outputs": [
    {
     "name": "stdout",
     "output_type": "stream",
     "text": [
      "Listening for webhooks from agent at http://0.0.0.0:3010\n"
     ]
    }
   ],
   "source": [
    "webhook_port = os.getenv(\"WEBHOOK_PORT\")\n",
    "webhook_host = \"0.0.0.0\"\n",
    "\n",
    "agent_controller.init_webhook_server(webhook_host, webhook_port)\n",
    "await agent_controller.listen_webhooks()\n",
    "\n",
    "print(f\"Listening for webhooks from agent at http://{webhook_host}:{webhook_port}\")"
   ]
  },
  {
   "cell_type": "markdown",
   "id": "0b06f378",
   "metadata": {},
   "source": [
    "## Register Agent Event Listeners\n",
    "\n",
    "You can see some examples within the webhook_listeners recipe. Copy any relevant cells across and customise as needed."
   ]
  },
  {
   "cell_type": "code",
   "execution_count": 14,
   "id": "cd7b9a74",
   "metadata": {},
   "outputs": [
    {
     "name": "stdout",
     "output_type": "stream",
     "text": [
      "Subscribing too: connections\n"
     ]
    }
   ],
   "source": [
    "listeners = []\n",
    "\n",
    "# Receive connection messages\n",
    "def connections_handler(payload):\n",
    "    state = payload['state']\n",
    "    connection_id = payload[\"connection_id\"]\n",
    "    their_role = payload[\"their_role\"]\n",
    "    routing_state = payload[\"routing_state\"]\n",
    "    \n",
    "    print(\"----------------------------------------------------------\")\n",
    "    print(\"Connection Webhook Event Received\")\n",
    "    print(\"Connection ID : \", connection_id)\n",
    "    print(\"State : \", state)\n",
    "    print(\"Routing State : \", routing_state)\n",
    "    print(\"Their Role : \", their_role)\n",
    "    print(\"----------------------------------------------------------\")\n",
    "\n",
    "    if state == \"invitation\":\n",
    "        # Your business logic\n",
    "        print(\"invitation\")\n",
    "    elif state == \"request\":\n",
    "        # Your business logic\n",
    "        print(\"request\")\n",
    "\n",
    "    elif state == \"response\":\n",
    "        # Your business logic\n",
    "        print(\"response\")\n",
    "    elif state == \"active\":\n",
    "        # Your business logic\n",
    "        print(colored(\"Connection ID: {0} is now active.\".format(connection_id), \"green\", attrs=[\"bold\"]))\n",
    "\n",
    "\n",
    "\n",
    "connection_listener = {\n",
    "    \"handler\": connections_handler,\n",
    "    \"topic\": \"connections\"\n",
    "}\n",
    "\n",
    "listeners.append(connection_listener)\n",
    "\n",
    "agent_controller.register_listeners(listeners)"
   ]
  },
  {
   "cell_type": "markdown",
   "id": "80589770",
   "metadata": {},
   "source": [
    "## Create Invitation\n",
    "\n",
    "Note the current arguments specified are in their default configurations. "
   ]
  },
  {
   "cell_type": "code",
   "execution_count": 5,
   "id": "29dd6f38",
   "metadata": {},
   "outputs": [
    {
     "name": "stdout",
     "output_type": "stream",
     "text": [
      "----------------------------------------------------------\n",
      "Connection Webhook Event Received\n",
      "Connection ID :  3e54c824-b3ec-44a4-af8b-20b090095520\n",
      "State :  invitation\n",
      "Routing State :  none\n",
      "Their Role :  invitee\n",
      "----------------------------------------------------------\n",
      "invitation\n"
     ]
    }
   ],
   "source": [
    "# Alias for invited connection\n",
    "alias = None\n",
    "auto_accept = False\n",
    "# Use public DID?\n",
    "public = \"false\"\n",
    "# Should this invitation be usable by multiple invitees?\n",
    "multi_use = \"false\"\n",
    "\n",
    "invitation_response = await agent_controller.connections.create_invitation(alias, auto_accept, public, multi_use)\n",
    "# Is equivalent to above. Arguments are optionally\n",
    "# invitation_response = await agent_controller.connections.create_invitation()\n",
    "\n",
    "\n",
    "\n",
    "# You probably want to keep this somewhere so you can enage in other protocols with this connection.\n",
    "connection_id = invitation_response[\"connection_id\"]\n"
   ]
  },
  {
   "cell_type": "markdown",
   "id": "f999f24c",
   "metadata": {},
   "source": [
    "## Share Invitation Object with External Agent\n",
    "\n",
    "Typically in this jupyter notebook playground that involves copying it across to another agent's business logic notebook where they are the invitee. (see invitee_template recipe)"
   ]
  },
  {
   "cell_type": "code",
   "execution_count": 6,
   "id": "c2eb6741",
   "metadata": {},
   "outputs": [
    {
     "name": "stdout",
     "output_type": "stream",
     "text": [
      "{'@type': 'did:sov:BzCbsNYhMrjHiqZDTUASHg;spec/connections/1.0/invitation', '@id': 'da92a6a8-12df-40f9-95d6-53f9ebe4d637', 'serviceEndpoint': 'https://961243ac65cc.ngrok.io', 'label': 'Bob', 'recipientKeys': ['22B5dRkQ6RW7Lrf3W6bWKed5uNd29YQo9jP2DrE4CF5p']}\n",
      "----------------------------------------------------------\n",
      "Connection Webhook Event Received\n",
      "Connection ID :  3e54c824-b3ec-44a4-af8b-20b090095520\n",
      "State :  request\n",
      "Routing State :  none\n",
      "Their Role :  invitee\n",
      "----------------------------------------------------------\n",
      "request\n",
      "----------------------------------------------------------\n",
      "Connection Webhook Event Received\n",
      "Connection ID :  3e54c824-b3ec-44a4-af8b-20b090095520\n",
      "State :  response\n",
      "Routing State :  none\n",
      "Their Role :  invitee\n",
      "----------------------------------------------------------\n",
      "response\n",
      "----------------------------------------------------------\n",
      "Connection Webhook Event Received\n",
      "Connection ID :  3e54c824-b3ec-44a4-af8b-20b090095520\n",
      "State :  active\n",
      "Routing State :  none\n",
      "Their Role :  invitee\n",
      "----------------------------------------------------------\n",
      "\u001b[1m\u001b[32mConnection ID: 3e54c824-b3ec-44a4-af8b-20b090095520 is now active.\u001b[0m\n"
     ]
    }
   ],
   "source": [
    "invitation = invitation_response[\"invitation\"]\n",
    "## Copy this output\n",
    "print(invitation)"
   ]
  },
  {
   "cell_type": "markdown",
   "id": "dff0c187",
   "metadata": {},
   "source": [
    "## Accept Invitation Response\n",
    "\n",
    "Note: You may not need to run this cell. It depends if this agent has the ACAPY_AUTO_ACCEPT_REQUESTS=true flag set."
   ]
  },
  {
   "cell_type": "code",
   "execution_count": 10,
   "id": "62fea86c",
   "metadata": {},
   "outputs": [
    {
     "name": "stdout",
     "output_type": "stream",
     "text": [
      "{'invitation_mode': 'once', 'accept': 'auto', 'created_at': '2021-04-15 15:47:50.129167Z', 'updated_at': '2021-04-15 15:47:50.129167Z', 'rfc23_state': 'invitation-sent', 'invitation_key': '7nq6J6mqGvsbTjfSSdeViJBK8jyvCb9ds2mMY5Cngvbi', 'state': 'invitation', 'connection_id': 'fab627e7-a279-4096-9484-5411914e2eba', 'their_role': 'invitee', 'routing_state': 'none'}\n"
     ]
    }
   ],
   "source": [
    "# Endpoint you expect to recieve messages at\n",
    "my_endpoint = None\n",
    "accept_request_response = await agent_controller.connections.accept_request(connection_id, my_endpoint)"
   ]
  },
  {
   "cell_type": "markdown",
   "id": "410253e8",
   "metadata": {},
   "source": [
    "## Send Trust Ping\n",
    "\n",
    "Once connection moves to response state one agent, either inviter or invitee needs to send a trust ping.\n",
    "\n",
    "Note: you may not need to run this cell. It depends one of the agents has the ACAPY_AUTO_PING_CONNECTION=true flag set."
   ]
  },
  {
   "cell_type": "code",
   "execution_count": 9,
   "id": "24150f54",
   "metadata": {},
   "outputs": [],
   "source": [
    "comment = \"Some Optional Comment\"\n",
    "message = await agent_controller.messaging.trust_ping(connection_id, comment)"
   ]
  },
  {
   "cell_type": "markdown",
   "id": "cdca02ba",
   "metadata": {},
   "source": [
    "## Terminate Controller\n",
    "\n",
    "Whenever you have finished with this notebook, be sure to terminate the controller. This is especially important if your business logic runs across multiple notebooks."
   ]
  },
  {
   "cell_type": "code",
   "execution_count": 15,
   "id": "50be7554",
   "metadata": {},
   "outputs": [],
   "source": [
    "await agent_controller.terminate()"
   ]
  },
  {
   "cell_type": "code",
   "execution_count": null,
   "id": "c470f73f",
   "metadata": {},
   "outputs": [],
   "source": []
  }
 ],
 "metadata": {
  "kernelspec": {
   "display_name": "Python 3",
   "language": "python",
   "name": "python3"
  },
  "language_info": {
   "codemirror_mode": {
    "name": "ipython",
    "version": 3
   },
   "file_extension": ".py",
   "mimetype": "text/x-python",
   "name": "python",
   "nbconvert_exporter": "python",
   "pygments_lexer": "ipython3",
   "version": "3.7.6"
  }
 },
 "nbformat": 4,
 "nbformat_minor": 5
}
