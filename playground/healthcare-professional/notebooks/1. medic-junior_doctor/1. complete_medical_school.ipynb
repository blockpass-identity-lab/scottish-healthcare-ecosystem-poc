{
 "cells": [
  {
   "cell_type": "markdown",
   "id": "83047d4e",
   "metadata": {},
   "source": [
    "# Medic Attends and Completes Medical School\n",
    "\n",
    "## As a result they are issued with a Primary Medical Qualification\n",
    "\n",
    "Note for the time being we are modelling the medic as an ACA-Py agent although a more realistic scenario would use a mobile wallet."
   ]
  },
  {
   "cell_type": "markdown",
   "id": "ad7d2cfd",
   "metadata": {},
   "source": [
    "![Zoom Cred](../zoom-cred-deps.png)"
   ]
  },
  {
   "cell_type": "markdown",
   "id": "0bd7c7a1",
   "metadata": {},
   "source": [
    "### Imports"
   ]
  },
  {
   "cell_type": "code",
   "execution_count": 3,
   "id": "adaa884b",
   "metadata": {},
   "outputs": [],
   "source": [
    "from aries_cloudcontroller import AriesAgentController\n",
    "import os\n",
    "from termcolor import colored"
   ]
  },
  {
   "cell_type": "markdown",
   "id": "73c54905",
   "metadata": {},
   "source": [
    "### Initialise the Agent Controller"
   ]
  },
  {
   "cell_type": "code",
   "execution_count": 4,
   "id": "5321532e",
   "metadata": {},
   "outputs": [
    {
     "name": "stdout",
     "output_type": "stream",
     "text": [
      "Initialising a controller with admin api at http://healthcare-professional-agent:3021 and an api key of MyMedicalAPIKey\n"
     ]
    }
   ],
   "source": [
    "api_key = os.getenv(\"ACAPY_ADMIN_API_KEY\")\n",
    "admin_url = os.getenv(\"ADMIN_URL\")\n",
    "\n",
    "print(f\"Initialising a controller with admin api at {admin_url} and an api key of {api_key}\")\n",
    "agent_controller = AriesAgentController(admin_url,api_key)"
   ]
  },
  {
   "cell_type": "markdown",
   "id": "1801efbf",
   "metadata": {},
   "source": [
    "### Start a Webhook Server"
   ]
  },
  {
   "cell_type": "code",
   "execution_count": 5,
   "id": "190777af",
   "metadata": {},
   "outputs": [
    {
     "name": "stdout",
     "output_type": "stream",
     "text": [
      "Listening for webhooks from agent at http://0.0.0.0:3010\n"
     ]
    }
   ],
   "source": [
    "webhook_port = int(os.getenv(\"WEBHOOK_PORT\"))\n",
    "webhook_host = \"0.0.0.0\"\n",
    "\n",
    "await agent_controller.init_webhook_server(webhook_host, webhook_port)\n",
    "\n",
    "print(f\"Listening for webhooks from agent at http://{webhook_host}:{webhook_port}\")"
   ]
  },
  {
   "cell_type": "markdown",
   "id": "e16ae281",
   "metadata": {},
   "source": [
    "## Register Agent Event Listeners\n",
    "\n",
    "You can see some examples within the webhook_listeners recipe. Copy any relevant cells across and customise as needed."
   ]
  },
  {
   "cell_type": "code",
   "execution_count": 6,
   "id": "dcbdaab7",
   "metadata": {},
   "outputs": [],
   "source": [
    "listeners = []"
   ]
  },
  {
   "cell_type": "code",
   "execution_count": 7,
   "id": "1513ee11",
   "metadata": {},
   "outputs": [],
   "source": [
    "## YOUR LISTENERS HERE\n",
    "def holder_handler(payload):\n",
    "    connection_id = payload['connection_id']\n",
    "    exchange_id = payload['credential_exchange_id']\n",
    "    state = payload['state']\n",
    "    role = payload['role']\n",
    "    print(\"\\n---------------------------------------------------\\n\")\n",
    "    print(\"Handle Issue Credential Webhook\")\n",
    "    print(f\"Connection ID : {connection_id}\")\n",
    "    print(f\"Credential exchange ID : {exchange_id}\")\n",
    "    print(\"Agent Protocol Role : \", role)\n",
    "    print(\"Protocol State : \", state )\n",
    "    print(\"\\n---------------------------------------------------\\n\")\n",
    "    print(\"Handle Credential Webhook Payload\")\n",
    "    \n",
    "    if state == \"offer_received\":\n",
    "        print(\"Credential Offer Recieved\")\n",
    "        proposal = payload[\"credential_proposal_dict\"]\n",
    "        print(\"The proposal dictionary is likely how you would understand and display a credential offer in your application\")\n",
    "        print(\"\\n\", proposal)\n",
    "        print(\"\\n This includes the set of attributes you are being offered\")\n",
    "        attributes = proposal['credential_proposal']['attributes']\n",
    "        print(attributes)\n",
    "        ## YOUR LOGIC HERE\n",
    "    elif state == \"request_sent\":\n",
    "        print(\"\\nA credential request object contains the commitment to the agents master secret using the nonce from the offer\")\n",
    "        ## YOUR LOGIC HERE\n",
    "    elif state == \"credential_received\":\n",
    "        print(\"Received Credential\")\n",
    "        ## YOUR LOGIC HERE\n",
    "    elif state == \"credential_acked\":\n",
    "        ## YOUR LOGIC HERE\n",
    "        print(\"Credential Stored\\n\")\n",
    "        credential = payload[\"credential\"]\n",
    "        print(\"\\nThe referent acts as the identifier for retrieving the raw credential from the wallet\")\n",
    "        # Note: You would probably save this in your application database\n",
    "        credential_referent = credential[\"referent\"]\n",
    "        print(\"Referent\", credential_referent)\n",
    "    \n",
    "\n",
    "\n",
    "    \n",
    "holder_listener = {\n",
    "    \"topic\": \"issue_credential\",\n",
    "    \"handler\": holder_handler\n",
    "}\n",
    "\n",
    "listeners.append(holder_listener)"
   ]
  },
  {
   "cell_type": "code",
   "execution_count": 8,
   "id": "039dd1be",
   "metadata": {},
   "outputs": [],
   "source": [
    "# Receive connection messages\n",
    "def connections_handler(payload):\n",
    "    state = payload['state']\n",
    "    connection_id = payload[\"connection_id\"]\n",
    "    their_role = payload[\"their_role\"]\n",
    "    routing_state = payload[\"routing_state\"]\n",
    "    \n",
    "    print(\"----------------------------------------------------------\")\n",
    "    print(\"Connection Webhook Event Received\")\n",
    "    print(\"Connection ID : \", connection_id)\n",
    "    print(\"State : \", state)\n",
    "    print(\"Routing State : \", routing_state)\n",
    "    print(\"Their Role : \", their_role)\n",
    "    print(\"----------------------------------------------------------\")\n",
    "\n",
    "    if state == \"invitation\":\n",
    "        # Your business logic\n",
    "        print(\"invitation\")\n",
    "    elif state == \"request\":\n",
    "        # Your business logic\n",
    "        print(\"request\")\n",
    "\n",
    "    elif state == \"response\":\n",
    "        # Your business logic\n",
    "        print(\"response\")\n",
    "    elif state == \"active\":\n",
    "        # Your business logic\n",
    "        print(colored(\"Connection ID: {0} is now active.\".format(connection_id), \"green\", attrs=[\"bold\"]))\n",
    "        \n",
    "\n",
    "connection_listener = {\n",
    "    \"handler\": connections_handler,\n",
    "    \"topic\": \"connections\"\n",
    "}\n",
    "\n",
    "listeners.append(connection_listener)"
   ]
  },
  {
   "cell_type": "code",
   "execution_count": 9,
   "id": "76726da5",
   "metadata": {},
   "outputs": [],
   "source": [
    "agent_controller.register_listeners(listeners)"
   ]
  },
  {
   "cell_type": "markdown",
   "id": "fe44304b",
   "metadata": {},
   "source": [
    "## Establish a Connection\n",
    "\n",
    "Must establish connection with issuer before being able to receive credential. Holder modeled as invitee in this case. See recipes/connection."
   ]
  },
  {
   "cell_type": "code",
   "execution_count": 10,
   "id": "ab6f61bd",
   "metadata": {},
   "outputs": [],
   "source": [
    "invitation = {'@type': 'did:sov:BzCbsNYhMrjHiqZDTUASHg;spec/connections/1.0/invitation', '@id': '776cd529-bab7-4450-8fdf-4da42ef8ac10', 'recipientKeys': ['6HYLGBRME7PnSpxwVP8Y32DCmNQHjFYpYupTisJEidrh'], 'label': 'Edinburgh Medical School', 'serviceEndpoint': 'https://ced6556c67a4.ngrok.io'}\n"
   ]
  },
  {
   "cell_type": "code",
   "execution_count": 11,
   "id": "bf7d94ed",
   "metadata": {},
   "outputs": [
    {
     "name": "stdout",
     "output_type": "stream",
     "text": [
      "----------------------------------------------------------\n",
      "Connection Webhook Event Received\n",
      "Connection ID :  8a8a6a54-eddf-4568-a5d1-a8359d2f9ca7\n",
      "State :  invitation\n",
      "Routing State :  none\n",
      "Their Role :  inviter\n",
      "----------------------------------------------------------\n",
      "invitation\n",
      "----------------------------------------------------------\n",
      "Connection Webhook Event Received\n",
      "Connection ID :  8a8a6a54-eddf-4568-a5d1-a8359d2f9ca7\n",
      "State :  request\n",
      "Routing State :  none\n",
      "Their Role :  inviter\n",
      "----------------------------------------------------------\n",
      "request\n",
      "----------------------------------------------------------\n",
      "Connection Webhook Event Received\n",
      "Connection ID :  8a8a6a54-eddf-4568-a5d1-a8359d2f9ca7\n",
      "State :  response\n",
      "Routing State :  none\n",
      "Their Role :  inviter\n",
      "----------------------------------------------------------\n",
      "response\n",
      "----------------------------------------------------------\n",
      "Connection Webhook Event Received\n",
      "Connection ID :  8a8a6a54-eddf-4568-a5d1-a8359d2f9ca7\n",
      "State :  active\n",
      "Routing State :  none\n",
      "Their Role :  inviter\n",
      "----------------------------------------------------------\n",
      "\u001b[1m\u001b[32mConnection ID: 8a8a6a54-eddf-4568-a5d1-a8359d2f9ca7 is now active.\u001b[0m\n",
      "\n",
      "---------------------------------------------------\n",
      "\n",
      "Handle Issue Credential Webhook\n",
      "Connection ID : 8a8a6a54-eddf-4568-a5d1-a8359d2f9ca7\n",
      "Credential exchange ID : c300ad4c-76cc-4d46-980d-d240a12aeccd\n",
      "Agent Protocol Role :  holder\n",
      "Protocol State :  offer_received\n",
      "\n",
      "---------------------------------------------------\n",
      "\n",
      "Handle Credential Webhook Payload\n",
      "Credential Offer Recieved\n",
      "The proposal dictionary is likely how you would understand and display a credential offer in your application\n",
      "\n",
      " {'@type': 'did:sov:BzCbsNYhMrjHiqZDTUASHg;spec/issue-credential/1.0/propose-credential', '@id': '565f3617-0e4b-414f-b12b-15aabea98af9', 'cred_def_id': '3jnXQcj9VLFjcUbtDVZZzV:3:CL:26:default', 'schema_id': '3jnXQcj9VLFjcUbtDVZZzV:2:Primary Medical Qualification:0.0.2', 'comment': 'create automated credential exchange', 'credential_proposal': {'@type': 'did:sov:BzCbsNYhMrjHiqZDTUASHg;spec/issue-credential/1.0/credential-preview', 'attributes': [{'name': 'Name', 'value': 'Will Abramson'}, {'name': 'University', 'value': 'Edinburgh Medical School'}, {'name': 'Date Issued', 'value': '2021-05-28'}]}}\n",
      "\n",
      " This includes the set of attributes you are being offered\n",
      "[{'name': 'Name', 'value': 'Will Abramson'}, {'name': 'University', 'value': 'Edinburgh Medical School'}, {'name': 'Date Issued', 'value': '2021-05-28'}]\n"
     ]
    }
   ],
   "source": [
    "auto_accept=False\n",
    "alias=None\n",
    "\n",
    "invite_response = await agent_controller.connections.receive_invitation(invitation, alias, auto_accept)\n",
    "connection_id = invite_response[\"connection_id\"]"
   ]
  },
  {
   "cell_type": "code",
   "execution_count": null,
   "id": "e06d3a9c",
   "metadata": {},
   "outputs": [],
   "source": [
    "## TODO: Verify is Trusted Medical School?"
   ]
  },
  {
   "cell_type": "markdown",
   "id": "4b8a674c",
   "metadata": {},
   "source": [
    "## Medical Student Request Credential From Offer\n",
    "\n",
    "The medical student can decide whether the attributes being offered are accurate, before requesting the final signature on a PMQ credential containing theseattributes.\n"
   ]
  },
  {
   "cell_type": "code",
   "execution_count": 12,
   "id": "d85c2c85",
   "metadata": {},
   "outputs": [],
   "source": [
    "state=\"offer_received\"\n",
    "records_response = await agent_controller.issuer.get_records(connection_id=connection_id, state=state)\n",
    "record = records_response[\"results\"][0]\n",
    "record_id = record[\"credential_exchange_id\"]\n"
   ]
  },
  {
   "cell_type": "markdown",
   "id": "273f0c78",
   "metadata": {},
   "source": [
    "## Medic Verifies Details in Credential Offer and Requests When Satsified"
   ]
  },
  {
   "cell_type": "code",
   "execution_count": 13,
   "id": "4dda60c6",
   "metadata": {},
   "outputs": [
    {
     "name": "stdout",
     "output_type": "stream",
     "text": [
      "\n",
      "---------------------------------------------------\n",
      "\n",
      "Handle Issue Credential Webhook\n",
      "Connection ID : 8a8a6a54-eddf-4568-a5d1-a8359d2f9ca7\n",
      "Credential exchange ID : c300ad4c-76cc-4d46-980d-d240a12aeccd\n",
      "Agent Protocol Role :  holder\n",
      "Protocol State :  request_sent\n",
      "\n",
      "---------------------------------------------------\n",
      "\n",
      "Handle Credential Webhook Payload\n",
      "\n",
      "A credential request object contains the commitment to the agents master secret using the nonce from the offer\n"
     ]
    },
    {
     "data": {
      "text/plain": [
       "{'credential_request_metadata': {'master_secret_blinding_data': {'v_prime': '19905399353666993540705342869019292995794374348159433990924186185313176093355060356542949769941471277489130260011364085405617830504829349851341487046085472804380495533491590444106127373411327210744182442207013926082334431460951187535159938730575028580857572147451374606752654030973460441883447734390903283900862626154161989263280783446536862807410855059905888363462414839976269823399027323787426233069311623393079254928730528500134514349771127925623221284781212559227446484568647941619445798566304419574260111856011022634967635412520679379066752691390663888071303360146227793987968471929708360001511914035466414126889863754748623515906208240',\n",
       "   'vr_prime': None},\n",
       "  'nonce': '512130146359083366558673',\n",
       "  'master_secret_name': 'Medic'},\n",
       " 'created_at': '2021-05-28 09:37:17.149499Z',\n",
       " 'schema_id': '3jnXQcj9VLFjcUbtDVZZzV:2:Primary Medical Qualification:0.0.2',\n",
       " 'credential_request': {'prover_did': 'EJAAQqjXQ7ggffRHqoKYhh',\n",
       "  'cred_def_id': '3jnXQcj9VLFjcUbtDVZZzV:3:CL:26:default',\n",
       "  'blinded_ms': {'u': '9089860592988243573772961768782522928772385046100552331041495063182894693505908276554551575619765242630635544483917588174868916254334313796776520902550112621001243050185900578220510792492073073108356242664851921411862482303873279126067775173843817540399271178799792113865064478994025123248822963681361509608013138361383204707965160018666683815024026839247793796217372936577644555530721806236130846072434701181493437212620053339022808279323672889893962226443126835152895289134088356820329890282972580078264406843269946275182396884154911783621397717719817528408119031355624281421185570111806603979213125879422249984314',\n",
       "   'ur': None,\n",
       "   'hidden_attributes': ['master_secret'],\n",
       "   'committed_attributes': {}},\n",
       "  'blinded_ms_correctness_proof': {'c': '106488249243705082918182061896480289486203112508753706055058726087857965341217',\n",
       "   'v_dash_cap': '2119691127668776871248964470020392991864955157311181247744227753438802507805725185262239225924988918433781198883214349612456826430451711696656127663429429881866768269190340328045337214728328759312095139437382201520327416453631474538030950617335675929846217075462521797685452672693904177474646586569326154130481491076095230216555593647706850523267868354103140745087208082539796761393421723971409106036617302637344661606725389422382109910011804405456677705508756107796438893055234022714339103742579492566084457272418174041117414523828150585321051543386072271106800137149049566850364534217165259310876215820767780413091780616135433506832492410540562372214514508388717234640464204247424236323860745890204332901272456692674',\n",
       "   'm_caps': {'master_secret': '20390237954510238000339395739524640921729207224512021595993003161621653568325148817637480599948812780762436361192022254339579660471315583984704904899838403154745766162089912342343'},\n",
       "   'r_caps': {}},\n",
       "  'nonce': '512130146359083366558673'},\n",
       " 'credential_exchange_id': 'c300ad4c-76cc-4d46-980d-d240a12aeccd',\n",
       " 'state': 'request_sent',\n",
       " 'credential_definition_id': '3jnXQcj9VLFjcUbtDVZZzV:3:CL:26:default',\n",
       " 'role': 'holder',\n",
       " 'auto_offer': False,\n",
       " 'connection_id': '8a8a6a54-eddf-4568-a5d1-a8359d2f9ca7',\n",
       " 'initiator': 'external',\n",
       " 'credential_proposal_dict': {'@type': 'did:sov:BzCbsNYhMrjHiqZDTUASHg;spec/issue-credential/1.0/propose-credential',\n",
       "  '@id': '565f3617-0e4b-414f-b12b-15aabea98af9',\n",
       "  'cred_def_id': '3jnXQcj9VLFjcUbtDVZZzV:3:CL:26:default',\n",
       "  'schema_id': '3jnXQcj9VLFjcUbtDVZZzV:2:Primary Medical Qualification:0.0.2',\n",
       "  'comment': 'create automated credential exchange',\n",
       "  'credential_proposal': {'@type': 'did:sov:BzCbsNYhMrjHiqZDTUASHg;spec/issue-credential/1.0/credential-preview',\n",
       "   'attributes': [{'name': 'Name', 'value': 'Will Abramson'},\n",
       "    {'name': 'University', 'value': 'Edinburgh Medical School'},\n",
       "    {'name': 'Date Issued', 'value': '2021-05-28'}]}},\n",
       " 'auto_remove': False,\n",
       " 'trace': True,\n",
       " 'thread_id': '9afa5aeb-507d-452e-8773-9de71940b106',\n",
       " 'auto_issue': False,\n",
       " 'credential_offer': {'schema_id': '3jnXQcj9VLFjcUbtDVZZzV:2:Primary Medical Qualification:0.0.2',\n",
       "  'cred_def_id': '3jnXQcj9VLFjcUbtDVZZzV:3:CL:26:default',\n",
       "  'key_correctness_proof': {'c': '92897707171898182454322668088095780777707208636053543833485346291266939078569',\n",
       "   'xz_cap': '841636378858733220417391041049444572548282691195417763475722065411314439093743200170971455898323416600892700298615495036617831931834931316962103425158139139941069458127925138311620045565738017331048949377915371788156418519910495717730869170551850503126595174631009850771725823825041681294109143052214142531732517354000115860443612875262672067645165801551327013485500698106775871200869411270191602826710480873432962910306039384102296962289987955758444486342214497525140879813101096808362274352382392134212297207954118733881744011303185153532628843118781446366232292810229713782626521384664764983484020984612087460849557669718088521248230390183569283432969274860091000665270128486740137265104791',\n",
       "   'xr_cap': [['dateissued',\n",
       "     '67544746217105982560038705325580524382960389177222866422904015016666477945225558219095246787623391920039911275732525906186126321055035721573263785018211053766318245460900009141334285837809316815484885933935325407452992182871678016337588080267718503828901229087910679140303373583080648503393817234319255575334876804458997040313657170517875952041906657813073776539593405759682434885217659454077596437041519156336081799285752149592126496722330516801215857839880769990657464045826687424234822970045296914986238823403468744257088617194358795834070781420754521342933775810024321130988528630643487490073221752534054134184562485222930549449797040880629331752887454839944471558170935008091065957636805'],\n",
       "    ['name',\n",
       "     '1597478040817118412211650569115671885444799075374921215735859747041380386849776905677549232190130125293614739115955947442039033900356310546614393611192143377142329508385091069344047602854549898211412533686134670778186114294108876186274897951659576968724312801114146666696597064734968982591404929774483993339335762733663340349024812260322509712964251309091318843607951244763093403842989147069883030788454382285491701788165917904417038280958508500639590387189978474305692964214968729712690656424374058190742839620144854707809019411191931510599043961117965719562606895613687694102811649841922199582853787566545173914816050929513485236343614964219594294646529560050224625196341572540850711478248854'],\n",
       "    ['master_secret',\n",
       "     '191214023820718012065681043281375144385773521334202144196456669574619839481756407377940659845875964815203511899453034964445759864720649218572248530160809825775230816647745276943945975383194302920748307560768494252706238825927132249852588508200860300445997324388246873379846689726411487923439853809408128222985492557743524409868740168282266111579874435788201535455086287840696562797839174704660086037729005692388058838847085804556348998235100617582015784447478675425720273752071921553927626505902664899634710890742134794296388003140576251180155540586335819517689860532722966196313930243398556033855933868101196346898232609600784917400915174159453867956083210387836702518494796811864314310361638'],\n",
       "    ['university',\n",
       "     '624818342827639897138793394333144325892336430328624896092153902752447995082822155384195452185074049692848387845268408212408418563908807931355165776920010721798566859105074461872130893308406404629683534837113079505394501841947628763485178104205422106283098498040841506172273066084653867484494465468345297373602826225244788388642361751409871789497582891928997765483000769272552890675570459881934993287818312075749851378969953395358536786369627778309009957853594145573003229472800980064466038777597745657585008102796304487662354091015479519713468035908469588213823261668675800094630394005457934562312832263370775114422400641573649261531025827095502670119455285010365556002455516366047970321637678']]},\n",
       "  'nonce': '316626456277993014458821'},\n",
       " 'updated_at': '2021-05-28 09:38:25.802621Z'}"
      ]
     },
     "execution_count": 13,
     "metadata": {},
     "output_type": "execute_result"
    },
    {
     "name": "stdout",
     "output_type": "stream",
     "text": [
      "\n",
      "---------------------------------------------------\n",
      "\n",
      "Handle Issue Credential Webhook\n",
      "Connection ID : 8a8a6a54-eddf-4568-a5d1-a8359d2f9ca7\n",
      "Credential exchange ID : c300ad4c-76cc-4d46-980d-d240a12aeccd\n",
      "Agent Protocol Role :  holder\n",
      "Protocol State :  credential_received\n",
      "\n",
      "---------------------------------------------------\n",
      "\n",
      "Handle Credential Webhook Payload\n",
      "Received Credential\n"
     ]
    }
   ],
   "source": [
    "await agent_controller.issuer.send_request_for_record(record_id)"
   ]
  },
  {
   "cell_type": "markdown",
   "id": "bcd568d2",
   "metadata": {},
   "source": [
    "## Medic Stores Received PMQ for later use\n"
   ]
  },
  {
   "cell_type": "code",
   "execution_count": 14,
   "id": "0d1581e4",
   "metadata": {},
   "outputs": [
    {
     "name": "stdout",
     "output_type": "stream",
     "text": [
      "\n",
      "---------------------------------------------------\n",
      "\n",
      "Handle Issue Credential Webhook\n",
      "Connection ID : 8a8a6a54-eddf-4568-a5d1-a8359d2f9ca7\n",
      "Credential exchange ID : c300ad4c-76cc-4d46-980d-d240a12aeccd\n",
      "Agent Protocol Role :  holder\n",
      "Protocol State :  credential_acked\n",
      "\n",
      "---------------------------------------------------\n",
      "\n",
      "Handle Credential Webhook Payload\n",
      "Credential Stored\n",
      "\n",
      "\n",
      "The referent acts as the identifier for retrieving the raw credential from the wallet\n",
      "Referent PMQ\n"
     ]
    }
   ],
   "source": [
    "# Optionally specify an identifier to uniquely identify this credential within your agents wallet.\n",
    "# You would likely want to save this somewhere.\n",
    "# If not set a random one will be generated for you\n",
    "credential_id = \"PMQ\"\n",
    "\n",
    "store_cred_response = await agent_controller.issuer.store_credential(record_id, credential_id)"
   ]
  },
  {
   "cell_type": "markdown",
   "id": "6be84bdc",
   "metadata": {},
   "source": [
    "## Terminate Controller\n",
    "\n",
    "Whenever you have finished with this notebook, be sure to terminate the controller. This is especially important if your business logic runs across multiple notebooks."
   ]
  },
  {
   "cell_type": "code",
   "execution_count": 15,
   "id": "6b4a74ee",
   "metadata": {},
   "outputs": [],
   "source": [
    "await agent_controller.terminate()"
   ]
  },
  {
   "cell_type": "code",
   "execution_count": null,
   "id": "d25896cf",
   "metadata": {},
   "outputs": [],
   "source": []
  }
 ],
 "metadata": {
  "kernelspec": {
   "display_name": "Python 3",
   "language": "python",
   "name": "python3"
  },
  "language_info": {
   "codemirror_mode": {
    "name": "ipython",
    "version": 3
   },
   "file_extension": ".py",
   "mimetype": "text/x-python",
   "name": "python",
   "nbconvert_exporter": "python",
   "pygments_lexer": "ipython3",
   "version": "3.7.6"
  }
 },
 "nbformat": 4,
 "nbformat_minor": 5
}
