{
 "cells": [
  {
   "cell_type": "markdown",
   "id": "38d9bdd7",
   "metadata": {},
   "source": [
    "# Medic Attends and Completes Medical School\n",
    "\n",
    "## As a result they are issued with a Primary Medical Qualification\n",
    "\n",
    "Note for the time being we are modelling the medic as an ACA-Py agent although a more realistic scenario would use a mobile wallet."
   ]
  },
  {
   "cell_type": "markdown",
   "id": "7650881c",
   "metadata": {},
   "source": [
    "# This would likely be a Mobile Application Medics would need to Download\n",
    "\n",
    "We represent the medic within notebooks for simplicity within this POC\n",
    "\n",
    "![](https://tykn.tech/wp-content/uploads/2020/11/Tykn-Ana-App.png)"
   ]
  },
  {
   "cell_type": "markdown",
   "id": "a88e9ae5",
   "metadata": {},
   "source": [
    "### Imports"
   ]
  },
  {
   "cell_type": "code",
   "execution_count": 1,
   "id": "186a385e",
   "metadata": {},
   "outputs": [],
   "source": [
    "from aries_cloudcontroller import AriesAgentController\n",
    "import os\n",
    "from termcolor import colored"
   ]
  },
  {
   "cell_type": "markdown",
   "id": "21189718",
   "metadata": {},
   "source": [
    "### Initialise the Agent Controller"
   ]
  },
  {
   "cell_type": "code",
   "execution_count": 2,
   "id": "3b667f99",
   "metadata": {},
   "outputs": [
    {
     "name": "stdout",
     "output_type": "stream",
     "text": [
      "Initialising a controller with admin api at http://healthcare-professional-agent:3021 and an api key of MyMedicalAPIKey\n"
     ]
    }
   ],
   "source": [
    "api_key = os.getenv(\"ACAPY_ADMIN_API_KEY\")\n",
    "admin_url = os.getenv(\"ADMIN_URL\")\n",
    "\n",
    "print(f\"Initialising a controller with admin api at {admin_url} and an api key of {api_key}\")\n",
    "agent_controller = AriesAgentController(admin_url,api_key)"
   ]
  },
  {
   "cell_type": "markdown",
   "id": "277b7885",
   "metadata": {},
   "source": [
    "### Start a Webhook Server"
   ]
  },
  {
   "cell_type": "code",
   "execution_count": 3,
   "id": "7b1d86e8",
   "metadata": {},
   "outputs": [
    {
     "name": "stdout",
     "output_type": "stream",
     "text": [
      "Listening for webhooks from agent at http://0.0.0.0:3010\n"
     ]
    }
   ],
   "source": [
    "webhook_port = int(os.getenv(\"WEBHOOK_PORT\"))\n",
    "webhook_host = \"0.0.0.0\"\n",
    "\n",
    "await agent_controller.init_webhook_server(webhook_host, webhook_port)\n",
    "\n",
    "print(f\"Listening for webhooks from agent at http://{webhook_host}:{webhook_port}\")"
   ]
  },
  {
   "cell_type": "markdown",
   "id": "8645f70f",
   "metadata": {},
   "source": [
    "## Register Agent Event Listeners\n",
    "\n",
    "You can see some examples within the webhook_listeners recipe. Copy any relevant cells across and customise as needed."
   ]
  },
  {
   "cell_type": "code",
   "execution_count": 4,
   "id": "8d5c27e9",
   "metadata": {},
   "outputs": [],
   "source": [
    "listeners = []"
   ]
  },
  {
   "cell_type": "code",
   "execution_count": 5,
   "id": "6e2e2d8c",
   "metadata": {},
   "outputs": [],
   "source": [
    "## YOUR LISTENERS HERE\n",
    "def holder_handler(payload):\n",
    "    connection_id = payload['connection_id']\n",
    "    exchange_id = payload['credential_exchange_id']\n",
    "    state = payload['state']\n",
    "    role = payload['role']\n",
    "    print(\"\\n---------------------------------------------------\\n\")\n",
    "    print(\"Handle Issue Credential Webhook\")\n",
    "    print(f\"Connection ID : {connection_id}\")\n",
    "    print(f\"Credential exchange ID : {exchange_id}\")\n",
    "    print(\"Agent Protocol Role : \", role)\n",
    "    print(\"Protocol State : \", state )\n",
    "    print(\"\\n---------------------------------------------------\\n\")\n",
    "    print(\"Handle Credential Webhook Payload\")\n",
    "    \n",
    "    if state == \"offer_received\":\n",
    "        print(\"Credential Offer Recieved\")\n",
    "        proposal = payload[\"credential_proposal_dict\"]\n",
    "        print(\"The proposal dictionary is likely how you would understand and display a credential offer in your application\")\n",
    "        print(\"\\n\", proposal)\n",
    "        print(\"\\n This includes the set of attributes you are being offered\")\n",
    "        attributes = proposal['credential_proposal']['attributes']\n",
    "        print(attributes)\n",
    "        ## YOUR LOGIC HERE\n",
    "    elif state == \"request_sent\":\n",
    "        print(\"\\nA credential request object contains the commitment to the agents master secret using the nonce from the offer\")\n",
    "        ## YOUR LOGIC HERE\n",
    "    elif state == \"credential_received\":\n",
    "        print(\"Received Credential\")\n",
    "        ## YOUR LOGIC HERE\n",
    "    elif state == \"credential_acked\":\n",
    "        ## YOUR LOGIC HERE\n",
    "        print(\"Credential Stored\\n\")\n",
    "        credential = payload[\"credential\"]\n",
    "        print(\"\\nThe referent acts as the identifier for retrieving the raw credential from the wallet\")\n",
    "        # Note: You would probably save this in your application database\n",
    "        credential_referent = credential[\"referent\"]\n",
    "        print(\"Referent\", credential_referent)\n",
    "    \n",
    "\n",
    "\n",
    "    \n",
    "holder_listener = {\n",
    "    \"topic\": \"issue_credential\",\n",
    "    \"handler\": holder_handler\n",
    "}\n",
    "\n",
    "listeners.append(holder_listener)"
   ]
  },
  {
   "cell_type": "code",
   "execution_count": 6,
   "id": "3d4f82d9",
   "metadata": {},
   "outputs": [],
   "source": [
    "# Receive connection messages\n",
    "def connections_handler(payload):\n",
    "    state = payload['state']\n",
    "    connection_id = payload[\"connection_id\"]\n",
    "    their_role = payload[\"their_role\"]\n",
    "    routing_state = payload[\"routing_state\"]\n",
    "    \n",
    "    print(\"----------------------------------------------------------\")\n",
    "    print(\"Connection Webhook Event Received\")\n",
    "    print(\"Connection ID : \", connection_id)\n",
    "    print(\"State : \", state)\n",
    "    print(\"Routing State : \", routing_state)\n",
    "    print(\"Their Role : \", their_role)\n",
    "    print(\"----------------------------------------------------------\")\n",
    "\n",
    "    if state == \"invitation\":\n",
    "        # Your business logic\n",
    "        print(\"invitation\")\n",
    "    elif state == \"request\":\n",
    "        # Your business logic\n",
    "        print(\"request\")\n",
    "\n",
    "    elif state == \"response\":\n",
    "        # Your business logic\n",
    "        print(\"response\")\n",
    "    elif state == \"active\":\n",
    "        # Your business logic\n",
    "        print(colored(\"Connection ID: {0} is now active.\".format(connection_id), \"green\", attrs=[\"bold\"]))\n",
    "        \n",
    "\n",
    "connection_listener = {\n",
    "    \"handler\": connections_handler,\n",
    "    \"topic\": \"connections\"\n",
    "}\n",
    "\n",
    "listeners.append(connection_listener)"
   ]
  },
  {
   "cell_type": "code",
   "execution_count": 7,
   "id": "576701e5",
   "metadata": {},
   "outputs": [],
   "source": [
    "agent_controller.register_listeners(listeners)"
   ]
  },
  {
   "cell_type": "markdown",
   "id": "106342c1",
   "metadata": {},
   "source": [
    "## Establish a Connection\n",
    "\n",
    "Must establish connection with issuer before being able to receive credential. Holder modeled as invitee in this case. See recipes/connection."
   ]
  },
  {
   "cell_type": "code",
   "execution_count": 8,
   "id": "c6c9d847",
   "metadata": {},
   "outputs": [],
   "source": [
    "invitation = {'@type': 'did:sov:BzCbsNYhMrjHiqZDTUASHg;spec/connections/1.0/invitation', '@id': '48baca19-fc9b-415b-8adf-1a4826d50215', 'label': 'Edinburgh Medical School', 'serviceEndpoint': 'https://8ecf-86-18-68-143.ngrok.io', 'recipientKeys': ['59bnacVwzBMEbLF7ALJH2wzU13mfeDRJ5VYH3JAhmdne']}\n"
   ]
  },
  {
   "cell_type": "code",
   "execution_count": 9,
   "id": "68dfd7b6",
   "metadata": {},
   "outputs": [
    {
     "name": "stdout",
     "output_type": "stream",
     "text": [
      "----------------------------------------------------------\n",
      "Connection Webhook Event Received\n",
      "Connection ID :  cec15b2c-e465-48a5-a6e8-1a9eacc14346\n",
      "State :  invitation\n",
      "Routing State :  none\n",
      "Their Role :  inviter\n",
      "----------------------------------------------------------\n",
      "invitation\n",
      "----------------------------------------------------------\n",
      "Connection Webhook Event Received\n",
      "Connection ID :  cec15b2c-e465-48a5-a6e8-1a9eacc14346\n",
      "State :  request\n",
      "Routing State :  none\n",
      "Their Role :  inviter\n",
      "----------------------------------------------------------\n",
      "request\n",
      "----------------------------------------------------------\n",
      "Connection Webhook Event Received\n",
      "Connection ID :  cec15b2c-e465-48a5-a6e8-1a9eacc14346\n",
      "State :  response\n",
      "Routing State :  none\n",
      "Their Role :  inviter\n",
      "----------------------------------------------------------\n",
      "response\n",
      "----------------------------------------------------------\n",
      "Connection Webhook Event Received\n",
      "Connection ID :  cec15b2c-e465-48a5-a6e8-1a9eacc14346\n",
      "State :  active\n",
      "Routing State :  none\n",
      "Their Role :  inviter\n",
      "----------------------------------------------------------\n",
      "\u001b[1m\u001b[32mConnection ID: cec15b2c-e465-48a5-a6e8-1a9eacc14346 is now active.\u001b[0m\n"
     ]
    }
   ],
   "source": [
    "auto_accept=False\n",
    "alias=None\n",
    "\n",
    "invite_response = await agent_controller.connections.receive_invitation(invitation, alias, auto_accept)\n",
    "connection_id = invite_response[\"connection_id\"]"
   ]
  },
  {
   "cell_type": "code",
   "execution_count": 10,
   "id": "bee11e2a",
   "metadata": {},
   "outputs": [],
   "source": [
    "## TODO: Verify is Trusted Medical School?"
   ]
  },
  {
   "cell_type": "markdown",
   "id": "daa2e157",
   "metadata": {},
   "source": [
    "## Medical Student Request Credential From Offer\n",
    "\n",
    "The medical student can decide whether the attributes being offered are accurate, before requesting the final signature on a PMQ credential containing theseattributes.\n"
   ]
  },
  {
   "cell_type": "code",
   "execution_count": 13,
   "id": "b62ffcad",
   "metadata": {},
   "outputs": [],
   "source": [
    "state=\"offer_received\"\n",
    "records_response = await agent_controller.issuer.get_records(connection_id=connection_id, state=state)\n",
    "record = records_response[\"results\"][0]\n",
    "record_id = record[\"credential_exchange_id\"]\n"
   ]
  },
  {
   "cell_type": "markdown",
   "id": "b4a2277f",
   "metadata": {},
   "source": [
    "## Medic Verifies Details in Credential Offer and Requests When Satsified"
   ]
  },
  {
   "cell_type": "code",
   "execution_count": 14,
   "id": "f9d99ffe",
   "metadata": {},
   "outputs": [
    {
     "name": "stdout",
     "output_type": "stream",
     "text": [
      "\n",
      "---------------------------------------------------\n",
      "\n",
      "Handle Issue Credential Webhook\n",
      "Connection ID : cec15b2c-e465-48a5-a6e8-1a9eacc14346\n",
      "Credential exchange ID : ba4e6e26-39a8-46e1-aaf3-2d92aee07947\n",
      "Agent Protocol Role :  holder\n",
      "Protocol State :  request_sent\n",
      "\n",
      "---------------------------------------------------\n",
      "\n",
      "Handle Credential Webhook Payload\n",
      "\n",
      "A credential request object contains the commitment to the agents master secret using the nonce from the offer\n",
      "\n",
      "---------------------------------------------------\n",
      "\n",
      "Handle Issue Credential Webhook\n",
      "Connection ID : cec15b2c-e465-48a5-a6e8-1a9eacc14346\n",
      "Credential exchange ID : ba4e6e26-39a8-46e1-aaf3-2d92aee07947\n",
      "Agent Protocol Role :  holder\n",
      "Protocol State :  credential_received\n",
      "\n",
      "---------------------------------------------------\n",
      "\n",
      "Handle Credential Webhook Payload\n",
      "Received Credential\n"
     ]
    }
   ],
   "source": [
    "response = await agent_controller.issuer.send_request_for_record(record_id)"
   ]
  },
  {
   "cell_type": "markdown",
   "id": "0ce723ad",
   "metadata": {},
   "source": [
    "## Medic Stores Received PMQ for later use\n"
   ]
  },
  {
   "cell_type": "code",
   "execution_count": 15,
   "id": "08422f63",
   "metadata": {},
   "outputs": [
    {
     "name": "stdout",
     "output_type": "stream",
     "text": [
      "\n",
      "---------------------------------------------------\n",
      "\n",
      "Handle Issue Credential Webhook\n",
      "Connection ID : cec15b2c-e465-48a5-a6e8-1a9eacc14346\n",
      "Credential exchange ID : ba4e6e26-39a8-46e1-aaf3-2d92aee07947\n",
      "Agent Protocol Role :  holder\n",
      "Protocol State :  credential_acked\n",
      "\n",
      "---------------------------------------------------\n",
      "\n",
      "Handle Credential Webhook Payload\n",
      "Credential Stored\n",
      "\n",
      "\n",
      "The referent acts as the identifier for retrieving the raw credential from the wallet\n",
      "Referent PMQ\n"
     ]
    }
   ],
   "source": [
    "# Optionally specify an identifier to uniquely identify this credential within your agents wallet.\n",
    "# You would likely want to save this somewhere.\n",
    "# If not set a random one will be generated for you\n",
    "credential_id = \"PMQ\"\n",
    "\n",
    "store_cred_response = await agent_controller.issuer.store_credential(record_id, credential_id)"
   ]
  },
  {
   "cell_type": "markdown",
   "id": "05c8a113",
   "metadata": {},
   "source": [
    "## Terminate Controller\n",
    "\n",
    "Whenever you have finished with this notebook, be sure to terminate the controller. This is especially important if your business logic runs across multiple notebooks."
   ]
  },
  {
   "cell_type": "code",
   "execution_count": 16,
   "id": "0d6b6e0d",
   "metadata": {},
   "outputs": [],
   "source": [
    "await agent_controller.terminate()"
   ]
  },
  {
   "cell_type": "code",
   "execution_count": null,
   "id": "8e0caacd",
   "metadata": {},
   "outputs": [],
   "source": []
  }
 ],
 "metadata": {
  "kernelspec": {
   "display_name": "Python 3",
   "language": "python",
   "name": "python3"
  },
  "language_info": {
   "codemirror_mode": {
    "name": "ipython",
    "version": 3
   },
   "file_extension": ".py",
   "mimetype": "text/x-python",
   "name": "python",
   "nbconvert_exporter": "python",
   "pygments_lexer": "ipython3",
   "version": "3.8.5"
  }
 },
 "nbformat": 4,
 "nbformat_minor": 5
}
