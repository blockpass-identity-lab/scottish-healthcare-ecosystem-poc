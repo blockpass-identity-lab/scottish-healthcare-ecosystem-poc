{
 "cells": [
  {
   "cell_type": "markdown",
   "id": "28a7dc19",
   "metadata": {},
   "source": [
    "# Doctor Joins the Scottish Deanery\n",
    "\n",
    "## Before they can become members of staff they must complete some pre employment checks\n",
    "\n",
    "These include:\n",
    "\n",
    "* Identity Verification (We think the GMC Credential + 1 Physical ID Document provides a strong Level of Assurance)\n",
    "* Right to Work Check\n",
    "* DBS Check\n",
    "* GMC Licence\n",
    "\n",
    "While at the deanery they can complete there compulsory basic training and receive the relevant immunity certificates"
   ]
  },
  {
   "cell_type": "markdown",
   "id": "254b8adf",
   "metadata": {},
   "source": [
    "### Imports"
   ]
  },
  {
   "cell_type": "code",
   "execution_count": 1,
   "id": "946a07e4",
   "metadata": {},
   "outputs": [],
   "source": [
    "from aries_cloudcontroller import AriesAgentController\n",
    "import os\n",
    "from termcolor import colored"
   ]
  },
  {
   "cell_type": "markdown",
   "id": "600fc844",
   "metadata": {},
   "source": [
    "### Initialise the Agent Controller"
   ]
  },
  {
   "cell_type": "code",
   "execution_count": 2,
   "id": "818f49c4",
   "metadata": {},
   "outputs": [
    {
     "name": "stdout",
     "output_type": "stream",
     "text": [
      "Initialising a controller with admin api at http://healthcare-professional-agent:3021 and an api key of MyMedicalAPIKey\n"
     ]
    }
   ],
   "source": [
    "api_key = os.getenv(\"ACAPY_ADMIN_API_KEY\")\n",
    "admin_url = os.getenv(\"ADMIN_URL\")\n",
    "\n",
    "print(f\"Initialising a controller with admin api at {admin_url} and an api key of {api_key}\")\n",
    "agent_controller = AriesAgentController(admin_url,api_key)"
   ]
  },
  {
   "cell_type": "markdown",
   "id": "b3ba975c",
   "metadata": {},
   "source": [
    "### Start a Webhook Server"
   ]
  },
  {
   "cell_type": "code",
   "execution_count": 3,
   "id": "548de8e6",
   "metadata": {},
   "outputs": [
    {
     "name": "stdout",
     "output_type": "stream",
     "text": [
      "Listening for webhooks from agent at http://0.0.0.0:3010\n"
     ]
    }
   ],
   "source": [
    "webhook_port = int(os.getenv(\"WEBHOOK_PORT\"))\n",
    "webhook_host = \"0.0.0.0\"\n",
    "\n",
    "await agent_controller.init_webhook_server(webhook_host, webhook_port)\n",
    "\n",
    "\n",
    "print(f\"Listening for webhooks from agent at http://{webhook_host}:{webhook_port}\")"
   ]
  },
  {
   "cell_type": "markdown",
   "id": "ce6e5036",
   "metadata": {},
   "source": [
    "## Register Agent Event Listeners\n",
    "\n",
    "You can see some examples within the webhook_listeners recipe. Copy any relevant cells across and customise as needed."
   ]
  },
  {
   "cell_type": "code",
   "execution_count": 4,
   "id": "f8fc4640",
   "metadata": {},
   "outputs": [],
   "source": [
    "listeners = []\n",
    "\n",
    "# Receive connection messages\n",
    "def connections_handler(payload):\n",
    "    state = payload['state']\n",
    "    connection_id = payload[\"connection_id\"]\n",
    "    their_role = payload[\"their_role\"]\n",
    "    routing_state = payload[\"routing_state\"]\n",
    "    \n",
    "    print(\"----------------------------------------------------------\")\n",
    "    print(\"Connection Webhook Event Received\")\n",
    "    print(\"Connection ID : \", connection_id)\n",
    "    print(\"State : \", state)\n",
    "    print(\"Routing State : \", routing_state)\n",
    "    print(\"Their Role : \", their_role)\n",
    "    print(\"----------------------------------------------------------\")\n",
    "\n",
    "    if state == \"invitation\":\n",
    "        # Your business logic\n",
    "        print(\"invitation\")\n",
    "    elif state == \"request\":\n",
    "        # Your business logic\n",
    "        print(\"request\")\n",
    "\n",
    "    elif state == \"response\":\n",
    "        # Your business logic\n",
    "        print(\"response\")\n",
    "    elif state == \"active\":\n",
    "        # Your business logic\n",
    "        print(colored(\"Connection ID: {0} is now active.\".format(connection_id), \"green\", attrs=[\"bold\"]))\n",
    "\n",
    "\n",
    "\n",
    "connection_listener = {\n",
    "    \"handler\": connections_handler,\n",
    "    \"topic\": \"connections\"\n",
    "}\n",
    "\n",
    "listeners.append(connection_listener)\n",
    "\n",
    "\n",
    "def prover_proof_handler(payload):\n",
    "    role = payload[\"role\"]\n",
    "    connection_id = payload[\"connection_id\"]\n",
    "    pres_ex_id = payload[\"presentation_exchange_id\"]\n",
    "    state = payload[\"state\"]\n",
    "    print(\"\\n---------------------------------------------------------------------\\n\")\n",
    "    print(\"Handle present-proof\")\n",
    "    print(\"Connection ID : \", connection_id)\n",
    "    print(\"Presentation Exchange ID : \", pres_ex_id)\n",
    "    print(\"Protocol State : \", state)\n",
    "    print(\"Agent Role : \", role)\n",
    "    print(\"Initiator : \", payload[\"initiator\"])\n",
    "    print(\"\\n---------------------------------------------------------------------\\n\")\n",
    "    \n",
    "    \n",
    "    if state == \"request_received\":\n",
    "        presentation_request = payload[\"presentation_request\"]\n",
    "        print(\"Recieved Presentation Object\\n\")\n",
    "        print(presentation_request)\n",
    "        print(\"\\nName : \", presentation_request[\"name\"])\n",
    "        print(\"\\nRequested Attributes - Note the restrictions. These limit the credentials we could respond with\\n\")\n",
    "        print(presentation_request[\"requested_attributes\"])\n",
    "        print(\"\\nThere is also a requested_predicates object, which is empty because we did not request any\")\n",
    "        print(\"\\nAnd as with issue credential we have a nonce, which gives the issuer confidence in the liveness of the presentation\\n\")\n",
    "        print(presentation_request[\"nonce\"])\n",
    "    elif state == \"presentation_sent\":\n",
    "        \n",
    "        print(\"The Presentation object is a bit overwhelming. Let's look at it in detail\\n\")\n",
    "        presentation = payload[\"presentation\"]\n",
    "        \n",
    "        print(\"\\nThe Requested Proof object contains revealed, unrevealed, self-attested and predicate attributes\\n\")\n",
    "        print(presentation[\"requested_proof\"])\n",
    "        print(\"\\nThe revealed attributes contains the raw and encoded version of the scope attribute. As well as an index into the proof object we will look at later.\\n\")\n",
    "        print(presentation[\"requested_proof\"][\"revealed_attrs\"])\n",
    "        \n",
    "        print(\"\\nAll identifiers associated with the presentation\")\n",
    "        print(presentation[\"identifiers\"])\n",
    "        \n",
    "        print(\"\\nThen the Proof object - the crypto bit\\n\")\n",
    "        proof = presentation[\"proof\"]\n",
    "        print(proof)\n",
    "        \n",
    "        print(\"\\nThis contains an array of proofs, one element for each attribute disclosed (I think)\\n\")\n",
    "        print(proof[\"proofs\"])\n",
    "        \n",
    "        print(\"\\nEach proof element contains a primary proof and a proof of non-revocation (which will be empty)\\n\")\n",
    "        proof_elem = proof[\"proofs\"][0]\n",
    "        print(proof_elem)\n",
    "        \n",
    "        print(\"\\nEach primary proof contains an eq_proof, which is where all the numbers are for the crypto proving an attribute disclosed really is equal to the one signed\\n\")\n",
    "        print(proof_elem[\"primary_proof\"][\"eq_proof\"])\n",
    "        \n",
    "        print(\"\\nFinally the proofs are combined into a single aggregated proof object\\n\")\n",
    "        print(proof[\"aggregated_proof\"])\n",
    "        \n",
    "        print(\"\\nNotice again the c_hash, this is the challenge for the non-interactive ZKP proof which is verifying this presentation\\n\")\n",
    "        \n",
    "    \n",
    "        \n",
    "prover_listener = {\n",
    "    \"topic\": \"present_proof\",\n",
    "    \"handler\": prover_proof_handler\n",
    "}\n",
    "\n",
    "listeners.append(prover_listener)\n",
    "\n",
    "def holder_handler(payload):\n",
    "    connection_id = payload['connection_id']\n",
    "    exchange_id = payload['credential_exchange_id']\n",
    "    state = payload['state']\n",
    "    role = payload['role']\n",
    "    print(\"\\n---------------------------------------------------\\n\")\n",
    "    print(\"Handle Issue Credential Webhook\")\n",
    "    print(f\"Connection ID : {connection_id}\")\n",
    "    print(f\"Credential exchange ID : {exchange_id}\")\n",
    "    print(\"Agent Protocol Role : \", role)\n",
    "    print(\"Protocol State : \", state )\n",
    "    print(\"\\n---------------------------------------------------\\n\")\n",
    "    print(\"Handle Credential Webhook Payload\")\n",
    "    \n",
    "    if state == \"offer_received\":\n",
    "        print(\"Credential Offer Recieved\")\n",
    "        proposal = payload[\"credential_proposal_dict\"]\n",
    "        print(\"The proposal dictionary is likely how you would understand and display a credential offer in your application\")\n",
    "        print(\"\\n\", proposal)\n",
    "        print(\"\\n This includes the set of attributes you are being offered\")\n",
    "        attributes = proposal['credential_proposal']['attributes']\n",
    "        print(attributes)\n",
    "        ## YOUR LOGIC HERE\n",
    "    elif state == \"request_sent\":\n",
    "        print(\"\\nA credential request object contains the commitment to the agents master secret using the nonce from the offer\")\n",
    "        ## YOUR LOGIC HERE\n",
    "    elif state == \"credential_received\":\n",
    "        print(\"Received Credential\")\n",
    "        ## YOUR LOGIC HERE\n",
    "    elif state == \"credential_acked\":\n",
    "        ## YOUR LOGIC HERE\n",
    "        credential = payload[\"credential\"]\n",
    "        print(\"Credential Stored\\n\")\n",
    "        \n",
    "        print(\"\\nThe referent acts as the identifier for retrieving the raw credential from the wallet\")\n",
    "        # Note: You would probably save this in your application database\n",
    "        credential_referent = credential[\"referent\"]\n",
    "        print(\"Referent\", credential_referent)\n",
    "    \n",
    "\n",
    "\n",
    "    \n",
    "holder_listener = {\n",
    "    \"topic\": \"issue_credential\",\n",
    "    \"handler\": holder_handler\n",
    "}\n",
    "\n",
    "listeners.append(holder_listener)\n",
    "\n",
    "\n",
    "agent_controller.register_listeners(listeners)"
   ]
  },
  {
   "cell_type": "markdown",
   "id": "7cecfea9",
   "metadata": {},
   "source": [
    "## Connection Made Through Face to Face Meeting (or potentially through website while applying)\n",
    "\n"
   ]
  },
  {
   "cell_type": "code",
   "execution_count": 5,
   "id": "43f554dd",
   "metadata": {},
   "outputs": [],
   "source": [
    "invitation = {'@type': 'did:sov:BzCbsNYhMrjHiqZDTUASHg;spec/connections/1.0/invitation', '@id': 'df28fb0c-b551-45ff-bf1c-1bc912f308ed', 'recipientKeys': ['7tFfaCBc3TK13be9SZSKPTUbyPvhk83SbxGFkCW76LKV'], 'label': 'Scottish Deanery', 'serviceEndpoint': 'https://d90661b25a39.ngrok.io'}\n"
   ]
  },
  {
   "cell_type": "code",
   "execution_count": 6,
   "id": "a935401f",
   "metadata": {},
   "outputs": [
    {
     "name": "stdout",
     "output_type": "stream",
     "text": [
      "----------------------------------------------------------\n",
      "Connection Webhook Event Received\n",
      "Connection ID :  d171486b-d3c1-4631-8dec-e58d70000afd\n",
      "State :  invitation\n",
      "Routing State :  none\n",
      "Their Role :  inviter\n",
      "----------------------------------------------------------\n",
      "invitation\n"
     ]
    }
   ],
   "source": [
    "auto_accept=\"false\"\n",
    "alias=None\n",
    "\n",
    "invite_response = await agent_controller.connections.receive_invitation(invitation, alias, auto_accept)\n",
    "connection_id = invite_response[\"connection_id\"]"
   ]
  },
  {
   "cell_type": "code",
   "execution_count": 7,
   "id": "9ad6a00c",
   "metadata": {},
   "outputs": [
    {
     "name": "stdout",
     "output_type": "stream",
     "text": [
      "----------------------------------------------------------\n",
      "Connection Webhook Event Received\n",
      "Connection ID :  d171486b-d3c1-4631-8dec-e58d70000afd\n",
      "State :  request\n",
      "Routing State :  none\n",
      "Their Role :  inviter\n",
      "----------------------------------------------------------\n",
      "request\n",
      "----------------------------------------------------------\n",
      "Connection Webhook Event Received\n",
      "Connection ID :  d171486b-d3c1-4631-8dec-e58d70000afd\n",
      "State :  response\n",
      "Routing State :  none\n",
      "Their Role :  inviter\n",
      "----------------------------------------------------------\n",
      "response\n",
      "----------------------------------------------------------\n",
      "Connection Webhook Event Received\n",
      "Connection ID :  d171486b-d3c1-4631-8dec-e58d70000afd\n",
      "State :  active\n",
      "Routing State :  none\n",
      "Their Role :  inviter\n",
      "----------------------------------------------------------\n",
      "\u001b[1m\u001b[32mConnection ID: d171486b-d3c1-4631-8dec-e58d70000afd is now active.\u001b[0m\n",
      "\n",
      "---------------------------------------------------------------------\n",
      "\n",
      "Handle present-proof\n",
      "Connection ID :  d171486b-d3c1-4631-8dec-e58d70000afd\n",
      "Presentation Exchange ID :  a9535817-9a11-46e6-86f8-c1aeae6f620f\n",
      "Protocol State :  request_received\n",
      "Agent Role :  prover\n",
      "Initiator :  external\n",
      "\n",
      "---------------------------------------------------------------------\n",
      "\n",
      "Recieved Presentation Object\n",
      "\n",
      "{'name': 'Proof of GMC Licence', 'version': '1.0', 'requested_attributes': {'Base64Image': {'name': 'Base64Image', 'restrictions': [{'schema_id': 'TDAbSf3Uqebg8N4XvybMbg:2:GMC Licence:0.0.1', 'issuer_did': 'TDAbSf3Uqebg8N4XvybMbg'}], 'non_revoked': {'to': 1624471741}}, 'Name': {'name': 'Name', 'restrictions': [{'schema_id': 'TDAbSf3Uqebg8N4XvybMbg:2:GMC Licence:0.0.1', 'issuer_did': 'TDAbSf3Uqebg8N4XvybMbg'}], 'non_revoked': {'to': 1624471741}}, 'GMC Number': {'name': 'GMC Number', 'restrictions': [{'schema_id': 'TDAbSf3Uqebg8N4XvybMbg:2:GMC Licence:0.0.1', 'issuer_did': 'TDAbSf3Uqebg8N4XvybMbg'}], 'non_revoked': {'to': 1624471741}}}, 'requested_predicates': {}, 'nonce': '976739965906901014258574'}\n",
      "\n",
      "Name :  Proof of GMC Licence\n",
      "\n",
      "Requested Attributes - Note the restrictions. These limit the credentials we could respond with\n",
      "\n",
      "{'Base64Image': {'name': 'Base64Image', 'restrictions': [{'schema_id': 'TDAbSf3Uqebg8N4XvybMbg:2:GMC Licence:0.0.1', 'issuer_did': 'TDAbSf3Uqebg8N4XvybMbg'}], 'non_revoked': {'to': 1624471741}}, 'Name': {'name': 'Name', 'restrictions': [{'schema_id': 'TDAbSf3Uqebg8N4XvybMbg:2:GMC Licence:0.0.1', 'issuer_did': 'TDAbSf3Uqebg8N4XvybMbg'}], 'non_revoked': {'to': 1624471741}}, 'GMC Number': {'name': 'GMC Number', 'restrictions': [{'schema_id': 'TDAbSf3Uqebg8N4XvybMbg:2:GMC Licence:0.0.1', 'issuer_did': 'TDAbSf3Uqebg8N4XvybMbg'}], 'non_revoked': {'to': 1624471741}}}\n",
      "\n",
      "There is also a requested_predicates object, which is empty because we did not request any\n",
      "\n",
      "And as with issue credential we have a nonce, which gives the issuer confidence in the liveness of the presentation\n",
      "\n",
      "976739965906901014258574\n"
     ]
    }
   ],
   "source": [
    "# Label for the connection\n",
    "my_label = None\n",
    "# Endpoint you expect to recieve messages at\n",
    "my_endpoint = None\n",
    "\n",
    "accept_response = await agent_controller.connections.accept_invitation(connection_id, my_label, my_endpoint)"
   ]
  },
  {
   "cell_type": "markdown",
   "id": "1ea07230",
   "metadata": {},
   "source": [
    "## Is asked to Present their GMC Credential\n",
    "\n",
    "If online this might simply be proof of non-revoked GMC Number attribute. During a face to face interaction, verifiers may wish to see the photograph within the licence for additional assurance.\n",
    "\n",
    "Before you can present a presentation, you must identify the presentation record which you wish to respond to with a presentation. This could also be done through the present_proof listeners which have access to a presentation record in the payload."
   ]
  },
  {
   "cell_type": "code",
   "execution_count": 11,
   "id": "ce1a8fac",
   "metadata": {},
   "outputs": [],
   "source": [
    "# Optional Query parameters\n",
    "verifier_connection_id = connection_id\n",
    "thread_id=None\n",
    "state = \"request_received\"\n",
    "role = \"prover\"\n",
    "\n",
    "proof_records_response = await agent_controller.proofs.get_records(verifier_connection_id, thread_id, state, role)\n",
    "\n",
    "# We fetch the first record from the response. You may want to customise this further\n",
    "presentation_record = proof_records_response[\"results\"][0]\n",
    "presentation_exchange_id = presentation_record[\"presentation_exchange_id\"]"
   ]
  },
  {
   "cell_type": "markdown",
   "id": "8f65c5c7",
   "metadata": {},
   "source": [
    "## Search For Available Credentials to Construct Presentation From\n",
    "\n",
    "The presentation record can be used to query your agents wallet and return all credentials that could be used to construct valid presentation"
   ]
  },
  {
   "cell_type": "code",
   "execution_count": 12,
   "id": "5781089a",
   "metadata": {},
   "outputs": [
    {
     "name": "stdout",
     "output_type": "stream",
     "text": [
      "Credentials stored that could be used to satisfy the request. In some situations you applications may have a choice which credential to reveal\n",
      "\n",
      "\n",
      "Generate the proof\n"
     ]
    }
   ],
   "source": [
    "# select credentials to provide for the proof\n",
    "credentials = await agent_controller.proofs.get_presentation_credentials(\"a9535817-9a11-46e6-86f8-c1aeae6f620f\")\n",
    "print(\"Credentials stored that could be used to satisfy the request. In some situations you applications may have a choice which credential to reveal\\n\")\n",
    "# print(credentials)\n",
    "\n",
    "credentials_by_reft = {}\n",
    "revealed = {}\n",
    "self_attested = {}\n",
    "predicates = {}\n",
    "\n",
    "\n",
    "# Note we are working on a friendlier api to abstract this away\n",
    "\n",
    "if credentials:\n",
    "    for credential in credentials:\n",
    "\n",
    "        for attribute_name in credential[\"presentation_referents\"]:\n",
    "            if attribute_name not in credentials_by_reft:\n",
    "                credentials_by_reft[attribute_name] = credential\n",
    "\n",
    "for (key, value) in credentials_by_reft.items():\n",
    "    print(f\"Attribute {key} can be satisfied by Credential with Referent {value['cred_info']['referent']}\")\n",
    "                \n",
    "for attribute_name in presentation_record[\"presentation_request\"][\"requested_attributes\"]:\n",
    "    if attribute_name in credentials_by_reft:\n",
    "        revealed[attribute_name] = {\n",
    "            \"cred_id\": credentials_by_reft[attribute_name][\"cred_info\"][\n",
    "                \"referent\"\n",
    "            ],\n",
    "            \"revealed\": True,\n",
    "        }\n",
    "\n",
    "\n",
    "print(\"\\nGenerate the proof\")\n",
    "presentation = {\n",
    "    \"requested_predicates\": predicates,\n",
    "    \"requested_attributes\": revealed,\n",
    "    \"self_attested_attributes\": self_attested,\n",
    "}"
   ]
  },
  {
   "cell_type": "markdown",
   "id": "29e17e78",
   "metadata": {},
   "source": [
    "## Send Presentation of GMC Licence Attributes\n",
    "\n",
    "A presentation is sent in represent to a presentation record that has previously been created."
   ]
  },
  {
   "cell_type": "code",
   "execution_count": null,
   "id": "f69013aa",
   "metadata": {},
   "outputs": [],
   "source": [
    "presentation_response = await agent_controller.proofs.send_presentation(presentation_exchange_id, presentation)"
   ]
  },
  {
   "cell_type": "markdown",
   "id": "cef6ca32",
   "metadata": {},
   "source": [
    "# Complete Right to Work Check"
   ]
  },
  {
   "cell_type": "markdown",
   "id": "0b40719f",
   "metadata": {},
   "source": [
    "## Receive Evidence of Successful Right to Work Check\n",
    "\n",
    "Now you should have an established, active connection you can write any custom logic you want to engage with protocols with the connection"
   ]
  },
  {
   "cell_type": "code",
   "execution_count": null,
   "id": "b1ee40d6",
   "metadata": {},
   "outputs": [],
   "source": [
    "issuer_connection_id = connection_id\n",
    "thread_id=None\n",
    "state = \"offer_received\"\n",
    "role = \"prover\"\n",
    "\n",
    "\n",
    "records_response = await agent_controller.issuer.get_records(state=state)\n",
    "rtw_record = records_response[\"results\"][0]\n",
    "rtw_record_id = rtw_record[\"credential_exchange_id\"]"
   ]
  },
  {
   "cell_type": "code",
   "execution_count": null,
   "id": "ffd669fc",
   "metadata": {},
   "outputs": [],
   "source": [
    "\n",
    "for attribute in rtw_record['credential_proposal_dict']['credential_proposal']['attributes']:\n",
    "\n",
    "    print(\"Arribute Offered\")\n",
    "    print(f\"{attribute['name']}:{attribute['value']}\")"
   ]
  },
  {
   "cell_type": "code",
   "execution_count": null,
   "id": "7ddf0e47",
   "metadata": {},
   "outputs": [],
   "source": [
    "rtw_response = await agent_controller.issuer.send_request_for_record(rtw_record_id)"
   ]
  },
  {
   "cell_type": "code",
   "execution_count": null,
   "id": "b74c8923",
   "metadata": {},
   "outputs": [],
   "source": [
    "# Optionally specify an identifier to uniquely identify this credential within your agents wallet.\n",
    "# You would likely want to save this somewhere.\n",
    "# If not set a random one will be generated for you\n",
    "credential_id = \"RTW\"\n",
    "\n",
    "store_cred_response = await agent_controller.issuer.store_credential(rtw_record_id, credential_id)"
   ]
  },
  {
   "cell_type": "markdown",
   "id": "2099bea3",
   "metadata": {},
   "source": [
    "# Complete DBS Check\n",
    "\n",
    "Likely this is done async by the Scottish Deanery and could be issued on successful completion."
   ]
  },
  {
   "cell_type": "markdown",
   "id": "3429b3fb",
   "metadata": {},
   "source": [
    "## Receive Evidence of Successful DBS Check"
   ]
  },
  {
   "cell_type": "code",
   "execution_count": null,
   "id": "ec1b2c5a",
   "metadata": {},
   "outputs": [],
   "source": [
    "issuer_connection_id = connection_id\n",
    "thread_id=None\n",
    "state = \"offer_received\"\n",
    "role = \"prover\"\n",
    "\n",
    "\n",
    "records_response = await agent_controller.issuer.get_records(state=state)\n",
    "dbs_record = records_response[\"results\"][0]\n",
    "dbs_record_id = dbs_record[\"credential_exchange_id\"]"
   ]
  },
  {
   "cell_type": "code",
   "execution_count": null,
   "id": "0beefce0",
   "metadata": {
    "tags": []
   },
   "outputs": [],
   "source": [
    "\n",
    "for attribute in dbs_record['credential_proposal_dict']['credential_proposal']['attributes']:\n",
    "\n",
    "    print(\"Arribute Offered\")\n",
    "    print(f\"{attribute['name']}:{attribute['value']}\")"
   ]
  },
  {
   "cell_type": "code",
   "execution_count": null,
   "id": "521b4706",
   "metadata": {},
   "outputs": [],
   "source": [
    "dbs_response = await agent_controller.issuer.send_request_for_record(dbs_record_id)"
   ]
  },
  {
   "cell_type": "code",
   "execution_count": null,
   "id": "307b6ef3",
   "metadata": {},
   "outputs": [],
   "source": [
    "# Optionally specify an identifier to uniquely identify this credential within your agents wallet.\n",
    "# You would likely want to save this somewhere.\n",
    "# If not set a random one will be generated for you\n",
    "credential_id = \"DBS Check\"\n",
    "\n",
    "store_cred_response = await agent_controller.issuer.store_credential(dbs_record_id, credential_id)"
   ]
  },
  {
   "cell_type": "markdown",
   "id": "dfcd5084",
   "metadata": {},
   "source": [
    "# Receive Necessary Immunisations\n",
    "\n",
    "These may arranged through the Deanery, but would likely be done by a different entity. Perhaps the Deanery is just responsible for providing digital credential attesting to the immunisations"
   ]
  },
  {
   "cell_type": "markdown",
   "id": "76ce7345",
   "metadata": {},
   "source": [
    "## Receive Immunity Certificate\n",
    "\n",
    "Note the data in the certificate is currently held within a single JSON attribute"
   ]
  },
  {
   "cell_type": "code",
   "execution_count": null,
   "id": "7582bdea",
   "metadata": {
    "tags": []
   },
   "outputs": [],
   "source": [
    "issuer_connection_id = connection_id\n",
    "thread_id=None\n",
    "state = \"offer_received\"\n",
    "role = \"prover\"\n",
    "\n",
    "\n",
    "records_response = await agent_controller.issuer.get_records(state=state)\n",
    "ic_record = records_response[\"results\"][0]\n",
    "ic_record_id = ic_record[\"credential_exchange_id\"]"
   ]
  },
  {
   "cell_type": "code",
   "execution_count": null,
   "id": "80bbaf0f",
   "metadata": {
    "tags": []
   },
   "outputs": [],
   "source": [
    "\n",
    "for attribute in ic_record['credential_proposal_dict']['credential_proposal']['attributes']:\n",
    "\n",
    "    print(\"Arribute Offered\")\n",
    "    print(f\"{attribute['name']}:{attribute['value']}\")"
   ]
  },
  {
   "cell_type": "code",
   "execution_count": null,
   "id": "f491f8cb",
   "metadata": {},
   "outputs": [],
   "source": [
    "dbs_response = await agent_controller.issuer.send_request_for_record(ic_record_id)"
   ]
  },
  {
   "cell_type": "code",
   "execution_count": null,
   "id": "2747aebf",
   "metadata": {},
   "outputs": [],
   "source": [
    "# Optionally specify an identifier to uniquely identify this credential within your agents wallet.\n",
    "# You would likely want to save this somewhere.\n",
    "# If not set a random one will be generated for you\n",
    "credential_id = \"Immunity Certificate\"\n",
    "\n",
    "store_cred_response = await agent_controller.issuer.store_credential(ic_record_id, credential_id)"
   ]
  },
  {
   "cell_type": "markdown",
   "id": "795d8eb2",
   "metadata": {},
   "source": [
    "# Complete Compulsory Basic Training\n",
    "\n",
    "Typical onboarding into the NHS, often repetitive. This would provide generic training to all healthcare professionals, that they would be able to prove they have completed so that individual organisations only need to cover specific nuances of their assignment\n",
    "\n",
    "Whether the Deanery is the ideal issuer of this information would need to be figured out within the organisations.\n",
    "\n",
    "Note, perhaps this is as simple as completing an online set of videos"
   ]
  },
  {
   "cell_type": "markdown",
   "id": "78cd0903",
   "metadata": {},
   "source": [
    "## Receive CBT Certificate\n",
    "\n",
    "Note the data in the certificate is currently held within a single JSON attribute"
   ]
  },
  {
   "cell_type": "code",
   "execution_count": null,
   "id": "d7088a69",
   "metadata": {
    "tags": []
   },
   "outputs": [],
   "source": [
    "issuer_connection_id = connection_id\n",
    "thread_id=None\n",
    "state = \"offer_received\"\n",
    "role = \"prover\"\n",
    "\n",
    "\n",
    "records_response = await agent_controller.issuer.get_records(state=state)\n",
    "cbt_record = records_response[\"results\"][0]\n",
    "cbt_record_id = cbt_record[\"credential_exchange_id\"]"
   ]
  },
  {
   "cell_type": "code",
   "execution_count": null,
   "id": "60abd619",
   "metadata": {
    "tags": []
   },
   "outputs": [],
   "source": [
    "\n",
    "for attribute in cbt_record['credential_proposal_dict']['credential_proposal']['attributes']:\n",
    "\n",
    "    print(\"Arribute Offered\")\n",
    "    print(f\"{attribute['name']}:{attribute['value']}\")"
   ]
  },
  {
   "cell_type": "code",
   "execution_count": null,
   "id": "eb58c9b4",
   "metadata": {},
   "outputs": [],
   "source": [
    "dbs_response = await agent_controller.issuer.send_request_for_record(cbt_record_id)"
   ]
  },
  {
   "cell_type": "code",
   "execution_count": null,
   "id": "5b831fc2",
   "metadata": {},
   "outputs": [],
   "source": [
    "# Optionally specify an identifier to uniquely identify this credential within your agents wallet.\n",
    "# You would likely want to save this somewhere.\n",
    "# If not set a random one will be generated for you\n",
    "credential_id = \"CBT Certificate\"\n",
    "\n",
    "store_cred_response = await agent_controller.issuer.store_credential(cbt_record_id, credential_id)"
   ]
  },
  {
   "cell_type": "markdown",
   "id": "bd5745aa",
   "metadata": {},
   "source": [
    "## Let's Look at the Credentials this Junior Doctor has in their Wallet now"
   ]
  },
  {
   "cell_type": "code",
   "execution_count": null,
   "id": "74300d75",
   "metadata": {},
   "outputs": [],
   "source": [
    "response = await agent_controller.credentials.get_all()\n",
    "for credential in response[\"results\"]:\n",
    "    print(\"-\"*40)\n",
    "    print(f\"Credential - {credential['referent']} \\n \")\n",
    "    print(\"-\"*40)\n",
    "    print(\"Attributes \\n\")\n",
    "    for (key, val) in credential[\"attrs\"].items():\n",
    "        print(f\"Attribute Name : {key}\")\n",
    "        if key == \"Base64Image\":\n",
    "            print(\"Value : Some large base64 image string\")\n",
    "        else:\n",
    "            print(f\"Value : {val} \\n\")\n",
    "        "
   ]
  },
  {
   "cell_type": "markdown",
   "id": "31c08d3d",
   "metadata": {
    "tags": []
   },
   "source": [
    "## Terminate Controller\n",
    "\n",
    "Whenever you have finished with this notebook, be sure to terminate the controller. This is especially important if your business logic runs across multiple notebooks."
   ]
  },
  {
   "cell_type": "code",
   "execution_count": null,
   "id": "4d39afe8",
   "metadata": {},
   "outputs": [],
   "source": [
    "await agent_controller.terminate()"
   ]
  },
  {
   "cell_type": "code",
   "execution_count": null,
   "id": "dd8d88bc",
   "metadata": {},
   "outputs": [],
   "source": []
  }
 ],
 "metadata": {
  "kernelspec": {
   "display_name": "Python 3",
   "language": "python",
   "name": "python3"
  },
  "language_info": {
   "codemirror_mode": {
    "name": "ipython",
    "version": 3
   },
   "file_extension": ".py",
   "mimetype": "text/x-python",
   "name": "python",
   "nbconvert_exporter": "python",
   "pygments_lexer": "ipython3",
   "version": "3.7.6"
  }
 },
 "nbformat": 4,
 "nbformat_minor": 5
}
