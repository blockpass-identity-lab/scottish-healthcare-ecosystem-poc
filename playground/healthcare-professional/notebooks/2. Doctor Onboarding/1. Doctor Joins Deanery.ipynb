{
 "cells": [
  {
   "cell_type": "markdown",
   "id": "d35ea2cb",
   "metadata": {},
   "source": [
    "# Doctor Joins the Scottish Deanery\n",
    "\n",
    "## Before they can become members of staff they must complete some pre employment checks\n",
    "\n",
    "These include:\n",
    "\n",
    "* Identity Verification (We think the GMC Credential + 1 Physical ID Document provides a strong Level of Assurance)\n",
    "* Right to Work Check\n",
    "* DBS Check\n",
    "* GMC Licence\n",
    "\n",
    "While at the deanery they can complete there compulsory basic training and receive the relevant immunity certificates"
   ]
  },
  {
   "cell_type": "markdown",
   "id": "9fdfa0f8",
   "metadata": {},
   "source": [
    "### Imports"
   ]
  },
  {
   "cell_type": "code",
   "execution_count": 1,
   "id": "590c3a37",
   "metadata": {},
   "outputs": [],
   "source": [
    "from aries_cloudcontroller import AriesAgentController\n",
    "import os\n",
    "from termcolor import colored"
   ]
  },
  {
   "cell_type": "markdown",
   "id": "db1a6685",
   "metadata": {},
   "source": [
    "### Initialise the Agent Controller"
   ]
  },
  {
   "cell_type": "code",
   "execution_count": 2,
   "id": "ae0254d5",
   "metadata": {},
   "outputs": [
    {
     "name": "stdout",
     "output_type": "stream",
     "text": [
      "Initialising a controller with admin api at http://healthcare-professional-agent:3021 and an api key of MyMedicalAPIKey\n"
     ]
    }
   ],
   "source": [
    "api_key = os.getenv(\"ACAPY_ADMIN_API_KEY\")\n",
    "admin_url = os.getenv(\"ADMIN_URL\")\n",
    "\n",
    "print(f\"Initialising a controller with admin api at {admin_url} and an api key of {api_key}\")\n",
    "agent_controller = AriesAgentController(admin_url,api_key)"
   ]
  },
  {
   "cell_type": "markdown",
   "id": "1afa4073",
   "metadata": {},
   "source": [
    "### Start a Webhook Server"
   ]
  },
  {
   "cell_type": "code",
   "execution_count": 3,
   "id": "76f5e692",
   "metadata": {},
   "outputs": [
    {
     "name": "stdout",
     "output_type": "stream",
     "text": [
      "Listening for webhooks from agent at http://0.0.0.0:3010\n"
     ]
    }
   ],
   "source": [
    "webhook_port = int(os.getenv(\"WEBHOOK_PORT\"))\n",
    "webhook_host = \"0.0.0.0\"\n",
    "\n",
    "await agent_controller.init_webhook_server(webhook_host, webhook_port)\n",
    "\n",
    "\n",
    "print(f\"Listening for webhooks from agent at http://{webhook_host}:{webhook_port}\")"
   ]
  },
  {
   "cell_type": "markdown",
   "id": "34b4837c",
   "metadata": {},
   "source": [
    "## Register Agent Event Listeners\n",
    "\n",
    "You can see some examples within the webhook_listeners recipe. Copy any relevant cells across and customise as needed."
   ]
  },
  {
   "cell_type": "code",
   "execution_count": 4,
   "id": "e5624038",
   "metadata": {},
   "outputs": [],
   "source": [
    "listeners = []\n",
    "\n",
    "# Receive connection messages\n",
    "def connections_handler(payload):\n",
    "    state = payload['state']\n",
    "    connection_id = payload[\"connection_id\"]\n",
    "    their_role = payload[\"their_role\"]\n",
    "    routing_state = payload[\"routing_state\"]\n",
    "    \n",
    "    print(\"----------------------------------------------------------\")\n",
    "    print(\"Connection Webhook Event Received\")\n",
    "    print(\"Connection ID : \", connection_id)\n",
    "    print(\"State : \", state)\n",
    "    print(\"Routing State : \", routing_state)\n",
    "    print(\"Their Role : \", their_role)\n",
    "    print(\"----------------------------------------------------------\")\n",
    "\n",
    "    if state == \"invitation\":\n",
    "        # Your business logic\n",
    "        print(\"invitation\")\n",
    "    elif state == \"request\":\n",
    "        # Your business logic\n",
    "        print(\"request\")\n",
    "\n",
    "    elif state == \"response\":\n",
    "        # Your business logic\n",
    "        print(\"response\")\n",
    "    elif state == \"active\":\n",
    "        # Your business logic\n",
    "        print(colored(\"Connection ID: {0} is now active.\".format(connection_id), \"green\", attrs=[\"bold\"]))\n",
    "\n",
    "\n",
    "\n",
    "connection_listener = {\n",
    "    \"handler\": connections_handler,\n",
    "    \"topic\": \"connections\"\n",
    "}\n",
    "\n",
    "listeners.append(connection_listener)\n",
    "\n",
    "\n",
    "def prover_proof_handler(payload):\n",
    "    role = payload[\"role\"]\n",
    "    connection_id = payload[\"connection_id\"]\n",
    "    pres_ex_id = payload[\"presentation_exchange_id\"]\n",
    "    state = payload[\"state\"]\n",
    "    print(\"\\n---------------------------------------------------------------------\\n\")\n",
    "    print(\"Handle present-proof\")\n",
    "    print(\"Connection ID : \", connection_id)\n",
    "    print(\"Presentation Exchange ID : \", pres_ex_id)\n",
    "    print(\"Protocol State : \", state)\n",
    "    print(\"Agent Role : \", role)\n",
    "    print(\"Initiator : \", payload[\"initiator\"])\n",
    "    print(\"\\n---------------------------------------------------------------------\\n\")\n",
    "    \n",
    "    \n",
    "    if state == \"request_received\":\n",
    "        presentation_request = payload[\"presentation_request\"]\n",
    "        print(\"Recieved Presentation Request\\n\")\n",
    "        print(\"\\nRequested Attributes - Note the restrictions. These limit the credentials we could respond with\\n\")\n",
    "        print(presentation_request[\"requested_attributes\"])\n",
    "    elif state == \"presentation_sent\":\n",
    "        print(\"The Presentation object is a bit overwhelming. Let's look at it in detail\\n\")\n",
    "        \n",
    "    elif state == \"presentation_acked\":\n",
    "        print(\"Presentation has been acknowledged by the Issuer\")\n",
    "        \n",
    "prover_listener = {\n",
    "    \"topic\": \"present_proof\",\n",
    "    \"handler\": prover_proof_handler\n",
    "}\n",
    "\n",
    "listeners.append(prover_listener)\n",
    "\n",
    "\n",
    "agent_controller.register_listeners(listeners)"
   ]
  },
  {
   "cell_type": "markdown",
   "id": "049fca66",
   "metadata": {},
   "source": [
    "## Accept Invitation\n",
    "\n",
    "Copy an invitation object from another agent playing the role inviter (see the inviter_template recipe)"
   ]
  },
  {
   "cell_type": "code",
   "execution_count": 5,
   "id": "f7b4b045",
   "metadata": {},
   "outputs": [],
   "source": [
    "invitation = {'@type': 'did:sov:BzCbsNYhMrjHiqZDTUASHg;spec/connections/1.0/invitation', '@id': '5c322c3e-dddd-4711-82d4-d51b8adf7732', 'label': 'Scottish Deanery', 'recipientKeys': ['BnPZDJQPvd1ngtBfZ3HDsPmQ24sdeZ7ZemyDu73hTavf'], 'serviceEndpoint': 'https://136f0239772c.ngrok.io'}\n",
    "\n"
   ]
  },
  {
   "cell_type": "code",
   "execution_count": 6,
   "id": "da7b8fe3",
   "metadata": {},
   "outputs": [
    {
     "name": "stdout",
     "output_type": "stream",
     "text": [
      "----------------------------------------------------------\n",
      "Connection Webhook Event Received\n",
      "Connection ID :  1f9c9783-ca0d-41be-9672-2845b2c8f0e6\n",
      "State :  invitation\n",
      "Routing State :  none\n",
      "Their Role :  inviter\n",
      "----------------------------------------------------------\n",
      "invitation\n"
     ]
    }
   ],
   "source": [
    "auto_accept=\"false\"\n",
    "alias=None\n",
    "\n",
    "invite_response = await agent_controller.connections.receive_invitation(invitation, alias, auto_accept)\n",
    "connection_id = invite_response[\"connection_id\"]"
   ]
  },
  {
   "cell_type": "code",
   "execution_count": 7,
   "id": "567df43a",
   "metadata": {},
   "outputs": [
    {
     "name": "stdout",
     "output_type": "stream",
     "text": [
      "----------------------------------------------------------\n",
      "Connection Webhook Event Received\n",
      "Connection ID :  1f9c9783-ca0d-41be-9672-2845b2c8f0e6\n",
      "State :  request\n",
      "Routing State :  none\n",
      "Their Role :  inviter\n",
      "----------------------------------------------------------\n",
      "request\n",
      "----------------------------------------------------------\n",
      "Connection Webhook Event Received\n",
      "Connection ID :  1f9c9783-ca0d-41be-9672-2845b2c8f0e6\n",
      "State :  response\n",
      "Routing State :  none\n",
      "Their Role :  inviter\n",
      "----------------------------------------------------------\n",
      "response\n",
      "----------------------------------------------------------\n",
      "Connection Webhook Event Received\n",
      "Connection ID :  1f9c9783-ca0d-41be-9672-2845b2c8f0e6\n",
      "State :  active\n",
      "Routing State :  none\n",
      "Their Role :  inviter\n",
      "----------------------------------------------------------\n",
      "\u001b[1m\u001b[32mConnection ID: 1f9c9783-ca0d-41be-9672-2845b2c8f0e6 is now active.\u001b[0m\n",
      "\n",
      "---------------------------------------------------------------------\n",
      "\n",
      "Handle present-proof\n",
      "Connection ID :  1f9c9783-ca0d-41be-9672-2845b2c8f0e6\n",
      "Presentation Exchange ID :  4583c932-2f5f-4cf0-9b98-5f92dd44577a\n",
      "Protocol State :  request_received\n",
      "Agent Role :  prover\n",
      "Initiator :  external\n",
      "\n",
      "---------------------------------------------------------------------\n",
      "\n",
      "Recieved Presentation Request\n",
      "\n",
      "\n",
      "Requested Attributes - Note the restrictions. These limit the credentials we could respond with\n",
      "\n",
      "{'Headshot': {'name': 'Headshot', 'restrictions': [{'schema_id': 'TDAbSf3Uqebg8N4XvybMbg:2:GMC Licence:0.0.1', 'issuer_did': 'TDAbSf3Uqebg8N4XvybMbg'}], 'non_revoked': {'to': 1622131602}}, 'Name': {'name': 'Name', 'restrictions': [{'schema_id': 'TDAbSf3Uqebg8N4XvybMbg:2:GMC Licence:0.0.1', 'issuer_did': 'TDAbSf3Uqebg8N4XvybMbg'}], 'non_revoked': {'to': 1622131602}}, 'GMC Number': {'name': 'GMC Number', 'restrictions': [{'schema_id': 'TDAbSf3Uqebg8N4XvybMbg:2:GMC Licence:0.0.1', 'issuer_did': 'TDAbSf3Uqebg8N4XvybMbg'}], 'non_revoked': {'to': 1622131602}}}\n"
     ]
    }
   ],
   "source": [
    "# Label for the connection\n",
    "my_label = None\n",
    "# Endpoint you expect to recieve messages at\n",
    "my_endpoint = None\n",
    "\n",
    "accept_response = await agent_controller.connections.accept_invitation(connection_id, my_label, my_endpoint)"
   ]
  },
  {
   "cell_type": "markdown",
   "id": "cc97ea82",
   "metadata": {},
   "source": [
    "## Fetch Presentation Records\n",
    "\n",
    "Before you can present a presentation, you must identify the presentation record which you wish to respond to with a presentation. This could also be done through the present_proof listeners which have access to a presentation record in the payload."
   ]
  },
  {
   "cell_type": "code",
   "execution_count": 8,
   "id": "c1e535c6",
   "metadata": {},
   "outputs": [],
   "source": [
    "# Optional Query parameters\n",
    "verifier_connection_id = connection_id\n",
    "thread_id=None\n",
    "state = \"request_received\"\n",
    "role = \"prover\"\n",
    "\n",
    "proof_records_response = await agent_controller.proofs.get_records(verifier_connection_id, thread_id, state, role)\n",
    "\n",
    "# We fetch the first record from the response. You may want to customise this further\n",
    "presentation_record = proof_records_response[\"results\"][0]\n",
    "presentation_exchange_id = presentation_record[\"presentation_exchange_id\"]"
   ]
  },
  {
   "cell_type": "markdown",
   "id": "2f3712c5",
   "metadata": {},
   "source": [
    "## Search For Available Credentials to Construct Presentation From\n",
    "\n",
    "The presentation record can be used to query your agents wallet and return all credentials that could be used to construct valid presentation"
   ]
  },
  {
   "cell_type": "code",
   "execution_count": 9,
   "id": "b6b0f7da",
   "metadata": {},
   "outputs": [
    {
     "name": "stdout",
     "output_type": "stream",
     "text": [
      "Credentials stored that could be used to satisfy the request. In some situations you applications may have a choice which credential to reveal\n",
      "\n",
      "Attribute GMC Number can be satisfied by Credential with Referent GMC\n",
      "Attribute Name can be satisfied by Credential with Referent GMC\n",
      "Attribute Headshot can be satisfied by Credential with Referent GMC\n",
      "\n",
      "Generate the proof\n"
     ]
    }
   ],
   "source": [
    "# select credentials to provide for the proof\n",
    "credentials = await agent_controller.proofs.get_presentation_credentials(presentation_exchange_id)\n",
    "print(\"Credentials stored that could be used to satisfy the request. In some situations you applications may have a choice which credential to reveal\\n\")\n",
    "# print(credentials)\n",
    "\n",
    "credentials_by_reft = {}\n",
    "revealed = {}\n",
    "self_attested = {}\n",
    "predicates = {}\n",
    "\n",
    "\n",
    "# Note we are working on a friendlier api to abstract this away\n",
    "\n",
    "if credentials:\n",
    "    for credential in credentials:\n",
    "\n",
    "        for attribute_name in credential[\"presentation_referents\"]:\n",
    "            if attribute_name not in credentials_by_reft:\n",
    "                credentials_by_reft[attribute_name] = credential\n",
    "\n",
    "for (key, value) in credentials_by_reft.items():\n",
    "    print(f\"Attribute {key} can be satisfied by Credential with Referent {value['cred_info']['referent']}\")\n",
    "                \n",
    "for attribute_name in presentation_record[\"presentation_request\"][\"requested_attributes\"]:\n",
    "    if attribute_name in credentials_by_reft:\n",
    "        revealed[attribute_name] = {\n",
    "            \"cred_id\": credentials_by_reft[attribute_name][\"cred_info\"][\n",
    "                \"referent\"\n",
    "            ],\n",
    "            \"revealed\": True,\n",
    "        }\n",
    "\n",
    "\n",
    "print(\"\\nGenerate the proof\")\n",
    "presentation = {\n",
    "    \"requested_predicates\": predicates,\n",
    "    \"requested_attributes\": revealed,\n",
    "    \"self_attested_attributes\": self_attested,\n",
    "}"
   ]
  },
  {
   "cell_type": "markdown",
   "id": "fe9e3b96",
   "metadata": {},
   "source": [
    "## Send Presentation of GMC Licence Attributes\n",
    "\n",
    "A presentation is sent in represent to a presentation record that has previously been created."
   ]
  },
  {
   "cell_type": "code",
   "execution_count": 10,
   "id": "742f06e7",
   "metadata": {},
   "outputs": [
    {
     "name": "stdout",
     "output_type": "stream",
     "text": [
      "\n",
      "---------------------------------------------------------------------\n",
      "\n",
      "Handle present-proof\n",
      "Connection ID :  1f9c9783-ca0d-41be-9672-2845b2c8f0e6\n",
      "Presentation Exchange ID :  4583c932-2f5f-4cf0-9b98-5f92dd44577a\n",
      "Protocol State :  presentation_sent\n",
      "Agent Role :  prover\n",
      "Initiator :  external\n",
      "\n",
      "---------------------------------------------------------------------\n",
      "\n",
      "The Presentation object is a bit overwhelming. Let's look at it in detail\n",
      "\n"
     ]
    }
   ],
   "source": [
    "presentation_response = await agent_controller.proofs.send_presentation(presentation_exchange_id, presentation)"
   ]
  },
  {
   "cell_type": "markdown",
   "id": "d63ff7e4",
   "metadata": {},
   "source": [
    "## Your Own Business Logic\n",
    "\n",
    "Now you should have an established, active connection you can write any custom logic you want to engage with protocols with the connection"
   ]
  },
  {
   "cell_type": "code",
   "execution_count": null,
   "id": "d705e9f6",
   "metadata": {},
   "outputs": [],
   "source": [
    "## Custom Logic"
   ]
  },
  {
   "cell_type": "code",
   "execution_count": null,
   "id": "ce62de85",
   "metadata": {},
   "outputs": [],
   "source": []
  },
  {
   "cell_type": "code",
   "execution_count": null,
   "id": "ef421a8d",
   "metadata": {},
   "outputs": [],
   "source": []
  },
  {
   "cell_type": "markdown",
   "id": "8abab540",
   "metadata": {},
   "source": [
    "## Terminate Controller\n",
    "\n",
    "Whenever you have finished with this notebook, be sure to terminate the controller. This is especially important if your business logic runs across multiple notebooks."
   ]
  },
  {
   "cell_type": "code",
   "execution_count": null,
   "id": "4ddb9011",
   "metadata": {},
   "outputs": [],
   "source": [
    "await agent_controller.terminate()"
   ]
  }
 ],
 "metadata": {
  "kernelspec": {
   "display_name": "Python 3",
   "language": "python",
   "name": "python3"
  },
  "language_info": {
   "codemirror_mode": {
    "name": "ipython",
    "version": 3
   },
   "file_extension": ".py",
   "mimetype": "text/x-python",
   "name": "python",
   "nbconvert_exporter": "python",
   "pygments_lexer": "ipython3",
   "version": "3.7.6"
  }
 },
 "nbformat": 4,
 "nbformat_minor": 5
}
