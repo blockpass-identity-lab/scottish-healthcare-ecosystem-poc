{
 "cells": [
  {
   "cell_type": "markdown",
   "id": "190b86e5",
   "metadata": {},
   "source": [
    "# Medic Attends and Completes Medical School\n",
    "\n",
    "## As a result they are issued with a Primary Medical Qualification\n",
    "\n",
    "Note for the time being we are modelling the medic as an ACA-Py agent although a more realistic scenario would use a mobile wallet."
   ]
  },
  {
   "cell_type": "markdown",
   "id": "12097309",
   "metadata": {},
   "source": [
    "### Imports"
   ]
  },
  {
   "cell_type": "code",
   "execution_count": 1,
   "id": "849e3117",
   "metadata": {},
   "outputs": [],
   "source": [
    "from aries_cloudcontroller import AriesAgentController\n",
    "import os\n",
    "from termcolor import colored"
   ]
  },
  {
   "cell_type": "markdown",
   "id": "6908daa9",
   "metadata": {},
   "source": [
    "### Initialise the Agent Controller"
   ]
  },
  {
   "cell_type": "code",
   "execution_count": 2,
   "id": "179613e4",
   "metadata": {},
   "outputs": [
    {
     "name": "stdout",
     "output_type": "stream",
     "text": [
      "Initialising a controller with admin api at http://medic-agent:3021 and an api key of MyMedicalAPIKey\n"
     ]
    }
   ],
   "source": [
    "api_key = os.getenv(\"ACAPY_ADMIN_API_KEY\")\n",
    "admin_url = os.getenv(\"ADMIN_URL\")\n",
    "\n",
    "print(f\"Initialising a controller with admin api at {admin_url} and an api key of {api_key}\")\n",
    "agent_controller = AriesAgentController(admin_url,api_key)"
   ]
  },
  {
   "cell_type": "markdown",
   "id": "4ab00a22",
   "metadata": {},
   "source": [
    "### Start a Webhook Server"
   ]
  },
  {
   "cell_type": "code",
   "execution_count": 3,
   "id": "d76dbad9",
   "metadata": {},
   "outputs": [
    {
     "name": "stdout",
     "output_type": "stream",
     "text": [
      "Listening for webhooks from agent at http://0.0.0.0:3010\n"
     ]
    }
   ],
   "source": [
    "webhook_port = os.getenv(\"WEBHOOK_PORT\")\n",
    "webhook_host = \"0.0.0.0\"\n",
    "\n",
    "agent_controller.init_webhook_server(webhook_host, webhook_port)\n",
    "await agent_controller.listen_webhooks()\n",
    "\n",
    "print(f\"Listening for webhooks from agent at http://{webhook_host}:{webhook_port}\")"
   ]
  },
  {
   "cell_type": "markdown",
   "id": "2afb6ba3",
   "metadata": {},
   "source": [
    "## Register Agent Event Listeners\n",
    "\n",
    "You can see some examples within the webhook_listeners recipe. Copy any relevant cells across and customise as needed."
   ]
  },
  {
   "cell_type": "code",
   "execution_count": 4,
   "id": "b033ecdb",
   "metadata": {},
   "outputs": [],
   "source": [
    "listeners = []"
   ]
  },
  {
   "cell_type": "code",
   "execution_count": 5,
   "id": "6caf2f9e",
   "metadata": {},
   "outputs": [],
   "source": [
    "## YOUR LISTENERS HERE\n",
    "def holder_handler(payload):\n",
    "    connection_id = payload['connection_id']\n",
    "    exchange_id = payload['credential_exchange_id']\n",
    "    state = payload['state']\n",
    "    role = payload['role']\n",
    "    print(\"\\n---------------------------------------------------\\n\")\n",
    "    print(\"Handle Issue Credential Webhook\")\n",
    "    print(f\"Connection ID : {connection_id}\")\n",
    "    print(f\"Credential exchange ID : {exchange_id}\")\n",
    "    print(\"Agent Protocol Role : \", role)\n",
    "    print(\"Protocol State : \", state )\n",
    "    print(\"\\n---------------------------------------------------\\n\")\n",
    "    print(\"Handle Credential Webhook Payload\")\n",
    "    \n",
    "    if state == \"offer_received\":\n",
    "        print(\"Credential Offer Recieved\")\n",
    "        proposal = payload[\"credential_proposal_dict\"]\n",
    "        print(\"The proposal dictionary is likely how you would understand and display a credential offer in your application\")\n",
    "        print(\"\\n\", proposal)\n",
    "        print(\"\\n This includes the set of attributes you are being offered\")\n",
    "        attributes = proposal['credential_proposal']['attributes']\n",
    "        print(attributes)\n",
    "        ## YOUR LOGIC HERE\n",
    "    elif state == \"request_sent\":\n",
    "        print(\"\\nA credential request object contains the commitment to the agents master secret using the nonce from the offer\")\n",
    "        ## YOUR LOGIC HERE\n",
    "    elif state == \"credential_received\":\n",
    "        print(\"Received Credential\")\n",
    "        ## YOUR LOGIC HERE\n",
    "    elif state == \"credential_acked\":\n",
    "        ## YOUR LOGIC HERE\n",
    "        credential = payload[\"credential\"]\n",
    "        print(\"Credential Stored\\n\")\n",
    "        print(credential)\n",
    "        \n",
    "        print(\"\\nThe referent acts as the identifier for retrieving the raw credential from the wallet\")\n",
    "        # Note: You would probably save this in your application database\n",
    "        credential_referent = credential[\"referent\"]\n",
    "        print(\"Referent\", credential_referent)\n",
    "    \n",
    "\n",
    "\n",
    "    \n",
    "holder_listener = {\n",
    "    \"topic\": \"issue_credential\",\n",
    "    \"handler\": holder_handler\n",
    "}\n",
    "\n",
    "listeners.append(holder_listener)"
   ]
  },
  {
   "cell_type": "code",
   "execution_count": 6,
   "id": "cf9a6863",
   "metadata": {},
   "outputs": [],
   "source": [
    "# Receive connection messages\n",
    "def connections_handler(payload):\n",
    "    state = payload['state']\n",
    "    connection_id = payload[\"connection_id\"]\n",
    "    their_role = payload[\"their_role\"]\n",
    "    routing_state = payload[\"routing_state\"]\n",
    "    \n",
    "    print(\"----------------------------------------------------------\")\n",
    "    print(\"Connection Webhook Event Received\")\n",
    "    print(\"Connection ID : \", connection_id)\n",
    "    print(\"State : \", state)\n",
    "    print(\"Routing State : \", routing_state)\n",
    "    print(\"Their Role : \", their_role)\n",
    "    print(\"----------------------------------------------------------\")\n",
    "\n",
    "    if state == \"invitation\":\n",
    "        # Your business logic\n",
    "        print(\"invitation\")\n",
    "    elif state == \"request\":\n",
    "        # Your business logic\n",
    "        print(\"request\")\n",
    "\n",
    "    elif state == \"response\":\n",
    "        # Your business logic\n",
    "        print(\"response\")\n",
    "    elif state == \"active\":\n",
    "        # Your business logic\n",
    "        print(colored(\"Connection ID: {0} is now active.\".format(connection_id), \"green\", attrs=[\"bold\"]))\n",
    "        \n",
    "\n",
    "connection_listener = {\n",
    "    \"handler\": connections_handler,\n",
    "    \"topic\": \"connections\"\n",
    "}\n",
    "\n",
    "listeners.append(connection_listener)"
   ]
  },
  {
   "cell_type": "code",
   "execution_count": 7,
   "id": "305d7043",
   "metadata": {},
   "outputs": [
    {
     "name": "stdout",
     "output_type": "stream",
     "text": [
      "Subscribing too: issue_credential\n",
      "Subscribing too: connections\n"
     ]
    }
   ],
   "source": [
    "agent_controller.register_listeners(listeners)"
   ]
  },
  {
   "cell_type": "markdown",
   "id": "dd8020eb",
   "metadata": {},
   "source": [
    "## Establish a Connection\n",
    "\n",
    "Must establish connection with issuer before being able to receive credential. Holder modeled as invitee in this case. See recipes/connection."
   ]
  },
  {
   "cell_type": "code",
   "execution_count": 8,
   "id": "9079d134",
   "metadata": {},
   "outputs": [],
   "source": [
    "invitation = {'@type': 'did:sov:BzCbsNYhMrjHiqZDTUASHg;spec/connections/1.0/invitation', '@id': 'e261f78f-c359-4a55-a31d-34bfb953868a', 'label': 'Edinburgh Medical School', 'serviceEndpoint': 'https://319d53d6e4b7.ngrok.io', 'recipientKeys': ['DL6U2gHFgmJ4VUb1k8S15CS89HDgWoVASKUjP1ri4VRf']}\n",
    "\n"
   ]
  },
  {
   "cell_type": "code",
   "execution_count": 9,
   "id": "3410b33f",
   "metadata": {},
   "outputs": [
    {
     "name": "stdout",
     "output_type": "stream",
     "text": [
      "----------------------------------------------------------\n",
      "Connection Webhook Event Received\n",
      "Connection ID :  ace1d8dc-2d2c-4654-a25f-07d93f7d1ce0\n",
      "State :  invitation\n",
      "Routing State :  none\n",
      "Their Role :  inviter\n",
      "----------------------------------------------------------\n",
      "invitation\n",
      "----------------------------------------------------------\n",
      "Connection Webhook Event Received\n",
      "Connection ID :  ace1d8dc-2d2c-4654-a25f-07d93f7d1ce0\n",
      "State :  request\n",
      "Routing State :  none\n",
      "Their Role :  inviter\n",
      "----------------------------------------------------------\n",
      "request\n",
      "----------------------------------------------------------\n",
      "Connection Webhook Event Received\n",
      "Connection ID :  ace1d8dc-2d2c-4654-a25f-07d93f7d1ce0\n",
      "State :  response\n",
      "Routing State :  none\n",
      "Their Role :  inviter\n",
      "----------------------------------------------------------\n",
      "response\n",
      "----------------------------------------------------------\n",
      "Connection Webhook Event Received\n",
      "Connection ID :  ace1d8dc-2d2c-4654-a25f-07d93f7d1ce0\n",
      "State :  active\n",
      "Routing State :  none\n",
      "Their Role :  inviter\n",
      "----------------------------------------------------------\n",
      "\u001b[1m\u001b[32mConnection ID: ace1d8dc-2d2c-4654-a25f-07d93f7d1ce0 is now active.\u001b[0m\n",
      "\n",
      "---------------------------------------------------\n",
      "\n",
      "Handle Issue Credential Webhook\n",
      "Connection ID : ace1d8dc-2d2c-4654-a25f-07d93f7d1ce0\n",
      "Credential exchange ID : d2baf3b5-5951-4d3f-b628-560810d4ad82\n",
      "Agent Protocol Role :  holder\n",
      "Protocol State :  offer_received\n",
      "\n",
      "---------------------------------------------------\n",
      "\n",
      "Handle Credential Webhook Payload\n",
      "Credential Offer Recieved\n",
      "The proposal dictionary is likely how you would understand and display a credential offer in your application\n",
      "\n",
      " {'@type': 'did:sov:BzCbsNYhMrjHiqZDTUASHg;spec/issue-credential/1.0/propose-credential', '@id': 'aca1b359-c4ab-41db-848b-5140d7870603', 'cred_def_id': '3jnXQcj9VLFjcUbtDVZZzV:3:CL:10:default', 'comment': 'create automated credential exchange', 'schema_id': '3jnXQcj9VLFjcUbtDVZZzV:2:Primary Medical Qualification:0.0.1', 'credential_proposal': {'@type': 'did:sov:BzCbsNYhMrjHiqZDTUASHg;spec/issue-credential/1.0/credential-preview', 'attributes': [{'name': 'Name', 'value': 'Will Abramson'}, {'name': 'University', 'value': 'Edinburgh Medical School'}, {'name': 'Date Issued', 'value': '2021-05-18'}]}}\n",
      "\n",
      " This includes the set of attributes you are being offered\n",
      "[{'name': 'Name', 'value': 'Will Abramson'}, {'name': 'University', 'value': 'Edinburgh Medical School'}, {'name': 'Date Issued', 'value': '2021-05-18'}]\n"
     ]
    }
   ],
   "source": [
    "auto_accept=False\n",
    "alias=None\n",
    "\n",
    "invite_response = await agent_controller.connections.receive_invitation(invitation, alias, auto_accept)\n",
    "connection_id = invite_response[\"connection_id\"]"
   ]
  },
  {
   "cell_type": "markdown",
   "id": "4d7a908a",
   "metadata": {},
   "source": [
    "## Medical Student Request Credential From Offer\n",
    "\n",
    "The medical student can decide whether the attributes being offered are accurate, before requesting the final signature on a PMQ credential containing theseattributes.\n"
   ]
  },
  {
   "cell_type": "code",
   "execution_count": 10,
   "id": "e25255d4",
   "metadata": {},
   "outputs": [
    {
     "name": "stdout",
     "output_type": "stream",
     "text": [
      "{'credential_exchange_id': 'd2baf3b5-5951-4d3f-b628-560810d4ad82', 'thread_id': 'cf3a4461-bcc8-49d0-8195-928776a55342', 'created_at': '2021-05-18 12:06:01.074070Z', 'auto_remove': False, 'trace': True, 'credential_proposal_dict': {'@type': 'did:sov:BzCbsNYhMrjHiqZDTUASHg;spec/issue-credential/1.0/propose-credential', '@id': 'aca1b359-c4ab-41db-848b-5140d7870603', 'cred_def_id': '3jnXQcj9VLFjcUbtDVZZzV:3:CL:10:default', 'comment': 'create automated credential exchange', 'schema_id': '3jnXQcj9VLFjcUbtDVZZzV:2:Primary Medical Qualification:0.0.1', 'credential_proposal': {'@type': 'did:sov:BzCbsNYhMrjHiqZDTUASHg;spec/issue-credential/1.0/credential-preview', 'attributes': [{'name': 'Name', 'value': 'Will Abramson'}, {'name': 'University', 'value': 'Edinburgh Medical School'}, {'name': 'Date Issued', 'value': '2021-05-18'}]}}, 'auto_issue': False, 'schema_id': '3jnXQcj9VLFjcUbtDVZZzV:2:Primary Medical Qualification:0.0.1', 'updated_at': '2021-05-18 12:06:01.074070Z', 'state': 'offer_received', 'connection_id': 'ace1d8dc-2d2c-4654-a25f-07d93f7d1ce0', 'credential_definition_id': '3jnXQcj9VLFjcUbtDVZZzV:3:CL:10:default', 'initiator': 'external', 'role': 'holder', 'credential_offer': {'schema_id': '3jnXQcj9VLFjcUbtDVZZzV:2:Primary Medical Qualification:0.0.1', 'cred_def_id': '3jnXQcj9VLFjcUbtDVZZzV:3:CL:10:default', 'key_correctness_proof': {'c': '70006597688857457894573159985225544756231130181333134592545016288330028602032', 'xz_cap': '292571635809288745890658617573806368248958702154448650443579413784047487529001514614233957799060466506186977215905782654704745802919199273636063195339266453946640996705962806755176516586443107793949714068958555502363061431065370709483082747531656897441674574825381597742727363407220313944330975835913985230960570236763008450532472378567468040376139226231553232662870788028919134337983528753726094674680673895174516175014251220887247158874076790937452475102991571684049652353793957676567631809840606968182387396141773761819797564363564125735817423940303699063206387736354025509681612716235479889546438652307083682174183113657033279220646292623124265460679069402980595722983864324203893714589711', 'xr_cap': [['name', '435634632750673914558098042790229280051432184456353706611686197220181908027855582994353510136702841831080790043293943451895992112470068378826229874486021046973074127726533698700489599999652568466130541080267713424637256561264587009060958342647581174620654994352730381101457104058515223586750396447616706544431683700581699512850412888056737310078130273349303845040996257244352292979254964849151908811497336726538048901147847255207131516246122438638643834092076299557490948306185264620286310141838764375139526067637770695855516898535942354721144304968998889628300795447402243517691421999459608659864515315156478687513992758999683999837779240765994204454251085815420425602736457269698124593957492'], ['dateissued', '1524859622868771738574917702585546448149678622554737935501791311024224273826813011616491885498762584194977300092789468772541130633223737043852768120356504210491745715405112429582715930604094037370422205871525574401128894896423543141855483244126615412723221865942070684588821543546398237845889438072004323418763421914721463908800750943961231549348506763165703290477211251747995251883680689714482610195426244168337811857661436996760038434404080105556425655754357583435318456952903299692968107863494621969576728753212886488566162375139816629240742465928342127262076315473245985344060041103724587920504528994972224044389866411863001228172118917566951286139056001958385312323856219811074220501528941'], ['master_secret', '1674817673065126537832195610625395851144493883842230924526135699363606824483369720538726653435966319016751421897683930083445077817151836134866898171603147428521324496298663516351242794699248611142624498122207017585353697194666464182029241085613830648584005869904624094016373015980632635940556049015847850490683773789094126092517581788963747279313115864841425063130795194154817540449478613752909523573235383016229242261335487415681270157315754384298040336937177442972191156501691078571918842118792497504749311055413967842601132916398182626698102462450641120096905250294088232581205891865851255016921477627119369918154707150295212763244965634390529841337840415522879668284071202872479049817991621'], ['university', '899805036762313629418690135696291045895304528502675408378172645304482913531630807728179950691830918002240140277935140609533355923609055734225714240929963611368860345640264445956723506411751446658812659385209104819020638381359257982990521038307411757108760113312060189519833057645794282539500333894971855962785077480677009927933200642172892701085276578345630797100042206573628552545494981124065217777417464719342151765402750456214761220372385089473520810337171721158897201849966427978107911604761235885843400887041633459462101761804031267313650741158243655232595013469140867945627285091109116257773908756748675433774376456494539594721731815494424414314683803042258985689913999208450468785237264']]}, 'nonce': '973662247889771975573424'}, 'auto_offer': False}\n"
     ]
    }
   ],
   "source": [
    "records_response = await agent_controller.issuer.get_records()\n",
    "record = records_response[\"results\"][0]\n",
    "record_id = record[\"credential_exchange_id\"]\n",
    "print(record)"
   ]
  },
  {
   "cell_type": "code",
   "execution_count": 11,
   "id": "d08a9caa",
   "metadata": {},
   "outputs": [
    {
     "name": "stdout",
     "output_type": "stream",
     "text": [
      "\n",
      "---------------------------------------------------\n",
      "\n",
      "Handle Issue Credential Webhook\n",
      "Connection ID : ace1d8dc-2d2c-4654-a25f-07d93f7d1ce0\n",
      "Credential exchange ID : d2baf3b5-5951-4d3f-b628-560810d4ad82\n",
      "Agent Protocol Role :  holder\n",
      "Protocol State :  request_sent\n",
      "\n",
      "---------------------------------------------------\n",
      "\n",
      "Handle Credential Webhook Payload\n",
      "\n",
      "A credential request object contains the commitment to the agents master secret using the nonce from the offer\n"
     ]
    },
    {
     "data": {
      "text/plain": [
       "{'credential_exchange_id': 'd2baf3b5-5951-4d3f-b628-560810d4ad82',\n",
       " 'thread_id': 'cf3a4461-bcc8-49d0-8195-928776a55342',\n",
       " 'created_at': '2021-05-18 12:06:01.074070Z',\n",
       " 'auto_remove': False,\n",
       " 'trace': True,\n",
       " 'credential_proposal_dict': {'@type': 'did:sov:BzCbsNYhMrjHiqZDTUASHg;spec/issue-credential/1.0/propose-credential',\n",
       "  '@id': 'aca1b359-c4ab-41db-848b-5140d7870603',\n",
       "  'cred_def_id': '3jnXQcj9VLFjcUbtDVZZzV:3:CL:10:default',\n",
       "  'comment': 'create automated credential exchange',\n",
       "  'schema_id': '3jnXQcj9VLFjcUbtDVZZzV:2:Primary Medical Qualification:0.0.1',\n",
       "  'credential_proposal': {'@type': 'did:sov:BzCbsNYhMrjHiqZDTUASHg;spec/issue-credential/1.0/credential-preview',\n",
       "   'attributes': [{'name': 'Name', 'value': 'Will Abramson'},\n",
       "    {'name': 'University', 'value': 'Edinburgh Medical School'},\n",
       "    {'name': 'Date Issued', 'value': '2021-05-18'}]}},\n",
       " 'credential_request': {'prover_did': 'LCYSSbsTwLGoTZ72zT3z34',\n",
       "  'cred_def_id': '3jnXQcj9VLFjcUbtDVZZzV:3:CL:10:default',\n",
       "  'blinded_ms': {'u': '83062534498880698055048388987766538985927607996648031017417758829698733110840960230933109228576303169976678533108882967494447240615593981070911544067799673226983761096510661767005264191828693525101452386752116307770366989129974756264007969209608968109753325467393390698851887352510364869616788472594146587234199439817732738324633177037480609179469854761505982328661054137276011694951420651257956030248150631455435874690473653472800450366491189919715449075479513410413071716137772552295721363427367865297829159018860608892447469871840631563277084823043134206630017899481761698925133632854743686460144808931360579811010',\n",
       "   'ur': None,\n",
       "   'hidden_attributes': ['master_secret'],\n",
       "   'committed_attributes': {}},\n",
       "  'blinded_ms_correctness_proof': {'c': '71699247392361151845577734781630870906791598306133430072319738965918399992390',\n",
       "   'v_dash_cap': '1966348843767332508975452171329778649922979609838433986500305807684997570183039926868454162942486559244370424013313092050431967821737576166482907227683018823888319182075858392271287864721263241956570276793291113551509880142869185725324632984618412253390520670075013907832352036069608046478225997069297697255038377610195617706889149125158732801885310636456999618177422220815099133898481805394619537646490431328872923972080255451021616764305571809271148586392134425895391664968407998314891056750851339764078286184317296365110949962763751160730839562878287345876279011532189847110490158548646762919457822602272640017798470321557820403605309779446931237626753656264391712579035932290144916549957719914130171909735961081',\n",
       "   'm_caps': {'master_secret': '22480395863595793035809097926962832083346522510135590096760607331949125167317464388659932052433757766341707995160601390830384994311513501376690457817231810009930187661900914876876'},\n",
       "   'r_caps': {}},\n",
       "  'nonce': '189219649737404989524225'},\n",
       " 'auto_issue': False,\n",
       " 'schema_id': '3jnXQcj9VLFjcUbtDVZZzV:2:Primary Medical Qualification:0.0.1',\n",
       " 'updated_at': '2021-05-18 12:06:13.655634Z',\n",
       " 'state': 'request_sent',\n",
       " 'connection_id': 'ace1d8dc-2d2c-4654-a25f-07d93f7d1ce0',\n",
       " 'credential_definition_id': '3jnXQcj9VLFjcUbtDVZZzV:3:CL:10:default',\n",
       " 'initiator': 'external',\n",
       " 'role': 'holder',\n",
       " 'credential_offer': {'schema_id': '3jnXQcj9VLFjcUbtDVZZzV:2:Primary Medical Qualification:0.0.1',\n",
       "  'cred_def_id': '3jnXQcj9VLFjcUbtDVZZzV:3:CL:10:default',\n",
       "  'key_correctness_proof': {'c': '70006597688857457894573159985225544756231130181333134592545016288330028602032',\n",
       "   'xz_cap': '292571635809288745890658617573806368248958702154448650443579413784047487529001514614233957799060466506186977215905782654704745802919199273636063195339266453946640996705962806755176516586443107793949714068958555502363061431065370709483082747531656897441674574825381597742727363407220313944330975835913985230960570236763008450532472378567468040376139226231553232662870788028919134337983528753726094674680673895174516175014251220887247158874076790937452475102991571684049652353793957676567631809840606968182387396141773761819797564363564125735817423940303699063206387736354025509681612716235479889546438652307083682174183113657033279220646292623124265460679069402980595722983864324203893714589711',\n",
       "   'xr_cap': [['name',\n",
       "     '435634632750673914558098042790229280051432184456353706611686197220181908027855582994353510136702841831080790043293943451895992112470068378826229874486021046973074127726533698700489599999652568466130541080267713424637256561264587009060958342647581174620654994352730381101457104058515223586750396447616706544431683700581699512850412888056737310078130273349303845040996257244352292979254964849151908811497336726538048901147847255207131516246122438638643834092076299557490948306185264620286310141838764375139526067637770695855516898535942354721144304968998889628300795447402243517691421999459608659864515315156478687513992758999683999837779240765994204454251085815420425602736457269698124593957492'],\n",
       "    ['dateissued',\n",
       "     '1524859622868771738574917702585546448149678622554737935501791311024224273826813011616491885498762584194977300092789468772541130633223737043852768120356504210491745715405112429582715930604094037370422205871525574401128894896423543141855483244126615412723221865942070684588821543546398237845889438072004323418763421914721463908800750943961231549348506763165703290477211251747995251883680689714482610195426244168337811857661436996760038434404080105556425655754357583435318456952903299692968107863494621969576728753212886488566162375139816629240742465928342127262076315473245985344060041103724587920504528994972224044389866411863001228172118917566951286139056001958385312323856219811074220501528941'],\n",
       "    ['master_secret',\n",
       "     '1674817673065126537832195610625395851144493883842230924526135699363606824483369720538726653435966319016751421897683930083445077817151836134866898171603147428521324496298663516351242794699248611142624498122207017585353697194666464182029241085613830648584005869904624094016373015980632635940556049015847850490683773789094126092517581788963747279313115864841425063130795194154817540449478613752909523573235383016229242261335487415681270157315754384298040336937177442972191156501691078571918842118792497504749311055413967842601132916398182626698102462450641120096905250294088232581205891865851255016921477627119369918154707150295212763244965634390529841337840415522879668284071202872479049817991621'],\n",
       "    ['university',\n",
       "     '899805036762313629418690135696291045895304528502675408378172645304482913531630807728179950691830918002240140277935140609533355923609055734225714240929963611368860345640264445956723506411751446658812659385209104819020638381359257982990521038307411757108760113312060189519833057645794282539500333894971855962785077480677009927933200642172892701085276578345630797100042206573628552545494981124065217777417464719342151765402750456214761220372385089473520810337171721158897201849966427978107911604761235885843400887041633459462101761804031267313650741158243655232595013469140867945627285091109116257773908756748675433774376456494539594721731815494424414314683803042258985689913999208450468785237264']]},\n",
       "  'nonce': '973662247889771975573424'},\n",
       " 'auto_offer': False,\n",
       " 'credential_request_metadata': {'master_secret_blinding_data': {'v_prime': '27424957935846166194051276948839057324073032645085986372060352506256994542166934595350119158507808415687536763093860641514692840755319740690299756722574516211156839122141519482203776045622829593811254874144923070689051397037410027777551412567307530935282677192078946094764026592041218975173059220780412601540147540972583605604021016890290559246765806226495220877828791646511710848680061098196964994747247759717605376649662258636802457347248060926082087137567605267396948279607797089985120509557429051204588267982272238320134953209804747692406130682537453911560396921665814134009087336328653668878108071861948046777104330710608100212138784',\n",
       "   'vr_prime': None},\n",
       "  'nonce': '189219649737404989524225',\n",
       "  'master_secret_name': 'Medic'}}"
      ]
     },
     "execution_count": 11,
     "metadata": {},
     "output_type": "execute_result"
    },
    {
     "name": "stdout",
     "output_type": "stream",
     "text": [
      "\n",
      "---------------------------------------------------\n",
      "\n",
      "Handle Issue Credential Webhook\n",
      "Connection ID : ace1d8dc-2d2c-4654-a25f-07d93f7d1ce0\n",
      "Credential exchange ID : d2baf3b5-5951-4d3f-b628-560810d4ad82\n",
      "Agent Protocol Role :  holder\n",
      "Protocol State :  credential_received\n",
      "\n",
      "---------------------------------------------------\n",
      "\n",
      "Handle Credential Webhook Payload\n",
      "Received Credential\n"
     ]
    }
   ],
   "source": [
    "await agent_controller.issuer.send_request_for_record(record_id)"
   ]
  },
  {
   "cell_type": "markdown",
   "id": "68246486",
   "metadata": {},
   "source": [
    "## Medic Stores Received PMQ for later use\n"
   ]
  },
  {
   "cell_type": "code",
   "execution_count": 12,
   "id": "6c4bf4bc",
   "metadata": {},
   "outputs": [
    {
     "name": "stdout",
     "output_type": "stream",
     "text": [
      "\n",
      "---------------------------------------------------\n",
      "\n",
      "Handle Issue Credential Webhook\n",
      "Connection ID : ace1d8dc-2d2c-4654-a25f-07d93f7d1ce0\n",
      "Credential exchange ID : d2baf3b5-5951-4d3f-b628-560810d4ad82\n",
      "Agent Protocol Role :  holder\n",
      "Protocol State :  credential_acked\n",
      "\n",
      "---------------------------------------------------\n",
      "\n",
      "Handle Credential Webhook Payload\n",
      "Credential Stored\n",
      "\n",
      "{'referent': 'PMQ', 'attrs': {'Date Issued': '2021-05-18', 'University': 'Edinburgh Medical School', 'Name': 'Will Abramson'}, 'schema_id': '3jnXQcj9VLFjcUbtDVZZzV:2:Primary Medical Qualification:0.0.1', 'cred_def_id': '3jnXQcj9VLFjcUbtDVZZzV:3:CL:10:default', 'rev_reg_id': None, 'cred_rev_id': None}\n",
      "\n",
      "The referent acts as the identifier for retrieving the raw credential from the wallet\n",
      "Referent PMQ\n"
     ]
    }
   ],
   "source": [
    "# Optionally specify an identifier to uniquely identify this credential within your agents wallet.\n",
    "# You would likely want to save this somewhere.\n",
    "# If not set a random one will be generated for you\n",
    "credential_id = \"PMQ\"\n",
    "\n",
    "store_cred_response = await agent_controller.issuer.store_credential(record_id, credential_id)"
   ]
  },
  {
   "cell_type": "markdown",
   "id": "2681aecb",
   "metadata": {},
   "source": [
    "## Terminate Controller\n",
    "\n",
    "Whenever you have finished with this notebook, be sure to terminate the controller. This is especially important if your business logic runs across multiple notebooks."
   ]
  },
  {
   "cell_type": "code",
   "execution_count": 13,
   "id": "7e735039",
   "metadata": {},
   "outputs": [],
   "source": [
    "await agent_controller.terminate()"
   ]
  },
  {
   "cell_type": "code",
   "execution_count": null,
   "id": "4cc1811a",
   "metadata": {},
   "outputs": [],
   "source": []
  }
 ],
 "metadata": {
  "kernelspec": {
   "display_name": "Python 3",
   "language": "python",
   "name": "python3"
  },
  "language_info": {
   "codemirror_mode": {
    "name": "ipython",
    "version": 3
   },
   "file_extension": ".py",
   "mimetype": "text/x-python",
   "name": "python",
   "nbconvert_exporter": "python",
   "pygments_lexer": "ipython3",
   "version": "3.7.6"
  }
 },
 "nbformat": 4,
 "nbformat_minor": 5
}
