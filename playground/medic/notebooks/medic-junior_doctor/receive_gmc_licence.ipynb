{
 "cells": [
  {
   "cell_type": "markdown",
   "id": "3315c5d6",
   "metadata": {},
   "source": [
    "# Medic Proves they have PMQ and Receives GMC Licence\n"
   ]
  },
  {
   "cell_type": "markdown",
   "id": "843c0c66",
   "metadata": {},
   "source": [
    "### Imports"
   ]
  },
  {
   "cell_type": "code",
   "execution_count": 1,
   "id": "772fe9c9",
   "metadata": {},
   "outputs": [],
   "source": [
    "from aries_cloudcontroller import AriesAgentController\n",
    "import os\n",
    "from termcolor import colored"
   ]
  },
  {
   "cell_type": "markdown",
   "id": "0e343100",
   "metadata": {},
   "source": [
    "### Initialise the Agent Controller"
   ]
  },
  {
   "cell_type": "code",
   "execution_count": 2,
   "id": "51928961",
   "metadata": {},
   "outputs": [
    {
     "name": "stdout",
     "output_type": "stream",
     "text": [
      "Initialising a controller with admin api at http://medic-agent:3021 and an api key of MyMedicalAPIKey\n"
     ]
    }
   ],
   "source": [
    "api_key = os.getenv(\"ACAPY_ADMIN_API_KEY\")\n",
    "admin_url = os.getenv(\"ADMIN_URL\")\n",
    "\n",
    "print(f\"Initialising a controller with admin api at {admin_url} and an api key of {api_key}\")\n",
    "agent_controller = AriesAgentController(admin_url,api_key)"
   ]
  },
  {
   "cell_type": "markdown",
   "id": "b15ed090",
   "metadata": {},
   "source": [
    "### Start a Webhook Server"
   ]
  },
  {
   "cell_type": "code",
   "execution_count": 3,
   "id": "9be4371c",
   "metadata": {},
   "outputs": [
    {
     "name": "stdout",
     "output_type": "stream",
     "text": [
      "Listening for webhooks from agent at http://0.0.0.0:3010\n"
     ]
    }
   ],
   "source": [
    "webhook_port = os.getenv(\"WEBHOOK_PORT\")\n",
    "webhook_host = \"0.0.0.0\"\n",
    "\n",
    "agent_controller.init_webhook_server(webhook_host, webhook_port)\n",
    "await agent_controller.listen_webhooks()\n",
    "\n",
    "print(f\"Listening for webhooks from agent at http://{webhook_host}:{webhook_port}\")"
   ]
  },
  {
   "cell_type": "markdown",
   "id": "ff045155",
   "metadata": {},
   "source": [
    "## Register Agent Event Listeners\n",
    "\n",
    "You can see some examples within the webhook_listeners recipe. Copy any relevant cells across and customise as needed."
   ]
  },
  {
   "cell_type": "code",
   "execution_count": 4,
   "id": "2af51d26",
   "metadata": {},
   "outputs": [
    {
     "name": "stdout",
     "output_type": "stream",
     "text": [
      "Subscribing too: connections\n",
      "Subscribing too: present_proof\n",
      "Subscribing too: issue_credential\n"
     ]
    }
   ],
   "source": [
    "listeners = []\n",
    "\n",
    "# Receive connection messages\n",
    "def connections_handler(payload):\n",
    "    state = payload['state']\n",
    "    connection_id = payload[\"connection_id\"]\n",
    "    their_role = payload[\"their_role\"]\n",
    "    routing_state = payload[\"routing_state\"]\n",
    "    \n",
    "    print(\"----------------------------------------------------------\")\n",
    "    print(\"Connection Webhook Event Received\")\n",
    "    print(\"Connection ID : \", connection_id)\n",
    "    print(\"State : \", state)\n",
    "    print(\"Routing State : \", routing_state)\n",
    "    print(\"Their Role : \", their_role)\n",
    "    print(\"----------------------------------------------------------\")\n",
    "\n",
    "    if state == \"invitation\":\n",
    "        # Your business logic\n",
    "        print(\"invitation\")\n",
    "    elif state == \"request\":\n",
    "        # Your business logic\n",
    "        print(\"request\")\n",
    "\n",
    "    elif state == \"response\":\n",
    "        # Your business logic\n",
    "        print(\"response\")\n",
    "    elif state == \"active\":\n",
    "        # Your business logic\n",
    "        print(colored(\"Connection ID: {0} is now active.\".format(connection_id), \"green\", attrs=[\"bold\"]))\n",
    "\n",
    "\n",
    "\n",
    "connection_listener = {\n",
    "    \"handler\": connections_handler,\n",
    "    \"topic\": \"connections\"\n",
    "}\n",
    "\n",
    "listeners.append(connection_listener)\n",
    "\n",
    "\n",
    "def prover_proof_handler(payload):\n",
    "    role = payload[\"role\"]\n",
    "    connection_id = payload[\"connection_id\"]\n",
    "    pres_ex_id = payload[\"presentation_exchange_id\"]\n",
    "    state = payload[\"state\"]\n",
    "    print(\"\\n---------------------------------------------------------------------\\n\")\n",
    "    print(\"Handle present-proof\")\n",
    "    print(\"Connection ID : \", connection_id)\n",
    "    print(\"Presentation Exchange ID : \", pres_ex_id)\n",
    "    print(\"Protocol State : \", state)\n",
    "    print(\"Agent Role : \", role)\n",
    "    print(\"Initiator : \", payload[\"initiator\"])\n",
    "    print(\"\\n---------------------------------------------------------------------\\n\")\n",
    "    \n",
    "    \n",
    "    if state == \"request_received\":\n",
    "        presentation_request = payload[\"presentation_request\"]\n",
    "        print(\"Recieved Presentation Request\\n\")\n",
    "        print(\"\\nRequested Attributes - Note the restrictions. These limit the credentials we could respond with\\n\")\n",
    "        print(presentation_request[\"requested_attributes\"])\n",
    "    elif state == \"presentation_sent\":\n",
    "        print(\"Presentation sent\\n\")\n",
    "        \n",
    "    elif state == \"presentation_acked\":\n",
    "        print(\"Presentation has been acknowledged by the Issuer\")\n",
    "        \n",
    "prover_listener = {\n",
    "    \"topic\": \"present_proof\",\n",
    "    \"handler\": prover_proof_handler\n",
    "}\n",
    "\n",
    "\n",
    "\n",
    "listeners.append(prover_listener)\n",
    "\n",
    "## YOUR LISTENERS HERE\n",
    "def holder_handler(payload):\n",
    "    connection_id = payload['connection_id']\n",
    "    exchange_id = payload['credential_exchange_id']\n",
    "    state = payload['state']\n",
    "    role = payload['role']\n",
    "    print(\"\\n---------------------------------------------------\\n\")\n",
    "    print(\"Handle Issue Credential Webhook\")\n",
    "    print(f\"Connection ID : {connection_id}\")\n",
    "    print(f\"Credential exchange ID : {exchange_id}\")\n",
    "    print(\"Agent Protocol Role : \", role)\n",
    "    print(\"Protocol State : \", state )\n",
    "    print(\"\\n---------------------------------------------------\\n\")\n",
    "    print(\"Handle Credential Webhook Payload\")\n",
    "    \n",
    "    if state == \"offer_received\":\n",
    "        print(\"Credential Offer Recieved\")\n",
    "        proposal = payload[\"credential_proposal_dict\"]\n",
    "        print(\"The proposal dictionary is likely how you would understand and display a credential offer in your application\")\n",
    "        print(\"\\n\", proposal)\n",
    "        print(\"\\n This includes the set of attributes you are being offered\")\n",
    "        attributes = proposal['credential_proposal']['attributes']\n",
    "        print(attributes)\n",
    "        ## YOUR LOGIC HERE\n",
    "    elif state == \"request_sent\":\n",
    "        print(\"\\nA credential request object contains the commitment to the agents master secret using the nonce from the offer\")\n",
    "        ## YOUR LOGIC HERE\n",
    "    elif state == \"credential_received\":\n",
    "        print(\"Received Credential\")\n",
    "        ## YOUR LOGIC HERE\n",
    "    elif state == \"credential_acked\":\n",
    "        ## YOUR LOGIC HERE\n",
    "        credential = payload[\"credential\"]\n",
    "        print(\"Credential Stored\\n\")\n",
    "        print(credential)\n",
    "        \n",
    "        print(\"\\nThe referent acts as the identifier for retrieving the raw credential from the wallet\")\n",
    "        # Note: You would probably save this in your application database\n",
    "        credential_referent = credential[\"referent\"]\n",
    "        print(\"Referent\", credential_referent)\n",
    "    \n",
    "\n",
    "\n",
    "    \n",
    "holder_listener = {\n",
    "    \"topic\": \"issue_credential\",\n",
    "    \"handler\": holder_handler\n",
    "}\n",
    "\n",
    "listeners.append(holder_listener)\n",
    "\n",
    "\n",
    "agent_controller.register_listeners(listeners)"
   ]
  },
  {
   "cell_type": "markdown",
   "id": "a8335e64",
   "metadata": {},
   "source": [
    "## Accept Invitation\n",
    "\n",
    "Copy an invitation object from another agent playing the role inviter (see the inviter_template recipe)"
   ]
  },
  {
   "cell_type": "code",
   "execution_count": 5,
   "id": "e5ca6cd9",
   "metadata": {},
   "outputs": [],
   "source": [
    "invitation = {'@type': 'did:sov:BzCbsNYhMrjHiqZDTUASHg;spec/connections/1.0/invitation', '@id': 'd0e0c252-9582-4438-83bc-fc43d4f7ac39', 'label': 'General Medical Council', 'serviceEndpoint': 'https://107b751417ea.ngrok.io', 'recipientKeys': ['Hqo7q4HQRcokSj1b4UHVEQQBdLc9GNRGJNu1U53UWRbt']}"
   ]
  },
  {
   "cell_type": "code",
   "execution_count": 6,
   "id": "7e380d48",
   "metadata": {},
   "outputs": [
    {
     "name": "stdout",
     "output_type": "stream",
     "text": [
      "----------------------------------------------------------\n",
      "Connection Webhook Event Received\n",
      "Connection ID :  06f7b4c2-63aa-4247-bb95-c2213fc5a467\n",
      "State :  invitation\n",
      "Routing State :  none\n",
      "Their Role :  inviter\n",
      "----------------------------------------------------------\n",
      "invitation\n"
     ]
    }
   ],
   "source": [
    "auto_accept=\"false\"\n",
    "alias=None\n",
    "\n",
    "invite_response = await agent_controller.connections.receive_invitation(invitation, alias, auto_accept)\n",
    "connection_id = invite_response[\"connection_id\"]"
   ]
  },
  {
   "cell_type": "code",
   "execution_count": 7,
   "id": "1aeb0e95",
   "metadata": {},
   "outputs": [
    {
     "name": "stdout",
     "output_type": "stream",
     "text": [
      "----------------------------------------------------------\n",
      "Connection Webhook Event Received\n",
      "Connection ID :  06f7b4c2-63aa-4247-bb95-c2213fc5a467\n",
      "State :  request\n",
      "Routing State :  none\n",
      "Their Role :  inviter\n",
      "----------------------------------------------------------\n",
      "request\n",
      "----------------------------------------------------------\n",
      "Connection Webhook Event Received\n",
      "Connection ID :  06f7b4c2-63aa-4247-bb95-c2213fc5a467\n",
      "State :  response\n",
      "Routing State :  none\n",
      "Their Role :  inviter\n",
      "----------------------------------------------------------\n",
      "response\n",
      "----------------------------------------------------------\n",
      "Connection Webhook Event Received\n",
      "Connection ID :  06f7b4c2-63aa-4247-bb95-c2213fc5a467\n",
      "State :  active\n",
      "Routing State :  none\n",
      "Their Role :  inviter\n",
      "----------------------------------------------------------\n",
      "\u001b[1m\u001b[32mConnection ID: 06f7b4c2-63aa-4247-bb95-c2213fc5a467 is now active.\u001b[0m\n",
      "\n",
      "---------------------------------------------------\n",
      "\n",
      "Handle Issue Credential Webhook\n",
      "Connection ID : 06f7b4c2-63aa-4247-bb95-c2213fc5a467\n",
      "Credential exchange ID : 6d31cee3-0ad5-4f65-a388-0f27f0d0a1f0\n",
      "Agent Protocol Role :  holder\n",
      "Protocol State :  offer_received\n",
      "\n",
      "---------------------------------------------------\n",
      "\n",
      "Handle Credential Webhook Payload\n",
      "Credential Offer Recieved\n",
      "The proposal dictionary is likely how you would understand and display a credential offer in your application\n",
      "\n",
      " {'@type': 'did:sov:BzCbsNYhMrjHiqZDTUASHg;spec/issue-credential/1.0/propose-credential', '@id': '043b4b3a-eca3-405d-a947-5c9c656228bd', 'cred_def_id': 'TDAbSf3Uqebg8N4XvybMbg:3:CL:12:default', 'credential_proposal': {'@type': 'did:sov:BzCbsNYhMrjHiqZDTUASHg;spec/issue-credential/1.0/credential-preview', 'attributes': [{'name': 'GMC Number', 'value': '1231231'}, {'name': 'Responsible Officer GMC Number', 'value': '3827123'}, {'name': 'Licenced From', 'value': '2021-05-18'}, {'name': 'Re-Validation Due', 'value': '2026-05-17'}, {'name': 'Name', 'value': 'Will A'}, {'name': 'Headshot', 'value': 'adsssssssssssssssssssssssssssssssllllllllllllllllllllllllllllllllllllllllllllllllllllllllllllllllllllllllllllllllllllllllllllllllllllllddddddddddddddddddddddddddddddddddddsssssssssssssssssssssssssssssggggggggggggggggggggggggggggggggggggggadsssssssssssssssssssssssssssssssllllllllllllllllllllllllllllllllllllllllllllllllllllllllllllllllllllllllllllllllllllllllllllllllllllllddddddddddddddddddddddddddddddddddddsssssssssssssssssssssssssssssggggggggggggggggggggggggggggggggggggggadsssssssssssssssssssssssssssssssllllllllllllllllllllllllllllllllllllllllllllllllllllllllllllllllllllllllllllllllllllllllllllllllllllllddddddddddddddddddddddddddddddddddddsssssssssssssssssssssssssssssggggggggggggggggggggggggggggggggggggggadsssssssssssssssssssssssssssssssllllllllllllllllllllllllllllllllllllllllllllllllllllllllllllllllllllllllllllllllllllllllllllllllllllllddddddddddddddddddddddddddddddddddddsssssssssssssssssssssssssssssggggggggggggggggggggggggggggggggggggggadsssssssssssssssssssssssssssssssllllllllllllllllllllllllllllllllllllllllllllllllllllllllllllllllllllllllllllllllllllllllllllllllllllllddddddddddddddddddddddddddddddddddddsssssssssssssssssssssssssssssggggggggggggggggggggggggggggggggggggggadsssssssssssssssssssssssssssssssllllllllllllllllllllllllllllllllllllllllllllllllllllllllllllllllllllllllllllllllllllllllllllllllllllllddddddddddddddddddddddddddddddddddddsssssssssssssssssssssssssssssggggggggggggggggggggggggggggggggggggggadsssssssssssssssssssssssssssssssllllllllllllllllllllllllllllllllllllllllllllllllllllllllllllllllllllllllllllllllllllllllllllllllllllllddddddddddddddddddddddddddddddddddddsssssssssssssssssssssssssssssggggggggggggggggggggggggggggggggggggggadsssssssssssssssssssssssssssssssllllllllllllllllllllllllllllllllllllllllllllllllllllllllllllllllllllllllllllllllllllllllllllllllllllllddddddddddddddddddddddddddddddddddddsssssssssssssssssssssssssssssggggggggggggggggggggggggggggggggggggggadsssssssssssssssssssssssssssssssllllllllllllllllllllllllllllllllllllllllllllllllllllllllllllllllllllllllllllllllllllllllllllllllllllllddddddddddddddddddddddddddddddddddddsssssssssssssssssssssssssssssggggggggggggggggggggggggggggggggggggggadsssssssssssssssssssssssssssssssllllllllllllllllllllllllllllllllllllllllllllllllllllllllllllllllllllllllllllllllllllllllllllllllllllllddddddddddddddddddddddddddddddddddddsssssssssssssssssssssssssssssggggggggggggggggggggggggggggggggggggggadsssssssssssssssssssssssssssssssllllllllllllllllllllllllllllllllllllllllllllllllllllllllllllllllllllllllllllllllllllllllllllllllllllllddddddddddddddddddddddddddddddddddddsssssssssssssssssssssssssssssggggggggggggggggggggggggggggggggggggggadsssssssssssssssssssssssssssssssllllllllllllllllllllllllllllllllllllllllllllllllllllllllllllllllllllllllllllllllllllllllllllllllllllllddddddddddddddddddddddddddddddddddddsssssssssssssssssssssssssssssggggggggggggggggggggggggggggggggggggggadsssssssssssssssssssssssssssssssllllllllllllllllllllllllllllllllllllllllllllllllllllllllllllllllllllllllllllllllllllllllllllllllllllllddddddddddddddddddddddddddddddddddddsssssssssssssssssssssssssssssggggggggggggggggggggggggggggggggggggggadsssssssssssssssssssssssssssssssllllllllllllllllllllllllllllllllllllllllllllllllllllllllllllllllllllllllllllllllllllllllllllllllllllllddddddddddddddddddddddddddddddddddddsssssssssssssssssssssssssssssggggggggggggggggggggggggggggggggggggggadsssssssssssssssssssssssssssssssllllllllllllllllllllllllllllllllllllllllllllllllllllllllllllllllllllllllllllllllllllllllllllllllllllllddddddddddddddddddddddddddddddddddddsssssssssssssssssssssssssssssggggggggggggggggggggggggggggggggggggggadsssssssssssssssssssssssssssssssllllllllllllllllllllllllllllllllllllllllllllllllllllllllllllllllllllllllllllllllllllllllllllllllllllllddddddddddddddddddddddddddddddddddddsssssssssssssssssssssssssssssggggggggggggggggggggggggggggggggggggggadsssssssssssssssssssssssssssssssllllllllllllllllllllllllllllllllllllllllllllllllllllllllllllllllllllllllllllllllllllllllllllllllllllllddddddddddddddddddddddddddddddddddddsssssssssssssssssssssssssssssggggggggggggggggggggggggggggggggggggggadsssssssssssssssssssssssssssssssllllllllllllllllllllllllllllllllllllllllllllllllllllllllllllllllllllllllllllllllllllllllllllllllllllllddddddddddddddddddddddddddddddddddddsssssssssssssssssssssssssssssggggggggggggggggggggggggggggggggggggggadsssssssssssssssssssssssssssssssllllllllllllllllllllllllllllllllllllllllllllllllllllllllllllllllllllllllllllllllllllllllllllllllllllllddddddddddddddddddddddddddddddddddddsssssssssssssssssssssssssssssggggggggggggggggggggggggggggggggggggggadsssssssssssssssssssssssssssssssllllllllllllllllllllllllllllllllllllllllllllllllllllllllllllllllllllllllllllllllllllllllllllllllllllllddddddddddddddddddddddddddddddddddddsssssssssssssssssssssssssssssggggggggggggggggggggggggggggggggggggggadsssssssssssssssssssssssssssssssllllllllllllllllllllllllllllllllllllllllllllllllllllllllllllllllllllllllllllllllllllllllllllllllllllllddddddddddddddddddddddddddddddddddddsssssssssssssssssssssssssssssggggggggggggggggggggggggggggggggggggggadsssssssssssssssssssssssssssssssllllllllllllllllllllllllllllllllllllllllllllllllllllllllllllllllllllllllllllllllllllllllllllllllllllllddddddddddddddddddddddddddddddddddddsssssssssssssssssssssssssssssggggggggggggggggggggggggggggggggggggggadsssssssssssssssssssssssssssssssllllllllllllllllllllllllllllllllllllllllllllllllllllllllllllllllllllllllllllllllllllllllllllllllllllllddddddddddddddddddddddddddddddddddddsssssssssssssssssssssssssssssggggggggggggggggggggggggggggggggggggggadsssssssssssssssssssssssssssssssllllllllllllllllllllllllllllllllllllllllllllllllllllllllllllllllllllllllllllllllllllllllllllllllllllllddddddddddddddddddddddddddddddddddddsssssssssssssssssssssssssssssggggggggggggggggggggggggggggggggggggggadsssssssssssssssssssssssssssssssllllllllllllllllllllllllllllllllllllllllllllllllllllllllllllllllllllllllllllllllllllllllllllllllllllllddddddddddddddddddddddddddddddddddddsssssssssssssssssssssssssssssggggggggggggggggggggggggggggggggggggggadsssssssssssssssssssssssssssssssllllllllllllllllllllllllllllllllllllllllllllllllllllllllllllllllllllllllllllllllllllllllllllllllllllllddddddddddddddddddddddddddddddddddddsssssssssssssssssssssssssssssggggggggggggggggggggggggggggggggggggggadsssssssssssssssssssssssssssssssllllllllllllllllllllllllllllllllllllllllllllllllllllllllllllllllllllllllllllllllllllllllllllllllllllllddddddddddddddddddddddddddddddddddddsssssssssssssssssssssssssssssggggggggggggggggggggggggggggggggggggggadsssssssssssssssssssssssssssssssllllllllllllllllllllllllllllllllllllllllllllllllllllllllllllllllllllllllllllllllllllllllllllllllllllllddddddddddddddddddddddddddddddddddddsssssssssssssssssssssssssssssgggggggggggggggggggggggggggggggggggggg\\n'}, {'name': 'DOB', 'value': '2'}]}, 'schema_id': 'TDAbSf3Uqebg8N4XvybMbg:2:GMC Licence:0.0.1', 'comment': 'create automated credential exchange'}\n",
      "\n",
      " This includes the set of attributes you are being offered\n",
      "[{'name': 'GMC Number', 'value': '1231231'}, {'name': 'Responsible Officer GMC Number', 'value': '3827123'}, {'name': 'Licenced From', 'value': '2021-05-18'}, {'name': 'Re-Validation Due', 'value': '2026-05-17'}, {'name': 'Name', 'value': 'Will A'}, {'name': 'Headshot', 'value': 'adsssssssssssssssssssssssssssssssllllllllllllllllllllllllllllllllllllllllllllllllllllllllllllllllllllllllllllllllllllllllllllllllllllllddddddddddddddddddddddddddddddddddddsssssssssssssssssssssssssssssggggggggggggggggggggggggggggggggggggggadsssssssssssssssssssssssssssssssllllllllllllllllllllllllllllllllllllllllllllllllllllllllllllllllllllllllllllllllllllllllllllllllllllllddddddddddddddddddddddddddddddddddddsssssssssssssssssssssssssssssggggggggggggggggggggggggggggggggggggggadsssssssssssssssssssssssssssssssllllllllllllllllllllllllllllllllllllllllllllllllllllllllllllllllllllllllllllllllllllllllllllllllllllllddddddddddddddddddddddddddddddddddddsssssssssssssssssssssssssssssggggggggggggggggggggggggggggggggggggggadsssssssssssssssssssssssssssssssllllllllllllllllllllllllllllllllllllllllllllllllllllllllllllllllllllllllllllllllllllllllllllllllllllllddddddddddddddddddddddddddddddddddddsssssssssssssssssssssssssssssggggggggggggggggggggggggggggggggggggggadsssssssssssssssssssssssssssssssllllllllllllllllllllllllllllllllllllllllllllllllllllllllllllllllllllllllllllllllllllllllllllllllllllllddddddddddddddddddddddddddddddddddddsssssssssssssssssssssssssssssggggggggggggggggggggggggggggggggggggggadsssssssssssssssssssssssssssssssllllllllllllllllllllllllllllllllllllllllllllllllllllllllllllllllllllllllllllllllllllllllllllllllllllllddddddddddddddddddddddddddddddddddddsssssssssssssssssssssssssssssggggggggggggggggggggggggggggggggggggggadsssssssssssssssssssssssssssssssllllllllllllllllllllllllllllllllllllllllllllllllllllllllllllllllllllllllllllllllllllllllllllllllllllllddddddddddddddddddddddddddddddddddddsssssssssssssssssssssssssssssggggggggggggggggggggggggggggggggggggggadsssssssssssssssssssssssssssssssllllllllllllllllllllllllllllllllllllllllllllllllllllllllllllllllllllllllllllllllllllllllllllllllllllllddddddddddddddddddddddddddddddddddddsssssssssssssssssssssssssssssggggggggggggggggggggggggggggggggggggggadsssssssssssssssssssssssssssssssllllllllllllllllllllllllllllllllllllllllllllllllllllllllllllllllllllllllllllllllllllllllllllllllllllllddddddddddddddddddddddddddddddddddddsssssssssssssssssssssssssssssggggggggggggggggggggggggggggggggggggggadsssssssssssssssssssssssssssssssllllllllllllllllllllllllllllllllllllllllllllllllllllllllllllllllllllllllllllllllllllllllllllllllllllllddddddddddddddddddddddddddddddddddddsssssssssssssssssssssssssssssggggggggggggggggggggggggggggggggggggggadsssssssssssssssssssssssssssssssllllllllllllllllllllllllllllllllllllllllllllllllllllllllllllllllllllllllllllllllllllllllllllllllllllllddddddddddddddddddddddddddddddddddddsssssssssssssssssssssssssssssggggggggggggggggggggggggggggggggggggggadsssssssssssssssssssssssssssssssllllllllllllllllllllllllllllllllllllllllllllllllllllllllllllllllllllllllllllllllllllllllllllllllllllllddddddddddddddddddddddddddddddddddddsssssssssssssssssssssssssssssggggggggggggggggggggggggggggggggggggggadsssssssssssssssssssssssssssssssllllllllllllllllllllllllllllllllllllllllllllllllllllllllllllllllllllllllllllllllllllllllllllllllllllllddddddddddddddddddddddddddddddddddddsssssssssssssssssssssssssssssggggggggggggggggggggggggggggggggggggggadsssssssssssssssssssssssssssssssllllllllllllllllllllllllllllllllllllllllllllllllllllllllllllllllllllllllllllllllllllllllllllllllllllllddddddddddddddddddddddddddddddddddddsssssssssssssssssssssssssssssggggggggggggggggggggggggggggggggggggggadsssssssssssssssssssssssssssssssllllllllllllllllllllllllllllllllllllllllllllllllllllllllllllllllllllllllllllllllllllllllllllllllllllllddddddddddddddddddddddddddddddddddddsssssssssssssssssssssssssssssggggggggggggggggggggggggggggggggggggggadsssssssssssssssssssssssssssssssllllllllllllllllllllllllllllllllllllllllllllllllllllllllllllllllllllllllllllllllllllllllllllllllllllllddddddddddddddddddddddddddddddddddddsssssssssssssssssssssssssssssggggggggggggggggggggggggggggggggggggggadsssssssssssssssssssssssssssssssllllllllllllllllllllllllllllllllllllllllllllllllllllllllllllllllllllllllllllllllllllllllllllllllllllllddddddddddddddddddddddddddddddddddddsssssssssssssssssssssssssssssggggggggggggggggggggggggggggggggggggggadsssssssssssssssssssssssssssssssllllllllllllllllllllllllllllllllllllllllllllllllllllllllllllllllllllllllllllllllllllllllllllllllllllllddddddddddddddddddddddddddddddddddddsssssssssssssssssssssssssssssggggggggggggggggggggggggggggggggggggggadsssssssssssssssssssssssssssssssllllllllllllllllllllllllllllllllllllllllllllllllllllllllllllllllllllllllllllllllllllllllllllllllllllllddddddddddddddddddddddddddddddddddddsssssssssssssssssssssssssssssggggggggggggggggggggggggggggggggggggggadsssssssssssssssssssssssssssssssllllllllllllllllllllllllllllllllllllllllllllllllllllllllllllllllllllllllllllllllllllllllllllllllllllllddddddddddddddddddddddddddddddddddddsssssssssssssssssssssssssssssggggggggggggggggggggggggggggggggggggggadsssssssssssssssssssssssssssssssllllllllllllllllllllllllllllllllllllllllllllllllllllllllllllllllllllllllllllllllllllllllllllllllllllllddddddddddddddddddddddddddddddddddddsssssssssssssssssssssssssssssggggggggggggggggggggggggggggggggggggggadsssssssssssssssssssssssssssssssllllllllllllllllllllllllllllllllllllllllllllllllllllllllllllllllllllllllllllllllllllllllllllllllllllllddddddddddddddddddddddddddddddddddddsssssssssssssssssssssssssssssggggggggggggggggggggggggggggggggggggggadsssssssssssssssssssssssssssssssllllllllllllllllllllllllllllllllllllllllllllllllllllllllllllllllllllllllllllllllllllllllllllllllllllllddddddddddddddddddddddddddddddddddddsssssssssssssssssssssssssssssggggggggggggggggggggggggggggggggggggggadsssssssssssssssssssssssssssssssllllllllllllllllllllllllllllllllllllllllllllllllllllllllllllllllllllllllllllllllllllllllllllllllllllllddddddddddddddddddddddddddddddddddddsssssssssssssssssssssssssssssggggggggggggggggggggggggggggggggggggggadsssssssssssssssssssssssssssssssllllllllllllllllllllllllllllllllllllllllllllllllllllllllllllllllllllllllllllllllllllllllllllllllllllllddddddddddddddddddddddddddddddddddddsssssssssssssssssssssssssssssggggggggggggggggggggggggggggggggggggggadsssssssssssssssssssssssssssssssllllllllllllllllllllllllllllllllllllllllllllllllllllllllllllllllllllllllllllllllllllllllllllllllllllllddddddddddddddddddddddddddddddddddddsssssssssssssssssssssssssssssggggggggggggggggggggggggggggggggggggggadsssssssssssssssssssssssssssssssllllllllllllllllllllllllllllllllllllllllllllllllllllllllllllllllllllllllllllllllllllllllllllllllllllllddddddddddddddddddddddddddddddddddddsssssssssssssssssssssssssssssggggggggggggggggggggggggggggggggggggggadsssssssssssssssssssssssssssssssllllllllllllllllllllllllllllllllllllllllllllllllllllllllllllllllllllllllllllllllllllllllllllllllllllllddddddddddddddddddddddddddddddddddddsssssssssssssssssssssssssssssgggggggggggggggggggggggggggggggggggggg\\n'}, {'name': 'DOB', 'value': '2'}]\n"
     ]
    }
   ],
   "source": [
    "# Label for the connection\n",
    "my_label = None\n",
    "# Endpoint you expect to recieve messages at\n",
    "my_endpoint = None\n",
    "\n",
    "accept_response = await agent_controller.connections.accept_invitation(connection_id, my_label, my_endpoint)"
   ]
  },
  {
   "cell_type": "markdown",
   "id": "7e0edda9",
   "metadata": {},
   "source": [
    "## Fetch Presentation Records\n",
    "\n",
    "Before you can present a presentation, you must identify the presentation record which you wish to respond to with a presentation. This could also be done through the present_proof listeners which have access to a presentation record in the payload."
   ]
  },
  {
   "cell_type": "code",
   "execution_count": 8,
   "id": "9d9640b3",
   "metadata": {},
   "outputs": [
    {
     "name": "stdout",
     "output_type": "stream",
     "text": [
      "{'trace': True, 'presentation_request': {'name': 'Proof of Primary Medical Qualification', 'version': '1.0', 'requested_attributes': {'0_Name_uuid': {'name': 'Name', 'restrictions': [{'schema_id': '3jnXQcj9VLFjcUbtDVZZzV:2:Primary Medical Qualification:0.0.1'}]}, '0_University_uuid': {'name': 'University', 'restrictions': [{'schema_id': '3jnXQcj9VLFjcUbtDVZZzV:2:Primary Medical Qualification:0.0.1'}]}, '0_Date Issued_uuid': {'name': 'Date Issued', 'restrictions': [{'schema_id': '3jnXQcj9VLFjcUbtDVZZzV:2:Primary Medical Qualification:0.0.1'}]}}, 'requested_predicates': {}, 'non_revoked': {'to': 1621339838}, 'nonce': '158153268944743895322245'}, 'thread_id': '89553b70-87fc-4e7c-81ef-29739ed8cd73', 'created_at': '2021-05-18 12:11:38.316267Z', 'initiator': 'external', 'updated_at': '2021-05-18 12:11:38.316267Z', 'role': 'prover', 'presentation_request_dict': {'@type': 'did:sov:BzCbsNYhMrjHiqZDTUASHg;spec/present-proof/1.0/request-presentation', '@id': '89553b70-87fc-4e7c-81ef-29739ed8cd73', '~trace': {'target': 'log', 'full_thread': True, 'trace_reports': []}, 'comment': 'Please prove that you have recieved a valid PMQ', 'request_presentations~attach': [{'@id': 'libindy-request-presentation-0', 'mime-type': 'application/json', 'data': {'base64': 'eyJuYW1lIjogIlByb29mIG9mIFByaW1hcnkgTWVkaWNhbCBRdWFsaWZpY2F0aW9uIiwgInZlcnNpb24iOiAiMS4wIiwgInJlcXVlc3RlZF9hdHRyaWJ1dGVzIjogeyIwX05hbWVfdXVpZCI6IHsibmFtZSI6ICJOYW1lIiwgInJlc3RyaWN0aW9ucyI6IFt7InNjaGVtYV9pZCI6ICIzam5YUWNqOVZMRmpjVWJ0RFZaWnpWOjI6UHJpbWFyeSBNZWRpY2FsIFF1YWxpZmljYXRpb246MC4wLjEifV19LCAiMF9Vbml2ZXJzaXR5X3V1aWQiOiB7Im5hbWUiOiAiVW5pdmVyc2l0eSIsICJyZXN0cmljdGlvbnMiOiBbeyJzY2hlbWFfaWQiOiAiM2puWFFjajlWTEZqY1VidERWWlp6VjoyOlByaW1hcnkgTWVkaWNhbCBRdWFsaWZpY2F0aW9uOjAuMC4xIn1dfSwgIjBfRGF0ZSBJc3N1ZWRfdXVpZCI6IHsibmFtZSI6ICJEYXRlIElzc3VlZCIsICJyZXN0cmljdGlvbnMiOiBbeyJzY2hlbWFfaWQiOiAiM2puWFFjajlWTEZqY1VidERWWlp6VjoyOlByaW1hcnkgTWVkaWNhbCBRdWFsaWZpY2F0aW9uOjAuMC4xIn1dfX0sICJyZXF1ZXN0ZWRfcHJlZGljYXRlcyI6IHt9LCAibm9uX3Jldm9rZWQiOiB7InRvIjogMTYyMTMzOTgzOH0sICJub25jZSI6ICIxNTgxNTMyNjg5NDQ3NDM4OTUzMjIyNDUifQ=='}}]}, 'presentation_exchange_id': 'd08ffbe0-c307-4f20-bbef-05f3321ca667', 'state': 'request_received', 'connection_id': 'bd5debb9-c6ec-4be2-b886-93a021752d6a'}\n"
     ]
    }
   ],
   "source": [
    "# Optional Query parameters\n",
    "verifier_connection_id = connection_id\n",
    "thread_id=None\n",
    "state = \"request_received\"\n",
    "role = \"prover\"\n",
    "\n",
    "proof_records_response = await agent_controller.proofs.get_records(verifier_connection_id, thread_id, state, role)\n",
    "\n",
    "# We fetch the first record from the response. You may want to customise this further\n",
    "presentation_record = proof_records_response[\"results\"][0]\n",
    "presentation_exchange_id = presentation_record[\"presentation_exchange_id\"]\n",
    "print(presentation_record)"
   ]
  },
  {
   "cell_type": "markdown",
   "id": "e99708eb",
   "metadata": {},
   "source": [
    "## Search For Available Credentials to Construct Presentation From\n",
    "\n",
    "The presentation record can be used to query your agents wallet and return all credentials that could be used to construct valid presentation"
   ]
  },
  {
   "cell_type": "code",
   "execution_count": 9,
   "id": "c0d66fe0",
   "metadata": {},
   "outputs": [
    {
     "name": "stdout",
     "output_type": "stream",
     "text": [
      "Credentials stored that could be used to satisfy the request. In some situations you applications may have a choice which credential to reveal\n",
      "\n",
      "[{'cred_info': {'referent': 'PMQ', 'attrs': {'University': 'Edinburgh Medical School', 'Name': 'Will Abramson', 'Date Issued': '2021-05-18'}, 'schema_id': '3jnXQcj9VLFjcUbtDVZZzV:2:Primary Medical Qualification:0.0.1', 'cred_def_id': '3jnXQcj9VLFjcUbtDVZZzV:3:CL:10:default', 'rev_reg_id': None, 'cred_rev_id': None}, 'interval': {'from': None, 'to': 1621339838}, 'presentation_referents': ['0_University_uuid', '0_Date Issued_uuid', '0_Name_uuid']}]\n",
      "\n",
      "Generate the proof\n",
      "{'requested_predicates': {}, 'requested_attributes': {'0_Name_uuid': {'cred_id': 'PMQ', 'revealed': True}, '0_University_uuid': {'cred_id': 'PMQ', 'revealed': True}, '0_Date Issued_uuid': {'cred_id': 'PMQ', 'revealed': True}}, 'self_attested_attributes': {}}\n"
     ]
    }
   ],
   "source": [
    "# select credentials to provide for the proof\n",
    "credentials = await agent_controller.proofs.get_presentation_credentials(presentation_exchange_id)\n",
    "print(\"Credentials stored that could be used to satisfy the request. In some situations you applications may have a choice which credential to reveal\\n\")\n",
    "print(credentials)\n",
    "\n",
    "credentials_by_reft = {}\n",
    "revealed = {}\n",
    "self_attested = {}\n",
    "predicates = {}\n",
    "\n",
    "\n",
    "# Note we are working on a friendlier api to abstract this away\n",
    "\n",
    "if credentials:\n",
    "    for row in credentials:\n",
    "\n",
    "        for referent in row[\"presentation_referents\"]:\n",
    "            if referent not in credentials_by_reft:\n",
    "                credentials_by_reft[referent] = row\n",
    "\n",
    "for referent in presentation_record[\"presentation_request\"][\"requested_attributes\"]:\n",
    "    if referent in credentials_by_reft:\n",
    "        revealed[referent] = {\n",
    "            \"cred_id\": credentials_by_reft[referent][\"cred_info\"][\n",
    "                \"referent\"\n",
    "            ],\n",
    "            \"revealed\": True,\n",
    "        }\n",
    "\n",
    "\n",
    "print(\"\\nGenerate the proof\")\n",
    "presentation = {\n",
    "    \"requested_predicates\": predicates,\n",
    "    \"requested_attributes\": revealed,\n",
    "    \"self_attested_attributes\": self_attested,\n",
    "}\n",
    "print(presentation)"
   ]
  },
  {
   "cell_type": "markdown",
   "id": "6eff8256",
   "metadata": {},
   "source": [
    "## Send Presentation\n",
    "\n",
    "A presentation is sent in represent to a presentation record that has previously been created."
   ]
  },
  {
   "cell_type": "code",
   "execution_count": 10,
   "id": "e3878ffe",
   "metadata": {},
   "outputs": [
    {
     "name": "stdout",
     "output_type": "stream",
     "text": [
      "\n",
      "---------------------------------------------------------------------\n",
      "\n",
      "Handle present-proof\n",
      "Connection ID :  bd5debb9-c6ec-4be2-b886-93a021752d6a\n",
      "Presentation Exchange ID :  d08ffbe0-c307-4f20-bbef-05f3321ca667\n",
      "Protocol State :  presentation_sent\n",
      "Agent Role :  prover\n",
      "Initiator :  external\n",
      "\n",
      "---------------------------------------------------------------------\n",
      "\n",
      "Presentation sent\n",
      "\n",
      "\n",
      "---------------------------------------------------------------------\n",
      "\n",
      "Handle present-proof\n",
      "Connection ID :  bd5debb9-c6ec-4be2-b886-93a021752d6a\n",
      "Presentation Exchange ID :  d08ffbe0-c307-4f20-bbef-05f3321ca667\n",
      "Protocol State :  presentation_acked\n",
      "Agent Role :  prover\n",
      "Initiator :  external\n",
      "\n",
      "---------------------------------------------------------------------\n",
      "\n",
      "Presentation has been acknowledged by the Issuer\n",
      "\n",
      "---------------------------------------------------\n",
      "\n",
      "Handle Issue Credential Webhook\n",
      "Connection ID : bd5debb9-c6ec-4be2-b886-93a021752d6a\n",
      "Credential exchange ID : efbccebe-e717-43de-8add-65254974095c\n",
      "Agent Protocol Role :  holder\n",
      "Protocol State :  offer_received\n",
      "\n",
      "---------------------------------------------------\n",
      "\n",
      "Handle Credential Webhook Payload\n",
      "Credential Offer Recieved\n",
      "The proposal dictionary is likely how you would understand and display a credential offer in your application\n",
      "\n",
      " {'@type': 'did:sov:BzCbsNYhMrjHiqZDTUASHg;spec/issue-credential/1.0/propose-credential', '@id': '05bf84c4-fe5c-4f5a-9e88-827a48ae2034', 'cred_def_id': 'TDAbSf3Uqebg8N4XvybMbg:3:CL:12:default', 'comment': 'create automated credential exchange', 'schema_id': 'TDAbSf3Uqebg8N4XvybMbg:2:GMC Licence:0.0.1', 'credential_proposal': {'@type': 'did:sov:BzCbsNYhMrjHiqZDTUASHg;spec/issue-credential/1.0/credential-preview', 'attributes': [{'name': 'GMC Number', 'value': '1231231'}, {'name': 'Responsible Officer GMC Number', 'value': '3827123'}, {'name': 'Licenced From', 'value': '2021-05-18'}, {'name': 'Re-Validation Due', 'value': '2026-05-17'}, {'name': 'Name', 'value': 'Will A'}, {'name': 'Headshot', 'value': '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'}, {'name': 'DOB', 'value': '25'}]}}\n",
      "\n",
      " This includes the set of attributes you are being offered\n",
      "[{'name': 'GMC Number', 'value': '1231231'}, {'name': 'Responsible Officer GMC Number', 'value': '3827123'}, {'name': 'Licenced From', 'value': '2021-05-18'}, {'name': 'Re-Validation Due', 'value': '2026-05-17'}, {'name': 'Name', 'value': 'Will A'}, {'name': 'Headshot', 'value': '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'}, {'name': 'DOB', 'value': '25'}]\n"
     ]
    }
   ],
   "source": [
    "presentation_response = await agent_controller.proofs.send_presentation(presentation_exchange_id, presentation)"
   ]
  },
  {
   "cell_type": "markdown",
   "id": "e70216f2",
   "metadata": {},
   "source": [
    "## Request Credential From Offer\n",
    "\n",
    "Note: Your agent will automatically respond if ACAPY_AUTO_RESPOND_CREDENTIAL_OFFER=true flag is set in .env file of agent. Default is false.\n",
    "\n",
    "To respond to an offer you must identify the offer using the credential_exchange_id generated for it. This is available from within the issue-credential holder handler. You could add custom logic in this loop `elif state == \"request\":` to handle this.\n",
    "\n",
    "However, we will fetch the credential exchange records and **assume** this agent only has one record. Customise accordingly.\n"
   ]
  },
  {
   "cell_type": "code",
   "execution_count": 12,
   "id": "7ab4b54d",
   "metadata": {},
   "outputs": [],
   "source": [
    "issuer_connection_id = connection_id\n",
    "thread_id=None\n",
    "state = \"request_received\"\n",
    "role = \"prover\"\n",
    "\n",
    "\n",
    "records_response = await agent_controller.issuer.get_records()\n",
    "record = records_response[\"results\"][0]\n",
    "record_id = record[\"credential_exchange_id\"]"
   ]
  },
  {
   "cell_type": "markdown",
   "id": "d4de0858",
   "metadata": {},
   "source": [
    "### First the Doctor Checks the attributes being offered, including the headshot\n",
    "\n",
    "**Note: This is currently not working. Base64 image string too large to store in wallet**"
   ]
  },
  {
   "cell_type": "code",
   "execution_count": 41,
   "id": "1ee6fbeb",
   "metadata": {},
   "outputs": [],
   "source": [
    "import base64\n",
    "for attribute in record['credential_proposal_dict']['credential_proposal']['attributes']:\n",
    "    if attribute[\"name\"] == \"Headshot\":\n",
    "        try:\n",
    "            f = open(\"headshot.png\", \"wb+\")\n",
    "        #             byte_message = bytes.fromhex()\n",
    "        #             print(bytes(attribute[\"value\"].encode('utf-8')))\n",
    "        #             print(attribute[\"value\"])\n",
    "        #             print(base64.decodebytes(attribute[\"value\"]))\n",
    "\n",
    "            base64_img_bytes = attribute[\"value\"].encode('utf-8')\n",
    "            decoded_img_data = base64.decodebytes(base64_img_bytes)\n",
    "            f.write(decoded_img_data)\n",
    "            f.close()\n",
    "        except Exception as e:\n",
    "            print(\"Error writing file\", e)"
   ]
  },
  {
   "cell_type": "code",
   "execution_count": 36,
   "id": "ae956281",
   "metadata": {},
   "outputs": [
    {
     "data": {
      "image/png": "[encoded data removed]",
      "text/plain": [
       "<IPython.core.display.Image object>"
      ]
     },
     "execution_count": 36,
     "metadata": {},
     "output_type": "execute_result"
    }
   ],
   "source": [
    "from IPython.display import Image\n",
    "Image(\"headshot.png\")\n"
   ]
  },
  {
   "cell_type": "markdown",
   "id": "08e57cbe",
   "metadata": {},
   "source": [
    "### Then If Happy They Contribute Their Master Secret and Request The Completion of the Signature"
   ]
  },
  {
   "cell_type": "code",
   "execution_count": 13,
   "id": "60d35b82",
   "metadata": {},
   "outputs": [
    {
     "data": {
      "text/plain": [
       "{'auto_remove': False,\n",
       " 'initiator': 'external',\n",
       " 'schema_id': 'TDAbSf3Uqebg8N4XvybMbg:2:GMC Licence:0.0.1',\n",
       " 'role': 'holder',\n",
       " 'credential_proposal_dict': {'@type': 'did:sov:BzCbsNYhMrjHiqZDTUASHg;spec/issue-credential/1.0/propose-credential',\n",
       "  '@id': '043b4b3a-eca3-405d-a947-5c9c656228bd',\n",
       "  'cred_def_id': 'TDAbSf3Uqebg8N4XvybMbg:3:CL:12:default',\n",
       "  'credential_proposal': {'@type': 'did:sov:BzCbsNYhMrjHiqZDTUASHg;spec/issue-credential/1.0/credential-preview',\n",
       "   'attributes': [{'name': 'GMC Number', 'value': '1231231'},\n",
       "    {'name': 'Responsible Officer GMC Number', 'value': '3827123'},\n",
       "    {'name': 'Licenced From', 'value': '2021-05-18'},\n",
       "    {'name': 'Re-Validation Due', 'value': '2026-05-17'},\n",
       "    {'name': 'Name', 'value': 'Will A'},\n",
       "    {'name': 'Headshot',\n",
       "     'value': 'adsssssssssssssssssssssssssssssssllllllllllllllllllllllllllllllllllllllllllllllllllllllllllllllllllllllllllllllllllllllllllllllllllllllddddddddddddddddddddddddddddddddddddsssssssssssssssssssssssssssssggggggggggggggggggggggggggggggggggggggadsssssssssssssssssssssssssssssssllllllllllllllllllllllllllllllllllllllllllllllllllllllllllllllllllllllllllllllllllllllllllllllllllllllddddddddddddddddddddddddddddddddddddsssssssssssssssssssssssssssssggggggggggggggggggggggggggggggggggggggadsssssssssssssssssssssssssssssssllllllllllllllllllllllllllllllllllllllllllllllllllllllllllllllllllllllllllllllllllllllllllllllllllllllddddddddddddddddddddddddddddddddddddsssssssssssssssssssssssssssssggggggggggggggggggggggggggggggggggggggadsssssssssssssssssssssssssssssssllllllllllllllllllllllllllllllllllllllllllllllllllllllllllllllllllllllllllllllllllllllllllllllllllllllddddddddddddddddddddddddddddddddddddsssssssssssssssssssssssssssssggggggggggggggggggggggggggggggggggggggadsssssssssssssssssssssssssssssssllllllllllllllllllllllllllllllllllllllllllllllllllllllllllllllllllllllllllllllllllllllllllllllllllllllddddddddddddddddddddddddddddddddddddsssssssssssssssssssssssssssssggggggggggggggggggggggggggggggggggggggadsssssssssssssssssssssssssssssssllllllllllllllllllllllllllllllllllllllllllllllllllllllllllllllllllllllllllllllllllllllllllllllllllllllddddddddddddddddddddddddddddddddddddsssssssssssssssssssssssssssssggggggggggggggggggggggggggggggggggggggadsssssssssssssssssssssssssssssssllllllllllllllllllllllllllllllllllllllllllllllllllllllllllllllllllllllllllllllllllllllllllllllllllllllddddddddddddddddddddddddddddddddddddsssssssssssssssssssssssssssssggggggggggggggggggggggggggggggggggggggadsssssssssssssssssssssssssssssssllllllllllllllllllllllllllllllllllllllllllllllllllllllllllllllllllllllllllllllllllllllllllllllllllllllddddddddddddddddddddddddddddddddddddsssssssssssssssssssssssssssssggggggggggggggggggggggggggggggggggggggadsssssssssssssssssssssssssssssssllllllllllllllllllllllllllllllllllllllllllllllllllllllllllllllllllllllllllllllllllllllllllllllllllllllddddddddddddddddddddddddddddddddddddsssssssssssssssssssssssssssssggggggggggggggggggggggggggggggggggggggadsssssssssssssssssssssssssssssssllllllllllllllllllllllllllllllllllllllllllllllllllllllllllllllllllllllllllllllllllllllllllllllllllllllddddddddddddddddddddddddddddddddddddsssssssssssssssssssssssssssssggggggggggggggggggggggggggggggggggggggadsssssssssssssssssssssssssssssssllllllllllllllllllllllllllllllllllllllllllllllllllllllllllllllllllllllllllllllllllllllllllllllllllllllddddddddddddddddddddddddddddddddddddsssssssssssssssssssssssssssssggggggggggggggggggggggggggggggggggggggadsssssssssssssssssssssssssssssssllllllllllllllllllllllllllllllllllllllllllllllllllllllllllllllllllllllllllllllllllllllllllllllllllllllddddddddddddddddddddddddddddddddddddsssssssssssssssssssssssssssssggggggggggggggggggggggggggggggggggggggadsssssssssssssssssssssssssssssssllllllllllllllllllllllllllllllllllllllllllllllllllllllllllllllllllllllllllllllllllllllllllllllllllllllddddddddddddddddddddddddddddddddddddsssssssssssssssssssssssssssssggggggggggggggggggggggggggggggggggggggadsssssssssssssssssssssssssssssssllllllllllllllllllllllllllllllllllllllllllllllllllllllllllllllllllllllllllllllllllllllllllllllllllllllddddddddddddddddddddddddddddddddddddsssssssssssssssssssssssssssssggggggggggggggggggggggggggggggggggggggadsssssssssssssssssssssssssssssssllllllllllllllllllllllllllllllllllllllllllllllllllllllllllllllllllllllllllllllllllllllllllllllllllllllddddddddddddddddddddddddddddddddddddsssssssssssssssssssssssssssssggggggggggggggggggggggggggggggggggggggadsssssssssssssssssssssssssssssssllllllllllllllllllllllllllllllllllllllllllllllllllllllllllllllllllllllllllllllllllllllllllllllllllllllddddddddddddddddddddddddddddddddddddsssssssssssssssssssssssssssssggggggggggggggggggggggggggggggggggggggadsssssssssssssssssssssssssssssssllllllllllllllllllllllllllllllllllllllllllllllllllllllllllllllllllllllllllllllllllllllllllllllllllllllddddddddddddddddddddddddddddddddddddsssssssssssssssssssssssssssssggggggggggggggggggggggggggggggggggggggadsssssssssssssssssssssssssssssssllllllllllllllllllllllllllllllllllllllllllllllllllllllllllllllllllllllllllllllllllllllllllllllllllllllddddddddddddddddddddddddddddddddddddsssssssssssssssssssssssssssssggggggggggggggggggggggggggggggggggggggadsssssssssssssssssssssssssssssssllllllllllllllllllllllllllllllllllllllllllllllllllllllllllllllllllllllllllllllllllllllllllllllllllllllddddddddddddddddddddddddddddddddddddsssssssssssssssssssssssssssssggggggggggggggggggggggggggggggggggggggadsssssssssssssssssssssssssssssssllllllllllllllllllllllllllllllllllllllllllllllllllllllllllllllllllllllllllllllllllllllllllllllllllllllddddddddddddddddddddddddddddddddddddsssssssssssssssssssssssssssssggggggggggggggggggggggggggggggggggggggadsssssssssssssssssssssssssssssssllllllllllllllllllllllllllllllllllllllllllllllllllllllllllllllllllllllllllllllllllllllllllllllllllllllddddddddddddddddddddddddddddddddddddsssssssssssssssssssssssssssssggggggggggggggggggggggggggggggggggggggadsssssssssssssssssssssssssssssssllllllllllllllllllllllllllllllllllllllllllllllllllllllllllllllllllllllllllllllllllllllllllllllllllllllddddddddddddddddddddddddddddddddddddsssssssssssssssssssssssssssssggggggggggggggggggggggggggggggggggggggadsssssssssssssssssssssssssssssssllllllllllllllllllllllllllllllllllllllllllllllllllllllllllllllllllllllllllllllllllllllllllllllllllllllddddddddddddddddddddddddddddddddddddsssssssssssssssssssssssssssssggggggggggggggggggggggggggggggggggggggadsssssssssssssssssssssssssssssssllllllllllllllllllllllllllllllllllllllllllllllllllllllllllllllllllllllllllllllllllllllllllllllllllllllddddddddddddddddddddddddddddddddddddsssssssssssssssssssssssssssssggggggggggggggggggggggggggggggggggggggadsssssssssssssssssssssssssssssssllllllllllllllllllllllllllllllllllllllllllllllllllllllllllllllllllllllllllllllllllllllllllllllllllllllddddddddddddddddddddddddddddddddddddsssssssssssssssssssssssssssssggggggggggggggggggggggggggggggggggggggadsssssssssssssssssssssssssssssssllllllllllllllllllllllllllllllllllllllllllllllllllllllllllllllllllllllllllllllllllllllllllllllllllllllddddddddddddddddddddddddddddddddddddsssssssssssssssssssssssssssssggggggggggggggggggggggggggggggggggggggadsssssssssssssssssssssssssssssssllllllllllllllllllllllllllllllllllllllllllllllllllllllllllllllllllllllllllllllllllllllllllllllllllllllddddddddddddddddddddddddddddddddddddsssssssssssssssssssssssssssssggggggggggggggggggggggggggggggggggggggadsssssssssssssssssssssssssssssssllllllllllllllllllllllllllllllllllllllllllllllllllllllllllllllllllllllllllllllllllllllllllllllllllllllddddddddddddddddddddddddddddddddddddsssssssssssssssssssssssssssssgggggggggggggggggggggggggggggggggggggg\\n'},\n",
       "    {'name': 'DOB', 'value': '2'}]},\n",
       "  'schema_id': 'TDAbSf3Uqebg8N4XvybMbg:2:GMC Licence:0.0.1',\n",
       "  'comment': 'create automated credential exchange'},\n",
       " 'credential_definition_id': 'TDAbSf3Uqebg8N4XvybMbg:3:CL:12:default',\n",
       " 'credential_offer': {'schema_id': 'TDAbSf3Uqebg8N4XvybMbg:2:GMC Licence:0.0.1',\n",
       "  'cred_def_id': 'TDAbSf3Uqebg8N4XvybMbg:3:CL:12:default',\n",
       "  'key_correctness_proof': {'c': '47517720309318183480963585112080416749240054071586072900007837587553065479572',\n",
       "   'xz_cap': '1017179326873113886498536749401155277033089465816304114898744226497105584555386907020365171681344642684959518348973334085574308937234119280806605298684425317584837560421531964814812995485386757767049389526187808265743222924189662470399433642054044839418499926910063208956281799004229874988212808070491393598724338184928540006602243507527193649231792416796283248997174357748348785807113038849059908654880199914275518957496664046535111855522489975515963720523321501400173179946022453705746913668089180331299560558854495389478867655083511118137774483617670196530929062212268211456058118537963296564856767250931059357618934987002112765850775221538093051299977499132383924465424874000123037132271789',\n",
       "   'xr_cap': [['name',\n",
       "     '269589555159089113320022930136071088356066849947080971081282646486170775079294375902755826711801566720211682050647709106682421923134597424579408242821614340421596622941615673258014360044674215121561650953228020745263132044885242319498467837095330195001531855318518373750087865042827214356291573448267961797257814407433483444706969171880702479482755731687317654644231371825212413988353296439135678101812077773958185522440015507779027610490561743754766073351216225388072537350528216174055879235497628955178054995643266880272372615248863020078908175336576370409423072952508194776016612119553135708904248369491545758793997317847010215853017841899045388052328244348129137591675841550343464537637728'],\n",
       "    ['headshot',\n",
       "     '1052462002660698108628751907149024415547939612345522123467141452750569184847993931647866878934044748185408284400753662193263618245797446795782926974260085553208242164947726368270621198422850851757623085522201565589264431997465295037371933352042424527097720655931292902245803623454456744035580993646189319580662305254539044801681519917902601913777987632884174399532425913052115804449345982172282243293132043121280351391352186781765532865555486282850856020390100629553805646978106638947541390487602057861491366524188216858830663584955640621208958903291993916422549744424652447317922653938324977414876746091597369325697194940148027957850084560598839030487989285253352209533314119342689122654716493'],\n",
       "    ['licencedfrom',\n",
       "     '615394937759846754813293306926042758249424445587383878034312769444659340686896530562356037523013139986467829903104169756499727690257549950756190849976288717976459886186991617375561201985401506064901491032551907044686568286623186036412926226523298809807803526816743860785394800501090010698640347748483392557608816082630749080914686556573298758190808291851414472226735386323330881649517188075602802811032085927139434601505578573637308383426403679646441677034216194913950695728700816275883558776686132584598603320383767142726171812010282922728089909428385859591276700011350245667608813528697703617486782443252726538962158326778250964368507043953408533869845849856063465625320852736796727326484815'],\n",
       "    ['gmcnumber',\n",
       "     '110474404348811168510307964146985885071536937904990709319528351681743137488100943635315865049173884188807250127031470862399466180837169338359058551717596107211326045093230717491411174677556968860794624375977828826276914982932083770523889090292022377418600963046812874556520713326422722662397593564521772296618531947020205675003395687818144945008285719603939512962110251151740677389847297592236624759476969171496712729503569020327127852744281719813204192961029079804870818644389962820862088727909912537837739125000909753883894294114665093875107254986901341041721397501615619350949116238980641640186467439945211867516673208286666285913259246030042214520784600387968297442954031438196808284038350'],\n",
       "    ['master_secret',\n",
       "     '338949112813665555813823080673176390193460778342042841522481153213273508515062512683190706612711963651896590995301340877440497793472879101172653466242783447423142685117441807272984641068513004971987555834023463217838763718761612542973795564110647388905934296211647238012598763146499291843159578622800659602655286551349778452060655703292177623737146233952934887660068219564600364391091957824211361176852611076689564273973617104873705779980726270666005852199261768492430950708709222343257529842706193040639035429395324824759217236646012108928930713675737036207876476771977785506267352284366652647750595456767774472763153123982282173016999393220843746870866817724296501309781427562441966307903956'],\n",
       "    ['responsibleofficergmcnumber',\n",
       "     '784150221166590220234823152689332729503709247910296410359643802639752178440591493281755837509395640455490057070501370556312653279932700123575866917273394452186866866919360532613190539204912701142754433792447613000878637910499304960796417620883079023380259710763969164512359924021776963943921375587548289752049972957463593387825269698449100360019654515355897045293644995718904125302915468499528308433833747711691627888647516776521440308368907526494144737483822411164617882131562749354276365739270867106523712930498986058180500572818174927314986514011038124189517923233241699421052645011517083753312589475727633831629849046611179516227453716562098363547923440776754098189837893806898562085043956'],\n",
       "    ['dob',\n",
       "     '141361352828167822503182889704160024809547986348775756264680474717121893372492475112569641307264531399904090745656313629430157406663466536879159653073220951641617696185845456219144437674078072484098770706490283413860725899884976240380129790386590158614384532076818274846138264077965415293847469323453224145075054240305111166601480492297567191696031235516391757486771873280711445010127365177161479133290289770632609999533921620452037678061723304954988597758930729581288560810291668639518060028893679105239507425225913972848904692422254185705725778120903010789763692020732624422104914140650576463661896385580612062385546150528210025543019474144246530665121417801576027338916130476823256825587083'],\n",
       "    ['re-validationdue',\n",
       "     '1106182936003642371481654901647498842667039476896401333181769480428719139275715034615577291191372475857207438895576699632224123633577400127532186301129348775568328092883568179951680851302848511685906997069118836014068974605770267843081142640897396794231568269067463064569539156780850044716336548827483039084599119634784737226798749383805257626982078002741217484847693505081937353667185144197495985665034493888776566260945426674145086948258641261219557113953332664302566174647472918794538509959486801709460882410336866752280092091252641009641833129886404462023341305968277537290999240037048079850886087017553844487451050278195734661012603271120870566327744777271989425103147635236795244678415123']]},\n",
       "  'nonce': '918217804503768555590679'},\n",
       " 'credential_request_metadata': {'master_secret_blinding_data': {'v_prime': '303609620470233457696033815700651124238053246007108388203116563434867099263030487261146919340502566841714540067984346699731337302113371926452733946423888637817515996393652186096961821100759594595503089522643296489573276300240377493280109198009380145867903256034432969579231887178530505439400868457939333666234897424900783893468758533579321577249085990609548068950108142218758209885864266711239059574668943588290681434880701637808141598182022130324688264639586133652176819170814799661303973588169408528832961507258358164111809378316854781231180429549616743059359816861684540851103378272201390151118330280889021029415882872835669683259508686',\n",
       "   'vr_prime': '0872216C13A23F1917D6A99A08036260198A1275FC6FD29D029D52BDDA0DD0A8'},\n",
       "  'nonce': '681299299543282761486651',\n",
       "  'master_secret_name': 'Medic'},\n",
       " 'updated_at': '2021-05-18 14:10:17.274750Z',\n",
       " 'credential_request': {'prover_did': '2X5mT8wrqvkTkHZ2k5HiRZ',\n",
       "  'cred_def_id': 'TDAbSf3Uqebg8N4XvybMbg:3:CL:12:default',\n",
       "  'blinded_ms': {'u': '5339596472346260331854213480473649394024982592393197709113057654269510008335707990738514729995709685330863780056214942318143361530226779126412394030611211045699799896074198515148216737159428639082912471511614051663351468664516770757433369530297991062294094121055297138219708855754075911829276007759167422846453470327542173653231796187364443682627693784876957439155468400586321867633800184047664080675199105041146311011415945506442738827541153374612473022385038279577728088396079033312159443245869360865067036939080697540075749215457461753432287977035507650139113261985195746805958658474612077336190479891024873634427',\n",
       "   'ur': '1 0A111AF0385162304BFD4463811EA040CC1E1BD297E58BB284C68A1BFABD070C 1 0228A1CADAE55CCE6913E2D5FC017596D94ACE549F42F4F9F2014AFF6453FB14 2 095E45DDF417D05FB10933FFC63D474548B7FFFF7888802F07FFFFFF7D07A8A8',\n",
       "   'hidden_attributes': ['master_secret'],\n",
       "   'committed_attributes': {}},\n",
       "  'blinded_ms_correctness_proof': {'c': '31959436494212737829973458056313753764622622946673944007765630548775162419009',\n",
       "   'v_dash_cap': '9703192384450457860408330944495987224391630319000370376130891228499602227288503687146554348171165168334287599484681302144212451038672343094407181663333892259967453492418260593627523765265717356868093342097383870691911460324271791463484867960614695305819265266425848202270138152948781968316711244550317272012918079655415316038032393638959012538598748672090997154611705222140239104860604782013894719507647996893341737970149915719830053037918115306574431019252383861764240562031203416129010268463299702986253633597733998277616860335923297299751238474579147471709938502183826385154566507450548616478552590696559939954596375662999582797754521017085286359150575497086133558696331042739519275092744914815645608211315319205',\n",
       "   'm_caps': {'master_secret': '12549788609920845489616193931169586556048675866560660607203880109012048212172845158915794612135959180300262867058312626692903341989140782251071497878326480131256910770323825302655'},\n",
       "   'r_caps': {}},\n",
       "  'nonce': '681299299543282761486651'},\n",
       " 'created_at': '2021-05-18 14:08:55.419984Z',\n",
       " 'auto_issue': False,\n",
       " 'thread_id': 'b891ed41-bfcc-4071-8333-bcbffc5b4f4b',\n",
       " 'state': 'request_sent',\n",
       " 'auto_offer': False,\n",
       " 'connection_id': '06f7b4c2-63aa-4247-bb95-c2213fc5a467',\n",
       " 'trace': True,\n",
       " 'credential_exchange_id': '6d31cee3-0ad5-4f65-a388-0f27f0d0a1f0'}"
      ]
     },
     "execution_count": 13,
     "metadata": {},
     "output_type": "execute_result"
    },
    {
     "name": "stdout",
     "output_type": "stream",
     "text": [
      "\n",
      "---------------------------------------------------\n",
      "\n",
      "Handle Issue Credential Webhook\n",
      "Connection ID : 06f7b4c2-63aa-4247-bb95-c2213fc5a467\n",
      "Credential exchange ID : 6d31cee3-0ad5-4f65-a388-0f27f0d0a1f0\n",
      "Agent Protocol Role :  holder\n",
      "Protocol State :  request_sent\n",
      "\n",
      "---------------------------------------------------\n",
      "\n",
      "Handle Credential Webhook Payload\n",
      "\n",
      "A credential request object contains the commitment to the agents master secret using the nonce from the offer\n",
      "\n",
      "---------------------------------------------------\n",
      "\n",
      "Handle Issue Credential Webhook\n",
      "Connection ID : 06f7b4c2-63aa-4247-bb95-c2213fc5a467\n",
      "Credential exchange ID : 6d31cee3-0ad5-4f65-a388-0f27f0d0a1f0\n",
      "Agent Protocol Role :  holder\n",
      "Protocol State :  credential_received\n",
      "\n",
      "---------------------------------------------------\n",
      "\n",
      "Handle Credential Webhook Payload\n",
      "Received Credential\n"
     ]
    }
   ],
   "source": [
    "await agent_controller.issuer.send_request_for_record(record_id)"
   ]
  },
  {
   "cell_type": "code",
   "execution_count": 11,
   "id": "1b3a3079",
   "metadata": {},
   "outputs": [
    {
     "data": {
      "text/plain": [
       "{}"
      ]
     },
     "execution_count": 11,
     "metadata": {},
     "output_type": "execute_result"
    }
   ],
   "source": [
    "await agent_controller.issuer.remove_record(record_id)"
   ]
  },
  {
   "cell_type": "code",
   "execution_count": null,
   "id": "8d7042ac",
   "metadata": {},
   "outputs": [],
   "source": []
  },
  {
   "cell_type": "markdown",
   "id": "9a68ac94",
   "metadata": {},
   "source": [
    "## Store Received Credential\n",
    "\n",
    "This will be done automatically if the ACAPY_AUTO_STORE_CREDENTIAL=true flag is set in the .env file for this agent. Default is false.\n",
    "\n",
    "Again you could handle this in your holder handler function in the `elif state == \"credential_received\":` loop."
   ]
  },
  {
   "cell_type": "code",
   "execution_count": 14,
   "id": "9fb6ab46",
   "metadata": {},
   "outputs": [
    {
     "ename": "ClientResponseError",
     "evalue": "500, message='Internal Server Error', url=URL('http://medic-agent:3021/issue-credential/records/6d31cee3-0ad5-4f65-a388-0f27f0d0a1f0/store')",
     "output_type": "error",
     "traceback": [
      "\u001b[0;31m---------------------------------------------------------------------------\u001b[0m",
      "\u001b[0;31mClientResponseError\u001b[0m                       Traceback (most recent call last)",
      "\u001b[0;32m<ipython-input-14-7ee1cd8d1d9d>\u001b[0m in \u001b[0;36masync-def-wrapper\u001b[0;34m()\u001b[0m\n",
      "\u001b[0;32m/opt/conda/lib/python3.7/site-packages/aries_cloudcontroller/controllers/issuer.py\u001b[0m in \u001b[0;36mstore_credential\u001b[0;34m(self, cred_ex_id, credential_id)\u001b[0m\n\u001b[1;32m     94\u001b[0m             \u001b[0;34m\"credential_id\"\u001b[0m\u001b[0;34m:\u001b[0m \u001b[0mcredential_id\u001b[0m\u001b[0;34m\u001b[0m\u001b[0;34m\u001b[0m\u001b[0m\n\u001b[1;32m     95\u001b[0m         }\n\u001b[0;32m---> 96\u001b[0;31m         \u001b[0;32mreturn\u001b[0m \u001b[0;32mawait\u001b[0m \u001b[0mself\u001b[0m\u001b[0;34m.\u001b[0m\u001b[0madmin_POST\u001b[0m\u001b[0;34m(\u001b[0m\u001b[0;34mf\"{self.base_url}/records/{cred_ex_id}/store\"\u001b[0m\u001b[0;34m,\u001b[0m \u001b[0mjson_data\u001b[0m\u001b[0;34m=\u001b[0m\u001b[0mbody\u001b[0m\u001b[0;34m)\u001b[0m\u001b[0;34m\u001b[0m\u001b[0;34m\u001b[0m\u001b[0m\n\u001b[0m\u001b[1;32m     97\u001b[0m \u001b[0;34m\u001b[0m\u001b[0m\n\u001b[1;32m     98\u001b[0m     \u001b[0;31m# Revoke and issued credential\u001b[0m\u001b[0;34m\u001b[0m\u001b[0;34m\u001b[0m\u001b[0;34m\u001b[0m\u001b[0m\n",
      "\u001b[0;32m/opt/conda/lib/python3.7/site-packages/aries_cloudcontroller/controllers/base.py\u001b[0m in \u001b[0;36madmin_POST\u001b[0;34m(self, path, json_data, text, params, data)\u001b[0m\n\u001b[1;32m     93\u001b[0m                 \u001b[0;34m(\u001b[0m\u001b[0;34m\" with data: \\n{}\"\u001b[0m\u001b[0;34m.\u001b[0m\u001b[0mformat\u001b[0m\u001b[0;34m(\u001b[0m\u001b[0mrepr_json\u001b[0m\u001b[0;34m(\u001b[0m\u001b[0mjson_data\u001b[0m\u001b[0;34m)\u001b[0m\u001b[0;34m)\u001b[0m \u001b[0;32mif\u001b[0m \u001b[0mjson_data\u001b[0m \u001b[0;32melse\u001b[0m \u001b[0;34m\"\"\u001b[0m\u001b[0;34m)\u001b[0m\u001b[0;34m,\u001b[0m\u001b[0;34m\u001b[0m\u001b[0;34m\u001b[0m\u001b[0m\n\u001b[1;32m     94\u001b[0m             )\n\u001b[0;32m---> 95\u001b[0;31m             \u001b[0mresponse\u001b[0m \u001b[0;34m=\u001b[0m \u001b[0;32mawait\u001b[0m \u001b[0mself\u001b[0m\u001b[0;34m.\u001b[0m\u001b[0madmin_request\u001b[0m\u001b[0;34m(\u001b[0m\u001b[0;34m\"POST\"\u001b[0m\u001b[0;34m,\u001b[0m \u001b[0mpath\u001b[0m\u001b[0;34m,\u001b[0m \u001b[0mjson_data\u001b[0m\u001b[0;34m,\u001b[0m \u001b[0mtext\u001b[0m\u001b[0;34m,\u001b[0m \u001b[0mparams\u001b[0m\u001b[0;34m,\u001b[0m \u001b[0mdata\u001b[0m\u001b[0;34m)\u001b[0m\u001b[0;34m\u001b[0m\u001b[0;34m\u001b[0m\u001b[0m\n\u001b[0m\u001b[1;32m     96\u001b[0m             EVENT_LOGGER.debug(\n\u001b[1;32m     97\u001b[0m                 \u001b[0;34m\"Response from POST %s received: \\n%s\"\u001b[0m\u001b[0;34m,\u001b[0m\u001b[0;34m\u001b[0m\u001b[0;34m\u001b[0m\u001b[0m\n",
      "\u001b[0;32m/opt/conda/lib/python3.7/site-packages/aries_cloudcontroller/controllers/base.py\u001b[0m in \u001b[0;36madmin_request\u001b[0;34m(self, method, path, json_data, text, params, data)\u001b[0m\n\u001b[1;32m     61\u001b[0m             \u001b[0mmethod\u001b[0m\u001b[0;34m,\u001b[0m \u001b[0mself\u001b[0m\u001b[0;34m.\u001b[0m\u001b[0madmin_url\u001b[0m \u001b[0;34m+\u001b[0m \u001b[0mpath\u001b[0m\u001b[0;34m,\u001b[0m \u001b[0mjson\u001b[0m\u001b[0;34m=\u001b[0m\u001b[0mjson_data\u001b[0m\u001b[0;34m,\u001b[0m \u001b[0mparams\u001b[0m\u001b[0;34m=\u001b[0m\u001b[0mparams\u001b[0m\u001b[0;34m,\u001b[0m \u001b[0mdata\u001b[0m\u001b[0;34m=\u001b[0m\u001b[0mdata\u001b[0m\u001b[0;34m\u001b[0m\u001b[0;34m\u001b[0m\u001b[0m\n\u001b[1;32m     62\u001b[0m         ) as resp:\n\u001b[0;32m---> 63\u001b[0;31m             \u001b[0mresp\u001b[0m\u001b[0;34m.\u001b[0m\u001b[0mraise_for_status\u001b[0m\u001b[0;34m(\u001b[0m\u001b[0;34m)\u001b[0m\u001b[0;34m\u001b[0m\u001b[0;34m\u001b[0m\u001b[0m\n\u001b[0m\u001b[1;32m     64\u001b[0m             \u001b[0mresp_text\u001b[0m \u001b[0;34m=\u001b[0m \u001b[0;32mawait\u001b[0m \u001b[0mresp\u001b[0m\u001b[0;34m.\u001b[0m\u001b[0mtext\u001b[0m\u001b[0;34m(\u001b[0m\u001b[0;34m)\u001b[0m\u001b[0;34m\u001b[0m\u001b[0;34m\u001b[0m\u001b[0m\n\u001b[1;32m     65\u001b[0m             \u001b[0;32mif\u001b[0m \u001b[0;32mnot\u001b[0m \u001b[0mresp_text\u001b[0m \u001b[0;32mand\u001b[0m \u001b[0;32mnot\u001b[0m \u001b[0mtext\u001b[0m\u001b[0;34m:\u001b[0m\u001b[0;34m\u001b[0m\u001b[0;34m\u001b[0m\u001b[0m\n",
      "\u001b[0;32m/opt/conda/lib/python3.7/site-packages/aiohttp/client_reqrep.py\u001b[0m in \u001b[0;36mraise_for_status\u001b[0;34m(self)\u001b[0m\n\u001b[1;32m   1003\u001b[0m                 \u001b[0mstatus\u001b[0m\u001b[0;34m=\u001b[0m\u001b[0mself\u001b[0m\u001b[0;34m.\u001b[0m\u001b[0mstatus\u001b[0m\u001b[0;34m,\u001b[0m\u001b[0;34m\u001b[0m\u001b[0;34m\u001b[0m\u001b[0m\n\u001b[1;32m   1004\u001b[0m                 \u001b[0mmessage\u001b[0m\u001b[0;34m=\u001b[0m\u001b[0mself\u001b[0m\u001b[0;34m.\u001b[0m\u001b[0mreason\u001b[0m\u001b[0;34m,\u001b[0m\u001b[0;34m\u001b[0m\u001b[0;34m\u001b[0m\u001b[0m\n\u001b[0;32m-> 1005\u001b[0;31m                 \u001b[0mheaders\u001b[0m\u001b[0;34m=\u001b[0m\u001b[0mself\u001b[0m\u001b[0;34m.\u001b[0m\u001b[0mheaders\u001b[0m\u001b[0;34m,\u001b[0m\u001b[0;34m\u001b[0m\u001b[0;34m\u001b[0m\u001b[0m\n\u001b[0m\u001b[1;32m   1006\u001b[0m             )\n\u001b[1;32m   1007\u001b[0m \u001b[0;34m\u001b[0m\u001b[0m\n",
      "\u001b[0;31mClientResponseError\u001b[0m: 500, message='Internal Server Error', url=URL('http://medic-agent:3021/issue-credential/records/6d31cee3-0ad5-4f65-a388-0f27f0d0a1f0/store')"
     ]
    },
    {
     "name": "stdout",
     "output_type": "stream",
     "text": [
      "\u001b[0m\u001b[?7h\u001b[0;34mError during POST /issue-credential/records/6d31cee3-0ad5-4f65-a388-0f27f0d0a1f0/store: 500, message='Internal Server Error', url=URL('http://medic-agent:3021/issue-credential/records/6d31cee3-0ad5-4f65-a388-0f27f0d0a1f0/store')\u001b[0m\n",
      "\u001b[0m"
     ]
    }
   ],
   "source": [
    "# Optionally specify an identifier to uniquely identify this credential within your agents wallet.\n",
    "# You would likely want to save this somewhere.\n",
    "# If not set a random one will be generated for you\n",
    "credential_id = \"GMC4\"\n",
    "\n",
    "store_cred_response = await agent_controller.issuer.store_credential(record_id, credential_id)"
   ]
  },
  {
   "cell_type": "markdown",
   "id": "5650f32f",
   "metadata": {},
   "source": [
    "## Terminate Controller\n",
    "\n",
    "Whenever you have finished with this notebook, be sure to terminate the controller. This is especially important if your business logic runs across multiple notebooks."
   ]
  },
  {
   "cell_type": "code",
   "execution_count": 102,
   "id": "3c672afd",
   "metadata": {},
   "outputs": [],
   "source": [
    "await agent_controller.terminate()"
   ]
  },
  {
   "cell_type": "code",
   "execution_count": null,
   "id": "c0cd8576",
   "metadata": {},
   "outputs": [],
   "source": []
  }
 ],
 "metadata": {
  "kernelspec": {
   "display_name": "Python 3",
   "language": "python",
   "name": "python3"
  },
  "language_info": {
   "codemirror_mode": {
    "name": "ipython",
    "version": 3
   },
   "file_extension": ".py",
   "mimetype": "text/x-python",
   "name": "python",
   "nbconvert_exporter": "python",
   "pygments_lexer": "ipython3",
   "version": "3.7.6"
  }
 },
 "nbformat": 4,
 "nbformat_minor": 5
}
