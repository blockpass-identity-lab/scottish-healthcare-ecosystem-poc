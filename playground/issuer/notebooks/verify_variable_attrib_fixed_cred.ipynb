{
 "cells": [
  {
   "cell_type": "markdown",
   "id": "89b3126a",
   "metadata": {},
   "source": [
    "# ACA-Py & ACC-Py Verifier Template\n",
    "\n",
    "## Copy this template into the root folder of your notebook workspace to get started"
   ]
  },
  {
   "cell_type": "markdown",
   "id": "da515798",
   "metadata": {},
   "source": [
    "### Imports"
   ]
  },
  {
   "cell_type": "code",
   "execution_count": null,
   "id": "106c4c1c",
   "metadata": {},
   "outputs": [],
   "source": [
    "from aries_cloudcontroller import AriesAgentController\n",
    "\n",
    "from libs.performance_service import PerformanceService\n",
    "import os\n",
    "import time\n",
    "from termcolor import colored"
   ]
  },
  {
   "cell_type": "markdown",
   "id": "12ba2c76",
   "metadata": {},
   "source": [
    "### Initialise the Agent Controller"
   ]
  },
  {
   "cell_type": "code",
   "execution_count": null,
   "id": "8ebafb07",
   "metadata": {},
   "outputs": [],
   "source": [
    "api_key = os.getenv(\"ACAPY_ADMIN_API_KEY\")\n",
    "admin_url = os.getenv(\"ADMIN_URL\")\n",
    "\n",
    "print(f\"Initialising a controller with admin api at {admin_url} and an api key of {api_key}\")\n",
    "agent_controller = AriesAgentController(admin_url,api_key)"
   ]
  },
  {
   "cell_type": "markdown",
   "id": "2c34464b",
   "metadata": {},
   "source": [
    "### Start a Webhook Server"
   ]
  },
  {
   "cell_type": "code",
   "execution_count": null,
   "id": "faf3599e",
   "metadata": {},
   "outputs": [],
   "source": [
    "webhook_port = int(os.getenv(\"WEBHOOK_PORT\"))\n",
    "webhook_host = \"0.0.0.0\"\n",
    "\n",
    "await agent_controller.init_webhook_server(webhook_host, webhook_port)\n",
    "\n",
    "print(f\"Listening for webhooks from agent at http://{webhook_host}:{webhook_port}\")"
   ]
  },
  {
   "cell_type": "markdown",
   "id": "6136fc48",
   "metadata": {},
   "source": [
    "## Store Issuing Schema and Cred Def Identifiers\n",
    "\n",
    "If you intend for this agent to issue credentials you should first initialise your agent as an issuer and author the relevant identifiers to the public ledger. The issuer_initialisation recipe notebook can be duplicated and used as a starting point.\n",
    "\n",
    "Once schema and cred def identifiers are created copy across and store in variables as illustrated in the cell below. Be sure to use unique names for each variable."
   ]
  },
  {
   "cell_type": "code",
   "execution_count": null,
   "id": "f3661c66",
   "metadata": {},
   "outputs": [],
   "source": [
    "schema_id='H7zAaLJRZrdbPqbVMMfL5t:2:one-attrib:0.0.2'\n",
    "cred_def_id='H7zAaLJRZrdbPqbVMMfL5t:3:CL:8:default'\n",
    "rev_cred_def_id='H7zAaLJRZrdbPqbVMMfL5t:3:CL:8:revocable'\n",
    "\n",
    "five_schema_id='H7zAaLJRZrdbPqbVMMfL5t:2:five-attrib:0.0.1'\n",
    "five_cred_def_id='H7zAaLJRZrdbPqbVMMfL5t:3:CL:9:default'\n",
    "five_rev_cred_def_id='H7zAaLJRZrdbPqbVMMfL5t:3:CL:9:revocable'\n",
    "\n",
    "ten_schema_id='H7zAaLJRZrdbPqbVMMfL5t:2:ten-attrib:0.0.1'\n",
    "ten_cred_def_id='H7zAaLJRZrdbPqbVMMfL5t:3:CL:10:default'\n",
    "ten_rev_cred_def_id='H7zAaLJRZrdbPqbVMMfL5t:3:CL:10:revocable'\n",
    "\n",
    "twenty_schema_id='H7zAaLJRZrdbPqbVMMfL5t:2:twenty-attrib:0.0.1'\n",
    "twenty_cred_def_id='H7zAaLJRZrdbPqbVMMfL5t:3:CL:11:default'\n",
    "twenty_rev_cred_def_id='H7zAaLJRZrdbPqbVMMfL5t:3:CL:11:revocable'\n",
    "\n",
    "fifty_schema_id='H7zAaLJRZrdbPqbVMMfL5t:2:fifty-attrib:0.0.1'\n",
    "fifty_cred_def_id='H7zAaLJRZrdbPqbVMMfL5t:3:CL:12:default'\n",
    "fifty_rev_cred_def_id='H7zAaLJRZrdbPqbVMMfL5t:3:CL:12:revocable'\n",
    "\n",
    "hundred_schema_id='H7zAaLJRZrdbPqbVMMfL5t:2:hundred-attrib:0.0.1'\n",
    "hundred_cred_def_id='H7zAaLJRZrdbPqbVMMfL5t:3:CL:13:default'\n",
    "hundred_rev_cred_def_id='H7zAaLJRZrdbPqbVMMfL5t:3:CL:13:revocable'\n",
    "\n",
    "\n"
   ]
  },
  {
   "cell_type": "markdown",
   "id": "9b1599a8",
   "metadata": {},
   "source": [
    "## Init Performance Service"
   ]
  },
  {
   "cell_type": "code",
   "execution_count": null,
   "id": "c2dfc8e4",
   "metadata": {},
   "outputs": [],
   "source": [
    "performance_service = PerformanceService(agent_controller, iterations=20)"
   ]
  },
  {
   "cell_type": "markdown",
   "id": "79d77b12",
   "metadata": {},
   "source": [
    "## Establish Connection\n",
    "\n",
    "Before you can issue a credential you must first establish a connection across which the credential will be issued to a holder. (see recipes/connection)"
   ]
  },
  {
   "cell_type": "code",
   "execution_count": null,
   "id": "3c9815cc",
   "metadata": {},
   "outputs": [],
   "source": [
    "# Alias for invited connection\n",
    "alias = \"Friend\"\n",
    "auto_accept = \"true\"\n",
    "# Use public DID?\n",
    "public = \"false\"\n",
    "# Should this invitation be usable by multiple invitees?\n",
    "multi_use = \"false\"\n",
    "\n",
    "invitation_response = await agent_controller.connections.create_invitation(alias, auto_accept, public, multi_use)\n",
    "# Is equivalent to above. Arguments are optionally\n",
    "# invitation_response = await agent_controller.connections.create_invitation()\n",
    "\n",
    "\n",
    "\n",
    "# You will use this identifier to issue a credential across this connection\n",
    "connection_id = invitation_response[\"connection_id\"]\n",
    "\n",
    "invitation = invitation_response[\"invitation\"]\n",
    "## Copy this output\n",
    "print(invitation)\n",
    "print(connection_id)"
   ]
  },
  {
   "cell_type": "code",
   "execution_count": null,
   "id": "5973d717",
   "metadata": {},
   "outputs": [],
   "source": [
    "connection_id = \"2782d60f-65d0-4e14-8e28-55fa38735468\""
   ]
  },
  {
   "cell_type": "markdown",
   "id": "e8832bb5",
   "metadata": {},
   "source": [
    "## Define Presentation Request Object\n",
    "\n",
    "The below cell defines a generic presentation request object, that can be sent across specific connections requesting that they produce a presentation containing the identified attributes and meeting the restrictions.\n",
    "\n",
    "It is often useful to define your request objects first, then reuse these objects across many connections you wish to request a proof from. \n",
    "\n",
    "Duplicate and customise the below cell as many times as you need. It may be useful to save these request objects either to the jupyter store using %store or through\n",
    "\n",
    "TODO: Detail the full set of restrictions available to a verifier."
   ]
  },
  {
   "cell_type": "code",
   "execution_count": null,
   "id": "6d0ab80e",
   "metadata": {},
   "outputs": [],
   "source": [
    "# # We add a constraint that the attribute must originate from this schema\n",
    "# schema_id = \"<SOME SCHEMA ID>\"\n",
    "\n",
    "# trusted_issuer_did = \"<SOME ISSUER DID ON INDY NETWORK>\"\n",
    "\n",
    "# cred_def_id = \"<SOME CRED DEF>\"\n",
    "\n",
    "# # Define the list of attributes and restrictions under which each attribute was issued that a prover must satisfy with a presentation\n",
    "# # NOTE: if identifying a schema or credential definition then the attribute name must be contained within the corresponding schema.\n",
    "# req_attrs = [\n",
    "#     {\"name\": \"<attr_name_1>\", \"restrictions\": [{\"schema_id\": schema_id}]},\n",
    "#     {\"name\": \"<attr_name_2>\", \"restrictions\": [{\"cred_def_id\": cred_def_id}]},\n",
    "#     #NOTE: you do not need to specify any restrictions. This means the prover can present a self-attested attribute to satisfy this request. \n",
    "#     # Although the business logic (this notebook) can still determine this is unacceptable.\n",
    "#     {\"name\": \"<attr_name_3>\", \"restrictions\":[]}\n",
    "#     # You can also specify individual attributes be non-revoked\n",
    "#     {\"name\": \"<attr_name_4>\", \"restrictions\": [], \"non_revoked\": {\"to\": int(time.time() - 1)}}\n",
    "# ]\n",
    "\n",
    "# # We could extend this to request the name attribute aswell if we wanted.\n",
    "\n",
    "\n",
    "# proof_request = {\n",
    "#     \"name\": \"Name of Proof Request\",\n",
    "#     \"version\": \"1.0\",\n",
    "\n",
    "#     # Predicates allow us to specify range proofs or set membership on attributes. For example greater than 10.\n",
    "#     # We will ignore these for now.\n",
    "#     \"requested_predicates\": {\n",
    "# #         f\"0_{req_pred['name']}_GE_uuid\":\n",
    "# #         req_pred for req_pred in req_preds\n",
    "#     },\n",
    "#     # You can also request the entire proof request be non-revoked\n",
    "#     \"non_revoked\":  {\"to\": int(time.time())}\n",
    "# }"
   ]
  },
  {
   "cell_type": "code",
   "execution_count": null,
   "id": "cdc61a21",
   "metadata": {},
   "outputs": [],
   "source": [
    "proof_request = {\n",
    "    \"name\": \"Name of Proof Request\",\n",
    "    \"version\": \"1.0\",\n",
    "\n",
    "    # Predicates allow us to specify range proofs or set membership on attributes. For example greater than 10.\n",
    "    # We will ignore these for now.\n",
    "    \"requested_predicates\": {\n",
    "#         f\"0_{req_pred['name']}_GE_uuid\":\n",
    "#         req_pred for req_pred in req_preds\n",
    "    },\n",
    "    # You can also request the entire proof request be non-revoked\n",
    "    \"non_revoked\":  {\"to\": int(time.time())}\n",
    "}"
   ]
  },
  {
   "cell_type": "markdown",
   "id": "0877f5ad",
   "metadata": {},
   "source": [
    "# Single Disclosed Attribute from Variable Size Credential Experiment\n"
   ]
  },
  {
   "cell_type": "code",
   "execution_count": null,
   "id": "bb6948b5",
   "metadata": {},
   "outputs": [],
   "source": [
    "experiment = performance_service.new_experiment(\"Single Attribute from Variable Credentials - Non Revocable\")\n"
   ]
  },
  {
   "cell_type": "code",
   "execution_count": null,
   "id": "3beb7658",
   "metadata": {},
   "outputs": [],
   "source": [
    "revocable_experiment = performance_service.new_experiment(\"Single Attribute from Variable Credential - Revocable\")"
   ]
  },
  {
   "cell_type": "markdown",
   "id": "1d1f5840",
   "metadata": {},
   "source": [
    "## Performance Test - One Attribute Credential"
   ]
  },
  {
   "cell_type": "code",
   "execution_count": null,
   "id": "0d21d6d0",
   "metadata": {},
   "outputs": [],
   "source": [
    "req_attrs = [\n",
    "    {\"name\": \"1\", \"restrictions\": [{\"schema_id\": schema_id, \"cred_def_id\": cred_def_id}]},\n",
    "]\n",
    "\n",
    "proof_request[\"requested_attributes\"] = {\n",
    "        # They generally follow this uuid pattern. Unique identifier for attribute within context of this proof request\n",
    "        # Note that req_attr['name'] gets the attribute name of each object. E.g. domain and name in this case\n",
    "        f\"0_{req_attr['name']}_uuid\":\n",
    "        req_attr for req_attr in req_attrs\n",
    "}"
   ]
  },
  {
   "cell_type": "code",
   "execution_count": null,
   "id": "ff91f730",
   "metadata": {},
   "outputs": [],
   "source": [
    "name = \"1\""
   ]
  },
  {
   "cell_type": "code",
   "execution_count": null,
   "id": "5caae1ec",
   "metadata": {},
   "outputs": [],
   "source": [
    "test = {\"name\": name, \"proof_request\": proof_request}\n",
    "\n",
    "await performance_service.run_verification(experiment, test, connection_id)"
   ]
  },
  {
   "cell_type": "code",
   "execution_count": null,
   "id": "097a4137",
   "metadata": {},
   "outputs": [],
   "source": [
    "req_attrs = [\n",
    "    {\"name\": \"1\", \"restrictions\": [{\"schema_id\": schema_id, \"cred_def_id\": rev_cred_def_id}]},\n",
    "]\n",
    "\n",
    "proof_request[\"requested_attributes\"] = {\n",
    "        # They generally follow this uuid pattern. Unique identifier for attribute within context of this proof request\n",
    "        # Note that req_attr['name'] gets the attribute name of each object. E.g. domain and name in this case\n",
    "        f\"0_{req_attr['name']}_uuid\":\n",
    "        req_attr for req_attr in req_attrs\n",
    "}"
   ]
  },
  {
   "cell_type": "code",
   "execution_count": null,
   "id": "75ef50e8",
   "metadata": {},
   "outputs": [],
   "source": [
    "test = {\"name\": name, \"proof_request\": proof_request}\n",
    "\n",
    "await performance_service.run_verification(revocable_experiment, test, connection_id)"
   ]
  },
  {
   "cell_type": "markdown",
   "id": "411b3329",
   "metadata": {},
   "source": [
    "## Performance Test - Five Attribute Credential"
   ]
  },
  {
   "cell_type": "code",
   "execution_count": null,
   "id": "f0627ab4",
   "metadata": {},
   "outputs": [],
   "source": [
    "req_attrs = [\n",
    "    {\"name\": \"1\", \"restrictions\": [{\"schema_id\": five_schema_id, \"cred_def_id\": five_cred_def_id}]},\n",
    "]\n",
    "\n",
    "proof_request[\"requested_attributes\"] = {\n",
    "        # They generally follow this uuid pattern. Unique identifier for attribute within context of this proof request\n",
    "        # Note that req_attr['name'] gets the attribute name of each object. E.g. domain and name in this case\n",
    "        f\"0_{req_attr['name']}_uuid\":\n",
    "        req_attr for req_attr in req_attrs\n",
    "}"
   ]
  },
  {
   "cell_type": "code",
   "execution_count": null,
   "id": "ea381dbb",
   "metadata": {},
   "outputs": [],
   "source": [
    "name = \"5\""
   ]
  },
  {
   "cell_type": "code",
   "execution_count": null,
   "id": "08ce41a3",
   "metadata": {},
   "outputs": [],
   "source": [
    "test = {\"name\": name, \"proof_request\": proof_request}\n",
    "\n",
    "await performance_service.run_verification(experiment, test, connection_id)"
   ]
  },
  {
   "cell_type": "code",
   "execution_count": null,
   "id": "3dc44bce",
   "metadata": {},
   "outputs": [],
   "source": [
    "req_attrs = [\n",
    "    {\"name\": \"1\", \"restrictions\": [{\"schema_id\": five_schema_id, \"cred_def_id\": five_rev_cred_def_id}]},\n",
    "]\n",
    "\n",
    "proof_request[\"requested_attributes\"] = {\n",
    "        # They generally follow this uuid pattern. Unique identifier for attribute within context of this proof request\n",
    "        # Note that req_attr['name'] gets the attribute name of each object. E.g. domain and name in this case\n",
    "        f\"0_{req_attr['name']}_uuid\":\n",
    "        req_attr for req_attr in req_attrs\n",
    "}"
   ]
  },
  {
   "cell_type": "code",
   "execution_count": null,
   "id": "8944a986",
   "metadata": {},
   "outputs": [],
   "source": [
    "test = {\"name\": name, \"proof_request\": proof_request}\n",
    "\n",
    "await performance_service.run_verification(revocable_experiment, test, connection_id)"
   ]
  },
  {
   "cell_type": "markdown",
   "id": "5ec33453",
   "metadata": {},
   "source": [
    "## Performance Test - Fice Attribute Credential"
   ]
  },
  {
   "cell_type": "code",
   "execution_count": null,
   "id": "93289da3",
   "metadata": {},
   "outputs": [],
   "source": [
    "req_attrs = [\n",
    "    {\"name\": \"1\", \"restrictions\": [{\"schema_id\": ten_schema_id, \"cred_def_id\": ten_cred_def_id}]},\n",
    "]\n",
    "\n",
    "proof_request[\"requested_attributes\"] = {\n",
    "        # They generally follow this uuid pattern. Unique identifier for attribute within context of this proof request\n",
    "        # Note that req_attr['name'] gets the attribute name of each object. E.g. domain and name in this case\n",
    "        f\"0_{req_attr['name']}_uuid\":\n",
    "        req_attr for req_attr in req_attrs\n",
    "}"
   ]
  },
  {
   "cell_type": "code",
   "execution_count": null,
   "id": "32464b92",
   "metadata": {},
   "outputs": [],
   "source": [
    "name = \"10\""
   ]
  },
  {
   "cell_type": "code",
   "execution_count": null,
   "id": "4fdfeedd",
   "metadata": {},
   "outputs": [],
   "source": [
    "test = {\"name\": name, \"proof_request\": proof_request}\n",
    "\n",
    "await performance_service.run_verification(experiment, test, connection_id)"
   ]
  },
  {
   "cell_type": "code",
   "execution_count": null,
   "id": "7e9b8196",
   "metadata": {},
   "outputs": [],
   "source": [
    "req_attrs = [\n",
    "    {\"name\": \"1\", \"restrictions\": [{\"schema_id\": ten_schema_id, \"cred_def_id\": ten_rev_cred_def_id}]},\n",
    "]\n",
    "\n",
    "proof_request[\"requested_attributes\"] = {\n",
    "        # They generally follow this uuid pattern. Unique identifier for attribute within context of this proof request\n",
    "        # Note that req_attr['name'] gets the attribute name of each object. E.g. domain and name in this case\n",
    "        f\"0_{req_attr['name']}_uuid\":\n",
    "        req_attr for req_attr in req_attrs\n",
    "}"
   ]
  },
  {
   "cell_type": "code",
   "execution_count": null,
   "id": "59f3ddeb",
   "metadata": {},
   "outputs": [],
   "source": [
    "test = {\"name\": name, \"proof_request\": proof_request}\n",
    "\n",
    "await performance_service.run_verification(revocable_experiment, test, connection_id)"
   ]
  },
  {
   "cell_type": "markdown",
   "id": "c4055b08",
   "metadata": {},
   "source": [
    "## Performance Test - Twenty Attribute Credential"
   ]
  },
  {
   "cell_type": "code",
   "execution_count": null,
   "id": "a19ea559",
   "metadata": {},
   "outputs": [],
   "source": [
    "req_attrs = [\n",
    "    {\"name\": \"1\", \"restrictions\": [{\"schema_id\": twenty_schema_id, \"cred_def_id\": twenty_cred_def_id}]},\n",
    "]\n",
    "\n",
    "proof_request[\"requested_attributes\"] = {\n",
    "        # They generally follow this uuid pattern. Unique identifier for attribute within context of this proof request\n",
    "        # Note that req_attr['name'] gets the attribute name of each object. E.g. domain and name in this case\n",
    "        f\"0_{req_attr['name']}_uuid\":\n",
    "        req_attr for req_attr in req_attrs\n",
    "}"
   ]
  },
  {
   "cell_type": "code",
   "execution_count": null,
   "id": "b63f1ce6",
   "metadata": {},
   "outputs": [],
   "source": [
    "name = \"20\""
   ]
  },
  {
   "cell_type": "code",
   "execution_count": null,
   "id": "77d0dab0",
   "metadata": {},
   "outputs": [],
   "source": [
    "test = {\"name\": name, \"proof_request\": proof_request}\n",
    "\n",
    "await performance_service.run_verification(experiment, test, connection_id)"
   ]
  },
  {
   "cell_type": "code",
   "execution_count": null,
   "id": "fccfe138",
   "metadata": {},
   "outputs": [],
   "source": [
    "req_attrs = [\n",
    "    {\"name\": \"1\", \"restrictions\": [{\"schema_id\": twenty_schema_id, \"cred_def_id\": twenty_rev_cred_def_id}]},\n",
    "]\n",
    "\n",
    "proof_request[\"requested_attributes\"] = {\n",
    "        # They generally follow this uuid pattern. Unique identifier for attribute within context of this proof request\n",
    "        # Note that req_attr['name'] gets the attribute name of each object. E.g. domain and name in this case\n",
    "        f\"0_{req_attr['name']}_uuid\":\n",
    "        req_attr for req_attr in req_attrs\n",
    "}"
   ]
  },
  {
   "cell_type": "code",
   "execution_count": null,
   "id": "1a75b134",
   "metadata": {},
   "outputs": [],
   "source": [
    "test = {\"name\": name, \"proof_request\": proof_request}\n",
    "\n",
    "await performance_service.run_verification(revocable_experiment, test, connection_id)"
   ]
  },
  {
   "cell_type": "markdown",
   "id": "6aace5fe",
   "metadata": {},
   "source": [
    "## Performance Test - Fifty Attribute Credential"
   ]
  },
  {
   "cell_type": "code",
   "execution_count": null,
   "id": "a61627fb",
   "metadata": {},
   "outputs": [],
   "source": [
    "req_attrs = [\n",
    "    {\"name\": \"1\", \"restrictions\": [{\"schema_id\": fifty_schema_id, \"cred_def_id\": fifty_cred_def_id}]},\n",
    "]\n",
    "\n",
    "proof_request[\"requested_attributes\"] = {\n",
    "        # They generally follow this uuid pattern. Unique identifier for attribute within context of this proof request\n",
    "        # Note that req_attr['name'] gets the attribute name of each object. E.g. domain and name in this case\n",
    "        f\"0_{req_attr['name']}_uuid\":\n",
    "        req_attr for req_attr in req_attrs\n",
    "}"
   ]
  },
  {
   "cell_type": "code",
   "execution_count": null,
   "id": "df6703d1",
   "metadata": {},
   "outputs": [],
   "source": [
    "name = \"50\""
   ]
  },
  {
   "cell_type": "code",
   "execution_count": null,
   "id": "437ec141",
   "metadata": {},
   "outputs": [],
   "source": [
    "test = {\"name\": name, \"proof_request\": proof_request}\n",
    "\n",
    "await performance_service.run_verification(experiment, test, connection_id)"
   ]
  },
  {
   "cell_type": "code",
   "execution_count": null,
   "id": "ce2acbda",
   "metadata": {},
   "outputs": [],
   "source": [
    "req_attrs = [\n",
    "    {\"name\": \"1\", \"restrictions\": [{\"schema_id\": fifty_schema_id, \"cred_def_id\": fifty_rev_cred_def_id}]},\n",
    "]\n",
    "\n",
    "proof_request[\"requested_attributes\"] = {\n",
    "        # They generally follow this uuid pattern. Unique identifier for attribute within context of this proof request\n",
    "        # Note that req_attr['name'] gets the attribute name of each object. E.g. domain and name in this case\n",
    "        f\"0_{req_attr['name']}_uuid\":\n",
    "        req_attr for req_attr in req_attrs\n",
    "}"
   ]
  },
  {
   "cell_type": "code",
   "execution_count": null,
   "id": "1297b7b3",
   "metadata": {},
   "outputs": [],
   "source": [
    "test = {\"name\": name, \"proof_request\": proof_request}\n",
    "\n",
    "await performance_service.run_verification(revocable_experiment, test, connection_id)"
   ]
  },
  {
   "cell_type": "markdown",
   "id": "fa460244",
   "metadata": {},
   "source": [
    "## Performance Test - Hundred Attribute Credential"
   ]
  },
  {
   "cell_type": "code",
   "execution_count": null,
   "id": "95b76c63",
   "metadata": {},
   "outputs": [],
   "source": [
    "req_attrs = [\n",
    "    {\"name\": \"1\", \"restrictions\": [{\"schema_id\": hundred_schema_id, \"cred_def_id\": hundred_cred_def_id}]},\n",
    "]\n",
    "\n",
    "proof_request[\"requested_attributes\"] = {\n",
    "        # They generally follow this uuid pattern. Unique identifier for attribute within context of this proof request\n",
    "        # Note that req_attr['name'] gets the attribute name of each object. E.g. domain and name in this case\n",
    "        f\"0_{req_attr['name']}_uuid\":\n",
    "        req_attr for req_attr in req_attrs\n",
    "}"
   ]
  },
  {
   "cell_type": "code",
   "execution_count": null,
   "id": "8fac1e76",
   "metadata": {},
   "outputs": [],
   "source": [
    "name = \"100\""
   ]
  },
  {
   "cell_type": "code",
   "execution_count": null,
   "id": "50ad832f",
   "metadata": {},
   "outputs": [],
   "source": [
    "test = {\"name\": name, \"proof_request\": proof_request}\n",
    "\n",
    "await performance_service.run_verification(experiment, test, connection_id)"
   ]
  },
  {
   "cell_type": "code",
   "execution_count": null,
   "id": "56aec046",
   "metadata": {},
   "outputs": [],
   "source": [
    "req_attrs = [\n",
    "    {\"name\": \"1\", \"restrictions\": [{\"schema_id\": hundred_schema_id, \"cred_def_id\": hundred_rev_cred_def_id}]},\n",
    "]\n",
    "\n",
    "proof_request[\"requested_attributes\"] = {\n",
    "        # They generally follow this uuid pattern. Unique identifier for attribute within context of this proof request\n",
    "        # Note that req_attr['name'] gets the attribute name of each object. E.g. domain and name in this case\n",
    "        f\"0_{req_attr['name']}_uuid\":\n",
    "        req_attr for req_attr in req_attrs\n",
    "}"
   ]
  },
  {
   "cell_type": "code",
   "execution_count": null,
   "id": "21e16e42",
   "metadata": {},
   "outputs": [],
   "source": [
    "test = {\"name\": name, \"proof_request\": proof_request}\n",
    "\n",
    "await performance_service.run_verification(revocable_experiment, test, connection_id)"
   ]
  },
  {
   "cell_type": "markdown",
   "id": "08b7acf2",
   "metadata": {},
   "source": [
    "## Plot Results"
   ]
  },
  {
   "cell_type": "markdown",
   "id": "acbc72bf",
   "metadata": {},
   "source": [
    "### Non Revocable"
   ]
  },
  {
   "cell_type": "code",
   "execution_count": null,
   "id": "dfbb5a49",
   "metadata": {},
   "outputs": [],
   "source": [
    "data = []\n",
    "labels = []\n",
    "non_revocable_averages = []\n",
    "for result in experiment[\"results\"]:\n",
    "    \n",
    "    if result[\"name\"] != \"1\":\n",
    "        millitimings = [i * 1000 for i in result[\"timings\"]]\n",
    "        data.append(millitimings)\n",
    "        non_revocable_averages.append(result[\"average\"] * 1000)\n",
    "        labels.append(result[\"name\"])\n",
    "\n"
   ]
  },
  {
   "cell_type": "code",
   "execution_count": null,
   "id": "9d5cf877",
   "metadata": {},
   "outputs": [],
   "source": [
    "# Import libraries\n",
    "import matplotlib.pyplot as plt\n",
    "import numpy as np\n",
    " \n",
    "\n",
    " \n",
    "fig = plt.figure(figsize =(10, 10))\n",
    " \n",
    "# Creating axes instance\n",
    "ax = fig.add_axes([0.1,0.1,0.75,0.75]) \n",
    " \n",
    "# Creating plot`\n",
    "bp = ax.boxplot(data, patch_artist = True,\n",
    "                notch ='True')\n",
    "\n",
    "# x-axis labels\n",
    "ax.set_xticklabels(labels)\n",
    "\n",
    "plt.ylabel(\"Milliseconds\")\n",
    "plt.xlabel(\"Credential Size (Bytes)\")\n",
    "\n",
    "plt.savefig(\"single_attrib_variable_cred_box_plot_non_revocable.png\")"
   ]
  },
  {
   "cell_type": "markdown",
   "id": "4faeb8d9",
   "metadata": {},
   "source": [
    "### Revocable"
   ]
  },
  {
   "cell_type": "code",
   "execution_count": null,
   "id": "a816e7cc",
   "metadata": {},
   "outputs": [],
   "source": [
    "data = []\n",
    "labels = []\n",
    "revocable_averages = []\n",
    "for result in revocable_experiment[\"results\"]:\n",
    "    \n",
    "    millitimings = [i * 1000 for i in result[\"timings\"]]\n",
    "    data.append(millitimings)\n",
    "    revocable_averages.append(result[\"average\"] * 1000)\n",
    "    labels.append(result[\"name\"])\n",
    "    \n"
   ]
  },
  {
   "cell_type": "code",
   "execution_count": null,
   "id": "723f0477",
   "metadata": {},
   "outputs": [],
   "source": [
    "# Import libraries\n",
    "import matplotlib.pyplot as plt\n",
    "import numpy as np\n",
    " \n",
    "\n",
    " \n",
    "fig = plt.figure(figsize =(10, 10))\n",
    " \n",
    "# Creating axes instance\n",
    "ax = fig.add_axes([0.1,0.1,0.75,0.75]) \n",
    " \n",
    "# Creating plot`\n",
    "bp = ax.boxplot(data, patch_artist = True,\n",
    "                notch ='True')\n",
    "\n",
    "# x-axis labels\n",
    "ax.set_xticklabels(labels)\n",
    "\n",
    "plt.ylabel(\"Milliseconds\")\n",
    "plt.xlabel(\"Credential Size (Bytes)\")\n",
    "\n",
    "plt.savefig(\"single_attrib_variable_cred_box_plot_revocable.png\")"
   ]
  },
  {
   "cell_type": "markdown",
   "id": "88c60c0f",
   "metadata": {},
   "source": [
    "## Averages"
   ]
  },
  {
   "cell_type": "code",
   "execution_count": null,
   "id": "d0857ba3",
   "metadata": {},
   "outputs": [],
   "source": [
    "fig = plt.figure(figsize =(10, 10))\n",
    " \n",
    "# Creating axes instance\n",
    "ax = fig.add_axes([0.1,0.1,0.75,0.75]) \n",
    "\n",
    "# avg_ploy = plt.plot(labels, revocable_averages, non_revoked_averages)\n",
    "\n",
    "plt.plot(labels, revocable_averages,'r-',label='Revocable Credential Presentation Averages')\n",
    "plt.plot(labels, non_revocable_averages,label='Non Revocable Credential Presentation Averages')\n",
    "\n",
    "plt.ylabel(\"Milliseconds\")\n",
    "plt.xlabel(\"Credential_size (Bytes)\")\n",
    "\n",
    "\n",
    "plt.legend()\n",
    "plt.savefig(\"single_attrib_variable_cred_averages.png\")"
   ]
  },
  {
   "cell_type": "markdown",
   "id": "6a4a7e06",
   "metadata": {},
   "source": [
    "# Fixed Credential Variable Attributes Disclosed"
   ]
  },
  {
   "cell_type": "code",
   "execution_count": null,
   "id": "0499076e",
   "metadata": {},
   "outputs": [],
   "source": [
    "experiment = performance_service.new_experiment(\"Fixed Credential Variable Attributes Disclosed\")"
   ]
  },
  {
   "cell_type": "code",
   "execution_count": null,
   "id": "1fa15d95",
   "metadata": {},
   "outputs": [],
   "source": [
    "revocable_experiment = performance_service.new_experiment(\"Fixed Credential Variable Attributes Disclosed - Revocable\")"
   ]
  },
  {
   "cell_type": "markdown",
   "id": "8935f43a",
   "metadata": {},
   "source": [
    "## One Attribute"
   ]
  },
  {
   "cell_type": "code",
   "execution_count": null,
   "id": "070b8705",
   "metadata": {},
   "outputs": [],
   "source": [
    "req_attrs = [\n",
    "    {\"name\": \"1\", \"restrictions\": [{\"schema_id\": twenty_schema_id, \"cred_def_id\": twenty_cred_def_id}]},\n",
    "]\n",
    "\n",
    "proof_request[\"requested_attributes\"] = {\n",
    "        # They generally follow this uuid pattern. Unique identifier for attribute within context of this proof request\n",
    "        # Note that req_attr['name'] gets the attribute name of each object. E.g. domain and name in this case\n",
    "        f\"0_{req_attr['name']}_uuid\":\n",
    "        req_attr for req_attr in req_attrs\n",
    "}"
   ]
  },
  {
   "cell_type": "code",
   "execution_count": null,
   "id": "87cc2c1f",
   "metadata": {},
   "outputs": [],
   "source": [
    "name = \"1\""
   ]
  },
  {
   "cell_type": "code",
   "execution_count": null,
   "id": "6c8f9e1a",
   "metadata": {},
   "outputs": [],
   "source": [
    "test = {\"name\": name, \"proof_request\": proof_request}\n",
    "\n",
    "await performance_service.run_verification(experiment, test, connection_id)"
   ]
  },
  {
   "cell_type": "code",
   "execution_count": null,
   "id": "23e0fa07",
   "metadata": {},
   "outputs": [],
   "source": [
    "req_attrs = [\n",
    "    {\"name\": \"1\", \"restrictions\": [{\"schema_id\": twenty_schema_id, \"cred_def_id\": twenty_rev_cred_def_id}]},\n",
    "]\n",
    "\n",
    "proof_request[\"requested_attributes\"] = {\n",
    "        # They generally follow this uuid pattern. Unique identifier for attribute within context of this proof request\n",
    "        # Note that req_attr['name'] gets the attribute name of each object. E.g. domain and name in this case\n",
    "        f\"0_{req_attr['name']}_uuid\":\n",
    "        req_attr for req_attr in req_attrs\n",
    "}"
   ]
  },
  {
   "cell_type": "code",
   "execution_count": null,
   "id": "6843e524",
   "metadata": {},
   "outputs": [],
   "source": [
    "test = {\"name\": name, \"proof_request\": proof_request}\n",
    "\n",
    "await performance_service.run_verification(revocable_experiment, test, connection_id)"
   ]
  },
  {
   "cell_type": "markdown",
   "id": "ea57c768",
   "metadata": {},
   "source": [
    "## Two Attribute"
   ]
  },
  {
   "cell_type": "code",
   "execution_count": null,
   "id": "60621fd2",
   "metadata": {},
   "outputs": [],
   "source": [
    "req_attrs = [\n",
    "    {\"name\": \"1\", \"restrictions\": [{\"schema_id\": twenty_schema_id, \"cred_def_id\": twenty_cred_def_id}]},\n",
    "    {\"name\": \"2\", \"restrictions\": [{\"schema_id\": twenty_schema_id, \"cred_def_id\": twenty_cred_def_id}]},\n",
    "]\n",
    "\n",
    "proof_request[\"requested_attributes\"] = {\n",
    "        # They generally follow this uuid pattern. Unique identifier for attribute within context of this proof request\n",
    "        # Note that req_attr['name'] gets the attribute name of each object. E.g. domain and name in this case\n",
    "        f\"0_{req_attr['name']}_uuid\":\n",
    "        req_attr for req_attr in req_attrs\n",
    "}"
   ]
  },
  {
   "cell_type": "code",
   "execution_count": null,
   "id": "8d4616a0",
   "metadata": {},
   "outputs": [],
   "source": [
    "name = \"2\""
   ]
  },
  {
   "cell_type": "code",
   "execution_count": null,
   "id": "303a5c43",
   "metadata": {},
   "outputs": [],
   "source": [
    "test = {\"name\": name, \"proof_request\": proof_request}\n",
    "\n",
    "await performance_service.run_verification(experiment, test, connection_id)"
   ]
  },
  {
   "cell_type": "code",
   "execution_count": null,
   "id": "a514754b",
   "metadata": {},
   "outputs": [],
   "source": [
    "req_attrs = [\n",
    "    {\"name\": \"1\", \"restrictions\": [{\"schema_id\": twenty_schema_id, \"cred_def_id\": twenty_rev_cred_def_id}]},\n",
    "    {\"name\": \"2\", \"restrictions\": [{\"schema_id\": twenty_schema_id, \"cred_def_id\": twenty_rev_cred_def_id}]},\n",
    "]\n",
    "\n",
    "proof_request[\"requested_attributes\"] = {\n",
    "        # They generally follow this uuid pattern. Unique identifier for attribute within context of this proof request\n",
    "        # Note that req_attr['name'] gets the attribute name of each object. E.g. domain and name in this case\n",
    "        f\"0_{req_attr['name']}_uuid\":\n",
    "        req_attr for req_attr in req_attrs\n",
    "}"
   ]
  },
  {
   "cell_type": "code",
   "execution_count": null,
   "id": "2aa7dea7",
   "metadata": {},
   "outputs": [],
   "source": [
    "test = {\"name\": name, \"proof_request\": proof_request}\n",
    "\n",
    "await performance_service.run_verification(revocable_experiment, test, connection_id)"
   ]
  },
  {
   "cell_type": "markdown",
   "id": "abd4b319",
   "metadata": {},
   "source": [
    "## Five Attribute"
   ]
  },
  {
   "cell_type": "code",
   "execution_count": null,
   "id": "3cf57768",
   "metadata": {},
   "outputs": [],
   "source": [
    "req_attrs = [\n",
    "    {\"name\": \"1\", \"restrictions\": [{\"schema_id\": twenty_schema_id, \"cred_def_id\": twenty_cred_def_id}]},\n",
    "    {\"name\": \"2\", \"restrictions\": [{\"schema_id\": twenty_schema_id, \"cred_def_id\": twenty_cred_def_id}]},\n",
    "    {\"name\": \"3\", \"restrictions\": [{\"schema_id\": twenty_schema_id, \"cred_def_id\": twenty_cred_def_id}]},\n",
    "    {\"name\": \"4\", \"restrictions\": [{\"schema_id\": twenty_schema_id, \"cred_def_id\": twenty_cred_def_id}]},\n",
    "    {\"name\": \"5\", \"restrictions\": [{\"schema_id\": twenty_schema_id, \"cred_def_id\": twenty_cred_def_id}]},\n",
    "]\n",
    "\n",
    "proof_request[\"requested_attributes\"] = {\n",
    "        # They generally follow this uuid pattern. Unique identifier for attribute within context of this proof request\n",
    "        # Note that req_attr['name'] gets the attribute name of each object. E.g. domain and name in this case\n",
    "        f\"0_{req_attr['name']}_uuid\":\n",
    "        req_attr for req_attr in req_attrs\n",
    "}"
   ]
  },
  {
   "cell_type": "code",
   "execution_count": null,
   "id": "7d4b6e7f",
   "metadata": {},
   "outputs": [],
   "source": [
    "name = \"5\""
   ]
  },
  {
   "cell_type": "code",
   "execution_count": null,
   "id": "496d5112",
   "metadata": {},
   "outputs": [],
   "source": [
    "test = {\"name\": name, \"proof_request\": proof_request}\n",
    "\n",
    "await performance_service.run_verification(experiment, test, connection_id)"
   ]
  },
  {
   "cell_type": "code",
   "execution_count": null,
   "id": "76ad6382",
   "metadata": {},
   "outputs": [],
   "source": [
    "req_attrs = [\n",
    "    {\"name\": \"1\", \"restrictions\": [{\"schema_id\": twenty_schema_id, \"cred_def_id\": twenty_rev_cred_def_id}]},\n",
    "    {\"name\": \"2\", \"restrictions\": [{\"schema_id\": twenty_schema_id, \"cred_def_id\": twenty_rev_cred_def_id}]},\n",
    "    {\"name\": \"3\", \"restrictions\": [{\"schema_id\": twenty_schema_id, \"cred_def_id\": twenty_rev_cred_def_id}]},\n",
    "    {\"name\": \"4\", \"restrictions\": [{\"schema_id\": twenty_schema_id, \"cred_def_id\": twenty_rev_cred_def_id}]},\n",
    "    {\"name\": \"5\", \"restrictions\": [{\"schema_id\": twenty_schema_id, \"cred_def_id\": twenty_rev_cred_def_id}]},\n",
    "]\n",
    "\n",
    "proof_request[\"requested_attributes\"] = {\n",
    "        # They generally follow this uuid pattern. Unique identifier for attribute within context of this proof request\n",
    "        # Note that req_attr['name'] gets the attribute name of each object. E.g. domain and name in this case\n",
    "        f\"0_{req_attr['name']}_uuid\":\n",
    "        req_attr for req_attr in req_attrs\n",
    "}"
   ]
  },
  {
   "cell_type": "code",
   "execution_count": null,
   "id": "86a43b17",
   "metadata": {},
   "outputs": [],
   "source": [
    "test = {\"name\": name, \"proof_request\": proof_request}\n",
    "\n",
    "await performance_service.run_verification(revocable_experiment, test, connection_id)"
   ]
  },
  {
   "cell_type": "markdown",
   "id": "8ee6a192",
   "metadata": {},
   "source": [
    "## Ten Attribute"
   ]
  },
  {
   "cell_type": "code",
   "execution_count": null,
   "id": "42016326",
   "metadata": {},
   "outputs": [],
   "source": [
    "req_attrs = [\n",
    "    {\"name\": \"1\", \"restrictions\": [{\"schema_id\": twenty_schema_id, \"cred_def_id\": twenty_cred_def_id}]},\n",
    "    {\"name\": \"2\", \"restrictions\": [{\"schema_id\": twenty_schema_id, \"cred_def_id\": twenty_cred_def_id}]},\n",
    "    {\"name\": \"3\", \"restrictions\": [{\"schema_id\": twenty_schema_id, \"cred_def_id\": twenty_cred_def_id}]},\n",
    "    {\"name\": \"4\", \"restrictions\": [{\"schema_id\": twenty_schema_id, \"cred_def_id\": twenty_cred_def_id}]},\n",
    "    {\"name\": \"5\", \"restrictions\": [{\"schema_id\": twenty_schema_id, \"cred_def_id\": twenty_cred_def_id}]},\n",
    "    {\"name\": \"6\", \"restrictions\": [{\"schema_id\": twenty_schema_id, \"cred_def_id\": twenty_cred_def_id}]},\n",
    "    {\"name\": \"7\", \"restrictions\": [{\"schema_id\": twenty_schema_id, \"cred_def_id\": twenty_cred_def_id}]},\n",
    "    {\"name\": \"8\", \"restrictions\": [{\"schema_id\": twenty_schema_id, \"cred_def_id\": twenty_cred_def_id}]},\n",
    "    {\"name\": \"9\", \"restrictions\": [{\"schema_id\": twenty_schema_id, \"cred_def_id\": twenty_cred_def_id}]},\n",
    "    {\"name\": \"10\", \"restrictions\": [{\"schema_id\": twenty_schema_id, \"cred_def_id\": twenty_cred_def_id}]},\n",
    "]\n",
    "\n",
    "proof_request[\"requested_attributes\"] = {\n",
    "        # They generally follow this uuid pattern. Unique identifier for attribute within context of this proof request\n",
    "        # Note that req_attr['name'] gets the attribute name of each object. E.g. domain and name in this case\n",
    "        f\"0_{req_attr['name']}_uuid\":\n",
    "        req_attr for req_attr in req_attrs\n",
    "}"
   ]
  },
  {
   "cell_type": "code",
   "execution_count": null,
   "id": "7e6d0695",
   "metadata": {},
   "outputs": [],
   "source": [
    "name = \"10\""
   ]
  },
  {
   "cell_type": "code",
   "execution_count": null,
   "id": "cb67ba00",
   "metadata": {},
   "outputs": [],
   "source": [
    "test = {\"name\": name, \"proof_request\": proof_request}\n",
    "\n",
    "await performance_service.run_verification(experiment, test, connection_id)"
   ]
  },
  {
   "cell_type": "code",
   "execution_count": null,
   "id": "47285159",
   "metadata": {},
   "outputs": [],
   "source": [
    "req_attrs = [\n",
    "    {\"name\": \"1\", \"restrictions\": [{\"schema_id\": twenty_schema_id, \"cred_def_id\": twenty_rev_cred_def_id}]},\n",
    "    {\"name\": \"2\", \"restrictions\": [{\"schema_id\": twenty_schema_id, \"cred_def_id\": twenty_rev_cred_def_id}]},\n",
    "    {\"name\": \"3\", \"restrictions\": [{\"schema_id\": twenty_schema_id, \"cred_def_id\": twenty_rev_cred_def_id}]},\n",
    "    {\"name\": \"4\", \"restrictions\": [{\"schema_id\": twenty_schema_id, \"cred_def_id\": twenty_rev_cred_def_id}]},\n",
    "    {\"name\": \"5\", \"restrictions\": [{\"schema_id\": twenty_schema_id, \"cred_def_id\": twenty_rev_cred_def_id}]},\n",
    "    {\"name\": \"6\", \"restrictions\": [{\"schema_id\": twenty_schema_id, \"cred_def_id\": twenty_rev_cred_def_id}]},\n",
    "    {\"name\": \"7\", \"restrictions\": [{\"schema_id\": twenty_schema_id, \"cred_def_id\": twenty_rev_cred_def_id}]},\n",
    "    {\"name\": \"8\", \"restrictions\": [{\"schema_id\": twenty_schema_id, \"cred_def_id\": twenty_rev_cred_def_id}]},\n",
    "    {\"name\": \"9\", \"restrictions\": [{\"schema_id\": twenty_schema_id, \"cred_def_id\": twenty_rev_cred_def_id}]},\n",
    "    {\"name\": \"10\", \"restrictions\": [{\"schema_id\": twenty_schema_id, \"cred_def_id\": twenty_rev_cred_def_id}]},\n",
    "]\n",
    "\n",
    "proof_request[\"requested_attributes\"] = {\n",
    "        # They generally follow this uuid pattern. Unique identifier for attribute within context of this proof request\n",
    "        # Note that req_attr['name'] gets the attribute name of each object. E.g. domain and name in this case\n",
    "        f\"0_{req_attr['name']}_uuid\":\n",
    "        req_attr for req_attr in req_attrs\n",
    "}"
   ]
  },
  {
   "cell_type": "code",
   "execution_count": null,
   "id": "821e0ae6",
   "metadata": {},
   "outputs": [],
   "source": [
    "test = {\"name\": name, \"proof_request\": proof_request}\n",
    "\n",
    "await performance_service.run_verification(revocable_experiment, test, connection_id)"
   ]
  },
  {
   "cell_type": "markdown",
   "id": "0a8ea5a4",
   "metadata": {},
   "source": [
    "## Twenty Attribute"
   ]
  },
  {
   "cell_type": "code",
   "execution_count": null,
   "id": "e5212a59",
   "metadata": {},
   "outputs": [],
   "source": [
    "req_attrs = [\n",
    "    {\"name\": \"1\", \"restrictions\": [{\"schema_id\": twenty_schema_id, \"cred_def_id\": twenty_cred_def_id}]},\n",
    "    {\"name\": \"2\", \"restrictions\": [{\"schema_id\": twenty_schema_id, \"cred_def_id\": twenty_cred_def_id}]},\n",
    "    {\"name\": \"3\", \"restrictions\": [{\"schema_id\": twenty_schema_id, \"cred_def_id\": twenty_cred_def_id}]},\n",
    "    {\"name\": \"4\", \"restrictions\": [{\"schema_id\": twenty_schema_id, \"cred_def_id\": twenty_cred_def_id}]},\n",
    "    {\"name\": \"5\", \"restrictions\": [{\"schema_id\": twenty_schema_id, \"cred_def_id\": twenty_cred_def_id}]},\n",
    "    {\"name\": \"6\", \"restrictions\": [{\"schema_id\": twenty_schema_id, \"cred_def_id\": twenty_cred_def_id}]},\n",
    "    {\"name\": \"7\", \"restrictions\": [{\"schema_id\": twenty_schema_id, \"cred_def_id\": twenty_cred_def_id}]},\n",
    "    {\"name\": \"8\", \"restrictions\": [{\"schema_id\": twenty_schema_id, \"cred_def_id\": twenty_cred_def_id}]},\n",
    "    {\"name\": \"9\", \"restrictions\": [{\"schema_id\": twenty_schema_id, \"cred_def_id\": twenty_cred_def_id}]},\n",
    "    {\"name\": \"10\", \"restrictions\": [{\"schema_id\": twenty_schema_id, \"cred_def_id\": twenty_cred_def_id}]},\n",
    "    {\"name\": \"11\", \"restrictions\": [{\"schema_id\": twenty_schema_id, \"cred_def_id\": twenty_cred_def_id}]},\n",
    "    {\"name\": \"12\", \"restrictions\": [{\"schema_id\": twenty_schema_id, \"cred_def_id\": twenty_cred_def_id}]},\n",
    "    {\"name\": \"13\", \"restrictions\": [{\"schema_id\": twenty_schema_id, \"cred_def_id\": twenty_cred_def_id}]},\n",
    "    {\"name\": \"14\", \"restrictions\": [{\"schema_id\": twenty_schema_id, \"cred_def_id\": twenty_cred_def_id}]},\n",
    "    {\"name\": \"15\", \"restrictions\": [{\"schema_id\": twenty_schema_id, \"cred_def_id\": twenty_cred_def_id}]},\n",
    "    {\"name\": \"16\", \"restrictions\": [{\"schema_id\": twenty_schema_id, \"cred_def_id\": twenty_cred_def_id}]},\n",
    "    {\"name\": \"17\", \"restrictions\": [{\"schema_id\": twenty_schema_id, \"cred_def_id\": twenty_cred_def_id}]},\n",
    "    {\"name\": \"18\", \"restrictions\": [{\"schema_id\": twenty_schema_id, \"cred_def_id\": twenty_cred_def_id}]},\n",
    "    {\"name\": \"19\", \"restrictions\": [{\"schema_id\": twenty_schema_id, \"cred_def_id\": twenty_cred_def_id}]},\n",
    "    {\"name\": \"20\", \"restrictions\": [{\"schema_id\": twenty_schema_id, \"cred_def_id\": twenty_cred_def_id}]},\n",
    "]\n",
    "\n",
    "proof_request[\"requested_attributes\"] = {\n",
    "        # They generally follow this uuid pattern. Unique identifier for attribute within context of this proof request\n",
    "        # Note that req_attr['name'] gets the attribute name of each object. E.g. domain and name in this case\n",
    "        f\"0_{req_attr['name']}_uuid\":\n",
    "        req_attr for req_attr in req_attrs\n",
    "}"
   ]
  },
  {
   "cell_type": "code",
   "execution_count": null,
   "id": "db218fd1",
   "metadata": {},
   "outputs": [],
   "source": [
    "name = \"20\""
   ]
  },
  {
   "cell_type": "code",
   "execution_count": null,
   "id": "1a6bbf77",
   "metadata": {},
   "outputs": [],
   "source": [
    "test = {\"name\": name, \"proof_request\": proof_request}\n",
    "\n",
    "await performance_service.run_verification(experiment, test, connection_id)"
   ]
  },
  {
   "cell_type": "code",
   "execution_count": null,
   "id": "6abb521e",
   "metadata": {},
   "outputs": [],
   "source": [
    "req_attrs = [\n",
    "    {\"name\": \"1\", \"restrictions\": [{\"schema_id\": twenty_schema_id, \"cred_def_id\": twenty_rev_cred_def_id}]},\n",
    "    {\"name\": \"2\", \"restrictions\": [{\"schema_id\": twenty_schema_id, \"cred_def_id\": twenty_rev_cred_def_id}]},\n",
    "    {\"name\": \"3\", \"restrictions\": [{\"schema_id\": twenty_schema_id, \"cred_def_id\": twenty_rev_cred_def_id}]},\n",
    "    {\"name\": \"4\", \"restrictions\": [{\"schema_id\": twenty_schema_id, \"cred_def_id\": twenty_rev_cred_def_id}]},\n",
    "    {\"name\": \"5\", \"restrictions\": [{\"schema_id\": twenty_schema_id, \"cred_def_id\": twenty_rev_cred_def_id}]},\n",
    "    {\"name\": \"6\", \"restrictions\": [{\"schema_id\": twenty_schema_id, \"cred_def_id\": twenty_rev_cred_def_id}]},\n",
    "    {\"name\": \"7\", \"restrictions\": [{\"schema_id\": twenty_schema_id, \"cred_def_id\": twenty_rev_cred_def_id}]},\n",
    "    {\"name\": \"8\", \"restrictions\": [{\"schema_id\": twenty_schema_id, \"cred_def_id\": twenty_rev_cred_def_id}]},\n",
    "    {\"name\": \"9\", \"restrictions\": [{\"schema_id\": twenty_schema_id, \"cred_def_id\": twenty_rev_cred_def_id}]},\n",
    "    {\"name\": \"10\", \"restrictions\": [{\"schema_id\": twenty_schema_id, \"cred_def_id\": twenty_rev_cred_def_id}]},\n",
    "    {\"name\": \"11\", \"restrictions\": [{\"schema_id\": twenty_schema_id, \"cred_def_id\": twenty_rev_cred_def_id}]},\n",
    "    {\"name\": \"12\", \"restrictions\": [{\"schema_id\": twenty_schema_id, \"cred_def_id\": twenty_rev_cred_def_id}]},\n",
    "    {\"name\": \"13\", \"restrictions\": [{\"schema_id\": twenty_schema_id, \"cred_def_id\": twenty_rev_cred_def_id}]},\n",
    "    {\"name\": \"14\", \"restrictions\": [{\"schema_id\": twenty_schema_id, \"cred_def_id\": twenty_rev_cred_def_id}]},\n",
    "    {\"name\": \"15\", \"restrictions\": [{\"schema_id\": twenty_schema_id, \"cred_def_id\": twenty_rev_cred_def_id}]},\n",
    "    {\"name\": \"16\", \"restrictions\": [{\"schema_id\": twenty_schema_id, \"cred_def_id\": twenty_rev_cred_def_id}]},\n",
    "    {\"name\": \"17\", \"restrictions\": [{\"schema_id\": twenty_schema_id, \"cred_def_id\": twenty_rev_cred_def_id}]},\n",
    "    {\"name\": \"18\", \"restrictions\": [{\"schema_id\": twenty_schema_id, \"cred_def_id\": twenty_rev_cred_def_id}]},\n",
    "    {\"name\": \"19\", \"restrictions\": [{\"schema_id\": twenty_schema_id, \"cred_def_id\": twenty_rev_cred_def_id}]},\n",
    "    {\"name\": \"20\", \"restrictions\": [{\"schema_id\": twenty_schema_id, \"cred_def_id\": twenty_rev_cred_def_id}]},\n",
    "]\n",
    "\n",
    "proof_request[\"requested_attributes\"] = {\n",
    "        # They generally follow this uuid pattern. Unique identifier for attribute within context of this proof request\n",
    "        # Note that req_attr['name'] gets the attribute name of each object. E.g. domain and name in this case\n",
    "        f\"0_{req_attr['name']}_uuid\":\n",
    "        req_attr for req_attr in req_attrs\n",
    "}"
   ]
  },
  {
   "cell_type": "code",
   "execution_count": null,
   "id": "6e7d29a7",
   "metadata": {},
   "outputs": [],
   "source": [
    "test = {\"name\": name, \"proof_request\": proof_request}\n",
    "\n",
    "await performance_service.run_verification(revocable_experiment, test, connection_id)"
   ]
  },
  {
   "cell_type": "code",
   "execution_count": null,
   "id": "e8ad33bf",
   "metadata": {},
   "outputs": [],
   "source": []
  },
  {
   "cell_type": "markdown",
   "id": "fc788c2c",
   "metadata": {},
   "source": [
    "## Plot Results"
   ]
  },
  {
   "cell_type": "markdown",
   "id": "6e78c969",
   "metadata": {},
   "source": [
    "### Non Revocable"
   ]
  },
  {
   "cell_type": "code",
   "execution_count": null,
   "id": "5ff422af",
   "metadata": {},
   "outputs": [],
   "source": [
    "data = []\n",
    "labels = []\n",
    "non_revocable_averages = []\n",
    "for result in experiment[\"results\"]:\n",
    "    \n",
    "\n",
    "    millitimings = [i * 1000 for i in result[\"timings\"]]\n",
    "    data.append(millitimings)\n",
    "    non_revocable_averages.append(result[\"average\"] * 1000)\n",
    "    labels.append(result[\"name\"])\n",
    "\n"
   ]
  },
  {
   "cell_type": "code",
   "execution_count": null,
   "id": "66fab458",
   "metadata": {},
   "outputs": [],
   "source": [
    "# Import libraries\n",
    "import matplotlib.pyplot as plt\n",
    "import numpy as np\n",
    " \n",
    "\n",
    " \n",
    "fig = plt.figure(figsize =(10, 10))\n",
    " \n",
    "# Creating axes instance\n",
    "ax = fig.add_axes([0.1,0.1,0.75,0.75]) \n",
    " \n",
    "# Creating plot`\n",
    "bp = ax.boxplot(data, patch_artist = True,\n",
    "                notch ='True')\n",
    "\n",
    "# x-axis labels\n",
    "ax.set_xticklabels(labels)\n",
    "\n",
    "plt.ylabel(\"Milliseconds\")\n",
    "plt.xlabel(\"Attributes Disclosed\")\n",
    "\n",
    "plt.savefig(\"fixed_cred_variable_disclosure_box_plot_non_revocable.png\")"
   ]
  },
  {
   "cell_type": "markdown",
   "id": "b8578765",
   "metadata": {},
   "source": [
    "### Revocable"
   ]
  },
  {
   "cell_type": "code",
   "execution_count": null,
   "id": "3d0f85b8",
   "metadata": {},
   "outputs": [],
   "source": [
    "help(plt.axes)"
   ]
  },
  {
   "cell_type": "code",
   "execution_count": null,
   "id": "eb4fb2f2",
   "metadata": {},
   "outputs": [],
   "source": [
    "data = []\n",
    "labels = []\n",
    "revocable_averages = []\n",
    "for result in revocable_experiment[\"results\"]:\n",
    "    \n",
    "    millitimings = [i * 1000 for i in result[\"timings\"]]\n",
    "    data.append(millitimings)\n",
    "    revocable_averages.append(result[\"average\"] * 1000)\n",
    "    labels.append(result[\"name\"])\n",
    "    \n"
   ]
  },
  {
   "cell_type": "code",
   "execution_count": null,
   "id": "b07d768e",
   "metadata": {},
   "outputs": [],
   "source": [
    "print(labels)"
   ]
  },
  {
   "cell_type": "code",
   "execution_count": 186,
   "id": "131f8e3d",
   "metadata": {},
   "outputs": [
    {
     "data": {
      "image/png": "[encoded data removed]",
      "text/plain": [
       "<Figure size 720x720 with 1 Axes>"
      ]
     },
     "metadata": {
      "needs_background": "light"
     },
     "output_type": "display_data"
    }
   ],
   "source": [
    "# Import libraries\n",
    "import matplotlib.pyplot as plt\n",
    "import numpy as np\n",
    " \n",
    "\n",
    " \n",
    "fig = plt.figure(figsize =(10, 10))\n",
    " \n",
    "# Creating axes instance\n",
    "ax = fig.add_axes([0.1,0.1,0.75,0.75]) \n",
    " \n",
    "# Creating plot`\n",
    "bp = ax.boxplot(data, patch_artist = True,\n",
    "                notch ='True')\n",
    "\n",
    "# x-axis labels\n",
    "ax.set_xticklabels(labels)\n",
    "\n",
    "plt.ylabel(\"Milliseconds\")\n",
    "plt.xlabel(\"Attributes Disclosed\")\n",
    "\n",
    "plt.savefig(\"fixed_cred_variable_disclosure_box_plot_revocable.png\")"
   ]
  },
  {
   "cell_type": "markdown",
   "id": "4e740e17",
   "metadata": {},
   "source": [
    "## Averages"
   ]
  },
  {
   "cell_type": "code",
   "execution_count": 191,
   "id": "8b919bcf",
   "metadata": {},
   "outputs": [
    {
     "data": {
      "image/png": "[encoded data removed]",
      "text/plain": [
       "<Figure size 720x720 with 1 Axes>"
      ]
     },
     "metadata": {
      "needs_background": "light"
     },
     "output_type": "display_data"
    }
   ],
   "source": [
    "fig = plt.figure(figsize =(10, 10))\n",
    " \n",
    "# Creating axes instance\n",
    "ax = fig.add_axes([0.1,0.1,0.75,0.75]) \n",
    "\n",
    "new_labels = [int(i) for i in labels]\n",
    "# avg_ploy = plt.plot(labels, revocable_averages, non_revoked_averages)\n",
    "\n",
    "\n",
    "\n",
    "plt.plot(new_labels, revocable_averages,'r-',label='Revocable Credential Presentation Averages')\n",
    "plt.plot(new_labels, non_revocable_averages,label='Non Revocable Credential Presentation Averages')\n",
    "\n",
    "plt.xticks(range(1,21))\n",
    "\n",
    "plt.ylabel(\"Milliseconds\")\n",
    "plt.xlabel(\"Attributes Disclosed\")\n",
    "\n",
    "plt.legend()\n",
    "plt.savefig(\"fixed_cred_variable_disclosure_averages.png\")"
   ]
  },
  {
   "cell_type": "markdown",
   "id": "ffced940",
   "metadata": {},
   "source": [
    "# Fixed Attributes Disclosed Variable Credentials in Presentation"
   ]
  },
  {
   "cell_type": "code",
   "execution_count": 159,
   "id": "eaedbb9d",
   "metadata": {},
   "outputs": [],
   "source": [
    "experiment = performance_service.new_experiment(\"Fixed Attributes Disclosed Variable Credentials in Presentation\")"
   ]
  },
  {
   "cell_type": "code",
   "execution_count": 160,
   "id": "11ec6b68",
   "metadata": {},
   "outputs": [],
   "source": [
    "revocable_experiment = performance_service.new_experiment(\"Fixed Attributes Disclosed Variable Credentials in Presentation\")"
   ]
  },
  {
   "cell_type": "markdown",
   "id": "5443d82b",
   "metadata": {},
   "source": [
    "## Five Attributes One Cred"
   ]
  },
  {
   "cell_type": "code",
   "execution_count": 161,
   "id": "5dd73818",
   "metadata": {},
   "outputs": [],
   "source": [
    "req_attrs = [\n",
    "    {\"name\": \"1\", \"restrictions\": [{\"schema_id\": twenty_schema_id, \"cred_def_id\": twenty_cred_def_id}]},\n",
    "    {\"name\": \"2\", \"restrictions\": [{\"schema_id\": twenty_schema_id, \"cred_def_id\": twenty_cred_def_id}]},\n",
    "    {\"name\": \"3\", \"restrictions\": [{\"schema_id\": twenty_schema_id, \"cred_def_id\": twenty_cred_def_id}]},\n",
    "    {\"name\": \"4\", \"restrictions\": [{\"schema_id\": twenty_schema_id, \"cred_def_id\": twenty_cred_def_id}]},\n",
    "    {\"name\": \"5\", \"restrictions\": [{\"schema_id\": twenty_schema_id, \"cred_def_id\": twenty_cred_def_id}]},\n",
    "]\n",
    "\n",
    "proof_request[\"requested_attributes\"] = {\n",
    "        # They generally follow this uuid pattern. Unique identifier for attribute within context of this proof request\n",
    "        # Note that req_attr['name'] gets the attribute name of each object. E.g. domain and name in this case\n",
    "        f\"0_{req_attr['name']}_uuid\":\n",
    "        req_attr for req_attr in req_attrs\n",
    "}"
   ]
  },
  {
   "cell_type": "code",
   "execution_count": 162,
   "id": "30ad59a6",
   "metadata": {},
   "outputs": [],
   "source": [
    "name = \"1\""
   ]
  },
  {
   "cell_type": "code",
   "execution_count": 163,
   "id": "849cf49f",
   "metadata": {},
   "outputs": [
    {
     "name": "stdout",
     "output_type": "stream",
     "text": [
      "Average :  1.8861745626498305\n"
     ]
    }
   ],
   "source": [
    "test = {\"name\": name, \"proof_request\": proof_request}\n",
    "\n",
    "await performance_service.run_verification(experiment, test, connection_id)"
   ]
  },
  {
   "cell_type": "code",
   "execution_count": 164,
   "id": "bbba5837",
   "metadata": {},
   "outputs": [],
   "source": [
    "req_attrs = [\n",
    "    {\"name\": \"1\", \"restrictions\": [{\"schema_id\": twenty_schema_id, \"cred_def_id\": twenty_rev_cred_def_id}]},\n",
    "    {\"name\": \"2\", \"restrictions\": [{\"schema_id\": twenty_schema_id, \"cred_def_id\": twenty_rev_cred_def_id}]},\n",
    "    {\"name\": \"3\", \"restrictions\": [{\"schema_id\": twenty_schema_id, \"cred_def_id\": twenty_rev_cred_def_id}]},\n",
    "    {\"name\": \"4\", \"restrictions\": [{\"schema_id\": twenty_schema_id, \"cred_def_id\": twenty_rev_cred_def_id}]},\n",
    "    {\"name\": \"5\", \"restrictions\": [{\"schema_id\": twenty_schema_id, \"cred_def_id\": twenty_rev_cred_def_id}]},\n",
    "]\n",
    "\n",
    "proof_request[\"requested_attributes\"] = {\n",
    "        # They generally follow this uuid pattern. Unique identifier for attribute within context of this proof request\n",
    "        # Note that req_attr['name'] gets the attribute name of each object. E.g. domain and name in this case\n",
    "        f\"0_{req_attr['name']}_uuid\":\n",
    "        req_attr for req_attr in req_attrs\n",
    "}"
   ]
  },
  {
   "cell_type": "code",
   "execution_count": 165,
   "id": "ec3fdac8",
   "metadata": {},
   "outputs": [
    {
     "name": "stdout",
     "output_type": "stream",
     "text": [
      "Average :  2.888445556750412\n"
     ]
    }
   ],
   "source": [
    "test = {\"name\": name, \"proof_request\": proof_request}\n",
    "\n",
    "await performance_service.run_verification(revocable_experiment, test, connection_id)"
   ]
  },
  {
   "cell_type": "markdown",
   "id": "8430f021",
   "metadata": {},
   "source": [
    "## Five Attributes Two Cred"
   ]
  },
  {
   "cell_type": "code",
   "execution_count": 166,
   "id": "82b01938",
   "metadata": {},
   "outputs": [],
   "source": [
    "req_attrs = [\n",
    "    {\"name\": \"1\", \"restrictions\": [{\"schema_id\": twenty_schema_id, \"cred_def_id\": twenty_cred_def_id}]},\n",
    "    {\"name\": \"2\", \"restrictions\": [{\"schema_id\": twenty_schema_id, \"cred_def_id\": twenty_cred_def_id}]},\n",
    "    {\"name\": \"3\", \"restrictions\": [{\"schema_id\": twenty_schema_id, \"cred_def_id\": twenty_cred_def_id}]},\n",
    "    {\"name\": \"4\", \"restrictions\": [{\"schema_id\": twenty_schema_id, \"cred_def_id\": twenty_cred_def_id}]},\n",
    "    {\"name\": \"5\", \"restrictions\": [{\"schema_id\": ten_schema_id, \"cred_def_id\": ten_cred_def_id}]},\n",
    "]\n",
    "\n",
    "proof_request[\"requested_attributes\"] = {\n",
    "        # They generally follow this uuid pattern. Unique identifier for attribute within context of this proof request\n",
    "        # Note that req_attr['name'] gets the attribute name of each object. E.g. domain and name in this case\n",
    "        f\"0_{req_attr['name']}_uuid\":\n",
    "        req_attr for req_attr in req_attrs\n",
    "}"
   ]
  },
  {
   "cell_type": "code",
   "execution_count": 167,
   "id": "08aacf81",
   "metadata": {},
   "outputs": [],
   "source": [
    "name = \"2\""
   ]
  },
  {
   "cell_type": "code",
   "execution_count": 168,
   "id": "29c7b93c",
   "metadata": {},
   "outputs": [
    {
     "name": "stdout",
     "output_type": "stream",
     "text": [
      "Average :  2.3859419959000663\n"
     ]
    }
   ],
   "source": [
    "test = {\"name\": name, \"proof_request\": proof_request}\n",
    "\n",
    "await performance_service.run_verification(experiment, test, connection_id)"
   ]
  },
  {
   "cell_type": "code",
   "execution_count": 169,
   "id": "044aaa38",
   "metadata": {},
   "outputs": [],
   "source": [
    "req_attrs = [\n",
    "    {\"name\": \"1\", \"restrictions\": [{\"schema_id\": twenty_schema_id, \"cred_def_id\": twenty_rev_cred_def_id}]},\n",
    "    {\"name\": \"2\", \"restrictions\": [{\"schema_id\": twenty_schema_id, \"cred_def_id\": twenty_rev_cred_def_id}]},\n",
    "    {\"name\": \"3\", \"restrictions\": [{\"schema_id\": twenty_schema_id, \"cred_def_id\": twenty_rev_cred_def_id}]},\n",
    "    {\"name\": \"4\", \"restrictions\": [{\"schema_id\": twenty_schema_id, \"cred_def_id\": twenty_rev_cred_def_id}]},\n",
    "    {\"name\": \"5\", \"restrictions\": [{\"schema_id\": ten_schema_id, \"cred_def_id\": ten_rev_cred_def_id}]},\n",
    "]\n",
    "\n",
    "proof_request[\"requested_attributes\"] = {\n",
    "        # They generally follow this uuid pattern. Unique identifier for attribute within context of this proof request\n",
    "        # Note that req_attr['name'] gets the attribute name of each object. E.g. domain and name in this case\n",
    "        f\"0_{req_attr['name']}_uuid\":\n",
    "        req_attr for req_attr in req_attrs\n",
    "}"
   ]
  },
  {
   "cell_type": "code",
   "execution_count": 170,
   "id": "25681622",
   "metadata": {},
   "outputs": [
    {
     "name": "stdout",
     "output_type": "stream",
     "text": [
      "Average :  3.760751254099887\n"
     ]
    }
   ],
   "source": [
    "test = {\"name\": name, \"proof_request\": proof_request}\n",
    "\n",
    "await performance_service.run_verification(revocable_experiment, test, connection_id)"
   ]
  },
  {
   "cell_type": "markdown",
   "id": "73c39334",
   "metadata": {},
   "source": [
    "## Five Attributes Three Cred"
   ]
  },
  {
   "cell_type": "code",
   "execution_count": 171,
   "id": "3c7efa7d",
   "metadata": {},
   "outputs": [],
   "source": [
    "req_attrs = [\n",
    "    {\"name\": \"1\", \"restrictions\": [{\"schema_id\": twenty_schema_id, \"cred_def_id\": twenty_cred_def_id}]},\n",
    "    {\"name\": \"2\", \"restrictions\": [{\"schema_id\": twenty_schema_id, \"cred_def_id\": twenty_cred_def_id}]},\n",
    "    {\"name\": \"3\", \"restrictions\": [{\"schema_id\": twenty_schema_id, \"cred_def_id\": twenty_cred_def_id}]},\n",
    "    {\"name\": \"4\", \"restrictions\": [{\"schema_id\": five_schema_id, \"cred_def_id\": five_cred_def_id}]},\n",
    "    {\"name\": \"5\", \"restrictions\": [{\"schema_id\": ten_schema_id, \"cred_def_id\": ten_cred_def_id}]},\n",
    "]\n",
    "\n",
    "proof_request[\"requested_attributes\"] = {\n",
    "        # They generally follow this uuid pattern. Unique identifier for attribute within context of this proof request\n",
    "        # Note that req_attr['name'] gets the attribute name of each object. E.g. domain and name in this case\n",
    "        f\"0_{req_attr['name']}_uuid\":\n",
    "        req_attr for req_attr in req_attrs\n",
    "}"
   ]
  },
  {
   "cell_type": "code",
   "execution_count": 172,
   "id": "29f83aac",
   "metadata": {},
   "outputs": [],
   "source": [
    "name = \"3\""
   ]
  },
  {
   "cell_type": "code",
   "execution_count": 173,
   "id": "a6c2a110",
   "metadata": {},
   "outputs": [
    {
     "name": "stdout",
     "output_type": "stream",
     "text": [
      "Average :  2.2802539874501235\n"
     ]
    }
   ],
   "source": [
    "test = {\"name\": name, \"proof_request\": proof_request}\n",
    "\n",
    "await performance_service.run_verification(experiment, test, connection_id)"
   ]
  },
  {
   "cell_type": "code",
   "execution_count": 174,
   "id": "dd9d69d7",
   "metadata": {},
   "outputs": [],
   "source": [
    "req_attrs = [\n",
    "    {\"name\": \"1\", \"restrictions\": [{\"schema_id\": twenty_schema_id, \"cred_def_id\": twenty_rev_cred_def_id}]},\n",
    "    {\"name\": \"2\", \"restrictions\": [{\"schema_id\": twenty_schema_id, \"cred_def_id\": twenty_rev_cred_def_id}]},\n",
    "    {\"name\": \"3\", \"restrictions\": [{\"schema_id\": twenty_schema_id, \"cred_def_id\": twenty_rev_cred_def_id}]},\n",
    "    {\"name\": \"4\", \"restrictions\": [{\"schema_id\": five_schema_id, \"cred_def_id\": five_rev_cred_def_id}]},\n",
    "    {\"name\": \"5\", \"restrictions\": [{\"schema_id\": ten_schema_id, \"cred_def_id\": ten_rev_cred_def_id}]},\n",
    "]\n",
    "\n",
    "proof_request[\"requested_attributes\"] = {\n",
    "        # They generally follow this uuid pattern. Unique identifier for attribute within context of this proof request\n",
    "        # Note that req_attr['name'] gets the attribute name of each object. E.g. domain and name in this case\n",
    "        f\"0_{req_attr['name']}_uuid\":\n",
    "        req_attr for req_attr in req_attrs\n",
    "}"
   ]
  },
  {
   "cell_type": "code",
   "execution_count": 175,
   "id": "3fd4c417",
   "metadata": {},
   "outputs": [
    {
     "name": "stdout",
     "output_type": "stream",
     "text": [
      "Average :  4.044143925350181\n"
     ]
    }
   ],
   "source": [
    "test = {\"name\": name, \"proof_request\": proof_request}\n",
    "\n",
    "await performance_service.run_verification(revocable_experiment, test, connection_id)"
   ]
  },
  {
   "cell_type": "markdown",
   "id": "8896b048",
   "metadata": {},
   "source": [
    "## Five Attributes Four Cred"
   ]
  },
  {
   "cell_type": "code",
   "execution_count": 176,
   "id": "f0941727",
   "metadata": {},
   "outputs": [],
   "source": [
    "req_attrs = [\n",
    "    {\"name\": \"1\", \"restrictions\": [{\"schema_id\": twenty_schema_id, \"cred_def_id\": twenty_cred_def_id}]},\n",
    "    {\"name\": \"2\", \"restrictions\": [{\"schema_id\": twenty_schema_id, \"cred_def_id\": twenty_cred_def_id}]},\n",
    "    {\"name\": \"3\", \"restrictions\": [{\"schema_id\": fifty_schema_id, \"cred_def_id\": fifty_cred_def_id}]},\n",
    "    {\"name\": \"4\", \"restrictions\": [{\"schema_id\": five_schema_id, \"cred_def_id\": five_cred_def_id}]},\n",
    "    {\"name\": \"5\", \"restrictions\": [{\"schema_id\": ten_schema_id, \"cred_def_id\": ten_cred_def_id}]},\n",
    "]\n",
    "\n",
    "proof_request[\"requested_attributes\"] = {\n",
    "        # They generally follow this uuid pattern. Unique identifier for attribute within context of this proof request\n",
    "        # Note that req_attr['name'] gets the attribute name of each object. E.g. domain and name in this case\n",
    "        f\"0_{req_attr['name']}_uuid\":\n",
    "        req_attr for req_attr in req_attrs\n",
    "}"
   ]
  },
  {
   "cell_type": "code",
   "execution_count": 177,
   "id": "39a1a967",
   "metadata": {},
   "outputs": [],
   "source": [
    "name = \"4\""
   ]
  },
  {
   "cell_type": "code",
   "execution_count": 178,
   "id": "3ca2e7ba",
   "metadata": {},
   "outputs": [
    {
     "name": "stdout",
     "output_type": "stream",
     "text": [
      "Average :  2.808775784350291\n"
     ]
    }
   ],
   "source": [
    "test = {\"name\": name, \"proof_request\": proof_request}\n",
    "\n",
    "await performance_service.run_verification(experiment, test, connection_id)"
   ]
  },
  {
   "cell_type": "code",
   "execution_count": 179,
   "id": "a1054aaa",
   "metadata": {},
   "outputs": [],
   "source": [
    "req_attrs = [\n",
    "    {\"name\": \"1\", \"restrictions\": [{\"schema_id\": twenty_schema_id, \"cred_def_id\": twenty_rev_cred_def_id}]},\n",
    "    {\"name\": \"2\", \"restrictions\": [{\"schema_id\": twenty_schema_id, \"cred_def_id\": twenty_rev_cred_def_id}]},\n",
    "    {\"name\": \"3\", \"restrictions\": [{\"schema_id\": fifty_schema_id, \"cred_def_id\": fifty_rev_cred_def_id}]},\n",
    "    {\"name\": \"4\", \"restrictions\": [{\"schema_id\": five_schema_id, \"cred_def_id\": five_rev_cred_def_id}]},\n",
    "    {\"name\": \"5\", \"restrictions\": [{\"schema_id\": ten_schema_id, \"cred_def_id\": ten_rev_cred_def_id}]},\n",
    "]\n",
    "\n",
    "proof_request[\"requested_attributes\"] = {\n",
    "        # They generally follow this uuid pattern. Unique identifier for attribute within context of this proof request\n",
    "        # Note that req_attr['name'] gets the attribute name of each object. E.g. domain and name in this case\n",
    "        f\"0_{req_attr['name']}_uuid\":\n",
    "        req_attr for req_attr in req_attrs\n",
    "}"
   ]
  },
  {
   "cell_type": "code",
   "execution_count": 180,
   "id": "fcbff82d",
   "metadata": {},
   "outputs": [
    {
     "name": "stdout",
     "output_type": "stream",
     "text": [
      "Average :  5.397983192500033\n"
     ]
    }
   ],
   "source": [
    "test = {\"name\": name, \"proof_request\": proof_request}\n",
    "\n",
    "await performance_service.run_verification(revocable_experiment, test, connection_id)"
   ]
  },
  {
   "cell_type": "markdown",
   "id": "7ea2fb45",
   "metadata": {},
   "source": [
    "## Five Attributes Five Cred"
   ]
  },
  {
   "cell_type": "code",
   "execution_count": 181,
   "id": "b5ec64d3",
   "metadata": {},
   "outputs": [],
   "source": [
    "req_attrs = [\n",
    "    {\"name\": \"1\", \"restrictions\": [{\"schema_id\": twenty_schema_id, \"cred_def_id\": twenty_cred_def_id}]},\n",
    "    {\"name\": \"2\", \"restrictions\": [{\"schema_id\": hundred_schema_id, \"cred_def_id\": hundred_cred_def_id}]},\n",
    "    {\"name\": \"3\", \"restrictions\": [{\"schema_id\": fifty_schema_id, \"cred_def_id\": fifty_cred_def_id}]},\n",
    "    {\"name\": \"4\", \"restrictions\": [{\"schema_id\": five_schema_id, \"cred_def_id\": five_cred_def_id}]},\n",
    "    {\"name\": \"5\", \"restrictions\": [{\"schema_id\": ten_schema_id, \"cred_def_id\": ten_cred_def_id}]},\n",
    "]\n",
    "\n",
    "proof_request[\"requested_attributes\"] = {\n",
    "        # They generally follow this uuid pattern. Unique identifier for attribute within context of this proof request\n",
    "        # Note that req_attr['name'] gets the attribute name of each object. E.g. domain and name in this case\n",
    "        f\"0_{req_attr['name']}_uuid\":\n",
    "        req_attr for req_attr in req_attrs\n",
    "}"
   ]
  },
  {
   "cell_type": "code",
   "execution_count": 182,
   "id": "1c5c46ef",
   "metadata": {},
   "outputs": [],
   "source": [
    "name = \"5\""
   ]
  },
  {
   "cell_type": "code",
   "execution_count": 183,
   "id": "880e29aa",
   "metadata": {},
   "outputs": [
    {
     "name": "stdout",
     "output_type": "stream",
     "text": [
      "Average :  4.092076107749927\n"
     ]
    }
   ],
   "source": [
    "test = {\"name\": name, \"proof_request\": proof_request}\n",
    "\n",
    "await performance_service.run_verification(experiment, test, connection_id)"
   ]
  },
  {
   "cell_type": "code",
   "execution_count": 184,
   "id": "08dd9b64",
   "metadata": {},
   "outputs": [],
   "source": [
    "req_attrs = [\n",
    "    {\"name\": \"1\", \"restrictions\": [{\"schema_id\": twenty_schema_id, \"cred_def_id\": twenty_rev_cred_def_id}]},\n",
    "    {\"name\": \"2\", \"restrictions\": [{\"schema_id\": hundred_schema_id, \"cred_def_id\": hundred_rev_cred_def_id}]},\n",
    "    {\"name\": \"3\", \"restrictions\": [{\"schema_id\": fifty_schema_id, \"cred_def_id\": fifty_rev_cred_def_id}]},\n",
    "    {\"name\": \"4\", \"restrictions\": [{\"schema_id\": five_schema_id, \"cred_def_id\": five_rev_cred_def_id}]},\n",
    "    {\"name\": \"5\", \"restrictions\": [{\"schema_id\": ten_schema_id, \"cred_def_id\": ten_rev_cred_def_id}]},\n",
    "]\n",
    "\n",
    "proof_request[\"requested_attributes\"] = {\n",
    "        # They generally follow this uuid pattern. Unique identifier for attribute within context of this proof request\n",
    "        # Note that req_attr['name'] gets the attribute name of each object. E.g. domain and name in this case\n",
    "        f\"0_{req_attr['name']}_uuid\":\n",
    "        req_attr for req_attr in req_attrs\n",
    "}"
   ]
  },
  {
   "cell_type": "code",
   "execution_count": 185,
   "id": "4b9308ea",
   "metadata": {},
   "outputs": [
    {
     "name": "stdout",
     "output_type": "stream",
     "text": [
      "Average :  6.604865062400313\n"
     ]
    }
   ],
   "source": [
    "test = {\"name\": name, \"proof_request\": proof_request}\n",
    "\n",
    "await performance_service.run_verification(revocable_experiment, test, connection_id)"
   ]
  },
  {
   "cell_type": "markdown",
   "id": "287815b8",
   "metadata": {},
   "source": [
    "## Plot Results"
   ]
  },
  {
   "cell_type": "markdown",
   "id": "a09cd455",
   "metadata": {},
   "source": [
    "### Non Revocable"
   ]
  },
  {
   "cell_type": "code",
   "execution_count": 193,
   "id": "614569d2",
   "metadata": {},
   "outputs": [],
   "source": [
    "data = []\n",
    "labels = []\n",
    "non_revocable_averages = []\n",
    "for result in experiment[\"results\"]:\n",
    "    \n",
    "\n",
    "    millitimings = [i * 1000 for i in result[\"timings\"]]\n",
    "    data.append(millitimings)\n",
    "    non_revocable_averages.append(result[\"average\"] * 1000)\n",
    "    labels.append(int(result[\"name\"]))\n",
    "\n"
   ]
  },
  {
   "cell_type": "code",
   "execution_count": 194,
   "id": "d0858796",
   "metadata": {},
   "outputs": [
    {
     "data": {
      "image/png": "[encoded data removed]",
      "text/plain": [
       "<Figure size 720x720 with 1 Axes>"
      ]
     },
     "metadata": {
      "needs_background": "light"
     },
     "output_type": "display_data"
    }
   ],
   "source": [
    "# Import libraries\n",
    "import matplotlib.pyplot as plt\n",
    "import numpy as np\n",
    " \n",
    "\n",
    " \n",
    "fig = plt.figure(figsize =(10, 10))\n",
    " \n",
    "# Creating axes instance\n",
    "ax = fig.add_axes([0.1,0.1,0.75,0.75]) \n",
    " \n",
    "# Creating plot`\n",
    "bp = ax.boxplot(data, patch_artist = True,\n",
    "                notch ='True')\n",
    "\n",
    "# x-axis labels\n",
    "ax.set_xticklabels(labels)\n",
    "\n",
    "plt.ylabel(\"Milliseconds\")\n",
    "plt.xlabel(\"Attributes Disclosed\")\n",
    "\n",
    "plt.savefig(\"fixed_attributes_disclosed_variables_credentials_presented_box_plot_non_revocable.png\")"
   ]
  },
  {
   "cell_type": "markdown",
   "id": "0ddc8f50",
   "metadata": {},
   "source": [
    "### Revocable"
   ]
  },
  {
   "cell_type": "code",
   "execution_count": 195,
   "id": "5168cc44",
   "metadata": {},
   "outputs": [],
   "source": [
    "data = []\n",
    "labels = []\n",
    "revocable_averages = []\n",
    "for result in revocable_experiment[\"results\"]:\n",
    "    \n",
    "    millitimings = [i * 1000 for i in result[\"timings\"]]\n",
    "    data.append(millitimings)\n",
    "    revocable_averages.append(result[\"average\"] * 1000)\n",
    "    labels.append(int(result[\"name\"]))\n",
    "    \n"
   ]
  },
  {
   "cell_type": "code",
   "execution_count": 196,
   "id": "baa999b2",
   "metadata": {},
   "outputs": [
    {
     "data": {
      "image/png": "[encoded data removed]",
      "text/plain": [
       "<Figure size 720x720 with 1 Axes>"
      ]
     },
     "metadata": {
      "needs_background": "light"
     },
     "output_type": "display_data"
    }
   ],
   "source": [
    "# Import libraries\n",
    "import matplotlib.pyplot as plt\n",
    "import numpy as np\n",
    " \n",
    "\n",
    " \n",
    "fig = plt.figure(figsize =(10, 10))\n",
    " \n",
    "# Creating axes instance\n",
    "ax = fig.add_axes([0.1,0.1,0.75,0.75]) \n",
    " \n",
    "# Creating plot`\n",
    "bp = ax.boxplot(data, patch_artist = True,\n",
    "                notch ='True')\n",
    "\n",
    "# x-axis labels\n",
    "ax.set_xticklabels(labels)\n",
    "\n",
    "plt.ylabel(\"Milliseconds\")\n",
    "plt.xlabel(\"Attributes Disclosed\")\n",
    "\n",
    "plt.savefig(\"fixed_attributes_disclosed_variables_credentials_presented_box_plot_revocable.png\")"
   ]
  },
  {
   "cell_type": "markdown",
   "id": "268b2d3e",
   "metadata": {},
   "source": [
    "## Averages"
   ]
  },
  {
   "cell_type": "code",
   "execution_count": 197,
   "id": "13ab51f9",
   "metadata": {},
   "outputs": [
    {
     "data": {
      "image/png": "[encoded data removed]",
      "text/plain": [
       "<Figure size 720x720 with 1 Axes>"
      ]
     },
     "metadata": {
      "needs_background": "light"
     },
     "output_type": "display_data"
    }
   ],
   "source": [
    "fig = plt.figure(figsize =(10, 10))\n",
    " \n",
    "# Creating axes instance\n",
    "ax = fig.add_axes([0.1,0.1,0.75,0.75]) \n",
    "\n",
    "new_labels = [int(i) for i in labels]\n",
    "# avg_ploy = plt.plot(labels, revocable_averages, non_revoked_averages)\n",
    "\n",
    "plt.plot(labels, revocable_averages,'r-',label='Revocable Credential Presentation Averages')\n",
    "plt.plot(labels, non_revocable_averages,label='Non Revocable Credential Presentation Averages')\n",
    "\n",
    "plt.ylabel(\"Milliseconds\")\n",
    "plt.xlabel(\"Attributes Disclosed\")\n",
    "\n",
    "plt.legend()\n",
    "plt.savefig(\"fixed_attributes_disclosed_variables_credentials_presented_averages.png\")"
   ]
  },
  {
   "cell_type": "markdown",
   "id": "1c95eb4a",
   "metadata": {},
   "source": [
    "## Terminate Controller\n",
    "\n",
    "Whenever you have finished with this notebook, be sure to terminate the controller. This is especially important if your business logic runs across multiple notebooks."
   ]
  },
  {
   "cell_type": "code",
   "execution_count": null,
   "id": "fa96d3b4",
   "metadata": {},
   "outputs": [],
   "source": [
    "await agent_controller.terminate()"
   ]
  },
  {
   "cell_type": "code",
   "execution_count": null,
   "id": "a7f7db47",
   "metadata": {},
   "outputs": [],
   "source": []
  }
 ],
 "metadata": {
  "kernelspec": {
   "display_name": "Python 3",
   "language": "python",
   "name": "python3"
  },
  "language_info": {
   "codemirror_mode": {
    "name": "ipython",
    "version": 3
   },
   "file_extension": ".py",
   "mimetype": "text/x-python",
   "name": "python",
   "nbconvert_exporter": "python",
   "pygments_lexer": "ipython3",
   "version": "3.7.6"
  }
 },
 "nbformat": 4,
 "nbformat_minor": 5
}
