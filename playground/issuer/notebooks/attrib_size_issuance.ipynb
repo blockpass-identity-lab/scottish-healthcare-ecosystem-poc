{
 "cells": [
  {
   "cell_type": "markdown",
   "id": "791e2f7e",
   "metadata": {},
   "source": [
    "# ACA-Py & ACC-Py Basic Template\n",
    "\n",
    "## Copy this template into the root folder of your notebook workspace to get started"
   ]
  },
  {
   "cell_type": "markdown",
   "id": "ffab7352",
   "metadata": {},
   "source": [
    "### Imports"
   ]
  },
  {
   "cell_type": "code",
   "execution_count": 1,
   "id": "ef6bd5a3",
   "metadata": {},
   "outputs": [],
   "source": [
    "from aries_cloudcontroller import AriesAgentController\n",
    "import os\n",
    "from termcolor import colored\n",
    "import asyncio\n",
    "import time\n",
    "\n",
    "from aiohttp import ClientSession\n",
    "\n",
    "from libs.performance_service import PerformanceService"
   ]
  },
  {
   "cell_type": "markdown",
   "id": "2a7f536f",
   "metadata": {},
   "source": [
    "### Initialise the Agent Controller"
   ]
  },
  {
   "cell_type": "code",
   "execution_count": 2,
   "id": "bf061914",
   "metadata": {},
   "outputs": [
    {
     "name": "stdout",
     "output_type": "stream",
     "text": [
      "Initialising a controller with admin api at http://issuer-agent:3021 and an api key of adminApiKey\n"
     ]
    }
   ],
   "source": [
    "api_key = os.getenv(\"ACAPY_ADMIN_API_KEY\")\n",
    "admin_url = os.getenv(\"ADMIN_URL\")\n",
    "\n",
    "print(f\"Initialising a controller with admin api at {admin_url} and an api key of {api_key}\")\n",
    "agent_controller = AriesAgentController(admin_url,api_key)\n"
   ]
  },
  {
   "cell_type": "markdown",
   "id": "e9382403",
   "metadata": {},
   "source": [
    "### Start a Webhook Server"
   ]
  },
  {
   "cell_type": "code",
   "execution_count": 3,
   "id": "6d506b13",
   "metadata": {},
   "outputs": [
    {
     "name": "stdout",
     "output_type": "stream",
     "text": [
      "Listening for webhooks from agent at http://0.0.0.0:3010\n"
     ]
    }
   ],
   "source": [
    "webhook_port = int(os.getenv(\"WEBHOOK_PORT\"))\n",
    "webhook_host = \"0.0.0.0\"\n",
    "\n",
    "await agent_controller.init_webhook_server(webhook_host, webhook_port)\n",
    "\n",
    "print(f\"Listening for webhooks from agent at http://{webhook_host}:{webhook_port}\")"
   ]
  },
  {
   "cell_type": "markdown",
   "id": "eebf7ce3",
   "metadata": {},
   "source": [
    "## Store Issuing Schema and Cred Def Identifiers\n",
    "\n",
    "If you intend for this agent to issue credentials you should first initialise your agent as an issuer and author the relevant identifiers to the public ledger. The issuer_initialisation recipe notebook can be duplicated and used as a starting point.\n",
    "\n",
    "Once schema and cred def identifiers are created copy across and store in variables as illustrated in the cell below. Be sure to use unique names for each variable."
   ]
  },
  {
   "cell_type": "code",
   "execution_count": 4,
   "id": "f07d0060",
   "metadata": {},
   "outputs": [],
   "source": [
    "size1_schema_id='H7zAaLJRZrdbPqbVMMfL5t:2:size1:0.0.1'\n",
    "size1_cred_def_id='H7zAaLJRZrdbPqbVMMfL5t:3:CL:8:default'\n",
    "size1_rev_cred_def_id='H7zAaLJRZrdbPqbVMMfL5t:3:CL:8:revocable'\n",
    "\n",
    "size2_schema_id='H7zAaLJRZrdbPqbVMMfL5t:2:size2:0.0.1'\n",
    "size2_cred_def_id='H7zAaLJRZrdbPqbVMMfL5t:3:CL:9:default'\n",
    "size2_rev_cred_def_id='H7zAaLJRZrdbPqbVMMfL5t:3:CL:9:revocable'\n",
    "\n",
    "size3_schema_id='H7zAaLJRZrdbPqbVMMfL5t:2:size3:0.0.1'\n",
    "size3_cred_def_id='H7zAaLJRZrdbPqbVMMfL5t:3:CL:10:default'\n",
    "size3_rev_cred_def_id='H7zAaLJRZrdbPqbVMMfL5t:3:CL:10:revocable'\n",
    "\n",
    "size4_schema_id='H7zAaLJRZrdbPqbVMMfL5t:2:size4:0.0.1'\n",
    "size4_cred_def_id='H7zAaLJRZrdbPqbVMMfL5t:3:CL:11:default'\n",
    "size4_rev_cred_def_id='H7zAaLJRZrdbPqbVMMfL5t:3:CL:11:revocable'\n",
    "\n",
    "size5_schema_id='H7zAaLJRZrdbPqbVMMfL5t:2:size5:0.0.1'\n",
    "size5_cred_def_id='H7zAaLJRZrdbPqbVMMfL5t:3:CL:12:default'\n",
    "size5_rev_cred_def_id='H7zAaLJRZrdbPqbVMMfL5t:3:CL:12:revocable'\n",
    "\n",
    "size6_schema_id='H7zAaLJRZrdbPqbVMMfL5t:2:size6:0.0.1'\n",
    "size6_cred_def_id='H7zAaLJRZrdbPqbVMMfL5t:3:CL:13:default'\n",
    "size6_rev_cred_def_id='H7zAaLJRZrdbPqbVMMfL5t:3:CL:13:revocable'\n",
    "\n",
    "size7_schema_id='H7zAaLJRZrdbPqbVMMfL5t:2:size7:0.0.1'\n",
    "size7_cred_def_id='H7zAaLJRZrdbPqbVMMfL5t:3:CL:14:default'\n",
    "size7_rev_cred_def_id='H7zAaLJRZrdbPqbVMMfL5t:3:CL:14:revocable'\n",
    "\n",
    "\n"
   ]
  },
  {
   "cell_type": "markdown",
   "id": "193c699e",
   "metadata": {},
   "source": [
    "## Init Performance Service"
   ]
  },
  {
   "cell_type": "code",
   "execution_count": 5,
   "id": "48564605",
   "metadata": {},
   "outputs": [],
   "source": [
    "performance_service = PerformanceService(agent_controller, iterations=100)"
   ]
  },
  {
   "cell_type": "markdown",
   "id": "f22fa7a1",
   "metadata": {},
   "source": [
    "## Establish Connection\n",
    "\n",
    "Before you can issue a credential you must first establish a connection across which the credential will be issued to a holder. (see recipes/connection)"
   ]
  },
  {
   "cell_type": "code",
   "execution_count": 6,
   "id": "df984e93",
   "metadata": {},
   "outputs": [
    {
     "name": "stdout",
     "output_type": "stream",
     "text": [
      "{'@type': 'did:sov:BzCbsNYhMrjHiqZDTUASHg;spec/connections/1.0/invitation', '@id': '843d50e1-e861-4ec3-8620-25ae01b2f027', 'label': 'Issuer', 'serviceEndpoint': 'http://issuer-agent:3020', 'recipientKeys': ['8ZjDVHABDMxN973vYVhFifdoz9y3DZYL492aK3mUg1Vg']}\n",
      "bf7d4d2b-1398-4079-a4fa-7cfecf815892\n",
      "\u001b[1m\u001b[32mConnection ID: bf7d4d2b-1398-4079-a4fa-7cfecf815892 is now active.\u001b[0m\n"
     ]
    }
   ],
   "source": [
    "# Alias for invited connection\n",
    "alias = \"Friend\"\n",
    "auto_accept = \"true\"\n",
    "# Use public DID?\n",
    "public = \"false\"\n",
    "# Should this invitation be usable by multiple invitees?\n",
    "multi_use = \"false\"\n",
    "\n",
    "invitation_response = await agent_controller.connections.create_invitation(alias, auto_accept, public, multi_use)\n",
    "# Is equivalent to above. Arguments are optionally\n",
    "# invitation_response = await agent_controller.connections.create_invitation()\n",
    "\n",
    "\n",
    "\n",
    "# You will use this identifier to issue a credential across this connection\n",
    "connection_id = invitation_response[\"connection_id\"]\n",
    "\n",
    "invitation = invitation_response[\"invitation\"]\n",
    "## Copy this output\n",
    "print(invitation)\n",
    "print(connection_id)"
   ]
  },
  {
   "cell_type": "code",
   "execution_count": 7,
   "id": "2fc9de00",
   "metadata": {},
   "outputs": [],
   "source": [
    "connection_id = \"bf7d4d2b-1398-4079-a4fa-7cfecf815892\""
   ]
  },
  {
   "cell_type": "markdown",
   "id": "9469f277",
   "metadata": {},
   "source": [
    "# Attribute Size Experiment"
   ]
  },
  {
   "cell_type": "code",
   "execution_count": 9,
   "id": "14fddc98",
   "metadata": {},
   "outputs": [],
   "source": [
    "experiment = performance_service.new_experiment(\"Attribute Size - Non Revocable\")\n",
    "\n"
   ]
  },
  {
   "cell_type": "code",
   "execution_count": 10,
   "id": "8fb4f0c3",
   "metadata": {},
   "outputs": [],
   "source": [
    "revocable_experiment = performance_service.new_experiment(\"Attribute Size - Revocable\")"
   ]
  },
  {
   "cell_type": "markdown",
   "id": "4611e4e1",
   "metadata": {},
   "source": [
    "## Define Performance Test - 0.1kb"
   ]
  },
  {
   "cell_type": "code",
   "execution_count": 11,
   "id": "496e85e6",
   "metadata": {
    "tags": []
   },
   "outputs": [],
   "source": [
    "credential_attributes = [\n",
    "    {\"name\": \"image\", \"value\": 128*\"0\"},\n",
    "]"
   ]
  },
  {
   "cell_type": "code",
   "execution_count": 12,
   "id": "7ba72edb",
   "metadata": {
    "tags": []
   },
   "outputs": [
    {
     "name": "stdout",
     "output_type": "stream",
     "text": [
      "Average :  0.7421992142800354\n"
     ]
    }
   ],
   "source": [
    "\n",
    "name = \"128B\"\n",
    "\n",
    "\n",
    "test = {\"name\": name, \"schema_id\": size1_schema_id, \"cred_def_id\": size1_cred_def_id, \"attributes\": credential_attributes}\n",
    "\n",
    "await performance_service.run_issuance(experiment, test, connection_id)"
   ]
  },
  {
   "cell_type": "code",
   "execution_count": 13,
   "id": "85e75bd7",
   "metadata": {},
   "outputs": [
    {
     "name": "stdout",
     "output_type": "stream",
     "text": [
      "Average :  1.010123782519986\n"
     ]
    }
   ],
   "source": [
    "\n",
    "test = {\"name\": name, \"schema_id\": size1_schema_id, \"cred_def_id\": size1_rev_cred_def_id, \"attributes\": credential_attributes}\n",
    "\n",
    "await performance_service.run_issuance(revocable_experiment, test, connection_id)\n"
   ]
  },
  {
   "cell_type": "markdown",
   "id": "e337d008",
   "metadata": {},
   "source": [
    "## Define Performance Test - 0.5kb"
   ]
  },
  {
   "cell_type": "code",
   "execution_count": 14,
   "id": "9b078a02",
   "metadata": {
    "tags": []
   },
   "outputs": [],
   "source": [
    "credential_attributes = [\n",
    "    {\"name\": \"image\", \"value\": 512*\"0\"},\n",
    "]\n",
    "\n",
    "name = \"512B\""
   ]
  },
  {
   "cell_type": "code",
   "execution_count": 15,
   "id": "823c3325",
   "metadata": {
    "tags": []
   },
   "outputs": [
    {
     "name": "stdout",
     "output_type": "stream",
     "text": [
      "Average :  0.7588296626200463\n"
     ]
    }
   ],
   "source": [
    "\n",
    "\n",
    "\n",
    "test = {\"name\": name, \"schema_id\": size2_schema_id, \"cred_def_id\": size2_cred_def_id, \"attributes\": credential_attributes}\n",
    "\n",
    "await performance_service.run_issuance(experiment, test, connection_id)"
   ]
  },
  {
   "cell_type": "code",
   "execution_count": 16,
   "id": "0339f642",
   "metadata": {},
   "outputs": [
    {
     "name": "stdout",
     "output_type": "stream",
     "text": [
      "Average :  1.04755196625998\n"
     ]
    }
   ],
   "source": [
    "\n",
    "\n",
    "test = {\"name\": name, \"schema_id\": size2_schema_id, \"cred_def_id\": size2_rev_cred_def_id, \"attributes\": credential_attributes}\n",
    "\n",
    "await performance_service.run_issuance(revocable_experiment, test, connection_id)\n"
   ]
  },
  {
   "cell_type": "markdown",
   "id": "0b500941",
   "metadata": {},
   "source": [
    "## Define Performance Test - 1kb"
   ]
  },
  {
   "cell_type": "code",
   "execution_count": 17,
   "id": "9017878f",
   "metadata": {
    "tags": []
   },
   "outputs": [],
   "source": [
    "credential_attributes = [\n",
    "    {\"name\": \"image\", \"value\": 1024*\"0\"},\n",
    "]\n",
    "name = \"1kB\""
   ]
  },
  {
   "cell_type": "code",
   "execution_count": 18,
   "id": "12aff9f4",
   "metadata": {
    "tags": []
   },
   "outputs": [
    {
     "name": "stdout",
     "output_type": "stream",
     "text": [
      "Average :  0.60604519521994\n"
     ]
    }
   ],
   "source": [
    "\n",
    "\n",
    "\n",
    "\n",
    "test = {\"name\": name, \"schema_id\": size3_schema_id, \"cred_def_id\": size3_cred_def_id, \"attributes\": credential_attributes}\n",
    "\n",
    "await performance_service.run_issuance(experiment, test, connection_id)"
   ]
  },
  {
   "cell_type": "code",
   "execution_count": 19,
   "id": "2c42e92f",
   "metadata": {},
   "outputs": [
    {
     "name": "stdout",
     "output_type": "stream",
     "text": [
      "Average :  1.0152578131099927\n"
     ]
    }
   ],
   "source": [
    "\n",
    "\n",
    "test = {\"name\": name, \"schema_id\": size3_schema_id, \"cred_def_id\": size3_rev_cred_def_id, \"attributes\": credential_attributes}\n",
    "\n",
    "await performance_service.run_issuance(revocable_experiment, test, connection_id)\n"
   ]
  },
  {
   "cell_type": "markdown",
   "id": "d027d67d",
   "metadata": {},
   "source": [
    "## Define Performance Test - 16kb"
   ]
  },
  {
   "cell_type": "code",
   "execution_count": 20,
   "id": "a937f462",
   "metadata": {
    "tags": []
   },
   "outputs": [],
   "source": [
    "credential_attributes = [\n",
    "    {\"name\": \"image\", \"value\": 16 * 1024*\"0\"},\n",
    "]\n",
    "\n",
    "name = \"16kB\""
   ]
  },
  {
   "cell_type": "code",
   "execution_count": 21,
   "id": "7f4f3f2e",
   "metadata": {
    "tags": []
   },
   "outputs": [
    {
     "name": "stdout",
     "output_type": "stream",
     "text": [
      "Average :  0.7165110925200042\n"
     ]
    }
   ],
   "source": [
    "\n",
    "\n",
    "\n",
    "test = {\"name\": name, \"schema_id\": size4_schema_id, \"cred_def_id\": size4_cred_def_id, \"attributes\": credential_attributes}\n",
    "\n",
    "await performance_service.run_issuance(experiment, test, connection_id)"
   ]
  },
  {
   "cell_type": "code",
   "execution_count": 22,
   "id": "241f25c5",
   "metadata": {},
   "outputs": [
    {
     "name": "stdout",
     "output_type": "stream",
     "text": [
      "Average :  1.251941262279979\n"
     ]
    }
   ],
   "source": [
    "\n",
    "\n",
    "test = {\"name\": name, \"schema_id\": size4_schema_id, \"cred_def_id\": size4_rev_cred_def_id, \"attributes\": credential_attributes}\n",
    "\n",
    "await performance_service.run_issuance(revocable_experiment, test, connection_id)\n"
   ]
  },
  {
   "cell_type": "markdown",
   "id": "eae4f550",
   "metadata": {},
   "source": [
    "## Define Performance Test - 64kb"
   ]
  },
  {
   "cell_type": "code",
   "execution_count": 23,
   "id": "05abcee3",
   "metadata": {
    "tags": []
   },
   "outputs": [],
   "source": [
    "credential_attributes = [\n",
    "    {\"name\": \"image\", \"value\": 64*1024*\"0\"},\n",
    "]\n",
    "name = \"64kB\""
   ]
  },
  {
   "cell_type": "code",
   "execution_count": 24,
   "id": "a5c25ad3",
   "metadata": {
    "tags": []
   },
   "outputs": [
    {
     "name": "stdout",
     "output_type": "stream",
     "text": [
      "Average :  1.1442755796500024\n"
     ]
    }
   ],
   "source": [
    "\n",
    "\n",
    "\n",
    "\n",
    "test = {\"name\": name, \"schema_id\": size5_schema_id, \"cred_def_id\": size5_cred_def_id, \"attributes\": credential_attributes}\n",
    "\n",
    "await performance_service.run_issuance(experiment,test, connection_id)"
   ]
  },
  {
   "cell_type": "code",
   "execution_count": 25,
   "id": "e3a810bf",
   "metadata": {},
   "outputs": [
    {
     "name": "stdout",
     "output_type": "stream",
     "text": [
      "Average :  1.6424007953500495\n"
     ]
    }
   ],
   "source": [
    "\n",
    "\n",
    "test = {\"name\": name, \"schema_id\": size5_schema_id, \"cred_def_id\": size5_rev_cred_def_id, \"attributes\": credential_attributes}\n",
    "\n",
    "await performance_service.run_issuance(revocable_experiment, test, connection_id)\n"
   ]
  },
  {
   "cell_type": "markdown",
   "id": "491324ad",
   "metadata": {},
   "source": [
    "## Define Performance Test - 128kb"
   ]
  },
  {
   "cell_type": "code",
   "execution_count": 26,
   "id": "d85f84be",
   "metadata": {
    "tags": []
   },
   "outputs": [],
   "source": [
    "credential_attributes = [\n",
    "    {\"name\": \"image\", \"value\": 128*1024*\"0\"},\n",
    "]\n",
    "\n",
    "name = \"128kB\""
   ]
  },
  {
   "cell_type": "code",
   "execution_count": 27,
   "id": "b37357ad",
   "metadata": {
    "tags": []
   },
   "outputs": [
    {
     "name": "stdout",
     "output_type": "stream",
     "text": [
      "Average :  1.7599949260899939\n"
     ]
    }
   ],
   "source": [
    "\n",
    "\n",
    "\n",
    "test = {\"name\": name, \"schema_id\": size6_schema_id, \"cred_def_id\": size6_cred_def_id, \"attributes\": credential_attributes}\n",
    "\n",
    "await performance_service.run_issuance(experiment,test, connection_id)"
   ]
  },
  {
   "cell_type": "code",
   "execution_count": 28,
   "id": "daf3d06f",
   "metadata": {},
   "outputs": [
    {
     "name": "stdout",
     "output_type": "stream",
     "text": [
      "Average :  2.1817698004800876\n"
     ]
    }
   ],
   "source": [
    "\n",
    "\n",
    "test = {\"name\": name, \"schema_id\": size6_schema_id, \"cred_def_id\": size6_rev_cred_def_id, \"attributes\": credential_attributes}\n",
    "\n",
    "await performance_service.run_issuance(revocable_experiment, test, connection_id)\n"
   ]
  },
  {
   "cell_type": "markdown",
   "id": "07ab7fa8",
   "metadata": {},
   "source": [
    "## Define Performance Test - 256kb"
   ]
  },
  {
   "cell_type": "code",
   "execution_count": 29,
   "id": "a95128c6",
   "metadata": {
    "tags": []
   },
   "outputs": [],
   "source": [
    "credential_attributes = [\n",
    "    {\"name\": \"image\", \"value\": 1024*256*\"0\"},\n",
    "]\n",
    "name = \"256kB\""
   ]
  },
  {
   "cell_type": "code",
   "execution_count": 30,
   "id": "aed06a30",
   "metadata": {
    "tags": []
   },
   "outputs": [
    {
     "name": "stdout",
     "output_type": "stream",
     "text": [
      "Average :  2.7849772056000073\n"
     ]
    }
   ],
   "source": [
    "\n",
    "\n",
    "\n",
    "\n",
    "test = {\"name\": name, \"schema_id\": size7_schema_id, \"cred_def_id\": size7_cred_def_id, \"attributes\": credential_attributes}\n",
    "\n",
    "await performance_service.run_issuance(experiment, test, connection_id)"
   ]
  },
  {
   "cell_type": "code",
   "execution_count": 31,
   "id": "7006defc",
   "metadata": {},
   "outputs": [
    {
     "name": "stdout",
     "output_type": "stream",
     "text": [
      "Average :  3.30249226308998\n"
     ]
    }
   ],
   "source": [
    "\n",
    "\n",
    "test = {\"name\": name, \"schema_id\": size7_schema_id, \"cred_def_id\": size7_rev_cred_def_id, \"attributes\": credential_attributes}\n",
    "\n",
    "await performance_service.run_issuance(revocable_experiment, test, connection_id)\n"
   ]
  },
  {
   "cell_type": "markdown",
   "id": "1a4995e1",
   "metadata": {},
   "source": [
    "## Define Performance Test - 512kb\n",
    "\n",
    "### Not able to run past ~320kb until update webhook server client_max_size"
   ]
  },
  {
   "cell_type": "code",
   "execution_count": null,
   "id": "5380f7b1",
   "metadata": {
    "tags": []
   },
   "outputs": [],
   "source": [
    "# credential_attributes = [\n",
    "#     {\"name\": \"1\", \"value\": 1024*320*\"0\"},\n",
    "# ]"
   ]
  },
  {
   "cell_type": "code",
   "execution_count": null,
   "id": "b37bc531",
   "metadata": {
    "tags": []
   },
   "outputs": [],
   "source": [
    "\n",
    "# name = \"512kb\"\n",
    "\n",
    "\n",
    "# test = {\"name\": name,\"schema_id\": schema_id, \"cred_def_id\": cred_def_id, \"attributes\": credential_attributes}\n",
    "\n",
    "# await performance_service.run(test, connection_id)"
   ]
  },
  {
   "cell_type": "code",
   "execution_count": null,
   "id": "3a0baebb",
   "metadata": {},
   "outputs": [],
   "source": [
    "\n",
    "# name = \"Issuance - 256kb - Revocable\"\n",
    "\n",
    "# test = {\"name\": name, \"iterations\": iterations, \"schema_id\": schema_id, \"cred_def_id\": rev_cred_def_id, \"attributes\": credential_attributes}\n",
    "\n",
    "# await performance_service.run(test, connection_id)\n"
   ]
  },
  {
   "cell_type": "markdown",
   "id": "87b54506",
   "metadata": {},
   "source": [
    "## Plot Results"
   ]
  },
  {
   "cell_type": "markdown",
   "id": "8677c68f",
   "metadata": {},
   "source": [
    "### Non Revocable"
   ]
  },
  {
   "cell_type": "code",
   "execution_count": 32,
   "id": "7bd87b88",
   "metadata": {},
   "outputs": [],
   "source": [
    "data = []\n",
    "labels = []\n",
    "non_revocable_averages = []\n",
    "for result in experiment[\"results\"]:\n",
    "    \n",
    "    millitimings = [i * 1000 for i in result[\"timings\"]]\n",
    "    data.append(millitimings)\n",
    "    non_revocable_averages.append(result[\"average\"] * 1000)\n",
    "    labels.append(result[\"name\"])\n",
    "    \n"
   ]
  },
  {
   "cell_type": "code",
   "execution_count": 33,
   "id": "4f2fd58d",
   "metadata": {},
   "outputs": [
    {
     "data": {
      "image/png": "[encoded data removed]",
      "text/plain": [
       "<Figure size 720x720 with 1 Axes>"
      ]
     },
     "metadata": {
      "needs_background": "light"
     },
     "output_type": "display_data"
    }
   ],
   "source": [
    "# Import libraries\n",
    "import matplotlib.pyplot as plt\n",
    "import numpy as np\n",
    " \n",
    "\n",
    " \n",
    "fig = plt.figure(figsize =(10, 10))\n",
    " \n",
    "# Creating axes instance\n",
    "ax = fig.add_axes([0.1,0.1,0.75,0.75]) \n",
    " \n",
    "# Creating plot`\n",
    "bp = ax.boxplot(data, patch_artist = True,\n",
    "                notch ='True')\n",
    "\n",
    "# x-axis labels\n",
    "ax.set_xticklabels(labels)\n",
    "\n",
    "plt.ylabel(\"Milliseconds\")\n",
    "plt.xlabel(\"Credential Size (Bytes)\")\n",
    "\n",
    "plt.savefig(\"results/issuance/attribute_size/box_plot_non_revocable.png\")"
   ]
  },
  {
   "cell_type": "markdown",
   "id": "0687e007",
   "metadata": {},
   "source": [
    "### Revocable"
   ]
  },
  {
   "cell_type": "code",
   "execution_count": 34,
   "id": "6672f552",
   "metadata": {},
   "outputs": [],
   "source": [
    "data = []\n",
    "labels = []\n",
    "revocable_averages = []\n",
    "for result in revocable_experiment[\"results\"]:\n",
    "    \n",
    "    millitimings = [i * 1000 for i in result[\"timings\"]]\n",
    "    data.append(millitimings)\n",
    "    revocable_averages.append(result[\"average\"] * 1000)\n",
    "    labels.append(result[\"name\"])\n",
    "    \n"
   ]
  },
  {
   "cell_type": "code",
   "execution_count": 35,
   "id": "41cf0305",
   "metadata": {},
   "outputs": [
    {
     "data": {
      "image/png": "[encoded data removed]",
      "text/plain": [
       "<Figure size 720x720 with 1 Axes>"
      ]
     },
     "metadata": {
      "needs_background": "light"
     },
     "output_type": "display_data"
    }
   ],
   "source": [
    "# Import libraries\n",
    "import matplotlib.pyplot as plt\n",
    "import numpy as np\n",
    " \n",
    "\n",
    " \n",
    "fig = plt.figure(figsize =(10, 10))\n",
    " \n",
    "# Creating axes instance\n",
    "ax = fig.add_axes([0.1,0.1,0.75,0.75]) \n",
    " \n",
    "# Creating plot`\n",
    "bp = ax.boxplot(data, patch_artist = True,\n",
    "                notch ='True')\n",
    "\n",
    "# x-axis labels\n",
    "ax.set_xticklabels(labels)\n",
    "\n",
    "plt.ylabel(\"Milliseconds\")\n",
    "plt.xlabel(\"Credential Size (Bytes)\")\n",
    "\n",
    "plt.savefig(\"results/issuance/attribute_size/box_plot_revocable.png\")"
   ]
  },
  {
   "cell_type": "markdown",
   "id": "12890c4e",
   "metadata": {},
   "source": [
    "## Averages"
   ]
  },
  {
   "cell_type": "code",
   "execution_count": 38,
   "id": "1825d366",
   "metadata": {},
   "outputs": [
    {
     "data": {
      "image/png": "[encoded data removed]",
      "text/plain": [
       "<Figure size 720x720 with 1 Axes>"
      ]
     },
     "metadata": {
      "needs_background": "light"
     },
     "output_type": "display_data"
    }
   ],
   "source": [
    "fig = plt.figure(figsize =(10, 10))\n",
    " \n",
    "# Creating axes instance\n",
    "ax = fig.add_axes([0.1,0.1,0.75,0.75]) \n",
    "\n",
    "# avg_ploy = plt.plot(labels, revocable_averages, non_revoked_averages)\n",
    "\n",
    "plot_points = [128, 512, 1024, 16*1024, 64*1024, 128 * 1024, 256 * 1024]\n",
    "\n",
    "plt.plot(plot_points, revocable_averages,'r-',label='Revocable Credential Issuance Averages')\n",
    "plt.plot(plot_points, non_revocable_averages,label='Non Revocable Credential Issuance Averages')\n",
    "\n",
    "plt.ylabel(\"Milliseconds\")\n",
    "plt.xlabel(\"Credential Size (Bytes)\")\n",
    "\n",
    "\n",
    "plt.legend()\n",
    "plt.savefig(\"results/issuance/attribute_size/averages.png\")"
   ]
  },
  {
   "cell_type": "markdown",
   "id": "fc6cd747",
   "metadata": {},
   "source": [
    "## Terminate Controller\n",
    "\n",
    "Whenever you have finished with this notebook, be sure to terminate the controller. This is especially important if your business logic runs across multiple notebooks."
   ]
  },
  {
   "cell_type": "code",
   "execution_count": 39,
   "id": "afb0d349",
   "metadata": {},
   "outputs": [],
   "source": [
    "await agent_controller.terminate()"
   ]
  },
  {
   "cell_type": "code",
   "execution_count": 40,
   "id": "a971a660",
   "metadata": {},
   "outputs": [],
   "source": [
    "performance_service.save_experiments()"
   ]
  },
  {
   "cell_type": "code",
   "execution_count": null,
   "id": "4592280c",
   "metadata": {},
   "outputs": [],
   "source": []
  }
 ],
 "metadata": {
  "kernelspec": {
   "display_name": "Python 3",
   "language": "python",
   "name": "python3"
  },
  "language_info": {
   "codemirror_mode": {
    "name": "ipython",
    "version": 3
   },
   "file_extension": ".py",
   "mimetype": "text/x-python",
   "name": "python",
   "nbconvert_exporter": "python",
   "pygments_lexer": "ipython3",
   "version": "3.7.6"
  }
 },
 "nbformat": 4,
 "nbformat_minor": 5
}
