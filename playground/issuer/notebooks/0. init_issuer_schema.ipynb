{
 "cells": [
  {
   "cell_type": "markdown",
   "id": "5608625e",
   "metadata": {},
   "source": [
    "# Initialising Your Agent as an Issuing Authority\n",
    "\n",
    "See \"./recipes/issue_credential/issuer_initialisation.ipynb\" for template\n",
    "\n",
    "The steps include:\n",
    "\n",
    "* Writing your DID to the Sovrin StagingNet\n",
    "* Accepting the Transaction Author Agreement\n",
    "* Authoring schema to the ledger\n",
    "* Authoring credential definitions for the schema this agent intends to issue\n",
    "* Persisting Identifiers for use throughout the playground.\n",
    "\n",
    "It is recommended that this initialisation notebook be run **once**. If you are following the default docker-compose services then your agents wallet storage will be persisted in a postgres database as long as you run `./manage stop` rather than `./manage down`. \n",
    "\n"
   ]
  },
  {
   "cell_type": "markdown",
   "id": "5bbd383f",
   "metadata": {},
   "source": [
    "### Imports"
   ]
  },
  {
   "cell_type": "code",
   "execution_count": 1,
   "id": "ab4e9d9f",
   "metadata": {},
   "outputs": [],
   "source": [
    "from aries_cloudcontroller import AriesAgentController\n",
    "import os\n",
    "from termcolor import colored"
   ]
  },
  {
   "cell_type": "markdown",
   "id": "d05994e7",
   "metadata": {},
   "source": [
    "### Initialise the Agent Controller"
   ]
  },
  {
   "cell_type": "code",
   "execution_count": 2,
   "id": "319eb201",
   "metadata": {},
   "outputs": [
    {
     "name": "stdout",
     "output_type": "stream",
     "text": [
      "Initialising a controller with admin api at http://issuer-agent:3021 and an api key of adminApiKey\n"
     ]
    }
   ],
   "source": [
    "api_key = os.getenv(\"ACAPY_ADMIN_API_KEY\")\n",
    "admin_url = os.getenv(\"ADMIN_URL\")\n",
    "\n",
    "print(f\"Initialising a controller with admin api at {admin_url} and an api key of {api_key}\")\n",
    "agent_controller = AriesAgentController(admin_url,api_key)"
   ]
  },
  {
   "cell_type": "markdown",
   "id": "378f3e94",
   "metadata": {},
   "source": [
    "## Write DID to the Public Ledger\n",
    "\n",
    "Note: if defined a ACAPY_WALLET_SEED value for your agent then this function will return a DID, but this DID still needs to be written to the ledger. If you did not define a seed you will need to create a DID first."
   ]
  },
  {
   "cell_type": "code",
   "execution_count": 3,
   "id": "7dfecafb",
   "metadata": {},
   "outputs": [],
   "source": [
    "public_did_response = await agent_controller.wallet.get_public_did()"
   ]
  },
  {
   "cell_type": "code",
   "execution_count": 4,
   "id": "fc3d1942",
   "metadata": {},
   "outputs": [
    {
     "name": "stdout",
     "output_type": "stream",
     "text": [
      "DID {'did': 'H7zAaLJRZrdbPqbVMMfL5t', 'verkey': '9nbjpGCGWPQ3uV3Qr9r4w5fW1RW7gDiSv5Ni8bBYirAf', 'posture': 'public'}\n"
     ]
    }
   ],
   "source": [
    "if public_did_response[\"result\"]:\n",
    "    did_obj = public_did_response[\"result\"]\n",
    "else:\n",
    "    create_did_response = await agent_controller.wallet.create_did()\n",
    "    did_obj = create_did_response['result']\n",
    "print(\"DID\", did_obj)"
   ]
  },
  {
   "cell_type": "markdown",
   "id": "a9cea08b",
   "metadata": {},
   "source": [
    "## Assign Agent Public DID if Not Set\n",
    "\n",
    "Will only be ran if ACAPY_WALLET_SEED not initially set."
   ]
  },
  {
   "cell_type": "code",
   "execution_count": 5,
   "id": "595eed43",
   "metadata": {},
   "outputs": [
    {
     "name": "stdout",
     "output_type": "stream",
     "text": [
      "Successfully intialised agent with Public DID :  H7zAaLJRZrdbPqbVMMfL5t\n"
     ]
    }
   ],
   "source": [
    "if did_obj[\"posture\"] != \"public\":\n",
    "    response = await agent_controller.wallet.assign_public_did(did_obj[\"did\"])\n",
    "print(\"Successfully intialised agent with Public DID : \", did_obj[\"did\"])"
   ]
  },
  {
   "cell_type": "markdown",
   "id": "8323a5c4",
   "metadata": {},
   "source": [
    "## Writing Schema\n"
   ]
  },
  {
   "cell_type": "markdown",
   "id": "4f4f94b6",
   "metadata": {},
   "source": [
    "## Attribute Size Schema"
   ]
  },
  {
   "cell_type": "code",
   "execution_count": 6,
   "id": "4ac9cb2a",
   "metadata": {},
   "outputs": [],
   "source": [
    "# Define you schema name - must be unique on the ledger\n",
    "schema_name = \"size1\"\n",
    "# Can version the schema if you wish to update it\n",
    "schema_version = \"0.0.1\"\n",
    "# Define any list of attributes you wish to include in your schema\n",
    "attributes = [\"image\"]\n",
    "\n",
    "response = await agent_controller.schema.write_schema(schema_name, attributes, schema_version)\n",
    "size1_schema_id = response[\"schema_id\"]"
   ]
  },
  {
   "cell_type": "code",
   "execution_count": 7,
   "id": "686559f0",
   "metadata": {},
   "outputs": [],
   "source": [
    "# Define you schema name - must be unique on the ledger\n",
    "schema_name = \"size2\"\n",
    "# Can version the schema if you wish to update it\n",
    "schema_version = \"0.0.1\"\n",
    "# Define any list of attributes you wish to include in your schema\n",
    "attributes = [\"image\"]\n",
    "\n",
    "response = await agent_controller.schema.write_schema(schema_name, attributes, schema_version)\n",
    "size2_schema_id = response[\"schema_id\"]"
   ]
  },
  {
   "cell_type": "code",
   "execution_count": 8,
   "id": "5c48f834",
   "metadata": {},
   "outputs": [],
   "source": [
    "# Define you schema name - must be unique on the ledger\n",
    "schema_name = \"size3\"\n",
    "# Can version the schema if you wish to update it\n",
    "schema_version = \"0.0.1\"\n",
    "# Define any list of attributes you wish to include in your schema\n",
    "attributes = [\"image\"]\n",
    "\n",
    "response = await agent_controller.schema.write_schema(schema_name, attributes, schema_version)\n",
    "size3_schema_id = response[\"schema_id\"]"
   ]
  },
  {
   "cell_type": "code",
   "execution_count": 9,
   "id": "1bca250b",
   "metadata": {},
   "outputs": [],
   "source": [
    "# Define you schema name - must be unique on the ledger\n",
    "schema_name = \"size4\"\n",
    "# Can version the schema if you wish to update it\n",
    "schema_version = \"0.0.1\"\n",
    "# Define any list of attributes you wish to include in your schema\n",
    "attributes = [\"image\"]\n",
    "\n",
    "response = await agent_controller.schema.write_schema(schema_name, attributes, schema_version)\n",
    "size4_schema_id = response[\"schema_id\"]"
   ]
  },
  {
   "cell_type": "code",
   "execution_count": 10,
   "id": "b09ce66c",
   "metadata": {},
   "outputs": [],
   "source": [
    "# Define you schema name - must be unique on the ledger\n",
    "schema_name = \"size5\"\n",
    "# Can version the schema if you wish to update it\n",
    "schema_version = \"0.0.1\"\n",
    "# Define any list of attributes you wish to include in your schema\n",
    "attributes = [\"image\"]\n",
    "\n",
    "response = await agent_controller.schema.write_schema(schema_name, attributes, schema_version)\n",
    "size5_schema_id = response[\"schema_id\"]"
   ]
  },
  {
   "cell_type": "code",
   "execution_count": 11,
   "id": "d4391761",
   "metadata": {},
   "outputs": [],
   "source": [
    "# Define you schema name - must be unique on the ledger\n",
    "schema_name = \"size6\"\n",
    "# Can version the schema if you wish to update it\n",
    "schema_version = \"0.0.1\"\n",
    "# Define any list of attributes you wish to include in your schema\n",
    "attributes = [\"image\"]\n",
    "\n",
    "response = await agent_controller.schema.write_schema(schema_name, attributes, schema_version)\n",
    "size6_schema_id = response[\"schema_id\"]"
   ]
  },
  {
   "cell_type": "code",
   "execution_count": 12,
   "id": "614da241",
   "metadata": {},
   "outputs": [],
   "source": [
    "# Define you schema name - must be unique on the ledger\n",
    "schema_name = \"size7\"\n",
    "# Can version the schema if you wish to update it\n",
    "schema_version = \"0.0.1\"\n",
    "# Define any list of attributes you wish to include in your schema\n",
    "attributes = [\"image\"]\n",
    "\n",
    "response = await agent_controller.schema.write_schema(schema_name, attributes, schema_version)\n",
    "size7_schema_id = response[\"schema_id\"]"
   ]
  },
  {
   "cell_type": "markdown",
   "id": "30d73b91",
   "metadata": {},
   "source": [
    "## Attribute Number Schema"
   ]
  },
  {
   "cell_type": "code",
   "execution_count": 13,
   "id": "a10680eb",
   "metadata": {},
   "outputs": [],
   "source": [
    "# Define you schema name - must be unique on the ledger\n",
    "schema_name = \"one-attrib\"\n",
    "# Can version the schema if you wish to update it\n",
    "schema_version = \"0.0.2\"\n",
    "# Define any list of attributes you wish to include in your schema\n",
    "attributes = [\"1\"]\n",
    "\n",
    "response = await agent_controller.schema.write_schema(schema_name, attributes, schema_version)\n",
    "one_schema_id = response[\"schema_id\"]"
   ]
  },
  {
   "cell_type": "code",
   "execution_count": 14,
   "id": "eb0f2f28",
   "metadata": {},
   "outputs": [],
   "source": [
    "# Define you schema name - must be unique on the ledger\n",
    "schema_name = \"five-attrib\"\n",
    "# Can version the schema if you wish to update it\n",
    "schema_version = \"0.0.1\"\n",
    "# Define any list of attributes you wish to include in your schema\n",
    "attributes = [\"1\", \"2\", \"3\", \"4\", \"5\"]\n",
    "\n",
    "response = await agent_controller.schema.write_schema(schema_name, attributes, schema_version)\n",
    "five_schema_id = response[\"schema_id\"]"
   ]
  },
  {
   "cell_type": "code",
   "execution_count": 15,
   "id": "2148a0a2",
   "metadata": {},
   "outputs": [
    {
     "name": "stdout",
     "output_type": "stream",
     "text": [
      "['1', '2', '3', '4', '5', '6', '7', '8', '9', '10']\n"
     ]
    }
   ],
   "source": [
    "# Define you schema name - must be unique on the ledger\n",
    "schema_name = \"ten-attrib\"\n",
    "# Can version the schema if you wish to update it\n",
    "schema_version = \"0.0.1\"\n",
    "# Define any list of attributes you wish to include in your schema\n",
    "attributes = []\n",
    "\n",
    "for x in range(1,11):\n",
    "    attributes.append(str(x))\n",
    "\n",
    "print(attributes)\n",
    "\n",
    "response = await agent_controller.schema.write_schema(schema_name, attributes, schema_version)\n",
    "ten_schema_id = response[\"schema_id\"]"
   ]
  },
  {
   "cell_type": "code",
   "execution_count": 16,
   "id": "93ca3dc8",
   "metadata": {},
   "outputs": [
    {
     "name": "stdout",
     "output_type": "stream",
     "text": [
      "['1', '2', '3', '4', '5', '6', '7', '8', '9', '10', '11', '12', '13', '14', '15', '16', '17', '18', '19', '20']\n"
     ]
    }
   ],
   "source": [
    "# Define you schema name - must be unique on the ledger\n",
    "schema_name = \"twenty-attrib\"\n",
    "# Can version the schema if you wish to update it\n",
    "schema_version = \"0.0.1\"\n",
    "# Define any list of attributes you wish to include in your schema\n",
    "attributes = []\n",
    "\n",
    "for x in range(1,21):\n",
    "    attributes.append(str(x))\n",
    "\n",
    "print(attributes)\n",
    "\n",
    "\n",
    "response = await agent_controller.schema.write_schema(schema_name, attributes, schema_version)\n",
    "twenty_schema_id = response[\"schema_id\"]"
   ]
  },
  {
   "cell_type": "code",
   "execution_count": 17,
   "id": "cccb39bd",
   "metadata": {},
   "outputs": [
    {
     "name": "stdout",
     "output_type": "stream",
     "text": [
      "['1', '2', '3', '4', '5', '6', '7', '8', '9', '10', '11', '12', '13', '14', '15', '16', '17', '18', '19', '20', '21', '22', '23', '24', '25', '26', '27', '28', '29', '30', '31', '32', '33', '34', '35', '36', '37', '38', '39', '40', '41', '42', '43', '44', '45', '46', '47', '48', '49', '50']\n"
     ]
    }
   ],
   "source": [
    "# Define you schema name - must be unique on the ledger\n",
    "schema_name = \"fifty-attrib\"\n",
    "# Can version the schema if you wish to update it\n",
    "schema_version = \"0.0.1\"\n",
    "# Define any list of attributes you wish to include in your schema\n",
    "attributes = []\n",
    "\n",
    "for x in range(1,51):\n",
    "    attributes.append(str(x))\n",
    "\n",
    "print(attributes)\n",
    "\n",
    "\n",
    "response = await agent_controller.schema.write_schema(schema_name, attributes, schema_version)\n",
    "fifty_schema_id = response[\"schema_id\"]"
   ]
  },
  {
   "cell_type": "code",
   "execution_count": 18,
   "id": "6f7d2fe9",
   "metadata": {},
   "outputs": [
    {
     "name": "stdout",
     "output_type": "stream",
     "text": [
      "['1', '2', '3', '4', '5', '6', '7', '8', '9', '10', '11', '12', '13', '14', '15', '16', '17', '18', '19', '20', '21', '22', '23', '24', '25', '26', '27', '28', '29', '30', '31', '32', '33', '34', '35', '36', '37', '38', '39', '40', '41', '42', '43', '44', '45', '46', '47', '48', '49', '50', '51', '52', '53', '54', '55', '56', '57', '58', '59', '60', '61', '62', '63', '64', '65', '66', '67', '68', '69', '70', '71', '72', '73', '74', '75', '76', '77', '78', '79', '80', '81', '82', '83', '84', '85', '86', '87', '88', '89', '90', '91', '92', '93', '94', '95', '96', '97', '98', '99', '100']\n"
     ]
    }
   ],
   "source": [
    "# Define you schema name - must be unique on the ledger\n",
    "schema_name = \"hundred-attrib\"\n",
    "# Can version the schema if you wish to update it\n",
    "schema_version = \"0.0.1\"\n",
    "# Define any list of attributes you wish to include in your schema\n",
    "attributes = []\n",
    "\n",
    "for x in range(1,101):\n",
    "    attributes.append(str(x))\n",
    "\n",
    "print(attributes)\n",
    "\n",
    "\n",
    "response = await agent_controller.schema.write_schema(schema_name, attributes, schema_version)\n",
    "hundred_schema_id = response[\"schema_id\"]"
   ]
  },
  {
   "cell_type": "markdown",
   "id": "be84e98c",
   "metadata": {},
   "source": [
    "## Credential Number Schema"
   ]
  },
  {
   "cell_type": "code",
   "execution_count": 19,
   "id": "57aa900e",
   "metadata": {},
   "outputs": [],
   "source": [
    "# Define you schema name - must be unique on the ledger\n",
    "schema_name = \"five-one\"\n",
    "# Can version the schema if you wish to update it\n",
    "schema_version = \"0.0.1\"\n",
    "# Define any list of attributes you wish to include in your schema\n",
    "attributes = [\"1\", \"2\", \"3\", \"4\", \"5\"]\n",
    "\n",
    "response = await agent_controller.schema.write_schema(schema_name, attributes, schema_version)\n",
    "five1_schema_id = response[\"schema_id\"]"
   ]
  },
  {
   "cell_type": "code",
   "execution_count": 20,
   "id": "62b6ebb9",
   "metadata": {},
   "outputs": [],
   "source": [
    "# Define you schema name - must be unique on the ledger\n",
    "schema_name = \"five-two\"\n",
    "# Can version the schema if you wish to update it\n",
    "schema_version = \"0.0.1\"\n",
    "# Define any list of attributes you wish to include in your schema\n",
    "attributes = [\"1\", \"2\", \"3\", \"4\", \"5\"]\n",
    "\n",
    "response = await agent_controller.schema.write_schema(schema_name, attributes, schema_version)\n",
    "five2_schema_id = response[\"schema_id\"]"
   ]
  },
  {
   "cell_type": "code",
   "execution_count": 21,
   "id": "c42e8ee4",
   "metadata": {},
   "outputs": [],
   "source": [
    "# Define you schema name - must be unique on the ledger\n",
    "schema_name = \"five-three\"\n",
    "# Can version the schema if you wish to update it\n",
    "schema_version = \"0.0.1\"\n",
    "# Define any list of attributes you wish to include in your schema\n",
    "attributes = [\"1\", \"2\", \"3\", \"4\", \"5\"]\n",
    "\n",
    "response = await agent_controller.schema.write_schema(schema_name, attributes, schema_version)\n",
    "five3_schema_id = response[\"schema_id\"]"
   ]
  },
  {
   "cell_type": "code",
   "execution_count": 22,
   "id": "2bce74df",
   "metadata": {},
   "outputs": [],
   "source": [
    "# Define you schema name - must be unique on the ledger\n",
    "schema_name = \"five-four\"\n",
    "# Can version the schema if you wish to update it\n",
    "schema_version = \"0.0.1\"\n",
    "# Define any list of attributes you wish to include in your schema\n",
    "attributes = [\"1\", \"2\", \"3\", \"4\", \"5\"]\n",
    "\n",
    "response = await agent_controller.schema.write_schema(schema_name, attributes, schema_version)\n",
    "five4_schema_id = response[\"schema_id\"]"
   ]
  },
  {
   "cell_type": "code",
   "execution_count": 23,
   "id": "382333cd",
   "metadata": {},
   "outputs": [],
   "source": [
    "# Define you schema name - must be unique on the ledger\n",
    "schema_name = \"five-five\"\n",
    "# Can version the schema if you wish to update it\n",
    "schema_version = \"0.0.1\"\n",
    "# Define any list of attributes you wish to include in your schema\n",
    "attributes = [\"1\", \"2\", \"3\", \"4\", \"5\"]\n",
    "\n",
    "response = await agent_controller.schema.write_schema(schema_name, attributes, schema_version)\n",
    "five5_schema_id = response[\"schema_id\"]"
   ]
  },
  {
   "cell_type": "markdown",
   "id": "004d3f45",
   "metadata": {},
   "source": [
    "## Writing Credential Definitions\n",
    "\n",
    "For all schema you intend to issue credentials against your agent must author a credential definition transaction to the public ledger. This specifies the public cryptographic material your agent will use to sign all credentials issued against a specific schema. \n",
    "\n",
    "Again uncomment and copy this cell as often as you need. Remebering to update the arguments in <> to specify your schema identifiers. Store each credential definition identifier in a unique variable."
   ]
  },
  {
   "cell_type": "markdown",
   "id": "eaf0e872",
   "metadata": {},
   "source": [
    "## Credential Size definitions"
   ]
  },
  {
   "cell_type": "code",
   "execution_count": 24,
   "id": "32a44d61",
   "metadata": {},
   "outputs": [],
   "source": [
    "# Tag and group specific credential definitions\n",
    "tag = \"default\"\n",
    "\n",
    "# Make Cred Def support revocation. Credentials issued using this definition will be able to be revoked.\n",
    "support_revocation = False\n",
    "\n",
    "cred_def_response = await agent_controller.definitions.write_cred_def(size1_schema_id, tag, support_revocation)\n",
    "size1_cred_def_id = cred_def_response[\"credential_definition_id\"]"
   ]
  },
  {
   "cell_type": "code",
   "execution_count": 25,
   "id": "07e95e44",
   "metadata": {},
   "outputs": [],
   "source": [
    "# Tag and group specific credential definitions\n",
    "tag = \"revocable\"\n",
    "\n",
    "# Make Cred Def support revocation. Credentials issued using this definition will be able to be revoked.\n",
    "support_revocation = True\n",
    "\n",
    "cred_def_response = await agent_controller.definitions.write_cred_def(size1_schema_id, tag, support_revocation)\n",
    "size1_rev_cred_def_id = cred_def_response[\"credential_definition_id\"]"
   ]
  },
  {
   "cell_type": "code",
   "execution_count": 26,
   "id": "50588230",
   "metadata": {},
   "outputs": [],
   "source": [
    "# Tag and group specific credential definitions\n",
    "tag = \"default\"\n",
    "\n",
    "# Make Cred Def support revocation. Credentials issued using this definition will be able to be revoked.\n",
    "support_revocation = False\n",
    "\n",
    "cred_def_response = await agent_controller.definitions.write_cred_def(size2_schema_id, tag, support_revocation)\n",
    "size2_cred_def_id = cred_def_response[\"credential_definition_id\"]"
   ]
  },
  {
   "cell_type": "code",
   "execution_count": 27,
   "id": "3efdfcda",
   "metadata": {},
   "outputs": [],
   "source": [
    "# Tag and group specific credential definitions\n",
    "tag = \"revocable\"\n",
    "\n",
    "# Make Cred Def support revocation. Credentials issued using this definition will be able to be revoked.\n",
    "support_revocation = True\n",
    "\n",
    "cred_def_response = await agent_controller.definitions.write_cred_def(size2_schema_id, tag, support_revocation)\n",
    "size2_rev_cred_def_id = cred_def_response[\"credential_definition_id\"]"
   ]
  },
  {
   "cell_type": "code",
   "execution_count": 28,
   "id": "f5bba9f1",
   "metadata": {},
   "outputs": [],
   "source": [
    "# Tag and group specific credential definitions\n",
    "tag = \"default\"\n",
    "\n",
    "# Make Cred Def support revocation. Credentials issued using this definition will be able to be revoked.\n",
    "support_revocation = False\n",
    "\n",
    "cred_def_response = await agent_controller.definitions.write_cred_def(size3_schema_id, tag, support_revocation)\n",
    "size3_cred_def_id = cred_def_response[\"credential_definition_id\"]"
   ]
  },
  {
   "cell_type": "code",
   "execution_count": 29,
   "id": "1478e994",
   "metadata": {},
   "outputs": [],
   "source": [
    "# Tag and group specific credential definitions\n",
    "tag = \"revocable\"\n",
    "\n",
    "# Make Cred Def support revocation. Credentials issued using this definition will be able to be revoked.\n",
    "support_revocation = True\n",
    "\n",
    "cred_def_response = await agent_controller.definitions.write_cred_def(size3_schema_id, tag, support_revocation)\n",
    "size3_rev_cred_def_id = cred_def_response[\"credential_definition_id\"]"
   ]
  },
  {
   "cell_type": "code",
   "execution_count": 30,
   "id": "1a9d27f3",
   "metadata": {},
   "outputs": [],
   "source": [
    "# Tag and group specific credential definitions\n",
    "tag = \"default\"\n",
    "\n",
    "# Make Cred Def support revocation. Credentials issued using this definition will be able to be revoked.\n",
    "support_revocation = False\n",
    "\n",
    "cred_def_response = await agent_controller.definitions.write_cred_def(size4_schema_id, tag, support_revocation)\n",
    "size4_cred_def_id = cred_def_response[\"credential_definition_id\"]"
   ]
  },
  {
   "cell_type": "code",
   "execution_count": 31,
   "id": "0fa0c60f",
   "metadata": {},
   "outputs": [],
   "source": [
    "# Tag and group specific credential definitions\n",
    "tag = \"revocable\"\n",
    "\n",
    "# Make Cred Def support revocation. Credentials issued using this definition will be able to be revoked.\n",
    "support_revocation = True\n",
    "\n",
    "cred_def_response = await agent_controller.definitions.write_cred_def(size4_schema_id, tag, support_revocation)\n",
    "size4_rev_cred_def_id = cred_def_response[\"credential_definition_id\"]"
   ]
  },
  {
   "cell_type": "code",
   "execution_count": 32,
   "id": "b314c983",
   "metadata": {},
   "outputs": [],
   "source": [
    "# Tag and group specific credential definitions\n",
    "tag = \"default\"\n",
    "\n",
    "# Make Cred Def support revocation. Credentials issued using this definition will be able to be revoked.\n",
    "support_revocation = False\n",
    "\n",
    "cred_def_response = await agent_controller.definitions.write_cred_def(size5_schema_id, tag, support_revocation)\n",
    "size5_cred_def_id = cred_def_response[\"credential_definition_id\"]"
   ]
  },
  {
   "cell_type": "code",
   "execution_count": 33,
   "id": "b5c77e6c",
   "metadata": {},
   "outputs": [],
   "source": [
    "# Tag and group specific credential definitions\n",
    "tag = \"revocable\"\n",
    "\n",
    "# Make Cred Def support revocation. Credentials issued using this definition will be able to be revoked.\n",
    "support_revocation = True\n",
    "\n",
    "cred_def_response = await agent_controller.definitions.write_cred_def(size5_schema_id, tag, support_revocation)\n",
    "size5_rev_cred_def_id = cred_def_response[\"credential_definition_id\"]"
   ]
  },
  {
   "cell_type": "code",
   "execution_count": 34,
   "id": "0eb9e78e",
   "metadata": {},
   "outputs": [],
   "source": [
    "# Tag and group specific credential definitions\n",
    "tag = \"default\"\n",
    "\n",
    "# Make Cred Def support revocation. Credentials issued using this definition will be able to be revoked.\n",
    "support_revocation = False\n",
    "\n",
    "cred_def_response = await agent_controller.definitions.write_cred_def(size6_schema_id, tag, support_revocation)\n",
    "size6_cred_def_id = cred_def_response[\"credential_definition_id\"]"
   ]
  },
  {
   "cell_type": "code",
   "execution_count": 35,
   "id": "5b578e9a",
   "metadata": {},
   "outputs": [],
   "source": [
    "# Tag and group specific credential definitions\n",
    "tag = \"revocable\"\n",
    "\n",
    "# Make Cred Def support revocation. Credentials issued using this definition will be able to be revoked.\n",
    "support_revocation = True\n",
    "\n",
    "cred_def_response = await agent_controller.definitions.write_cred_def(size6_schema_id, tag, support_revocation)\n",
    "size6_rev_cred_def_id = cred_def_response[\"credential_definition_id\"]"
   ]
  },
  {
   "cell_type": "code",
   "execution_count": 36,
   "id": "b44059d6",
   "metadata": {},
   "outputs": [],
   "source": [
    "# Tag and group specific credential definitions\n",
    "tag = \"default\"\n",
    "\n",
    "# Make Cred Def support revocation. Credentials issued using this definition will be able to be revoked.\n",
    "support_revocation = False\n",
    "\n",
    "cred_def_response = await agent_controller.definitions.write_cred_def(size7_schema_id, tag, support_revocation)\n",
    "size7_cred_def_id = cred_def_response[\"credential_definition_id\"]"
   ]
  },
  {
   "cell_type": "code",
   "execution_count": 37,
   "id": "765d3a16",
   "metadata": {},
   "outputs": [],
   "source": [
    "# Tag and group specific credential definitions\n",
    "tag = \"revocable\"\n",
    "\n",
    "# Make Cred Def support revocation. Credentials issued using this definition will be able to be revoked.\n",
    "support_revocation = True\n",
    "\n",
    "cred_def_response = await agent_controller.definitions.write_cred_def(size7_schema_id, tag, support_revocation)\n",
    "size7_rev_cred_def_id = cred_def_response[\"credential_definition_id\"]"
   ]
  },
  {
   "cell_type": "markdown",
   "id": "34ae2932",
   "metadata": {},
   "source": [
    "## Attribute Number Schema"
   ]
  },
  {
   "cell_type": "code",
   "execution_count": 38,
   "id": "e577881f",
   "metadata": {},
   "outputs": [],
   "source": [
    "# Tag and group specific credential definitions\n",
    "tag = \"default\"\n",
    "\n",
    "# Make Cred Def support revocation. Credentials issued using this definition will be able to be revoked.\n",
    "support_revocation = False\n",
    "\n",
    "cred_def_response = await agent_controller.definitions.write_cred_def(one_schema_id, tag, support_revocation)\n",
    "one_cred_def_id = cred_def_response[\"credential_definition_id\"]"
   ]
  },
  {
   "cell_type": "code",
   "execution_count": 39,
   "id": "12dd36ae",
   "metadata": {},
   "outputs": [],
   "source": [
    "# Tag and group specific credential definitions\n",
    "tag = \"revocable\"\n",
    "\n",
    "# Make Cred Def support revocation. Credentials issued using this definition will be able to be revoked.\n",
    "support_revocation = True\n",
    "\n",
    "cred_def_response = await agent_controller.definitions.write_cred_def(one_schema_id, tag, support_revocation)\n",
    "one_rev_cred_def_id = cred_def_response[\"credential_definition_id\"]"
   ]
  },
  {
   "cell_type": "code",
   "execution_count": 40,
   "id": "81f57d6c",
   "metadata": {},
   "outputs": [],
   "source": [
    "# Tag and group specific credential definitions\n",
    "tag = \"default\"\n",
    "\n",
    "# Make Cred Def support revocation. Credentials issued using this definition will be able to be revoked.\n",
    "support_revocation = False\n",
    "\n",
    "cred_def_response = await agent_controller.definitions.write_cred_def(five_schema_id, tag, support_revocation)\n",
    "five_cred_def_id = cred_def_response[\"credential_definition_id\"]"
   ]
  },
  {
   "cell_type": "code",
   "execution_count": 41,
   "id": "55c55f13",
   "metadata": {},
   "outputs": [],
   "source": [
    "# Tag and group specific credential definitions\n",
    "tag = \"revocable\"\n",
    "\n",
    "# Make Cred Def support revocation. Credentials issued using this definition will be able to be revoked.\n",
    "support_revocation = True\n",
    "\n",
    "cred_def_response = await agent_controller.definitions.write_cred_def(five_schema_id, tag, support_revocation)\n",
    "five_rev_cred_def_id = cred_def_response[\"credential_definition_id\"]"
   ]
  },
  {
   "cell_type": "code",
   "execution_count": 42,
   "id": "e4d778ef",
   "metadata": {},
   "outputs": [],
   "source": [
    "# Tag and group specific credential definitions\n",
    "tag = \"default\"\n",
    "\n",
    "# Make Cred Def support revocation. Credentials issued using this definition will be able to be revoked.\n",
    "support_revocation = False\n",
    "\n",
    "cred_def_response = await agent_controller.definitions.write_cred_def(ten_schema_id, tag, support_revocation)\n",
    "ten_cred_def_id = cred_def_response[\"credential_definition_id\"]"
   ]
  },
  {
   "cell_type": "code",
   "execution_count": 43,
   "id": "cd1210ce",
   "metadata": {
    "tags": []
   },
   "outputs": [],
   "source": [
    "# Tag and group specific credential definitions\n",
    "tag = \"revocable\"\n",
    "\n",
    "# Make Cred Def support revocation. Credentials issued using this definition will be able to be revoked.\n",
    "support_revocation = True\n",
    "\n",
    "cred_def_response = await agent_controller.definitions.write_cred_def(ten_schema_id, tag, support_revocation)\n",
    "ten_rev_cred_def_id = cred_def_response[\"credential_definition_id\"]"
   ]
  },
  {
   "cell_type": "code",
   "execution_count": 44,
   "id": "147843e5",
   "metadata": {},
   "outputs": [],
   "source": [
    "# Tag and group specific credential definitions\n",
    "tag = \"default\"\n",
    "\n",
    "# Make Cred Def support revocation. Credentials issued using this definition will be able to be revoked.\n",
    "support_revocation = False\n",
    "\n",
    "cred_def_response = await agent_controller.definitions.write_cred_def(twenty_schema_id, tag, support_revocation)\n",
    "twenty_cred_def_id = cred_def_response[\"credential_definition_id\"]"
   ]
  },
  {
   "cell_type": "code",
   "execution_count": 45,
   "id": "7907ec83",
   "metadata": {
    "tags": []
   },
   "outputs": [],
   "source": [
    "# Tag and group specific credential definitions\n",
    "tag = \"revocable\"\n",
    "\n",
    "# Make Cred Def support revocation. Credentials issued using this definition will be able to be revoked.\n",
    "support_revocation = True\n",
    "\n",
    "cred_def_response = await agent_controller.definitions.write_cred_def(twenty_schema_id, tag, support_revocation)\n",
    "twenty_rev_cred_def_id = cred_def_response[\"credential_definition_id\"]"
   ]
  },
  {
   "cell_type": "code",
   "execution_count": 46,
   "id": "d8e7bd50",
   "metadata": {},
   "outputs": [],
   "source": [
    "# Tag and group specific credential definitions\n",
    "tag = \"default\"\n",
    "\n",
    "# Make Cred Def support revocation. Credentials issued using this definition will be able to be revoked.\n",
    "support_revocation = False\n",
    "\n",
    "cred_def_response = await agent_controller.definitions.write_cred_def(fifty_schema_id, tag, support_revocation)\n",
    "fifty_cred_def_id = cred_def_response[\"credential_definition_id\"]"
   ]
  },
  {
   "cell_type": "code",
   "execution_count": 47,
   "id": "a369a2d8",
   "metadata": {
    "tags": []
   },
   "outputs": [],
   "source": [
    "# Tag and group specific credential definitions\n",
    "tag = \"revocable\"\n",
    "\n",
    "# Make Cred Def support revocation. Credentials issued using this definition will be able to be revoked.\n",
    "support_revocation = True\n",
    "\n",
    "cred_def_response = await agent_controller.definitions.write_cred_def(fifty_schema_id, tag, support_revocation)\n",
    "fifty_rev_cred_def_id = cred_def_response[\"credential_definition_id\"]"
   ]
  },
  {
   "cell_type": "code",
   "execution_count": 48,
   "id": "27d91275",
   "metadata": {},
   "outputs": [],
   "source": [
    "# Tag and group specific credential definitions\n",
    "tag = \"default\"\n",
    "\n",
    "# Make Cred Def support revocation. Credentials issued using this definition will be able to be revoked.\n",
    "support_revocation = False\n",
    "\n",
    "cred_def_response = await agent_controller.definitions.write_cred_def(hundred_schema_id, tag, support_revocation)\n",
    "hundred_cred_def_id = cred_def_response[\"credential_definition_id\"]"
   ]
  },
  {
   "cell_type": "code",
   "execution_count": 49,
   "id": "6b8bd31d",
   "metadata": {
    "tags": []
   },
   "outputs": [],
   "source": [
    "# Tag and group specific credential definitions\n",
    "tag = \"revocable\"\n",
    "\n",
    "# Make Cred Def support revocation. Credentials issued using this definition will be able to be revoked.\n",
    "support_revocation = True\n",
    "\n",
    "cred_def_response = await agent_controller.definitions.write_cred_def(hundred_schema_id, tag, support_revocation)\n",
    "hundred_rev_cred_def_id = cred_def_response[\"credential_definition_id\"]"
   ]
  },
  {
   "cell_type": "markdown",
   "id": "bd81fe10",
   "metadata": {},
   "source": [
    "## Credential Number Definitions"
   ]
  },
  {
   "cell_type": "code",
   "execution_count": 50,
   "id": "7cdf4b2e",
   "metadata": {},
   "outputs": [],
   "source": [
    "# Tag and group specific credential definitions\n",
    "tag = \"default\"\n",
    "\n",
    "# Make Cred Def support revocation. Credentials issued using this definition will be able to be revoked.\n",
    "support_revocation = False\n",
    "\n",
    "cred_def_response = await agent_controller.definitions.write_cred_def(five1_schema_id, tag, support_revocation)\n",
    "five1_cred_def_id = cred_def_response[\"credential_definition_id\"]"
   ]
  },
  {
   "cell_type": "code",
   "execution_count": 51,
   "id": "bd59b6d9",
   "metadata": {},
   "outputs": [],
   "source": [
    "# Tag and group specific credential definitions\n",
    "tag = \"revocable\"\n",
    "\n",
    "# Make Cred Def support revocation. Credentials issued using this definition will be able to be revoked.\n",
    "support_revocation = True\n",
    "\n",
    "cred_def_response = await agent_controller.definitions.write_cred_def(five1_schema_id, tag, support_revocation)\n",
    "five1_rev_cred_def_id = cred_def_response[\"credential_definition_id\"]"
   ]
  },
  {
   "cell_type": "code",
   "execution_count": 52,
   "id": "ede7cb33",
   "metadata": {},
   "outputs": [],
   "source": [
    "# Tag and group specific credential definitions\n",
    "tag = \"default\"\n",
    "\n",
    "# Make Cred Def support revocation. Credentials issued using this definition will be able to be revoked.\n",
    "support_revocation = False\n",
    "\n",
    "cred_def_response = await agent_controller.definitions.write_cred_def(five2_schema_id, tag, support_revocation)\n",
    "five2_cred_def_id = cred_def_response[\"credential_definition_id\"]"
   ]
  },
  {
   "cell_type": "code",
   "execution_count": 53,
   "id": "1501180c",
   "metadata": {},
   "outputs": [],
   "source": [
    "# Tag and group specific credential definitions\n",
    "tag = \"revocable\"\n",
    "\n",
    "# Make Cred Def support revocation. Credentials issued using this definition will be able to be revoked.\n",
    "support_revocation = True\n",
    "\n",
    "cred_def_response = await agent_controller.definitions.write_cred_def(five2_schema_id, tag, support_revocation)\n",
    "five2_rev_cred_def_id = cred_def_response[\"credential_definition_id\"]"
   ]
  },
  {
   "cell_type": "code",
   "execution_count": 54,
   "id": "38079639",
   "metadata": {},
   "outputs": [],
   "source": [
    "# Tag and group specific credential definitions\n",
    "tag = \"default\"\n",
    "\n",
    "# Make Cred Def support revocation. Credentials issued using this definition will be able to be revoked.\n",
    "support_revocation = False\n",
    "\n",
    "cred_def_response = await agent_controller.definitions.write_cred_def(five3_schema_id, tag, support_revocation)\n",
    "five3_cred_def_id = cred_def_response[\"credential_definition_id\"]"
   ]
  },
  {
   "cell_type": "code",
   "execution_count": 55,
   "id": "9fe3b1bb",
   "metadata": {},
   "outputs": [],
   "source": [
    "# Tag and group specific credential definitions\n",
    "tag = \"revocable\"\n",
    "\n",
    "# Make Cred Def support revocation. Credentials issued using this definition will be able to be revoked.\n",
    "support_revocation = True\n",
    "\n",
    "cred_def_response = await agent_controller.definitions.write_cred_def(five3_schema_id, tag, support_revocation)\n",
    "five3_rev_cred_def_id = cred_def_response[\"credential_definition_id\"]"
   ]
  },
  {
   "cell_type": "code",
   "execution_count": 56,
   "id": "6e4ff8ce",
   "metadata": {},
   "outputs": [],
   "source": [
    "# Tag and group specific credential definitions\n",
    "tag = \"default\"\n",
    "\n",
    "# Make Cred Def support revocation. Credentials issued using this definition will be able to be revoked.\n",
    "support_revocation = False\n",
    "\n",
    "cred_def_response = await agent_controller.definitions.write_cred_def(five4_schema_id, tag, support_revocation)\n",
    "five4_cred_def_id = cred_def_response[\"credential_definition_id\"]"
   ]
  },
  {
   "cell_type": "code",
   "execution_count": 57,
   "id": "89f23989",
   "metadata": {},
   "outputs": [],
   "source": [
    "# Tag and group specific credential definitions\n",
    "tag = \"revocable\"\n",
    "\n",
    "# Make Cred Def support revocation. Credentials issued using this definition will be able to be revoked.\n",
    "support_revocation = True\n",
    "\n",
    "cred_def_response = await agent_controller.definitions.write_cred_def(five4_schema_id, tag, support_revocation)\n",
    "five4_rev_cred_def_id = cred_def_response[\"credential_definition_id\"]"
   ]
  },
  {
   "cell_type": "code",
   "execution_count": 58,
   "id": "623ff3e4",
   "metadata": {},
   "outputs": [],
   "source": [
    "# Tag and group specific credential definitions\n",
    "tag = \"default\"\n",
    "\n",
    "# Make Cred Def support revocation. Credentials issued using this definition will be able to be revoked.\n",
    "support_revocation = False\n",
    "\n",
    "cred_def_response = await agent_controller.definitions.write_cred_def(five5_schema_id, tag, support_revocation)\n",
    "five5_cred_def_id = cred_def_response[\"credential_definition_id\"]"
   ]
  },
  {
   "cell_type": "code",
   "execution_count": 59,
   "id": "5d76adf1",
   "metadata": {},
   "outputs": [],
   "source": [
    "# Tag and group specific credential definitions\n",
    "tag = \"revocable\"\n",
    "\n",
    "# Make Cred Def support revocation. Credentials issued using this definition will be able to be revoked.\n",
    "support_revocation = True\n",
    "\n",
    "cred_def_response = await agent_controller.definitions.write_cred_def(five5_schema_id, tag, support_revocation)\n",
    "five5_rev_cred_def_id = cred_def_response[\"credential_definition_id\"]"
   ]
  },
  {
   "cell_type": "markdown",
   "id": "cc66fab9",
   "metadata": {},
   "source": [
    "## Persist Identifiers for use throughout other business logic notebooks associated with this agent\n",
    "\n",
    "The schema_id and cred_def_id value pairs are required whenever issuing credentials, and also can be used to constrain acceptable proof requests. In a real application these values might be stored in environment variables or most likely in a database. For notebooks we have found it easier to store as string values in a cell and then load these values into the jupyter store so that they can be fetched across multiple notebooks.\n",
    "\n",
    "As such you are recommended to print out each of the schema and cred def identifiers used by your agent and copy them across to **Alice.ipynb**. Your main business logic notebook where you should store them in a variable and save them to the jupyter store. Remember, you should only be running this notebook once so having this logic in here will not be useful.\n"
   ]
  },
  {
   "cell_type": "code",
   "execution_count": null,
   "id": "188b7dff",
   "metadata": {},
   "outputs": [],
   "source": [
    "\n"
   ]
  },
  {
   "cell_type": "code",
   "execution_count": 60,
   "id": "7cea7afd",
   "metadata": {},
   "outputs": [
    {
     "name": "stdout",
     "output_type": "stream",
     "text": [
      "size1_schema_id='H7zAaLJRZrdbPqbVMMfL5t:2:size1:0.0.1'\n",
      "size1_cred_def_id='H7zAaLJRZrdbPqbVMMfL5t:3:CL:8:default'\n",
      "size1_rev_cred_def_id='H7zAaLJRZrdbPqbVMMfL5t:3:CL:8:revocable'\n",
      "\n",
      "size2_schema_id='H7zAaLJRZrdbPqbVMMfL5t:2:size2:0.0.1'\n",
      "size2_cred_def_id='H7zAaLJRZrdbPqbVMMfL5t:3:CL:9:default'\n",
      "size2_rev_cred_def_id='H7zAaLJRZrdbPqbVMMfL5t:3:CL:9:revocable'\n",
      "\n",
      "size3_schema_id='H7zAaLJRZrdbPqbVMMfL5t:2:size3:0.0.1'\n",
      "size3_cred_def_id='H7zAaLJRZrdbPqbVMMfL5t:3:CL:10:default'\n",
      "size3_rev_cred_def_id='H7zAaLJRZrdbPqbVMMfL5t:3:CL:10:revocable'\n",
      "\n",
      "size4_schema_id='H7zAaLJRZrdbPqbVMMfL5t:2:size4:0.0.1'\n",
      "size4_cred_def_id='H7zAaLJRZrdbPqbVMMfL5t:3:CL:11:default'\n",
      "size4_rev_cred_def_id='H7zAaLJRZrdbPqbVMMfL5t:3:CL:11:revocable'\n",
      "\n",
      "size5_schema_id='H7zAaLJRZrdbPqbVMMfL5t:2:size5:0.0.1'\n",
      "size5_cred_def_id='H7zAaLJRZrdbPqbVMMfL5t:3:CL:12:default'\n",
      "size5_rev_cred_def_id='H7zAaLJRZrdbPqbVMMfL5t:3:CL:12:revocable'\n",
      "\n",
      "size6_schema_id='H7zAaLJRZrdbPqbVMMfL5t:2:size6:0.0.1'\n",
      "size6_cred_def_id='H7zAaLJRZrdbPqbVMMfL5t:3:CL:13:default'\n",
      "size6_rev_cred_def_id='H7zAaLJRZrdbPqbVMMfL5t:3:CL:13:revocable'\n",
      "\n",
      "size7_schema_id='H7zAaLJRZrdbPqbVMMfL5t:2:size7:0.0.1'\n",
      "size7_cred_def_id='H7zAaLJRZrdbPqbVMMfL5t:3:CL:14:default'\n",
      "size7_rev_cred_def_id='H7zAaLJRZrdbPqbVMMfL5t:3:CL:14:revocable'\n",
      "\n"
     ]
    }
   ],
   "source": [
    "print(f\"size1_schema_id='{size1_schema_id}'\")\n",
    "print(f\"size1_cred_def_id='{size1_cred_def_id}'\")\n",
    "print(f\"size1_rev_cred_def_id='{size1_rev_cred_def_id}'\\n\")\n",
    "\n",
    "print(f\"size2_schema_id='{size2_schema_id}'\")\n",
    "print(f\"size2_cred_def_id='{size2_cred_def_id}'\")\n",
    "print(f\"size2_rev_cred_def_id='{size2_rev_cred_def_id}'\\n\")\n",
    "\n",
    "print(f\"size3_schema_id='{size3_schema_id}'\")\n",
    "print(f\"size3_cred_def_id='{size3_cred_def_id}'\")\n",
    "print(f\"size3_rev_cred_def_id='{size3_rev_cred_def_id}'\\n\")\n",
    "\n",
    "print(f\"size4_schema_id='{size4_schema_id}'\")\n",
    "print(f\"size4_cred_def_id='{size4_cred_def_id}'\")\n",
    "print(f\"size4_rev_cred_def_id='{size4_rev_cred_def_id}'\\n\")\n",
    "\n",
    "print(f\"size5_schema_id='{size5_schema_id}'\")\n",
    "print(f\"size5_cred_def_id='{size5_cred_def_id}'\")\n",
    "print(f\"size5_rev_cred_def_id='{size5_rev_cred_def_id}'\\n\")\n",
    "\n",
    "print(f\"size6_schema_id='{size6_schema_id}'\")\n",
    "print(f\"size6_cred_def_id='{size6_cred_def_id}'\")\n",
    "print(f\"size6_rev_cred_def_id='{size6_rev_cred_def_id}'\\n\")\n",
    "\n",
    "print(f\"size7_schema_id='{size7_schema_id}'\")\n",
    "print(f\"size7_cred_def_id='{size7_cred_def_id}'\")\n",
    "print(f\"size7_rev_cred_def_id='{size7_rev_cred_def_id}'\\n\")"
   ]
  },
  {
   "cell_type": "markdown",
   "id": "597bef9e",
   "metadata": {},
   "source": [
    "## Attribute Number Schema"
   ]
  },
  {
   "cell_type": "code",
   "execution_count": 61,
   "id": "86afe614",
   "metadata": {},
   "outputs": [
    {
     "name": "stdout",
     "output_type": "stream",
     "text": [
      "one_schema_id='H7zAaLJRZrdbPqbVMMfL5t:2:one-attrib:0.0.2'\n",
      "one_cred_def_id='H7zAaLJRZrdbPqbVMMfL5t:3:CL:15:default'\n",
      "one_rev_cred_def_id='H7zAaLJRZrdbPqbVMMfL5t:3:CL:15:revocable'\n",
      "\n",
      "five_schema_id='H7zAaLJRZrdbPqbVMMfL5t:2:five-attrib:0.0.1'\n",
      "five_cred_def_id='H7zAaLJRZrdbPqbVMMfL5t:3:CL:16:default'\n",
      "five_rev_cred_def_id='H7zAaLJRZrdbPqbVMMfL5t:3:CL:16:revocable'\n",
      "\n",
      "ten_schema_id='H7zAaLJRZrdbPqbVMMfL5t:2:ten-attrib:0.0.1'\n",
      "ten_cred_def_id='H7zAaLJRZrdbPqbVMMfL5t:3:CL:17:default'\n",
      "ten_rev_cred_def_id='H7zAaLJRZrdbPqbVMMfL5t:3:CL:17:revocable'\n",
      "\n",
      "twenty_schema_id='H7zAaLJRZrdbPqbVMMfL5t:2:twenty-attrib:0.0.1'\n",
      "twenty_cred_def_id='H7zAaLJRZrdbPqbVMMfL5t:3:CL:18:default'\n",
      "twenty_rev_cred_def_id='H7zAaLJRZrdbPqbVMMfL5t:3:CL:18:revocable'\n",
      "\n",
      "fifty_schema_id='H7zAaLJRZrdbPqbVMMfL5t:2:fifty-attrib:0.0.1'\n",
      "fifty_cred_def_id='H7zAaLJRZrdbPqbVMMfL5t:3:CL:19:default'\n",
      "fifty_rev_cred_def_id='H7zAaLJRZrdbPqbVMMfL5t:3:CL:19:revocable'\n",
      "\n",
      "hundred_schema_id='H7zAaLJRZrdbPqbVMMfL5t:2:hundred-attrib:0.0.1'\n",
      "hundred_cred_def_id='H7zAaLJRZrdbPqbVMMfL5t:3:CL:20:default'\n",
      "hundred_rev_cred_def_id='H7zAaLJRZrdbPqbVMMfL5t:3:CL:20:revocable'\n",
      "\n"
     ]
    }
   ],
   "source": [
    "print(f\"one_schema_id='{one_schema_id}'\")\n",
    "print(f\"one_cred_def_id='{one_cred_def_id}'\")\n",
    "print(f\"one_rev_cred_def_id='{one_rev_cred_def_id}'\\n\")\n",
    "\n",
    "print(f\"five_schema_id='{five_schema_id}'\")\n",
    "print(f\"five_cred_def_id='{five_cred_def_id}'\")\n",
    "print(f\"five_rev_cred_def_id='{five_rev_cred_def_id}'\\n\")\n",
    "\n",
    "print(f\"ten_schema_id='{ten_schema_id}'\")\n",
    "print(f\"ten_cred_def_id='{ten_cred_def_id}'\")\n",
    "print(f\"ten_rev_cred_def_id='{ten_rev_cred_def_id}'\\n\")\n",
    "\n",
    "print(f\"twenty_schema_id='{twenty_schema_id}'\")\n",
    "print(f\"twenty_cred_def_id='{twenty_cred_def_id}'\")\n",
    "print(f\"twenty_rev_cred_def_id='{twenty_rev_cred_def_id}'\\n\")\n",
    "\n",
    "print(f\"fifty_schema_id='{fifty_schema_id}'\")\n",
    "print(f\"fifty_cred_def_id='{fifty_cred_def_id}'\")\n",
    "print(f\"fifty_rev_cred_def_id='{fifty_rev_cred_def_id}'\\n\")\n",
    "\n",
    "print(f\"hundred_schema_id='{hundred_schema_id}'\")\n",
    "print(f\"hundred_cred_def_id='{hundred_cred_def_id}'\")\n",
    "print(f\"hundred_rev_cred_def_id='{hundred_rev_cred_def_id}'\\n\")"
   ]
  },
  {
   "cell_type": "markdown",
   "id": "a95cd9ab",
   "metadata": {},
   "source": [
    "## Credential Number Identifiers"
   ]
  },
  {
   "cell_type": "code",
   "execution_count": 62,
   "id": "131db527",
   "metadata": {},
   "outputs": [
    {
     "name": "stdout",
     "output_type": "stream",
     "text": [
      "five1_schema_id='H7zAaLJRZrdbPqbVMMfL5t:2:five-one:0.0.1'\n",
      "five1_cred_def_id='H7zAaLJRZrdbPqbVMMfL5t:3:CL:21:default'\n",
      "five1_rev_cred_def_id='H7zAaLJRZrdbPqbVMMfL5t:3:CL:21:revocable'\n",
      "\n",
      "five2_schema_id='H7zAaLJRZrdbPqbVMMfL5t:2:five-two:0.0.1'\n",
      "five2_cred_def_id='H7zAaLJRZrdbPqbVMMfL5t:3:CL:22:default'\n",
      "five2_rev_cred_def_id='H7zAaLJRZrdbPqbVMMfL5t:3:CL:22:revocable'\n",
      "\n",
      "five3_schema_id='H7zAaLJRZrdbPqbVMMfL5t:2:five-three:0.0.1'\n",
      "five3_cred_def_id='H7zAaLJRZrdbPqbVMMfL5t:3:CL:23:default'\n",
      "five3_rev_cred_def_id='H7zAaLJRZrdbPqbVMMfL5t:3:CL:23:revocable'\n",
      "\n",
      "five4_schema_id='H7zAaLJRZrdbPqbVMMfL5t:2:five-four:0.0.1'\n",
      "five4_cred_def_id='H7zAaLJRZrdbPqbVMMfL5t:3:CL:24:default'\n",
      "five4_rev_cred_def_id='H7zAaLJRZrdbPqbVMMfL5t:3:CL:24:revocable'\n",
      "\n",
      "five5_schema_id='H7zAaLJRZrdbPqbVMMfL5t:2:five-five:0.0.1'\n",
      "five5_cred_def_id='H7zAaLJRZrdbPqbVMMfL5t:3:CL:25:default'\n",
      "five5_rev_cred_def_id='H7zAaLJRZrdbPqbVMMfL5t:3:CL:25:revocable'\n",
      "\n"
     ]
    }
   ],
   "source": [
    "print(f\"five1_schema_id='{five1_schema_id}'\")\n",
    "print(f\"five1_cred_def_id='{five1_cred_def_id}'\")\n",
    "print(f\"five1_rev_cred_def_id='{five1_rev_cred_def_id}'\\n\")\n",
    "\n",
    "print(f\"five2_schema_id='{five2_schema_id}'\")\n",
    "print(f\"five2_cred_def_id='{five2_cred_def_id}'\")\n",
    "print(f\"five2_rev_cred_def_id='{five2_rev_cred_def_id}'\\n\")\n",
    "\n",
    "print(f\"five3_schema_id='{five3_schema_id}'\")\n",
    "print(f\"five3_cred_def_id='{five3_cred_def_id}'\")\n",
    "print(f\"five3_rev_cred_def_id='{five3_rev_cred_def_id}'\\n\")\n",
    "\n",
    "print(f\"five4_schema_id='{five4_schema_id}'\")\n",
    "print(f\"five4_cred_def_id='{five4_cred_def_id}'\")\n",
    "print(f\"five4_rev_cred_def_id='{five4_rev_cred_def_id}'\\n\")\n",
    "\n",
    "print(f\"five5_schema_id='{five5_schema_id}'\")\n",
    "print(f\"five5_cred_def_id='{five5_cred_def_id}'\")\n",
    "print(f\"five5_rev_cred_def_id='{five5_rev_cred_def_id}'\\n\")"
   ]
  },
  {
   "cell_type": "markdown",
   "id": "00661a9f",
   "metadata": {},
   "source": [
    "## Terminate Controller\n"
   ]
  },
  {
   "cell_type": "code",
   "execution_count": 63,
   "id": "80a0c7d3",
   "metadata": {},
   "outputs": [],
   "source": [
    "await agent_controller.terminate()"
   ]
  },
  {
   "cell_type": "code",
   "execution_count": null,
   "id": "39cf76c3",
   "metadata": {},
   "outputs": [],
   "source": []
  }
 ],
 "metadata": {
  "kernelspec": {
   "display_name": "Python 3",
   "language": "python",
   "name": "python3"
  },
  "language_info": {
   "codemirror_mode": {
    "name": "ipython",
    "version": 3
   },
   "file_extension": ".py",
   "mimetype": "text/x-python",
   "name": "python",
   "nbconvert_exporter": "python",
   "pygments_lexer": "ipython3",
   "version": "3.7.6"
  }
 },
 "nbformat": 4,
 "nbformat_minor": 5
}
