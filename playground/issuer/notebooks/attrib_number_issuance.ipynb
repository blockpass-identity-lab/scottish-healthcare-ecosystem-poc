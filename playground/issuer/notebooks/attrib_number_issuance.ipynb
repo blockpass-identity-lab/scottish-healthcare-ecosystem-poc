{
 "cells": [
  {
   "cell_type": "markdown",
   "id": "1ccc72ea",
   "metadata": {},
   "source": [
    "# ACA-Py & ACC-Py Basic Template\n",
    "\n",
    "## Copy this template into the root folder of your notebook workspace to get started"
   ]
  },
  {
   "cell_type": "markdown",
   "id": "c357c992",
   "metadata": {},
   "source": [
    "### Imports"
   ]
  },
  {
   "cell_type": "code",
   "execution_count": 1,
   "id": "c17f5370",
   "metadata": {},
   "outputs": [],
   "source": [
    "from aries_cloudcontroller import AriesAgentController\n",
    "import os\n",
    "from termcolor import colored\n",
    "import asyncio\n",
    "import time\n",
    "\n",
    "from aiohttp import ClientSession\n",
    "\n",
    "from libs.performance_service import PerformanceService"
   ]
  },
  {
   "cell_type": "markdown",
   "id": "0fee342f",
   "metadata": {},
   "source": [
    "### Initialise the Agent Controller"
   ]
  },
  {
   "cell_type": "code",
   "execution_count": 2,
   "id": "5f43dfe8",
   "metadata": {},
   "outputs": [
    {
     "name": "stdout",
     "output_type": "stream",
     "text": [
      "Initialising a controller with admin api at http://issuer-agent:3021 and an api key of adminApiKey\n"
     ]
    }
   ],
   "source": [
    "api_key = os.getenv(\"ACAPY_ADMIN_API_KEY\")\n",
    "admin_url = os.getenv(\"ADMIN_URL\")\n",
    "\n",
    "print(f\"Initialising a controller with admin api at {admin_url} and an api key of {api_key}\")\n",
    "agent_controller = AriesAgentController(admin_url,api_key)\n"
   ]
  },
  {
   "cell_type": "markdown",
   "id": "d6575761",
   "metadata": {},
   "source": [
    "### Start a Webhook Server"
   ]
  },
  {
   "cell_type": "code",
   "execution_count": 3,
   "id": "72548ea0",
   "metadata": {},
   "outputs": [
    {
     "name": "stdout",
     "output_type": "stream",
     "text": [
      "Listening for webhooks from agent at http://0.0.0.0:3010\n"
     ]
    }
   ],
   "source": [
    "webhook_port = int(os.getenv(\"WEBHOOK_PORT\"))\n",
    "webhook_host = \"0.0.0.0\"\n",
    "\n",
    "await agent_controller.init_webhook_server(webhook_host, webhook_port)\n",
    "\n",
    "print(f\"Listening for webhooks from agent at http://{webhook_host}:{webhook_port}\")"
   ]
  },
  {
   "cell_type": "markdown",
   "id": "8521f195",
   "metadata": {},
   "source": [
    "## Store Issuing Schema and Cred Def Identifiers\n",
    "\n",
    "If you intend for this agent to issue credentials you should first initialise your agent as an issuer and author the relevant identifiers to the public ledger. The issuer_initialisation recipe notebook can be duplicated and used as a starting point.\n",
    "\n",
    "Once schema and cred def identifiers are created copy across and store in variables as illustrated in the cell below. Be sure to use unique names for each variable."
   ]
  },
  {
   "cell_type": "code",
   "execution_count": 4,
   "id": "dec858fc",
   "metadata": {},
   "outputs": [],
   "source": [
    "one_schema_id='H7zAaLJRZrdbPqbVMMfL5t:2:one-attrib:0.0.2'\n",
    "one_cred_def_id='H7zAaLJRZrdbPqbVMMfL5t:3:CL:15:default'\n",
    "one_rev_cred_def_id='H7zAaLJRZrdbPqbVMMfL5t:3:CL:15:revocable'\n",
    "\n",
    "five_schema_id='H7zAaLJRZrdbPqbVMMfL5t:2:five-attrib:0.0.1'\n",
    "five_cred_def_id='H7zAaLJRZrdbPqbVMMfL5t:3:CL:16:default'\n",
    "five_rev_cred_def_id='H7zAaLJRZrdbPqbVMMfL5t:3:CL:16:revocable'\n",
    "\n",
    "ten_schema_id='H7zAaLJRZrdbPqbVMMfL5t:2:ten-attrib:0.0.1'\n",
    "ten_cred_def_id='H7zAaLJRZrdbPqbVMMfL5t:3:CL:17:default'\n",
    "ten_rev_cred_def_id='H7zAaLJRZrdbPqbVMMfL5t:3:CL:17:revocable'\n",
    "\n",
    "twenty_schema_id='H7zAaLJRZrdbPqbVMMfL5t:2:twenty-attrib:0.0.1'\n",
    "twenty_cred_def_id='H7zAaLJRZrdbPqbVMMfL5t:3:CL:18:default'\n",
    "twenty_rev_cred_def_id='H7zAaLJRZrdbPqbVMMfL5t:3:CL:18:revocable'\n",
    "\n",
    "fifty_schema_id='H7zAaLJRZrdbPqbVMMfL5t:2:fifty-attrib:0.0.1'\n",
    "fifty_cred_def_id='H7zAaLJRZrdbPqbVMMfL5t:3:CL:19:default'\n",
    "fifty_rev_cred_def_id='H7zAaLJRZrdbPqbVMMfL5t:3:CL:19:revocable'\n",
    "\n",
    "hundred_schema_id='H7zAaLJRZrdbPqbVMMfL5t:2:hundred-attrib:0.0.1'\n",
    "hundred_cred_def_id='H7zAaLJRZrdbPqbVMMfL5t:3:CL:20:default'\n",
    "hundred_rev_cred_def_id='H7zAaLJRZrdbPqbVMMfL5t:3:CL:20:revocable'\n",
    "\n",
    "\n",
    "\n"
   ]
  },
  {
   "cell_type": "markdown",
   "id": "c6930ef5",
   "metadata": {},
   "source": [
    "## Init Performance Service"
   ]
  },
  {
   "cell_type": "code",
   "execution_count": 5,
   "id": "0397bde1",
   "metadata": {},
   "outputs": [],
   "source": [
    "performance_service = PerformanceService(agent_controller, iterations=100)"
   ]
  },
  {
   "cell_type": "markdown",
   "id": "327ece23",
   "metadata": {},
   "source": [
    "## Establish Connection\n",
    "\n",
    "Before you can issue a credential you must first establish a connection across which the credential will be issued to a holder. (see recipes/connection)"
   ]
  },
  {
   "cell_type": "code",
   "execution_count": null,
   "id": "074a12b0",
   "metadata": {},
   "outputs": [],
   "source": [
    "# Alias for invited connection\n",
    "alias = \"Friend\"\n",
    "auto_accept = \"true\"\n",
    "# Use public DID?\n",
    "public = \"false\"\n",
    "# Should this invitation be usable by multiple invitees?\n",
    "multi_use = \"false\"\n",
    "\n",
    "invitation_response = await agent_controller.connections.create_invitation(alias, auto_accept, public, multi_use)\n",
    "# Is equivalent to above. Arguments are optionally\n",
    "# invitation_response = await agent_controller.connections.create_invitation()\n",
    "\n",
    "\n",
    "\n",
    "# You will use this identifier to issue a credential across this connection\n",
    "connection_id = invitation_response[\"connection_id\"]\n",
    "\n",
    "invitation = invitation_response[\"invitation\"]\n",
    "## Copy this output\n",
    "print(invitation)\n",
    "print(connection_id)"
   ]
  },
  {
   "cell_type": "code",
   "execution_count": 6,
   "id": "79d635d8",
   "metadata": {},
   "outputs": [],
   "source": [
    "connection_id = \"bf7d4d2b-1398-4079-a4fa-7cfecf815892\""
   ]
  },
  {
   "cell_type": "markdown",
   "id": "64de428b",
   "metadata": {},
   "source": [
    "# Attribute Number Experiment"
   ]
  },
  {
   "cell_type": "code",
   "execution_count": 7,
   "id": "62046ee8",
   "metadata": {},
   "outputs": [],
   "source": [
    "experiment = performance_service.new_experiment(\"Attribute Number - Non Revocable\")\n",
    "\n"
   ]
  },
  {
   "cell_type": "code",
   "execution_count": 8,
   "id": "d1632ea1",
   "metadata": {},
   "outputs": [],
   "source": [
    "revocable_experiment = performance_service.new_experiment(\"Attribute Number - Revocable\")"
   ]
  },
  {
   "cell_type": "markdown",
   "id": "74cdbedc",
   "metadata": {},
   "source": [
    "## Define Performance Test - One"
   ]
  },
  {
   "cell_type": "code",
   "execution_count": 9,
   "id": "63bbda2c",
   "metadata": {},
   "outputs": [],
   "source": [
    "name = \"1\"\n",
    "credential_attributes = [\n",
    "    {\"name\": \"1\", \"value\": 32*\"0\"},\n",
    "]"
   ]
  },
  {
   "cell_type": "code",
   "execution_count": 10,
   "id": "9dc92529",
   "metadata": {
    "tags": []
   },
   "outputs": [
    {
     "name": "stdout",
     "output_type": "stream",
     "text": [
      "Average :  0.7644324375199903\n"
     ]
    }
   ],
   "source": [
    "\n",
    "\n",
    "\n",
    "\n",
    "test = {\"name\": name, \"schema_id\": one_schema_id, \"cred_def_id\": one_cred_def_id, \"attributes\": credential_attributes}\n",
    "\n",
    "await performance_service.run_issuance(experiment, test, connection_id)"
   ]
  },
  {
   "cell_type": "code",
   "execution_count": 11,
   "id": "463b1573",
   "metadata": {},
   "outputs": [
    {
     "name": "stdout",
     "output_type": "stream",
     "text": [
      "Average :  1.0604020470899196\n"
     ]
    }
   ],
   "source": [
    "\n",
    "\n",
    "test = {\"name\": name, \"schema_id\": one_schema_id, \"cred_def_id\": one_rev_cred_def_id, \"attributes\": credential_attributes}\n",
    "\n",
    "await performance_service.run_issuance(revocable_experiment, test, connection_id)\n"
   ]
  },
  {
   "cell_type": "markdown",
   "id": "1c650c56",
   "metadata": {},
   "source": [
    "## Define Performance Test - Five"
   ]
  },
  {
   "cell_type": "code",
   "execution_count": 12,
   "id": "285d2d4c",
   "metadata": {},
   "outputs": [],
   "source": [
    "credential_attributes = [\n",
    "    {\"name\": \"1\", \"value\": 32*\"0\"},\n",
    "    {\"name\": \"2\", \"value\": 32*\"0\"},\n",
    "    {\"name\": \"3\", \"value\": 32*\"0\"},\n",
    "    {\"name\": \"4\", \"value\": 32*\"0\"},\n",
    "    {\"name\": \"5\", \"value\": 32*\"0\"},\n",
    "]\n",
    "name = \"5\"\n"
   ]
  },
  {
   "cell_type": "code",
   "execution_count": 13,
   "id": "c9543bee",
   "metadata": {},
   "outputs": [
    {
     "name": "stdout",
     "output_type": "stream",
     "text": [
      "Average :  0.7274341308099792\n"
     ]
    }
   ],
   "source": [
    "\n",
    "\n",
    "\n",
    "test = {\"name\": name, \"schema_id\": five_schema_id, \"cred_def_id\": five_cred_def_id, \"attributes\": credential_attributes}\n",
    "\n",
    "await performance_service.run_issuance(experiment, test, connection_id)\n"
   ]
  },
  {
   "cell_type": "code",
   "execution_count": 14,
   "id": "3e819c95",
   "metadata": {},
   "outputs": [
    {
     "name": "stdout",
     "output_type": "stream",
     "text": [
      "Average :  1.039828203540037\n"
     ]
    }
   ],
   "source": [
    "\n",
    "test = {\"name\": name, \"schema_id\": five_schema_id, \"cred_def_id\": five_rev_cred_def_id, \"attributes\": credential_attributes}\n",
    "\n",
    "await performance_service.run_issuance(revocable_experiment, test, connection_id)\n"
   ]
  },
  {
   "cell_type": "markdown",
   "id": "67277483",
   "metadata": {},
   "source": [
    "## Define Performance Test - Ten"
   ]
  },
  {
   "cell_type": "code",
   "execution_count": 15,
   "id": "5eebf5aa",
   "metadata": {},
   "outputs": [],
   "source": [
    "credential_attributes = [\n",
    "    {\"name\": \"1\", \"value\": 32*\"0\"},\n",
    "    {\"name\": \"2\", \"value\": 32*\"0\"},\n",
    "    {\"name\": \"3\", \"value\": 32*\"0\"},\n",
    "    {\"name\": \"4\", \"value\": 32*\"0\"},\n",
    "    {\"name\": \"5\", \"value\": 32*\"0\"},\n",
    "    {\"name\": \"6\", \"value\": 32*\"0\"},\n",
    "    {\"name\": \"7\", \"value\": 32*\"0\"},\n",
    "    {\"name\": \"8\", \"value\": 32*\"0\"},\n",
    "    {\"name\": \"9\", \"value\": 32*\"0\"},\n",
    "    {\"name\": \"10\", \"value\": 32*\"0\"},\n",
    "]\n",
    "name = \"10\""
   ]
  },
  {
   "cell_type": "code",
   "execution_count": 16,
   "id": "a87fd09b",
   "metadata": {},
   "outputs": [
    {
     "name": "stdout",
     "output_type": "stream",
     "text": [
      "Average :  0.7416022508400602\n"
     ]
    }
   ],
   "source": [
    "\n",
    "\n",
    "\n",
    "test = {\"name\": name,\"schema_id\": ten_schema_id, \"cred_def_id\": ten_cred_def_id, \"attributes\": credential_attributes}\n",
    "\n",
    "await performance_service.run_issuance(experiment, test, connection_id)\n"
   ]
  },
  {
   "cell_type": "code",
   "execution_count": 17,
   "id": "16c239a8",
   "metadata": {},
   "outputs": [
    {
     "name": "stdout",
     "output_type": "stream",
     "text": [
      "Average :  1.0485972693900112\n"
     ]
    }
   ],
   "source": [
    "\n",
    "test = {\"name\": name, \"schema_id\": ten_schema_id, \"cred_def_id\": ten_rev_cred_def_id, \"attributes\": credential_attributes}\n",
    "\n",
    "await performance_service.run_issuance(revocable_experiment, test, connection_id)\n"
   ]
  },
  {
   "cell_type": "markdown",
   "id": "3e6fcddd",
   "metadata": {},
   "source": [
    "## Define Performance Test - Twenty"
   ]
  },
  {
   "cell_type": "code",
   "execution_count": 18,
   "id": "0233f9b7",
   "metadata": {},
   "outputs": [],
   "source": [
    "for x in range(1,21):\n",
    "    attribute = {\"name\": str(x), \"value\": 32*\"0\"}\n",
    "    credential_attributes.append(attribute)\n",
    "    \n",
    "name = \"20\""
   ]
  },
  {
   "cell_type": "code",
   "execution_count": 19,
   "id": "a79d7f03",
   "metadata": {},
   "outputs": [
    {
     "name": "stdout",
     "output_type": "stream",
     "text": [
      "Average :  0.9127942244900623\n"
     ]
    }
   ],
   "source": [
    "\n",
    "\n",
    "\n",
    "test = {\"name\": name, \"schema_id\": twenty_schema_id, \"cred_def_id\": twenty_cred_def_id, \"attributes\": credential_attributes}\n",
    "\n",
    "await performance_service.run_issuance(experiment, test, connection_id)\n"
   ]
  },
  {
   "cell_type": "code",
   "execution_count": 20,
   "id": "74527987",
   "metadata": {},
   "outputs": [
    {
     "name": "stdout",
     "output_type": "stream",
     "text": [
      "Average :  1.3740106260799985\n"
     ]
    }
   ],
   "source": [
    "\n",
    "\n",
    "\n",
    "test = {\"name\": name, \"schema_id\": twenty_schema_id, \"cred_def_id\": twenty_rev_cred_def_id, \"attributes\": credential_attributes}\n",
    "\n",
    "await performance_service.run_issuance(revocable_experiment, test, connection_id)\n"
   ]
  },
  {
   "cell_type": "markdown",
   "id": "ebc4d87a",
   "metadata": {},
   "source": [
    "## Define Performance Test - Fifty"
   ]
  },
  {
   "cell_type": "code",
   "execution_count": 21,
   "id": "d621905b",
   "metadata": {},
   "outputs": [],
   "source": [
    "\n",
    "name = \"50\"\n",
    "credential_attributes = []\n",
    "\n",
    "for x in range(1,51):\n",
    "    attribute = {\"name\": str(x), \"value\": 32*\"0\"}\n",
    "    credential_attributes.append(attribute)\n"
   ]
  },
  {
   "cell_type": "code",
   "execution_count": 22,
   "id": "d7728940",
   "metadata": {},
   "outputs": [
    {
     "name": "stdout",
     "output_type": "stream",
     "text": [
      "Average :  1.1370455552801104\n"
     ]
    }
   ],
   "source": [
    "\n",
    "\n",
    "test = {\"name\": name, \"schema_id\": fifty_schema_id, \"cred_def_id\": fifty_cred_def_id, \"attributes\": credential_attributes}\n",
    "\n",
    "await performance_service.run_issuance(experiment, test, connection_id)\n"
   ]
  },
  {
   "cell_type": "code",
   "execution_count": 23,
   "id": "b1c34d84",
   "metadata": {},
   "outputs": [
    {
     "name": "stdout",
     "output_type": "stream",
     "text": [
      "Average :  1.3724528683499921\n"
     ]
    }
   ],
   "source": [
    "\n",
    "\n",
    "\n",
    "test = {\"name\": name, \"schema_id\": fifty_schema_id, \"cred_def_id\": fifty_rev_cred_def_id, \"attributes\": credential_attributes}\n",
    "\n",
    "await performance_service.run_issuance(revocable_experiment, test, connection_id)\n"
   ]
  },
  {
   "cell_type": "markdown",
   "id": "4fb787f5",
   "metadata": {},
   "source": [
    "## Define Performance Test - Hundred"
   ]
  },
  {
   "cell_type": "code",
   "execution_count": 24,
   "id": "ec7afa95",
   "metadata": {},
   "outputs": [],
   "source": [
    "name = \"100\"\n",
    "\n",
    "credential_attributes = []\n",
    "\n",
    "for x in range(1,101):\n",
    "    attribute = {\"name\": str(x), \"value\": 32*\"0\"}\n",
    "    credential_attributes.append(attribute)"
   ]
  },
  {
   "cell_type": "code",
   "execution_count": 25,
   "id": "0195b829",
   "metadata": {},
   "outputs": [
    {
     "name": "stdout",
     "output_type": "stream",
     "text": [
      "Average :  1.4345285729700117\n"
     ]
    }
   ],
   "source": [
    "\n",
    "\n",
    "test = {\"name\": name, \"schema_id\": hundred_schema_id, \"cred_def_id\": hundred_cred_def_id, \"attributes\": credential_attributes}\n",
    "\n",
    "await performance_service.run_issuance(experiment, test, connection_id)\n"
   ]
  },
  {
   "cell_type": "code",
   "execution_count": 26,
   "id": "52d21dea",
   "metadata": {},
   "outputs": [
    {
     "name": "stdout",
     "output_type": "stream",
     "text": [
      "Average :  1.7642283525200038\n"
     ]
    }
   ],
   "source": [
    "\n",
    "\n",
    "test = {\"name\": name, \"schema_id\": hundred_schema_id, \"cred_def_id\": hundred_rev_cred_def_id, \"attributes\": credential_attributes}\n",
    "\n",
    "await performance_service.run_issuance(revocable_experiment, test, connection_id)\n"
   ]
  },
  {
   "cell_type": "markdown",
   "id": "d4b3f5aa",
   "metadata": {},
   "source": [
    "## Display Plots"
   ]
  },
  {
   "cell_type": "markdown",
   "id": "6a8381c4",
   "metadata": {},
   "source": [
    "### Non Revoked"
   ]
  },
  {
   "cell_type": "code",
   "execution_count": 27,
   "id": "da4801bd",
   "metadata": {},
   "outputs": [],
   "source": [
    "data = []\n",
    "labels = []\n",
    "non_revoked_averages = []\n",
    "for result in experiment[\"results\"]:\n",
    "#     print(result[\"timings\"])\n",
    "    \n",
    "    millitimings = [i * 1000 for i in result[\"timings\"]]\n",
    "    data.append(millitimings)\n",
    "    non_revoked_averages.append(result[\"average\"] * 1000)\n",
    "    labels.append(result[\"name\"])\n",
    "    \n"
   ]
  },
  {
   "cell_type": "code",
   "execution_count": 28,
   "id": "cd624b15",
   "metadata": {
    "tags": []
   },
   "outputs": [
    {
     "data": {
      "image/png": "[encoded data removed]",
      "text/plain": [
       "<Figure size 720x720 with 1 Axes>"
      ]
     },
     "metadata": {
      "needs_background": "light"
     },
     "output_type": "display_data"
    }
   ],
   "source": [
    "# Import libraries\n",
    "import matplotlib.pyplot as plt\n",
    "import numpy as np\n",
    " \n",
    "\n",
    " \n",
    "fig = plt.figure(figsize =(10, 10))\n",
    " \n",
    "# Creating axes instance\n",
    "ax = fig.add_axes([0.1,0.1,0.75,0.75]) \n",
    " \n",
    "# Creating plot\n",
    "bp = ax.boxplot(data, patch_artist = True,\n",
    "                notch ='True')\n",
    "\n",
    "# x-axis labels\n",
    "ax.set_xticklabels(labels)\n",
    "\n",
    "plt.ylabel(\"Milliseconds\")\n",
    "plt.xlabel(\"Number of Attributes\")\n",
    "# show plot\n",
    "# plt.show()\n",
    "\n",
    "plt.savefig(\"results/issuance/attribute_number/box_plot_non_revocable.png\")"
   ]
  },
  {
   "cell_type": "markdown",
   "id": "2592f338",
   "metadata": {},
   "source": [
    "### Revocable"
   ]
  },
  {
   "cell_type": "code",
   "execution_count": 29,
   "id": "0589eeba",
   "metadata": {},
   "outputs": [],
   "source": [
    "data = []\n",
    "labels = []\n",
    "revocable_averages = []\n",
    "for result in revocable_experiment[\"results\"]:\n",
    "    \n",
    "    millitimings = [i * 1000 for i in result[\"timings\"]]\n",
    "    data.append(millitimings)\n",
    "    revocable_averages.append(result[\"average\"] * 1000)\n",
    "    labels.append(result[\"name\"])\n",
    "    \n"
   ]
  },
  {
   "cell_type": "code",
   "execution_count": 30,
   "id": "ecf55a5d",
   "metadata": {},
   "outputs": [
    {
     "data": {
      "image/png": "[encoded data removed]",
      "text/plain": [
       "<Figure size 720x720 with 1 Axes>"
      ]
     },
     "metadata": {
      "needs_background": "light"
     },
     "output_type": "display_data"
    }
   ],
   "source": [
    "# Import libraries\n",
    "import matplotlib.pyplot as plt\n",
    "import numpy as np\n",
    " \n",
    "\n",
    " \n",
    "fig = plt.figure(figsize =(10, 10))\n",
    " \n",
    "# Creating axes instance\n",
    "ax = fig.add_axes([0.1,0.1,0.75,0.75]) \n",
    " \n",
    "# Creating plot`\n",
    "bp = ax.boxplot(data, patch_artist = True,\n",
    "                notch ='True')\n",
    "\n",
    "# x-axis labels\n",
    "ax.set_xticklabels(labels)\n",
    "\n",
    "plt.ylabel(\"Milliseconds\")\n",
    "plt.xlabel(\"Number of Attributes\")\n",
    "\n",
    "plt.savefig(\"results/issuance/attribute_number/box_plot_revocable.png\")"
   ]
  },
  {
   "cell_type": "markdown",
   "id": "6f49a8d2",
   "metadata": {},
   "source": [
    "## Averages"
   ]
  },
  {
   "cell_type": "code",
   "execution_count": 31,
   "id": "2692bf1d",
   "metadata": {},
   "outputs": [
    {
     "data": {
      "image/png": "[encoded data removed]",
      "text/plain": [
       "<Figure size 720x720 with 1 Axes>"
      ]
     },
     "metadata": {
      "needs_background": "light"
     },
     "output_type": "display_data"
    }
   ],
   "source": [
    "fig = plt.figure(figsize =(10, 10))\n",
    " \n",
    "# Creating axes instance\n",
    "ax = fig.add_axes([0.1,0.1,0.75,0.75]) \n",
    "\n",
    "# avg_ploy = plt.plot(labels, revocable_averages, non_revoked_averages)\n",
    "plt_points = [1,5,10,20,50,100]\n",
    "\n",
    "plt.plot(plt_points, revocable_averages,'r-',label='Revocable Credential Issuance Averages')\n",
    "plt.plot(plt_points, non_revoked_averages,label='Non Revocable Credential Issuance Averages')\n",
    "\n",
    "plt.ylabel(\"Milliseconds\")\n",
    "plt.xlabel(\"Number of Attributes\")\n",
    "\n",
    "\n",
    "plt.legend()\n",
    "plt.savefig(\"results/issuance/attribute_number/averages.png\")"
   ]
  },
  {
   "cell_type": "markdown",
   "id": "23dbd3b4",
   "metadata": {},
   "source": [
    "## Terminate Controller\n",
    "\n",
    "Whenever you have finished with this notebook, be sure to terminate the controller. This is especially important if your business logic runs across multiple notebooks."
   ]
  },
  {
   "cell_type": "code",
   "execution_count": 32,
   "id": "82582e4e",
   "metadata": {},
   "outputs": [],
   "source": [
    "await agent_controller.terminate()"
   ]
  },
  {
   "cell_type": "code",
   "execution_count": 33,
   "id": "4d7c61a2",
   "metadata": {},
   "outputs": [],
   "source": [
    "performance_service.save_experiments()"
   ]
  },
  {
   "cell_type": "code",
   "execution_count": null,
   "id": "ed02221b",
   "metadata": {},
   "outputs": [],
   "source": []
  }
 ],
 "metadata": {
  "kernelspec": {
   "display_name": "Python 3",
   "language": "python",
   "name": "python3"
  },
  "language_info": {
   "codemirror_mode": {
    "name": "ipython",
    "version": 3
   },
   "file_extension": ".py",
   "mimetype": "text/x-python",
   "name": "python",
   "nbconvert_exporter": "python",
   "pygments_lexer": "ipython3",
   "version": "3.7.6"
  }
 },
 "nbformat": 4,
 "nbformat_minor": 5
}
