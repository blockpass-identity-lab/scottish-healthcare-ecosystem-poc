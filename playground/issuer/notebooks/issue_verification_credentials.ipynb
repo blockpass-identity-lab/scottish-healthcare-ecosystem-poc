{
 "cells": [
  {
   "cell_type": "markdown",
   "id": "2866f7bf",
   "metadata": {},
   "source": [
    "# Issue Relevant Credentials to Prover Agent\n",
    "\n",
    "## Prover Agent Should End up With One of each Credential Used in Experiments"
   ]
  },
  {
   "cell_type": "markdown",
   "id": "804ce9f4",
   "metadata": {},
   "source": [
    "### Imports"
   ]
  },
  {
   "cell_type": "code",
   "execution_count": 1,
   "id": "9a4cf632",
   "metadata": {},
   "outputs": [],
   "source": [
    "from aries_cloudcontroller import AriesAgentController\n",
    "import os\n",
    "from termcolor import colored"
   ]
  },
  {
   "cell_type": "markdown",
   "id": "cbcda8c9",
   "metadata": {},
   "source": [
    "### Initialise the Agent Controller"
   ]
  },
  {
   "cell_type": "code",
   "execution_count": 2,
   "id": "eb7c976f",
   "metadata": {},
   "outputs": [
    {
     "name": "stdout",
     "output_type": "stream",
     "text": [
      "Initialising a controller with admin api at http://issuer-agent:3021 and an api key of adminApiKey\n"
     ]
    }
   ],
   "source": [
    "api_key = os.getenv(\"ACAPY_ADMIN_API_KEY\")\n",
    "admin_url = os.getenv(\"ADMIN_URL\")\n",
    "\n",
    "print(f\"Initialising a controller with admin api at {admin_url} and an api key of {api_key}\")\n",
    "agent_controller = AriesAgentController(admin_url,api_key)"
   ]
  },
  {
   "cell_type": "markdown",
   "id": "33f7a7de",
   "metadata": {},
   "source": [
    "### Start a Webhook Server"
   ]
  },
  {
   "cell_type": "code",
   "execution_count": 3,
   "id": "9832e5e4",
   "metadata": {},
   "outputs": [
    {
     "name": "stdout",
     "output_type": "stream",
     "text": [
      "Listening for webhooks from agent at http://0.0.0.0:3010\n"
     ]
    }
   ],
   "source": [
    "webhook_port = int(os.getenv(\"WEBHOOK_PORT\"))\n",
    "webhook_host = \"0.0.0.0\"\n",
    "\n",
    "await agent_controller.init_webhook_server(webhook_host, webhook_port)\n",
    "\n",
    "print(f\"Listening for webhooks from agent at http://{webhook_host}:{webhook_port}\")"
   ]
  },
  {
   "cell_type": "markdown",
   "id": "468f63fb",
   "metadata": {},
   "source": [
    "## Register Agent Event Listeners\n",
    "\n",
    "You can see some examples within the webhook_listeners recipe. Copy any relevant cells across and customise as needed."
   ]
  },
  {
   "cell_type": "code",
   "execution_count": 6,
   "id": "ba63f51c",
   "metadata": {},
   "outputs": [],
   "source": [
    "listeners = []\n",
    "\n",
    "# Receive connection messages\n",
    "def connections_handler(payload):\n",
    "    state = payload['state']\n",
    "    connection_id = payload[\"connection_id\"]\n",
    "    their_role = payload[\"their_role\"]\n",
    "    routing_state = payload[\"routing_state\"]\n",
    "    \n",
    "    print(\"----------------------------------------------------------\")\n",
    "    print(\"Connection Webhook Event Received\")\n",
    "    print(\"Connection ID : \", connection_id)\n",
    "    print(\"State : \", state)\n",
    "    print(\"Routing State : \", routing_state)\n",
    "    print(\"Their Role : \", their_role)\n",
    "    print(\"----------------------------------------------------------\")\n",
    "\n",
    "    if state == \"invitation\":\n",
    "        # Your business logic\n",
    "        print(\"invitation\")\n",
    "    elif state == \"request\":\n",
    "        # Your business logic\n",
    "        print(\"request\")\n",
    "\n",
    "    elif state == \"response\":\n",
    "        # Your business logic\n",
    "        print(\"response\")\n",
    "    elif state == \"active\":\n",
    "        # Your business logic\n",
    "        print(colored(\"Connection ID: {0} is now active.\".format(connection_id), \"green\", attrs=[\"bold\"]))\n",
    "\n",
    "\n",
    "\n",
    "connection_listener = {\n",
    "    \"handler\": connections_handler,\n",
    "    \"topic\": \"connections\"\n",
    "}\n",
    "\n",
    "listeners.append(connection_listener)\n",
    "\n",
    "agent_controller.register_listeners(listeners)"
   ]
  },
  {
   "cell_type": "markdown",
   "id": "41e36269",
   "metadata": {},
   "source": [
    "## Create Invitation\n",
    "\n",
    "Share this with the prover agent"
   ]
  },
  {
   "cell_type": "code",
   "execution_count": 7,
   "id": "156b9356",
   "metadata": {},
   "outputs": [
    {
     "name": "stdout",
     "output_type": "stream",
     "text": [
      "----------------------------------------------------------\n",
      "Connection Webhook Event Received\n",
      "Connection ID :  24e2273a-695f-4d54-a8b1-848df81ddaf2\n",
      "State :  invitation\n",
      "Routing State :  none\n",
      "Their Role :  invitee\n",
      "----------------------------------------------------------\n",
      "invitation\n"
     ]
    }
   ],
   "source": [
    "# Alias for invited connection\n",
    "alias = None\n",
    "auto_accept = False\n",
    "# Use public DID?\n",
    "public = \"false\"\n",
    "# Should this invitation be usable by multiple invitees?\n",
    "multi_use = \"false\"\n",
    "\n",
    "invitation_response = await agent_controller.connections.create_invitation(alias, auto_accept, public, multi_use)\n",
    "# Is equivalent to above. Arguments are optionally\n",
    "# invitation_response = await agent_controller.connections.create_invitation()\n",
    "\n",
    "\n",
    "\n",
    "# You probably want to keep this somewhere so you can enage in other protocols with this connection.\n",
    "connection_id = invitation_response[\"connection_id\"]\n"
   ]
  },
  {
   "cell_type": "markdown",
   "id": "bd00da73",
   "metadata": {},
   "source": [
    "## Share Invitation Object with Prover Agent\n",
    "\n",
    "Typically in this jupyter notebook playground that involves copying it across to another agent's business logic notebook where they are the invitee. (see invitee_template recipe)"
   ]
  },
  {
   "cell_type": "code",
   "execution_count": 8,
   "id": "ecfb1102",
   "metadata": {},
   "outputs": [
    {
     "name": "stdout",
     "output_type": "stream",
     "text": [
      "{'@type': 'did:sov:BzCbsNYhMrjHiqZDTUASHg;spec/connections/1.0/invitation', '@id': '461920e6-8c56-4665-8171-bf80531b6007', 'label': 'Issuer', 'recipientKeys': ['7e2GBXu7opBR2c7awJD8m9yvyF6yMancFebisdGKT7gd'], 'serviceEndpoint': 'http://issuer-agent:3020'}\n",
      "----------------------------------------------------------\n",
      "Connection Webhook Event Received\n",
      "Connection ID :  24e2273a-695f-4d54-a8b1-848df81ddaf2\n",
      "State :  request\n",
      "Routing State :  none\n",
      "Their Role :  invitee\n",
      "----------------------------------------------------------\n",
      "request\n",
      "----------------------------------------------------------\n",
      "Connection Webhook Event Received\n",
      "Connection ID :  24e2273a-695f-4d54-a8b1-848df81ddaf2\n",
      "State :  response\n",
      "Routing State :  none\n",
      "Their Role :  invitee\n",
      "----------------------------------------------------------\n",
      "response\n",
      "----------------------------------------------------------\n",
      "Connection Webhook Event Received\n",
      "Connection ID :  24e2273a-695f-4d54-a8b1-848df81ddaf2\n",
      "State :  active\n",
      "Routing State :  none\n",
      "Their Role :  invitee\n",
      "----------------------------------------------------------\n",
      "\u001b[1m\u001b[32mConnection ID: 24e2273a-695f-4d54-a8b1-848df81ddaf2 is now active.\u001b[0m\n"
     ]
    }
   ],
   "source": [
    "invitation = invitation_response[\"invitation\"]\n",
    "## Copy this output\n",
    "print(invitation)"
   ]
  },
  {
   "cell_type": "code",
   "execution_count": null,
   "id": "27163cae",
   "metadata": {},
   "outputs": [],
   "source": []
  },
  {
   "cell_type": "markdown",
   "id": "46d2d54c",
   "metadata": {},
   "source": [
    "## Store Issuing Schema and Cred Def Identifiers\n",
    "\n",
    "If you intend for this agent to issue credentials you should first initialise your agent as an issuer and author the relevant identifiers to the public ledger. The issuer_initialisation recipe notebook can be duplicated and used as a starting point.\n",
    "\n",
    "Once schema and cred def identifiers are created copy across and store in variables as illustrated in the cell below. Be sure to use unique names for each variable."
   ]
  },
  {
   "cell_type": "code",
   "execution_count": 9,
   "id": "50c9c843",
   "metadata": {},
   "outputs": [],
   "source": [
    "size1_schema_id='H7zAaLJRZrdbPqbVMMfL5t:2:size1:0.0.1'\n",
    "size1_cred_def_id='H7zAaLJRZrdbPqbVMMfL5t:3:CL:8:default'\n",
    "size1_rev_cred_def_id='H7zAaLJRZrdbPqbVMMfL5t:3:CL:8:revocable'\n",
    "\n",
    "size2_schema_id='H7zAaLJRZrdbPqbVMMfL5t:2:size2:0.0.1'\n",
    "size2_cred_def_id='H7zAaLJRZrdbPqbVMMfL5t:3:CL:9:default'\n",
    "size2_rev_cred_def_id='H7zAaLJRZrdbPqbVMMfL5t:3:CL:9:revocable'\n",
    "\n",
    "size3_schema_id='H7zAaLJRZrdbPqbVMMfL5t:2:size3:0.0.1'\n",
    "size3_cred_def_id='H7zAaLJRZrdbPqbVMMfL5t:3:CL:10:default'\n",
    "size3_rev_cred_def_id='H7zAaLJRZrdbPqbVMMfL5t:3:CL:10:revocable'\n",
    "\n",
    "size4_schema_id='H7zAaLJRZrdbPqbVMMfL5t:2:size4:0.0.1'\n",
    "size4_cred_def_id='H7zAaLJRZrdbPqbVMMfL5t:3:CL:11:default'\n",
    "size4_rev_cred_def_id='H7zAaLJRZrdbPqbVMMfL5t:3:CL:11:revocable'\n",
    "\n",
    "size5_schema_id='H7zAaLJRZrdbPqbVMMfL5t:2:size5:0.0.1'\n",
    "size5_cred_def_id='H7zAaLJRZrdbPqbVMMfL5t:3:CL:12:default'\n",
    "size5_rev_cred_def_id='H7zAaLJRZrdbPqbVMMfL5t:3:CL:12:revocable'\n",
    "\n",
    "size6_schema_id='H7zAaLJRZrdbPqbVMMfL5t:2:size6:0.0.1'\n",
    "size6_cred_def_id='H7zAaLJRZrdbPqbVMMfL5t:3:CL:13:default'\n",
    "size6_rev_cred_def_id='H7zAaLJRZrdbPqbVMMfL5t:3:CL:13:revocable'\n",
    "\n",
    "size7_schema_id='H7zAaLJRZrdbPqbVMMfL5t:2:size7:0.0.1'\n",
    "size7_cred_def_id='H7zAaLJRZrdbPqbVMMfL5t:3:CL:14:default'\n",
    "size7_rev_cred_def_id='H7zAaLJRZrdbPqbVMMfL5t:3:CL:14:revocable'\n",
    "\n",
    "\n",
    "\n",
    "\n",
    "\n"
   ]
  },
  {
   "cell_type": "markdown",
   "id": "e34ddb9a",
   "metadata": {},
   "source": [
    "## Issue Attrib Size Credential\n"
   ]
  },
  {
   "cell_type": "code",
   "execution_count": 10,
   "id": "0e1748a5",
   "metadata": {},
   "outputs": [],
   "source": [
    "credential_attributes = [\n",
    "    {\"name\": \"image\", \"value\": 128*\"0\"},\n",
    "]\n",
    "response = await agent_controller.issuer.send_credential(connection_id, size1_schema_id, size1_cred_def_id, credential_attributes)"
   ]
  },
  {
   "cell_type": "code",
   "execution_count": 11,
   "id": "4016ca4c",
   "metadata": {},
   "outputs": [],
   "source": [
    "credential_attributes = [\n",
    "    {\"name\": \"image\", \"value\": 512*\"0\"},\n",
    "]\n",
    "response = await agent_controller.issuer.send_credential(connection_id, size2_schema_id, size2_cred_def_id, credential_attributes)"
   ]
  },
  {
   "cell_type": "code",
   "execution_count": 12,
   "id": "bf4e7956",
   "metadata": {},
   "outputs": [],
   "source": [
    "credential_attributes = [\n",
    "    {\"name\": \"image\", \"value\": 1024*\"0\"},\n",
    "]\n",
    "response = await agent_controller.issuer.send_credential(connection_id, size3_schema_id, size3_cred_def_id, credential_attributes)"
   ]
  },
  {
   "cell_type": "code",
   "execution_count": 13,
   "id": "3d8ad96e",
   "metadata": {},
   "outputs": [],
   "source": [
    "credential_attributes = [\n",
    "    {\"name\": \"image\", \"value\": 16*1024*\"0\"},\n",
    "]\n",
    "response = await agent_controller.issuer.send_credential(connection_id, size4_schema_id, size4_cred_def_id, credential_attributes)"
   ]
  },
  {
   "cell_type": "code",
   "execution_count": 14,
   "id": "3fc96574",
   "metadata": {},
   "outputs": [],
   "source": [
    "credential_attributes = [\n",
    "    {\"name\": \"image\", \"value\": 64*1024*\"0\"},\n",
    "]\n",
    "response = await agent_controller.issuer.send_credential(connection_id, size5_schema_id, size5_cred_def_id, credential_attributes)"
   ]
  },
  {
   "cell_type": "code",
   "execution_count": 15,
   "id": "10a7e555",
   "metadata": {},
   "outputs": [],
   "source": [
    "credential_attributes = [\n",
    "    {\"name\": \"image\", \"value\": 128*1024*\"0\"},\n",
    "]\n",
    "response = await agent_controller.issuer.send_credential(connection_id, size6_schema_id, size6_cred_def_id, credential_attributes)"
   ]
  },
  {
   "cell_type": "code",
   "execution_count": 16,
   "id": "18344a10",
   "metadata": {},
   "outputs": [],
   "source": [
    "credential_attributes = [\n",
    "    {\"name\": \"image\", \"value\": 256*1024*\"0\"},\n",
    "]\n",
    "response = await agent_controller.issuer.send_credential(connection_id, size7_schema_id, size7_cred_def_id, credential_attributes)"
   ]
  },
  {
   "cell_type": "code",
   "execution_count": 17,
   "id": "d5a7cad1",
   "metadata": {},
   "outputs": [],
   "source": [
    "credential_attributes = [\n",
    "    {\"name\": \"image\", \"value\": 128*\"0\"},\n",
    "]\n",
    "response = await agent_controller.issuer.send_credential(connection_id, size1_schema_id, size1_rev_cred_def_id, credential_attributes)"
   ]
  },
  {
   "cell_type": "code",
   "execution_count": 18,
   "id": "468bec9a",
   "metadata": {},
   "outputs": [],
   "source": [
    "credential_attributes = [\n",
    "    {\"name\": \"image\", \"value\": 512*\"0\"},\n",
    "]\n",
    "response = await agent_controller.issuer.send_credential(connection_id, size2_schema_id, size2_rev_cred_def_id, credential_attributes)"
   ]
  },
  {
   "cell_type": "code",
   "execution_count": 19,
   "id": "c6bb0484",
   "metadata": {},
   "outputs": [],
   "source": [
    "credential_attributes = [\n",
    "    {\"name\": \"image\", \"value\": 1024*\"0\"},\n",
    "]\n",
    "response = await agent_controller.issuer.send_credential(connection_id, size3_schema_id, size3_rev_cred_def_id, credential_attributes)"
   ]
  },
  {
   "cell_type": "code",
   "execution_count": 20,
   "id": "d3e18124",
   "metadata": {},
   "outputs": [],
   "source": [
    "credential_attributes = [\n",
    "    {\"name\": \"image\", \"value\": 16*1024*\"0\"},\n",
    "]\n",
    "response = await agent_controller.issuer.send_credential(connection_id, size4_schema_id, size4_rev_cred_def_id, credential_attributes)"
   ]
  },
  {
   "cell_type": "code",
   "execution_count": 21,
   "id": "960096b9",
   "metadata": {},
   "outputs": [],
   "source": [
    "credential_attributes = [\n",
    "    {\"name\": \"image\", \"value\": 64*1024*\"0\"},\n",
    "]\n",
    "response = await agent_controller.issuer.send_credential(connection_id, size5_schema_id, size5_rev_cred_def_id, credential_attributes)"
   ]
  },
  {
   "cell_type": "code",
   "execution_count": 22,
   "id": "34f67a74",
   "metadata": {},
   "outputs": [],
   "source": [
    "credential_attributes = [\n",
    "    {\"name\": \"image\", \"value\": 128*1024*\"0\"},\n",
    "]\n",
    "response = await agent_controller.issuer.send_credential(connection_id, size6_schema_id, size6_rev_cred_def_id, credential_attributes)"
   ]
  },
  {
   "cell_type": "code",
   "execution_count": 23,
   "id": "42d31c18",
   "metadata": {},
   "outputs": [],
   "source": [
    "credential_attributes = [\n",
    "    {\"name\": \"image\", \"value\": 256*1024*\"0\"},\n",
    "]\n",
    "response = await agent_controller.issuer.send_credential(connection_id, size7_schema_id, size7_rev_cred_def_id, credential_attributes)"
   ]
  },
  {
   "cell_type": "markdown",
   "id": "2f181fb9",
   "metadata": {},
   "source": [
    "# Variable Attribute Number Credentials"
   ]
  },
  {
   "cell_type": "markdown",
   "id": "d516ffa8",
   "metadata": {},
   "source": [
    "## Store Issuing Schema and Cred Def Identifiers\n",
    "\n",
    "If you intend for this agent to issue credentials you should first initialise your agent as an issuer and author the relevant identifiers to the public ledger. The issuer_initialisation recipe notebook can be duplicated and used as a starting point.\n",
    "\n",
    "Once schema and cred def identifiers are created copy across and store in variables as illustrated in the cell below. Be sure to use unique names for each variable."
   ]
  },
  {
   "cell_type": "code",
   "execution_count": 24,
   "id": "8ed8990c",
   "metadata": {},
   "outputs": [],
   "source": [
    "one_schema_id='H7zAaLJRZrdbPqbVMMfL5t:2:one-attrib:0.0.2'\n",
    "one_cred_def_id='H7zAaLJRZrdbPqbVMMfL5t:3:CL:15:default'\n",
    "one_rev_cred_def_id='H7zAaLJRZrdbPqbVMMfL5t:3:CL:15:revocable'\n",
    "\n",
    "five_schema_id='H7zAaLJRZrdbPqbVMMfL5t:2:five-attrib:0.0.1'\n",
    "five_cred_def_id='H7zAaLJRZrdbPqbVMMfL5t:3:CL:16:default'\n",
    "five_rev_cred_def_id='H7zAaLJRZrdbPqbVMMfL5t:3:CL:16:revocable'\n",
    "\n",
    "ten_schema_id='H7zAaLJRZrdbPqbVMMfL5t:2:ten-attrib:0.0.1'\n",
    "ten_cred_def_id='H7zAaLJRZrdbPqbVMMfL5t:3:CL:17:default'\n",
    "ten_rev_cred_def_id='H7zAaLJRZrdbPqbVMMfL5t:3:CL:17:revocable'\n",
    "\n",
    "twenty_schema_id='H7zAaLJRZrdbPqbVMMfL5t:2:twenty-attrib:0.0.1'\n",
    "twenty_cred_def_id='H7zAaLJRZrdbPqbVMMfL5t:3:CL:18:default'\n",
    "twenty_rev_cred_def_id='H7zAaLJRZrdbPqbVMMfL5t:3:CL:18:revocable'\n",
    "\n",
    "fifty_schema_id='H7zAaLJRZrdbPqbVMMfL5t:2:fifty-attrib:0.0.1'\n",
    "fifty_cred_def_id='H7zAaLJRZrdbPqbVMMfL5t:3:CL:19:default'\n",
    "fifty_rev_cred_def_id='H7zAaLJRZrdbPqbVMMfL5t:3:CL:19:revocable'\n",
    "\n",
    "hundred_schema_id='H7zAaLJRZrdbPqbVMMfL5t:2:hundred-attrib:0.0.1'\n",
    "hundred_cred_def_id='H7zAaLJRZrdbPqbVMMfL5t:3:CL:20:default'\n",
    "hundred_rev_cred_def_id='H7zAaLJRZrdbPqbVMMfL5t:3:CL:20:revocable'\n",
    "\n",
    "\n",
    "\n",
    "\n"
   ]
  },
  {
   "cell_type": "markdown",
   "id": "77e0dbf2",
   "metadata": {},
   "source": [
    "## Issue Credentials"
   ]
  },
  {
   "cell_type": "code",
   "execution_count": 25,
   "id": "cc91f92e",
   "metadata": {},
   "outputs": [],
   "source": [
    "credential_attributes = [\n",
    "    {\"name\": \"1\", \"value\":32*\"0\"}\n",
    "]\n",
    "response = await agent_controller.issuer.send_credential(connection_id, one_schema_id, one_cred_def_id, credential_attributes)"
   ]
  },
  {
   "cell_type": "code",
   "execution_count": 26,
   "id": "19bc9e6f",
   "metadata": {},
   "outputs": [],
   "source": [
    "credential_attributes = []\n",
    "\n",
    "for x in range(1,6):\n",
    "    attribute = {\"name\": str(x), \"value\": 32*\"0\"}\n",
    "    credential_attributes.append(attribute)\n",
    "response = await agent_controller.issuer.send_credential(connection_id, five_schema_id, five_cred_def_id, credential_attributes)"
   ]
  },
  {
   "cell_type": "code",
   "execution_count": 27,
   "id": "a5deee91",
   "metadata": {},
   "outputs": [],
   "source": [
    "credential_attributes = []\n",
    "\n",
    "for x in range(1,11):\n",
    "    attribute = {\"name\": str(x), \"value\": 32*\"0\"}\n",
    "    credential_attributes.append(attribute)\n",
    "response = await agent_controller.issuer.send_credential(connection_id, ten_schema_id, ten_cred_def_id, credential_attributes)"
   ]
  },
  {
   "cell_type": "code",
   "execution_count": 28,
   "id": "6d231827",
   "metadata": {},
   "outputs": [],
   "source": [
    "credential_attributes = []\n",
    "\n",
    "for x in range(1,21):\n",
    "    attribute = {\"name\": str(x), \"value\": 32*\"0\"}\n",
    "    credential_attributes.append(attribute)\n",
    "response = await agent_controller.issuer.send_credential(connection_id, twenty_schema_id, twenty_cred_def_id, credential_attributes)"
   ]
  },
  {
   "cell_type": "code",
   "execution_count": 29,
   "id": "a46d8b2b",
   "metadata": {},
   "outputs": [],
   "source": [
    "credential_attributes = []\n",
    "\n",
    "for x in range(1,51):\n",
    "    attribute = {\"name\": str(x), \"value\": 32*\"0\"}\n",
    "    credential_attributes.append(attribute)\n",
    "response = await agent_controller.issuer.send_credential(connection_id, fifty_schema_id, fifty_cred_def_id, credential_attributes)"
   ]
  },
  {
   "cell_type": "code",
   "execution_count": 30,
   "id": "2e7cb57b",
   "metadata": {},
   "outputs": [],
   "source": [
    "credential_attributes = []\n",
    "\n",
    "for x in range(1,101):\n",
    "    attribute = {\"name\": str(x), \"value\": 32*\"0\"}\n",
    "    credential_attributes.append(attribute)\n",
    "response = await agent_controller.issuer.send_credential(connection_id, hundred_schema_id, hundred_cred_def_id, credential_attributes)"
   ]
  },
  {
   "cell_type": "code",
   "execution_count": 31,
   "id": "07f5b6ee",
   "metadata": {},
   "outputs": [],
   "source": [
    "credential_attributes = [\n",
    "    {\"name\": \"1\", \"value\":32*\"0\"}\n",
    "]\n",
    "response = await agent_controller.issuer.send_credential(connection_id, one_schema_id, one_rev_cred_def_id, credential_attributes)"
   ]
  },
  {
   "cell_type": "code",
   "execution_count": 32,
   "id": "831164fb",
   "metadata": {},
   "outputs": [],
   "source": [
    "credential_attributes = []\n",
    "\n",
    "for x in range(1,6):\n",
    "    attribute = {\"name\": str(x), \"value\": 32*\"0\"}\n",
    "    credential_attributes.append(attribute)\n",
    "response = await agent_controller.issuer.send_credential(connection_id, five_schema_id, five_rev_cred_def_id, credential_attributes)"
   ]
  },
  {
   "cell_type": "code",
   "execution_count": 33,
   "id": "f2f3ba8d",
   "metadata": {},
   "outputs": [],
   "source": [
    "credential_attributes = []\n",
    "\n",
    "for x in range(1,11):\n",
    "    attribute = {\"name\": str(x), \"value\": 32*\"0\"}\n",
    "    credential_attributes.append(attribute)\n",
    "response = await agent_controller.issuer.send_credential(connection_id, ten_schema_id, ten_rev_cred_def_id, credential_attributes)"
   ]
  },
  {
   "cell_type": "code",
   "execution_count": 34,
   "id": "ae678096",
   "metadata": {},
   "outputs": [],
   "source": [
    "credential_attributes = []\n",
    "\n",
    "for x in range(1,21):\n",
    "    attribute = {\"name\": str(x), \"value\": 32*\"0\"}\n",
    "    credential_attributes.append(attribute)\n",
    "response = await agent_controller.issuer.send_credential(connection_id, twenty_schema_id, twenty_rev_cred_def_id, credential_attributes)"
   ]
  },
  {
   "cell_type": "code",
   "execution_count": 35,
   "id": "08e09116",
   "metadata": {},
   "outputs": [],
   "source": [
    "credential_attributes = []\n",
    "\n",
    "for x in range(1,51):\n",
    "    attribute = {\"name\": str(x), \"value\": 32*\"0\"}\n",
    "    credential_attributes.append(attribute)\n",
    "response = await agent_controller.issuer.send_credential(connection_id, fifty_schema_id, fifty_rev_cred_def_id, credential_attributes)"
   ]
  },
  {
   "cell_type": "code",
   "execution_count": 36,
   "id": "c423eb07",
   "metadata": {},
   "outputs": [],
   "source": [
    "credential_attributes = []\n",
    "\n",
    "for x in range(1,101):\n",
    "    attribute = {\"name\": str(x), \"value\": 32*\"0\"}\n",
    "    credential_attributes.append(attribute)\n",
    "response = await agent_controller.issuer.send_credential(connection_id, hundred_schema_id, hundred_rev_cred_def_id, credential_attributes)"
   ]
  },
  {
   "cell_type": "markdown",
   "id": "639f2446",
   "metadata": {},
   "source": [
    "# Same Number Attribute Variable Credentials Credentials"
   ]
  },
  {
   "cell_type": "markdown",
   "id": "ff5a5419",
   "metadata": {},
   "source": [
    "## Store Issuing Schema and Cred Def Identifiers\n",
    "\n",
    "If you intend for this agent to issue credentials you should first initialise your agent as an issuer and author the relevant identifiers to the public ledger. The issuer_initialisation recipe notebook can be duplicated and used as a starting point.\n",
    "\n",
    "Once schema and cred def identifiers are created copy across and store in variables as illustrated in the cell below. Be sure to use unique names for each variable."
   ]
  },
  {
   "cell_type": "code",
   "execution_count": 37,
   "id": "180accd0",
   "metadata": {},
   "outputs": [],
   "source": [
    "five1_schema_id='H7zAaLJRZrdbPqbVMMfL5t:2:five-one:0.0.1'\n",
    "five1_cred_def_id='H7zAaLJRZrdbPqbVMMfL5t:3:CL:21:default'\n",
    "five1_rev_cred_def_id='H7zAaLJRZrdbPqbVMMfL5t:3:CL:21:revocable'\n",
    "\n",
    "five2_schema_id='H7zAaLJRZrdbPqbVMMfL5t:2:five-two:0.0.1'\n",
    "five2_cred_def_id='H7zAaLJRZrdbPqbVMMfL5t:3:CL:22:default'\n",
    "five2_rev_cred_def_id='H7zAaLJRZrdbPqbVMMfL5t:3:CL:22:revocable'\n",
    "\n",
    "five3_schema_id='H7zAaLJRZrdbPqbVMMfL5t:2:five-three:0.0.1'\n",
    "five3_cred_def_id='H7zAaLJRZrdbPqbVMMfL5t:3:CL:23:default'\n",
    "five3_rev_cred_def_id='H7zAaLJRZrdbPqbVMMfL5t:3:CL:23:revocable'\n",
    "\n",
    "five4_schema_id='H7zAaLJRZrdbPqbVMMfL5t:2:five-four:0.0.1'\n",
    "five4_cred_def_id='H7zAaLJRZrdbPqbVMMfL5t:3:CL:24:default'\n",
    "five4_rev_cred_def_id='H7zAaLJRZrdbPqbVMMfL5t:3:CL:24:revocable'\n",
    "\n",
    "five5_schema_id='H7zAaLJRZrdbPqbVMMfL5t:2:five-five:0.0.1'\n",
    "five5_cred_def_id='H7zAaLJRZrdbPqbVMMfL5t:3:CL:25:default'\n",
    "five5_rev_cred_def_id='H7zAaLJRZrdbPqbVMMfL5t:3:CL:25:revocable'\n",
    "\n",
    "\n",
    "\n"
   ]
  },
  {
   "cell_type": "markdown",
   "id": "abf858fd",
   "metadata": {},
   "source": [
    "## Issue Credentials"
   ]
  },
  {
   "cell_type": "code",
   "execution_count": 38,
   "id": "122018d2",
   "metadata": {},
   "outputs": [],
   "source": [
    "credential_attributes = []\n",
    "\n",
    "for x in range(1,6):\n",
    "    attribute = {\"name\": str(x), \"value\": 32*\"0\"}\n",
    "    credential_attributes.append(attribute)"
   ]
  },
  {
   "cell_type": "code",
   "execution_count": 39,
   "id": "eadbcbe1",
   "metadata": {},
   "outputs": [],
   "source": [
    "\n",
    "response = await agent_controller.issuer.send_credential(connection_id, five1_schema_id, five1_cred_def_id, credential_attributes)\n",
    "response = await agent_controller.issuer.send_credential(connection_id, five1_schema_id, five1_rev_cred_def_id, credential_attributes)"
   ]
  },
  {
   "cell_type": "code",
   "execution_count": 40,
   "id": "4f908a74",
   "metadata": {},
   "outputs": [],
   "source": [
    "response = await agent_controller.issuer.send_credential(connection_id, five2_schema_id, five2_cred_def_id, credential_attributes)\n",
    "response = await agent_controller.issuer.send_credential(connection_id, five2_schema_id, five2_rev_cred_def_id, credential_attributes)"
   ]
  },
  {
   "cell_type": "code",
   "execution_count": 41,
   "id": "f7be827f",
   "metadata": {},
   "outputs": [],
   "source": [
    "response = await agent_controller.issuer.send_credential(connection_id, five3_schema_id, five3_cred_def_id, credential_attributes)\n",
    "response = await agent_controller.issuer.send_credential(connection_id, five3_schema_id, five3_rev_cred_def_id, credential_attributes)"
   ]
  },
  {
   "cell_type": "code",
   "execution_count": 42,
   "id": "e402ca46",
   "metadata": {},
   "outputs": [],
   "source": [
    "response = await agent_controller.issuer.send_credential(connection_id, five4_schema_id, five4_cred_def_id, credential_attributes)\n",
    "response = await agent_controller.issuer.send_credential(connection_id, five4_schema_id, five4_rev_cred_def_id, credential_attributes)"
   ]
  },
  {
   "cell_type": "code",
   "execution_count": 43,
   "id": "4f0c3a49",
   "metadata": {},
   "outputs": [],
   "source": [
    "response = await agent_controller.issuer.send_credential(connection_id, five5_schema_id, five5_cred_def_id, credential_attributes)\n",
    "response = await agent_controller.issuer.send_credential(connection_id, five5_schema_id, five5_rev_cred_def_id, credential_attributes)"
   ]
  },
  {
   "cell_type": "markdown",
   "id": "e5daa0f0",
   "metadata": {},
   "source": [
    "## Terminate Controller\n",
    "\n",
    "Whenever you have finished with this notebook, be sure to terminate the controller. This is especially important if your business logic runs across multiple notebooks."
   ]
  },
  {
   "cell_type": "code",
   "execution_count": 16,
   "id": "a6354a1e",
   "metadata": {},
   "outputs": [],
   "source": [
    "await agent_controller.terminate()"
   ]
  },
  {
   "cell_type": "code",
   "execution_count": null,
   "id": "0917b9db",
   "metadata": {},
   "outputs": [],
   "source": []
  }
 ],
 "metadata": {
  "kernelspec": {
   "display_name": "Python 3",
   "language": "python",
   "name": "python3"
  },
  "language_info": {
   "codemirror_mode": {
    "name": "ipython",
    "version": 3
   },
   "file_extension": ".py",
   "mimetype": "text/x-python",
   "name": "python",
   "nbconvert_exporter": "python",
   "pygments_lexer": "ipython3",
   "version": "3.7.6"
  }
 },
 "nbformat": 4,
 "nbformat_minor": 5
}
